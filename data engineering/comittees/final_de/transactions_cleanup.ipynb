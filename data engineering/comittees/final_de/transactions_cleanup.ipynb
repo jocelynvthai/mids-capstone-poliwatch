{
 "cells": [
  {
   "cell_type": "code",
   "execution_count": 136,
   "id": "initial_id",
   "metadata": {
    "collapsed": true,
    "ExecuteTime": {
     "end_time": "2023-11-30T07:13:10.948774Z",
     "start_time": "2023-11-30T07:13:10.937901Z"
    }
   },
   "outputs": [],
   "source": [
    "import pandas as pd\n",
    "import nameparser\n",
    "import json\n",
    "import requests\n",
    "import numpy as np\n",
    "import uuid\n",
    "\n",
    "pro_publica_api_key = \"PguHImFJakafbsBpZ2ed21A1HIgvXKiM7tg0BqI0 \"\n",
    "headers = {'X-API-Key': pro_publica_api_key}"
   ]
  },
  {
   "cell_type": "code",
   "execution_count": 137,
   "outputs": [
    {
     "data": {
      "text/plain": "      disclosure_date transaction_date  owner ticker  \\\n0          10/04/2021       2021-09-27  joint     BP   \n1          10/04/2021       2021-09-13  joint    XOM   \n2          10/04/2021       2021-09-10  joint   ILPT   \n3          10/04/2021       2021-09-28  joint     PM   \n4          10/04/2021       2021-09-17   self    BLK   \n...               ...              ...    ...    ...   \n24136      08/17/2012       08/17/2012    NaN    NaN   \n24137      08/16/2012       08/16/2012    NaN    NaN   \n24138      08/15/2012       08/15/2012    NaN    NaN   \n24139      08/02/2012       08/02/2012    NaN    NaN   \n24140      07/25/2012       07/25/2012    NaN    NaN   \n\n                                       asset_description          type  \\\n0                                                 BP plc      purchase   \n1                                Exxon Mobil Corporation      purchase   \n2      Industrial Logistics Properties Trust - Common...      purchase   \n3                       Phillip Morris International Inc      purchase   \n4                                          BlackRock Inc  sale_partial   \n...                                                  ...           ...   \n24136  This filing was disclosed via scanned PDF. Use...           NaN   \n24137  This filing was disclosed via scanned PDF. Use...           NaN   \n24138  This filing was disclosed via scanned PDF. Use...           NaN   \n24139  This filing was disclosed via scanned PDF. Use...           NaN   \n24140  This filing was disclosed via scanned PDF. Use...           NaN   \n\n                  amount              member district state  ...  \\\n0       $1,001 - $15,000       virginia foxx     NC05    NC  ...   \n1       $1,001 - $15,000       virginia foxx     NC05    NC  ...   \n2      $15,001 - $50,000       virginia foxx     NC05    NC  ...   \n3      $15,001 - $50,000       virginia foxx     NC05    NC  ...   \n4       $1,001 - $15,000   alan s. lowenthal     CA47    CA  ...   \n...                  ...                 ...      ...   ...  ...   \n24136            Unknown  sheldon whitehouse      NaN   NaN  ...   \n24137            Unknown         pat roberts      NaN   NaN  ...   \n24138            Unknown         rob portman      NaN   NaN  ...   \n24139            Unknown    thomas r. carper      NaN   NaN  ...   \n24140            Unknown   benjamin l cardin      NaN   NaN  ...   \n\n                 asset_type comment     member_type amount_formatted  \\\n0                       NaN     NaN  representative           1000.0   \n1                       NaN     NaN  representative           1000.0   \n2                       NaN     NaN  representative          15000.0   \n3                       NaN     NaN  representative          15000.0   \n4                       NaN     NaN  representative           1000.0   \n...                     ...     ...             ...              ...   \n24136  PDF Disclosed Filing     NaN         senator              NaN   \n24137  PDF Disclosed Filing     NaN         senator              NaN   \n24138  PDF Disclosed Filing     NaN         senator              NaN   \n24139  PDF Disclosed Filing     NaN         senator              NaN   \n24140  PDF Disclosed Filing     NaN         senator              NaN   \n\n              parsed_name first_name   last_name         string_name  \\\n0           virginia foxx   virginia        foxx       virginia foxx   \n1           virginia foxx   virginia        foxx       virginia foxx   \n2           virginia foxx   virginia        foxx       virginia foxx   \n3           virginia foxx   virginia        foxx       virginia foxx   \n4       alan s. lowenthal       alan   lowenthal      alan lowenthal   \n...                   ...        ...         ...                 ...   \n24136  sheldon whitehouse    sheldon  whitehouse  sheldon whitehouse   \n24137         pat roberts        pat     roberts         pat roberts   \n24138         rob portman        rob     portman         rob portman   \n24139    thomas r. carper     thomas      carper       thomas carper   \n24140   benjamin l cardin   benjamin      cardin     benjamin cardin   \n\n                                       uuid trans_date_copy  \n0      d26ea489-c709-46b1-945f-dee67734f3fe      2021-09-27  \n1      8176d596-bc5f-44e7-8ada-80e9ed20f207      2021-09-13  \n2      e52a6e63-bf07-48b6-9b73-30a1326c5953      2021-09-10  \n3      9606c92d-e6eb-4bad-84f0-4ca8037e8226      2021-09-28  \n4      5536c9a3-f45b-440b-99d2-b10754dde496      2021-09-17  \n...                                     ...             ...  \n24136  769240b2-1b19-4d92-b827-08e01b497196      08/17/2012  \n24137  4806d662-8bd0-455f-95c4-3c506cb9d547      08/16/2012  \n24138  29027e98-0fd3-4929-88f3-29fb630db7b7      08/15/2012  \n24139  52d2161f-2533-4264-a917-e30f3a6f395e      08/02/2012  \n24140  41b6cc65-20e8-4251-8315-91c57e0ffb79      07/25/2012  \n\n[24141 rows x 25 columns]",
      "text/html": "<div>\n<style scoped>\n    .dataframe tbody tr th:only-of-type {\n        vertical-align: middle;\n    }\n\n    .dataframe tbody tr th {\n        vertical-align: top;\n    }\n\n    .dataframe thead th {\n        text-align: right;\n    }\n</style>\n<table border=\"1\" class=\"dataframe\">\n  <thead>\n    <tr style=\"text-align: right;\">\n      <th></th>\n      <th>disclosure_date</th>\n      <th>transaction_date</th>\n      <th>owner</th>\n      <th>ticker</th>\n      <th>asset_description</th>\n      <th>type</th>\n      <th>amount</th>\n      <th>member</th>\n      <th>district</th>\n      <th>state</th>\n      <th>...</th>\n      <th>asset_type</th>\n      <th>comment</th>\n      <th>member_type</th>\n      <th>amount_formatted</th>\n      <th>parsed_name</th>\n      <th>first_name</th>\n      <th>last_name</th>\n      <th>string_name</th>\n      <th>uuid</th>\n      <th>trans_date_copy</th>\n    </tr>\n  </thead>\n  <tbody>\n    <tr>\n      <th>0</th>\n      <td>10/04/2021</td>\n      <td>2021-09-27</td>\n      <td>joint</td>\n      <td>BP</td>\n      <td>BP plc</td>\n      <td>purchase</td>\n      <td>$1,001 - $15,000</td>\n      <td>virginia foxx</td>\n      <td>NC05</td>\n      <td>NC</td>\n      <td>...</td>\n      <td>NaN</td>\n      <td>NaN</td>\n      <td>representative</td>\n      <td>1000.0</td>\n      <td>virginia foxx</td>\n      <td>virginia</td>\n      <td>foxx</td>\n      <td>virginia foxx</td>\n      <td>d26ea489-c709-46b1-945f-dee67734f3fe</td>\n      <td>2021-09-27</td>\n    </tr>\n    <tr>\n      <th>1</th>\n      <td>10/04/2021</td>\n      <td>2021-09-13</td>\n      <td>joint</td>\n      <td>XOM</td>\n      <td>Exxon Mobil Corporation</td>\n      <td>purchase</td>\n      <td>$1,001 - $15,000</td>\n      <td>virginia foxx</td>\n      <td>NC05</td>\n      <td>NC</td>\n      <td>...</td>\n      <td>NaN</td>\n      <td>NaN</td>\n      <td>representative</td>\n      <td>1000.0</td>\n      <td>virginia foxx</td>\n      <td>virginia</td>\n      <td>foxx</td>\n      <td>virginia foxx</td>\n      <td>8176d596-bc5f-44e7-8ada-80e9ed20f207</td>\n      <td>2021-09-13</td>\n    </tr>\n    <tr>\n      <th>2</th>\n      <td>10/04/2021</td>\n      <td>2021-09-10</td>\n      <td>joint</td>\n      <td>ILPT</td>\n      <td>Industrial Logistics Properties Trust - Common...</td>\n      <td>purchase</td>\n      <td>$15,001 - $50,000</td>\n      <td>virginia foxx</td>\n      <td>NC05</td>\n      <td>NC</td>\n      <td>...</td>\n      <td>NaN</td>\n      <td>NaN</td>\n      <td>representative</td>\n      <td>15000.0</td>\n      <td>virginia foxx</td>\n      <td>virginia</td>\n      <td>foxx</td>\n      <td>virginia foxx</td>\n      <td>e52a6e63-bf07-48b6-9b73-30a1326c5953</td>\n      <td>2021-09-10</td>\n    </tr>\n    <tr>\n      <th>3</th>\n      <td>10/04/2021</td>\n      <td>2021-09-28</td>\n      <td>joint</td>\n      <td>PM</td>\n      <td>Phillip Morris International Inc</td>\n      <td>purchase</td>\n      <td>$15,001 - $50,000</td>\n      <td>virginia foxx</td>\n      <td>NC05</td>\n      <td>NC</td>\n      <td>...</td>\n      <td>NaN</td>\n      <td>NaN</td>\n      <td>representative</td>\n      <td>15000.0</td>\n      <td>virginia foxx</td>\n      <td>virginia</td>\n      <td>foxx</td>\n      <td>virginia foxx</td>\n      <td>9606c92d-e6eb-4bad-84f0-4ca8037e8226</td>\n      <td>2021-09-28</td>\n    </tr>\n    <tr>\n      <th>4</th>\n      <td>10/04/2021</td>\n      <td>2021-09-17</td>\n      <td>self</td>\n      <td>BLK</td>\n      <td>BlackRock Inc</td>\n      <td>sale_partial</td>\n      <td>$1,001 - $15,000</td>\n      <td>alan s. lowenthal</td>\n      <td>CA47</td>\n      <td>CA</td>\n      <td>...</td>\n      <td>NaN</td>\n      <td>NaN</td>\n      <td>representative</td>\n      <td>1000.0</td>\n      <td>alan s. lowenthal</td>\n      <td>alan</td>\n      <td>lowenthal</td>\n      <td>alan lowenthal</td>\n      <td>5536c9a3-f45b-440b-99d2-b10754dde496</td>\n      <td>2021-09-17</td>\n    </tr>\n    <tr>\n      <th>...</th>\n      <td>...</td>\n      <td>...</td>\n      <td>...</td>\n      <td>...</td>\n      <td>...</td>\n      <td>...</td>\n      <td>...</td>\n      <td>...</td>\n      <td>...</td>\n      <td>...</td>\n      <td>...</td>\n      <td>...</td>\n      <td>...</td>\n      <td>...</td>\n      <td>...</td>\n      <td>...</td>\n      <td>...</td>\n      <td>...</td>\n      <td>...</td>\n      <td>...</td>\n      <td>...</td>\n    </tr>\n    <tr>\n      <th>24136</th>\n      <td>08/17/2012</td>\n      <td>08/17/2012</td>\n      <td>NaN</td>\n      <td>NaN</td>\n      <td>This filing was disclosed via scanned PDF. Use...</td>\n      <td>NaN</td>\n      <td>Unknown</td>\n      <td>sheldon whitehouse</td>\n      <td>NaN</td>\n      <td>NaN</td>\n      <td>...</td>\n      <td>PDF Disclosed Filing</td>\n      <td>NaN</td>\n      <td>senator</td>\n      <td>NaN</td>\n      <td>sheldon whitehouse</td>\n      <td>sheldon</td>\n      <td>whitehouse</td>\n      <td>sheldon whitehouse</td>\n      <td>769240b2-1b19-4d92-b827-08e01b497196</td>\n      <td>08/17/2012</td>\n    </tr>\n    <tr>\n      <th>24137</th>\n      <td>08/16/2012</td>\n      <td>08/16/2012</td>\n      <td>NaN</td>\n      <td>NaN</td>\n      <td>This filing was disclosed via scanned PDF. Use...</td>\n      <td>NaN</td>\n      <td>Unknown</td>\n      <td>pat roberts</td>\n      <td>NaN</td>\n      <td>NaN</td>\n      <td>...</td>\n      <td>PDF Disclosed Filing</td>\n      <td>NaN</td>\n      <td>senator</td>\n      <td>NaN</td>\n      <td>pat roberts</td>\n      <td>pat</td>\n      <td>roberts</td>\n      <td>pat roberts</td>\n      <td>4806d662-8bd0-455f-95c4-3c506cb9d547</td>\n      <td>08/16/2012</td>\n    </tr>\n    <tr>\n      <th>24138</th>\n      <td>08/15/2012</td>\n      <td>08/15/2012</td>\n      <td>NaN</td>\n      <td>NaN</td>\n      <td>This filing was disclosed via scanned PDF. Use...</td>\n      <td>NaN</td>\n      <td>Unknown</td>\n      <td>rob portman</td>\n      <td>NaN</td>\n      <td>NaN</td>\n      <td>...</td>\n      <td>PDF Disclosed Filing</td>\n      <td>NaN</td>\n      <td>senator</td>\n      <td>NaN</td>\n      <td>rob portman</td>\n      <td>rob</td>\n      <td>portman</td>\n      <td>rob portman</td>\n      <td>29027e98-0fd3-4929-88f3-29fb630db7b7</td>\n      <td>08/15/2012</td>\n    </tr>\n    <tr>\n      <th>24139</th>\n      <td>08/02/2012</td>\n      <td>08/02/2012</td>\n      <td>NaN</td>\n      <td>NaN</td>\n      <td>This filing was disclosed via scanned PDF. Use...</td>\n      <td>NaN</td>\n      <td>Unknown</td>\n      <td>thomas r. carper</td>\n      <td>NaN</td>\n      <td>NaN</td>\n      <td>...</td>\n      <td>PDF Disclosed Filing</td>\n      <td>NaN</td>\n      <td>senator</td>\n      <td>NaN</td>\n      <td>thomas r. carper</td>\n      <td>thomas</td>\n      <td>carper</td>\n      <td>thomas carper</td>\n      <td>52d2161f-2533-4264-a917-e30f3a6f395e</td>\n      <td>08/02/2012</td>\n    </tr>\n    <tr>\n      <th>24140</th>\n      <td>07/25/2012</td>\n      <td>07/25/2012</td>\n      <td>NaN</td>\n      <td>NaN</td>\n      <td>This filing was disclosed via scanned PDF. Use...</td>\n      <td>NaN</td>\n      <td>Unknown</td>\n      <td>benjamin l cardin</td>\n      <td>NaN</td>\n      <td>NaN</td>\n      <td>...</td>\n      <td>PDF Disclosed Filing</td>\n      <td>NaN</td>\n      <td>senator</td>\n      <td>NaN</td>\n      <td>benjamin l cardin</td>\n      <td>benjamin</td>\n      <td>cardin</td>\n      <td>benjamin cardin</td>\n      <td>41b6cc65-20e8-4251-8315-91c57e0ffb79</td>\n      <td>07/25/2012</td>\n    </tr>\n  </tbody>\n</table>\n<p>24141 rows × 25 columns</p>\n</div>"
     },
     "execution_count": 137,
     "metadata": {},
     "output_type": "execute_result"
    }
   ],
   "source": [
    "trans = pd.read_csv('../../data/transactions_20231018.csv')\n",
    "trans['member'] = trans['member'].str.lower()\n",
    "trans['parsed_name'] = trans['member'].apply(lambda x: nameparser.HumanName(x))\n",
    "trans['first_name'] = trans['parsed_name'].apply(lambda x: x.first)\n",
    "trans['last_name'] = trans['parsed_name'].apply(lambda x: x.last)\n",
    "trans['string_name'] = trans['first_name'] + ' ' + trans['last_name']\n",
    "trans['uuid'] = trans.apply(lambda _: uuid.uuid4(), axis=1)\n",
    "trans['trans_date_copy'] = trans['transaction_date']\n",
    "\n",
    "trans"
   ],
   "metadata": {
    "collapsed": false,
    "ExecuteTime": {
     "end_time": "2023-11-30T07:13:12.476719Z",
     "start_time": "2023-11-30T07:13:11.170171Z"
    }
   },
   "id": "59ca5e27ac33e113"
  },
  {
   "cell_type": "code",
   "execution_count": 138,
   "outputs": [
    {
     "data": {
      "text/plain": "      disclosure_date transaction_date  owner ticker  \\\n0          10/04/2021       2021-09-27  joint     BP   \n1          10/04/2021       2021-09-13  joint    XOM   \n2          10/04/2021       2021-09-10  joint   ILPT   \n3          10/04/2021       2021-09-28  joint     PM   \n4          10/04/2021       2021-09-17   self    BLK   \n...               ...              ...    ...    ...   \n24136      08/17/2012              NaT    NaN    NaN   \n24137      08/16/2012              NaT    NaN    NaN   \n24138      08/15/2012              NaT    NaN    NaN   \n24139      08/02/2012              NaT    NaN    NaN   \n24140      07/25/2012              NaT    NaN    NaN   \n\n                                       asset_description          type  \\\n0                                                 BP plc      purchase   \n1                                Exxon Mobil Corporation      purchase   \n2      Industrial Logistics Properties Trust - Common...      purchase   \n3                       Phillip Morris International Inc      purchase   \n4                                          BlackRock Inc  sale_partial   \n...                                                  ...           ...   \n24136  This filing was disclosed via scanned PDF. Use...           NaN   \n24137  This filing was disclosed via scanned PDF. Use...           NaN   \n24138  This filing was disclosed via scanned PDF. Use...           NaN   \n24139  This filing was disclosed via scanned PDF. Use...           NaN   \n24140  This filing was disclosed via scanned PDF. Use...           NaN   \n\n                  amount              member district state  ... comment  \\\n0       $1,001 - $15,000       virginia foxx     NC05    NC  ...     NaN   \n1       $1,001 - $15,000       virginia foxx     NC05    NC  ...     NaN   \n2      $15,001 - $50,000       virginia foxx     NC05    NC  ...     NaN   \n3      $15,001 - $50,000       virginia foxx     NC05    NC  ...     NaN   \n4       $1,001 - $15,000   alan s. lowenthal     CA47    CA  ...     NaN   \n...                  ...                 ...      ...   ...  ...     ...   \n24136            Unknown  sheldon whitehouse      NaN   NaN  ...     NaN   \n24137            Unknown         pat roberts      NaN   NaN  ...     NaN   \n24138            Unknown         rob portman      NaN   NaN  ...     NaN   \n24139            Unknown    thomas r. carper      NaN   NaN  ...     NaN   \n24140            Unknown   benjamin l cardin      NaN   NaN  ...     NaN   \n\n          member_type amount_formatted         parsed_name first_name  \\\n0      representative           1000.0       virginia foxx   virginia   \n1      representative           1000.0       virginia foxx   virginia   \n2      representative          15000.0       virginia foxx   virginia   \n3      representative          15000.0       virginia foxx   virginia   \n4      representative           1000.0   alan s. lowenthal       alan   \n...               ...              ...                 ...        ...   \n24136         senator              NaN  sheldon whitehouse    sheldon   \n24137         senator              NaN         pat roberts        pat   \n24138         senator              NaN         rob portman        rob   \n24139         senator              NaN    thomas r. carper     thomas   \n24140         senator              NaN   benjamin l cardin   benjamin   \n\n        last_name         string_name                                  uuid  \\\n0            foxx       virginia foxx  d26ea489-c709-46b1-945f-dee67734f3fe   \n1            foxx       virginia foxx  8176d596-bc5f-44e7-8ada-80e9ed20f207   \n2            foxx       virginia foxx  e52a6e63-bf07-48b6-9b73-30a1326c5953   \n3            foxx       virginia foxx  9606c92d-e6eb-4bad-84f0-4ca8037e8226   \n4       lowenthal      alan lowenthal  5536c9a3-f45b-440b-99d2-b10754dde496   \n...           ...                 ...                                   ...   \n24136  whitehouse  sheldon whitehouse  769240b2-1b19-4d92-b827-08e01b497196   \n24137     roberts         pat roberts  4806d662-8bd0-455f-95c4-3c506cb9d547   \n24138     portman         rob portman  29027e98-0fd3-4929-88f3-29fb630db7b7   \n24139      carper       thomas carper  52d2161f-2533-4264-a917-e30f3a6f395e   \n24140      cardin     benjamin cardin  41b6cc65-20e8-4251-8315-91c57e0ffb79   \n\n       trans_date_copy combined_transaction_date  \n0                  NaT                2021-09-27  \n1                  NaT                2021-09-13  \n2                  NaT                2021-09-10  \n3                  NaT                2021-09-28  \n4                  NaT                2021-09-17  \n...                ...                       ...  \n24136       2012-08-17                2012-08-17  \n24137       2012-08-16                2012-08-16  \n24138       2012-08-15                2012-08-15  \n24139       2012-08-02                2012-08-02  \n24140       2012-07-25                2012-07-25  \n\n[24141 rows x 26 columns]",
      "text/html": "<div>\n<style scoped>\n    .dataframe tbody tr th:only-of-type {\n        vertical-align: middle;\n    }\n\n    .dataframe tbody tr th {\n        vertical-align: top;\n    }\n\n    .dataframe thead th {\n        text-align: right;\n    }\n</style>\n<table border=\"1\" class=\"dataframe\">\n  <thead>\n    <tr style=\"text-align: right;\">\n      <th></th>\n      <th>disclosure_date</th>\n      <th>transaction_date</th>\n      <th>owner</th>\n      <th>ticker</th>\n      <th>asset_description</th>\n      <th>type</th>\n      <th>amount</th>\n      <th>member</th>\n      <th>district</th>\n      <th>state</th>\n      <th>...</th>\n      <th>comment</th>\n      <th>member_type</th>\n      <th>amount_formatted</th>\n      <th>parsed_name</th>\n      <th>first_name</th>\n      <th>last_name</th>\n      <th>string_name</th>\n      <th>uuid</th>\n      <th>trans_date_copy</th>\n      <th>combined_transaction_date</th>\n    </tr>\n  </thead>\n  <tbody>\n    <tr>\n      <th>0</th>\n      <td>10/04/2021</td>\n      <td>2021-09-27</td>\n      <td>joint</td>\n      <td>BP</td>\n      <td>BP plc</td>\n      <td>purchase</td>\n      <td>$1,001 - $15,000</td>\n      <td>virginia foxx</td>\n      <td>NC05</td>\n      <td>NC</td>\n      <td>...</td>\n      <td>NaN</td>\n      <td>representative</td>\n      <td>1000.0</td>\n      <td>virginia foxx</td>\n      <td>virginia</td>\n      <td>foxx</td>\n      <td>virginia foxx</td>\n      <td>d26ea489-c709-46b1-945f-dee67734f3fe</td>\n      <td>NaT</td>\n      <td>2021-09-27</td>\n    </tr>\n    <tr>\n      <th>1</th>\n      <td>10/04/2021</td>\n      <td>2021-09-13</td>\n      <td>joint</td>\n      <td>XOM</td>\n      <td>Exxon Mobil Corporation</td>\n      <td>purchase</td>\n      <td>$1,001 - $15,000</td>\n      <td>virginia foxx</td>\n      <td>NC05</td>\n      <td>NC</td>\n      <td>...</td>\n      <td>NaN</td>\n      <td>representative</td>\n      <td>1000.0</td>\n      <td>virginia foxx</td>\n      <td>virginia</td>\n      <td>foxx</td>\n      <td>virginia foxx</td>\n      <td>8176d596-bc5f-44e7-8ada-80e9ed20f207</td>\n      <td>NaT</td>\n      <td>2021-09-13</td>\n    </tr>\n    <tr>\n      <th>2</th>\n      <td>10/04/2021</td>\n      <td>2021-09-10</td>\n      <td>joint</td>\n      <td>ILPT</td>\n      <td>Industrial Logistics Properties Trust - Common...</td>\n      <td>purchase</td>\n      <td>$15,001 - $50,000</td>\n      <td>virginia foxx</td>\n      <td>NC05</td>\n      <td>NC</td>\n      <td>...</td>\n      <td>NaN</td>\n      <td>representative</td>\n      <td>15000.0</td>\n      <td>virginia foxx</td>\n      <td>virginia</td>\n      <td>foxx</td>\n      <td>virginia foxx</td>\n      <td>e52a6e63-bf07-48b6-9b73-30a1326c5953</td>\n      <td>NaT</td>\n      <td>2021-09-10</td>\n    </tr>\n    <tr>\n      <th>3</th>\n      <td>10/04/2021</td>\n      <td>2021-09-28</td>\n      <td>joint</td>\n      <td>PM</td>\n      <td>Phillip Morris International Inc</td>\n      <td>purchase</td>\n      <td>$15,001 - $50,000</td>\n      <td>virginia foxx</td>\n      <td>NC05</td>\n      <td>NC</td>\n      <td>...</td>\n      <td>NaN</td>\n      <td>representative</td>\n      <td>15000.0</td>\n      <td>virginia foxx</td>\n      <td>virginia</td>\n      <td>foxx</td>\n      <td>virginia foxx</td>\n      <td>9606c92d-e6eb-4bad-84f0-4ca8037e8226</td>\n      <td>NaT</td>\n      <td>2021-09-28</td>\n    </tr>\n    <tr>\n      <th>4</th>\n      <td>10/04/2021</td>\n      <td>2021-09-17</td>\n      <td>self</td>\n      <td>BLK</td>\n      <td>BlackRock Inc</td>\n      <td>sale_partial</td>\n      <td>$1,001 - $15,000</td>\n      <td>alan s. lowenthal</td>\n      <td>CA47</td>\n      <td>CA</td>\n      <td>...</td>\n      <td>NaN</td>\n      <td>representative</td>\n      <td>1000.0</td>\n      <td>alan s. lowenthal</td>\n      <td>alan</td>\n      <td>lowenthal</td>\n      <td>alan lowenthal</td>\n      <td>5536c9a3-f45b-440b-99d2-b10754dde496</td>\n      <td>NaT</td>\n      <td>2021-09-17</td>\n    </tr>\n    <tr>\n      <th>...</th>\n      <td>...</td>\n      <td>...</td>\n      <td>...</td>\n      <td>...</td>\n      <td>...</td>\n      <td>...</td>\n      <td>...</td>\n      <td>...</td>\n      <td>...</td>\n      <td>...</td>\n      <td>...</td>\n      <td>...</td>\n      <td>...</td>\n      <td>...</td>\n      <td>...</td>\n      <td>...</td>\n      <td>...</td>\n      <td>...</td>\n      <td>...</td>\n      <td>...</td>\n      <td>...</td>\n    </tr>\n    <tr>\n      <th>24136</th>\n      <td>08/17/2012</td>\n      <td>NaT</td>\n      <td>NaN</td>\n      <td>NaN</td>\n      <td>This filing was disclosed via scanned PDF. Use...</td>\n      <td>NaN</td>\n      <td>Unknown</td>\n      <td>sheldon whitehouse</td>\n      <td>NaN</td>\n      <td>NaN</td>\n      <td>...</td>\n      <td>NaN</td>\n      <td>senator</td>\n      <td>NaN</td>\n      <td>sheldon whitehouse</td>\n      <td>sheldon</td>\n      <td>whitehouse</td>\n      <td>sheldon whitehouse</td>\n      <td>769240b2-1b19-4d92-b827-08e01b497196</td>\n      <td>2012-08-17</td>\n      <td>2012-08-17</td>\n    </tr>\n    <tr>\n      <th>24137</th>\n      <td>08/16/2012</td>\n      <td>NaT</td>\n      <td>NaN</td>\n      <td>NaN</td>\n      <td>This filing was disclosed via scanned PDF. Use...</td>\n      <td>NaN</td>\n      <td>Unknown</td>\n      <td>pat roberts</td>\n      <td>NaN</td>\n      <td>NaN</td>\n      <td>...</td>\n      <td>NaN</td>\n      <td>senator</td>\n      <td>NaN</td>\n      <td>pat roberts</td>\n      <td>pat</td>\n      <td>roberts</td>\n      <td>pat roberts</td>\n      <td>4806d662-8bd0-455f-95c4-3c506cb9d547</td>\n      <td>2012-08-16</td>\n      <td>2012-08-16</td>\n    </tr>\n    <tr>\n      <th>24138</th>\n      <td>08/15/2012</td>\n      <td>NaT</td>\n      <td>NaN</td>\n      <td>NaN</td>\n      <td>This filing was disclosed via scanned PDF. Use...</td>\n      <td>NaN</td>\n      <td>Unknown</td>\n      <td>rob portman</td>\n      <td>NaN</td>\n      <td>NaN</td>\n      <td>...</td>\n      <td>NaN</td>\n      <td>senator</td>\n      <td>NaN</td>\n      <td>rob portman</td>\n      <td>rob</td>\n      <td>portman</td>\n      <td>rob portman</td>\n      <td>29027e98-0fd3-4929-88f3-29fb630db7b7</td>\n      <td>2012-08-15</td>\n      <td>2012-08-15</td>\n    </tr>\n    <tr>\n      <th>24139</th>\n      <td>08/02/2012</td>\n      <td>NaT</td>\n      <td>NaN</td>\n      <td>NaN</td>\n      <td>This filing was disclosed via scanned PDF. Use...</td>\n      <td>NaN</td>\n      <td>Unknown</td>\n      <td>thomas r. carper</td>\n      <td>NaN</td>\n      <td>NaN</td>\n      <td>...</td>\n      <td>NaN</td>\n      <td>senator</td>\n      <td>NaN</td>\n      <td>thomas r. carper</td>\n      <td>thomas</td>\n      <td>carper</td>\n      <td>thomas carper</td>\n      <td>52d2161f-2533-4264-a917-e30f3a6f395e</td>\n      <td>2012-08-02</td>\n      <td>2012-08-02</td>\n    </tr>\n    <tr>\n      <th>24140</th>\n      <td>07/25/2012</td>\n      <td>NaT</td>\n      <td>NaN</td>\n      <td>NaN</td>\n      <td>This filing was disclosed via scanned PDF. Use...</td>\n      <td>NaN</td>\n      <td>Unknown</td>\n      <td>benjamin l cardin</td>\n      <td>NaN</td>\n      <td>NaN</td>\n      <td>...</td>\n      <td>NaN</td>\n      <td>senator</td>\n      <td>NaN</td>\n      <td>benjamin l cardin</td>\n      <td>benjamin</td>\n      <td>cardin</td>\n      <td>benjamin cardin</td>\n      <td>41b6cc65-20e8-4251-8315-91c57e0ffb79</td>\n      <td>2012-07-25</td>\n      <td>2012-07-25</td>\n    </tr>\n  </tbody>\n</table>\n<p>24141 rows × 26 columns</p>\n</div>"
     },
     "execution_count": 138,
     "metadata": {},
     "output_type": "execute_result"
    }
   ],
   "source": [
    "trans['transaction_date'] = pd.to_datetime(trans['transaction_date'],format='%Y-%m-%d',errors='coerce')\n",
    "trans['trans_date_copy'] = pd.to_datetime(trans['trans_date_copy'],format='%m/%d/%Y',errors='coerce')\n",
    "trans['combined_transaction_date'] = np.where(trans['transaction_date'].isna(), trans['trans_date_copy'], trans['transaction_date'])\n",
    "\n",
    "trans"
   ],
   "metadata": {
    "collapsed": false,
    "ExecuteTime": {
     "end_time": "2023-11-30T07:13:12.563150Z",
     "start_time": "2023-11-30T07:13:12.471204Z"
    }
   },
   "id": "edf0798b45c4e19c"
  },
  {
   "cell_type": "code",
   "execution_count": 139,
   "outputs": [
    {
     "data": {
      "text/plain": "(8457, 15695, 11)"
     },
     "execution_count": 139,
     "metadata": {},
     "output_type": "execute_result"
    }
   ],
   "source": [
    "trans['transaction_date'].isna().sum(), trans['trans_date_copy'].isna().sum(), trans['combined_transaction_date'].isna().sum()"
   ],
   "metadata": {
    "collapsed": false,
    "ExecuteTime": {
     "end_time": "2023-11-30T07:13:12.563268Z",
     "start_time": "2023-11-30T07:13:12.522424Z"
    }
   },
   "id": "b79b8cc91c1ecdbe"
  },
  {
   "cell_type": "code",
   "execution_count": 140,
   "outputs": [
    {
     "data": {
      "text/plain": "      disclosure_date transaction_date   owner ticker  \\\n16997      05/17/2021              NaT     NaN    NaN   \n17254      11/04/2020              NaT     NaN    NaN   \n17421      08/21/2020              NaT  Spouse    ICE   \n17614      05/22/2020              NaT  Spouse    ICE   \n17615      05/22/2020              NaT  Spouse    ICE   \n...               ...              ...     ...    ...   \n24055      02/26/2013              NaT     NaN    NaN   \n24069      02/06/2013              NaT     NaN    NaN   \n24079      01/14/2013              NaT     NaN    NaN   \n24112      10/19/2012              NaT     NaN    NaN   \n24127      09/11/2012              NaT     NaN    NaN   \n\n                                       asset_description            type  \\\n16997  This filing was disclosed via scanned PDF. Use...             NaN   \n17254  This filing was disclosed via scanned PDF. Use...             NaN   \n17421                    Intercontinental Exchange, Inc.  Sale (Partial)   \n17614                    Intercontinental Exchange, Inc.        Purchase   \n17615                    Intercontinental Exchange, Inc.  Sale (Partial)   \n...                                                  ...             ...   \n24055  This filing was disclosed via scanned PDF. Use...             NaN   \n24069  This filing was disclosed via scanned PDF. Use...             NaN   \n24079  This filing was disclosed via scanned PDF. Use...             NaN   \n24112  This filing was disclosed via scanned PDF. Use...             NaN   \n24127  This filing was disclosed via scanned PDF. Use...             NaN   \n\n                         amount          member district state  ...  \\\n16997                   Unknown    richard burr      NaN   NaN  ...   \n17254                   Unknown    david perdue      NaN   NaN  ...   \n17421  $5,000,001 - $25,000,000  kelly loeffler      NaN    GA  ...   \n17614   $1,000,001 - $5,000,000  kelly loeffler      NaN    GA  ...   \n17615  $5,000,001 - $25,000,000  kelly loeffler      NaN    GA  ...   \n...                         ...             ...      ...   ...  ...   \n24055                   Unknown    richard burr      NaN   NaN  ...   \n24069                   Unknown    richard burr      NaN   NaN  ...   \n24079                   Unknown    richard burr      NaN   NaN  ...   \n24112                   Unknown    richard burr      NaN   NaN  ...   \n24127                   Unknown    richard burr      NaN   NaN  ...   \n\n                                                 comment member_type  \\\n16997                                                NaN     senator   \n17254                                                NaN     senator   \n17421  Equity pursuant to the company he founded with...     senator   \n17614  Equity pursuant to the company he founded with...     senator   \n17615  Equity pursuant to the company he founded with...     senator   \n...                                                  ...         ...   \n24055                                                NaN     senator   \n24069                                                NaN     senator   \n24079                                                NaN     senator   \n24112                                                NaN     senator   \n24127                                                NaN     senator   \n\n      amount_formatted     parsed_name first_name last_name     string_name  \\\n16997              NaN    richard burr    richard      burr    richard burr   \n17254              NaN    david perdue      david    perdue    david perdue   \n17421        5000000.0  kelly loeffler      kelly  loeffler  kelly loeffler   \n17614        1000000.0  kelly loeffler      kelly  loeffler  kelly loeffler   \n17615        5000000.0  kelly loeffler      kelly  loeffler  kelly loeffler   \n...                ...             ...        ...       ...             ...   \n24055              NaN    richard burr    richard      burr    richard burr   \n24069              NaN    richard burr    richard      burr    richard burr   \n24079              NaN    richard burr    richard      burr    richard burr   \n24112              NaN    richard burr    richard      burr    richard burr   \n24127              NaN    richard burr    richard      burr    richard burr   \n\n                                       uuid  trans_date_copy  \\\n16997  f71c7463-0507-4c56-b05d-a325880029e3       2021-05-17   \n17254  d55dc2ee-29d4-4f37-b6ec-e7bbc25c51b1       2020-11-04   \n17421  ef510456-61a7-4533-a4c6-4524da6c8963       2020-07-22   \n17614  7382dc38-488e-4dad-8829-a05b7dd9f058       2020-05-20   \n17615  76d2aa62-031a-4ac1-b8b2-304704de743f       2020-05-20   \n...                                     ...              ...   \n24055  c7a35168-be9c-4057-ae8d-fb5d35700106       2013-02-26   \n24069  88fedea1-061a-4823-b38e-051b2de09901       2013-02-06   \n24079  2424020c-cde8-4ea9-b324-5b6f026f62a6       2013-01-14   \n24112  351857d2-1201-4af5-9739-843df633e8bc       2012-10-19   \n24127  5409c02b-2e30-4b6f-b48e-518e9f45814f       2012-09-11   \n\n      combined_transaction_date  \n16997                2021-05-17  \n17254                2020-11-04  \n17421                2020-07-22  \n17614                2020-05-20  \n17615                2020-05-20  \n...                         ...  \n24055                2013-02-26  \n24069                2013-02-06  \n24079                2013-01-14  \n24112                2012-10-19  \n24127                2012-09-11  \n\n[2657 rows x 26 columns]",
      "text/html": "<div>\n<style scoped>\n    .dataframe tbody tr th:only-of-type {\n        vertical-align: middle;\n    }\n\n    .dataframe tbody tr th {\n        vertical-align: top;\n    }\n\n    .dataframe thead th {\n        text-align: right;\n    }\n</style>\n<table border=\"1\" class=\"dataframe\">\n  <thead>\n    <tr style=\"text-align: right;\">\n      <th></th>\n      <th>disclosure_date</th>\n      <th>transaction_date</th>\n      <th>owner</th>\n      <th>ticker</th>\n      <th>asset_description</th>\n      <th>type</th>\n      <th>amount</th>\n      <th>member</th>\n      <th>district</th>\n      <th>state</th>\n      <th>...</th>\n      <th>comment</th>\n      <th>member_type</th>\n      <th>amount_formatted</th>\n      <th>parsed_name</th>\n      <th>first_name</th>\n      <th>last_name</th>\n      <th>string_name</th>\n      <th>uuid</th>\n      <th>trans_date_copy</th>\n      <th>combined_transaction_date</th>\n    </tr>\n  </thead>\n  <tbody>\n    <tr>\n      <th>16997</th>\n      <td>05/17/2021</td>\n      <td>NaT</td>\n      <td>NaN</td>\n      <td>NaN</td>\n      <td>This filing was disclosed via scanned PDF. Use...</td>\n      <td>NaN</td>\n      <td>Unknown</td>\n      <td>richard burr</td>\n      <td>NaN</td>\n      <td>NaN</td>\n      <td>...</td>\n      <td>NaN</td>\n      <td>senator</td>\n      <td>NaN</td>\n      <td>richard burr</td>\n      <td>richard</td>\n      <td>burr</td>\n      <td>richard burr</td>\n      <td>f71c7463-0507-4c56-b05d-a325880029e3</td>\n      <td>2021-05-17</td>\n      <td>2021-05-17</td>\n    </tr>\n    <tr>\n      <th>17254</th>\n      <td>11/04/2020</td>\n      <td>NaT</td>\n      <td>NaN</td>\n      <td>NaN</td>\n      <td>This filing was disclosed via scanned PDF. Use...</td>\n      <td>NaN</td>\n      <td>Unknown</td>\n      <td>david perdue</td>\n      <td>NaN</td>\n      <td>NaN</td>\n      <td>...</td>\n      <td>NaN</td>\n      <td>senator</td>\n      <td>NaN</td>\n      <td>david perdue</td>\n      <td>david</td>\n      <td>perdue</td>\n      <td>david perdue</td>\n      <td>d55dc2ee-29d4-4f37-b6ec-e7bbc25c51b1</td>\n      <td>2020-11-04</td>\n      <td>2020-11-04</td>\n    </tr>\n    <tr>\n      <th>17421</th>\n      <td>08/21/2020</td>\n      <td>NaT</td>\n      <td>Spouse</td>\n      <td>ICE</td>\n      <td>Intercontinental Exchange, Inc.</td>\n      <td>Sale (Partial)</td>\n      <td>$5,000,001 - $25,000,000</td>\n      <td>kelly loeffler</td>\n      <td>NaN</td>\n      <td>GA</td>\n      <td>...</td>\n      <td>Equity pursuant to the company he founded with...</td>\n      <td>senator</td>\n      <td>5000000.0</td>\n      <td>kelly loeffler</td>\n      <td>kelly</td>\n      <td>loeffler</td>\n      <td>kelly loeffler</td>\n      <td>ef510456-61a7-4533-a4c6-4524da6c8963</td>\n      <td>2020-07-22</td>\n      <td>2020-07-22</td>\n    </tr>\n    <tr>\n      <th>17614</th>\n      <td>05/22/2020</td>\n      <td>NaT</td>\n      <td>Spouse</td>\n      <td>ICE</td>\n      <td>Intercontinental Exchange, Inc.</td>\n      <td>Purchase</td>\n      <td>$1,000,001 - $5,000,000</td>\n      <td>kelly loeffler</td>\n      <td>NaN</td>\n      <td>GA</td>\n      <td>...</td>\n      <td>Equity pursuant to the company he founded with...</td>\n      <td>senator</td>\n      <td>1000000.0</td>\n      <td>kelly loeffler</td>\n      <td>kelly</td>\n      <td>loeffler</td>\n      <td>kelly loeffler</td>\n      <td>7382dc38-488e-4dad-8829-a05b7dd9f058</td>\n      <td>2020-05-20</td>\n      <td>2020-05-20</td>\n    </tr>\n    <tr>\n      <th>17615</th>\n      <td>05/22/2020</td>\n      <td>NaT</td>\n      <td>Spouse</td>\n      <td>ICE</td>\n      <td>Intercontinental Exchange, Inc.</td>\n      <td>Sale (Partial)</td>\n      <td>$5,000,001 - $25,000,000</td>\n      <td>kelly loeffler</td>\n      <td>NaN</td>\n      <td>GA</td>\n      <td>...</td>\n      <td>Equity pursuant to the company he founded with...</td>\n      <td>senator</td>\n      <td>5000000.0</td>\n      <td>kelly loeffler</td>\n      <td>kelly</td>\n      <td>loeffler</td>\n      <td>kelly loeffler</td>\n      <td>76d2aa62-031a-4ac1-b8b2-304704de743f</td>\n      <td>2020-05-20</td>\n      <td>2020-05-20</td>\n    </tr>\n    <tr>\n      <th>...</th>\n      <td>...</td>\n      <td>...</td>\n      <td>...</td>\n      <td>...</td>\n      <td>...</td>\n      <td>...</td>\n      <td>...</td>\n      <td>...</td>\n      <td>...</td>\n      <td>...</td>\n      <td>...</td>\n      <td>...</td>\n      <td>...</td>\n      <td>...</td>\n      <td>...</td>\n      <td>...</td>\n      <td>...</td>\n      <td>...</td>\n      <td>...</td>\n      <td>...</td>\n      <td>...</td>\n    </tr>\n    <tr>\n      <th>24055</th>\n      <td>02/26/2013</td>\n      <td>NaT</td>\n      <td>NaN</td>\n      <td>NaN</td>\n      <td>This filing was disclosed via scanned PDF. Use...</td>\n      <td>NaN</td>\n      <td>Unknown</td>\n      <td>richard burr</td>\n      <td>NaN</td>\n      <td>NaN</td>\n      <td>...</td>\n      <td>NaN</td>\n      <td>senator</td>\n      <td>NaN</td>\n      <td>richard burr</td>\n      <td>richard</td>\n      <td>burr</td>\n      <td>richard burr</td>\n      <td>c7a35168-be9c-4057-ae8d-fb5d35700106</td>\n      <td>2013-02-26</td>\n      <td>2013-02-26</td>\n    </tr>\n    <tr>\n      <th>24069</th>\n      <td>02/06/2013</td>\n      <td>NaT</td>\n      <td>NaN</td>\n      <td>NaN</td>\n      <td>This filing was disclosed via scanned PDF. Use...</td>\n      <td>NaN</td>\n      <td>Unknown</td>\n      <td>richard burr</td>\n      <td>NaN</td>\n      <td>NaN</td>\n      <td>...</td>\n      <td>NaN</td>\n      <td>senator</td>\n      <td>NaN</td>\n      <td>richard burr</td>\n      <td>richard</td>\n      <td>burr</td>\n      <td>richard burr</td>\n      <td>88fedea1-061a-4823-b38e-051b2de09901</td>\n      <td>2013-02-06</td>\n      <td>2013-02-06</td>\n    </tr>\n    <tr>\n      <th>24079</th>\n      <td>01/14/2013</td>\n      <td>NaT</td>\n      <td>NaN</td>\n      <td>NaN</td>\n      <td>This filing was disclosed via scanned PDF. Use...</td>\n      <td>NaN</td>\n      <td>Unknown</td>\n      <td>richard burr</td>\n      <td>NaN</td>\n      <td>NaN</td>\n      <td>...</td>\n      <td>NaN</td>\n      <td>senator</td>\n      <td>NaN</td>\n      <td>richard burr</td>\n      <td>richard</td>\n      <td>burr</td>\n      <td>richard burr</td>\n      <td>2424020c-cde8-4ea9-b324-5b6f026f62a6</td>\n      <td>2013-01-14</td>\n      <td>2013-01-14</td>\n    </tr>\n    <tr>\n      <th>24112</th>\n      <td>10/19/2012</td>\n      <td>NaT</td>\n      <td>NaN</td>\n      <td>NaN</td>\n      <td>This filing was disclosed via scanned PDF. Use...</td>\n      <td>NaN</td>\n      <td>Unknown</td>\n      <td>richard burr</td>\n      <td>NaN</td>\n      <td>NaN</td>\n      <td>...</td>\n      <td>NaN</td>\n      <td>senator</td>\n      <td>NaN</td>\n      <td>richard burr</td>\n      <td>richard</td>\n      <td>burr</td>\n      <td>richard burr</td>\n      <td>351857d2-1201-4af5-9739-843df633e8bc</td>\n      <td>2012-10-19</td>\n      <td>2012-10-19</td>\n    </tr>\n    <tr>\n      <th>24127</th>\n      <td>09/11/2012</td>\n      <td>NaT</td>\n      <td>NaN</td>\n      <td>NaN</td>\n      <td>This filing was disclosed via scanned PDF. Use...</td>\n      <td>NaN</td>\n      <td>Unknown</td>\n      <td>richard burr</td>\n      <td>NaN</td>\n      <td>NaN</td>\n      <td>...</td>\n      <td>NaN</td>\n      <td>senator</td>\n      <td>NaN</td>\n      <td>richard burr</td>\n      <td>richard</td>\n      <td>burr</td>\n      <td>richard burr</td>\n      <td>5409c02b-2e30-4b6f-b48e-518e9f45814f</td>\n      <td>2012-09-11</td>\n      <td>2012-09-11</td>\n    </tr>\n  </tbody>\n</table>\n<p>2657 rows × 26 columns</p>\n</div>"
     },
     "execution_count": 140,
     "metadata": {},
     "output_type": "execute_result"
    }
   ],
   "source": [
    "names_of_interest = ['david perdue', 'kelly loeffler', 'richard burr']\n",
    "trans[trans['string_name'].isin(names_of_interest)]"
   ],
   "metadata": {
    "collapsed": false,
    "ExecuteTime": {
     "end_time": "2023-11-30T07:13:12.566900Z",
     "start_time": "2023-11-30T07:13:12.529193Z"
    }
   },
   "id": "3b1f98c4c64072ba"
  },
  {
   "cell_type": "code",
   "execution_count": 141,
   "outputs": [
    {
     "data": {
      "text/plain": "      disclosure_date transaction_date owner ticker  \\\n16997      05/17/2021              NaT   NaN    NaN   \n\n                                       asset_description type   amount  \\\n16997  This filing was disclosed via scanned PDF. Use...  NaN  Unknown   \n\n             member district state  ... comment member_type amount_formatted  \\\n16997  richard burr      NaN   NaN  ...     NaN     senator              NaN   \n\n        parsed_name first_name last_name   string_name  \\\n16997  richard burr    richard      burr  richard burr   \n\n                                       uuid  trans_date_copy  \\\n16997  f71c7463-0507-4c56-b05d-a325880029e3       2021-05-17   \n\n      combined_transaction_date  \n16997                2021-05-17  \n\n[1 rows x 26 columns]",
      "text/html": "<div>\n<style scoped>\n    .dataframe tbody tr th:only-of-type {\n        vertical-align: middle;\n    }\n\n    .dataframe tbody tr th {\n        vertical-align: top;\n    }\n\n    .dataframe thead th {\n        text-align: right;\n    }\n</style>\n<table border=\"1\" class=\"dataframe\">\n  <thead>\n    <tr style=\"text-align: right;\">\n      <th></th>\n      <th>disclosure_date</th>\n      <th>transaction_date</th>\n      <th>owner</th>\n      <th>ticker</th>\n      <th>asset_description</th>\n      <th>type</th>\n      <th>amount</th>\n      <th>member</th>\n      <th>district</th>\n      <th>state</th>\n      <th>...</th>\n      <th>comment</th>\n      <th>member_type</th>\n      <th>amount_formatted</th>\n      <th>parsed_name</th>\n      <th>first_name</th>\n      <th>last_name</th>\n      <th>string_name</th>\n      <th>uuid</th>\n      <th>trans_date_copy</th>\n      <th>combined_transaction_date</th>\n    </tr>\n  </thead>\n  <tbody>\n    <tr>\n      <th>16997</th>\n      <td>05/17/2021</td>\n      <td>NaT</td>\n      <td>NaN</td>\n      <td>NaN</td>\n      <td>This filing was disclosed via scanned PDF. Use...</td>\n      <td>NaN</td>\n      <td>Unknown</td>\n      <td>richard burr</td>\n      <td>NaN</td>\n      <td>NaN</td>\n      <td>...</td>\n      <td>NaN</td>\n      <td>senator</td>\n      <td>NaN</td>\n      <td>richard burr</td>\n      <td>richard</td>\n      <td>burr</td>\n      <td>richard burr</td>\n      <td>f71c7463-0507-4c56-b05d-a325880029e3</td>\n      <td>2021-05-17</td>\n      <td>2021-05-17</td>\n    </tr>\n  </tbody>\n</table>\n<p>1 rows × 26 columns</p>\n</div>"
     },
     "execution_count": 141,
     "metadata": {},
     "output_type": "execute_result"
    }
   ],
   "source": [
    "trans_117 = trans[(trans['combined_transaction_date'] < '2023-01-03') & (trans['combined_transaction_date']  >= '2021-01-03')]\n",
    "trans_116 = trans[(trans['combined_transaction_date'] < '2021-01-03')]\n",
    "trans_118 = trans[(trans['combined_transaction_date'] > '2023-01-03')]\n",
    "\n",
    "trans_117[trans_117['string_name'].isin(names_of_interest)]"
   ],
   "metadata": {
    "collapsed": false,
    "ExecuteTime": {
     "end_time": "2023-11-30T07:13:13.654876Z",
     "start_time": "2023-11-30T07:13:13.632713Z"
    }
   },
   "id": "21026638654a237f"
  },
  {
   "cell_type": "code",
   "execution_count": 142,
   "outputs": [],
   "source": [
    "indices_steube = np.where(trans['string_name'].str.contains('steube'))[0]\n",
    "for idx in indices_steube:\n",
    "    trans.at[idx, 'first_name'] = 'greg'\n",
    "\n",
    "indices_bill = np.where(trans['string_name'].str.contains('william keating'))[0]\n",
    "for idx in indices_bill:\n",
    "    trans.at[idx, 'first_name'] = 'bill'\n",
    "\n",
    "indices_jackson = np.where(trans['string_name'].str.contains('jeff jackson'))[0]\n",
    "for idx in indices_jackson:\n",
    "    trans.at[idx, 'first_name'] = 'jeffrey'\n",
    "\n",
    "indices_flei = np.where(trans['string_name'].str.contains('charles fleischman'))[0]\n",
    "for idx in indices_flei:\n",
    "    trans.at[idx, 'first_name'] = 'chuck'\n",
    "\n",
    "indices = np.where(trans['string_name'].str.contains('david joyce'))[0]\n",
    "for idx in indices:\n",
    "    trans.at[idx, 'first_name'] = 'dave'\n",
    "\n",
    "indices = np.where(trans['string_name'].str.contains('patrick fallon'))[0]\n",
    "for idx in indices:\n",
    "    trans.at[idx, 'first_name'] = 'pat'\n",
    "\n",
    "indices = np.where(trans['string_name'].str.contains('david cawthorn'))[0]\n",
    "for idx in indices:\n",
    "    trans.at[idx, 'first_name'] = 'madison'\n",
    "\n",
    "indices = np.where(trans['string_name'].str.contains('james langevin'))[0]\n",
    "for idx in indices:\n",
    "    trans.at[idx, 'first_name'] = 'jim'\n",
    "\n",
    "indices = np.where(trans['string_name'].str.contains('richard allen'))[0]\n",
    "for idx in indices:\n",
    "    trans.at[idx, 'first_name'] = 'rick'\n",
    "\n",
    "indices = np.where(trans['string_name'].str.contains('bradley schneider'))[0]\n",
    "for idx in indices:\n",
    "    trans.at[idx, 'first_name'] = 'brad'\n",
    "\n",
    "indices = np.where(trans['string_name'].str.contains('aston mceachin'))[0]\n",
    "for idx in indices:\n",
    "    trans.at[idx, 'first_name'] = 'a.'\n",
    "\n",
    "indices = np.where(trans['string_name'].str.contains('david roe'))[0]\n",
    "for idx in indices:\n",
    "    trans.at[idx, 'first_name'] = 'phil'\n",
    "\n",
    "indices = np.where(trans['string_name'].str.contains('lacy clay'))[0]\n",
    "for idx in indices:\n",
    "    trans.at[idx, 'first_name'] = 'william'\n",
    "\n",
    "indices = np.where(trans['string_name'].str.contains('steve chabot'))[0]\n",
    "for idx in indices:\n",
    "    trans.at[idx, 'first_name'] = 'steven'\n",
    "\n",
    "indices = np.where(trans['string_name'].str.contains('joseph morelle'))[0]\n",
    "for idx in indices:\n",
    "    trans.at[idx, 'first_name'] = 'joe'\n",
    "\n",
    "indices = np.where(trans['string_name'].str.contains('linda sanchez'))[0]\n",
    "for idx in indices:\n",
    "    trans.at[idx, 'last_name'] = 'sánchez'\n",
    "trans['string_name'] = trans['first_name'] + ' ' + trans['last_name']\n",
    "\n",
    "indices = np.where(trans['string_name'].str.contains('bradley schneider'))[0]\n",
    "for idx in indices:\n",
    "    trans.at[idx, 'first_name'] = 'brad'"
   ],
   "metadata": {
    "collapsed": false,
    "ExecuteTime": {
     "end_time": "2023-11-30T07:13:13.832053Z",
     "start_time": "2023-11-30T07:13:13.680554Z"
    }
   },
   "id": "89f16111572f953f"
  },
  {
   "cell_type": "code",
   "execution_count": 143,
   "outputs": [
    {
     "name": "stdout",
     "output_type": "stream",
     "text": [
      "116 member count {174}\n",
      "117 member count {160}\n",
      "118 member count {66}\n"
     ]
    }
   ],
   "source": [
    "first = {len(trans_116['string_name'].unique())}\n",
    "second = {len(trans_117['string_name'].unique())}\n",
    "three = {len(trans_118['string_name'].unique())}\n",
    "\n",
    "print(f'116 member count {first}' )\n",
    "print(f'117 member count {second}' )\n",
    "print(f'118 member count {three}' )"
   ],
   "metadata": {
    "collapsed": false,
    "ExecuteTime": {
     "end_time": "2023-11-30T07:13:13.881930Z",
     "start_time": "2023-11-30T07:13:13.868632Z"
    }
   },
   "id": "159405da5baddd84"
  },
  {
   "cell_type": "code",
   "execution_count": 144,
   "outputs": [
    {
     "data": {
      "text/plain": "                  display_name         string_name combined_transaction_date  \\\n0               Rep. Susie Lee           susie lee                2020-02-24   \n1               Rep. Susie Lee           susie lee                2020-03-06   \n2               Rep. Susie Lee           susie lee                2020-03-23   \n3               Rep. Susie Lee           susie lee                2020-02-04   \n4               Rep. Susie Lee           susie lee                2020-03-18   \n...                        ...                 ...                       ...   \n14465  Sen. Sheldon Whitehouse  sheldon whitehouse                2012-08-17   \n14466         Sen. Pat Roberts         pat roberts                2012-08-16   \n14467         Sen. Rob Portman         rob portman                2012-08-15   \n14468       Sen. Thomas Carper       thomas carper                2012-08-02   \n14469     Sen. Benjamin Cardin     benjamin cardin                2012-07-25   \n\n      disclosure_date ticker  \\\n0          04/28/2020    BHC   \n1          04/28/2020    BAH   \n2          04/28/2020    BYD   \n3          04/28/2020   CTLT   \n4          04/28/2020   CBRE   \n...               ...    ...   \n14465      08/17/2012    NaN   \n14466      08/16/2012    NaN   \n14467      08/15/2012    NaN   \n14468      08/02/2012    NaN   \n14469      07/25/2012    NaN   \n\n                                       asset_description          type  \\\n0                           Bausch Health Companies Inc.      purchase   \n1                Booz Allen Hamilton Holding Corporation     sale_full   \n2                                Boyd Gaming Corporation     sale_full   \n3                                         Catalent, Inc.      purchase   \n4                    CBRE Group Inc Common Stock Class A  sale_partial   \n...                                                  ...           ...   \n14465  This filing was disclosed via scanned PDF. Use...           NaN   \n14466  This filing was disclosed via scanned PDF. Use...           NaN   \n14467  This filing was disclosed via scanned PDF. Use...           NaN   \n14468  This filing was disclosed via scanned PDF. Use...           NaN   \n14469  This filing was disclosed via scanned PDF. Use...           NaN   \n\n                 amount                                    industry  \\\n0      $1,001 - $15,000           Pharmaceuticals and Biotechnology   \n1      $1,001 - $15,000                       Professional Services   \n2      $1,001 - $15,000                        Movies/Entertainment   \n3      $1,001 - $15,000  Biotechnology: Pharmaceutical Preparations   \n4      $1,001 - $15,000                                 Real Estate   \n...                 ...                                         ...   \n14465           Unknown                                         NaN   \n14466           Unknown                                         NaN   \n14467           Unknown                                         NaN   \n14468           Unknown                                         NaN   \n14469           Unknown                                         NaN   \n\n                       sector state  \\\n0                 Health Care    NV   \n1           Consumer Services    NV   \n2      Consumer Discretionary    NV   \n3                 Health Care    NV   \n4                     Finance    NV   \n...                       ...   ...   \n14465                     NaN   NaN   \n14466                     NaN   NaN   \n14467                     NaN   NaN   \n14468                     NaN   NaN   \n14469                     NaN   NaN   \n\n                                                ptr_link  amount_formatted  \\\n0      https://disclosures-clerk.house.gov/public_dis...            1000.0   \n1      https://disclosures-clerk.house.gov/public_dis...            1000.0   \n2      https://disclosures-clerk.house.gov/public_dis...            1000.0   \n3      https://disclosures-clerk.house.gov/public_dis...            1000.0   \n4      https://disclosures-clerk.house.gov/public_dis...            1000.0   \n...                                                  ...               ...   \n14465  https://efdsearch.senate.gov/search/view/paper...               NaN   \n14466  https://efdsearch.senate.gov/search/view/paper...               NaN   \n14467  https://efdsearch.senate.gov/search/view/paper...               NaN   \n14468  https://efdsearch.senate.gov/search/view/paper...               NaN   \n14469  https://efdsearch.senate.gov/search/view/paper...               NaN   \n\n            id                                  uuid  \n0      L000590  c1c5c603-f2ea-4c99-a9e4-5c158229c0e7  \n1      L000590  b76332f3-3410-4ed0-82e6-ab19f484a330  \n2      L000590  37707207-7c2e-4ff3-9404-ceaeb052b1df  \n3      L000590  1eaa4073-8742-4411-8df5-e27ce597a3e6  \n4      L000590  60f1a149-4c5e-4f06-9ec6-d4c3189e99af  \n...        ...                                   ...  \n14465  W000802  769240b2-1b19-4d92-b827-08e01b497196  \n14466  R000307  4806d662-8bd0-455f-95c4-3c506cb9d547  \n14467  P000449  29027e98-0fd3-4929-88f3-29fb630db7b7  \n14468  C000174  52d2161f-2533-4264-a917-e30f3a6f395e  \n14469  C000141  41b6cc65-20e8-4251-8315-91c57e0ffb79  \n\n[14470 rows x 15 columns]",
      "text/html": "<div>\n<style scoped>\n    .dataframe tbody tr th:only-of-type {\n        vertical-align: middle;\n    }\n\n    .dataframe tbody tr th {\n        vertical-align: top;\n    }\n\n    .dataframe thead th {\n        text-align: right;\n    }\n</style>\n<table border=\"1\" class=\"dataframe\">\n  <thead>\n    <tr style=\"text-align: right;\">\n      <th></th>\n      <th>display_name</th>\n      <th>string_name</th>\n      <th>combined_transaction_date</th>\n      <th>disclosure_date</th>\n      <th>ticker</th>\n      <th>asset_description</th>\n      <th>type</th>\n      <th>amount</th>\n      <th>industry</th>\n      <th>sector</th>\n      <th>state</th>\n      <th>ptr_link</th>\n      <th>amount_formatted</th>\n      <th>id</th>\n      <th>uuid</th>\n    </tr>\n  </thead>\n  <tbody>\n    <tr>\n      <th>0</th>\n      <td>Rep. Susie Lee</td>\n      <td>susie lee</td>\n      <td>2020-02-24</td>\n      <td>04/28/2020</td>\n      <td>BHC</td>\n      <td>Bausch Health Companies Inc.</td>\n      <td>purchase</td>\n      <td>$1,001 - $15,000</td>\n      <td>Pharmaceuticals and Biotechnology</td>\n      <td>Health Care</td>\n      <td>NV</td>\n      <td>https://disclosures-clerk.house.gov/public_dis...</td>\n      <td>1000.0</td>\n      <td>L000590</td>\n      <td>c1c5c603-f2ea-4c99-a9e4-5c158229c0e7</td>\n    </tr>\n    <tr>\n      <th>1</th>\n      <td>Rep. Susie Lee</td>\n      <td>susie lee</td>\n      <td>2020-03-06</td>\n      <td>04/28/2020</td>\n      <td>BAH</td>\n      <td>Booz Allen Hamilton Holding Corporation</td>\n      <td>sale_full</td>\n      <td>$1,001 - $15,000</td>\n      <td>Professional Services</td>\n      <td>Consumer Services</td>\n      <td>NV</td>\n      <td>https://disclosures-clerk.house.gov/public_dis...</td>\n      <td>1000.0</td>\n      <td>L000590</td>\n      <td>b76332f3-3410-4ed0-82e6-ab19f484a330</td>\n    </tr>\n    <tr>\n      <th>2</th>\n      <td>Rep. Susie Lee</td>\n      <td>susie lee</td>\n      <td>2020-03-23</td>\n      <td>04/28/2020</td>\n      <td>BYD</td>\n      <td>Boyd Gaming Corporation</td>\n      <td>sale_full</td>\n      <td>$1,001 - $15,000</td>\n      <td>Movies/Entertainment</td>\n      <td>Consumer Discretionary</td>\n      <td>NV</td>\n      <td>https://disclosures-clerk.house.gov/public_dis...</td>\n      <td>1000.0</td>\n      <td>L000590</td>\n      <td>37707207-7c2e-4ff3-9404-ceaeb052b1df</td>\n    </tr>\n    <tr>\n      <th>3</th>\n      <td>Rep. Susie Lee</td>\n      <td>susie lee</td>\n      <td>2020-02-04</td>\n      <td>04/28/2020</td>\n      <td>CTLT</td>\n      <td>Catalent, Inc.</td>\n      <td>purchase</td>\n      <td>$1,001 - $15,000</td>\n      <td>Biotechnology: Pharmaceutical Preparations</td>\n      <td>Health Care</td>\n      <td>NV</td>\n      <td>https://disclosures-clerk.house.gov/public_dis...</td>\n      <td>1000.0</td>\n      <td>L000590</td>\n      <td>1eaa4073-8742-4411-8df5-e27ce597a3e6</td>\n    </tr>\n    <tr>\n      <th>4</th>\n      <td>Rep. Susie Lee</td>\n      <td>susie lee</td>\n      <td>2020-03-18</td>\n      <td>04/28/2020</td>\n      <td>CBRE</td>\n      <td>CBRE Group Inc Common Stock Class A</td>\n      <td>sale_partial</td>\n      <td>$1,001 - $15,000</td>\n      <td>Real Estate</td>\n      <td>Finance</td>\n      <td>NV</td>\n      <td>https://disclosures-clerk.house.gov/public_dis...</td>\n      <td>1000.0</td>\n      <td>L000590</td>\n      <td>60f1a149-4c5e-4f06-9ec6-d4c3189e99af</td>\n    </tr>\n    <tr>\n      <th>...</th>\n      <td>...</td>\n      <td>...</td>\n      <td>...</td>\n      <td>...</td>\n      <td>...</td>\n      <td>...</td>\n      <td>...</td>\n      <td>...</td>\n      <td>...</td>\n      <td>...</td>\n      <td>...</td>\n      <td>...</td>\n      <td>...</td>\n      <td>...</td>\n      <td>...</td>\n    </tr>\n    <tr>\n      <th>14465</th>\n      <td>Sen. Sheldon Whitehouse</td>\n      <td>sheldon whitehouse</td>\n      <td>2012-08-17</td>\n      <td>08/17/2012</td>\n      <td>NaN</td>\n      <td>This filing was disclosed via scanned PDF. Use...</td>\n      <td>NaN</td>\n      <td>Unknown</td>\n      <td>NaN</td>\n      <td>NaN</td>\n      <td>NaN</td>\n      <td>https://efdsearch.senate.gov/search/view/paper...</td>\n      <td>NaN</td>\n      <td>W000802</td>\n      <td>769240b2-1b19-4d92-b827-08e01b497196</td>\n    </tr>\n    <tr>\n      <th>14466</th>\n      <td>Sen. Pat Roberts</td>\n      <td>pat roberts</td>\n      <td>2012-08-16</td>\n      <td>08/16/2012</td>\n      <td>NaN</td>\n      <td>This filing was disclosed via scanned PDF. Use...</td>\n      <td>NaN</td>\n      <td>Unknown</td>\n      <td>NaN</td>\n      <td>NaN</td>\n      <td>NaN</td>\n      <td>https://efdsearch.senate.gov/search/view/paper...</td>\n      <td>NaN</td>\n      <td>R000307</td>\n      <td>4806d662-8bd0-455f-95c4-3c506cb9d547</td>\n    </tr>\n    <tr>\n      <th>14467</th>\n      <td>Sen. Rob Portman</td>\n      <td>rob portman</td>\n      <td>2012-08-15</td>\n      <td>08/15/2012</td>\n      <td>NaN</td>\n      <td>This filing was disclosed via scanned PDF. Use...</td>\n      <td>NaN</td>\n      <td>Unknown</td>\n      <td>NaN</td>\n      <td>NaN</td>\n      <td>NaN</td>\n      <td>https://efdsearch.senate.gov/search/view/paper...</td>\n      <td>NaN</td>\n      <td>P000449</td>\n      <td>29027e98-0fd3-4929-88f3-29fb630db7b7</td>\n    </tr>\n    <tr>\n      <th>14468</th>\n      <td>Sen. Thomas Carper</td>\n      <td>thomas carper</td>\n      <td>2012-08-02</td>\n      <td>08/02/2012</td>\n      <td>NaN</td>\n      <td>This filing was disclosed via scanned PDF. Use...</td>\n      <td>NaN</td>\n      <td>Unknown</td>\n      <td>NaN</td>\n      <td>NaN</td>\n      <td>NaN</td>\n      <td>https://efdsearch.senate.gov/search/view/paper...</td>\n      <td>NaN</td>\n      <td>C000174</td>\n      <td>52d2161f-2533-4264-a917-e30f3a6f395e</td>\n    </tr>\n    <tr>\n      <th>14469</th>\n      <td>Sen. Benjamin Cardin</td>\n      <td>benjamin cardin</td>\n      <td>2012-07-25</td>\n      <td>07/25/2012</td>\n      <td>NaN</td>\n      <td>This filing was disclosed via scanned PDF. Use...</td>\n      <td>NaN</td>\n      <td>Unknown</td>\n      <td>NaN</td>\n      <td>NaN</td>\n      <td>NaN</td>\n      <td>https://efdsearch.senate.gov/search/view/paper...</td>\n      <td>NaN</td>\n      <td>C000141</td>\n      <td>41b6cc65-20e8-4251-8315-91c57e0ffb79</td>\n    </tr>\n  </tbody>\n</table>\n<p>14470 rows × 15 columns</p>\n</div>"
     },
     "execution_count": 144,
     "metadata": {},
     "output_type": "execute_result"
    }
   ],
   "source": [
    "\"\"\"JOIN 116th congresses data\"\"\"\n",
    "\n",
    "senate_url = f\"https://api.propublica.org/congress/v1/116/senate/members.json\"\n",
    "house_url = f\"https://api.propublica.org/congress/v1/116/house/members.json\"\n",
    "\n",
    "senate_116 = requests.get(senate_url, headers=headers)\n",
    "house_116 = requests.get(house_url, headers=headers)\n",
    "senate_116_members = senate_116.json()['results'][0]['members']\n",
    "house_116_members = house_116.json()['results'][0]['members']\n",
    "senate_116_members = pd.DataFrame(senate_116_members)\n",
    "house_116_members = pd.DataFrame(house_116_members)\n",
    "senate_116_members = senate_116_members[['short_title', 'first_name', 'middle_name', 'last_name','party','id']]\n",
    "house_116_members = house_116_members[['short_title', 'first_name', 'middle_name', 'last_name','party','id']]\n",
    "\n",
    "members_116 = pd.concat([senate_116_members, house_116_members])\n",
    "members_116['display_name'] = members_116['short_title'] + ' ' + members_116['first_name']  + ' ' + members_116['last_name']\n",
    "members_116['member'] = members_116['first_name'] + ' ' + members_116['last_name']\n",
    "members_116['member'] = members_116['member'].str.lower()\n",
    "members_116['parsed_name'] = members_116['member'].apply(lambda x: nameparser.HumanName(x))\n",
    "members_116['first_name'] = members_116['parsed_name'].apply(lambda x: x.first)\n",
    "members_116['last_name'] = members_116['parsed_name'].apply(lambda x: x.last)\n",
    "members_116['string_name'] = members_116['first_name'] + ' ' + members_116['last_name']\n",
    "\n",
    "trans_names_116 = trans_116['string_name'].unique()\n",
    "\n",
    "members_116 = members_116[members_116['string_name'].isin(trans_names_116)]\n",
    "\n",
    "trans_116 = trans_116.merge(members_116, how='left', on='string_name')[['display_name',\n",
    "                                                                        'string_name',\n",
    "\n",
    "                                                                        'combined_transaction_date',\n",
    "                                                                        'disclosure_date',\n",
    "                                                                        'ticker',\n",
    "                                                                        'asset_description',\n",
    "                                                                        'type',\n",
    "                                                                        'amount',\n",
    "                                                                        'industry',\n",
    "                                                                        'sector',\n",
    "                                                                        'state',\n",
    "                                                                        'ptr_link',\n",
    "\n",
    "                                                                        'amount_formatted',\n",
    "                                                                        'id',\n",
    "                                                                        'uuid'\n",
    "                                                                        ]]\n",
    "\n",
    "trans_116"
   ],
   "metadata": {
    "collapsed": false,
    "ExecuteTime": {
     "end_time": "2023-11-30T07:13:15.318146Z",
     "start_time": "2023-11-30T07:13:13.917689Z"
    }
   },
   "id": "25d32bb978ca3db6"
  },
  {
   "cell_type": "code",
   "execution_count": 145,
   "outputs": [
    {
     "data": {
      "text/plain": "                 display_name         string_name combined_transaction_date  \\\n0          Rep. Virginia Foxx       virginia foxx                2021-09-27   \n1          Rep. Virginia Foxx       virginia foxx                2021-09-13   \n2          Rep. Virginia Foxx       virginia foxx                2021-09-10   \n3          Rep. Virginia Foxx       virginia foxx                2021-09-28   \n4         Rep. Alan Lowenthal      alan lowenthal                2021-09-17   \n...                       ...                 ...                       ...   \n8815       Sen. Thomas Carper       thomas carper                2021-01-04   \n8816  Sen. Sheldon Whitehouse  sheldon whitehouse                2021-01-25   \n8817        Sen. James Inhofe        james inhofe                2021-01-05   \n8818         Sen. Mark Warner         mark warner                2021-01-13   \n8819          Sen. Rick Scott          rick scott                2021-01-12   \n\n     disclosure_date ticker  \\\n0         10/04/2021     BP   \n1         10/04/2021    XOM   \n2         10/04/2021   ILPT   \n3         10/04/2021     PM   \n4         10/04/2021    BLK   \n...              ...    ...   \n8815      02/01/2021     SH   \n8816      01/25/2021    NaN   \n8817      01/15/2021   CRSP   \n8818      01/13/2021    NaN   \n8819      01/12/2021    NaN   \n\n                                      asset_description            type  \\\n0                                                BP plc        purchase   \n1                               Exxon Mobil Corporation        purchase   \n2     Industrial Logistics Properties Trust - Common...        purchase   \n3                      Phillip Morris International Inc        purchase   \n4                                         BlackRock Inc    sale_partial   \n...                                                 ...             ...   \n8815                         ProShares Short S&amp;P500        Purchase   \n8816  This filing was disclosed via scanned PDF. Use...             NaN   \n8817                             CRISPR Therapeutics AG  Sale (Partial)   \n8818  This filing was disclosed via scanned PDF. Use...             NaN   \n8819  This filing was disclosed via scanned PDF. Use...             NaN   \n\n                 amount                                           industry  \\\n0      $1,001 - $15,000                           Integrated oil Companies   \n1      $1,001 - $15,000                           Integrated oil Companies   \n2     $15,001 - $50,000                      Real Estate Investment Trusts   \n3     $15,001 - $50,000                              Farming/Seeds/Milling   \n4      $1,001 - $15,000                 Investment Bankers/Brokers/Service   \n...                 ...                                                ...   \n8815   $1,001 - $15,000                                                NaN   \n8816            Unknown                                                NaN   \n8817   $1,001 - $15,000  Biotechnology: Biological Products (No Diagnos...   \n8818            Unknown                                                NaN   \n8819            Unknown                                                NaN   \n\n                     sector state  \\\n0                    Energy    NC   \n1                    Energy    NC   \n2               Real Estate    NC   \n3     Consumer Non-Durables    NC   \n4                   Finance    CA   \n...                     ...   ...   \n8815                    NaN    DE   \n8816                    NaN   NaN   \n8817            Health Care    OK   \n8818                    NaN   NaN   \n8819                    NaN   NaN   \n\n                                               ptr_link  amount_formatted  \\\n0     https://disclosures-clerk.house.gov/public_dis...            1000.0   \n1     https://disclosures-clerk.house.gov/public_dis...            1000.0   \n2     https://disclosures-clerk.house.gov/public_dis...           15000.0   \n3     https://disclosures-clerk.house.gov/public_dis...           15000.0   \n4     https://disclosures-clerk.house.gov/public_dis...            1000.0   \n...                                                 ...               ...   \n8815  https://efdsearch.senate.gov/search/view/ptr/a...            1000.0   \n8816  https://efdsearch.senate.gov/search/view/ptr/b...               NaN   \n8817  https://efdsearch.senate.gov/search/view/ptr/8...            1000.0   \n8818  https://efdsearch.senate.gov/search/view/ptr/7...               NaN   \n8819  https://efdsearch.senate.gov/search/view/ptr/f...               NaN   \n\n           id                                  uuid  \n0     F000450  d26ea489-c709-46b1-945f-dee67734f3fe  \n1     F000450  8176d596-bc5f-44e7-8ada-80e9ed20f207  \n2     F000450  e52a6e63-bf07-48b6-9b73-30a1326c5953  \n3     F000450  9606c92d-e6eb-4bad-84f0-4ca8037e8226  \n4     L000579  5536c9a3-f45b-440b-99d2-b10754dde496  \n...       ...                                   ...  \n8815  C000174  404fe6ad-f88b-4e60-a60e-98dbe61c777e  \n8816  W000802  115645d5-6a15-4a8a-baca-08b0bc15e86b  \n8817  I000024  c4a7734d-86cc-45d4-aaa8-bfd670751450  \n8818  W000805  8a59ed72-0306-4a9f-9109-22651fd45ab4  \n8819  S001217  ec97296c-bcd6-4fe9-a947-1bb5a86fe9e7  \n\n[8820 rows x 15 columns]",
      "text/html": "<div>\n<style scoped>\n    .dataframe tbody tr th:only-of-type {\n        vertical-align: middle;\n    }\n\n    .dataframe tbody tr th {\n        vertical-align: top;\n    }\n\n    .dataframe thead th {\n        text-align: right;\n    }\n</style>\n<table border=\"1\" class=\"dataframe\">\n  <thead>\n    <tr style=\"text-align: right;\">\n      <th></th>\n      <th>display_name</th>\n      <th>string_name</th>\n      <th>combined_transaction_date</th>\n      <th>disclosure_date</th>\n      <th>ticker</th>\n      <th>asset_description</th>\n      <th>type</th>\n      <th>amount</th>\n      <th>industry</th>\n      <th>sector</th>\n      <th>state</th>\n      <th>ptr_link</th>\n      <th>amount_formatted</th>\n      <th>id</th>\n      <th>uuid</th>\n    </tr>\n  </thead>\n  <tbody>\n    <tr>\n      <th>0</th>\n      <td>Rep. Virginia Foxx</td>\n      <td>virginia foxx</td>\n      <td>2021-09-27</td>\n      <td>10/04/2021</td>\n      <td>BP</td>\n      <td>BP plc</td>\n      <td>purchase</td>\n      <td>$1,001 - $15,000</td>\n      <td>Integrated oil Companies</td>\n      <td>Energy</td>\n      <td>NC</td>\n      <td>https://disclosures-clerk.house.gov/public_dis...</td>\n      <td>1000.0</td>\n      <td>F000450</td>\n      <td>d26ea489-c709-46b1-945f-dee67734f3fe</td>\n    </tr>\n    <tr>\n      <th>1</th>\n      <td>Rep. Virginia Foxx</td>\n      <td>virginia foxx</td>\n      <td>2021-09-13</td>\n      <td>10/04/2021</td>\n      <td>XOM</td>\n      <td>Exxon Mobil Corporation</td>\n      <td>purchase</td>\n      <td>$1,001 - $15,000</td>\n      <td>Integrated oil Companies</td>\n      <td>Energy</td>\n      <td>NC</td>\n      <td>https://disclosures-clerk.house.gov/public_dis...</td>\n      <td>1000.0</td>\n      <td>F000450</td>\n      <td>8176d596-bc5f-44e7-8ada-80e9ed20f207</td>\n    </tr>\n    <tr>\n      <th>2</th>\n      <td>Rep. Virginia Foxx</td>\n      <td>virginia foxx</td>\n      <td>2021-09-10</td>\n      <td>10/04/2021</td>\n      <td>ILPT</td>\n      <td>Industrial Logistics Properties Trust - Common...</td>\n      <td>purchase</td>\n      <td>$15,001 - $50,000</td>\n      <td>Real Estate Investment Trusts</td>\n      <td>Real Estate</td>\n      <td>NC</td>\n      <td>https://disclosures-clerk.house.gov/public_dis...</td>\n      <td>15000.0</td>\n      <td>F000450</td>\n      <td>e52a6e63-bf07-48b6-9b73-30a1326c5953</td>\n    </tr>\n    <tr>\n      <th>3</th>\n      <td>Rep. Virginia Foxx</td>\n      <td>virginia foxx</td>\n      <td>2021-09-28</td>\n      <td>10/04/2021</td>\n      <td>PM</td>\n      <td>Phillip Morris International Inc</td>\n      <td>purchase</td>\n      <td>$15,001 - $50,000</td>\n      <td>Farming/Seeds/Milling</td>\n      <td>Consumer Non-Durables</td>\n      <td>NC</td>\n      <td>https://disclosures-clerk.house.gov/public_dis...</td>\n      <td>15000.0</td>\n      <td>F000450</td>\n      <td>9606c92d-e6eb-4bad-84f0-4ca8037e8226</td>\n    </tr>\n    <tr>\n      <th>4</th>\n      <td>Rep. Alan Lowenthal</td>\n      <td>alan lowenthal</td>\n      <td>2021-09-17</td>\n      <td>10/04/2021</td>\n      <td>BLK</td>\n      <td>BlackRock Inc</td>\n      <td>sale_partial</td>\n      <td>$1,001 - $15,000</td>\n      <td>Investment Bankers/Brokers/Service</td>\n      <td>Finance</td>\n      <td>CA</td>\n      <td>https://disclosures-clerk.house.gov/public_dis...</td>\n      <td>1000.0</td>\n      <td>L000579</td>\n      <td>5536c9a3-f45b-440b-99d2-b10754dde496</td>\n    </tr>\n    <tr>\n      <th>...</th>\n      <td>...</td>\n      <td>...</td>\n      <td>...</td>\n      <td>...</td>\n      <td>...</td>\n      <td>...</td>\n      <td>...</td>\n      <td>...</td>\n      <td>...</td>\n      <td>...</td>\n      <td>...</td>\n      <td>...</td>\n      <td>...</td>\n      <td>...</td>\n      <td>...</td>\n    </tr>\n    <tr>\n      <th>8815</th>\n      <td>Sen. Thomas Carper</td>\n      <td>thomas carper</td>\n      <td>2021-01-04</td>\n      <td>02/01/2021</td>\n      <td>SH</td>\n      <td>ProShares Short S&amp;amp;P500</td>\n      <td>Purchase</td>\n      <td>$1,001 - $15,000</td>\n      <td>NaN</td>\n      <td>NaN</td>\n      <td>DE</td>\n      <td>https://efdsearch.senate.gov/search/view/ptr/a...</td>\n      <td>1000.0</td>\n      <td>C000174</td>\n      <td>404fe6ad-f88b-4e60-a60e-98dbe61c777e</td>\n    </tr>\n    <tr>\n      <th>8816</th>\n      <td>Sen. Sheldon Whitehouse</td>\n      <td>sheldon whitehouse</td>\n      <td>2021-01-25</td>\n      <td>01/25/2021</td>\n      <td>NaN</td>\n      <td>This filing was disclosed via scanned PDF. Use...</td>\n      <td>NaN</td>\n      <td>Unknown</td>\n      <td>NaN</td>\n      <td>NaN</td>\n      <td>NaN</td>\n      <td>https://efdsearch.senate.gov/search/view/ptr/b...</td>\n      <td>NaN</td>\n      <td>W000802</td>\n      <td>115645d5-6a15-4a8a-baca-08b0bc15e86b</td>\n    </tr>\n    <tr>\n      <th>8817</th>\n      <td>Sen. James Inhofe</td>\n      <td>james inhofe</td>\n      <td>2021-01-05</td>\n      <td>01/15/2021</td>\n      <td>CRSP</td>\n      <td>CRISPR Therapeutics AG</td>\n      <td>Sale (Partial)</td>\n      <td>$1,001 - $15,000</td>\n      <td>Biotechnology: Biological Products (No Diagnos...</td>\n      <td>Health Care</td>\n      <td>OK</td>\n      <td>https://efdsearch.senate.gov/search/view/ptr/8...</td>\n      <td>1000.0</td>\n      <td>I000024</td>\n      <td>c4a7734d-86cc-45d4-aaa8-bfd670751450</td>\n    </tr>\n    <tr>\n      <th>8818</th>\n      <td>Sen. Mark Warner</td>\n      <td>mark warner</td>\n      <td>2021-01-13</td>\n      <td>01/13/2021</td>\n      <td>NaN</td>\n      <td>This filing was disclosed via scanned PDF. Use...</td>\n      <td>NaN</td>\n      <td>Unknown</td>\n      <td>NaN</td>\n      <td>NaN</td>\n      <td>NaN</td>\n      <td>https://efdsearch.senate.gov/search/view/ptr/7...</td>\n      <td>NaN</td>\n      <td>W000805</td>\n      <td>8a59ed72-0306-4a9f-9109-22651fd45ab4</td>\n    </tr>\n    <tr>\n      <th>8819</th>\n      <td>Sen. Rick Scott</td>\n      <td>rick scott</td>\n      <td>2021-01-12</td>\n      <td>01/12/2021</td>\n      <td>NaN</td>\n      <td>This filing was disclosed via scanned PDF. Use...</td>\n      <td>NaN</td>\n      <td>Unknown</td>\n      <td>NaN</td>\n      <td>NaN</td>\n      <td>NaN</td>\n      <td>https://efdsearch.senate.gov/search/view/ptr/f...</td>\n      <td>NaN</td>\n      <td>S001217</td>\n      <td>ec97296c-bcd6-4fe9-a947-1bb5a86fe9e7</td>\n    </tr>\n  </tbody>\n</table>\n<p>8820 rows × 15 columns</p>\n</div>"
     },
     "execution_count": 145,
     "metadata": {},
     "output_type": "execute_result"
    }
   ],
   "source": [
    "\"\"\"JOIN 117th congresses data\"\"\"\n",
    "\n",
    "senate_url = f\"https://api.propublica.org/congress/v1/117/senate/members.json\"\n",
    "house_url = f\"https://api.propublica.org/congress/v1/117/house/members.json\"\n",
    "\n",
    "senate_117 = requests.get(senate_url, headers=headers)\n",
    "house_117 = requests.get(house_url, headers=headers)\n",
    "senate_117_members = senate_117.json()['results'][0]['members']\n",
    "house_117_members = house_117.json()['results'][0]['members']\n",
    "senate_117_members = pd.DataFrame(senate_117_members)\n",
    "house_117_members = pd.DataFrame(house_117_members)\n",
    "senate_117_members = senate_117_members[['short_title', 'first_name', 'middle_name', 'last_name','party','id']]\n",
    "house_117_members = house_117_members[['short_title', 'first_name', 'middle_name', 'last_name','party','id']]\n",
    "\n",
    "members_117 = pd.concat([senate_117_members, house_117_members])\n",
    "members_117['display_name'] = members_117['short_title'] + ' ' + members_117['first_name']  + ' ' + members_117['last_name']\n",
    "members_117['member'] = members_117['first_name'] + ' ' + members_117['last_name']\n",
    "members_117['member'] = members_117['member'].str.lower()\n",
    "members_117['parsed_name'] = members_117['member'].apply(lambda x: nameparser.HumanName(x))\n",
    "members_117['first_name'] = members_117['parsed_name'].apply(lambda x: x.first)\n",
    "members_117['last_name'] = members_117['parsed_name'].apply(lambda x: x.last)\n",
    "members_117['string_name'] = members_117['first_name'] + ' ' + members_117['last_name']\n",
    "\n",
    "trans_names_117 = trans_117['string_name'].unique()\n",
    "\n",
    "members_117 = members_117[members_117['string_name'].isin(trans_names_117)]\n",
    "\n",
    "trans_117 = trans_117.merge(members_117, how='left', on='string_name')[['display_name',\n",
    "                                                                        'string_name',\n",
    "\n",
    "                                                                        'combined_transaction_date',\n",
    "                                                                        'disclosure_date',\n",
    "                                                                        'ticker',\n",
    "                                                                        'asset_description',\n",
    "                                                                        'type',\n",
    "                                                                        'amount',\n",
    "                                                                        'industry',\n",
    "                                                                        'sector',\n",
    "                                                                        'state',\n",
    "                                                                        'ptr_link',\n",
    "\n",
    "                                                                        'amount_formatted',\n",
    "                                                                        'id',\n",
    "                                                                        'uuid'\n",
    "                                                                        ]]\n",
    "\n",
    "trans_117"
   ],
   "metadata": {
    "collapsed": false,
    "ExecuteTime": {
     "end_time": "2023-11-30T07:13:16.563701Z",
     "start_time": "2023-11-30T07:13:15.315918Z"
    }
   },
   "id": "e2b72ce8a9be0439"
  },
  {
   "cell_type": "code",
   "execution_count": 147,
   "outputs": [],
   "source": [
    "\"\"\"JOIN 116th congresses data\"\"\"\n",
    "\n",
    "senate_url = f\"https://api.propublica.org/congress/v1/118/senate/members.json\"\n",
    "house_url = f\"https://api.propublica.org/congress/v1/118/house/members.json\"\n",
    "\n",
    "senate_118 = requests.get(senate_url, headers=headers)\n",
    "house_118 = requests.get(house_url, headers=headers)\n",
    "senate_118_members = senate_118.json()['results'][0]['members']\n",
    "house_118_members = house_118.json()['results'][0]['members']\n",
    "senate_118_members = pd.DataFrame(senate_118_members)\n",
    "house_118_members = pd.DataFrame(house_118_members)\n",
    "senate_118_members = senate_118_members[['short_title', 'first_name', 'middle_name', 'last_name','party','id']]\n",
    "house_118_members = house_118_members[['short_title', 'first_name', 'middle_name', 'last_name','party','id']]\n",
    "\n",
    "members_118 = pd.concat([senate_118_members, house_118_members])\n",
    "members_118['display_name'] = members_118['short_title'] + ' ' + members_118['first_name']  + ' ' + members_118['last_name']\n",
    "members_118['member'] = members_118['first_name'] + ' ' + members_118['last_name']\n",
    "members_118['member'] = members_118['member'].str.lower()\n",
    "members_118['parsed_name'] = members_118['member'].apply(lambda x: nameparser.HumanName(x))\n",
    "members_118['first_name'] = members_118['parsed_name'].apply(lambda x: x.first)\n",
    "members_118['last_name'] = members_118['parsed_name'].apply(lambda x: x.last)\n",
    "members_118['string_name'] = members_118['first_name'] + ' ' + members_118['last_name']\n",
    "\n",
    "trans_names_118 = trans_118['string_name'].unique()\n",
    "\n",
    "members_118 = members_118[members_118['string_name'].isin(trans_names_118)]\n",
    "\n",
    "trans_118 = trans_118.merge(members_118, how='left', on='string_name')[['display_name',\n",
    "                                                                        'string_name',\n",
    "                                                                        'combined_transaction_date',\n",
    "                                                                        'disclosure_date',\n",
    "                                                                        'ticker',\n",
    "                                                                        'asset_description',\n",
    "                                                                        'type',\n",
    "                                                                        'amount',\n",
    "                                                                        'industry',\n",
    "                                                                        'sector',\n",
    "                                                                        'state',\n",
    "                                                                        'ptr_link',\n",
    "                                                                        'amount_formatted',\n",
    "                                                                        'id',\n",
    "                                                                        'uuid'\n",
    "                                                                        ]]"
   ],
   "metadata": {
    "collapsed": false,
    "ExecuteTime": {
     "end_time": "2023-11-30T07:13:24.970829Z",
     "start_time": "2023-11-30T07:13:23.666076Z"
    }
   },
   "id": "d09722e28bea8093"
  },
  {
   "cell_type": "code",
   "execution_count": 148,
   "outputs": [
    {
     "data": {
      "text/plain": "             display_name      string_name combined_transaction_date  \\\n0       Rep. Dan Crenshaw     dan crenshaw                2023-03-20   \n1    Rep. Josh Gottheimer  josh gottheimer                2023-03-06   \n2    Rep. Josh Gottheimer  josh gottheimer                2023-03-24   \n3    Rep. Josh Gottheimer  josh gottheimer                2023-03-06   \n4    Rep. Josh Gottheimer  josh gottheimer                2023-03-06   \n..                    ...              ...                       ...   \n831    Sen. Thomas Carper    thomas carper                2023-01-11   \n832    Sen. Thomas Carper    thomas carper                2023-01-11   \n833    Sen. Thomas Carper    thomas carper                2023-01-11   \n834       Sen. Rick Scott       rick scott                2023-01-19   \n835    Sen. Thomas Carper    thomas carper                2023-01-05   \n\n    disclosure_date ticker                                  asset_description  \\\n0        04/20/2023    SPY                                       SPDR S7P 500   \n1        04/20/2023   ABBV                                         AbbVie Inc   \n2        04/20/2023   ABBV                                         AbbVie Inc   \n3        04/20/2023   ALGN                               Align Technology Inc   \n4        04/20/2023   GOOG               Alphabet Inc - Class C Capital Stock   \n..              ...    ...                                                ...   \n831      02/02/2023   FLNG                      FLEX LNG Ltd. Ordinary Shares   \n832      02/02/2023   EQNR                                        Equinor ASA   \n833      02/02/2023    MCD                McDonald's Corporation Common Stock   \n834      01/19/2023    NaN  This filing was disclosed via scanned PDF. Use...   \n835      01/05/2023    NaN  This filing was disclosed via scanned PDF. Use...   \n\n             type            amount  \\\n0        purchase  $1,001 - $15,000   \n1        purchase  $1,001 - $15,000   \n2    sale_partial  $1,001 - $15,000   \n3        purchase  $1,001 - $15,000   \n4    sale_partial  $1,001 - $15,000   \n..            ...               ...   \n831      Purchase  $1,001 - $15,000   \n832      Purchase  $1,001 - $15,000   \n833   Sale (Full)  $1,001 - $15,000   \n834           NaN           Unknown   \n835           NaN           Unknown   \n\n                                            industry             sector state  \\\n0                                                NaN                NaN    TX   \n1                              Major Pharmaceuticals        Health Care    NJ   \n2                              Major Pharmaceuticals        Health Care    NJ   \n3                             Industrial Specialties        Health Care    NJ   \n4    Computer Software: Programming, Data Processing         Technology    NJ   \n..                                               ...                ...   ...   \n831                                              NaN                NaN    DE   \n832                         Integrated oil Companies             Energy    DE   \n833                                      Restaurants  Consumer Services    DE   \n834                                              NaN                NaN   NaN   \n835                                              NaN                NaN   NaN   \n\n                                              ptr_link  amount_formatted  \\\n0    https://disclosures-clerk.house.gov/public_dis...            1000.0   \n1    https://disclosures-clerk.house.gov/public_dis...            1000.0   \n2    https://disclosures-clerk.house.gov/public_dis...            1000.0   \n3    https://disclosures-clerk.house.gov/public_dis...            1000.0   \n4    https://disclosures-clerk.house.gov/public_dis...            1000.0   \n..                                                 ...               ...   \n831  https://efdsearch.senate.gov/search/view/ptr/d...            1000.0   \n832  https://efdsearch.senate.gov/search/view/ptr/d...            1000.0   \n833  https://efdsearch.senate.gov/search/view/ptr/d...            1000.0   \n834  https://efdsearch.senate.gov/search/view/ptr/6...               NaN   \n835  https://efdsearch.senate.gov/search/view/ptr/3...               NaN   \n\n          id                                  uuid  \n0    C001120  3073944c-b649-4dfc-a88a-a12920c45e8f  \n1    G000583  1b524e36-f623-49c8-9a1a-44286423febe  \n2    G000583  5e3ea1f2-f5ff-470c-a022-2b22a9322b96  \n3    G000583  8a47232e-6788-473c-891f-c5a8b96c618d  \n4    G000583  22d8eb9e-5eca-473b-96a6-a03378fb2cbb  \n..       ...                                   ...  \n831  C000174  8a87e854-6314-478f-addf-5ff12fb72859  \n832  C000174  cb62098f-922a-4b1e-bb6f-9725e1742b65  \n833  C000174  3037eb9c-70c2-4b79-99f3-7024bed1b246  \n834  S001217  09100fe3-0102-4f22-8d2b-e65128ac6372  \n835  C000174  d63df06b-072a-4bea-b666-35084ed6206a  \n\n[836 rows x 15 columns]",
      "text/html": "<div>\n<style scoped>\n    .dataframe tbody tr th:only-of-type {\n        vertical-align: middle;\n    }\n\n    .dataframe tbody tr th {\n        vertical-align: top;\n    }\n\n    .dataframe thead th {\n        text-align: right;\n    }\n</style>\n<table border=\"1\" class=\"dataframe\">\n  <thead>\n    <tr style=\"text-align: right;\">\n      <th></th>\n      <th>display_name</th>\n      <th>string_name</th>\n      <th>combined_transaction_date</th>\n      <th>disclosure_date</th>\n      <th>ticker</th>\n      <th>asset_description</th>\n      <th>type</th>\n      <th>amount</th>\n      <th>industry</th>\n      <th>sector</th>\n      <th>state</th>\n      <th>ptr_link</th>\n      <th>amount_formatted</th>\n      <th>id</th>\n      <th>uuid</th>\n    </tr>\n  </thead>\n  <tbody>\n    <tr>\n      <th>0</th>\n      <td>Rep. Dan Crenshaw</td>\n      <td>dan crenshaw</td>\n      <td>2023-03-20</td>\n      <td>04/20/2023</td>\n      <td>SPY</td>\n      <td>SPDR S7P 500</td>\n      <td>purchase</td>\n      <td>$1,001 - $15,000</td>\n      <td>NaN</td>\n      <td>NaN</td>\n      <td>TX</td>\n      <td>https://disclosures-clerk.house.gov/public_dis...</td>\n      <td>1000.0</td>\n      <td>C001120</td>\n      <td>3073944c-b649-4dfc-a88a-a12920c45e8f</td>\n    </tr>\n    <tr>\n      <th>1</th>\n      <td>Rep. Josh Gottheimer</td>\n      <td>josh gottheimer</td>\n      <td>2023-03-06</td>\n      <td>04/20/2023</td>\n      <td>ABBV</td>\n      <td>AbbVie Inc</td>\n      <td>purchase</td>\n      <td>$1,001 - $15,000</td>\n      <td>Major Pharmaceuticals</td>\n      <td>Health Care</td>\n      <td>NJ</td>\n      <td>https://disclosures-clerk.house.gov/public_dis...</td>\n      <td>1000.0</td>\n      <td>G000583</td>\n      <td>1b524e36-f623-49c8-9a1a-44286423febe</td>\n    </tr>\n    <tr>\n      <th>2</th>\n      <td>Rep. Josh Gottheimer</td>\n      <td>josh gottheimer</td>\n      <td>2023-03-24</td>\n      <td>04/20/2023</td>\n      <td>ABBV</td>\n      <td>AbbVie Inc</td>\n      <td>sale_partial</td>\n      <td>$1,001 - $15,000</td>\n      <td>Major Pharmaceuticals</td>\n      <td>Health Care</td>\n      <td>NJ</td>\n      <td>https://disclosures-clerk.house.gov/public_dis...</td>\n      <td>1000.0</td>\n      <td>G000583</td>\n      <td>5e3ea1f2-f5ff-470c-a022-2b22a9322b96</td>\n    </tr>\n    <tr>\n      <th>3</th>\n      <td>Rep. Josh Gottheimer</td>\n      <td>josh gottheimer</td>\n      <td>2023-03-06</td>\n      <td>04/20/2023</td>\n      <td>ALGN</td>\n      <td>Align Technology Inc</td>\n      <td>purchase</td>\n      <td>$1,001 - $15,000</td>\n      <td>Industrial Specialties</td>\n      <td>Health Care</td>\n      <td>NJ</td>\n      <td>https://disclosures-clerk.house.gov/public_dis...</td>\n      <td>1000.0</td>\n      <td>G000583</td>\n      <td>8a47232e-6788-473c-891f-c5a8b96c618d</td>\n    </tr>\n    <tr>\n      <th>4</th>\n      <td>Rep. Josh Gottheimer</td>\n      <td>josh gottheimer</td>\n      <td>2023-03-06</td>\n      <td>04/20/2023</td>\n      <td>GOOG</td>\n      <td>Alphabet Inc - Class C Capital Stock</td>\n      <td>sale_partial</td>\n      <td>$1,001 - $15,000</td>\n      <td>Computer Software: Programming, Data Processing</td>\n      <td>Technology</td>\n      <td>NJ</td>\n      <td>https://disclosures-clerk.house.gov/public_dis...</td>\n      <td>1000.0</td>\n      <td>G000583</td>\n      <td>22d8eb9e-5eca-473b-96a6-a03378fb2cbb</td>\n    </tr>\n    <tr>\n      <th>...</th>\n      <td>...</td>\n      <td>...</td>\n      <td>...</td>\n      <td>...</td>\n      <td>...</td>\n      <td>...</td>\n      <td>...</td>\n      <td>...</td>\n      <td>...</td>\n      <td>...</td>\n      <td>...</td>\n      <td>...</td>\n      <td>...</td>\n      <td>...</td>\n      <td>...</td>\n    </tr>\n    <tr>\n      <th>831</th>\n      <td>Sen. Thomas Carper</td>\n      <td>thomas carper</td>\n      <td>2023-01-11</td>\n      <td>02/02/2023</td>\n      <td>FLNG</td>\n      <td>FLEX LNG Ltd. Ordinary Shares</td>\n      <td>Purchase</td>\n      <td>$1,001 - $15,000</td>\n      <td>NaN</td>\n      <td>NaN</td>\n      <td>DE</td>\n      <td>https://efdsearch.senate.gov/search/view/ptr/d...</td>\n      <td>1000.0</td>\n      <td>C000174</td>\n      <td>8a87e854-6314-478f-addf-5ff12fb72859</td>\n    </tr>\n    <tr>\n      <th>832</th>\n      <td>Sen. Thomas Carper</td>\n      <td>thomas carper</td>\n      <td>2023-01-11</td>\n      <td>02/02/2023</td>\n      <td>EQNR</td>\n      <td>Equinor ASA</td>\n      <td>Purchase</td>\n      <td>$1,001 - $15,000</td>\n      <td>Integrated oil Companies</td>\n      <td>Energy</td>\n      <td>DE</td>\n      <td>https://efdsearch.senate.gov/search/view/ptr/d...</td>\n      <td>1000.0</td>\n      <td>C000174</td>\n      <td>cb62098f-922a-4b1e-bb6f-9725e1742b65</td>\n    </tr>\n    <tr>\n      <th>833</th>\n      <td>Sen. Thomas Carper</td>\n      <td>thomas carper</td>\n      <td>2023-01-11</td>\n      <td>02/02/2023</td>\n      <td>MCD</td>\n      <td>McDonald's Corporation Common Stock</td>\n      <td>Sale (Full)</td>\n      <td>$1,001 - $15,000</td>\n      <td>Restaurants</td>\n      <td>Consumer Services</td>\n      <td>DE</td>\n      <td>https://efdsearch.senate.gov/search/view/ptr/d...</td>\n      <td>1000.0</td>\n      <td>C000174</td>\n      <td>3037eb9c-70c2-4b79-99f3-7024bed1b246</td>\n    </tr>\n    <tr>\n      <th>834</th>\n      <td>Sen. Rick Scott</td>\n      <td>rick scott</td>\n      <td>2023-01-19</td>\n      <td>01/19/2023</td>\n      <td>NaN</td>\n      <td>This filing was disclosed via scanned PDF. Use...</td>\n      <td>NaN</td>\n      <td>Unknown</td>\n      <td>NaN</td>\n      <td>NaN</td>\n      <td>NaN</td>\n      <td>https://efdsearch.senate.gov/search/view/ptr/6...</td>\n      <td>NaN</td>\n      <td>S001217</td>\n      <td>09100fe3-0102-4f22-8d2b-e65128ac6372</td>\n    </tr>\n    <tr>\n      <th>835</th>\n      <td>Sen. Thomas Carper</td>\n      <td>thomas carper</td>\n      <td>2023-01-05</td>\n      <td>01/05/2023</td>\n      <td>NaN</td>\n      <td>This filing was disclosed via scanned PDF. Use...</td>\n      <td>NaN</td>\n      <td>Unknown</td>\n      <td>NaN</td>\n      <td>NaN</td>\n      <td>NaN</td>\n      <td>https://efdsearch.senate.gov/search/view/ptr/3...</td>\n      <td>NaN</td>\n      <td>C000174</td>\n      <td>d63df06b-072a-4bea-b666-35084ed6206a</td>\n    </tr>\n  </tbody>\n</table>\n<p>836 rows × 15 columns</p>\n</div>"
     },
     "execution_count": 148,
     "metadata": {},
     "output_type": "execute_result"
    }
   ],
   "source": [
    "trans_118"
   ],
   "metadata": {
    "collapsed": false,
    "ExecuteTime": {
     "end_time": "2023-11-30T07:13:26.204072Z",
     "start_time": "2023-11-30T07:13:26.180933Z"
    }
   },
   "id": "949822cf6a799c75"
  },
  {
   "cell_type": "code",
   "execution_count": 149,
   "outputs": [],
   "source": [
    "trans_116['congress'] = 116\n",
    "trans_117['congress'] = 117\n",
    "trans_118['congress'] = 118"
   ],
   "metadata": {
    "collapsed": false,
    "ExecuteTime": {
     "end_time": "2023-11-30T07:13:28.345536Z",
     "start_time": "2023-11-30T07:13:28.320548Z"
    }
   },
   "id": "c87464dadd55f17c"
  },
  {
   "cell_type": "code",
   "execution_count": 150,
   "outputs": [
    {
     "data": {
      "text/plain": "              display_name     string_name combined_transaction_date  \\\n7583     Sen. David Perdue    david perdue                2020-11-04   \n7750   Sen. Kelly Loeffler  kelly loeffler                2020-07-22   \n7943   Sen. Kelly Loeffler  kelly loeffler                2020-05-20   \n7944   Sen. Kelly Loeffler  kelly loeffler                2020-05-20   \n7945   Sen. Kelly Loeffler  kelly loeffler                2020-05-20   \n...                    ...             ...                       ...   \n14398    Sen. Richard Burr    richard burr                2013-02-06   \n14408    Sen. Richard Burr    richard burr                2013-01-14   \n14441    Sen. Richard Burr    richard burr                2012-10-19   \n14456    Sen. Richard Burr    richard burr                2012-09-11   \n23180    Sen. Richard Burr    richard burr                2021-05-17   \n\n      disclosure_date ticker  \\\n7583       11/04/2020    NaN   \n7750       08/21/2020    ICE   \n7943       05/22/2020    ICE   \n7944       05/22/2020    ICE   \n7945       05/22/2020    ICE   \n...               ...    ...   \n14398      02/06/2013    NaN   \n14408      01/14/2013    NaN   \n14441      10/19/2012    NaN   \n14456      09/11/2012    NaN   \n23180      05/17/2021    NaN   \n\n                                       asset_description            type  \\\n7583   This filing was disclosed via scanned PDF. Use...             NaN   \n7750                     Intercontinental Exchange, Inc.  Sale (Partial)   \n7943                     Intercontinental Exchange, Inc.        Purchase   \n7944                     Intercontinental Exchange, Inc.  Sale (Partial)   \n7945                     Intercontinental Exchange, Inc.  Sale (Partial)   \n...                                                  ...             ...   \n14398  This filing was disclosed via scanned PDF. Use...             NaN   \n14408  This filing was disclosed via scanned PDF. Use...             NaN   \n14441  This filing was disclosed via scanned PDF. Use...             NaN   \n14456  This filing was disclosed via scanned PDF. Use...             NaN   \n23180  This filing was disclosed via scanned PDF. Use...             NaN   \n\n                         amount                            industry   sector  \\\n7583                    Unknown                                 NaN      NaN   \n7750   $5,000,001 - $25,000,000  Investment Bankers/Brokers/Service  Finance   \n7943    $1,000,001 - $5,000,000  Investment Bankers/Brokers/Service  Finance   \n7944   $5,000,001 - $25,000,000  Investment Bankers/Brokers/Service  Finance   \n7945    $1,000,001 - $5,000,000  Investment Bankers/Brokers/Service  Finance   \n...                         ...                                 ...      ...   \n14398                   Unknown                                 NaN      NaN   \n14408                   Unknown                                 NaN      NaN   \n14441                   Unknown                                 NaN      NaN   \n14456                   Unknown                                 NaN      NaN   \n23180                   Unknown                                 NaN      NaN   \n\n      state                                           ptr_link  \\\n7583    NaN  https://efdsearch.senate.gov/search/view/ptr/a...   \n7750     GA  https://efdsearch.senate.gov/search/view/ptr/f...   \n7943     GA  https://efdsearch.senate.gov/search/view/ptr/c...   \n7944     GA  https://efdsearch.senate.gov/search/view/ptr/c...   \n7945     GA  https://efdsearch.senate.gov/search/view/ptr/c...   \n...     ...                                                ...   \n14398   NaN  https://efdsearch.senate.gov/search/view/paper...   \n14408   NaN  https://efdsearch.senate.gov/search/view/paper...   \n14441   NaN  https://efdsearch.senate.gov/search/view/paper...   \n14456   NaN  https://efdsearch.senate.gov/search/view/paper...   \n23180   NaN  https://efdsearch.senate.gov/search/view/paper...   \n\n       amount_formatted       id                                  uuid  \\\n7583                NaN  P000612  d55dc2ee-29d4-4f37-b6ec-e7bbc25c51b1   \n7750          5000000.0  L000594  ef510456-61a7-4533-a4c6-4524da6c8963   \n7943          1000000.0  L000594  7382dc38-488e-4dad-8829-a05b7dd9f058   \n7944          5000000.0  L000594  76d2aa62-031a-4ac1-b8b2-304704de743f   \n7945          1000000.0  L000594  66a9fcfd-434c-4f40-9182-38f9894e79bc   \n...                 ...      ...                                   ...   \n14398               NaN  B001135  88fedea1-061a-4823-b38e-051b2de09901   \n14408               NaN  B001135  2424020c-cde8-4ea9-b324-5b6f026f62a6   \n14441               NaN  B001135  351857d2-1201-4af5-9739-843df633e8bc   \n14456               NaN  B001135  5409c02b-2e30-4b6f-b48e-518e9f45814f   \n23180               NaN  B001135  f71c7463-0507-4c56-b05d-a325880029e3   \n\n       congress  \n7583        116  \n7750        116  \n7943        116  \n7944        116  \n7945        116  \n...         ...  \n14398       116  \n14408       116  \n14441       116  \n14456       116  \n23180       117  \n\n[2657 rows x 16 columns]",
      "text/html": "<div>\n<style scoped>\n    .dataframe tbody tr th:only-of-type {\n        vertical-align: middle;\n    }\n\n    .dataframe tbody tr th {\n        vertical-align: top;\n    }\n\n    .dataframe thead th {\n        text-align: right;\n    }\n</style>\n<table border=\"1\" class=\"dataframe\">\n  <thead>\n    <tr style=\"text-align: right;\">\n      <th></th>\n      <th>display_name</th>\n      <th>string_name</th>\n      <th>combined_transaction_date</th>\n      <th>disclosure_date</th>\n      <th>ticker</th>\n      <th>asset_description</th>\n      <th>type</th>\n      <th>amount</th>\n      <th>industry</th>\n      <th>sector</th>\n      <th>state</th>\n      <th>ptr_link</th>\n      <th>amount_formatted</th>\n      <th>id</th>\n      <th>uuid</th>\n      <th>congress</th>\n    </tr>\n  </thead>\n  <tbody>\n    <tr>\n      <th>7583</th>\n      <td>Sen. David Perdue</td>\n      <td>david perdue</td>\n      <td>2020-11-04</td>\n      <td>11/04/2020</td>\n      <td>NaN</td>\n      <td>This filing was disclosed via scanned PDF. Use...</td>\n      <td>NaN</td>\n      <td>Unknown</td>\n      <td>NaN</td>\n      <td>NaN</td>\n      <td>NaN</td>\n      <td>https://efdsearch.senate.gov/search/view/ptr/a...</td>\n      <td>NaN</td>\n      <td>P000612</td>\n      <td>d55dc2ee-29d4-4f37-b6ec-e7bbc25c51b1</td>\n      <td>116</td>\n    </tr>\n    <tr>\n      <th>7750</th>\n      <td>Sen. Kelly Loeffler</td>\n      <td>kelly loeffler</td>\n      <td>2020-07-22</td>\n      <td>08/21/2020</td>\n      <td>ICE</td>\n      <td>Intercontinental Exchange, Inc.</td>\n      <td>Sale (Partial)</td>\n      <td>$5,000,001 - $25,000,000</td>\n      <td>Investment Bankers/Brokers/Service</td>\n      <td>Finance</td>\n      <td>GA</td>\n      <td>https://efdsearch.senate.gov/search/view/ptr/f...</td>\n      <td>5000000.0</td>\n      <td>L000594</td>\n      <td>ef510456-61a7-4533-a4c6-4524da6c8963</td>\n      <td>116</td>\n    </tr>\n    <tr>\n      <th>7943</th>\n      <td>Sen. Kelly Loeffler</td>\n      <td>kelly loeffler</td>\n      <td>2020-05-20</td>\n      <td>05/22/2020</td>\n      <td>ICE</td>\n      <td>Intercontinental Exchange, Inc.</td>\n      <td>Purchase</td>\n      <td>$1,000,001 - $5,000,000</td>\n      <td>Investment Bankers/Brokers/Service</td>\n      <td>Finance</td>\n      <td>GA</td>\n      <td>https://efdsearch.senate.gov/search/view/ptr/c...</td>\n      <td>1000000.0</td>\n      <td>L000594</td>\n      <td>7382dc38-488e-4dad-8829-a05b7dd9f058</td>\n      <td>116</td>\n    </tr>\n    <tr>\n      <th>7944</th>\n      <td>Sen. Kelly Loeffler</td>\n      <td>kelly loeffler</td>\n      <td>2020-05-20</td>\n      <td>05/22/2020</td>\n      <td>ICE</td>\n      <td>Intercontinental Exchange, Inc.</td>\n      <td>Sale (Partial)</td>\n      <td>$5,000,001 - $25,000,000</td>\n      <td>Investment Bankers/Brokers/Service</td>\n      <td>Finance</td>\n      <td>GA</td>\n      <td>https://efdsearch.senate.gov/search/view/ptr/c...</td>\n      <td>5000000.0</td>\n      <td>L000594</td>\n      <td>76d2aa62-031a-4ac1-b8b2-304704de743f</td>\n      <td>116</td>\n    </tr>\n    <tr>\n      <th>7945</th>\n      <td>Sen. Kelly Loeffler</td>\n      <td>kelly loeffler</td>\n      <td>2020-05-20</td>\n      <td>05/22/2020</td>\n      <td>ICE</td>\n      <td>Intercontinental Exchange, Inc.</td>\n      <td>Sale (Partial)</td>\n      <td>$1,000,001 - $5,000,000</td>\n      <td>Investment Bankers/Brokers/Service</td>\n      <td>Finance</td>\n      <td>GA</td>\n      <td>https://efdsearch.senate.gov/search/view/ptr/c...</td>\n      <td>1000000.0</td>\n      <td>L000594</td>\n      <td>66a9fcfd-434c-4f40-9182-38f9894e79bc</td>\n      <td>116</td>\n    </tr>\n    <tr>\n      <th>...</th>\n      <td>...</td>\n      <td>...</td>\n      <td>...</td>\n      <td>...</td>\n      <td>...</td>\n      <td>...</td>\n      <td>...</td>\n      <td>...</td>\n      <td>...</td>\n      <td>...</td>\n      <td>...</td>\n      <td>...</td>\n      <td>...</td>\n      <td>...</td>\n      <td>...</td>\n      <td>...</td>\n    </tr>\n    <tr>\n      <th>14398</th>\n      <td>Sen. Richard Burr</td>\n      <td>richard burr</td>\n      <td>2013-02-06</td>\n      <td>02/06/2013</td>\n      <td>NaN</td>\n      <td>This filing was disclosed via scanned PDF. Use...</td>\n      <td>NaN</td>\n      <td>Unknown</td>\n      <td>NaN</td>\n      <td>NaN</td>\n      <td>NaN</td>\n      <td>https://efdsearch.senate.gov/search/view/paper...</td>\n      <td>NaN</td>\n      <td>B001135</td>\n      <td>88fedea1-061a-4823-b38e-051b2de09901</td>\n      <td>116</td>\n    </tr>\n    <tr>\n      <th>14408</th>\n      <td>Sen. Richard Burr</td>\n      <td>richard burr</td>\n      <td>2013-01-14</td>\n      <td>01/14/2013</td>\n      <td>NaN</td>\n      <td>This filing was disclosed via scanned PDF. Use...</td>\n      <td>NaN</td>\n      <td>Unknown</td>\n      <td>NaN</td>\n      <td>NaN</td>\n      <td>NaN</td>\n      <td>https://efdsearch.senate.gov/search/view/paper...</td>\n      <td>NaN</td>\n      <td>B001135</td>\n      <td>2424020c-cde8-4ea9-b324-5b6f026f62a6</td>\n      <td>116</td>\n    </tr>\n    <tr>\n      <th>14441</th>\n      <td>Sen. Richard Burr</td>\n      <td>richard burr</td>\n      <td>2012-10-19</td>\n      <td>10/19/2012</td>\n      <td>NaN</td>\n      <td>This filing was disclosed via scanned PDF. Use...</td>\n      <td>NaN</td>\n      <td>Unknown</td>\n      <td>NaN</td>\n      <td>NaN</td>\n      <td>NaN</td>\n      <td>https://efdsearch.senate.gov/search/view/paper...</td>\n      <td>NaN</td>\n      <td>B001135</td>\n      <td>351857d2-1201-4af5-9739-843df633e8bc</td>\n      <td>116</td>\n    </tr>\n    <tr>\n      <th>14456</th>\n      <td>Sen. Richard Burr</td>\n      <td>richard burr</td>\n      <td>2012-09-11</td>\n      <td>09/11/2012</td>\n      <td>NaN</td>\n      <td>This filing was disclosed via scanned PDF. Use...</td>\n      <td>NaN</td>\n      <td>Unknown</td>\n      <td>NaN</td>\n      <td>NaN</td>\n      <td>NaN</td>\n      <td>https://efdsearch.senate.gov/search/view/paper...</td>\n      <td>NaN</td>\n      <td>B001135</td>\n      <td>5409c02b-2e30-4b6f-b48e-518e9f45814f</td>\n      <td>116</td>\n    </tr>\n    <tr>\n      <th>23180</th>\n      <td>Sen. Richard Burr</td>\n      <td>richard burr</td>\n      <td>2021-05-17</td>\n      <td>05/17/2021</td>\n      <td>NaN</td>\n      <td>This filing was disclosed via scanned PDF. Use...</td>\n      <td>NaN</td>\n      <td>Unknown</td>\n      <td>NaN</td>\n      <td>NaN</td>\n      <td>NaN</td>\n      <td>https://efdsearch.senate.gov/search/view/paper...</td>\n      <td>NaN</td>\n      <td>B001135</td>\n      <td>f71c7463-0507-4c56-b05d-a325880029e3</td>\n      <td>117</td>\n    </tr>\n  </tbody>\n</table>\n<p>2657 rows × 16 columns</p>\n</div>"
     },
     "execution_count": 150,
     "metadata": {},
     "output_type": "execute_result"
    }
   ],
   "source": [
    "transactions = pd.concat([trans_116, trans_117, trans_118], axis=0, ignore_index=True, sort=False)\n",
    "\n",
    "transactions[transactions['string_name'].isin(names_of_interest)]"
   ],
   "metadata": {
    "collapsed": false,
    "ExecuteTime": {
     "end_time": "2023-11-30T07:13:33.585922Z",
     "start_time": "2023-11-30T07:13:33.534395Z"
    }
   },
   "id": "66f73bb65d73ec6e"
  },
  {
   "cell_type": "code",
   "execution_count": 151,
   "outputs": [],
   "source": [
    "transactions.to_csv('../prod_data/transactions.csv', index=False)"
   ],
   "metadata": {
    "collapsed": false,
    "ExecuteTime": {
     "end_time": "2023-11-30T07:13:37.530583Z",
     "start_time": "2023-11-30T07:13:37.319994Z"
    }
   },
   "id": "d9d791ad9c8f19b8"
  },
  {
   "cell_type": "code",
   "execution_count": 100,
   "outputs": [
    {
     "data": {
      "text/plain": "            id  congress\n0      L000590       116\n31     L000579       116\n34     B001274       116\n36     W000804       116\n44     D000617       116\n...        ...       ...\n24000  S001203       118\n24021  M000355       118\n24024  S001198       118\n24030  B001236       118\n24100  C001088       118\n\n[364 rows x 2 columns]",
      "text/html": "<div>\n<style scoped>\n    .dataframe tbody tr th:only-of-type {\n        vertical-align: middle;\n    }\n\n    .dataframe tbody tr th {\n        vertical-align: top;\n    }\n\n    .dataframe thead th {\n        text-align: right;\n    }\n</style>\n<table border=\"1\" class=\"dataframe\">\n  <thead>\n    <tr style=\"text-align: right;\">\n      <th></th>\n      <th>id</th>\n      <th>congress</th>\n    </tr>\n  </thead>\n  <tbody>\n    <tr>\n      <th>0</th>\n      <td>L000590</td>\n      <td>116</td>\n    </tr>\n    <tr>\n      <th>31</th>\n      <td>L000579</td>\n      <td>116</td>\n    </tr>\n    <tr>\n      <th>34</th>\n      <td>B001274</td>\n      <td>116</td>\n    </tr>\n    <tr>\n      <th>36</th>\n      <td>W000804</td>\n      <td>116</td>\n    </tr>\n    <tr>\n      <th>44</th>\n      <td>D000617</td>\n      <td>116</td>\n    </tr>\n    <tr>\n      <th>...</th>\n      <td>...</td>\n      <td>...</td>\n    </tr>\n    <tr>\n      <th>24000</th>\n      <td>S001203</td>\n      <td>118</td>\n    </tr>\n    <tr>\n      <th>24021</th>\n      <td>M000355</td>\n      <td>118</td>\n    </tr>\n    <tr>\n      <th>24024</th>\n      <td>S001198</td>\n      <td>118</td>\n    </tr>\n    <tr>\n      <th>24030</th>\n      <td>B001236</td>\n      <td>118</td>\n    </tr>\n    <tr>\n      <th>24100</th>\n      <td>C001088</td>\n      <td>118</td>\n    </tr>\n  </tbody>\n</table>\n<p>364 rows × 2 columns</p>\n</div>"
     },
     "execution_count": 100,
     "metadata": {},
     "output_type": "execute_result"
    }
   ],
   "source": [
    "id = transactions[['id','congress']].drop_duplicates()\n",
    "id"
   ],
   "metadata": {
    "collapsed": false,
    "ExecuteTime": {
     "end_time": "2023-11-30T07:03:07.282944Z",
     "start_time": "2023-11-30T07:03:07.251338Z"
    }
   },
   "id": "e1218e99073cac55"
  },
  {
   "cell_type": "code",
   "execution_count": 101,
   "outputs": [
    {
     "data": {
      "text/plain": "            id  congress\n0      L000590       116\n31     L000579       116\n34     B001274       116\n36     W000804       116\n44     D000617       116\n...        ...       ...\n15454  D000628       118\n15545  J000308       118\n15577  T000488       118\n15654  C001078       118\n15682  E000296       118\n\n[286 rows x 2 columns]",
      "text/html": "<div>\n<style scoped>\n    .dataframe tbody tr th:only-of-type {\n        vertical-align: middle;\n    }\n\n    .dataframe tbody tr th {\n        vertical-align: top;\n    }\n\n    .dataframe thead th {\n        text-align: right;\n    }\n</style>\n<table border=\"1\" class=\"dataframe\">\n  <thead>\n    <tr style=\"text-align: right;\">\n      <th></th>\n      <th>id</th>\n      <th>congress</th>\n    </tr>\n  </thead>\n  <tbody>\n    <tr>\n      <th>0</th>\n      <td>L000590</td>\n      <td>116</td>\n    </tr>\n    <tr>\n      <th>31</th>\n      <td>L000579</td>\n      <td>116</td>\n    </tr>\n    <tr>\n      <th>34</th>\n      <td>B001274</td>\n      <td>116</td>\n    </tr>\n    <tr>\n      <th>36</th>\n      <td>W000804</td>\n      <td>116</td>\n    </tr>\n    <tr>\n      <th>44</th>\n      <td>D000617</td>\n      <td>116</td>\n    </tr>\n    <tr>\n      <th>...</th>\n      <td>...</td>\n      <td>...</td>\n    </tr>\n    <tr>\n      <th>15454</th>\n      <td>D000628</td>\n      <td>118</td>\n    </tr>\n    <tr>\n      <th>15545</th>\n      <td>J000308</td>\n      <td>118</td>\n    </tr>\n    <tr>\n      <th>15577</th>\n      <td>T000488</td>\n      <td>118</td>\n    </tr>\n    <tr>\n      <th>15654</th>\n      <td>C001078</td>\n      <td>118</td>\n    </tr>\n    <tr>\n      <th>15682</th>\n      <td>E000296</td>\n      <td>118</td>\n    </tr>\n  </tbody>\n</table>\n<p>286 rows × 2 columns</p>\n</div>"
     },
     "execution_count": 101,
     "metadata": {},
     "output_type": "execute_result"
    }
   ],
   "source": [
    "transactions_old = pd.read_csv('../prod_data/transactions.csv')\n",
    "old_id = transactions_old[['id','congress']].drop_duplicates()\n",
    "\n",
    "old_id"
   ],
   "metadata": {
    "collapsed": false,
    "ExecuteTime": {
     "end_time": "2023-11-30T07:03:12.255868Z",
     "start_time": "2023-11-30T07:03:12.153813Z"
    }
   },
   "id": "4d94d34ee57f1878"
  },
  {
   "cell_type": "code",
   "execution_count": 106,
   "outputs": [],
   "source": [
    "merged_df = id.merge(old_id, on=['id','congress'], how='outer', indicator=True)\n",
    "\n",
    "\n",
    "new_ids = merged_df[merged_df['_merge'] == 'left_only'].drop(columns=['_merge'])\n",
    "new_ids.to_csv('../prod_data/new_ids.csv')"
   ],
   "metadata": {
    "collapsed": false,
    "ExecuteTime": {
     "end_time": "2023-11-30T07:05:13.592010Z",
     "start_time": "2023-11-30T07:05:13.546815Z"
    }
   },
   "id": "9247f39f5b4385d3"
  },
  {
   "cell_type": "code",
   "execution_count": 104,
   "outputs": [
    {
     "data": {
      "text/plain": "Empty DataFrame\nColumns: [display_name, transaction_date, disclosure_date, ticker, asset_description, type, amount, industry, sector, state, amount_formatted, id, uuid, congress]\nIndex: []",
      "text/html": "<div>\n<style scoped>\n    .dataframe tbody tr th:only-of-type {\n        vertical-align: middle;\n    }\n\n    .dataframe tbody tr th {\n        vertical-align: top;\n    }\n\n    .dataframe thead th {\n        text-align: right;\n    }\n</style>\n<table border=\"1\" class=\"dataframe\">\n  <thead>\n    <tr style=\"text-align: right;\">\n      <th></th>\n      <th>display_name</th>\n      <th>transaction_date</th>\n      <th>disclosure_date</th>\n      <th>ticker</th>\n      <th>asset_description</th>\n      <th>type</th>\n      <th>amount</th>\n      <th>industry</th>\n      <th>sector</th>\n      <th>state</th>\n      <th>amount_formatted</th>\n      <th>id</th>\n      <th>uuid</th>\n      <th>congress</th>\n    </tr>\n  </thead>\n  <tbody>\n  </tbody>\n</table>\n</div>"
     },
     "execution_count": 104,
     "metadata": {},
     "output_type": "execute_result"
    }
   ],
   "source": [
    "t"
   ],
   "metadata": {
    "collapsed": false,
    "ExecuteTime": {
     "end_time": "2023-11-30T07:04:19.929074Z",
     "start_time": "2023-11-30T07:04:19.908394Z"
    }
   },
   "id": "e35cee23e25874ca"
  },
  {
   "cell_type": "code",
   "execution_count": null,
   "outputs": [],
   "source": [],
   "metadata": {
    "collapsed": false
   },
   "id": "dd6032a65cb367d1"
  }
 ],
 "metadata": {
  "kernelspec": {
   "display_name": "Python 3",
   "language": "python",
   "name": "python3"
  },
  "language_info": {
   "codemirror_mode": {
    "name": "ipython",
    "version": 2
   },
   "file_extension": ".py",
   "mimetype": "text/x-python",
   "name": "python",
   "nbconvert_exporter": "python",
   "pygments_lexer": "ipython2",
   "version": "2.7.6"
  }
 },
 "nbformat": 4,
 "nbformat_minor": 5
}
