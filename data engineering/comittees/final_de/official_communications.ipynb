{
 "cells": [
  {
   "cell_type": "code",
   "execution_count": 1,
   "id": "initial_id",
   "metadata": {
    "collapsed": true,
    "ExecuteTime": {
     "end_time": "2023-11-29T07:03:56.632426Z",
     "start_time": "2023-11-29T07:03:55.542353Z"
    }
   },
   "outputs": [
    {
     "name": "stderr",
     "output_type": "stream",
     "text": [
      "/Users/mats_dodd/opt/anaconda3/lib/python3.8/site-packages/pandas/core/computation/expressions.py:20: UserWarning: Pandas requires version '2.7.3' or newer of 'numexpr' (version '2.7.1' currently installed).\n",
      "  from pandas.core.computation.check import NUMEXPR_INSTALLED\n"
     ]
    }
   ],
   "source": [
    "import pandas as pd\n",
    "import nameparser\n",
    "import json\n",
    "import requests\n",
    "import numpy as np\n",
    "\n",
    "pro_publica_api_key = \"PguHImFJakafbsBpZ2ed21A1HIgvXKiM7tg0BqI0 \"\n",
    "headers = {'X-API-Key': pro_publica_api_key}"
   ]
  },
  {
   "cell_type": "code",
   "execution_count": 18,
   "outputs": [
    {
     "data": {
      "text/plain": "    communication_id                                                url  \\\n0             EC5012  /senate-communication/117th-congress/executive...   \n1             EC5011  /senate-communication/117th-congress/executive...   \n2             EC5010  /senate-communication/117th-congress/executive...   \n3             EC5009  /senate-communication/117th-congress/executive...   \n4             EC5008  /senate-communication/117th-congress/executive...   \n..               ...                                                ...   \n815            EC441  /house-communication/117th-congress/executive-...   \n816            EC440  /house-communication/117th-congress/executive-...   \n817            EC439  /house-communication/117th-congress/executive-...   \n818            EC438  /house-communication/117th-congress/executive-...   \n819            EC437  /house-communication/117th-congress/executive-...   \n\n           date                                               text  \\\n0    2022-09-13  A communication from the Management and Progra...   \n1    2022-09-13  A communication from the Management and Progra...   \n2    2022-09-13  A communication from the Management and Progra...   \n3    2022-09-13  A communication from the Management and Progra...   \n4    2022-09-13  A communication from the Management and Progra...   \n..          ...                                                ...   \n815  2021-02-26  A letter from the Management and Program Analy...   \n816  2021-02-26  A letter from the Management and Program Analy...   \n817  2021-02-26  A letter from the Management and Program Analy...   \n818  2021-02-26  A letter from the Management and Program Analy...   \n819  2021-02-26  A letter from the Management and Program Analy...   \n\n                    category committee_code  congress chamber  \n0    Executive Communication           SSCM       117  Senate  \n1    Executive Communication           SSCM       117  Senate  \n2    Executive Communication           SSCM       117  Senate  \n3    Executive Communication           SSCM       117  Senate  \n4    Executive Communication           SSCM       117  Senate  \n..                       ...            ...       ...     ...  \n815  Executive Communication           HSPW       117   House  \n816  Executive Communication           HSPW       117   House  \n817  Executive Communication           HSPW       117   House  \n818  Executive Communication           HSPW       117   House  \n819  Executive Communication           HSPW       117   House  \n\n[820 rows x 8 columns]",
      "text/html": "<div>\n<style scoped>\n    .dataframe tbody tr th:only-of-type {\n        vertical-align: middle;\n    }\n\n    .dataframe tbody tr th {\n        vertical-align: top;\n    }\n\n    .dataframe thead th {\n        text-align: right;\n    }\n</style>\n<table border=\"1\" class=\"dataframe\">\n  <thead>\n    <tr style=\"text-align: right;\">\n      <th></th>\n      <th>communication_id</th>\n      <th>url</th>\n      <th>date</th>\n      <th>text</th>\n      <th>category</th>\n      <th>committee_code</th>\n      <th>congress</th>\n      <th>chamber</th>\n    </tr>\n  </thead>\n  <tbody>\n    <tr>\n      <th>0</th>\n      <td>EC5012</td>\n      <td>/senate-communication/117th-congress/executive...</td>\n      <td>2022-09-13</td>\n      <td>A communication from the Management and Progra...</td>\n      <td>Executive Communication</td>\n      <td>SSCM</td>\n      <td>117</td>\n      <td>Senate</td>\n    </tr>\n    <tr>\n      <th>1</th>\n      <td>EC5011</td>\n      <td>/senate-communication/117th-congress/executive...</td>\n      <td>2022-09-13</td>\n      <td>A communication from the Management and Progra...</td>\n      <td>Executive Communication</td>\n      <td>SSCM</td>\n      <td>117</td>\n      <td>Senate</td>\n    </tr>\n    <tr>\n      <th>2</th>\n      <td>EC5010</td>\n      <td>/senate-communication/117th-congress/executive...</td>\n      <td>2022-09-13</td>\n      <td>A communication from the Management and Progra...</td>\n      <td>Executive Communication</td>\n      <td>SSCM</td>\n      <td>117</td>\n      <td>Senate</td>\n    </tr>\n    <tr>\n      <th>3</th>\n      <td>EC5009</td>\n      <td>/senate-communication/117th-congress/executive...</td>\n      <td>2022-09-13</td>\n      <td>A communication from the Management and Progra...</td>\n      <td>Executive Communication</td>\n      <td>SSCM</td>\n      <td>117</td>\n      <td>Senate</td>\n    </tr>\n    <tr>\n      <th>4</th>\n      <td>EC5008</td>\n      <td>/senate-communication/117th-congress/executive...</td>\n      <td>2022-09-13</td>\n      <td>A communication from the Management and Progra...</td>\n      <td>Executive Communication</td>\n      <td>SSCM</td>\n      <td>117</td>\n      <td>Senate</td>\n    </tr>\n    <tr>\n      <th>...</th>\n      <td>...</td>\n      <td>...</td>\n      <td>...</td>\n      <td>...</td>\n      <td>...</td>\n      <td>...</td>\n      <td>...</td>\n      <td>...</td>\n    </tr>\n    <tr>\n      <th>815</th>\n      <td>EC441</td>\n      <td>/house-communication/117th-congress/executive-...</td>\n      <td>2021-02-26</td>\n      <td>A letter from the Management and Program Analy...</td>\n      <td>Executive Communication</td>\n      <td>HSPW</td>\n      <td>117</td>\n      <td>House</td>\n    </tr>\n    <tr>\n      <th>816</th>\n      <td>EC440</td>\n      <td>/house-communication/117th-congress/executive-...</td>\n      <td>2021-02-26</td>\n      <td>A letter from the Management and Program Analy...</td>\n      <td>Executive Communication</td>\n      <td>HSPW</td>\n      <td>117</td>\n      <td>House</td>\n    </tr>\n    <tr>\n      <th>817</th>\n      <td>EC439</td>\n      <td>/house-communication/117th-congress/executive-...</td>\n      <td>2021-02-26</td>\n      <td>A letter from the Management and Program Analy...</td>\n      <td>Executive Communication</td>\n      <td>HSPW</td>\n      <td>117</td>\n      <td>House</td>\n    </tr>\n    <tr>\n      <th>818</th>\n      <td>EC438</td>\n      <td>/house-communication/117th-congress/executive-...</td>\n      <td>2021-02-26</td>\n      <td>A letter from the Management and Program Analy...</td>\n      <td>Executive Communication</td>\n      <td>HSPW</td>\n      <td>117</td>\n      <td>House</td>\n    </tr>\n    <tr>\n      <th>819</th>\n      <td>EC437</td>\n      <td>/house-communication/117th-congress/executive-...</td>\n      <td>2021-02-26</td>\n      <td>A letter from the Management and Program Analy...</td>\n      <td>Executive Communication</td>\n      <td>HSPW</td>\n      <td>117</td>\n      <td>House</td>\n    </tr>\n  </tbody>\n</table>\n<p>820 rows × 8 columns</p>\n</div>"
     },
     "execution_count": 18,
     "metadata": {},
     "output_type": "execute_result"
    }
   ],
   "source": [
    "\n",
    "\n",
    "url = f\"https://api.propublica.org/congress/v1/117/communications.json\"\n",
    "response = requests.get(url, headers=headers)\n",
    "data = response.json()\n",
    "offset_value = 0\n",
    "total_results = data['num_results']\n",
    "times = total_results // 20 + 1\n",
    "\n",
    "communication_id_list = []\n",
    "communication_url_list = []\n",
    "communication_date_list = []\n",
    "communication_text_list = []\n",
    "communication_category_list = []\n",
    "communication_committee_list = []\n",
    "communication_congress_list = []\n",
    "communication_chamber_list = []\n",
    "while times >=0:\n",
    "    url = f\"https://api.propublica.org/congress/v1/117/communications.json?offset={offset_value}\"\n",
    "    response = requests.get(url, headers=headers)\n",
    "    if 'results' in response.json().keys():\n",
    "        data = response.json()\n",
    "        for communication in data['results']:\n",
    "            communication_id_list.append(communication['communication_id'])\n",
    "            communication_url_list.append(communication['url'])\n",
    "            communication_date_list.append(communication['date'])\n",
    "            communication_text_list.append(communication['text'])\n",
    "            communication_category_list.append(communication['category'])\n",
    "            communication_committee_list.append(communication['committee_code'])\n",
    "            communication_congress_list.append(communication['congress'])\n",
    "            communication_chamber_list.append(communication['chamber'])\n",
    "    \n",
    "    else:\n",
    "        pass\n",
    "    offset_value += 20\n",
    "    times -= 1\n",
    "    \n",
    "communications_df_117 = pd.DataFrame({'communication_id': communication_id_list,\n",
    "                                  'url': communication_url_list,\n",
    "                                  'date': communication_date_list,\n",
    "                                  'text': communication_text_list,\n",
    "                                  'category': communication_category_list,\n",
    "                                  'committee_code': communication_committee_list,\n",
    "                                  'congress': communication_congress_list,\n",
    "                                  'chamber': communication_chamber_list})\n",
    "\n",
    "communications_df_117"
   ],
   "metadata": {
    "collapsed": false,
    "ExecuteTime": {
     "end_time": "2023-11-29T07:21:34.380234Z",
     "start_time": "2023-11-29T07:21:19.195145Z"
    }
   },
   "id": "fda7e99d2e9d2e8f"
  },
  {
   "cell_type": "code",
   "execution_count": 19,
   "outputs": [
    {
     "ename": "JSONDecodeError",
     "evalue": "Expecting value: line 1 column 1 (char 0)",
     "output_type": "error",
     "traceback": [
      "\u001B[0;31m---------------------------------------------------------------------------\u001B[0m",
      "\u001B[0;31mJSONDecodeError\u001B[0m                           Traceback (most recent call last)",
      "\u001B[0;32m~/opt/anaconda3/lib/python3.8/site-packages/requests/models.py\u001B[0m in \u001B[0;36mjson\u001B[0;34m(self, **kwargs)\u001B[0m\n\u001B[1;32m    970\u001B[0m         \u001B[0;32mtry\u001B[0m\u001B[0;34m:\u001B[0m\u001B[0;34m\u001B[0m\u001B[0;34m\u001B[0m\u001B[0m\n\u001B[0;32m--> 971\u001B[0;31m             \u001B[0;32mreturn\u001B[0m \u001B[0mcomplexjson\u001B[0m\u001B[0;34m.\u001B[0m\u001B[0mloads\u001B[0m\u001B[0;34m(\u001B[0m\u001B[0mself\u001B[0m\u001B[0;34m.\u001B[0m\u001B[0mtext\u001B[0m\u001B[0;34m,\u001B[0m \u001B[0;34m**\u001B[0m\u001B[0mkwargs\u001B[0m\u001B[0;34m)\u001B[0m\u001B[0;34m\u001B[0m\u001B[0;34m\u001B[0m\u001B[0m\n\u001B[0m\u001B[1;32m    972\u001B[0m         \u001B[0;32mexcept\u001B[0m \u001B[0mJSONDecodeError\u001B[0m \u001B[0;32mas\u001B[0m \u001B[0me\u001B[0m\u001B[0;34m:\u001B[0m\u001B[0;34m\u001B[0m\u001B[0;34m\u001B[0m\u001B[0m\n",
      "\u001B[0;32m~/opt/anaconda3/lib/python3.8/site-packages/simplejson/__init__.py\u001B[0m in \u001B[0;36mloads\u001B[0;34m(s, encoding, cls, object_hook, parse_float, parse_int, parse_constant, object_pairs_hook, use_decimal, allow_nan, **kw)\u001B[0m\n\u001B[1;32m    513\u001B[0m             and not use_decimal and not allow_nan and not kw):\n\u001B[0;32m--> 514\u001B[0;31m         \u001B[0;32mreturn\u001B[0m \u001B[0m_default_decoder\u001B[0m\u001B[0;34m.\u001B[0m\u001B[0mdecode\u001B[0m\u001B[0;34m(\u001B[0m\u001B[0ms\u001B[0m\u001B[0;34m)\u001B[0m\u001B[0;34m\u001B[0m\u001B[0;34m\u001B[0m\u001B[0m\n\u001B[0m\u001B[1;32m    515\u001B[0m     \u001B[0;32mif\u001B[0m \u001B[0mcls\u001B[0m \u001B[0;32mis\u001B[0m \u001B[0;32mNone\u001B[0m\u001B[0;34m:\u001B[0m\u001B[0;34m\u001B[0m\u001B[0;34m\u001B[0m\u001B[0m\n",
      "\u001B[0;32m~/opt/anaconda3/lib/python3.8/site-packages/simplejson/decoder.py\u001B[0m in \u001B[0;36mdecode\u001B[0;34m(self, s, _w, _PY3)\u001B[0m\n\u001B[1;32m    385\u001B[0m             \u001B[0ms\u001B[0m \u001B[0;34m=\u001B[0m \u001B[0mstr\u001B[0m\u001B[0;34m(\u001B[0m\u001B[0ms\u001B[0m\u001B[0;34m,\u001B[0m \u001B[0mself\u001B[0m\u001B[0;34m.\u001B[0m\u001B[0mencoding\u001B[0m\u001B[0;34m)\u001B[0m\u001B[0;34m\u001B[0m\u001B[0;34m\u001B[0m\u001B[0m\n\u001B[0;32m--> 386\u001B[0;31m         \u001B[0mobj\u001B[0m\u001B[0;34m,\u001B[0m \u001B[0mend\u001B[0m \u001B[0;34m=\u001B[0m \u001B[0mself\u001B[0m\u001B[0;34m.\u001B[0m\u001B[0mraw_decode\u001B[0m\u001B[0;34m(\u001B[0m\u001B[0ms\u001B[0m\u001B[0;34m)\u001B[0m\u001B[0;34m\u001B[0m\u001B[0;34m\u001B[0m\u001B[0m\n\u001B[0m\u001B[1;32m    387\u001B[0m         \u001B[0mend\u001B[0m \u001B[0;34m=\u001B[0m \u001B[0m_w\u001B[0m\u001B[0;34m(\u001B[0m\u001B[0ms\u001B[0m\u001B[0;34m,\u001B[0m \u001B[0mend\u001B[0m\u001B[0;34m)\u001B[0m\u001B[0;34m.\u001B[0m\u001B[0mend\u001B[0m\u001B[0;34m(\u001B[0m\u001B[0;34m)\u001B[0m\u001B[0;34m\u001B[0m\u001B[0;34m\u001B[0m\u001B[0m\n",
      "\u001B[0;32m~/opt/anaconda3/lib/python3.8/site-packages/simplejson/decoder.py\u001B[0m in \u001B[0;36mraw_decode\u001B[0;34m(self, s, idx, _w, _PY3)\u001B[0m\n\u001B[1;32m    415\u001B[0m                 \u001B[0midx\u001B[0m \u001B[0;34m+=\u001B[0m \u001B[0;36m3\u001B[0m\u001B[0;34m\u001B[0m\u001B[0;34m\u001B[0m\u001B[0m\n\u001B[0;32m--> 416\u001B[0;31m         \u001B[0;32mreturn\u001B[0m \u001B[0mself\u001B[0m\u001B[0;34m.\u001B[0m\u001B[0mscan_once\u001B[0m\u001B[0;34m(\u001B[0m\u001B[0ms\u001B[0m\u001B[0;34m,\u001B[0m \u001B[0midx\u001B[0m\u001B[0;34m=\u001B[0m\u001B[0m_w\u001B[0m\u001B[0;34m(\u001B[0m\u001B[0ms\u001B[0m\u001B[0;34m,\u001B[0m \u001B[0midx\u001B[0m\u001B[0;34m)\u001B[0m\u001B[0;34m.\u001B[0m\u001B[0mend\u001B[0m\u001B[0;34m(\u001B[0m\u001B[0;34m)\u001B[0m\u001B[0;34m)\u001B[0m\u001B[0;34m\u001B[0m\u001B[0;34m\u001B[0m\u001B[0m\n\u001B[0m",
      "\u001B[0;31mJSONDecodeError\u001B[0m: Expecting value: line 1 column 1 (char 0)",
      "\nDuring handling of the above exception, another exception occurred:\n",
      "\u001B[0;31mJSONDecodeError\u001B[0m                           Traceback (most recent call last)",
      "\u001B[0;32m/var/folders/x8/h5h7bn_54gncqkrgpt4wmclc0000gn/T/ipykernel_27523/386238220.py\u001B[0m in \u001B[0;36m<cell line: 16>\u001B[0;34m()\u001B[0m\n\u001B[1;32m     17\u001B[0m     \u001B[0murl\u001B[0m \u001B[0;34m=\u001B[0m \u001B[0;34mf\"https://api.propublica.org/congress/v1/116/communications.json?offset={offset_value}\"\u001B[0m\u001B[0;34m\u001B[0m\u001B[0;34m\u001B[0m\u001B[0m\n\u001B[1;32m     18\u001B[0m     \u001B[0mresponse\u001B[0m \u001B[0;34m=\u001B[0m \u001B[0mrequests\u001B[0m\u001B[0;34m.\u001B[0m\u001B[0mget\u001B[0m\u001B[0;34m(\u001B[0m\u001B[0murl\u001B[0m\u001B[0;34m,\u001B[0m \u001B[0mheaders\u001B[0m\u001B[0;34m=\u001B[0m\u001B[0mheaders\u001B[0m\u001B[0;34m)\u001B[0m\u001B[0;34m\u001B[0m\u001B[0;34m\u001B[0m\u001B[0m\n\u001B[0;32m---> 19\u001B[0;31m     \u001B[0;32mif\u001B[0m \u001B[0;34m'results'\u001B[0m \u001B[0;32min\u001B[0m \u001B[0mresponse\u001B[0m\u001B[0;34m.\u001B[0m\u001B[0mjson\u001B[0m\u001B[0;34m(\u001B[0m\u001B[0;34m)\u001B[0m\u001B[0;34m.\u001B[0m\u001B[0mkeys\u001B[0m\u001B[0;34m(\u001B[0m\u001B[0;34m)\u001B[0m\u001B[0;34m:\u001B[0m\u001B[0;34m\u001B[0m\u001B[0;34m\u001B[0m\u001B[0m\n\u001B[0m\u001B[1;32m     20\u001B[0m         \u001B[0mdata\u001B[0m \u001B[0;34m=\u001B[0m \u001B[0mresponse\u001B[0m\u001B[0;34m.\u001B[0m\u001B[0mjson\u001B[0m\u001B[0;34m(\u001B[0m\u001B[0;34m)\u001B[0m\u001B[0;34m\u001B[0m\u001B[0;34m\u001B[0m\u001B[0m\n\u001B[1;32m     21\u001B[0m         \u001B[0;32mfor\u001B[0m \u001B[0mcommunication\u001B[0m \u001B[0;32min\u001B[0m \u001B[0mdata\u001B[0m\u001B[0;34m[\u001B[0m\u001B[0;34m'results'\u001B[0m\u001B[0;34m]\u001B[0m\u001B[0;34m:\u001B[0m\u001B[0;34m\u001B[0m\u001B[0;34m\u001B[0m\u001B[0m\n",
      "\u001B[0;32m~/opt/anaconda3/lib/python3.8/site-packages/requests/models.py\u001B[0m in \u001B[0;36mjson\u001B[0;34m(self, **kwargs)\u001B[0m\n\u001B[1;32m    973\u001B[0m             \u001B[0;31m# Catch JSON-related errors and raise as requests.JSONDecodeError\u001B[0m\u001B[0;34m\u001B[0m\u001B[0;34m\u001B[0m\u001B[0;34m\u001B[0m\u001B[0m\n\u001B[1;32m    974\u001B[0m             \u001B[0;31m# This aliases json.JSONDecodeError and simplejson.JSONDecodeError\u001B[0m\u001B[0;34m\u001B[0m\u001B[0;34m\u001B[0m\u001B[0;34m\u001B[0m\u001B[0m\n\u001B[0;32m--> 975\u001B[0;31m             \u001B[0;32mraise\u001B[0m \u001B[0mRequestsJSONDecodeError\u001B[0m\u001B[0;34m(\u001B[0m\u001B[0me\u001B[0m\u001B[0;34m.\u001B[0m\u001B[0mmsg\u001B[0m\u001B[0;34m,\u001B[0m \u001B[0me\u001B[0m\u001B[0;34m.\u001B[0m\u001B[0mdoc\u001B[0m\u001B[0;34m,\u001B[0m \u001B[0me\u001B[0m\u001B[0;34m.\u001B[0m\u001B[0mpos\u001B[0m\u001B[0;34m)\u001B[0m\u001B[0;34m\u001B[0m\u001B[0;34m\u001B[0m\u001B[0m\n\u001B[0m\u001B[1;32m    976\u001B[0m \u001B[0;34m\u001B[0m\u001B[0m\n\u001B[1;32m    977\u001B[0m     \u001B[0;34m@\u001B[0m\u001B[0mproperty\u001B[0m\u001B[0;34m\u001B[0m\u001B[0;34m\u001B[0m\u001B[0m\n",
      "\u001B[0;31mJSONDecodeError\u001B[0m: Expecting value: line 1 column 1 (char 0)"
     ]
    }
   ],
   "source": [
    "url = f\"https://api.propublica.org/congress/v1/116/communications.json\"\n",
    "response = requests.get(url, headers=headers)\n",
    "data = response.json()\n",
    "offset_value = 0\n",
    "total_results = data['num_results']\n",
    "times = total_results // 20 + 1\n",
    "\n",
    "communication_id_list = []\n",
    "communication_url_list = []\n",
    "communication_date_list = []\n",
    "communication_text_list = []\n",
    "communication_category_list = []\n",
    "communication_committee_list = []\n",
    "communication_congress_list = []\n",
    "communication_chamber_list = []\n",
    "while times >=0:\n",
    "    url = f\"https://api.propublica.org/congress/v1/116/communications.json?offset={offset_value}\"\n",
    "    response = requests.get(url, headers=headers)\n",
    "    if 'results' in response.json().keys():\n",
    "        data = response.json()\n",
    "        for communication in data['results']:\n",
    "            communication_id_list.append(communication['communication_id'])\n",
    "            communication_url_list.append(communication['url'])\n",
    "            communication_date_list.append(communication['date'])\n",
    "            communication_text_list.append(communication['text'])\n",
    "            communication_category_list.append(communication['category'])\n",
    "            communication_committee_list.append(communication['committee_code'])\n",
    "            communication_congress_list.append(communication['congress'])\n",
    "            communication_chamber_list.append(communication['chamber'])\n",
    "\n",
    "    else:\n",
    "        pass\n",
    "    offset_value += 20\n",
    "    times -= 1\n",
    "\n",
    "communications_df_116 = pd.DataFrame({'communication_id': communication_id_list,\n",
    "                                  'url': communication_url_list,\n",
    "                                  'date': communication_date_list,\n",
    "                                  'text': communication_text_list,\n",
    "                                  'category': communication_category_list,\n",
    "                                  'committee_code': communication_committee_list,\n",
    "                                  'congress': communication_congress_list,\n",
    "                                  'chamber': communication_chamber_list})\n",
    "\n",
    "communications_df_116"
   ],
   "metadata": {
    "collapsed": false,
    "ExecuteTime": {
     "end_time": "2023-11-29T07:22:19.940571Z",
     "start_time": "2023-11-29T07:21:34.386210Z"
    }
   },
   "id": "1940de2ec1ebceb2"
  },
  {
   "cell_type": "code",
   "execution_count": 20,
   "outputs": [
    {
     "data": {
      "text/plain": "{'status': 'OK',\n 'copyright': 'Copyright (c) 2023 Pro Publica Inc. All Rights Reserved.',\n 'num_results': 11360,\n 'offset': 0,\n 'results': [{'communication_id': 'ML221',\n   'url': '/house-communication/116th-congress/memorial/221',\n   'date': '2020-12-31',\n   'text': 'The SPEAKER presented a memorial of the General Assembly of the State of New Jersey, relative to Assembly Resolution No. 92, urging Congress to pass the \"Community Broadband Act\"; to the Committee on Energy and Commerce.',\n   'category': 'Petition or Memorial',\n   'congress': 116,\n   'chamber': 'House',\n   'requirement_number': None,\n   'requirement_url': None,\n   'committee_code': 'HSIF',\n   'committee_name': 'Committee on Energy and Commerce'},\n  {'communication_id': 'ML222',\n   'url': '/house-communication/116th-congress/memorial/222',\n   'date': '2020-12-31',\n   'text': 'The SPEAKER presented a memorial of the General Assembly of the State of New Jersey, relative to Assembly Resolution No. 139, condemning hate crimes and any other form of bias crime in New Jersey; to the Committee on the Judiciary.',\n   'category': 'Petition or Memorial',\n   'congress': 116,\n   'chamber': 'House',\n   'requirement_number': None,\n   'requirement_url': None,\n   'committee_code': 'HSJU',\n   'committee_name': 'Committee on the Judiciary'},\n  {'communication_id': 'ML223',\n   'url': '/house-communication/116th-congress/memorial/223',\n   'date': '2020-12-31',\n   'text': 'The SPEAKER presented a memorial of the General Assembly of the State of New Jersey, relative to Assembly Resolution No. 193, urging the federal government to raise the state and local tax deduction to $25,000; to the Committee on Ways and Means.',\n   'category': 'Petition or Memorial',\n   'congress': 116,\n   'chamber': 'House',\n   'requirement_number': None,\n   'requirement_url': None,\n   'committee_code': 'HSWM',\n   'committee_name': 'Committee on Ways and Means'},\n  {'communication_id': 'EC6026',\n   'url': '/house-communication/116th-congress/executive-communication/6026',\n   'date': '2020-12-31',\n   'text': \"A letter from the General Counsel, Railroad Retirement Board, transmitting the Board's Performance and Accountability Report for Fiscal Year 2020, pursuant to 31 U.S.C. 3515(a)(1); Public Law 101–576, section 303(a)(1) (as amended by Public Law 107–289, section 2(a)); (116 Stat. 2049); to the Committee on Oversight and Reform.\",\n   'category': 'Executive Communication',\n   'congress': 116,\n   'chamber': 'House',\n   'requirement_number': 'R12181',\n   'requirement_url': 'https://www.congress.gov/house-communication-requirement/12181',\n   'committee_code': 'HSGO',\n   'committee_name': 'Committee on Oversight and Accountability'},\n  {'communication_id': 'EC6027',\n   'url': '/house-communication/116th-congress/executive-communication/6027',\n   'date': '2020-12-31',\n   'text': \"A letter from the Congressional Review Coordinator, Animal and Plant Health Inspection Service, Department of Agriculture, transmitting the Department's final rule - Removal of Emerald Ash Borer Domestic Quarantine Regulations [Docket No.: APHIS-2017-0056] (RIN: 0579-AE42) received December 28, 2020, pursuant to 5 U.S.C. 801(a)(1)(A); Public Law 104–121, section 251; (110 Stat. 868); to the Committee on Agriculture.\",\n   'category': 'Executive Communication',\n   'congress': 116,\n   'chamber': 'House',\n   'requirement_number': 'R8070',\n   'requirement_url': 'https://www.congress.gov/house-communication-requirement/8070',\n   'committee_code': 'HSAG',\n   'committee_name': 'Committee on Agriculture'},\n  {'communication_id': 'EC6028',\n   'url': '/house-communication/116th-congress/executive-communication/6028',\n   'date': '2020-12-31',\n   'text': \"A letter from the Deputy Secretary, Commodity Futures Trading Commission, transmitting the Commission's final rule - Bankruptcy Regulations (RIN: 3038-AE67) received December 28, 2020, pursuant to 5 U.S.C. 801(a)(1)(A); Public Law 104–121, section 251; (110 Stat. 868); to the Committee on Agriculture.\",\n   'category': 'Executive Communication',\n   'congress': 116,\n   'chamber': 'House',\n   'requirement_number': 'R8070',\n   'requirement_url': 'https://www.congress.gov/house-communication-requirement/8070',\n   'committee_code': 'HSAG',\n   'committee_name': 'Committee on Agriculture'},\n  {'communication_id': 'EC6029',\n   'url': '/house-communication/116th-congress/executive-communication/6029',\n   'date': '2020-12-31',\n   'text': \"A letter from the Deputy Secretary, Commodity Futures Trading Commission, transmitting the Commission's final rule - Swap Execution Facility Requirements (RIN: 3038-AE94) received December 9, 2020, pursuant to 5 U.S.C. 801(a)(1)(A); Public Law 104–121, section 251; (110 Stat. 868); to the Committee on Agriculture.\",\n   'category': 'Executive Communication',\n   'congress': 116,\n   'chamber': 'House',\n   'requirement_number': 'R8070',\n   'requirement_url': 'https://www.congress.gov/house-communication-requirement/8070',\n   'committee_code': 'HSAG',\n   'committee_name': 'Committee on Agriculture'},\n  {'communication_id': 'EC6030',\n   'url': '/house-communication/116th-congress/executive-communication/6030',\n   'date': '2020-12-31',\n   'text': \"A letter from the Program Analyst, Department of Agriculture, transmitting the Department's final rule - National Environmental Policy Act (NEPA) Compliance (RIN: 0596-AD31) received December 9, 2020, pursuant to 5 U.S.C. 801(a)(1)(A); Public Law 104–121, section 251; (110 Stat. 868); to the Committee on Agriculture.\",\n   'category': 'Executive Communication',\n   'congress': 116,\n   'chamber': 'House',\n   'requirement_number': 'R8070',\n   'requirement_url': 'https://www.congress.gov/house-communication-requirement/8070',\n   'committee_code': 'HSAG',\n   'committee_name': 'Committee on Agriculture'},\n  {'communication_id': 'EC6031',\n   'url': '/house-communication/116th-congress/executive-communication/6031',\n   'date': '2020-12-31',\n   'text': 'A letter from the President of the United States, transmitting a designation of funding as an emergency requirement all funding so designated by the Congress, pursuant to Consolidated Appropriations Act, 2021; H.R. 133; (H. Doc. No. 116–175); to the Committee on Appropriations and ordered to be printed.',\n   'category': 'Executive Communication',\n   'congress': 116,\n   'chamber': 'House',\n   'requirement_number': None,\n   'requirement_url': None,\n   'committee_code': 'HSAP',\n   'committee_name': 'Committee on Appropriations'},\n  {'communication_id': 'EC6032',\n   'url': '/house-communication/116th-congress/executive-communication/6032',\n   'date': '2020-12-31',\n   'text': 'A letter from the President of the United States, transmitting a designation of all funding for Overseas Contingency Operations/Global War on Terrorism, pursuant to Consolidated Appropriations Act, 2021; H.R. 133; (H. Doc. No. 116–176); to the Committee on Appropriations and ordered to be printed.',\n   'category': 'Executive Communication',\n   'congress': 116,\n   'chamber': 'House',\n   'requirement_number': None,\n   'requirement_url': None,\n   'committee_code': 'HSAP',\n   'committee_name': 'Committee on Appropriations'},\n  {'communication_id': 'EC6033',\n   'url': '/house-communication/116th-congress/executive-communication/6033',\n   'date': '2020-12-31',\n   'text': \"A letter from the Senior Counsel, Legal Division, Bureau of Consumer Financial Protection, transmitting the Bureau's Major final rule - Qualified Mortgage Definition under the Truth in Lending Act (Regulation Z): General QM Loan Definition [Docket No.: CFPB-2020-0020] (RIN: 3170-AA98) received December 28, 2020, pursuant to 5 U.S.C. 801(a)(1)(A); Public Law 104–121, section 251; (110 Stat. 868); to the Committee on Financial Services.\",\n   'category': 'Executive Communication',\n   'congress': 116,\n   'chamber': 'House',\n   'requirement_number': 'R8070',\n   'requirement_url': 'https://www.congress.gov/house-communication-requirement/8070',\n   'committee_code': 'HSBA',\n   'committee_name': 'Committee on Financial Services'},\n  {'communication_id': 'EC6034',\n   'url': '/house-communication/116th-congress/executive-communication/6034',\n   'date': '2020-12-31',\n   'text': \"A letter from the Director, Bureau of Consumer Financial Protection, transmitting the Bureau's final rule - Amendments Relating to Disclosure of Records and Information [Docket No.: CFPB-2016-0039] (RIN: 3170-AA63) received December 28, 2020, pursuant to 5 U.S.C. 801(a)(1)(A); Public Law 104–121, section 251; (110 Stat. 868); to the Committee on Financial Services.\",\n   'category': 'Executive Communication',\n   'congress': 116,\n   'chamber': 'House',\n   'requirement_number': 'R8070',\n   'requirement_url': 'https://www.congress.gov/house-communication-requirement/8070',\n   'committee_code': 'HSBA',\n   'committee_name': 'Committee on Financial Services'},\n  {'communication_id': 'EC6035',\n   'url': '/house-communication/116th-congress/executive-communication/6035',\n   'date': '2020-12-31',\n   'text': \"A letter from the Senior Counsel, Legal Division, Bureau of Consumer Financial Protection, transmitting the Bureau's final rule - Qualified Mortgage Definition under the Truth in Lending Act (Regulation Z): Seasoned QM Loan Definition [Docket No.: CFPB-2020-0028] (RIN: 3170-AA98) received December 28, 2020, pursuant to 5 U.S.C. 801(a)(1)(A); Public Law 104–121, section 251; (110 Stat. 868); to the Committee on Financial Services.\",\n   'category': 'Executive Communication',\n   'congress': 116,\n   'chamber': 'House',\n   'requirement_number': 'R8070',\n   'requirement_url': 'https://www.congress.gov/house-communication-requirement/8070',\n   'committee_code': 'HSBA',\n   'committee_name': 'Committee on Financial Services'},\n  {'communication_id': 'EC6036',\n   'url': '/house-communication/116th-congress/executive-communication/6036',\n   'date': '2020-12-31',\n   'text': \"A letter from the Counsel for Legislation and Regulations, Office of Housing - Federal Housing Commissioner, Department of Housing and Urban Development, transmitting the Department's final rule - Housing Counseling Program: Revision of the Certification Timeline [Docket No.: FR-6215-I-02] (RIN: 2502-ZA34) received December 9, 2020, pursuant to 5 U.S.C. 801(a)(1)(A); Public Law 104–121, section 251; (110 Stat. 868); to the Committee on Financial Services.\",\n   'category': 'Executive Communication',\n   'congress': 116,\n   'chamber': 'House',\n   'requirement_number': 'R8070',\n   'requirement_url': 'https://www.congress.gov/house-communication-requirement/8070',\n   'committee_code': 'HSBA',\n   'committee_name': 'Committee on Financial Services'},\n  {'communication_id': 'EC6037',\n   'url': '/house-communication/116th-congress/executive-communication/6037',\n   'date': '2020-12-31',\n   'text': \"A letter from the Program Specialist, Chief Counsel's Office, Office of the Comptroller of the Currency, Department of the Treasury, transmitting the Department's interim final rule - Temporary Asset Thresholds [Docket ID: OCC-2020-0044] (RIN: 1557-AF06) received December 31, 2020, pursuant to 5 U.S.C. 801(a)(1)(A); Public Law 104–121, section 251; (110 Stat. 868); to the Committee on Financial Services.\",\n   'category': 'Executive Communication',\n   'congress': 116,\n   'chamber': 'House',\n   'requirement_number': 'R8070',\n   'requirement_url': 'https://www.congress.gov/house-communication-requirement/8070',\n   'committee_code': 'HSBA',\n   'committee_name': 'Committee on Financial Services'},\n  {'communication_id': 'EC6038',\n   'url': '/house-communication/116th-congress/executive-communication/6038',\n   'date': '2020-12-31',\n   'text': \"A letter from the Program Specialist, Chief Counsel's Office, Office of the Comptroller of the Currency, Department of the Treasury, transmitting the Department's final rule - Activities and Operations of National Banks and Federal Savings Associations [Docket ID: OCC-2020-0003] (RIN: 1557- AE74) received December 31, 2020, pursuant to 5 U.S.C. 801(a)(1)(A); Public Law 104–121, section 251; (110 Stat. 868); to the Committee on Financial Services.\",\n   'category': 'Executive Communication',\n   'congress': 116,\n   'chamber': 'House',\n   'requirement_number': 'R8070',\n   'requirement_url': 'https://www.congress.gov/house-communication-requirement/8070',\n   'committee_code': 'HSBA',\n   'committee_name': 'Committee on Financial Services'},\n  {'communication_id': 'EC6039',\n   'url': '/house-communication/116th-congress/executive-communication/6039',\n   'date': '2020-12-31',\n   'text': \"A letter from the Program Specialist, Chief Counsel's Office, Office of the Comptroller of the Currency, Department of the Treasury, transmitting the Department's final rule - Appraisals for Higher-Priced Mortgage Loans Exemption Threshold [Docket No.: OCC-2020-0039] (RIN: 1557-AF04) received December 31, 2020, pursuant to 5 U.S.C. 801(a)(1)(A); Public Law 104–121, section 251; (110 Stat. 868); to the Committee on Financial Services.\",\n   'category': 'Executive Communication',\n   'congress': 116,\n   'chamber': 'House',\n   'requirement_number': 'R8070',\n   'requirement_url': 'https://www.congress.gov/house-communication-requirement/8070',\n   'committee_code': 'HSBA',\n   'committee_name': 'Committee on Financial Services'},\n  {'communication_id': 'EC6040',\n   'url': '/house-communication/116th-congress/executive-communication/6040',\n   'date': '2020-12-31',\n   'text': \"A letter from the Secretary, Division of Corporation Finance, Securities and Exchange Commission, transmitting the Commission's Major final rule - Disclosure of Payments by Resource Extraction Issuers [Release No.: 34-90679; File No.: S7-24-19] (RIN: 3235-AM06) received December 28, 2020, pursuant to 5 U.S.C. 801(a)(1)(A); Public Law 104–121, section 251; (110 Stat. 868); to the Committee on Financial Services.\",\n   'category': 'Executive Communication',\n   'congress': 116,\n   'chamber': 'House',\n   'requirement_number': 'R8070',\n   'requirement_url': 'https://www.congress.gov/house-communication-requirement/8070',\n   'committee_code': 'HSBA',\n   'committee_name': 'Committee on Financial Services'},\n  {'communication_id': 'EC6041',\n   'url': '/house-communication/116th-congress/executive-communication/6041',\n   'date': '2020-12-31',\n   'text': \"A letter from the Secretary, Division of Investment Management, Securities and Exchange Commission, transmitting the Commission's Major final rule - Use of Derivatives by Registered Investment Companies and Business Development Companies [Release No.: IC-34084; File No.: S7-24-15] (RIN: 3235-AL60) received December 16, 2020, pursuant to 5 U.S.C. 801(a)(1)(A); Public Law 104–121, section 251; (110 Stat. 868); to the Committee on Financial Services.\",\n   'category': 'Executive Communication',\n   'congress': 116,\n   'chamber': 'House',\n   'requirement_number': 'R8070',\n   'requirement_url': 'https://www.congress.gov/house-communication-requirement/8070',\n   'committee_code': 'HSBA',\n   'committee_name': 'Committee on Financial Services'},\n  {'communication_id': 'EC6042',\n   'url': '/house-communication/116th-congress/executive-communication/6042',\n   'date': '2020-12-31',\n   'text': \"A letter from the Secretary, Division of Trading and Markets, Securities and Exchange Commission, transmitting the Commission's Major final rule - Market Data Infrastructure [Release No.: 34-90610. File No.: S7-03-20] (RIN: 3235-AM61) received December 16, 2020, pursuant to 5 U.S.C. 801(a)(1)(A); Public Law 104–121, section 251; (110 Stat. 868); to the Committee on Financial Services.\",\n   'category': 'Executive Communication',\n   'congress': 116,\n   'chamber': 'House',\n   'requirement_number': 'R8070',\n   'requirement_url': 'https://www.congress.gov/house-communication-requirement/8070',\n   'committee_code': 'HSBA',\n   'committee_name': 'Committee on Financial Services'}]}"
     },
     "execution_count": 20,
     "metadata": {},
     "output_type": "execute_result"
    }
   ],
   "source": [
    "url = f\"https://api.propublica.org/congress/v1/116/communications.json\"\n",
    "response = requests.get(url, headers=headers)\n",
    "data = response.json()\n",
    "data"
   ],
   "metadata": {
    "collapsed": false,
    "ExecuteTime": {
     "end_time": "2023-11-29T07:23:06.760098Z",
     "start_time": "2023-11-29T07:23:06.334199Z"
    }
   },
   "id": "e259788bacb655b2"
  },
  {
   "cell_type": "code",
   "execution_count": null,
   "outputs": [],
   "source": [],
   "metadata": {
    "collapsed": false
   },
   "id": "4944e7d510614aff"
  }
 ],
 "metadata": {
  "kernelspec": {
   "display_name": "Python 3",
   "language": "python",
   "name": "python3"
  },
  "language_info": {
   "codemirror_mode": {
    "name": "ipython",
    "version": 2
   },
   "file_extension": ".py",
   "mimetype": "text/x-python",
   "name": "python",
   "nbconvert_exporter": "python",
   "pygments_lexer": "ipython2",
   "version": "2.7.6"
  }
 },
 "nbformat": 4,
 "nbformat_minor": 5
}
