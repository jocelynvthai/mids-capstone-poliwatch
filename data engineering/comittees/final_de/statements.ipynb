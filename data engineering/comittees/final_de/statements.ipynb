{
 "cells": [
  {
   "cell_type": "code",
   "execution_count": 7,
   "id": "initial_id",
   "metadata": {
    "collapsed": true,
    "ExecuteTime": {
     "end_time": "2023-11-30T08:34:58.264882Z",
     "start_time": "2023-11-30T08:34:58.245080Z"
    }
   },
   "outputs": [],
   "source": [
    "import pandas as pd\n",
    "import nameparser\n",
    "import json\n",
    "import requests\n",
    "import numpy as np\n",
    "\n",
    "pro_publica_api_key = \"PguHImFJakafbsBpZ2ed21A1HIgvXKiM7tg0BqI0 \"\n",
    "headers = {'X-API-Key': pro_publica_api_key}"
   ]
  },
  {
   "cell_type": "code",
   "execution_count": 8,
   "outputs": [
    {
     "data": {
      "text/plain": "            id  congress\n0      L000590       116\n31     L000579       116\n34     B001274       116\n36     W000804       116\n44     D000617       116\n...        ...       ...\n24000  S001203       118\n24021  M000355       118\n24024  S001198       118\n24030  B001236       118\n24100  C001088       118\n\n[364 rows x 2 columns]",
      "text/html": "<div>\n<style scoped>\n    .dataframe tbody tr th:only-of-type {\n        vertical-align: middle;\n    }\n\n    .dataframe tbody tr th {\n        vertical-align: top;\n    }\n\n    .dataframe thead th {\n        text-align: right;\n    }\n</style>\n<table border=\"1\" class=\"dataframe\">\n  <thead>\n    <tr style=\"text-align: right;\">\n      <th></th>\n      <th>id</th>\n      <th>congress</th>\n    </tr>\n  </thead>\n  <tbody>\n    <tr>\n      <th>0</th>\n      <td>L000590</td>\n      <td>116</td>\n    </tr>\n    <tr>\n      <th>31</th>\n      <td>L000579</td>\n      <td>116</td>\n    </tr>\n    <tr>\n      <th>34</th>\n      <td>B001274</td>\n      <td>116</td>\n    </tr>\n    <tr>\n      <th>36</th>\n      <td>W000804</td>\n      <td>116</td>\n    </tr>\n    <tr>\n      <th>44</th>\n      <td>D000617</td>\n      <td>116</td>\n    </tr>\n    <tr>\n      <th>...</th>\n      <td>...</td>\n      <td>...</td>\n    </tr>\n    <tr>\n      <th>24000</th>\n      <td>S001203</td>\n      <td>118</td>\n    </tr>\n    <tr>\n      <th>24021</th>\n      <td>M000355</td>\n      <td>118</td>\n    </tr>\n    <tr>\n      <th>24024</th>\n      <td>S001198</td>\n      <td>118</td>\n    </tr>\n    <tr>\n      <th>24030</th>\n      <td>B001236</td>\n      <td>118</td>\n    </tr>\n    <tr>\n      <th>24100</th>\n      <td>C001088</td>\n      <td>118</td>\n    </tr>\n  </tbody>\n</table>\n<p>364 rows × 2 columns</p>\n</div>"
     },
     "execution_count": 8,
     "metadata": {},
     "output_type": "execute_result"
    }
   ],
   "source": [
    "\n",
    "members = pd.read_csv('../prod_data/transactions.csv')\n",
    "\n",
    "df = members[['id', 'congress']].drop_duplicates()\n",
    "\n",
    "df"
   ],
   "metadata": {
    "collapsed": false,
    "ExecuteTime": {
     "end_time": "2023-11-30T08:34:58.571209Z",
     "start_time": "2023-11-30T08:34:58.476711Z"
    }
   },
   "id": "92871eda77576c1e"
  },
  {
   "cell_type": "code",
   "execution_count": 9,
   "outputs": [
    {
     "data": {
      "text/plain": "          id  congress\n0    C000174       116\n1    M000934       116\n2    C001047       116\n3    C001035       116\n4    P000595       116\n..       ...       ...\n98   S001203       118\n99   M000355       118\n100  S001198       118\n101  B001236       118\n102  C001088       118\n\n[103 rows x 2 columns]",
      "text/html": "<div>\n<style scoped>\n    .dataframe tbody tr th:only-of-type {\n        vertical-align: middle;\n    }\n\n    .dataframe tbody tr th {\n        vertical-align: top;\n    }\n\n    .dataframe thead th {\n        text-align: right;\n    }\n</style>\n<table border=\"1\" class=\"dataframe\">\n  <thead>\n    <tr style=\"text-align: right;\">\n      <th></th>\n      <th>id</th>\n      <th>congress</th>\n    </tr>\n  </thead>\n  <tbody>\n    <tr>\n      <th>0</th>\n      <td>C000174</td>\n      <td>116</td>\n    </tr>\n    <tr>\n      <th>1</th>\n      <td>M000934</td>\n      <td>116</td>\n    </tr>\n    <tr>\n      <th>2</th>\n      <td>C001047</td>\n      <td>116</td>\n    </tr>\n    <tr>\n      <th>3</th>\n      <td>C001035</td>\n      <td>116</td>\n    </tr>\n    <tr>\n      <th>4</th>\n      <td>P000595</td>\n      <td>116</td>\n    </tr>\n    <tr>\n      <th>...</th>\n      <td>...</td>\n      <td>...</td>\n    </tr>\n    <tr>\n      <th>98</th>\n      <td>S001203</td>\n      <td>118</td>\n    </tr>\n    <tr>\n      <th>99</th>\n      <td>M000355</td>\n      <td>118</td>\n    </tr>\n    <tr>\n      <th>100</th>\n      <td>S001198</td>\n      <td>118</td>\n    </tr>\n    <tr>\n      <th>101</th>\n      <td>B001236</td>\n      <td>118</td>\n    </tr>\n    <tr>\n      <th>102</th>\n      <td>C001088</td>\n      <td>118</td>\n    </tr>\n  </tbody>\n</table>\n<p>103 rows × 2 columns</p>\n</div>"
     },
     "execution_count": 9,
     "metadata": {},
     "output_type": "execute_result"
    }
   ],
   "source": [
    "new_ids = pd.read_csv('../prod_data/new_ids.csv')[['id', 'congress']]\n",
    "\n",
    "new_ids"
   ],
   "metadata": {
    "collapsed": false,
    "ExecuteTime": {
     "end_time": "2023-11-30T08:34:58.910010Z",
     "start_time": "2023-11-30T08:34:58.890764Z"
    }
   },
   "id": "6acd4b861ffa6b79"
  },
  {
   "cell_type": "code",
   "execution_count": 10,
   "outputs": [
    {
     "data": {
      "text/plain": "                                                     url        date  \\\n0      https://susielee.house.gov/media/press-release...  2020-12-03   \n1      https://susielee.house.gov/media/press-release...  2020-12-01   \n2      https://susielee.house.gov/media/press-release...  2020-11-20   \n3      https://susielee.house.gov/media/press-release...  2020-11-18   \n4      https://susielee.house.gov/media/press-release...  2020-12-27   \n...                                                  ...         ...   \n45788  https://evans.house.gov/media-center/press-rel...  2023-02-28   \n45789  https://evans.house.gov/media-center/press-rel...  2023-02-22   \n45790  https://evans.house.gov/media-center/press-rel...  2023-02-09   \n45791  https://evans.house.gov/media-center/press-rel...  2023-02-06   \n45792  https://evans.house.gov/media-center/press-rel...  2023-01-13   \n\n                                                   title           type  \\\n0      Rep. Lee Announces Nearly $1.4 Million Grant t...  Press Release   \n1      Problem Solvers Caucus, Senate Partners Unveil...  Press Release   \n2      Rep. Susie Lee Helps Pass National Apprentices...  Press Release   \n3      Rep. Susie Lee Elected to Serve as Regional Re...  Press Release   \n4      Rep. Lee Statement, President Trump Finally Si...  Press Release   \n...                                                  ...            ...   \n45788  Evans Introduces Resolution Pushing to End Ine...  Press Release   \n45789  Letter of Support - Reconnecting Our Chinatown...  Press Release   \n45790  Evans Makes Super Bowl Bet with Kansas City Co...  Press Release   \n45791  Evans Welcomes a Philly Housing Leader to Stat...  Press Release   \n45792  Evans Begins New Term After Major Progress in ...  Press Release   \n\n      member_id  congress  \n0       L000590       116  \n1       L000590       116  \n2       L000590       116  \n3       L000590       116  \n4       L000590       116  \n...         ...       ...  \n45788   E000296       118  \n45789   E000296       118  \n45790   E000296       118  \n45791   E000296       118  \n45792   E000296       118  \n\n[45793 rows x 6 columns]",
      "text/html": "<div>\n<style scoped>\n    .dataframe tbody tr th:only-of-type {\n        vertical-align: middle;\n    }\n\n    .dataframe tbody tr th {\n        vertical-align: top;\n    }\n\n    .dataframe thead th {\n        text-align: right;\n    }\n</style>\n<table border=\"1\" class=\"dataframe\">\n  <thead>\n    <tr style=\"text-align: right;\">\n      <th></th>\n      <th>url</th>\n      <th>date</th>\n      <th>title</th>\n      <th>type</th>\n      <th>member_id</th>\n      <th>congress</th>\n    </tr>\n  </thead>\n  <tbody>\n    <tr>\n      <th>0</th>\n      <td>https://susielee.house.gov/media/press-release...</td>\n      <td>2020-12-03</td>\n      <td>Rep. Lee Announces Nearly $1.4 Million Grant t...</td>\n      <td>Press Release</td>\n      <td>L000590</td>\n      <td>116</td>\n    </tr>\n    <tr>\n      <th>1</th>\n      <td>https://susielee.house.gov/media/press-release...</td>\n      <td>2020-12-01</td>\n      <td>Problem Solvers Caucus, Senate Partners Unveil...</td>\n      <td>Press Release</td>\n      <td>L000590</td>\n      <td>116</td>\n    </tr>\n    <tr>\n      <th>2</th>\n      <td>https://susielee.house.gov/media/press-release...</td>\n      <td>2020-11-20</td>\n      <td>Rep. Susie Lee Helps Pass National Apprentices...</td>\n      <td>Press Release</td>\n      <td>L000590</td>\n      <td>116</td>\n    </tr>\n    <tr>\n      <th>3</th>\n      <td>https://susielee.house.gov/media/press-release...</td>\n      <td>2020-11-18</td>\n      <td>Rep. Susie Lee Elected to Serve as Regional Re...</td>\n      <td>Press Release</td>\n      <td>L000590</td>\n      <td>116</td>\n    </tr>\n    <tr>\n      <th>4</th>\n      <td>https://susielee.house.gov/media/press-release...</td>\n      <td>2020-12-27</td>\n      <td>Rep. Lee Statement, President Trump Finally Si...</td>\n      <td>Press Release</td>\n      <td>L000590</td>\n      <td>116</td>\n    </tr>\n    <tr>\n      <th>...</th>\n      <td>...</td>\n      <td>...</td>\n      <td>...</td>\n      <td>...</td>\n      <td>...</td>\n      <td>...</td>\n    </tr>\n    <tr>\n      <th>45788</th>\n      <td>https://evans.house.gov/media-center/press-rel...</td>\n      <td>2023-02-28</td>\n      <td>Evans Introduces Resolution Pushing to End Ine...</td>\n      <td>Press Release</td>\n      <td>E000296</td>\n      <td>118</td>\n    </tr>\n    <tr>\n      <th>45789</th>\n      <td>https://evans.house.gov/media-center/press-rel...</td>\n      <td>2023-02-22</td>\n      <td>Letter of Support - Reconnecting Our Chinatown...</td>\n      <td>Press Release</td>\n      <td>E000296</td>\n      <td>118</td>\n    </tr>\n    <tr>\n      <th>45790</th>\n      <td>https://evans.house.gov/media-center/press-rel...</td>\n      <td>2023-02-09</td>\n      <td>Evans Makes Super Bowl Bet with Kansas City Co...</td>\n      <td>Press Release</td>\n      <td>E000296</td>\n      <td>118</td>\n    </tr>\n    <tr>\n      <th>45791</th>\n      <td>https://evans.house.gov/media-center/press-rel...</td>\n      <td>2023-02-06</td>\n      <td>Evans Welcomes a Philly Housing Leader to Stat...</td>\n      <td>Press Release</td>\n      <td>E000296</td>\n      <td>118</td>\n    </tr>\n    <tr>\n      <th>45792</th>\n      <td>https://evans.house.gov/media-center/press-rel...</td>\n      <td>2023-01-13</td>\n      <td>Evans Begins New Term After Major Progress in ...</td>\n      <td>Press Release</td>\n      <td>E000296</td>\n      <td>118</td>\n    </tr>\n  </tbody>\n</table>\n<p>45793 rows × 6 columns</p>\n</div>"
     },
     "execution_count": 10,
     "metadata": {},
     "output_type": "execute_result"
    }
   ],
   "source": [
    "current_statements_prod = pd.read_csv('../prod_data/member_statements.csv')\n",
    "current_statements_prod"
   ],
   "metadata": {
    "collapsed": false,
    "ExecuteTime": {
     "end_time": "2023-11-30T08:34:59.487842Z",
     "start_time": "2023-11-30T08:34:59.359767Z"
    }
   },
   "id": "344ff88cec1caef9"
  },
  {
   "cell_type": "code",
   "execution_count": 11,
   "outputs": [
    {
     "data": {
      "text/plain": "                                                     url        date  \\\n0      https://www.carper.senate.gov/public/index.cfm...  2020-12-31   \n1      https://www.carper.senate.gov/public/index.cfm...  2020-12-30   \n2      https://www.carper.senate.gov/public/index.cfm...  2020-12-22   \n3      https://www.carper.senate.gov/public/index.cfm...  2020-12-22   \n4      https://www.carper.senate.gov/public/index.cfm...  2020-12-21   \n...                                                  ...         ...   \n34835  https://www.cantwell.senate.gov/news/press-rel...  2022-08-17   \n34836  https://www.cantwell.senate.gov/news/press-rel...  2022-08-17   \n34837  https://www.cantwell.senate.gov/news/press-rel...  2022-08-16   \n34838  https://www.cantwell.senate.gov/news/press-rel...  2022-08-11   \n34839  https://www.cantwell.senate.gov/news/press-rel...  2022-08-10   \n\n                                                   title           type  \\\n0      Carper: EPAs Censoring Science Rule is the Tru...  Press Release   \n1      Carper Celebrates the 50th Anniversary of the ...  Press Release   \n2      Delaware Delegation Celebrates Major Wins for ...  Press Release   \n3      Carper Highlights Significant Climate Solution...  Press Release   \n4      Carper Cheers Tax Incentives in End-of-the-Yea...  Press Release   \n...                                                  ...            ...   \n34835  Cantwell Touts New Electric Lummi Island Ferry...  Press Release   \n34836  Cantwell, Murray Visit SW WA Semiconductor Man...  Press Release   \n34837  Cantwell Hails Bothell Way Project Made Possib...  Press Release   \n34838  Cantwell, DOE Secretary Granholm Tour PNNL and...  Press Release   \n34839  Washington To Get Nearly $100 Million in Infra...  Press Release   \n\n      member_id  congress  \n0       C000174       116  \n1       C000174       116  \n2       C000174       116  \n3       C000174       116  \n4       C000174       116  \n...         ...       ...  \n34835   C000127       117  \n34836   C000127       117  \n34837   C000127       117  \n34838   C000127       117  \n34839   C000127       117  \n\n[34840 rows x 6 columns]",
      "text/html": "<div>\n<style scoped>\n    .dataframe tbody tr th:only-of-type {\n        vertical-align: middle;\n    }\n\n    .dataframe tbody tr th {\n        vertical-align: top;\n    }\n\n    .dataframe thead th {\n        text-align: right;\n    }\n</style>\n<table border=\"1\" class=\"dataframe\">\n  <thead>\n    <tr style=\"text-align: right;\">\n      <th></th>\n      <th>url</th>\n      <th>date</th>\n      <th>title</th>\n      <th>type</th>\n      <th>member_id</th>\n      <th>congress</th>\n    </tr>\n  </thead>\n  <tbody>\n    <tr>\n      <th>0</th>\n      <td>https://www.carper.senate.gov/public/index.cfm...</td>\n      <td>2020-12-31</td>\n      <td>Carper: EPAs Censoring Science Rule is the Tru...</td>\n      <td>Press Release</td>\n      <td>C000174</td>\n      <td>116</td>\n    </tr>\n    <tr>\n      <th>1</th>\n      <td>https://www.carper.senate.gov/public/index.cfm...</td>\n      <td>2020-12-30</td>\n      <td>Carper Celebrates the 50th Anniversary of the ...</td>\n      <td>Press Release</td>\n      <td>C000174</td>\n      <td>116</td>\n    </tr>\n    <tr>\n      <th>2</th>\n      <td>https://www.carper.senate.gov/public/index.cfm...</td>\n      <td>2020-12-22</td>\n      <td>Delaware Delegation Celebrates Major Wins for ...</td>\n      <td>Press Release</td>\n      <td>C000174</td>\n      <td>116</td>\n    </tr>\n    <tr>\n      <th>3</th>\n      <td>https://www.carper.senate.gov/public/index.cfm...</td>\n      <td>2020-12-22</td>\n      <td>Carper Highlights Significant Climate Solution...</td>\n      <td>Press Release</td>\n      <td>C000174</td>\n      <td>116</td>\n    </tr>\n    <tr>\n      <th>4</th>\n      <td>https://www.carper.senate.gov/public/index.cfm...</td>\n      <td>2020-12-21</td>\n      <td>Carper Cheers Tax Incentives in End-of-the-Yea...</td>\n      <td>Press Release</td>\n      <td>C000174</td>\n      <td>116</td>\n    </tr>\n    <tr>\n      <th>...</th>\n      <td>...</td>\n      <td>...</td>\n      <td>...</td>\n      <td>...</td>\n      <td>...</td>\n      <td>...</td>\n    </tr>\n    <tr>\n      <th>34835</th>\n      <td>https://www.cantwell.senate.gov/news/press-rel...</td>\n      <td>2022-08-17</td>\n      <td>Cantwell Touts New Electric Lummi Island Ferry...</td>\n      <td>Press Release</td>\n      <td>C000127</td>\n      <td>117</td>\n    </tr>\n    <tr>\n      <th>34836</th>\n      <td>https://www.cantwell.senate.gov/news/press-rel...</td>\n      <td>2022-08-17</td>\n      <td>Cantwell, Murray Visit SW WA Semiconductor Man...</td>\n      <td>Press Release</td>\n      <td>C000127</td>\n      <td>117</td>\n    </tr>\n    <tr>\n      <th>34837</th>\n      <td>https://www.cantwell.senate.gov/news/press-rel...</td>\n      <td>2022-08-16</td>\n      <td>Cantwell Hails Bothell Way Project Made Possib...</td>\n      <td>Press Release</td>\n      <td>C000127</td>\n      <td>117</td>\n    </tr>\n    <tr>\n      <th>34838</th>\n      <td>https://www.cantwell.senate.gov/news/press-rel...</td>\n      <td>2022-08-11</td>\n      <td>Cantwell, DOE Secretary Granholm Tour PNNL and...</td>\n      <td>Press Release</td>\n      <td>C000127</td>\n      <td>117</td>\n    </tr>\n    <tr>\n      <th>34839</th>\n      <td>https://www.cantwell.senate.gov/news/press-rel...</td>\n      <td>2022-08-10</td>\n      <td>Washington To Get Nearly $100 Million in Infra...</td>\n      <td>Press Release</td>\n      <td>C000127</td>\n      <td>117</td>\n    </tr>\n  </tbody>\n</table>\n<p>34840 rows × 6 columns</p>\n</div>"
     },
     "execution_count": 11,
     "metadata": {},
     "output_type": "execute_result"
    }
   ],
   "source": [
    "current_statements_cache = pd.read_csv('member_statements.csv')\n",
    "\n",
    "current_statements_cache"
   ],
   "metadata": {
    "collapsed": false,
    "ExecuteTime": {
     "end_time": "2023-11-30T08:35:00.654846Z",
     "start_time": "2023-11-30T08:35:00.559626Z"
    }
   },
   "id": "6547732a50b68acc"
  },
  {
   "cell_type": "code",
   "execution_count": 15,
   "outputs": [],
   "source": [
    "member_statements = pd.concat([current_statements_prod, current_statements_cache])\n",
    "member_statements_ids = member_statements[['member_id', 'congress']].drop_duplicates()\n",
    "\n",
    "member_statements_ids.rename(columns={'member_id': 'id'}, inplace=True)"
   ],
   "metadata": {
    "collapsed": false,
    "ExecuteTime": {
     "end_time": "2023-11-30T08:37:32.295660Z",
     "start_time": "2023-11-30T08:37:32.251575Z"
    }
   },
   "id": "72d583763a06733a"
  },
  {
   "cell_type": "code",
   "execution_count": 16,
   "outputs": [
    {
     "data": {
      "text/plain": "          id  congress\n20   L000594       116\n57   W000802       117\n58   S001217       117\n59   H000273       117\n60   S001198       117\n61   C001035       117\n62   B001236       117\n63   M000355       117\n64   H000601       117\n65   P000595       117\n66   W000805       117\n67   C001047       117\n68   F000463       117\n69   G000359       117\n70   S001203       117\n71   T000250       117\n72   C001088       117\n73   W000779       117\n74   T000461       117\n75   M000934       117\n76   R000608       117\n77   B000575       117\n78   L000571       117\n79   M001198       117\n80   H001061       117\n81   P000603       117\n82   K000383       117\n83   B001267       117\n84   R000605       117\n85   B001135       117\n86   D000622       117\n87   I000024       117\n88   W000802       118\n89   B001267       118\n90   C001047       118\n91   H000273       118\n92   S001217       118\n93   T000278       118\n94   P000595       118\n95   C000174       118\n96   D000622       118\n97   B001277       118\n98   S001203       118\n99   M000355       118\n100  S001198       118\n101  B001236       118\n102  C001088       118",
      "text/html": "<div>\n<style scoped>\n    .dataframe tbody tr th:only-of-type {\n        vertical-align: middle;\n    }\n\n    .dataframe tbody tr th {\n        vertical-align: top;\n    }\n\n    .dataframe thead th {\n        text-align: right;\n    }\n</style>\n<table border=\"1\" class=\"dataframe\">\n  <thead>\n    <tr style=\"text-align: right;\">\n      <th></th>\n      <th>id</th>\n      <th>congress</th>\n    </tr>\n  </thead>\n  <tbody>\n    <tr>\n      <th>20</th>\n      <td>L000594</td>\n      <td>116</td>\n    </tr>\n    <tr>\n      <th>57</th>\n      <td>W000802</td>\n      <td>117</td>\n    </tr>\n    <tr>\n      <th>58</th>\n      <td>S001217</td>\n      <td>117</td>\n    </tr>\n    <tr>\n      <th>59</th>\n      <td>H000273</td>\n      <td>117</td>\n    </tr>\n    <tr>\n      <th>60</th>\n      <td>S001198</td>\n      <td>117</td>\n    </tr>\n    <tr>\n      <th>61</th>\n      <td>C001035</td>\n      <td>117</td>\n    </tr>\n    <tr>\n      <th>62</th>\n      <td>B001236</td>\n      <td>117</td>\n    </tr>\n    <tr>\n      <th>63</th>\n      <td>M000355</td>\n      <td>117</td>\n    </tr>\n    <tr>\n      <th>64</th>\n      <td>H000601</td>\n      <td>117</td>\n    </tr>\n    <tr>\n      <th>65</th>\n      <td>P000595</td>\n      <td>117</td>\n    </tr>\n    <tr>\n      <th>66</th>\n      <td>W000805</td>\n      <td>117</td>\n    </tr>\n    <tr>\n      <th>67</th>\n      <td>C001047</td>\n      <td>117</td>\n    </tr>\n    <tr>\n      <th>68</th>\n      <td>F000463</td>\n      <td>117</td>\n    </tr>\n    <tr>\n      <th>69</th>\n      <td>G000359</td>\n      <td>117</td>\n    </tr>\n    <tr>\n      <th>70</th>\n      <td>S001203</td>\n      <td>117</td>\n    </tr>\n    <tr>\n      <th>71</th>\n      <td>T000250</td>\n      <td>117</td>\n    </tr>\n    <tr>\n      <th>72</th>\n      <td>C001088</td>\n      <td>117</td>\n    </tr>\n    <tr>\n      <th>73</th>\n      <td>W000779</td>\n      <td>117</td>\n    </tr>\n    <tr>\n      <th>74</th>\n      <td>T000461</td>\n      <td>117</td>\n    </tr>\n    <tr>\n      <th>75</th>\n      <td>M000934</td>\n      <td>117</td>\n    </tr>\n    <tr>\n      <th>76</th>\n      <td>R000608</td>\n      <td>117</td>\n    </tr>\n    <tr>\n      <th>77</th>\n      <td>B000575</td>\n      <td>117</td>\n    </tr>\n    <tr>\n      <th>78</th>\n      <td>L000571</td>\n      <td>117</td>\n    </tr>\n    <tr>\n      <th>79</th>\n      <td>M001198</td>\n      <td>117</td>\n    </tr>\n    <tr>\n      <th>80</th>\n      <td>H001061</td>\n      <td>117</td>\n    </tr>\n    <tr>\n      <th>81</th>\n      <td>P000603</td>\n      <td>117</td>\n    </tr>\n    <tr>\n      <th>82</th>\n      <td>K000383</td>\n      <td>117</td>\n    </tr>\n    <tr>\n      <th>83</th>\n      <td>B001267</td>\n      <td>117</td>\n    </tr>\n    <tr>\n      <th>84</th>\n      <td>R000605</td>\n      <td>117</td>\n    </tr>\n    <tr>\n      <th>85</th>\n      <td>B001135</td>\n      <td>117</td>\n    </tr>\n    <tr>\n      <th>86</th>\n      <td>D000622</td>\n      <td>117</td>\n    </tr>\n    <tr>\n      <th>87</th>\n      <td>I000024</td>\n      <td>117</td>\n    </tr>\n    <tr>\n      <th>88</th>\n      <td>W000802</td>\n      <td>118</td>\n    </tr>\n    <tr>\n      <th>89</th>\n      <td>B001267</td>\n      <td>118</td>\n    </tr>\n    <tr>\n      <th>90</th>\n      <td>C001047</td>\n      <td>118</td>\n    </tr>\n    <tr>\n      <th>91</th>\n      <td>H000273</td>\n      <td>118</td>\n    </tr>\n    <tr>\n      <th>92</th>\n      <td>S001217</td>\n      <td>118</td>\n    </tr>\n    <tr>\n      <th>93</th>\n      <td>T000278</td>\n      <td>118</td>\n    </tr>\n    <tr>\n      <th>94</th>\n      <td>P000595</td>\n      <td>118</td>\n    </tr>\n    <tr>\n      <th>95</th>\n      <td>C000174</td>\n      <td>118</td>\n    </tr>\n    <tr>\n      <th>96</th>\n      <td>D000622</td>\n      <td>118</td>\n    </tr>\n    <tr>\n      <th>97</th>\n      <td>B001277</td>\n      <td>118</td>\n    </tr>\n    <tr>\n      <th>98</th>\n      <td>S001203</td>\n      <td>118</td>\n    </tr>\n    <tr>\n      <th>99</th>\n      <td>M000355</td>\n      <td>118</td>\n    </tr>\n    <tr>\n      <th>100</th>\n      <td>S001198</td>\n      <td>118</td>\n    </tr>\n    <tr>\n      <th>101</th>\n      <td>B001236</td>\n      <td>118</td>\n    </tr>\n    <tr>\n      <th>102</th>\n      <td>C001088</td>\n      <td>118</td>\n    </tr>\n  </tbody>\n</table>\n</div>"
     },
     "execution_count": 16,
     "metadata": {},
     "output_type": "execute_result"
    }
   ],
   "source": [
    "merged_df = new_ids.merge(member_statements_ids, on=['congress', 'id'], how='outer', indicator=True)\n",
    "\n",
    "# Filter out rows that are found in both DataFrames\n",
    "unique_to_df1 = merged_df[merged_df['_merge'] == 'left_only'].drop(columns=['_merge'])\n",
    "\n",
    "unique_to_df1"
   ],
   "metadata": {
    "collapsed": false,
    "ExecuteTime": {
     "end_time": "2023-11-30T08:37:47.360533Z",
     "start_time": "2023-11-30T08:37:47.326377Z"
    }
   },
   "id": "e36caff08d42fcb9"
  },
  {
   "cell_type": "code",
   "execution_count": 17,
   "outputs": [
    {
     "name": "stdout",
     "output_type": "stream",
     "text": [
      "Saving 1 rows\n",
      "Saving 2 rows\n",
      "Saving 3 rows\n",
      "Saving 4 rows\n",
      "Saving 5 rows\n",
      "Saving 6 rows\n",
      "Saving 7 rows\n",
      "Saving 8 rows\n",
      "Saving 9 rows\n",
      "Saving 10 rows\n",
      "Saving 11 rows\n",
      "Saving 12 rows\n",
      "Saving 13 rows\n",
      "Saving 14 rows\n",
      "Saving 15 rows\n",
      "Saving 16 rows\n",
      "Saving 17 rows\n",
      "Saving 18 rows\n",
      "Saving 19 rows\n",
      "Saving 20 rows\n",
      "Saving 21 rows\n",
      "Saving 22 rows\n",
      "Saving 23 rows\n",
      "Saving 24 rows\n",
      "Saving 25 rows\n",
      "Saving 26 rows\n",
      "Saving 27 rows\n",
      "Saving 28 rows\n",
      "Saving 29 rows\n",
      "Saving 30 rows\n",
      "Saving 31 rows\n",
      "Saving 32 rows\n",
      "Saving 33 rows\n",
      "Saving 34 rows\n",
      "Saving 35 rows\n",
      "Saving 36 rows\n",
      "Saving 37 rows\n",
      "Saving 38 rows\n",
      "Saving 39 rows\n",
      "Saving 40 rows\n",
      "Saving 41 rows\n",
      "Saving 42 rows\n",
      "Saving 43 rows\n",
      "Saving 44 rows\n",
      "Saving 45 rows\n",
      "Saving 46 rows\n",
      "Saving 47 rows\n"
     ]
    }
   ],
   "source": [
    "url_list = []\n",
    "date_list = []\n",
    "title_list = []\n",
    "type_list = []\n",
    "member_list = []\n",
    "congress_list = []\n",
    "\n",
    "iteration_count = 0\n",
    "save_interval = 1\n",
    "\n",
    "for index, row in unique_to_df1.iterrows():\n",
    "    iteration_count +=1\n",
    "    member_id = row['id']\n",
    "    congress = row['congress']\n",
    "    \n",
    "    url = f\"https://api.propublica.org/congress/v1/members/{member_id}/statements/{congress}.json\"\n",
    "    response = requests.get(url, headers=headers)\n",
    "    if 'results' in response.json().keys():\n",
    "        if response.json()['num_results'] >0:\n",
    "            total = response.json()['num_results']\n",
    "            count = 20\n",
    "            pages = int(np.ceil(total/count))\n",
    "            offset = 0\n",
    "            \n",
    "            for i in range(1, pages+1):\n",
    "                url = f\"https://api.propublica.org/congress/v1/members/{member_id}/statements/{congress}.json?page={offset}\"\n",
    "                response = requests.get(url, headers=headers)\n",
    "                results = response.json()['results']\n",
    "                offset += 20\n",
    "                for result in results:\n",
    "                    url_list.append(result['url'])\n",
    "                    date_list.append(result['date'])\n",
    "                    title_list.append(result['title'])\n",
    "                    type_list.append(result['statement_type'])\n",
    "                    member_list.append(member_id)\n",
    "                    congress_list.append(congress)\n",
    "        else:\n",
    "            pass\n",
    "    else:\n",
    "        pass\n",
    "\n",
    "    if iteration_count % save_interval == 0:\n",
    "        print(f\"Saving {iteration_count} rows\")\n",
    "        df_temp = pd.DataFrame({'url': url_list, \n",
    "                                'date': date_list, \n",
    "                                'title': title_list, \n",
    "                                'type': type_list, \n",
    "                                'member_id': member_list, \n",
    "                                'congress': congress_list})\n",
    "        df_temp.to_csv('member_statements.csv', index=False)\n",
    "    \n",
    "\n",
    "final_statements = pd.DataFrame({'url': url_list, \n",
    "                                  'date': date_list, \n",
    "                                  'title': title_list, \n",
    "                                  'type': type_list, \n",
    "                                  'member_id': member_list, \n",
    "                                  'congress': congress_list})"
   ],
   "metadata": {
    "collapsed": false,
    "ExecuteTime": {
     "end_time": "2023-11-30T08:41:15.901784Z",
     "start_time": "2023-11-30T08:38:00.431212Z"
    }
   },
   "id": "58617604db48e7c1"
  },
  {
   "cell_type": "code",
   "execution_count": 18,
   "outputs": [
    {
     "data": {
      "text/plain": "                                                     url        date  \\\n0      https://susielee.house.gov/media/press-release...  2020-12-03   \n1      https://susielee.house.gov/media/press-release...  2020-12-01   \n2      https://susielee.house.gov/media/press-release...  2020-11-20   \n3      https://susielee.house.gov/media/press-release...  2020-11-18   \n4      https://susielee.house.gov/media/press-release...  2020-12-27   \n...                                                  ...         ...   \n34835  https://www.cantwell.senate.gov/news/press-rel...  2022-08-17   \n34836  https://www.cantwell.senate.gov/news/press-rel...  2022-08-17   \n34837  https://www.cantwell.senate.gov/news/press-rel...  2022-08-16   \n34838  https://www.cantwell.senate.gov/news/press-rel...  2022-08-11   \n34839  https://www.cantwell.senate.gov/news/press-rel...  2022-08-10   \n\n                                                   title           type  \\\n0      Rep. Lee Announces Nearly $1.4 Million Grant t...  Press Release   \n1      Problem Solvers Caucus, Senate Partners Unveil...  Press Release   \n2      Rep. Susie Lee Helps Pass National Apprentices...  Press Release   \n3      Rep. Susie Lee Elected to Serve as Regional Re...  Press Release   \n4      Rep. Lee Statement, President Trump Finally Si...  Press Release   \n...                                                  ...            ...   \n34835  Cantwell Touts New Electric Lummi Island Ferry...  Press Release   \n34836  Cantwell, Murray Visit SW WA Semiconductor Man...  Press Release   \n34837  Cantwell Hails Bothell Way Project Made Possib...  Press Release   \n34838  Cantwell, DOE Secretary Granholm Tour PNNL and...  Press Release   \n34839  Washington To Get Nearly $100 Million in Infra...  Press Release   \n\n      member_id  congress  \n0       L000590       116  \n1       L000590       116  \n2       L000590       116  \n3       L000590       116  \n4       L000590       116  \n...         ...       ...  \n34835   C000127       117  \n34836   C000127       117  \n34837   C000127       117  \n34838   C000127       117  \n34839   C000127       117  \n\n[80633 rows x 6 columns]",
      "text/html": "<div>\n<style scoped>\n    .dataframe tbody tr th:only-of-type {\n        vertical-align: middle;\n    }\n\n    .dataframe tbody tr th {\n        vertical-align: top;\n    }\n\n    .dataframe thead th {\n        text-align: right;\n    }\n</style>\n<table border=\"1\" class=\"dataframe\">\n  <thead>\n    <tr style=\"text-align: right;\">\n      <th></th>\n      <th>url</th>\n      <th>date</th>\n      <th>title</th>\n      <th>type</th>\n      <th>member_id</th>\n      <th>congress</th>\n    </tr>\n  </thead>\n  <tbody>\n    <tr>\n      <th>0</th>\n      <td>https://susielee.house.gov/media/press-release...</td>\n      <td>2020-12-03</td>\n      <td>Rep. Lee Announces Nearly $1.4 Million Grant t...</td>\n      <td>Press Release</td>\n      <td>L000590</td>\n      <td>116</td>\n    </tr>\n    <tr>\n      <th>1</th>\n      <td>https://susielee.house.gov/media/press-release...</td>\n      <td>2020-12-01</td>\n      <td>Problem Solvers Caucus, Senate Partners Unveil...</td>\n      <td>Press Release</td>\n      <td>L000590</td>\n      <td>116</td>\n    </tr>\n    <tr>\n      <th>2</th>\n      <td>https://susielee.house.gov/media/press-release...</td>\n      <td>2020-11-20</td>\n      <td>Rep. Susie Lee Helps Pass National Apprentices...</td>\n      <td>Press Release</td>\n      <td>L000590</td>\n      <td>116</td>\n    </tr>\n    <tr>\n      <th>3</th>\n      <td>https://susielee.house.gov/media/press-release...</td>\n      <td>2020-11-18</td>\n      <td>Rep. Susie Lee Elected to Serve as Regional Re...</td>\n      <td>Press Release</td>\n      <td>L000590</td>\n      <td>116</td>\n    </tr>\n    <tr>\n      <th>4</th>\n      <td>https://susielee.house.gov/media/press-release...</td>\n      <td>2020-12-27</td>\n      <td>Rep. Lee Statement, President Trump Finally Si...</td>\n      <td>Press Release</td>\n      <td>L000590</td>\n      <td>116</td>\n    </tr>\n    <tr>\n      <th>...</th>\n      <td>...</td>\n      <td>...</td>\n      <td>...</td>\n      <td>...</td>\n      <td>...</td>\n      <td>...</td>\n    </tr>\n    <tr>\n      <th>34835</th>\n      <td>https://www.cantwell.senate.gov/news/press-rel...</td>\n      <td>2022-08-17</td>\n      <td>Cantwell Touts New Electric Lummi Island Ferry...</td>\n      <td>Press Release</td>\n      <td>C000127</td>\n      <td>117</td>\n    </tr>\n    <tr>\n      <th>34836</th>\n      <td>https://www.cantwell.senate.gov/news/press-rel...</td>\n      <td>2022-08-17</td>\n      <td>Cantwell, Murray Visit SW WA Semiconductor Man...</td>\n      <td>Press Release</td>\n      <td>C000127</td>\n      <td>117</td>\n    </tr>\n    <tr>\n      <th>34837</th>\n      <td>https://www.cantwell.senate.gov/news/press-rel...</td>\n      <td>2022-08-16</td>\n      <td>Cantwell Hails Bothell Way Project Made Possib...</td>\n      <td>Press Release</td>\n      <td>C000127</td>\n      <td>117</td>\n    </tr>\n    <tr>\n      <th>34838</th>\n      <td>https://www.cantwell.senate.gov/news/press-rel...</td>\n      <td>2022-08-11</td>\n      <td>Cantwell, DOE Secretary Granholm Tour PNNL and...</td>\n      <td>Press Release</td>\n      <td>C000127</td>\n      <td>117</td>\n    </tr>\n    <tr>\n      <th>34839</th>\n      <td>https://www.cantwell.senate.gov/news/press-rel...</td>\n      <td>2022-08-10</td>\n      <td>Washington To Get Nearly $100 Million in Infra...</td>\n      <td>Press Release</td>\n      <td>C000127</td>\n      <td>117</td>\n    </tr>\n  </tbody>\n</table>\n<p>80633 rows × 6 columns</p>\n</div>"
     },
     "execution_count": 18,
     "metadata": {},
     "output_type": "execute_result"
    }
   ],
   "source": [
    "member_statements"
   ],
   "metadata": {
    "collapsed": false,
    "ExecuteTime": {
     "end_time": "2023-11-30T08:43:11.217485Z",
     "start_time": "2023-11-30T08:43:11.193741Z"
    }
   },
   "id": "a10c4d93cb9102cb"
  },
  {
   "cell_type": "code",
   "execution_count": 19,
   "outputs": [
    {
     "data": {
      "text/plain": "                                                     url        date  \\\n0      http://www.whitehouse.senate.gov/news/videos/w...  2022-09-15   \n1      http://www.whitehouse.senate.gov/news/videos/w...  2022-09-15   \n2      http://www.whitehouse.senate.gov/news/release/...  2022-09-15   \n3      http://www.whitehouse.senate.gov/news/release/...  2022-09-15   \n4      http://www.whitehouse.senate.gov/news/videos/w...  2022-09-14   \n...                                                  ...         ...   \n11615  https://www.coons.senate.gov/news/press-releas...  2023-10-27   \n11616  https://www.coons.senate.gov/news/press-releas...  2023-10-25   \n11617  https://www.coons.senate.gov/news/press-releas...  2023-10-24   \n11618  https://www.coons.senate.gov/news/press-releas...  2023-10-23   \n11619  https://www.coons.senate.gov/news/press-releas...  2023-10-19   \n\n                                                   title           type  \\\n0      Sen. Whitehouse on Sea Level Rise in Rhode Isl...  Press Release   \n1      Sen. Whitehouse Joins The Last Word to Discuss...  Press Release   \n2      RI Delegation Announces Major $82.5 Million Gr...  Press Release   \n3      Whitehouse, Grassley Lead Senate Caucus in Iss...  Press Release   \n4      Sen. Whitehouse and Lawrence O'Donnell Discuss...  Press Release   \n...                                                  ...            ...   \n11615  Senators Coons, Scott, colleagues call on Sena...  Press Release   \n11616  ICYMI: Following debate, Senators Coons, Rubio...  Press Release   \n11617  Senator Coons, colleagues write bipartisan let...  Press Release   \n11618  Senator Coons statement on congressional deleg...  Press Release   \n11619  Senators Coons, Cornyn, Braun introduce resolu...  Press Release   \n\n      member_id  congress  \n0       W000802       117  \n1       W000802       117  \n2       W000802       117  \n3       W000802       117  \n4       W000802       117  \n...         ...       ...  \n11615   C001088       118  \n11616   C001088       118  \n11617   C001088       118  \n11618   C001088       118  \n11619   C001088       118  \n\n[11620 rows x 6 columns]",
      "text/html": "<div>\n<style scoped>\n    .dataframe tbody tr th:only-of-type {\n        vertical-align: middle;\n    }\n\n    .dataframe tbody tr th {\n        vertical-align: top;\n    }\n\n    .dataframe thead th {\n        text-align: right;\n    }\n</style>\n<table border=\"1\" class=\"dataframe\">\n  <thead>\n    <tr style=\"text-align: right;\">\n      <th></th>\n      <th>url</th>\n      <th>date</th>\n      <th>title</th>\n      <th>type</th>\n      <th>member_id</th>\n      <th>congress</th>\n    </tr>\n  </thead>\n  <tbody>\n    <tr>\n      <th>0</th>\n      <td>http://www.whitehouse.senate.gov/news/videos/w...</td>\n      <td>2022-09-15</td>\n      <td>Sen. Whitehouse on Sea Level Rise in Rhode Isl...</td>\n      <td>Press Release</td>\n      <td>W000802</td>\n      <td>117</td>\n    </tr>\n    <tr>\n      <th>1</th>\n      <td>http://www.whitehouse.senate.gov/news/videos/w...</td>\n      <td>2022-09-15</td>\n      <td>Sen. Whitehouse Joins The Last Word to Discuss...</td>\n      <td>Press Release</td>\n      <td>W000802</td>\n      <td>117</td>\n    </tr>\n    <tr>\n      <th>2</th>\n      <td>http://www.whitehouse.senate.gov/news/release/...</td>\n      <td>2022-09-15</td>\n      <td>RI Delegation Announces Major $82.5 Million Gr...</td>\n      <td>Press Release</td>\n      <td>W000802</td>\n      <td>117</td>\n    </tr>\n    <tr>\n      <th>3</th>\n      <td>http://www.whitehouse.senate.gov/news/release/...</td>\n      <td>2022-09-15</td>\n      <td>Whitehouse, Grassley Lead Senate Caucus in Iss...</td>\n      <td>Press Release</td>\n      <td>W000802</td>\n      <td>117</td>\n    </tr>\n    <tr>\n      <th>4</th>\n      <td>http://www.whitehouse.senate.gov/news/videos/w...</td>\n      <td>2022-09-14</td>\n      <td>Sen. Whitehouse and Lawrence O'Donnell Discuss...</td>\n      <td>Press Release</td>\n      <td>W000802</td>\n      <td>117</td>\n    </tr>\n    <tr>\n      <th>...</th>\n      <td>...</td>\n      <td>...</td>\n      <td>...</td>\n      <td>...</td>\n      <td>...</td>\n      <td>...</td>\n    </tr>\n    <tr>\n      <th>11615</th>\n      <td>https://www.coons.senate.gov/news/press-releas...</td>\n      <td>2023-10-27</td>\n      <td>Senators Coons, Scott, colleagues call on Sena...</td>\n      <td>Press Release</td>\n      <td>C001088</td>\n      <td>118</td>\n    </tr>\n    <tr>\n      <th>11616</th>\n      <td>https://www.coons.senate.gov/news/press-releas...</td>\n      <td>2023-10-25</td>\n      <td>ICYMI: Following debate, Senators Coons, Rubio...</td>\n      <td>Press Release</td>\n      <td>C001088</td>\n      <td>118</td>\n    </tr>\n    <tr>\n      <th>11617</th>\n      <td>https://www.coons.senate.gov/news/press-releas...</td>\n      <td>2023-10-24</td>\n      <td>Senator Coons, colleagues write bipartisan let...</td>\n      <td>Press Release</td>\n      <td>C001088</td>\n      <td>118</td>\n    </tr>\n    <tr>\n      <th>11618</th>\n      <td>https://www.coons.senate.gov/news/press-releas...</td>\n      <td>2023-10-23</td>\n      <td>Senator Coons statement on congressional deleg...</td>\n      <td>Press Release</td>\n      <td>C001088</td>\n      <td>118</td>\n    </tr>\n    <tr>\n      <th>11619</th>\n      <td>https://www.coons.senate.gov/news/press-releas...</td>\n      <td>2023-10-19</td>\n      <td>Senators Coons, Cornyn, Braun introduce resolu...</td>\n      <td>Press Release</td>\n      <td>C001088</td>\n      <td>118</td>\n    </tr>\n  </tbody>\n</table>\n<p>11620 rows × 6 columns</p>\n</div>"
     },
     "execution_count": 19,
     "metadata": {},
     "output_type": "execute_result"
    }
   ],
   "source": [
    "final_statements"
   ],
   "metadata": {
    "collapsed": false,
    "ExecuteTime": {
     "end_time": "2023-11-30T08:43:14.644850Z",
     "start_time": "2023-11-30T08:43:14.602079Z"
    }
   },
   "id": "ff402a58871ef19a"
  },
  {
   "cell_type": "code",
   "execution_count": 21,
   "outputs": [],
   "source": [
    "final_df = pd.concat([member_statements, final_statements])\n",
    "\n",
    "final_df.to_csv('../prod_data/member_statements.csv', index=False)"
   ],
   "metadata": {
    "collapsed": false,
    "ExecuteTime": {
     "end_time": "2023-11-30T08:43:41.830021Z",
     "start_time": "2023-11-30T08:43:41.340823Z"
    }
   },
   "id": "e5e04f1049a75b3e"
  },
  {
   "cell_type": "code",
   "execution_count": null,
   "outputs": [],
   "source": [],
   "metadata": {
    "collapsed": false
   },
   "id": "6855e8a1dfd56fc7"
  }
 ],
 "metadata": {
  "kernelspec": {
   "display_name": "Python 3",
   "language": "python",
   "name": "python3"
  },
  "language_info": {
   "codemirror_mode": {
    "name": "ipython",
    "version": 2
   },
   "file_extension": ".py",
   "mimetype": "text/x-python",
   "name": "python",
   "nbconvert_exporter": "python",
   "pygments_lexer": "ipython2",
   "version": "2.7.6"
  }
 },
 "nbformat": 4,
 "nbformat_minor": 5
}
