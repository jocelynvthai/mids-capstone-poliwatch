{
 "cells": [
  {
   "cell_type": "code",
   "execution_count": 67,
   "id": "initial_id",
   "metadata": {
    "collapsed": true,
    "ExecuteTime": {
     "end_time": "2023-11-30T21:39:13.087382Z",
     "start_time": "2023-11-30T21:39:13.083255Z"
    }
   },
   "outputs": [],
   "source": [
    "import pandas as pd\n",
    "from pandaserd import ERD"
   ]
  },
  {
   "cell_type": "code",
   "execution_count": 68,
   "outputs": [],
   "source": [
    "transactions = pd.read_csv('../prod_data/transactions.csv')\n",
    "committee_assignments = pd.read_csv('../prod_data/committee_assignments_of_interest.csv')\n",
    "subcommittee_assignments = pd.read_csv('../prod_data/subcommittee_assignments_of_interest.csv')\n",
    "bills = pd.read_csv('../prod_data/member_bills.csv')\n",
    "hearings = pd.read_csv('../prod_data/hearings.csv')\n",
    "travel = pd.read_csv('../prod_data/private_travel.csv')\n",
    "related_bills = pd.read_csv('../prod_data/related_bills.csv')\n",
    "statements = pd.read_csv('../prod_data/member_statements.csv')"
   ],
   "metadata": {
    "collapsed": false,
    "ExecuteTime": {
     "end_time": "2023-11-30T21:39:14.060652Z",
     "start_time": "2023-11-30T21:39:13.317488Z"
    }
   },
   "id": "2b5b608f0d56f581"
  },
  {
   "cell_type": "code",
   "execution_count": 69,
   "outputs": [
    {
     "data": {
      "text/plain": "     display_name string_name combined_transaction_date disclosure_date  \\\n0  Rep. Susie Lee   susie lee                2020-02-24      04/28/2020   \n1  Rep. Susie Lee   susie lee                2020-03-06      04/28/2020   \n2  Rep. Susie Lee   susie lee                2020-03-23      04/28/2020   \n3  Rep. Susie Lee   susie lee                2020-02-04      04/28/2020   \n4  Rep. Susie Lee   susie lee                2020-03-18      04/28/2020   \n\n  ticker                        asset_description          type  \\\n0    BHC             Bausch Health Companies Inc.      purchase   \n1    BAH  Booz Allen Hamilton Holding Corporation     sale_full   \n2    BYD                  Boyd Gaming Corporation     sale_full   \n3   CTLT                           Catalent, Inc.      purchase   \n4   CBRE      CBRE Group Inc Common Stock Class A  sale_partial   \n\n             amount                                    industry  \\\n0  $1,001 - $15,000           Pharmaceuticals and Biotechnology   \n1  $1,001 - $15,000                       Professional Services   \n2  $1,001 - $15,000                        Movies/Entertainment   \n3  $1,001 - $15,000  Biotechnology: Pharmaceutical Preparations   \n4  $1,001 - $15,000                                 Real Estate   \n\n                   sector state  \\\n0             Health Care    NV   \n1       Consumer Services    NV   \n2  Consumer Discretionary    NV   \n3             Health Care    NV   \n4                 Finance    NV   \n\n                                            ptr_link  amount_formatted  \\\n0  https://disclosures-clerk.house.gov/public_dis...            1000.0   \n1  https://disclosures-clerk.house.gov/public_dis...            1000.0   \n2  https://disclosures-clerk.house.gov/public_dis...            1000.0   \n3  https://disclosures-clerk.house.gov/public_dis...            1000.0   \n4  https://disclosures-clerk.house.gov/public_dis...            1000.0   \n\n        id                                  uuid  congress  \n0  L000590  c1c5c603-f2ea-4c99-a9e4-5c158229c0e7       116  \n1  L000590  b76332f3-3410-4ed0-82e6-ab19f484a330       116  \n2  L000590  37707207-7c2e-4ff3-9404-ceaeb052b1df       116  \n3  L000590  1eaa4073-8742-4411-8df5-e27ce597a3e6       116  \n4  L000590  60f1a149-4c5e-4f06-9ec6-d4c3189e99af       116  ",
      "text/html": "<div>\n<style scoped>\n    .dataframe tbody tr th:only-of-type {\n        vertical-align: middle;\n    }\n\n    .dataframe tbody tr th {\n        vertical-align: top;\n    }\n\n    .dataframe thead th {\n        text-align: right;\n    }\n</style>\n<table border=\"1\" class=\"dataframe\">\n  <thead>\n    <tr style=\"text-align: right;\">\n      <th></th>\n      <th>display_name</th>\n      <th>string_name</th>\n      <th>combined_transaction_date</th>\n      <th>disclosure_date</th>\n      <th>ticker</th>\n      <th>asset_description</th>\n      <th>type</th>\n      <th>amount</th>\n      <th>industry</th>\n      <th>sector</th>\n      <th>state</th>\n      <th>ptr_link</th>\n      <th>amount_formatted</th>\n      <th>id</th>\n      <th>uuid</th>\n      <th>congress</th>\n    </tr>\n  </thead>\n  <tbody>\n    <tr>\n      <th>0</th>\n      <td>Rep. Susie Lee</td>\n      <td>susie lee</td>\n      <td>2020-02-24</td>\n      <td>04/28/2020</td>\n      <td>BHC</td>\n      <td>Bausch Health Companies Inc.</td>\n      <td>purchase</td>\n      <td>$1,001 - $15,000</td>\n      <td>Pharmaceuticals and Biotechnology</td>\n      <td>Health Care</td>\n      <td>NV</td>\n      <td>https://disclosures-clerk.house.gov/public_dis...</td>\n      <td>1000.0</td>\n      <td>L000590</td>\n      <td>c1c5c603-f2ea-4c99-a9e4-5c158229c0e7</td>\n      <td>116</td>\n    </tr>\n    <tr>\n      <th>1</th>\n      <td>Rep. Susie Lee</td>\n      <td>susie lee</td>\n      <td>2020-03-06</td>\n      <td>04/28/2020</td>\n      <td>BAH</td>\n      <td>Booz Allen Hamilton Holding Corporation</td>\n      <td>sale_full</td>\n      <td>$1,001 - $15,000</td>\n      <td>Professional Services</td>\n      <td>Consumer Services</td>\n      <td>NV</td>\n      <td>https://disclosures-clerk.house.gov/public_dis...</td>\n      <td>1000.0</td>\n      <td>L000590</td>\n      <td>b76332f3-3410-4ed0-82e6-ab19f484a330</td>\n      <td>116</td>\n    </tr>\n    <tr>\n      <th>2</th>\n      <td>Rep. Susie Lee</td>\n      <td>susie lee</td>\n      <td>2020-03-23</td>\n      <td>04/28/2020</td>\n      <td>BYD</td>\n      <td>Boyd Gaming Corporation</td>\n      <td>sale_full</td>\n      <td>$1,001 - $15,000</td>\n      <td>Movies/Entertainment</td>\n      <td>Consumer Discretionary</td>\n      <td>NV</td>\n      <td>https://disclosures-clerk.house.gov/public_dis...</td>\n      <td>1000.0</td>\n      <td>L000590</td>\n      <td>37707207-7c2e-4ff3-9404-ceaeb052b1df</td>\n      <td>116</td>\n    </tr>\n    <tr>\n      <th>3</th>\n      <td>Rep. Susie Lee</td>\n      <td>susie lee</td>\n      <td>2020-02-04</td>\n      <td>04/28/2020</td>\n      <td>CTLT</td>\n      <td>Catalent, Inc.</td>\n      <td>purchase</td>\n      <td>$1,001 - $15,000</td>\n      <td>Biotechnology: Pharmaceutical Preparations</td>\n      <td>Health Care</td>\n      <td>NV</td>\n      <td>https://disclosures-clerk.house.gov/public_dis...</td>\n      <td>1000.0</td>\n      <td>L000590</td>\n      <td>1eaa4073-8742-4411-8df5-e27ce597a3e6</td>\n      <td>116</td>\n    </tr>\n    <tr>\n      <th>4</th>\n      <td>Rep. Susie Lee</td>\n      <td>susie lee</td>\n      <td>2020-03-18</td>\n      <td>04/28/2020</td>\n      <td>CBRE</td>\n      <td>CBRE Group Inc Common Stock Class A</td>\n      <td>sale_partial</td>\n      <td>$1,001 - $15,000</td>\n      <td>Real Estate</td>\n      <td>Finance</td>\n      <td>NV</td>\n      <td>https://disclosures-clerk.house.gov/public_dis...</td>\n      <td>1000.0</td>\n      <td>L000590</td>\n      <td>60f1a149-4c5e-4f06-9ec6-d4c3189e99af</td>\n      <td>116</td>\n    </tr>\n  </tbody>\n</table>\n</div>"
     },
     "execution_count": 69,
     "metadata": {},
     "output_type": "execute_result"
    }
   ],
   "source": [
    "transactions.head()"
   ],
   "metadata": {
    "collapsed": false,
    "ExecuteTime": {
     "end_time": "2023-11-30T21:39:14.081424Z",
     "start_time": "2023-11-30T21:39:14.078712Z"
    }
   },
   "id": "4eedf4010c2b2f5c"
  },
  {
   "cell_type": "code",
   "execution_count": 70,
   "outputs": [
    {
     "data": {
      "text/plain": "  member_id      member_name member_begin_date  congress chamber committee_id\n0   M001198   Roger Marshall        2019-01-23       116   house         HSAG\n1   M001198   Roger Marshall        2019-01-23       116   house         HSSY\n2   R000307      Pat Roberts        2019-01-09       116  senate         SSAF\n3   M000355  Mitch McConnell        2019-01-09       116  senate         SSAF\n4   B001236     John Boozman        2019-01-09       116  senate         SSAF",
      "text/html": "<div>\n<style scoped>\n    .dataframe tbody tr th:only-of-type {\n        vertical-align: middle;\n    }\n\n    .dataframe tbody tr th {\n        vertical-align: top;\n    }\n\n    .dataframe thead th {\n        text-align: right;\n    }\n</style>\n<table border=\"1\" class=\"dataframe\">\n  <thead>\n    <tr style=\"text-align: right;\">\n      <th></th>\n      <th>member_id</th>\n      <th>member_name</th>\n      <th>member_begin_date</th>\n      <th>congress</th>\n      <th>chamber</th>\n      <th>committee_id</th>\n    </tr>\n  </thead>\n  <tbody>\n    <tr>\n      <th>0</th>\n      <td>M001198</td>\n      <td>Roger Marshall</td>\n      <td>2019-01-23</td>\n      <td>116</td>\n      <td>house</td>\n      <td>HSAG</td>\n    </tr>\n    <tr>\n      <th>1</th>\n      <td>M001198</td>\n      <td>Roger Marshall</td>\n      <td>2019-01-23</td>\n      <td>116</td>\n      <td>house</td>\n      <td>HSSY</td>\n    </tr>\n    <tr>\n      <th>2</th>\n      <td>R000307</td>\n      <td>Pat Roberts</td>\n      <td>2019-01-09</td>\n      <td>116</td>\n      <td>senate</td>\n      <td>SSAF</td>\n    </tr>\n    <tr>\n      <th>3</th>\n      <td>M000355</td>\n      <td>Mitch McConnell</td>\n      <td>2019-01-09</td>\n      <td>116</td>\n      <td>senate</td>\n      <td>SSAF</td>\n    </tr>\n    <tr>\n      <th>4</th>\n      <td>B001236</td>\n      <td>John Boozman</td>\n      <td>2019-01-09</td>\n      <td>116</td>\n      <td>senate</td>\n      <td>SSAF</td>\n    </tr>\n  </tbody>\n</table>\n</div>"
     },
     "execution_count": 70,
     "metadata": {},
     "output_type": "execute_result"
    }
   ],
   "source": [
    "committee_assignments.head()"
   ],
   "metadata": {
    "collapsed": false,
    "ExecuteTime": {
     "end_time": "2023-11-30T21:39:14.093605Z",
     "start_time": "2023-11-30T21:39:14.085962Z"
    }
   },
   "id": "8fbc66de9cdf5115"
  },
  {
   "cell_type": "code",
   "execution_count": 71,
   "outputs": [
    {
     "data": {
      "text/plain": "       bill_congress      bill_id  \\\n0                118    s3027-118   \n1                118    s2958-118   \n2                118    s2959-118   \n3                118    s2924-118   \n4                118  sres339-118   \n...              ...          ...   \n18647            118   hr5132-118   \n18648            118   hr4661-118   \n18649            118   hr4358-118   \n18650            118   hr2810-118   \n18651            118    hr306-118   \n\n                                              bill_title bill_intro_date  \\\n0      A bill to amend the Internal Revenue Code of 1...      2023-10-04   \n1      An original bill to amend the Coastal Barrier ...      2023-09-27   \n2      An original bill to amend the Comprehensive En...      2023-09-27   \n3      A bill to amend title 31, United States Code, ...      2023-09-26   \n4      A resolution authorizing the Sergeant at Arms ...      2023-09-12   \n...                                                  ...             ...   \n18647  To bolster Department of Homeland Security eff...      2023-08-01   \n18648  To require the Director of the Office of Entre...      2023-07-14   \n18649  To provide lawful permanent resident status an...      2023-06-23   \n18650  To designate the Federal building located at 9...      2023-04-24   \n18651  To amend title 11 of the United States Code to...      2023-01-11   \n\n      member_id bill_summary  \\\n0       C000174          NaN   \n1       C000174          NaN   \n2       C000174          NaN   \n3       C000174          NaN   \n4       C000174          NaN   \n...         ...          ...   \n18647   T000488          NaN   \n18648   T000488          NaN   \n18649   T000488          NaN   \n18650   T000488          NaN   \n18651   T000488          NaN   \n\n                                                bill_url bill_slug  \n0      https://www.congress.gov/bill/118th-congress/s...     s3027  \n1      https://www.congress.gov/bill/118th-congress/s...     s2958  \n2      https://www.congress.gov/bill/118th-congress/s...     s2959  \n3      https://www.congress.gov/bill/118th-congress/s...     s2924  \n4      https://www.congress.gov/bill/118th-congress/s...   sres339  \n...                                                  ...       ...  \n18647  https://www.congress.gov/bill/118th-congress/h...    hr5132  \n18648  https://www.congress.gov/bill/118th-congress/h...    hr4661  \n18649  https://www.congress.gov/bill/118th-congress/h...    hr4358  \n18650  https://www.congress.gov/bill/118th-congress/h...    hr2810  \n18651  https://www.congress.gov/bill/118th-congress/h...     hr306  \n\n[18652 rows x 8 columns]",
      "text/html": "<div>\n<style scoped>\n    .dataframe tbody tr th:only-of-type {\n        vertical-align: middle;\n    }\n\n    .dataframe tbody tr th {\n        vertical-align: top;\n    }\n\n    .dataframe thead th {\n        text-align: right;\n    }\n</style>\n<table border=\"1\" class=\"dataframe\">\n  <thead>\n    <tr style=\"text-align: right;\">\n      <th></th>\n      <th>bill_congress</th>\n      <th>bill_id</th>\n      <th>bill_title</th>\n      <th>bill_intro_date</th>\n      <th>member_id</th>\n      <th>bill_summary</th>\n      <th>bill_url</th>\n      <th>bill_slug</th>\n    </tr>\n  </thead>\n  <tbody>\n    <tr>\n      <th>0</th>\n      <td>118</td>\n      <td>s3027-118</td>\n      <td>A bill to amend the Internal Revenue Code of 1...</td>\n      <td>2023-10-04</td>\n      <td>C000174</td>\n      <td>NaN</td>\n      <td>https://www.congress.gov/bill/118th-congress/s...</td>\n      <td>s3027</td>\n    </tr>\n    <tr>\n      <th>1</th>\n      <td>118</td>\n      <td>s2958-118</td>\n      <td>An original bill to amend the Coastal Barrier ...</td>\n      <td>2023-09-27</td>\n      <td>C000174</td>\n      <td>NaN</td>\n      <td>https://www.congress.gov/bill/118th-congress/s...</td>\n      <td>s2958</td>\n    </tr>\n    <tr>\n      <th>2</th>\n      <td>118</td>\n      <td>s2959-118</td>\n      <td>An original bill to amend the Comprehensive En...</td>\n      <td>2023-09-27</td>\n      <td>C000174</td>\n      <td>NaN</td>\n      <td>https://www.congress.gov/bill/118th-congress/s...</td>\n      <td>s2959</td>\n    </tr>\n    <tr>\n      <th>3</th>\n      <td>118</td>\n      <td>s2924-118</td>\n      <td>A bill to amend title 31, United States Code, ...</td>\n      <td>2023-09-26</td>\n      <td>C000174</td>\n      <td>NaN</td>\n      <td>https://www.congress.gov/bill/118th-congress/s...</td>\n      <td>s2924</td>\n    </tr>\n    <tr>\n      <th>4</th>\n      <td>118</td>\n      <td>sres339-118</td>\n      <td>A resolution authorizing the Sergeant at Arms ...</td>\n      <td>2023-09-12</td>\n      <td>C000174</td>\n      <td>NaN</td>\n      <td>https://www.congress.gov/bill/118th-congress/s...</td>\n      <td>sres339</td>\n    </tr>\n    <tr>\n      <th>...</th>\n      <td>...</td>\n      <td>...</td>\n      <td>...</td>\n      <td>...</td>\n      <td>...</td>\n      <td>...</td>\n      <td>...</td>\n      <td>...</td>\n    </tr>\n    <tr>\n      <th>18647</th>\n      <td>118</td>\n      <td>hr5132-118</td>\n      <td>To bolster Department of Homeland Security eff...</td>\n      <td>2023-08-01</td>\n      <td>T000488</td>\n      <td>NaN</td>\n      <td>https://www.congress.gov/bill/118th-congress/h...</td>\n      <td>hr5132</td>\n    </tr>\n    <tr>\n      <th>18648</th>\n      <td>118</td>\n      <td>hr4661-118</td>\n      <td>To require the Director of the Office of Entre...</td>\n      <td>2023-07-14</td>\n      <td>T000488</td>\n      <td>NaN</td>\n      <td>https://www.congress.gov/bill/118th-congress/h...</td>\n      <td>hr4661</td>\n    </tr>\n    <tr>\n      <th>18649</th>\n      <td>118</td>\n      <td>hr4358-118</td>\n      <td>To provide lawful permanent resident status an...</td>\n      <td>2023-06-23</td>\n      <td>T000488</td>\n      <td>NaN</td>\n      <td>https://www.congress.gov/bill/118th-congress/h...</td>\n      <td>hr4358</td>\n    </tr>\n    <tr>\n      <th>18650</th>\n      <td>118</td>\n      <td>hr2810-118</td>\n      <td>To designate the Federal building located at 9...</td>\n      <td>2023-04-24</td>\n      <td>T000488</td>\n      <td>NaN</td>\n      <td>https://www.congress.gov/bill/118th-congress/h...</td>\n      <td>hr2810</td>\n    </tr>\n    <tr>\n      <th>18651</th>\n      <td>118</td>\n      <td>hr306-118</td>\n      <td>To amend title 11 of the United States Code to...</td>\n      <td>2023-01-11</td>\n      <td>T000488</td>\n      <td>NaN</td>\n      <td>https://www.congress.gov/bill/118th-congress/h...</td>\n      <td>hr306</td>\n    </tr>\n  </tbody>\n</table>\n<p>18652 rows × 8 columns</p>\n</div>"
     },
     "execution_count": 71,
     "metadata": {},
     "output_type": "execute_result"
    }
   ],
   "source": [
    "bills"
   ],
   "metadata": {
    "collapsed": false,
    "ExecuteTime": {
     "end_time": "2023-11-30T21:39:14.123502Z",
     "start_time": "2023-11-30T21:39:14.091795Z"
    }
   },
   "id": "e28af71cffb2334f"
  },
  {
   "cell_type": "code",
   "execution_count": 72,
   "outputs": [
    {
     "data": {
      "text/plain": "                                                     url        date  \\\n0      https://susielee.house.gov/media/press-release...  2020-12-03   \n1      https://susielee.house.gov/media/press-release...  2020-12-01   \n2      https://susielee.house.gov/media/press-release...  2020-11-20   \n3      https://susielee.house.gov/media/press-release...  2020-11-18   \n4      https://susielee.house.gov/media/press-release...  2020-12-27   \n...                                                  ...         ...   \n92248  https://www.coons.senate.gov/news/press-releas...  2023-10-27   \n92249  https://www.coons.senate.gov/news/press-releas...  2023-10-25   \n92250  https://www.coons.senate.gov/news/press-releas...  2023-10-24   \n92251  https://www.coons.senate.gov/news/press-releas...  2023-10-23   \n92252  https://www.coons.senate.gov/news/press-releas...  2023-10-19   \n\n                                                   title           type  \\\n0      Rep. Lee Announces Nearly $1.4 Million Grant t...  Press Release   \n1      Problem Solvers Caucus, Senate Partners Unveil...  Press Release   \n2      Rep. Susie Lee Helps Pass National Apprentices...  Press Release   \n3      Rep. Susie Lee Elected to Serve as Regional Re...  Press Release   \n4      Rep. Lee Statement, President Trump Finally Si...  Press Release   \n...                                                  ...            ...   \n92248  Senators Coons, Scott, colleagues call on Sena...  Press Release   \n92249  ICYMI: Following debate, Senators Coons, Rubio...  Press Release   \n92250  Senator Coons, colleagues write bipartisan let...  Press Release   \n92251  Senator Coons statement on congressional deleg...  Press Release   \n92252  Senators Coons, Cornyn, Braun introduce resolu...  Press Release   \n\n      member_id  congress  \n0       L000590       116  \n1       L000590       116  \n2       L000590       116  \n3       L000590       116  \n4       L000590       116  \n...         ...       ...  \n92248   C001088       118  \n92249   C001088       118  \n92250   C001088       118  \n92251   C001088       118  \n92252   C001088       118  \n\n[92253 rows x 6 columns]",
      "text/html": "<div>\n<style scoped>\n    .dataframe tbody tr th:only-of-type {\n        vertical-align: middle;\n    }\n\n    .dataframe tbody tr th {\n        vertical-align: top;\n    }\n\n    .dataframe thead th {\n        text-align: right;\n    }\n</style>\n<table border=\"1\" class=\"dataframe\">\n  <thead>\n    <tr style=\"text-align: right;\">\n      <th></th>\n      <th>url</th>\n      <th>date</th>\n      <th>title</th>\n      <th>type</th>\n      <th>member_id</th>\n      <th>congress</th>\n    </tr>\n  </thead>\n  <tbody>\n    <tr>\n      <th>0</th>\n      <td>https://susielee.house.gov/media/press-release...</td>\n      <td>2020-12-03</td>\n      <td>Rep. Lee Announces Nearly $1.4 Million Grant t...</td>\n      <td>Press Release</td>\n      <td>L000590</td>\n      <td>116</td>\n    </tr>\n    <tr>\n      <th>1</th>\n      <td>https://susielee.house.gov/media/press-release...</td>\n      <td>2020-12-01</td>\n      <td>Problem Solvers Caucus, Senate Partners Unveil...</td>\n      <td>Press Release</td>\n      <td>L000590</td>\n      <td>116</td>\n    </tr>\n    <tr>\n      <th>2</th>\n      <td>https://susielee.house.gov/media/press-release...</td>\n      <td>2020-11-20</td>\n      <td>Rep. Susie Lee Helps Pass National Apprentices...</td>\n      <td>Press Release</td>\n      <td>L000590</td>\n      <td>116</td>\n    </tr>\n    <tr>\n      <th>3</th>\n      <td>https://susielee.house.gov/media/press-release...</td>\n      <td>2020-11-18</td>\n      <td>Rep. Susie Lee Elected to Serve as Regional Re...</td>\n      <td>Press Release</td>\n      <td>L000590</td>\n      <td>116</td>\n    </tr>\n    <tr>\n      <th>4</th>\n      <td>https://susielee.house.gov/media/press-release...</td>\n      <td>2020-12-27</td>\n      <td>Rep. Lee Statement, President Trump Finally Si...</td>\n      <td>Press Release</td>\n      <td>L000590</td>\n      <td>116</td>\n    </tr>\n    <tr>\n      <th>...</th>\n      <td>...</td>\n      <td>...</td>\n      <td>...</td>\n      <td>...</td>\n      <td>...</td>\n      <td>...</td>\n    </tr>\n    <tr>\n      <th>92248</th>\n      <td>https://www.coons.senate.gov/news/press-releas...</td>\n      <td>2023-10-27</td>\n      <td>Senators Coons, Scott, colleagues call on Sena...</td>\n      <td>Press Release</td>\n      <td>C001088</td>\n      <td>118</td>\n    </tr>\n    <tr>\n      <th>92249</th>\n      <td>https://www.coons.senate.gov/news/press-releas...</td>\n      <td>2023-10-25</td>\n      <td>ICYMI: Following debate, Senators Coons, Rubio...</td>\n      <td>Press Release</td>\n      <td>C001088</td>\n      <td>118</td>\n    </tr>\n    <tr>\n      <th>92250</th>\n      <td>https://www.coons.senate.gov/news/press-releas...</td>\n      <td>2023-10-24</td>\n      <td>Senator Coons, colleagues write bipartisan let...</td>\n      <td>Press Release</td>\n      <td>C001088</td>\n      <td>118</td>\n    </tr>\n    <tr>\n      <th>92251</th>\n      <td>https://www.coons.senate.gov/news/press-releas...</td>\n      <td>2023-10-23</td>\n      <td>Senator Coons statement on congressional deleg...</td>\n      <td>Press Release</td>\n      <td>C001088</td>\n      <td>118</td>\n    </tr>\n    <tr>\n      <th>92252</th>\n      <td>https://www.coons.senate.gov/news/press-releas...</td>\n      <td>2023-10-19</td>\n      <td>Senators Coons, Cornyn, Braun introduce resolu...</td>\n      <td>Press Release</td>\n      <td>C001088</td>\n      <td>118</td>\n    </tr>\n  </tbody>\n</table>\n<p>92253 rows × 6 columns</p>\n</div>"
     },
     "execution_count": 72,
     "metadata": {},
     "output_type": "execute_result"
    }
   ],
   "source": [
    "statements"
   ],
   "metadata": {
    "collapsed": false,
    "ExecuteTime": {
     "end_time": "2023-11-30T21:39:14.254216Z",
     "start_time": "2023-11-30T21:39:14.248316Z"
    }
   },
   "id": "357d30d3114bfcf5"
  },
  {
   "cell_type": "code",
   "execution_count": 73,
   "outputs": [],
   "source": [
    "erd = ERD()\n",
    "\n",
    "t1 = erd.add_table(transactions, 'Transactions', bg_color='pink')\n",
    "t2 = erd.add_table(committee_assignments, 'Committees', bg_color='lightblue')\n",
    "t3 = erd.add_table(subcommittee_assignments, 'Subcommittees', bg_color='lightblue')\n",
    "t4 = erd.add_table(bills, 'Bills', bg_color='lightblue')\n",
    "t5 = erd.add_table(hearings, 'Hearings', bg_color='gold')\n",
    "t6 = erd.add_table(travel, 'Travel', bg_color='lightblue')\n",
    "t7 = erd.add_table(related_bills, 'RelatedBills', bg_color='lightblue')\n",
    "t8 = erd.add_table(statements, 'Statements', bg_color='lightblue')\n",
    "erd.create_rel('Transactions', 'Committees', left_on='id', right_on='member_id', left_cardinality='+', right_cardinality='+')\n",
    "erd.create_rel('Transactions', 'Subcommittees', left_on='id', right_on='member_id', left_cardinality='+', right_cardinality='+')\n",
    "erd.create_rel('Transactions', 'Bills', left_on='id', right_on='member_id', left_cardinality='+', right_cardinality='+')\n",
    "erd.create_rel('Transactions', 'Travel', left_on='id', right_on='member_id', left_cardinality='+', right_cardinality='+')\n",
    "erd.create_rel('Committees', 'Hearings', left_on='committee_id', right_on='hearing_committee_id', left_cardinality='+', right_cardinality='+')\n",
    "erd.create_rel('Transactions', 'RelatedBills', left_on='id', right_on='member_id', left_cardinality='+', right_cardinality='+')\n",
    "erd.create_rel('Transactions', 'Statements', left_on='id', right_on='member_id', left_cardinality='+', right_cardinality='+')"
   ],
   "metadata": {
    "collapsed": false,
    "ExecuteTime": {
     "end_time": "2023-11-30T21:39:14.389739Z",
     "start_time": "2023-11-30T21:39:14.388140Z"
    }
   },
   "id": "f4562489de5a64c4"
  },
  {
   "cell_type": "code",
   "execution_count": 74,
   "outputs": [
    {
     "name": "stdout",
     "output_type": "stream",
     "text": [
      "written to output.txt; visit https://edotor.net/ to render ERD\n"
     ]
    }
   ],
   "source": [
    "erd.write_to_file('output.txt')"
   ],
   "metadata": {
    "collapsed": false,
    "ExecuteTime": {
     "end_time": "2023-11-30T21:39:14.557042Z",
     "start_time": "2023-11-30T21:39:14.549616Z"
    }
   },
   "id": "a0315c230f7ab068"
  },
  {
   "cell_type": "code",
   "execution_count": null,
   "outputs": [],
   "source": [],
   "metadata": {
    "collapsed": false
   },
   "id": "a6c5330162c84613"
  }
 ],
 "metadata": {
  "kernelspec": {
   "display_name": "Python 3",
   "language": "python",
   "name": "python3"
  },
  "language_info": {
   "codemirror_mode": {
    "name": "ipython",
    "version": 2
   },
   "file_extension": ".py",
   "mimetype": "text/x-python",
   "name": "python",
   "nbconvert_exporter": "python",
   "pygments_lexer": "ipython2",
   "version": "2.7.6"
  }
 },
 "nbformat": 4,
 "nbformat_minor": 5
}
