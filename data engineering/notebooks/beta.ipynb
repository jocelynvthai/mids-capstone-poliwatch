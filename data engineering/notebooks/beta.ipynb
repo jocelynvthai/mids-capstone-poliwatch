{
 "cells": [
  {
   "cell_type": "code",
   "execution_count": 3,
   "id": "initial_id",
   "metadata": {
    "collapsed": true,
    "ExecuteTime": {
     "end_time": "2023-09-25T00:00:45.304816Z",
     "start_time": "2023-09-25T00:00:45.300668Z"
    }
   },
   "outputs": [],
   "source": [
    "import pandas as pd"
   ]
  },
  {
   "cell_type": "code",
   "execution_count": 4,
   "outputs": [
    {
     "data": {
      "text/plain": "      disclosure_date transaction_date      owner             member  \\\n0          05/10/2023       2023-05-03  dependent    Victoria Spartz   \n1          05/10/2023       2023-05-03  dependent    Victoria Spartz   \n2          05/07/2023       2023-04-20        NaN  Robert J. Wittman   \n3          05/07/2023       2023-04-20        NaN  Robert J. Wittman   \n4          05/12/2023       2023-04-20      joint          Susie Lee   \n...               ...              ...        ...                ...   \n11526      01/06/2020       2020-01-02        NaN          Bob Gibbs   \n11527      01/06/2020       2020-01-02        NaN          Bob Gibbs   \n11528      01/24/2020       2020-01-02        NaN   Lloyd K. Smucker   \n11529      01/31/2020       2020-01-02         --  James R. Langevin   \n11530      02/07/2020       2020-01-02         --         Van Taylor   \n\n          member_type  amount_formatted          type ticker  \\\n0      representative            1000.0      purchase    SPG   \n1      representative            1000.0      purchase    SPG   \n2      representative            1000.0     sale_full   CSCO   \n3      representative            1000.0      purchase    XOM   \n4      representative           15000.0     sale_full    AJG   \n...               ...               ...           ...    ...   \n11526  representative           15000.0      purchase   AAPL   \n11527  representative           15000.0     sale_full    XOM   \n11528  representative           15000.0  sale_partial    UNH   \n11529  representative            1000.0  sale_partial   BABA   \n11530  representative            1000.0     sale_full    XOM   \n\n                                industry             sector  ...  asset_type  \\\n0          Real Estate Investment Trusts  Consumer Services  ...         NaN   \n1          Real Estate Investment Trusts  Consumer Services  ...         NaN   \n2      Computer Communications Equipment         Technology  ...         NaN   \n3               Integrated oil Companies             Energy  ...         NaN   \n4                     Specialty Insurers            Finance  ...         NaN   \n...                                  ...                ...  ...         ...   \n11526             Computer Manufacturing         Technology  ...         NaN   \n11527           Integrated oil Companies             Energy  ...         NaN   \n11528               Medical Specialities        Health Care  ...         NaN   \n11529                  Business Services      Miscellaneous  ...         NaN   \n11530           Integrated oil Companies             Energy  ...         NaN   \n\n       comment    adjusted    market.cap        country  ipo.year  \\\n0          NaN  104.086815  3.840662e+10  United States       NaN   \n1          NaN  104.086815  3.840662e+10  United States       NaN   \n2          NaN   46.229439  2.285723e+11  United States    1990.0   \n3          NaN  113.713020  4.744584e+11  United States       NaN   \n4          NaN  206.815323  4.987886e+10  United States       NaN   \n...        ...         ...           ...            ...       ...   \n11526      NaN   73.249016  2.747560e+12  United States    1980.0   \n11527      NaN   58.054897  4.744584e+11  United States       NaN   \n11528      NaN  276.971893  4.479612e+11  United States       NaN   \n11529      NaN  219.770004  2.257862e+11          China    2014.0   \n11530      NaN   58.054897  4.744584e+11  United States       NaN   \n\n      short_term.avg_per_change short_term.sd_per_change  \\\n0                     -0.058235                 0.027324   \n1                     -0.058235                 0.027324   \n2                      0.000536                 0.030787   \n3                     -0.078681                 0.020198   \n4                      0.036098                 0.029300   \n...                         ...                      ...   \n11526                  0.074111                 0.017967   \n11527                 -0.088013                 0.042938   \n11528                 -0.012304                 0.029382   \n11529                  0.003077                 0.034068   \n11530                 -0.088013                 0.042938   \n\n      med_term.avg_per_change med_term.sd_per_change  \n0                    0.037727               0.044745  \n1                    0.037727               0.044745  \n2                    0.098959               0.041097  \n3                   -0.077247               0.022886  \n4                    0.061753               0.033477  \n...                       ...                    ...  \n11526                0.188854               0.268749  \n11527               -0.378580               0.079882  \n11528               -0.016575               0.086364  \n11529                0.052005               0.145373  \n11530               -0.378580               0.079882  \n\n[11531 rows x 33 columns]",
      "text/html": "<div>\n<style scoped>\n    .dataframe tbody tr th:only-of-type {\n        vertical-align: middle;\n    }\n\n    .dataframe tbody tr th {\n        vertical-align: top;\n    }\n\n    .dataframe thead th {\n        text-align: right;\n    }\n</style>\n<table border=\"1\" class=\"dataframe\">\n  <thead>\n    <tr style=\"text-align: right;\">\n      <th></th>\n      <th>disclosure_date</th>\n      <th>transaction_date</th>\n      <th>owner</th>\n      <th>member</th>\n      <th>member_type</th>\n      <th>amount_formatted</th>\n      <th>type</th>\n      <th>ticker</th>\n      <th>industry</th>\n      <th>sector</th>\n      <th>...</th>\n      <th>asset_type</th>\n      <th>comment</th>\n      <th>adjusted</th>\n      <th>market.cap</th>\n      <th>country</th>\n      <th>ipo.year</th>\n      <th>short_term.avg_per_change</th>\n      <th>short_term.sd_per_change</th>\n      <th>med_term.avg_per_change</th>\n      <th>med_term.sd_per_change</th>\n    </tr>\n  </thead>\n  <tbody>\n    <tr>\n      <th>0</th>\n      <td>05/10/2023</td>\n      <td>2023-05-03</td>\n      <td>dependent</td>\n      <td>Victoria Spartz</td>\n      <td>representative</td>\n      <td>1000.0</td>\n      <td>purchase</td>\n      <td>SPG</td>\n      <td>Real Estate Investment Trusts</td>\n      <td>Consumer Services</td>\n      <td>...</td>\n      <td>NaN</td>\n      <td>NaN</td>\n      <td>104.086815</td>\n      <td>3.840662e+10</td>\n      <td>United States</td>\n      <td>NaN</td>\n      <td>-0.058235</td>\n      <td>0.027324</td>\n      <td>0.037727</td>\n      <td>0.044745</td>\n    </tr>\n    <tr>\n      <th>1</th>\n      <td>05/10/2023</td>\n      <td>2023-05-03</td>\n      <td>dependent</td>\n      <td>Victoria Spartz</td>\n      <td>representative</td>\n      <td>1000.0</td>\n      <td>purchase</td>\n      <td>SPG</td>\n      <td>Real Estate Investment Trusts</td>\n      <td>Consumer Services</td>\n      <td>...</td>\n      <td>NaN</td>\n      <td>NaN</td>\n      <td>104.086815</td>\n      <td>3.840662e+10</td>\n      <td>United States</td>\n      <td>NaN</td>\n      <td>-0.058235</td>\n      <td>0.027324</td>\n      <td>0.037727</td>\n      <td>0.044745</td>\n    </tr>\n    <tr>\n      <th>2</th>\n      <td>05/07/2023</td>\n      <td>2023-04-20</td>\n      <td>NaN</td>\n      <td>Robert J. Wittman</td>\n      <td>representative</td>\n      <td>1000.0</td>\n      <td>sale_full</td>\n      <td>CSCO</td>\n      <td>Computer Communications Equipment</td>\n      <td>Technology</td>\n      <td>...</td>\n      <td>NaN</td>\n      <td>NaN</td>\n      <td>46.229439</td>\n      <td>2.285723e+11</td>\n      <td>United States</td>\n      <td>1990.0</td>\n      <td>0.000536</td>\n      <td>0.030787</td>\n      <td>0.098959</td>\n      <td>0.041097</td>\n    </tr>\n    <tr>\n      <th>3</th>\n      <td>05/07/2023</td>\n      <td>2023-04-20</td>\n      <td>NaN</td>\n      <td>Robert J. Wittman</td>\n      <td>representative</td>\n      <td>1000.0</td>\n      <td>purchase</td>\n      <td>XOM</td>\n      <td>Integrated oil Companies</td>\n      <td>Energy</td>\n      <td>...</td>\n      <td>NaN</td>\n      <td>NaN</td>\n      <td>113.713020</td>\n      <td>4.744584e+11</td>\n      <td>United States</td>\n      <td>NaN</td>\n      <td>-0.078681</td>\n      <td>0.020198</td>\n      <td>-0.077247</td>\n      <td>0.022886</td>\n    </tr>\n    <tr>\n      <th>4</th>\n      <td>05/12/2023</td>\n      <td>2023-04-20</td>\n      <td>joint</td>\n      <td>Susie Lee</td>\n      <td>representative</td>\n      <td>15000.0</td>\n      <td>sale_full</td>\n      <td>AJG</td>\n      <td>Specialty Insurers</td>\n      <td>Finance</td>\n      <td>...</td>\n      <td>NaN</td>\n      <td>NaN</td>\n      <td>206.815323</td>\n      <td>4.987886e+10</td>\n      <td>United States</td>\n      <td>NaN</td>\n      <td>0.036098</td>\n      <td>0.029300</td>\n      <td>0.061753</td>\n      <td>0.033477</td>\n    </tr>\n    <tr>\n      <th>...</th>\n      <td>...</td>\n      <td>...</td>\n      <td>...</td>\n      <td>...</td>\n      <td>...</td>\n      <td>...</td>\n      <td>...</td>\n      <td>...</td>\n      <td>...</td>\n      <td>...</td>\n      <td>...</td>\n      <td>...</td>\n      <td>...</td>\n      <td>...</td>\n      <td>...</td>\n      <td>...</td>\n      <td>...</td>\n      <td>...</td>\n      <td>...</td>\n      <td>...</td>\n      <td>...</td>\n    </tr>\n    <tr>\n      <th>11526</th>\n      <td>01/06/2020</td>\n      <td>2020-01-02</td>\n      <td>NaN</td>\n      <td>Bob Gibbs</td>\n      <td>representative</td>\n      <td>15000.0</td>\n      <td>purchase</td>\n      <td>AAPL</td>\n      <td>Computer Manufacturing</td>\n      <td>Technology</td>\n      <td>...</td>\n      <td>NaN</td>\n      <td>NaN</td>\n      <td>73.249016</td>\n      <td>2.747560e+12</td>\n      <td>United States</td>\n      <td>1980.0</td>\n      <td>0.074111</td>\n      <td>0.017967</td>\n      <td>0.188854</td>\n      <td>0.268749</td>\n    </tr>\n    <tr>\n      <th>11527</th>\n      <td>01/06/2020</td>\n      <td>2020-01-02</td>\n      <td>NaN</td>\n      <td>Bob Gibbs</td>\n      <td>representative</td>\n      <td>15000.0</td>\n      <td>sale_full</td>\n      <td>XOM</td>\n      <td>Integrated oil Companies</td>\n      <td>Energy</td>\n      <td>...</td>\n      <td>NaN</td>\n      <td>NaN</td>\n      <td>58.054897</td>\n      <td>4.744584e+11</td>\n      <td>United States</td>\n      <td>NaN</td>\n      <td>-0.088013</td>\n      <td>0.042938</td>\n      <td>-0.378580</td>\n      <td>0.079882</td>\n    </tr>\n    <tr>\n      <th>11528</th>\n      <td>01/24/2020</td>\n      <td>2020-01-02</td>\n      <td>NaN</td>\n      <td>Lloyd K. Smucker</td>\n      <td>representative</td>\n      <td>15000.0</td>\n      <td>sale_partial</td>\n      <td>UNH</td>\n      <td>Medical Specialities</td>\n      <td>Health Care</td>\n      <td>...</td>\n      <td>NaN</td>\n      <td>NaN</td>\n      <td>276.971893</td>\n      <td>4.479612e+11</td>\n      <td>United States</td>\n      <td>NaN</td>\n      <td>-0.012304</td>\n      <td>0.029382</td>\n      <td>-0.016575</td>\n      <td>0.086364</td>\n    </tr>\n    <tr>\n      <th>11529</th>\n      <td>01/31/2020</td>\n      <td>2020-01-02</td>\n      <td>--</td>\n      <td>James R. Langevin</td>\n      <td>representative</td>\n      <td>1000.0</td>\n      <td>sale_partial</td>\n      <td>BABA</td>\n      <td>Business Services</td>\n      <td>Miscellaneous</td>\n      <td>...</td>\n      <td>NaN</td>\n      <td>NaN</td>\n      <td>219.770004</td>\n      <td>2.257862e+11</td>\n      <td>China</td>\n      <td>2014.0</td>\n      <td>0.003077</td>\n      <td>0.034068</td>\n      <td>0.052005</td>\n      <td>0.145373</td>\n    </tr>\n    <tr>\n      <th>11530</th>\n      <td>02/07/2020</td>\n      <td>2020-01-02</td>\n      <td>--</td>\n      <td>Van Taylor</td>\n      <td>representative</td>\n      <td>1000.0</td>\n      <td>sale_full</td>\n      <td>XOM</td>\n      <td>Integrated oil Companies</td>\n      <td>Energy</td>\n      <td>...</td>\n      <td>NaN</td>\n      <td>NaN</td>\n      <td>58.054897</td>\n      <td>4.744584e+11</td>\n      <td>United States</td>\n      <td>NaN</td>\n      <td>-0.088013</td>\n      <td>0.042938</td>\n      <td>-0.378580</td>\n      <td>0.079882</td>\n    </tr>\n  </tbody>\n</table>\n<p>11531 rows × 33 columns</p>\n</div>"
     },
     "execution_count": 4,
     "metadata": {},
     "output_type": "execute_result"
    }
   ],
   "source": [
    "trans = pd.read_csv('../data/transactions_20230914.csv')\n",
    "\n",
    "trans"
   ],
   "metadata": {
    "collapsed": false,
    "ExecuteTime": {
     "end_time": "2023-09-25T00:00:46.071915Z",
     "start_time": "2023-09-25T00:00:45.970410Z"
    }
   },
   "id": "cc09d504e4faa97b"
  },
  {
   "cell_type": "code",
   "execution_count": 6,
   "outputs": [
    {
     "data": {
      "text/plain": "        symbol        date       open       high        low      close  \\\n0           BP  2020-01-02  38.040001  38.150002  37.869999  38.139999   \n1           BP  2020-01-03  38.480000  39.090000  38.459999  38.830002   \n2           BP  2020-01-06  39.680000  40.080002  39.660000  39.849998   \n3           BP  2020-01-07  39.360001  39.480000  39.000000  39.430000   \n4           BP  2020-01-08  39.240002  39.299999  38.590000  38.830002   \n...        ...         ...        ...        ...        ...        ...   \n1429549    BFK  2023-08-25   9.550000   9.600000   9.540000   9.540000   \n1429550    BFK  2023-08-28   9.560000   9.570000   9.540000   9.540000   \n1429551    BFK  2023-08-29   9.540000   9.620000   9.540000   9.620000   \n1429552    BFK  2023-08-30   9.600000   9.650000   9.600000   9.600000   \n1429553    BFK  2023-08-31   9.610000   9.670000   9.610000   9.670000   \n\n             volume   adjusted  \n0         6565100.0  31.165506  \n1        14000800.0  31.729324  \n2        15091700.0  32.562805  \n3        12494200.0  32.219612  \n4         9335500.0  31.729324  \n...             ...        ...  \n1429549     68200.0   9.540000  \n1429550     88400.0   9.540000  \n1429551    133500.0   9.620000  \n1429552     65600.0   9.600000  \n1429553    153600.0   9.670000  \n\n[1429554 rows x 8 columns]",
      "text/html": "<div>\n<style scoped>\n    .dataframe tbody tr th:only-of-type {\n        vertical-align: middle;\n    }\n\n    .dataframe tbody tr th {\n        vertical-align: top;\n    }\n\n    .dataframe thead th {\n        text-align: right;\n    }\n</style>\n<table border=\"1\" class=\"dataframe\">\n  <thead>\n    <tr style=\"text-align: right;\">\n      <th></th>\n      <th>symbol</th>\n      <th>date</th>\n      <th>open</th>\n      <th>high</th>\n      <th>low</th>\n      <th>close</th>\n      <th>volume</th>\n      <th>adjusted</th>\n    </tr>\n  </thead>\n  <tbody>\n    <tr>\n      <th>0</th>\n      <td>BP</td>\n      <td>2020-01-02</td>\n      <td>38.040001</td>\n      <td>38.150002</td>\n      <td>37.869999</td>\n      <td>38.139999</td>\n      <td>6565100.0</td>\n      <td>31.165506</td>\n    </tr>\n    <tr>\n      <th>1</th>\n      <td>BP</td>\n      <td>2020-01-03</td>\n      <td>38.480000</td>\n      <td>39.090000</td>\n      <td>38.459999</td>\n      <td>38.830002</td>\n      <td>14000800.0</td>\n      <td>31.729324</td>\n    </tr>\n    <tr>\n      <th>2</th>\n      <td>BP</td>\n      <td>2020-01-06</td>\n      <td>39.680000</td>\n      <td>40.080002</td>\n      <td>39.660000</td>\n      <td>39.849998</td>\n      <td>15091700.0</td>\n      <td>32.562805</td>\n    </tr>\n    <tr>\n      <th>3</th>\n      <td>BP</td>\n      <td>2020-01-07</td>\n      <td>39.360001</td>\n      <td>39.480000</td>\n      <td>39.000000</td>\n      <td>39.430000</td>\n      <td>12494200.0</td>\n      <td>32.219612</td>\n    </tr>\n    <tr>\n      <th>4</th>\n      <td>BP</td>\n      <td>2020-01-08</td>\n      <td>39.240002</td>\n      <td>39.299999</td>\n      <td>38.590000</td>\n      <td>38.830002</td>\n      <td>9335500.0</td>\n      <td>31.729324</td>\n    </tr>\n    <tr>\n      <th>...</th>\n      <td>...</td>\n      <td>...</td>\n      <td>...</td>\n      <td>...</td>\n      <td>...</td>\n      <td>...</td>\n      <td>...</td>\n      <td>...</td>\n    </tr>\n    <tr>\n      <th>1429549</th>\n      <td>BFK</td>\n      <td>2023-08-25</td>\n      <td>9.550000</td>\n      <td>9.600000</td>\n      <td>9.540000</td>\n      <td>9.540000</td>\n      <td>68200.0</td>\n      <td>9.540000</td>\n    </tr>\n    <tr>\n      <th>1429550</th>\n      <td>BFK</td>\n      <td>2023-08-28</td>\n      <td>9.560000</td>\n      <td>9.570000</td>\n      <td>9.540000</td>\n      <td>9.540000</td>\n      <td>88400.0</td>\n      <td>9.540000</td>\n    </tr>\n    <tr>\n      <th>1429551</th>\n      <td>BFK</td>\n      <td>2023-08-29</td>\n      <td>9.540000</td>\n      <td>9.620000</td>\n      <td>9.540000</td>\n      <td>9.620000</td>\n      <td>133500.0</td>\n      <td>9.620000</td>\n    </tr>\n    <tr>\n      <th>1429552</th>\n      <td>BFK</td>\n      <td>2023-08-30</td>\n      <td>9.600000</td>\n      <td>9.650000</td>\n      <td>9.600000</td>\n      <td>9.600000</td>\n      <td>65600.0</td>\n      <td>9.600000</td>\n    </tr>\n    <tr>\n      <th>1429553</th>\n      <td>BFK</td>\n      <td>2023-08-31</td>\n      <td>9.610000</td>\n      <td>9.670000</td>\n      <td>9.610000</td>\n      <td>9.670000</td>\n      <td>153600.0</td>\n      <td>9.670000</td>\n    </tr>\n  </tbody>\n</table>\n<p>1429554 rows × 8 columns</p>\n</div>"
     },
     "execution_count": 6,
     "metadata": {},
     "output_type": "execute_result"
    }
   ],
   "source": [
    "prices = pd.read_csv('../data/stock_prices_20230914.csv')\n",
    "prices"
   ],
   "metadata": {
    "collapsed": false,
    "ExecuteTime": {
     "end_time": "2023-09-25T00:01:03.376941Z",
     "start_time": "2023-09-25T00:01:02.364794Z"
    }
   },
   "id": "b53275e658992810"
  },
  {
   "cell_type": "code",
   "execution_count": null,
   "outputs": [],
   "source": [],
   "metadata": {
    "collapsed": false
   },
   "id": "d63f898b14a29496"
  }
 ],
 "metadata": {
  "kernelspec": {
   "display_name": "Python 3",
   "language": "python",
   "name": "python3"
  },
  "language_info": {
   "codemirror_mode": {
    "name": "ipython",
    "version": 2
   },
   "file_extension": ".py",
   "mimetype": "text/x-python",
   "name": "python",
   "nbconvert_exporter": "python",
   "pygments_lexer": "ipython2",
   "version": "2.7.6"
  }
 },
 "nbformat": 4,
 "nbformat_minor": 5
}
