{
 "cells": [
  {
   "cell_type": "code",
   "execution_count": 210,
   "id": "initial_id",
   "metadata": {
    "collapsed": true,
    "ExecuteTime": {
     "end_time": "2023-11-30T07:17:21.872897Z",
     "start_time": "2023-11-30T07:17:21.865602Z"
    }
   },
   "outputs": [],
   "source": [
    "import pandas as pd\n",
    "import nameparser\n",
    "import json\n",
    "import requests\n",
    "import numpy as np\n",
    "\n",
    "pro_publica_api_key = \"PguHImFJakafbsBpZ2ed21A1HIgvXKiM7tg0BqI0 \"\n",
    "headers = {'X-API-Key': pro_publica_api_key}"
   ]
  },
  {
   "cell_type": "code",
   "execution_count": 22,
   "outputs": [],
   "source": [
    "def get_committees_and_subcommittees(congress, chamber):\n",
    "    url = f'https://api.propublica.org/congress/v1/{congress}/{chamber}/committees.json'\n",
    "    response = requests.get(url, headers=headers)\n",
    "\n",
    "    committees = response.json()['results'][0]['committees']\n",
    "    \n",
    "    committee_id_list = []\n",
    "    committee_name_list = []\n",
    "    subcommittee_id_list = []\n",
    "    subcommittee_name_list = []\n",
    "    subcommitte_parent_id_list = []\n",
    "    \n",
    "    for committee in committees:\n",
    "        committee_id_list.append(committee['id'])\n",
    "        committee_name_list.append(committee['name'])\n",
    "        for subcommittee in committee['subcommittees']:\n",
    "            subcommittee_id_list.append(subcommittee['id'])\n",
    "            subcommittee_name_list.append(subcommittee['name'])\n",
    "            subcommitte_parent_id_list.append(committee['id'])\n",
    "    \n",
    "    committee_df = pd.DataFrame({'committee_id': committee_id_list,\n",
    "                                 'committee_name': committee_name_list})\n",
    "    committee_df['congress'] = congress\n",
    "    committee_df['chamber'] = chamber\n",
    "    subcommittee_df = pd.DataFrame({'subcommittee_id': subcommittee_id_list,\n",
    "                                    'subcommittee_name': subcommittee_name_list,\n",
    "                                    'parent_committee_id': subcommitte_parent_id_list})\n",
    "    subcommittee_df['congress'] = congress\n",
    "    subcommittee_df['chamber'] = chamber\n",
    "    \n",
    "    return committee_df, subcommittee_df"
   ],
   "metadata": {
    "collapsed": false,
    "ExecuteTime": {
     "end_time": "2023-11-28T23:19:07.206387Z",
     "start_time": "2023-11-28T23:19:07.192307Z"
    }
   },
   "id": "aca31c2d27ad730b"
  },
  {
   "cell_type": "code",
   "execution_count": 29,
   "outputs": [],
   "source": [
    "\"\"\"get committees and subcommittees for 116th congress\"\"\"\n",
    "\n",
    "house_116_committees = get_committees_and_subcommittees(116, 'house')[0]\n",
    "house_116_subcommittees = get_committees_and_subcommittees(116, 'house')[1]\n",
    "senate_116_committees = get_committees_and_subcommittees(116, 'senate')[0]\n",
    "senate_116_subcommittees = get_committees_and_subcommittees(116, 'senate')[1]\n",
    "joint_116_committees = get_committees_and_subcommittees(116, 'joint')[0]\n",
    "joint_116_subcommittees = get_committees_and_subcommittees(116, 'joint')[1]\n",
    "committees_116 = pd.concat([house_116_committees, senate_116_committees, joint_116_committees])\n",
    "subcommittees_116 = pd.concat([house_116_subcommittees, senate_116_subcommittees, joint_116_subcommittees])"
   ],
   "metadata": {
    "collapsed": false,
    "ExecuteTime": {
     "end_time": "2023-11-28T23:22:20.179379Z",
     "start_time": "2023-11-28T23:22:18.168178Z"
    }
   },
   "id": "4f5b9fd249f29713"
  },
  {
   "cell_type": "code",
   "execution_count": 31,
   "outputs": [],
   "source": [
    "\"\"\"get committees and subcommittees for 117th congress\"\"\"\n",
    "house_117_committees = get_committees_and_subcommittees(117, 'house')[0]\n",
    "house_117_subcommittees = get_committees_and_subcommittees(117, 'house')[1]\n",
    "senate_117_committees = get_committees_and_subcommittees(117, 'senate')[0]\n",
    "senate_117_subcommittees = get_committees_and_subcommittees(117, 'senate')[1]\n",
    "joint_117_committees = get_committees_and_subcommittees(117, 'joint')[0]\n",
    "joint_117_subcommittees = get_committees_and_subcommittees(117, 'joint')[1]\n",
    "committees_117 = pd.concat([house_117_committees, senate_117_committees, joint_117_committees])\n",
    "subcommittees_117 = pd.concat([house_117_subcommittees, senate_117_subcommittees, joint_117_subcommittees])\n"
   ],
   "metadata": {
    "collapsed": false,
    "ExecuteTime": {
     "end_time": "2023-11-28T23:23:45.656276Z",
     "start_time": "2023-11-28T23:23:27.042679Z"
    }
   },
   "id": "9d8f0cd15ee647b4"
  },
  {
   "cell_type": "code",
   "execution_count": 36,
   "outputs": [],
   "source": [
    "\"\"\"get committees and subcommittees for 118th congress\"\"\"\n",
    "house_118_committees = get_committees_and_subcommittees(118, 'house')[0]\n",
    "house_118_subcommittees = get_committees_and_subcommittees(118, 'house')[1]\n",
    "senate_118_committees = get_committees_and_subcommittees(118, 'senate')[0]\n",
    "senate_118_subcommittees = get_committees_and_subcommittees(118, 'senate')[1]\n",
    "joint_118_committees = get_committees_and_subcommittees(118, 'joint')[0]\n",
    "joint_118_subcommittees = get_committees_and_subcommittees(118, 'joint')[1]\n",
    "committees_118 = pd.concat([house_118_committees, senate_118_committees, joint_118_committees])\n",
    "subcommittees_118 = pd.concat([house_118_subcommittees, senate_118_subcommittees, joint_118_subcommittees])\n"
   ],
   "metadata": {
    "collapsed": false,
    "ExecuteTime": {
     "end_time": "2023-11-28T23:24:54.195732Z",
     "start_time": "2023-11-28T23:24:52.205749Z"
    }
   },
   "id": "e2468b2d83bb58b1"
  },
  {
   "cell_type": "code",
   "execution_count": 38,
   "outputs": [
    {
     "data": {
      "text/plain": "((49, 4), (49, 4), (50, 4))"
     },
     "execution_count": 38,
     "metadata": {},
     "output_type": "execute_result"
    }
   ],
   "source": [
    "committees_117.shape, committees_116.shape, committees_118.shape\n"
   ],
   "metadata": {
    "collapsed": false,
    "ExecuteTime": {
     "end_time": "2023-11-28T23:25:20.146689Z",
     "start_time": "2023-11-28T23:25:20.118594Z"
    }
   },
   "id": "ef26c4a645cb78e6"
  },
  {
   "cell_type": "code",
   "execution_count": 39,
   "outputs": [
    {
     "data": {
      "text/plain": "((210, 5), (210, 5), (210, 5))"
     },
     "execution_count": 39,
     "metadata": {},
     "output_type": "execute_result"
    }
   ],
   "source": [
    "subcommittees_117.shape, subcommittees_116.shape, subcommittees_118.shape"
   ],
   "metadata": {
    "collapsed": false,
    "ExecuteTime": {
     "end_time": "2023-11-28T23:25:20.383547Z",
     "start_time": "2023-11-28T23:25:20.364458Z"
    }
   },
   "id": "7c7235514e73a6c5"
  },
  {
   "cell_type": "code",
   "execution_count": 71,
   "outputs": [
    {
     "data": {
      "text/plain": "   committee_id                                    committee_name  congress  \\\n0          HSHA                       Committee on Administration       116   \n1          HSAG                          Committee on Agriculture       116   \n2          HSAP                       Committee on Appropriations       116   \n3          HSAS                       Committee on Armed Services       116   \n4          HSED          Committee on Education and the Workforce       116   \n..          ...                                               ...       ...   \n0          JCSE  Commission on Security and Cooperation in Europe       118   \n1          JSPR                       Joint Committee on Printing       118   \n2          JSTX                       Joint Committee on Taxation       118   \n3          JSLC                    Joint Committee on the Library       118   \n4          JSEC                          Joint Economic Committee       118   \n\n   chamber  \n0    house  \n1    house  \n2    house  \n3    house  \n4    house  \n..     ...  \n0    joint  \n1    joint  \n2    joint  \n3    joint  \n4    joint  \n\n[148 rows x 4 columns]",
      "text/html": "<div>\n<style scoped>\n    .dataframe tbody tr th:only-of-type {\n        vertical-align: middle;\n    }\n\n    .dataframe tbody tr th {\n        vertical-align: top;\n    }\n\n    .dataframe thead th {\n        text-align: right;\n    }\n</style>\n<table border=\"1\" class=\"dataframe\">\n  <thead>\n    <tr style=\"text-align: right;\">\n      <th></th>\n      <th>committee_id</th>\n      <th>committee_name</th>\n      <th>congress</th>\n      <th>chamber</th>\n    </tr>\n  </thead>\n  <tbody>\n    <tr>\n      <th>0</th>\n      <td>HSHA</td>\n      <td>Committee on Administration</td>\n      <td>116</td>\n      <td>house</td>\n    </tr>\n    <tr>\n      <th>1</th>\n      <td>HSAG</td>\n      <td>Committee on Agriculture</td>\n      <td>116</td>\n      <td>house</td>\n    </tr>\n    <tr>\n      <th>2</th>\n      <td>HSAP</td>\n      <td>Committee on Appropriations</td>\n      <td>116</td>\n      <td>house</td>\n    </tr>\n    <tr>\n      <th>3</th>\n      <td>HSAS</td>\n      <td>Committee on Armed Services</td>\n      <td>116</td>\n      <td>house</td>\n    </tr>\n    <tr>\n      <th>4</th>\n      <td>HSED</td>\n      <td>Committee on Education and the Workforce</td>\n      <td>116</td>\n      <td>house</td>\n    </tr>\n    <tr>\n      <th>...</th>\n      <td>...</td>\n      <td>...</td>\n      <td>...</td>\n      <td>...</td>\n    </tr>\n    <tr>\n      <th>0</th>\n      <td>JCSE</td>\n      <td>Commission on Security and Cooperation in Europe</td>\n      <td>118</td>\n      <td>joint</td>\n    </tr>\n    <tr>\n      <th>1</th>\n      <td>JSPR</td>\n      <td>Joint Committee on Printing</td>\n      <td>118</td>\n      <td>joint</td>\n    </tr>\n    <tr>\n      <th>2</th>\n      <td>JSTX</td>\n      <td>Joint Committee on Taxation</td>\n      <td>118</td>\n      <td>joint</td>\n    </tr>\n    <tr>\n      <th>3</th>\n      <td>JSLC</td>\n      <td>Joint Committee on the Library</td>\n      <td>118</td>\n      <td>joint</td>\n    </tr>\n    <tr>\n      <th>4</th>\n      <td>JSEC</td>\n      <td>Joint Economic Committee</td>\n      <td>118</td>\n      <td>joint</td>\n    </tr>\n  </tbody>\n</table>\n<p>148 rows × 4 columns</p>\n</div>"
     },
     "execution_count": 71,
     "metadata": {},
     "output_type": "execute_result"
    }
   ],
   "source": [
    "committees = pd.concat([committees_116, committees_117, committees_118])\n",
    "subcommittees = pd.concat([subcommittees_116, subcommittees_117, subcommittees_118])\n",
    "committees"
   ],
   "metadata": {
    "collapsed": false,
    "ExecuteTime": {
     "end_time": "2023-11-29T00:23:13.931848Z",
     "start_time": "2023-11-29T00:23:13.908410Z"
    }
   },
   "id": "ac7a6a778600cb05"
  },
  {
   "cell_type": "code",
   "execution_count": 72,
   "outputs": [],
   "source": [
    "\"\"\"get committee members\"\"\"\n",
    "committee_assignment_df_list = []\n",
    "for index, row in committees.iterrows():\n",
    "    congress = row['congress']\n",
    "    chamber = row['chamber']\n",
    "    committee_id = row['committee_id']\n",
    "    url = f'https://api.propublica.org/congress/v1/{congress}/{chamber}/committees/{committee_id}.json'\n",
    "    response = requests.get(url, headers=headers)\n",
    "    members = response.json()['results'][0]['current_members']\n",
    "    member_id_list = []\n",
    "    member_name_list = []\n",
    "    member_begin_date_list = []\n",
    "    for member in members:\n",
    "        member_id_list.append(member['id'])\n",
    "        member_name_list.append(member['name'])\n",
    "        member_begin_date_list.append(member['begin_date'])\n",
    "    \n",
    "    committee_members_df = pd.DataFrame({'member_id': member_id_list,\n",
    "                                         'member_name': member_name_list,\n",
    "                                         'member_begin_date': member_begin_date_list})\n",
    "    committee_members_df['congress'] = congress\n",
    "    committee_members_df['chamber'] = chamber\n",
    "    committee_members_df['committee_id'] = committee_id\n",
    "    committee_assignment_df_list.append(committee_members_df)\n",
    "        \n",
    "        \n",
    "committee_assignments = pd.concat(committee_assignment_df_list)\n"
   ],
   "metadata": {
    "collapsed": false,
    "ExecuteTime": {
     "end_time": "2023-11-29T00:24:06.079563Z",
     "start_time": "2023-11-29T00:23:19.568825Z"
    }
   },
   "id": "9a5a6857cf7554f8"
  },
  {
   "cell_type": "code",
   "execution_count": 74,
   "outputs": [
    {
     "data": {
      "text/plain": "   member_id         member_name member_begin_date  congress chamber  \\\n0    D000619        Rodney Davis        2019-01-09       116   house   \n1    L000397         Zoe Lofgren        2019-01-09       116   house   \n2    W000819         Mark Walker        2019-02-06       116   house   \n3    R000606        Jamie Raskin        2019-01-29       116   house   \n4    L000583    Barry Loudermilk        2019-02-06       116   house   \n..       ...                 ...               ...       ...     ...   \n15   M000317  Nicole Malliotakis              None       118   joint   \n16   B001292        Donald Beyer              None       118   joint   \n17   T000483         David Trone              None       118   joint   \n18   M001160          Gwen Moore              None       118   joint   \n19   P000618        Katie Porter              None       118   joint   \n\n   committee_id  \n0          HSHA  \n1          HSHA  \n2          HSHA  \n3          HSHA  \n4          HSHA  \n..          ...  \n15         JSEC  \n16         JSEC  \n17         JSEC  \n18         JSEC  \n19         JSEC  \n\n[3889 rows x 6 columns]",
      "text/html": "<div>\n<style scoped>\n    .dataframe tbody tr th:only-of-type {\n        vertical-align: middle;\n    }\n\n    .dataframe tbody tr th {\n        vertical-align: top;\n    }\n\n    .dataframe thead th {\n        text-align: right;\n    }\n</style>\n<table border=\"1\" class=\"dataframe\">\n  <thead>\n    <tr style=\"text-align: right;\">\n      <th></th>\n      <th>member_id</th>\n      <th>member_name</th>\n      <th>member_begin_date</th>\n      <th>congress</th>\n      <th>chamber</th>\n      <th>committee_id</th>\n    </tr>\n  </thead>\n  <tbody>\n    <tr>\n      <th>0</th>\n      <td>D000619</td>\n      <td>Rodney Davis</td>\n      <td>2019-01-09</td>\n      <td>116</td>\n      <td>house</td>\n      <td>HSHA</td>\n    </tr>\n    <tr>\n      <th>1</th>\n      <td>L000397</td>\n      <td>Zoe Lofgren</td>\n      <td>2019-01-09</td>\n      <td>116</td>\n      <td>house</td>\n      <td>HSHA</td>\n    </tr>\n    <tr>\n      <th>2</th>\n      <td>W000819</td>\n      <td>Mark Walker</td>\n      <td>2019-02-06</td>\n      <td>116</td>\n      <td>house</td>\n      <td>HSHA</td>\n    </tr>\n    <tr>\n      <th>3</th>\n      <td>R000606</td>\n      <td>Jamie Raskin</td>\n      <td>2019-01-29</td>\n      <td>116</td>\n      <td>house</td>\n      <td>HSHA</td>\n    </tr>\n    <tr>\n      <th>4</th>\n      <td>L000583</td>\n      <td>Barry Loudermilk</td>\n      <td>2019-02-06</td>\n      <td>116</td>\n      <td>house</td>\n      <td>HSHA</td>\n    </tr>\n    <tr>\n      <th>...</th>\n      <td>...</td>\n      <td>...</td>\n      <td>...</td>\n      <td>...</td>\n      <td>...</td>\n      <td>...</td>\n    </tr>\n    <tr>\n      <th>15</th>\n      <td>M000317</td>\n      <td>Nicole Malliotakis</td>\n      <td>None</td>\n      <td>118</td>\n      <td>joint</td>\n      <td>JSEC</td>\n    </tr>\n    <tr>\n      <th>16</th>\n      <td>B001292</td>\n      <td>Donald Beyer</td>\n      <td>None</td>\n      <td>118</td>\n      <td>joint</td>\n      <td>JSEC</td>\n    </tr>\n    <tr>\n      <th>17</th>\n      <td>T000483</td>\n      <td>David Trone</td>\n      <td>None</td>\n      <td>118</td>\n      <td>joint</td>\n      <td>JSEC</td>\n    </tr>\n    <tr>\n      <th>18</th>\n      <td>M001160</td>\n      <td>Gwen Moore</td>\n      <td>None</td>\n      <td>118</td>\n      <td>joint</td>\n      <td>JSEC</td>\n    </tr>\n    <tr>\n      <th>19</th>\n      <td>P000618</td>\n      <td>Katie Porter</td>\n      <td>None</td>\n      <td>118</td>\n      <td>joint</td>\n      <td>JSEC</td>\n    </tr>\n  </tbody>\n</table>\n<p>3889 rows × 6 columns</p>\n</div>"
     },
     "execution_count": 74,
     "metadata": {},
     "output_type": "execute_result"
    }
   ],
   "source": [
    "committee_assignments"
   ],
   "metadata": {
    "collapsed": false,
    "ExecuteTime": {
     "end_time": "2023-11-29T00:24:51.948233Z",
     "start_time": "2023-11-29T00:24:51.937922Z"
    }
   },
   "id": "c6d5ce1ccef8140e"
  },
  {
   "cell_type": "code",
   "execution_count": 67,
   "outputs": [
    {
     "data": {
      "text/plain": "   member_id         member_name member_begin_date  congress chamber  \\\n0    F000455     Marcia L. Fudge        2019-02-07       116   house   \n1    D000619        Rodney Davis        2019-02-07       116   house   \n2    B001251   G. K. Butterfield        2019-02-07       116   house   \n3    A000371        Pete Aguilar        2019-02-07       116   house   \n0    F000455     Marcia L. Fudge              None       116   house   \n..       ...                 ...               ...       ...     ...   \n1    B001243    Marsha Blackburn              None       118  senate   \n2    K000393        John Kennedy              None       118  senate   \n3    B001277  Richard Blumenthal              None       118  senate   \n4    H001089       Joshua Hawley              None       118  senate   \n5    W000800         Peter Welch              None       118  senate   \n\n   committee_id subcommittee_id  \n0          HSHA          HSHA01  \n1          HSHA          HSHA01  \n2          HSHA          HSHA01  \n3          HSHA          HSHA01  \n0          HSHA          HSHA08  \n..          ...             ...  \n1          SSJU          SSJU27  \n2          SSJU          SSJU27  \n3          SSJU          SSJU27  \n4          SSJU          SSJU27  \n5          SSJU          SSJU27  \n\n[5238 rows x 7 columns]",
      "text/html": "<div>\n<style scoped>\n    .dataframe tbody tr th:only-of-type {\n        vertical-align: middle;\n    }\n\n    .dataframe tbody tr th {\n        vertical-align: top;\n    }\n\n    .dataframe thead th {\n        text-align: right;\n    }\n</style>\n<table border=\"1\" class=\"dataframe\">\n  <thead>\n    <tr style=\"text-align: right;\">\n      <th></th>\n      <th>member_id</th>\n      <th>member_name</th>\n      <th>member_begin_date</th>\n      <th>congress</th>\n      <th>chamber</th>\n      <th>committee_id</th>\n      <th>subcommittee_id</th>\n    </tr>\n  </thead>\n  <tbody>\n    <tr>\n      <th>0</th>\n      <td>F000455</td>\n      <td>Marcia L. Fudge</td>\n      <td>2019-02-07</td>\n      <td>116</td>\n      <td>house</td>\n      <td>HSHA</td>\n      <td>HSHA01</td>\n    </tr>\n    <tr>\n      <th>1</th>\n      <td>D000619</td>\n      <td>Rodney Davis</td>\n      <td>2019-02-07</td>\n      <td>116</td>\n      <td>house</td>\n      <td>HSHA</td>\n      <td>HSHA01</td>\n    </tr>\n    <tr>\n      <th>2</th>\n      <td>B001251</td>\n      <td>G. K. Butterfield</td>\n      <td>2019-02-07</td>\n      <td>116</td>\n      <td>house</td>\n      <td>HSHA</td>\n      <td>HSHA01</td>\n    </tr>\n    <tr>\n      <th>3</th>\n      <td>A000371</td>\n      <td>Pete Aguilar</td>\n      <td>2019-02-07</td>\n      <td>116</td>\n      <td>house</td>\n      <td>HSHA</td>\n      <td>HSHA01</td>\n    </tr>\n    <tr>\n      <th>0</th>\n      <td>F000455</td>\n      <td>Marcia L. Fudge</td>\n      <td>None</td>\n      <td>116</td>\n      <td>house</td>\n      <td>HSHA</td>\n      <td>HSHA08</td>\n    </tr>\n    <tr>\n      <th>...</th>\n      <td>...</td>\n      <td>...</td>\n      <td>...</td>\n      <td>...</td>\n      <td>...</td>\n      <td>...</td>\n      <td>...</td>\n    </tr>\n    <tr>\n      <th>1</th>\n      <td>B001243</td>\n      <td>Marsha Blackburn</td>\n      <td>None</td>\n      <td>118</td>\n      <td>senate</td>\n      <td>SSJU</td>\n      <td>SSJU27</td>\n    </tr>\n    <tr>\n      <th>2</th>\n      <td>K000393</td>\n      <td>John Kennedy</td>\n      <td>None</td>\n      <td>118</td>\n      <td>senate</td>\n      <td>SSJU</td>\n      <td>SSJU27</td>\n    </tr>\n    <tr>\n      <th>3</th>\n      <td>B001277</td>\n      <td>Richard Blumenthal</td>\n      <td>None</td>\n      <td>118</td>\n      <td>senate</td>\n      <td>SSJU</td>\n      <td>SSJU27</td>\n    </tr>\n    <tr>\n      <th>4</th>\n      <td>H001089</td>\n      <td>Joshua Hawley</td>\n      <td>None</td>\n      <td>118</td>\n      <td>senate</td>\n      <td>SSJU</td>\n      <td>SSJU27</td>\n    </tr>\n    <tr>\n      <th>5</th>\n      <td>W000800</td>\n      <td>Peter Welch</td>\n      <td>None</td>\n      <td>118</td>\n      <td>senate</td>\n      <td>SSJU</td>\n      <td>SSJU27</td>\n    </tr>\n  </tbody>\n</table>\n<p>5238 rows × 7 columns</p>\n</div>"
     },
     "execution_count": 67,
     "metadata": {},
     "output_type": "execute_result"
    }
   ],
   "source": [
    "\"\"\"get subcommittee members\"\"\"\n",
    "subcommittee_assignment_df_list = []\n",
    "\n",
    "for index, row in subcommittees.iterrows():\n",
    "    congress = row['congress']\n",
    "    chamber = row['chamber']\n",
    "    committee_id = row['parent_committee_id']\n",
    "    subcommittee_id = row['subcommittee_id']\n",
    "    url = f'https://api.propublica.org/congress/v1/{congress}/{chamber}/committees/{committee_id}/subcommittees/{subcommittee_id}.json'\n",
    "    response = requests.get(url, headers=headers)\n",
    "    members = response.json()['results'][0]['current_members']\n",
    "    member_id_list = []\n",
    "    member_name_list = []\n",
    "    member_begin_date_list = []\n",
    "    for member in members:\n",
    "        member_id_list.append(member['id'])\n",
    "        member_name_list.append(member['name'])\n",
    "        member_begin_date_list.append(member['begin_date'])\n",
    "    \n",
    "    subcommittee_members_df = pd.DataFrame({'member_id': member_id_list,\n",
    "                                         'member_name': member_name_list,\n",
    "                                         'member_begin_date': member_begin_date_list})\n",
    "    subcommittee_members_df['congress'] = congress\n",
    "    subcommittee_members_df['chamber'] = chamber\n",
    "    subcommittee_members_df['committee_id'] = committee_id\n",
    "    subcommittee_members_df['subcommittee_id'] = subcommittee_id\n",
    "    subcommittee_assignment_df_list.append(subcommittee_members_df)\n",
    "\n",
    "subcommittee_assignments = pd.concat(subcommittee_assignment_df_list)\n"
   ],
   "metadata": {
    "collapsed": false,
    "ExecuteTime": {
     "end_time": "2023-11-29T00:20:42.723151Z",
     "start_time": "2023-11-29T00:15:04.160781Z"
    }
   },
   "id": "b31b8c3633a1225"
  },
  {
   "cell_type": "code",
   "execution_count": 70,
   "outputs": [],
   "source": [
    "subcommittee_assignments.to_csv('subcommittee_assignments.csv', index=False)\n"
   ],
   "metadata": {
    "collapsed": false,
    "ExecuteTime": {
     "end_time": "2023-11-29T00:23:06.307483Z",
     "start_time": "2023-11-29T00:23:06.286060Z"
    }
   },
   "id": "5c51df8681510713"
  },
  {
   "cell_type": "code",
   "execution_count": 75,
   "outputs": [],
   "source": [
    "committee_assignments.to_csv('committee_assignments.csv', index=False)"
   ],
   "metadata": {
    "collapsed": false,
    "ExecuteTime": {
     "end_time": "2023-11-29T00:24:59.647001Z",
     "start_time": "2023-11-29T00:24:59.582590Z"
    }
   },
   "id": "7d92be860e820fe"
  },
  {
   "cell_type": "code",
   "execution_count": 233,
   "outputs": [
    {
     "data": {
      "text/plain": "63"
     },
     "execution_count": 233,
     "metadata": {},
     "output_type": "execute_result"
    }
   ],
   "source": [
    "\"\"\"adding in new member info\"\"\"\n",
    "\n",
    "new_members = pd.read_csv('../prod_data/new_ids.csv')\n",
    "\n",
    "len(new_members['id'].unique())"
   ],
   "metadata": {
    "collapsed": false,
    "ExecuteTime": {
     "end_time": "2023-11-30T07:26:33.556120Z",
     "start_time": "2023-11-30T07:26:33.542219Z"
    }
   },
   "id": "36412e993f913f77"
  },
  {
   "cell_type": "code",
   "execution_count": 217,
   "outputs": [],
   "source": [
    "committee_assignments = pd.read_csv('committee_assignments.csv')\n",
    "subcommittee_assignments = pd.read_csv('subcommittee_assignments.csv')"
   ],
   "metadata": {
    "collapsed": false,
    "ExecuteTime": {
     "end_time": "2023-11-30T07:21:10.102383Z",
     "start_time": "2023-11-30T07:21:10.064367Z"
    }
   },
   "id": "c73609ddbf0f49b2"
  },
  {
   "cell_type": "markdown",
   "source": [],
   "metadata": {
    "collapsed": false
   },
   "id": "daba5f7297c3895a"
  },
  {
   "cell_type": "code",
   "execution_count": 218,
   "outputs": [],
   "source": [
    "\n",
    "transaction_ids = new_members['id'].unique()"
   ],
   "metadata": {
    "collapsed": false,
    "ExecuteTime": {
     "end_time": "2023-11-30T07:21:32.860101Z",
     "start_time": "2023-11-30T07:21:32.832901Z"
    }
   },
   "id": "de5274bd48bd304"
  },
  {
   "cell_type": "code",
   "execution_count": 219,
   "outputs": [
    {
     "data": {
      "text/plain": "63"
     },
     "execution_count": 219,
     "metadata": {},
     "output_type": "execute_result"
    }
   ],
   "source": [
    "len(transaction_ids)"
   ],
   "metadata": {
    "collapsed": false,
    "ExecuteTime": {
     "end_time": "2023-11-30T07:21:33.504550Z",
     "start_time": "2023-11-30T07:21:33.481433Z"
    }
   },
   "id": "ee09006f4571884e"
  },
  {
   "cell_type": "code",
   "execution_count": 220,
   "outputs": [
    {
     "data": {
      "text/plain": "((730, 6), (1189, 7))"
     },
     "execution_count": 220,
     "metadata": {},
     "output_type": "execute_result"
    }
   ],
   "source": [
    "new_committee_assignments_of_interest = committee_assignments[committee_assignments['member_id'].isin(transaction_ids)]\n",
    "new_subcommittee_assignments_of_interest = subcommittee_assignments[subcommittee_assignments['member_id'].isin(transaction_ids)]\n",
    "new_committee_assignments_of_interest.shape, new_subcommittee_assignments_of_interest.shape"
   ],
   "metadata": {
    "collapsed": false,
    "ExecuteTime": {
     "end_time": "2023-11-30T07:21:48.417807Z",
     "start_time": "2023-11-30T07:21:48.401040Z"
    }
   },
   "id": "a21b959e5218ce33"
  },
  {
   "cell_type": "code",
   "execution_count": 221,
   "outputs": [],
   "source": [
    "old_committee_assignments = pd.read_csv('../prod_data/committee_assignments_of_interest.csv')\n",
    "old_subcommittee_assignments = pd.read_csv('../prod_data/subcommittee_assignments_of_interest.csv')"
   ],
   "metadata": {
    "collapsed": false,
    "ExecuteTime": {
     "end_time": "2023-11-30T07:22:16.655037Z",
     "start_time": "2023-11-30T07:22:16.613020Z"
    }
   },
   "id": "92d362749a13c75b"
  },
  {
   "cell_type": "code",
   "execution_count": 222,
   "outputs": [
    {
     "data": {
      "text/plain": "((802, 6), (929, 7))"
     },
     "execution_count": 222,
     "metadata": {},
     "output_type": "execute_result"
    }
   ],
   "source": [
    "old_committee_assignments.shape, old_subcommittee_assignments.shape"
   ],
   "metadata": {
    "collapsed": false,
    "ExecuteTime": {
     "end_time": "2023-11-30T07:22:29.410223Z",
     "start_time": "2023-11-30T07:22:29.396108Z"
    }
   },
   "id": "940d94950800f84e"
  },
  {
   "cell_type": "code",
   "execution_count": 225,
   "outputs": [],
   "source": [
    "committee_assignments_of_interest = pd.concat([committee_assignments_of_interest, old_committee_assignments])\n",
    "subcommittee_assignments_of_interest = pd.concat([subcommittee_assignments_of_interest, old_subcommittee_assignments])"
   ],
   "metadata": {
    "collapsed": false,
    "ExecuteTime": {
     "end_time": "2023-11-30T07:23:27.323051Z",
     "start_time": "2023-11-30T07:23:27.298473Z"
    }
   },
   "id": "789993e9f4abfc2a"
  },
  {
   "cell_type": "code",
   "execution_count": 227,
   "outputs": [
    {
     "data": {
      "text/plain": "((1532, 6), (2118, 7))"
     },
     "execution_count": 227,
     "metadata": {},
     "output_type": "execute_result"
    }
   ],
   "source": [
    "committee_assignments_of_interest.shape, subcommittee_assignments_of_interest.shape"
   ],
   "metadata": {
    "collapsed": false,
    "ExecuteTime": {
     "end_time": "2023-11-30T07:23:39.938554Z",
     "start_time": "2023-11-30T07:23:39.915576Z"
    }
   },
   "id": "c48db1e81a8154a0"
  },
  {
   "cell_type": "code",
   "execution_count": 228,
   "outputs": [],
   "source": [
    "subcommittee_assignments_of_interest.to_csv('../prod_data/subcommittee_assignments_of_interest.csv', index=False)\n",
    "committee_assignments_of_interest.to_csv('../prod_data/committee_assignments_of_interest.csv', index=False)"
   ],
   "metadata": {
    "collapsed": false,
    "ExecuteTime": {
     "end_time": "2023-11-30T07:23:49.266514Z",
     "start_time": "2023-11-30T07:23:49.236852Z"
    }
   },
   "id": "4137e95836c20141"
  },
  {
   "cell_type": "code",
   "execution_count": 84,
   "outputs": [
    {
     "data": {
      "text/plain": "   member_id         member_name member_begin_date  congress chamber  \\\n1    L000397         Zoe Lofgren        2019-01-09       116   house   \n3    R000606        Jamie Raskin        2019-01-29       116   house   \n5    D000598      Susan A. Davis        2019-01-29       116   house   \n0    C001062  K. Michael Conaway        2019-01-04       116   house   \n4    S001189        Austin Scott        2019-01-23       116   house   \n..       ...                 ...               ...       ...     ...   \n12   W000800         Peter Welch              None       118   joint   \n13   S001199       Lloyd Smucker              None       118   joint   \n15   M000317  Nicole Malliotakis              None       118   joint   \n16   B001292        Donald Beyer              None       118   joint   \n17   T000483         David Trone              None       118   joint   \n\n   committee_id  \n1          HSHA  \n3          HSHA  \n5          HSHA  \n0          HSAG  \n4          HSAG  \n..          ...  \n12         JSEC  \n13         JSEC  \n15         JSEC  \n16         JSEC  \n17         JSEC  \n\n[802 rows x 6 columns]",
      "text/html": "<div>\n<style scoped>\n    .dataframe tbody tr th:only-of-type {\n        vertical-align: middle;\n    }\n\n    .dataframe tbody tr th {\n        vertical-align: top;\n    }\n\n    .dataframe thead th {\n        text-align: right;\n    }\n</style>\n<table border=\"1\" class=\"dataframe\">\n  <thead>\n    <tr style=\"text-align: right;\">\n      <th></th>\n      <th>member_id</th>\n      <th>member_name</th>\n      <th>member_begin_date</th>\n      <th>congress</th>\n      <th>chamber</th>\n      <th>committee_id</th>\n    </tr>\n  </thead>\n  <tbody>\n    <tr>\n      <th>1</th>\n      <td>L000397</td>\n      <td>Zoe Lofgren</td>\n      <td>2019-01-09</td>\n      <td>116</td>\n      <td>house</td>\n      <td>HSHA</td>\n    </tr>\n    <tr>\n      <th>3</th>\n      <td>R000606</td>\n      <td>Jamie Raskin</td>\n      <td>2019-01-29</td>\n      <td>116</td>\n      <td>house</td>\n      <td>HSHA</td>\n    </tr>\n    <tr>\n      <th>5</th>\n      <td>D000598</td>\n      <td>Susan A. Davis</td>\n      <td>2019-01-29</td>\n      <td>116</td>\n      <td>house</td>\n      <td>HSHA</td>\n    </tr>\n    <tr>\n      <th>0</th>\n      <td>C001062</td>\n      <td>K. Michael Conaway</td>\n      <td>2019-01-04</td>\n      <td>116</td>\n      <td>house</td>\n      <td>HSAG</td>\n    </tr>\n    <tr>\n      <th>4</th>\n      <td>S001189</td>\n      <td>Austin Scott</td>\n      <td>2019-01-23</td>\n      <td>116</td>\n      <td>house</td>\n      <td>HSAG</td>\n    </tr>\n    <tr>\n      <th>...</th>\n      <td>...</td>\n      <td>...</td>\n      <td>...</td>\n      <td>...</td>\n      <td>...</td>\n      <td>...</td>\n    </tr>\n    <tr>\n      <th>12</th>\n      <td>W000800</td>\n      <td>Peter Welch</td>\n      <td>None</td>\n      <td>118</td>\n      <td>joint</td>\n      <td>JSEC</td>\n    </tr>\n    <tr>\n      <th>13</th>\n      <td>S001199</td>\n      <td>Lloyd Smucker</td>\n      <td>None</td>\n      <td>118</td>\n      <td>joint</td>\n      <td>JSEC</td>\n    </tr>\n    <tr>\n      <th>15</th>\n      <td>M000317</td>\n      <td>Nicole Malliotakis</td>\n      <td>None</td>\n      <td>118</td>\n      <td>joint</td>\n      <td>JSEC</td>\n    </tr>\n    <tr>\n      <th>16</th>\n      <td>B001292</td>\n      <td>Donald Beyer</td>\n      <td>None</td>\n      <td>118</td>\n      <td>joint</td>\n      <td>JSEC</td>\n    </tr>\n    <tr>\n      <th>17</th>\n      <td>T000483</td>\n      <td>David Trone</td>\n      <td>None</td>\n      <td>118</td>\n      <td>joint</td>\n      <td>JSEC</td>\n    </tr>\n  </tbody>\n</table>\n<p>802 rows × 6 columns</p>\n</div>"
     },
     "execution_count": 84,
     "metadata": {},
     "output_type": "execute_result"
    }
   ],
   "source": [
    "committee_assignments_of_interest"
   ],
   "metadata": {
    "collapsed": false,
    "ExecuteTime": {
     "end_time": "2023-11-29T00:38:47.204872Z",
     "start_time": "2023-11-29T00:38:47.197667Z"
    }
   },
   "id": "a3d772ed301127ec"
  },
  {
   "cell_type": "code",
   "execution_count": 86,
   "outputs": [],
   "source": [
    "committees.to_csv('../prod_data/committees.csv', index=False)\n"
   ],
   "metadata": {
    "collapsed": false,
    "ExecuteTime": {
     "end_time": "2023-11-29T00:43:11.496456Z",
     "start_time": "2023-11-29T00:43:11.483501Z"
    }
   },
   "id": "e17fab6a68e1f6ba"
  },
  {
   "cell_type": "code",
   "execution_count": 88,
   "outputs": [],
   "source": [
    "subcommittees.to_csv('../prod_data/subcommittees.csv', index=False)"
   ],
   "metadata": {
    "collapsed": false,
    "ExecuteTime": {
     "end_time": "2023-11-29T00:43:23.168366Z",
     "start_time": "2023-11-29T00:43:23.151465Z"
    }
   },
   "id": "53c99c41cbb22c2b"
  },
  {
   "cell_type": "code",
   "execution_count": 230,
   "outputs": [
    {
     "data": {
      "text/plain": "array(['C000174', 'M000934', 'C001047', 'C001035', 'P000595', 'R000307',\n       'T000461', 'I000024', 'S001217', 'R000608', 'W000805', 'C001075',\n       'M000355', 'W000779', 'B001277', 'W000802', 'P000612', 'K000383',\n       'B001236', 'B001267', 'L000594', 'C001088', 'K000384', 'S001181',\n       'J000293', 'S001198', 'S001203', 'W000437', 'H001061', 'F000062',\n       'A000360', 'B001135', 'B000575', 'K000393', 'C001098', 'U000039',\n       'R000605', 'R000122', 'T000476', 'D000622', 'B001261', 'P000449',\n       'C000141', 'M001183', 'C000880', 'M001111', 'D000618', 'V000128',\n       'C001056', 'C000127', 'E000285', 'B001288', 'W000817', 'S000320',\n       'T000278', 'H000273', 'H000601', 'F000463', 'G000359', 'T000250',\n       'L000571', 'M001198', 'P000603'], dtype=object)"
     },
     "execution_count": 230,
     "metadata": {},
     "output_type": "execute_result"
    }
   ],
   "source": [
    "new_members_id = new_members['id'].unique()\n",
    "\n",
    "new_members_id"
   ],
   "metadata": {
    "collapsed": false,
    "ExecuteTime": {
     "end_time": "2023-11-30T07:26:05.420437Z",
     "start_time": "2023-11-30T07:26:05.404694Z"
    }
   },
   "id": "9870d1539d39dbd"
  },
  {
   "cell_type": "code",
   "execution_count": 234,
   "outputs": [
    {
     "data": {
      "text/plain": "    bill_congress        bill_id  \\\n0             118      s3027-118   \n1             118      s2958-118   \n2             118      s2959-118   \n3             118      s2924-118   \n4             118    sres339-118   \n..            ...            ...   \n175           115      s2760-115   \n176           115      s2761-115   \n177           115  sconres36-115   \n178           115  sconres37-115   \n179           115      s2600-115   \n\n                                            bill_title bill_intro_date  \\\n0    A bill to amend the Internal Revenue Code of 1...      2023-10-04   \n1    An original bill to amend the Coastal Barrier ...      2023-09-27   \n2    An original bill to amend the Comprehensive En...      2023-09-27   \n3    A bill to amend title 31, United States Code, ...      2023-09-26   \n4    A resolution authorizing the Sergeant at Arms ...      2023-09-12   \n..                                                 ...             ...   \n175  A bill to amend the Clean Air Act to exclude e...      2018-04-26   \n176  A bill to amend the Clean Air Act to clarify w...      2018-04-26   \n177  A concurrent resolution setting forth the cong...      2018-04-18   \n178  A concurrent resolution setting forth the cong...      2018-04-18   \n179  A bill to amend the Internal Revenue Code of 1...      2018-03-22   \n\n    member_id                                       bill_summary  \\\n0     C000174                                                      \n1     C000174                                                      \n2     C000174                                                      \n3     C000174                                                      \n4     C000174                                                      \n..        ...                                                ...   \n175   P000603  This bill amends the Clean Air Act to exclude ...   \n176   P000603  This bill amends the Clean Air Act to provide ...   \n177   P000603  Establishes the congressional budget for the f...   \n178   P000603  Establishes the congressional budget for the f...   \n179   P000603  Tanning Tax Repeal Act of 2018  This bill amen...   \n\n                                              bill_url  \n0    https://www.congress.gov/bill/118th-congress/s...  \n1    https://www.congress.gov/bill/118th-congress/s...  \n2    https://www.congress.gov/bill/118th-congress/s...  \n3    https://www.congress.gov/bill/118th-congress/s...  \n4    https://www.congress.gov/bill/118th-congress/s...  \n..                                                 ...  \n175  https://www.congress.gov/bill/115th-congress/s...  \n176  https://www.congress.gov/bill/115th-congress/s...  \n177  https://www.congress.gov/bill/115th-congress/s...  \n178  https://www.congress.gov/bill/115th-congress/s...  \n179  https://www.congress.gov/bill/115th-congress/s...  \n\n[8867 rows x 7 columns]",
      "text/html": "<div>\n<style scoped>\n    .dataframe tbody tr th:only-of-type {\n        vertical-align: middle;\n    }\n\n    .dataframe tbody tr th {\n        vertical-align: top;\n    }\n\n    .dataframe thead th {\n        text-align: right;\n    }\n</style>\n<table border=\"1\" class=\"dataframe\">\n  <thead>\n    <tr style=\"text-align: right;\">\n      <th></th>\n      <th>bill_congress</th>\n      <th>bill_id</th>\n      <th>bill_title</th>\n      <th>bill_intro_date</th>\n      <th>member_id</th>\n      <th>bill_summary</th>\n      <th>bill_url</th>\n    </tr>\n  </thead>\n  <tbody>\n    <tr>\n      <th>0</th>\n      <td>118</td>\n      <td>s3027-118</td>\n      <td>A bill to amend the Internal Revenue Code of 1...</td>\n      <td>2023-10-04</td>\n      <td>C000174</td>\n      <td></td>\n      <td>https://www.congress.gov/bill/118th-congress/s...</td>\n    </tr>\n    <tr>\n      <th>1</th>\n      <td>118</td>\n      <td>s2958-118</td>\n      <td>An original bill to amend the Coastal Barrier ...</td>\n      <td>2023-09-27</td>\n      <td>C000174</td>\n      <td></td>\n      <td>https://www.congress.gov/bill/118th-congress/s...</td>\n    </tr>\n    <tr>\n      <th>2</th>\n      <td>118</td>\n      <td>s2959-118</td>\n      <td>An original bill to amend the Comprehensive En...</td>\n      <td>2023-09-27</td>\n      <td>C000174</td>\n      <td></td>\n      <td>https://www.congress.gov/bill/118th-congress/s...</td>\n    </tr>\n    <tr>\n      <th>3</th>\n      <td>118</td>\n      <td>s2924-118</td>\n      <td>A bill to amend title 31, United States Code, ...</td>\n      <td>2023-09-26</td>\n      <td>C000174</td>\n      <td></td>\n      <td>https://www.congress.gov/bill/118th-congress/s...</td>\n    </tr>\n    <tr>\n      <th>4</th>\n      <td>118</td>\n      <td>sres339-118</td>\n      <td>A resolution authorizing the Sergeant at Arms ...</td>\n      <td>2023-09-12</td>\n      <td>C000174</td>\n      <td></td>\n      <td>https://www.congress.gov/bill/118th-congress/s...</td>\n    </tr>\n    <tr>\n      <th>...</th>\n      <td>...</td>\n      <td>...</td>\n      <td>...</td>\n      <td>...</td>\n      <td>...</td>\n      <td>...</td>\n      <td>...</td>\n    </tr>\n    <tr>\n      <th>175</th>\n      <td>115</td>\n      <td>s2760-115</td>\n      <td>A bill to amend the Clean Air Act to exclude e...</td>\n      <td>2018-04-26</td>\n      <td>P000603</td>\n      <td>This bill amends the Clean Air Act to exclude ...</td>\n      <td>https://www.congress.gov/bill/115th-congress/s...</td>\n    </tr>\n    <tr>\n      <th>176</th>\n      <td>115</td>\n      <td>s2761-115</td>\n      <td>A bill to amend the Clean Air Act to clarify w...</td>\n      <td>2018-04-26</td>\n      <td>P000603</td>\n      <td>This bill amends the Clean Air Act to provide ...</td>\n      <td>https://www.congress.gov/bill/115th-congress/s...</td>\n    </tr>\n    <tr>\n      <th>177</th>\n      <td>115</td>\n      <td>sconres36-115</td>\n      <td>A concurrent resolution setting forth the cong...</td>\n      <td>2018-04-18</td>\n      <td>P000603</td>\n      <td>Establishes the congressional budget for the f...</td>\n      <td>https://www.congress.gov/bill/115th-congress/s...</td>\n    </tr>\n    <tr>\n      <th>178</th>\n      <td>115</td>\n      <td>sconres37-115</td>\n      <td>A concurrent resolution setting forth the cong...</td>\n      <td>2018-04-18</td>\n      <td>P000603</td>\n      <td>Establishes the congressional budget for the f...</td>\n      <td>https://www.congress.gov/bill/115th-congress/s...</td>\n    </tr>\n    <tr>\n      <th>179</th>\n      <td>115</td>\n      <td>s2600-115</td>\n      <td>A bill to amend the Internal Revenue Code of 1...</td>\n      <td>2018-03-22</td>\n      <td>P000603</td>\n      <td>Tanning Tax Repeal Act of 2018  This bill amen...</td>\n      <td>https://www.congress.gov/bill/115th-congress/s...</td>\n    </tr>\n  </tbody>\n</table>\n<p>8867 rows × 7 columns</p>\n</div>"
     },
     "execution_count": 234,
     "metadata": {},
     "output_type": "execute_result"
    }
   ],
   "source": [
    "\"\"\"Get bills for members\"\"\"\n",
    "member_bills_list = []\n",
    "\n",
    "\n",
    "for member_id in new_members_id:\n",
    "    type = 'introduced'\n",
    "    offset_value = 0\n",
    "    current_congress = 118\n",
    "    member_list = []\n",
    "    bill_congress_list = []\n",
    "    bill_id_list = []\n",
    "    bill_title_list = []\n",
    "    bill_intro_date_list = []\n",
    "    bill_summary_list = []\n",
    "    bill_url_list = []\n",
    "\n",
    "    url = f'https://api.propublica.org/congress/v1/members/{member_id}/bills/{type}.json?offset={offset_value}'\n",
    "    response = requests.get(url, headers=headers)\n",
    "    response.raise_for_status()\n",
    "    results_check = response.json()\n",
    "    if 'results' in response.json().keys():  \n",
    "        results = response.json()['results']\n",
    "        bill_number = results[0]['num_results']\n",
    "        times = bill_number // 20 + 1\n",
    "        while times >=0 and current_congress > 115:\n",
    "            url = f'https://api.propublica.org/congress/v1/members/{member_id}/bills/{type}.json?offset={offset_value}'\n",
    "            response = requests.get(url, headers=headers)\n",
    "            offset_value+= 20\n",
    "            times -= 1\n",
    "            bills = response.json()['results'][0]['bills']\n",
    "            for bill in bills:\n",
    "                current_congress = int(bill['congress'])\n",
    "                member_list.append(member_id)\n",
    "                bill_congress_list.append(bill['congress'])\n",
    "                bill_id_list.append(bill['bill_id'])\n",
    "                bill_title_list.append(bill['title'])\n",
    "                bill_intro_date_list.append(bill['introduced_date'])\n",
    "                bill_summary_list.append(bill['summary'])\n",
    "                bill_url_list.append(bill['congressdotgov_url'])\n",
    "    \n",
    "        bills_df = pd.DataFrame({'bill_congress': bill_congress_list,\n",
    "                                 'bill_id': bill_id_list,\n",
    "                                 'bill_title': bill_title_list,\n",
    "                                 'bill_intro_date': bill_intro_date_list,\n",
    "                                 'member_id': member_list,\n",
    "                                 'bill_summary': bill_summary_list,\n",
    "                                 'bill_url': bill_url_list})\n",
    "    \n",
    "        member_bills_list.append(bills_df)\n",
    "    else:\n",
    "        pass\n",
    "    \n",
    "member_bills = pd.concat(member_bills_list)\n",
    "\n",
    "member_bills"
   ],
   "metadata": {
    "collapsed": false,
    "ExecuteTime": {
     "end_time": "2023-11-30T07:37:17.297039Z",
     "start_time": "2023-11-30T07:27:57.025368Z"
    }
   },
   "id": "270a57045eb362ff"
  },
  {
   "cell_type": "code",
   "execution_count": 235,
   "outputs": [
    {
     "data": {
      "text/plain": "      bill_congress     bill_id  \\\n0               118  hr6345-118   \n1               118  hr6056-118   \n2               118  hr5997-118   \n3               118  hr5720-118   \n4               118  hr5645-118   \n...             ...         ...   \n9780            118  hr5132-118   \n9781            118  hr4661-118   \n9782            118  hr4358-118   \n9783            118  hr2810-118   \n9784            118   hr306-118   \n\n                                             bill_title bill_intro_date  \\\n0     To amend the Internal Revenue Code of 1986 to ...      2023-11-09   \n1     To direct the Secretary of Defense to submit t...      2023-10-25   \n2     To require the Secretary of Energy to further ...      2023-10-19   \n3     To assist trafficking survivors who lack gover...      2023-09-26   \n4     To establish a matched savings program for low...      2023-09-21   \n...                                                 ...             ...   \n9780  To bolster Department of Homeland Security eff...      2023-08-01   \n9781  To require the Director of the Office of Entre...      2023-07-14   \n9782  To provide lawful permanent resident status an...      2023-06-23   \n9783  To designate the Federal building located at 9...      2023-04-24   \n9784  To amend title 11 of the United States Code to...      2023-01-11   \n\n     member_id bill_summary  \\\n0      L000590          NaN   \n1      L000590          NaN   \n2      L000590          NaN   \n3      L000590          NaN   \n4      L000590          NaN   \n...        ...          ...   \n9780   T000488          NaN   \n9781   T000488          NaN   \n9782   T000488          NaN   \n9783   T000488          NaN   \n9784   T000488          NaN   \n\n                                               bill_url bill_slug  \n0     https://www.congress.gov/bill/118th-congress/h...    hr6345  \n1     https://www.congress.gov/bill/118th-congress/h...    hr6056  \n2     https://www.congress.gov/bill/118th-congress/h...    hr5997  \n3     https://www.congress.gov/bill/118th-congress/h...    hr5720  \n4     https://www.congress.gov/bill/118th-congress/h...    hr5645  \n...                                                 ...       ...  \n9780  https://www.congress.gov/bill/118th-congress/h...    hr5132  \n9781  https://www.congress.gov/bill/118th-congress/h...    hr4661  \n9782  https://www.congress.gov/bill/118th-congress/h...    hr4358  \n9783  https://www.congress.gov/bill/118th-congress/h...    hr2810  \n9784  https://www.congress.gov/bill/118th-congress/h...     hr306  \n\n[9785 rows x 8 columns]",
      "text/html": "<div>\n<style scoped>\n    .dataframe tbody tr th:only-of-type {\n        vertical-align: middle;\n    }\n\n    .dataframe tbody tr th {\n        vertical-align: top;\n    }\n\n    .dataframe thead th {\n        text-align: right;\n    }\n</style>\n<table border=\"1\" class=\"dataframe\">\n  <thead>\n    <tr style=\"text-align: right;\">\n      <th></th>\n      <th>bill_congress</th>\n      <th>bill_id</th>\n      <th>bill_title</th>\n      <th>bill_intro_date</th>\n      <th>member_id</th>\n      <th>bill_summary</th>\n      <th>bill_url</th>\n      <th>bill_slug</th>\n    </tr>\n  </thead>\n  <tbody>\n    <tr>\n      <th>0</th>\n      <td>118</td>\n      <td>hr6345-118</td>\n      <td>To amend the Internal Revenue Code of 1986 to ...</td>\n      <td>2023-11-09</td>\n      <td>L000590</td>\n      <td>NaN</td>\n      <td>https://www.congress.gov/bill/118th-congress/h...</td>\n      <td>hr6345</td>\n    </tr>\n    <tr>\n      <th>1</th>\n      <td>118</td>\n      <td>hr6056-118</td>\n      <td>To direct the Secretary of Defense to submit t...</td>\n      <td>2023-10-25</td>\n      <td>L000590</td>\n      <td>NaN</td>\n      <td>https://www.congress.gov/bill/118th-congress/h...</td>\n      <td>hr6056</td>\n    </tr>\n    <tr>\n      <th>2</th>\n      <td>118</td>\n      <td>hr5997-118</td>\n      <td>To require the Secretary of Energy to further ...</td>\n      <td>2023-10-19</td>\n      <td>L000590</td>\n      <td>NaN</td>\n      <td>https://www.congress.gov/bill/118th-congress/h...</td>\n      <td>hr5997</td>\n    </tr>\n    <tr>\n      <th>3</th>\n      <td>118</td>\n      <td>hr5720-118</td>\n      <td>To assist trafficking survivors who lack gover...</td>\n      <td>2023-09-26</td>\n      <td>L000590</td>\n      <td>NaN</td>\n      <td>https://www.congress.gov/bill/118th-congress/h...</td>\n      <td>hr5720</td>\n    </tr>\n    <tr>\n      <th>4</th>\n      <td>118</td>\n      <td>hr5645-118</td>\n      <td>To establish a matched savings program for low...</td>\n      <td>2023-09-21</td>\n      <td>L000590</td>\n      <td>NaN</td>\n      <td>https://www.congress.gov/bill/118th-congress/h...</td>\n      <td>hr5645</td>\n    </tr>\n    <tr>\n      <th>...</th>\n      <td>...</td>\n      <td>...</td>\n      <td>...</td>\n      <td>...</td>\n      <td>...</td>\n      <td>...</td>\n      <td>...</td>\n      <td>...</td>\n    </tr>\n    <tr>\n      <th>9780</th>\n      <td>118</td>\n      <td>hr5132-118</td>\n      <td>To bolster Department of Homeland Security eff...</td>\n      <td>2023-08-01</td>\n      <td>T000488</td>\n      <td>NaN</td>\n      <td>https://www.congress.gov/bill/118th-congress/h...</td>\n      <td>hr5132</td>\n    </tr>\n    <tr>\n      <th>9781</th>\n      <td>118</td>\n      <td>hr4661-118</td>\n      <td>To require the Director of the Office of Entre...</td>\n      <td>2023-07-14</td>\n      <td>T000488</td>\n      <td>NaN</td>\n      <td>https://www.congress.gov/bill/118th-congress/h...</td>\n      <td>hr4661</td>\n    </tr>\n    <tr>\n      <th>9782</th>\n      <td>118</td>\n      <td>hr4358-118</td>\n      <td>To provide lawful permanent resident status an...</td>\n      <td>2023-06-23</td>\n      <td>T000488</td>\n      <td>NaN</td>\n      <td>https://www.congress.gov/bill/118th-congress/h...</td>\n      <td>hr4358</td>\n    </tr>\n    <tr>\n      <th>9783</th>\n      <td>118</td>\n      <td>hr2810-118</td>\n      <td>To designate the Federal building located at 9...</td>\n      <td>2023-04-24</td>\n      <td>T000488</td>\n      <td>NaN</td>\n      <td>https://www.congress.gov/bill/118th-congress/h...</td>\n      <td>hr2810</td>\n    </tr>\n    <tr>\n      <th>9784</th>\n      <td>118</td>\n      <td>hr306-118</td>\n      <td>To amend title 11 of the United States Code to...</td>\n      <td>2023-01-11</td>\n      <td>T000488</td>\n      <td>NaN</td>\n      <td>https://www.congress.gov/bill/118th-congress/h...</td>\n      <td>hr306</td>\n    </tr>\n  </tbody>\n</table>\n<p>9785 rows × 8 columns</p>\n</div>"
     },
     "execution_count": 235,
     "metadata": {},
     "output_type": "execute_result"
    }
   ],
   "source": [
    "old_bills = pd.read_csv('../prod_data/member_bills.csv')\n",
    "\n",
    "old_bills"
   ],
   "metadata": {
    "collapsed": false,
    "ExecuteTime": {
     "end_time": "2023-11-30T07:41:34.341553Z",
     "start_time": "2023-11-30T07:41:34.230931Z"
    }
   },
   "id": "154f601aabdb2934"
  },
  {
   "cell_type": "code",
   "execution_count": 236,
   "outputs": [
    {
     "data": {
      "text/plain": "    bill_congress        bill_id  \\\n0             118      s3027-118   \n1             118      s2958-118   \n2             118      s2959-118   \n3             118      s2924-118   \n4             118    sres339-118   \n..            ...            ...   \n175           115      s2760-115   \n176           115      s2761-115   \n177           115  sconres36-115   \n178           115  sconres37-115   \n179           115      s2600-115   \n\n                                            bill_title bill_intro_date  \\\n0    A bill to amend the Internal Revenue Code of 1...      2023-10-04   \n1    An original bill to amend the Coastal Barrier ...      2023-09-27   \n2    An original bill to amend the Comprehensive En...      2023-09-27   \n3    A bill to amend title 31, United States Code, ...      2023-09-26   \n4    A resolution authorizing the Sergeant at Arms ...      2023-09-12   \n..                                                 ...             ...   \n175  A bill to amend the Clean Air Act to exclude e...      2018-04-26   \n176  A bill to amend the Clean Air Act to clarify w...      2018-04-26   \n177  A concurrent resolution setting forth the cong...      2018-04-18   \n178  A concurrent resolution setting forth the cong...      2018-04-18   \n179  A bill to amend the Internal Revenue Code of 1...      2018-03-22   \n\n    member_id                                       bill_summary  \\\n0     C000174                                                      \n1     C000174                                                      \n2     C000174                                                      \n3     C000174                                                      \n4     C000174                                                      \n..        ...                                                ...   \n175   P000603  This bill amends the Clean Air Act to exclude ...   \n176   P000603  This bill amends the Clean Air Act to provide ...   \n177   P000603  Establishes the congressional budget for the f...   \n178   P000603  Establishes the congressional budget for the f...   \n179   P000603  Tanning Tax Repeal Act of 2018  This bill amen...   \n\n                                              bill_url  bill_slug  \n0    https://www.congress.gov/bill/118th-congress/s...      s3027  \n1    https://www.congress.gov/bill/118th-congress/s...      s2958  \n2    https://www.congress.gov/bill/118th-congress/s...      s2959  \n3    https://www.congress.gov/bill/118th-congress/s...      s2924  \n4    https://www.congress.gov/bill/118th-congress/s...    sres339  \n..                                                 ...        ...  \n175  https://www.congress.gov/bill/115th-congress/s...      s2760  \n176  https://www.congress.gov/bill/115th-congress/s...      s2761  \n177  https://www.congress.gov/bill/115th-congress/s...  sconres36  \n178  https://www.congress.gov/bill/115th-congress/s...  sconres37  \n179  https://www.congress.gov/bill/115th-congress/s...      s2600  \n\n[8867 rows x 8 columns]",
      "text/html": "<div>\n<style scoped>\n    .dataframe tbody tr th:only-of-type {\n        vertical-align: middle;\n    }\n\n    .dataframe tbody tr th {\n        vertical-align: top;\n    }\n\n    .dataframe thead th {\n        text-align: right;\n    }\n</style>\n<table border=\"1\" class=\"dataframe\">\n  <thead>\n    <tr style=\"text-align: right;\">\n      <th></th>\n      <th>bill_congress</th>\n      <th>bill_id</th>\n      <th>bill_title</th>\n      <th>bill_intro_date</th>\n      <th>member_id</th>\n      <th>bill_summary</th>\n      <th>bill_url</th>\n      <th>bill_slug</th>\n    </tr>\n  </thead>\n  <tbody>\n    <tr>\n      <th>0</th>\n      <td>118</td>\n      <td>s3027-118</td>\n      <td>A bill to amend the Internal Revenue Code of 1...</td>\n      <td>2023-10-04</td>\n      <td>C000174</td>\n      <td></td>\n      <td>https://www.congress.gov/bill/118th-congress/s...</td>\n      <td>s3027</td>\n    </tr>\n    <tr>\n      <th>1</th>\n      <td>118</td>\n      <td>s2958-118</td>\n      <td>An original bill to amend the Coastal Barrier ...</td>\n      <td>2023-09-27</td>\n      <td>C000174</td>\n      <td></td>\n      <td>https://www.congress.gov/bill/118th-congress/s...</td>\n      <td>s2958</td>\n    </tr>\n    <tr>\n      <th>2</th>\n      <td>118</td>\n      <td>s2959-118</td>\n      <td>An original bill to amend the Comprehensive En...</td>\n      <td>2023-09-27</td>\n      <td>C000174</td>\n      <td></td>\n      <td>https://www.congress.gov/bill/118th-congress/s...</td>\n      <td>s2959</td>\n    </tr>\n    <tr>\n      <th>3</th>\n      <td>118</td>\n      <td>s2924-118</td>\n      <td>A bill to amend title 31, United States Code, ...</td>\n      <td>2023-09-26</td>\n      <td>C000174</td>\n      <td></td>\n      <td>https://www.congress.gov/bill/118th-congress/s...</td>\n      <td>s2924</td>\n    </tr>\n    <tr>\n      <th>4</th>\n      <td>118</td>\n      <td>sres339-118</td>\n      <td>A resolution authorizing the Sergeant at Arms ...</td>\n      <td>2023-09-12</td>\n      <td>C000174</td>\n      <td></td>\n      <td>https://www.congress.gov/bill/118th-congress/s...</td>\n      <td>sres339</td>\n    </tr>\n    <tr>\n      <th>...</th>\n      <td>...</td>\n      <td>...</td>\n      <td>...</td>\n      <td>...</td>\n      <td>...</td>\n      <td>...</td>\n      <td>...</td>\n      <td>...</td>\n    </tr>\n    <tr>\n      <th>175</th>\n      <td>115</td>\n      <td>s2760-115</td>\n      <td>A bill to amend the Clean Air Act to exclude e...</td>\n      <td>2018-04-26</td>\n      <td>P000603</td>\n      <td>This bill amends the Clean Air Act to exclude ...</td>\n      <td>https://www.congress.gov/bill/115th-congress/s...</td>\n      <td>s2760</td>\n    </tr>\n    <tr>\n      <th>176</th>\n      <td>115</td>\n      <td>s2761-115</td>\n      <td>A bill to amend the Clean Air Act to clarify w...</td>\n      <td>2018-04-26</td>\n      <td>P000603</td>\n      <td>This bill amends the Clean Air Act to provide ...</td>\n      <td>https://www.congress.gov/bill/115th-congress/s...</td>\n      <td>s2761</td>\n    </tr>\n    <tr>\n      <th>177</th>\n      <td>115</td>\n      <td>sconres36-115</td>\n      <td>A concurrent resolution setting forth the cong...</td>\n      <td>2018-04-18</td>\n      <td>P000603</td>\n      <td>Establishes the congressional budget for the f...</td>\n      <td>https://www.congress.gov/bill/115th-congress/s...</td>\n      <td>sconres36</td>\n    </tr>\n    <tr>\n      <th>178</th>\n      <td>115</td>\n      <td>sconres37-115</td>\n      <td>A concurrent resolution setting forth the cong...</td>\n      <td>2018-04-18</td>\n      <td>P000603</td>\n      <td>Establishes the congressional budget for the f...</td>\n      <td>https://www.congress.gov/bill/115th-congress/s...</td>\n      <td>sconres37</td>\n    </tr>\n    <tr>\n      <th>179</th>\n      <td>115</td>\n      <td>s2600-115</td>\n      <td>A bill to amend the Internal Revenue Code of 1...</td>\n      <td>2018-03-22</td>\n      <td>P000603</td>\n      <td>Tanning Tax Repeal Act of 2018  This bill amen...</td>\n      <td>https://www.congress.gov/bill/115th-congress/s...</td>\n      <td>s2600</td>\n    </tr>\n  </tbody>\n</table>\n<p>8867 rows × 8 columns</p>\n</div>"
     },
     "execution_count": 236,
     "metadata": {},
     "output_type": "execute_result"
    }
   ],
   "source": [
    "member_bills['bill_slug'] = member_bills['bill_id'].apply(lambda x: x.split('-')[0])\n",
    "member_bills"
   ],
   "metadata": {
    "collapsed": false,
    "ExecuteTime": {
     "end_time": "2023-11-30T07:42:32.634673Z",
     "start_time": "2023-11-30T07:42:32.620523Z"
    }
   },
   "id": "6e3e1ada6c07a7b5"
  },
  {
   "cell_type": "code",
   "execution_count": 238,
   "outputs": [],
   "source": [
    "totla_bills = pd.concat([member_bills, old_bills])\n",
    "\n",
    "totla_bills.to_csv('../prod_data/member_bills.csv', index=False)"
   ],
   "metadata": {
    "collapsed": false,
    "ExecuteTime": {
     "end_time": "2023-11-30T07:43:01.797845Z",
     "start_time": "2023-11-30T07:43:01.554561Z"
    }
   },
   "id": "4746fb640d6742ad"
  },
  {
   "cell_type": "code",
   "execution_count": 164,
   "outputs": [],
   "source": [
    "member_bills.to_csv('../prod_data/member_bills.csv', index=False)"
   ],
   "metadata": {
    "collapsed": false,
    "ExecuteTime": {
     "end_time": "2023-11-29T05:29:19.292375Z",
     "start_time": "2023-11-29T05:29:19.142818Z"
    }
   },
   "id": "736b6365cef4e012"
  },
  {
   "cell_type": "code",
   "execution_count": 203,
   "outputs": [
    {
     "data": {
      "text/plain": "bill_id\nhr6345-118    1\nhr7660-117    1\nhr8367-117    1\nhr8271-117    1\nhr8190-117    1\n             ..\nhr2795-116    1\nhr1960-116    1\nhr1606-116    1\nhr1442-116    1\nhr306-118     1\nName: count, Length: 9785, dtype: int64"
     },
     "execution_count": 203,
     "metadata": {},
     "output_type": "execute_result"
    }
   ],
   "source": [
    "member_bills['bill_id'].value_counts()"
   ],
   "metadata": {
    "collapsed": false,
    "ExecuteTime": {
     "end_time": "2023-11-29T06:29:51.828002Z",
     "start_time": "2023-11-29T06:29:51.806301Z"
    }
   },
   "id": "c13c90f61e62e1a1"
  },
  {
   "cell_type": "code",
   "execution_count": 194,
   "outputs": [
    {
     "data": {
      "text/plain": "{'status': 'OK',\n 'copyright': 'Copyright (c) 2023 Pro Publica Inc. All Rights Reserved.',\n 'num_results': 155,\n 'member_id': 'L000397',\n 'congress': 116,\n 'member_uri': 'https://api.propublica.org/congress/v1/members/L000397.json',\n 'name': 'Zoe Lofgren',\n 'offset': 0,\n 'results': [{'url': 'https://lofgren.house.gov/media/press-releases/chair-lofgren-statement-fairness-high-skilled-immigrants-act',\n   'date': '2020-12-21',\n   'title': 'Chair Lofgren Statement on the Fairness for High-Skilled Immigrants Act',\n   'statement_type': 'Press Release',\n   'chamber': 'House',\n   'state': 'CA',\n   'party': 'D',\n   'subjects': []},\n  {'url': 'https://lofgren.house.gov/media/press-releases/chair-lofgren-senate-changes-fairness-high-skilled-immigrants-act',\n   'date': '2020-12-03',\n   'title': 'Chair Lofgren on Senate Changes to the Fairness for High-Skilled Immigrants Act',\n   'statement_type': 'Press Release',\n   'chamber': 'House',\n   'state': 'CA',\n   'party': 'D',\n   'subjects': []},\n  {'url': 'https://lofgren.house.gov/media/press-releases/house-democratic-leaders-condemn-prolonged-detention-children-trump',\n   'date': '2020-11-25',\n   'title': 'House Democratic Leaders Condemn Prolonged Detention of Children by Trump Administration',\n   'statement_type': 'Press Release',\n   'chamber': 'House',\n   'state': 'CA',\n   'party': 'D',\n   'subjects': []},\n  {'url': 'https://lofgren.house.gov/media/press-releases/judiciary-committee-releases-report-trump-administration-family-separation',\n   'date': '2020-10-29',\n   'title': 'Judiciary Committee Releases Report on Trump Administration Family Separation Policy',\n   'statement_type': 'Press Release',\n   'chamber': 'House',\n   'state': 'CA',\n   'party': 'D',\n   'subjects': []},\n  {'url': 'https://lofgren.house.gov/media/press-releases/nadler-lofgren-feinstein-durbin-statement-following-consultation-trump',\n   'date': '2020-10-21',\n   'title': 'Nadler, Lofgren, Feinstein, Durbin Statement Following Consultation with Trump Administration on Refugee Admissions',\n   'statement_type': 'Press Release',\n   'chamber': 'House',\n   'state': 'CA',\n   'party': 'D',\n   'subjects': []},\n  {'url': 'https://lofgren.house.gov/media/press-releases/lofgren-statement-continuing-azerbaijani-attacks-armenian-people',\n   'date': '2020-10-19',\n   'title': 'Lofgren Statement on Continuing Azerbaijani Attacks on Armenian People',\n   'statement_type': 'Press Release',\n   'chamber': 'House',\n   'state': 'CA',\n   'party': 'D',\n   'subjects': []},\n  {'url': 'https://lofgren.house.gov/media/press-releases/lofgren-announces-nearly-522k-grant-investigate-internet-crimes-against',\n   'date': '2020-10-14',\n   'title': 'Lofgren Announces Nearly $522K Grant to Investigate Internet Crimes Against Children in Silicon Valley',\n   'statement_type': 'Press Release',\n   'chamber': 'House',\n   'state': 'CA',\n   'party': 'D',\n   'subjects': []},\n  {'url': 'https://lofgren.house.gov/media/press-releases/immigration-subcommittee-chair-lofgren-demands-answers-about-reported-sanctuary',\n   'date': '2020-10-07',\n   'title': 'Immigration Subcommittee Chair Lofgren Demands Answers about Reported Sanctuary Op ICE Raids in California',\n   'statement_type': 'Press Release',\n   'chamber': 'House',\n   'state': 'CA',\n   'party': 'D',\n   'subjects': []},\n  {'url': 'https://lofgren.house.gov/media/press-releases/nadler-lofgren-statement-trump-administration-rules-restricting-h-1b-visa',\n   'date': '2020-10-07',\n   'title': 'Nadler &amp; Lofgren Statement on Trump Administration Rules Restricting H-1B Visa Program',\n   'statement_type': 'Press Release',\n   'chamber': 'House',\n   'state': 'CA',\n   'party': 'D',\n   'subjects': []},\n  {'url': 'https://lofgren.house.gov/media/press-releases/lofgren-authored-wildfire-prevention-power-shutoff-provisions-pass-house',\n   'date': '2020-09-24',\n   'title': 'Lofgren-Authored Wildfire Prevention &amp; Power Shutoff Provisions Pass the House',\n   'statement_type': 'Press Release',\n   'chamber': 'House',\n   'state': 'CA',\n   'party': 'D',\n   'subjects': []},\n  {'url': 'https://lofgren.house.gov/media/press-releases/lofgren-jayapal-and-nadler-demand-action-answers-and-documents-dhs-following',\n   'date': '2020-09-23',\n   'title': 'Lofgren, Jayapal and Nadler Demand Action, Answers and Documents From DHS Following the Horrifying Medical Procedures Performed on Women Detained at Irwin County Detention Center',\n   'statement_type': 'Press Release',\n   'chamber': 'House',\n   'state': 'CA',\n   'party': 'D',\n   'subjects': []},\n  {'url': 'https://lofgren.house.gov/media/press-releases/173-members-congress-urge-dhs-inspector-general-immediately-open-investigation',\n   'date': '2020-09-16',\n   'title': '173 Members of Congress Urge DHS Inspector General to Immediately Open Investigation Into Startling Whistleblower Allegations Regarding High Rates of Hysterectomies Being Performed on Immigrant Women in Irwin County, Georgia',\n   'statement_type': 'Press Release',\n   'chamber': 'House',\n   'state': 'CA',\n   'party': 'D',\n   'subjects': []},\n  {'url': 'https://lofgren.house.gov/media/press-releases/durbin-lofgren-feinstein-nadler-call-trump-admin-consult-congress-about-refugee',\n   'date': '2020-09-09',\n   'title': 'Durbin, Lofgren, Feinstein, Nadler Call on Trump Admin to Consult Congress About Refugee Resettlement, As Required By Law',\n   'statement_type': 'Press Release',\n   'chamber': 'House',\n   'state': 'CA',\n   'party': 'D',\n   'subjects': []},\n  {'url': 'https://lofgren.house.gov/media/press-releases/california-delegation-calls-census-bureau-detail-how-accurate-count-will-be',\n   'date': '2020-09-03',\n   'title': 'California Delegation Calls on Census Bureau to Detail How Accurate Count Will be Achieved',\n   'statement_type': 'Press Release',\n   'chamber': 'House',\n   'state': 'CA',\n   'party': 'D',\n   'subjects': []},\n  {'url': 'https://lofgren.house.gov/media/press-releases/bipartisan-house-members-introduce-emergency-stopgap-bill-prevent-uscis',\n   'date': '2020-08-21',\n   'title': 'Bipartisan House Members Introduce Emergency Stopgap Bill to Prevent USCIS Furloughs',\n   'statement_type': 'Press Release',\n   'chamber': 'House',\n   'state': 'CA',\n   'party': 'D',\n   'subjects': []},\n  {'url': 'https://lofgren.house.gov/media/press-releases/tlaib-nalder-lofgren-dingell-and-kaptur-lead-80-members-congress-urging',\n   'date': '2020-08-20',\n   'title': 'Tlaib, Nalder, Lofgren, Dingell and Kaptur Lead 80 Members of Congress in Urging Temporary Protections for Lebanese Nationals in Light of Beirut Blast',\n   'statement_type': 'Press Release',\n   'chamber': 'House',\n   'state': 'CA',\n   'party': 'D',\n   'subjects': []},\n  {'url': 'https://lofgren.house.gov/media/press-releases/nadler-lofgren-lead-house-democrats-opposing-trump-administration-unlawful-rule',\n   'date': '2020-08-11',\n   'title': 'Nadler &amp; Lofgren Lead House Democrats in Opposing Trump Administration Unlawful Rule Exploiting COVID-19 to Restrict Asylum',\n   'statement_type': 'Press Release',\n   'chamber': 'House',\n   'state': 'CA',\n   'party': 'D',\n   'subjects': []},\n  {'url': 'https://lofgren.house.gov/media/press-releases/neal-nadler-lofgren-call-changes-ease-admission-temporary-health-workers-during',\n   'date': '2020-08-04',\n   'title': 'Neal, Nadler, Lofgren Call for Changes to Ease the Admission of Temporary Health Workers During the COVID-19 Emergency',\n   'statement_type': 'Press Release',\n   'chamber': 'House',\n   'state': 'CA',\n   'party': 'D',\n   'subjects': []},\n  {'url': 'https://lofgren.house.gov/media/press-releases/nadler-lofgren-statement-trump-administration-decision-halt-new-daca',\n   'date': '2020-07-28',\n   'title': 'Nadler &amp; Lofgren Statement on Trump Administration Decision to Halt New DACA Applications',\n   'statement_type': 'Press Release',\n   'chamber': 'House',\n   'state': 'CA',\n   'party': 'D',\n   'subjects': []},\n  {'url': 'https://lofgren.house.gov/media/press-releases/lofgren-nadler-demand-trump-admin-accepts-new-daca-applications',\n   'date': '2020-07-24',\n   'title': 'Lofgren, Nadler Demand Trump Admin Accepts New DACA Applications',\n   'statement_type': 'Press Release',\n   'chamber': 'House',\n   'state': 'CA',\n   'party': 'D',\n   'subjects': []}]}"
     },
     "execution_count": 194,
     "metadata": {},
     "output_type": "execute_result"
    }
   ],
   "source": [
    "url = f'https://api.propublica.org/congress/v1/members/L000397/statements/116.json'\n",
    "response = requests.get(url, headers=headers)\n",
    "response.json()"
   ],
   "metadata": {
    "collapsed": false,
    "ExecuteTime": {
     "end_time": "2023-11-29T06:10:17.019185Z",
     "start_time": "2023-11-29T06:10:16.336784Z"
    }
   },
   "id": "a746288381138765"
  },
  {
   "cell_type": "code",
   "execution_count": 199,
   "outputs": [
    {
     "data": {
      "text/plain": "   member_id         member_name member_begin_date  congress chamber  \\\n1    L000397         Zoe Lofgren        2019-01-09       116   house   \n3    R000606        Jamie Raskin        2019-01-29       116   house   \n5    D000598      Susan A. Davis        2019-01-29       116   house   \n0    C001062  K. Michael Conaway        2019-01-04       116   house   \n4    S001189        Austin Scott        2019-01-23       116   house   \n..       ...                 ...               ...       ...     ...   \n12   W000800         Peter Welch              None       118   joint   \n13   S001199       Lloyd Smucker              None       118   joint   \n15   M000317  Nicole Malliotakis              None       118   joint   \n16   B001292        Donald Beyer              None       118   joint   \n17   T000483         David Trone              None       118   joint   \n\n   committee_id  \n1          HSHA  \n3          HSHA  \n5          HSHA  \n0          HSAG  \n4          HSAG  \n..          ...  \n12         JSEC  \n13         JSEC  \n15         JSEC  \n16         JSEC  \n17         JSEC  \n\n[802 rows x 6 columns]",
      "text/html": "<div>\n<style scoped>\n    .dataframe tbody tr th:only-of-type {\n        vertical-align: middle;\n    }\n\n    .dataframe tbody tr th {\n        vertical-align: top;\n    }\n\n    .dataframe thead th {\n        text-align: right;\n    }\n</style>\n<table border=\"1\" class=\"dataframe\">\n  <thead>\n    <tr style=\"text-align: right;\">\n      <th></th>\n      <th>member_id</th>\n      <th>member_name</th>\n      <th>member_begin_date</th>\n      <th>congress</th>\n      <th>chamber</th>\n      <th>committee_id</th>\n    </tr>\n  </thead>\n  <tbody>\n    <tr>\n      <th>1</th>\n      <td>L000397</td>\n      <td>Zoe Lofgren</td>\n      <td>2019-01-09</td>\n      <td>116</td>\n      <td>house</td>\n      <td>HSHA</td>\n    </tr>\n    <tr>\n      <th>3</th>\n      <td>R000606</td>\n      <td>Jamie Raskin</td>\n      <td>2019-01-29</td>\n      <td>116</td>\n      <td>house</td>\n      <td>HSHA</td>\n    </tr>\n    <tr>\n      <th>5</th>\n      <td>D000598</td>\n      <td>Susan A. Davis</td>\n      <td>2019-01-29</td>\n      <td>116</td>\n      <td>house</td>\n      <td>HSHA</td>\n    </tr>\n    <tr>\n      <th>0</th>\n      <td>C001062</td>\n      <td>K. Michael Conaway</td>\n      <td>2019-01-04</td>\n      <td>116</td>\n      <td>house</td>\n      <td>HSAG</td>\n    </tr>\n    <tr>\n      <th>4</th>\n      <td>S001189</td>\n      <td>Austin Scott</td>\n      <td>2019-01-23</td>\n      <td>116</td>\n      <td>house</td>\n      <td>HSAG</td>\n    </tr>\n    <tr>\n      <th>...</th>\n      <td>...</td>\n      <td>...</td>\n      <td>...</td>\n      <td>...</td>\n      <td>...</td>\n      <td>...</td>\n    </tr>\n    <tr>\n      <th>12</th>\n      <td>W000800</td>\n      <td>Peter Welch</td>\n      <td>None</td>\n      <td>118</td>\n      <td>joint</td>\n      <td>JSEC</td>\n    </tr>\n    <tr>\n      <th>13</th>\n      <td>S001199</td>\n      <td>Lloyd Smucker</td>\n      <td>None</td>\n      <td>118</td>\n      <td>joint</td>\n      <td>JSEC</td>\n    </tr>\n    <tr>\n      <th>15</th>\n      <td>M000317</td>\n      <td>Nicole Malliotakis</td>\n      <td>None</td>\n      <td>118</td>\n      <td>joint</td>\n      <td>JSEC</td>\n    </tr>\n    <tr>\n      <th>16</th>\n      <td>B001292</td>\n      <td>Donald Beyer</td>\n      <td>None</td>\n      <td>118</td>\n      <td>joint</td>\n      <td>JSEC</td>\n    </tr>\n    <tr>\n      <th>17</th>\n      <td>T000483</td>\n      <td>David Trone</td>\n      <td>None</td>\n      <td>118</td>\n      <td>joint</td>\n      <td>JSEC</td>\n    </tr>\n  </tbody>\n</table>\n<p>802 rows × 6 columns</p>\n</div>"
     },
     "execution_count": 199,
     "metadata": {},
     "output_type": "execute_result"
    }
   ],
   "source": [
    "\"\"\"Get member statements\"\"\"\n",
    "committee_assignments_of_interest\n"
   ],
   "metadata": {
    "collapsed": false,
    "ExecuteTime": {
     "end_time": "2023-11-29T06:16:03.437893Z",
     "start_time": "2023-11-29T06:16:03.430180Z"
    }
   },
   "id": "d2b477630e1b07b0"
  },
  {
   "cell_type": "code",
   "execution_count": 201,
   "outputs": [
    {
     "data": {
      "text/plain": "{'status': 'OK',\n 'copyright': 'Copyright (c) 2023 Pro Publica Inc. All Rights Reserved.',\n 'results': [{'congress': '116',\n   'num_results': 20,\n   'offset': 0,\n   'hearings': [{'chamber': 'House',\n     'committee': 'Committee on Agriculture',\n     'committee_code': 'HSAG',\n     'api_uri': 'https://api.propublica.org/congress/v1/116/house/committees/HSAG.json',\n     'date': '2020-12-09',\n     'time': '10:00:00',\n     'location': '',\n     'description': '1890 Land Grant Institutions 130 Years of Building Equity in Agriculture',\n     'bill_ids': [],\n     'url': 'https://docs.house.gov/Committee/Calendar/ByEvent.aspx?EventID=111113',\n     'meeting_type': 'Hearing'},\n    {'chamber': 'House',\n     'committee': 'Committee on Agriculture',\n     'committee_code': 'HSAG',\n     'api_uri': 'https://api.propublica.org/congress/v1/116/house/committees/HSAG.json',\n     'date': '2020-10-01',\n     'time': '10:00:00',\n     'location': 'LHOB 1300',\n     'description': 'Challenges and Successes of Conservation Programs in 2020',\n     'bill_ids': [],\n     'url': 'https://docs.house.gov/Committee/Calendar/ByEvent.aspx?EventID=111074',\n     'meeting_type': 'Hearing'},\n    {'chamber': 'House',\n     'committee': 'Committee on Agriculture',\n     'committee_code': 'HSAG',\n     'api_uri': 'https://api.propublica.org/congress/v1/116/house/committees/HSAG.json',\n     'date': '2020-09-24',\n     'time': '13:00:00',\n     'location': 'LHOB 1300',\n     'description': 'The 2020 Wildfire Year: Response and Recovery Efforts',\n     'bill_ids': [],\n     'url': 'https://docs.house.gov/Committee/Calendar/ByEvent.aspx?EventID=111049',\n     'meeting_type': 'Hearing'},\n    {'chamber': 'House',\n     'committee': 'Committee on Agriculture',\n     'committee_code': 'HSAG',\n     'api_uri': 'https://api.propublica.org/congress/v1/116/house/committees/HSAG.json',\n     'date': '2020-07-23',\n     'time': '10:00:00',\n     'location': '',\n     'description': 'On Farm Energy Production: Impacts on Farm Income and Rural Communities',\n     'bill_ids': [],\n     'url': 'https://docs.house.gov/Committee/Calendar/ByEvent.aspx?EventID=110928',\n     'meeting_type': 'Hearing'},\n    {'chamber': 'House',\n     'committee': 'Committee on Agriculture',\n     'committee_code': 'HSAG',\n     'api_uri': 'https://api.propublica.org/congress/v1/116/house/committees/HSAG.json',\n     'date': '2020-07-21',\n     'time': '13:00:00',\n     'location': '',\n     'description': 'An Overview of the Farmers to Families Food Box Program',\n     'bill_ids': [],\n     'url': 'https://docs.house.gov/Committee/Calendar/ByEvent.aspx?EventID=110913',\n     'meeting_type': 'Hearing'},\n    {'chamber': 'House',\n     'committee': 'Committee on Agriculture',\n     'committee_code': 'HSAG',\n     'api_uri': 'https://api.propublica.org/congress/v1/116/house/committees/HSAG.json',\n     'date': '2020-03-10',\n     'time': '10:00:00',\n     'location': 'LHOB 1300',\n     'description': '&quot;U.S. Agricultural Trade: Stakeholder Perspectives&quot;',\n     'bill_ids': [],\n     'url': 'https://docs.house.gov/Committee/Calendar/ByEvent.aspx?EventID=110668',\n     'meeting_type': 'Hearing'},\n    {'chamber': 'House',\n     'committee': 'Committee on Agriculture',\n     'committee_code': 'HSAG',\n     'api_uri': 'https://api.propublica.org/congress/v1/116/house/committees/HSAG.json',\n     'date': '2020-03-10',\n     'time': '09:30:00',\n     'location': 'LHOB 1300',\n     'description': 'the Budget Views and Estimates Letter of the Committee on Agriculture for the agencies and programs under the jurisdiction of the Committee for fiscal year 2021; H. Res. 189, Recognizing the importance of sustained United States leadership to accelerating global progress against maternal and child malnutrition and supporting United States Agency for International Development&#39;s commitment to global nutrition through its multi-sectoral nutrition strategy; and H. Res. 742, Recognizing the continued success of the Food for Peace Act',\n     'bill_ids': [],\n     'url': 'https://docs.house.gov/Committee/Calendar/ByEvent.aspx?EventID=110725',\n     'meeting_type': 'Markup'},\n    {'chamber': 'House',\n     'committee': 'Committee on Agriculture',\n     'committee_code': 'HSAG',\n     'api_uri': 'https://api.propublica.org/congress/v1/116/house/committees/HSAG.json',\n     'date': '2020-03-04',\n     'time': '10:00:00',\n     'location': 'LHOB 1300',\n     'description': '&quot;The State of the Rural Economy with Agriculture Secretary Sonny Perdue&quot;',\n     'bill_ids': [],\n     'url': 'https://docs.house.gov/Committee/Calendar/ByEvent.aspx?EventID=110632',\n     'meeting_type': 'Hearing'},\n    {'chamber': 'House',\n     'committee': 'Committee on Agriculture',\n     'committee_code': 'HSAG',\n     'api_uri': 'https://api.propublica.org/congress/v1/116/house/committees/HSAG.json',\n     'date': '2020-02-26',\n     'time': '10:00:00',\n     'location': 'LHOB 1300',\n     'description': '&quot;Innovative Wood Products: Promoting Rural Economies and Healthy Forests&quot;',\n     'bill_ids': [],\n     'url': 'https://docs.house.gov/Committee/Calendar/ByEvent.aspx?EventID=110558',\n     'meeting_type': 'Hearing'},\n    {'chamber': 'House',\n     'committee': 'Committee on Agriculture',\n     'committee_code': 'HSAG',\n     'api_uri': 'https://api.propublica.org/congress/v1/116/house/committees/HSAG.json',\n     'date': '2020-02-11',\n     'time': '10:00:00',\n     'location': 'LHOB 1300',\n     'description': '&quot;Economic Opportunities from Local Agricultural Markets&quot;',\n     'bill_ids': [],\n     'url': 'https://docs.house.gov/Committee/Calendar/ByEvent.aspx?EventID=110484',\n     'meeting_type': 'Hearing'},\n    {'chamber': 'House',\n     'committee': 'Committee on Agriculture',\n     'committee_code': 'HSAG',\n     'api_uri': 'https://api.propublica.org/congress/v1/116/house/committees/HSAG.json',\n     'date': '2020-01-28',\n     'time': '10:00:00',\n     'location': 'LHOB 1300',\n     'description': '&quot;To Review Implementation of Farm Bill Conservation Programs&quot;',\n     'bill_ids': [],\n     'url': 'https://docs.house.gov/Committee/Calendar/ByEvent.aspx?EventID=110395',\n     'meeting_type': 'Hearing'},\n    {'chamber': 'House',\n     'committee': 'Committee on Agriculture',\n     'committee_code': 'HSAG',\n     'api_uri': 'https://api.propublica.org/congress/v1/116/house/committees/HSAG.json',\n     'date': '2019-12-25',\n     'time': '23:50:00',\n     'location': '',\n     'description': 'Test 4 vgs meeting doc',\n     'bill_ids': [],\n     'url': 'https://docs.house.gov/Committee/Calendar/ByEvent.aspx?EventID=110273',\n     'meeting_type': 'Meeting'},\n    {'chamber': 'House',\n     'committee': 'Committee on Agriculture',\n     'committee_code': 'HSAG',\n     'api_uri': 'https://api.propublica.org/congress/v1/116/house/committees/HSAG.json',\n     'date': '2019-12-25',\n     'time': '14:00:00',\n     'location': '',\n     'description': 'Test VGS',\n     'bill_ids': [],\n     'url': 'https://docs.house.gov/Committee/Calendar/ByEvent.aspx?EventID=110269',\n     'meeting_type': 'Meeting'},\n    {'chamber': 'House',\n     'committee': 'Committee on Agriculture',\n     'committee_code': 'HSAG',\n     'api_uri': 'https://api.propublica.org/congress/v1/116/house/committees/HSAG.json',\n     'date': '2019-12-25',\n     'time': '11:00:00',\n     'location': 'CHOB 301',\n     'description': 'Test 3 VGS',\n     'bill_ids': [],\n     'url': 'https://docs.house.gov/Committee/Calendar/ByEvent.aspx?EventID=110272',\n     'meeting_type': 'Markup'},\n    {'chamber': 'House',\n     'committee': 'Committee on Agriculture',\n     'committee_code': 'HSAG',\n     'api_uri': 'https://api.propublica.org/congress/v1/116/house/committees/HSAG.json',\n     'date': '2019-12-25',\n     'time': '08:30:00',\n     'location': 'CHOB 123',\n     'description': 'Test 2 VGS',\n     'bill_ids': [],\n     'url': 'https://docs.house.gov/Committee/Calendar/ByEvent.aspx?EventID=110270',\n     'meeting_type': 'Hearing'},\n    {'chamber': 'House',\n     'committee': 'Committee on Agriculture',\n     'committee_code': 'HSAG',\n     'api_uri': 'https://api.propublica.org/congress/v1/116/house/committees/HSAG.json',\n     'date': '2019-12-17',\n     'time': '10:00:00',\n     'location': 'LHOB 1300',\n     'description': '&quot;Access to Conservation Programs by Historically Underserved Farmers and Ranchers',\n     'bill_ids': [],\n     'url': 'https://docs.house.gov/Committee/Calendar/ByEvent.aspx?EventID=110335',\n     'meeting_type': 'Hearing'},\n    {'chamber': 'House',\n     'committee': 'Committee on Agriculture',\n     'committee_code': 'HSAG',\n     'api_uri': 'https://api.propublica.org/congress/v1/116/house/committees/HSAG.json',\n     'date': '2019-12-11',\n     'time': '14:00:00',\n     'location': 'LHOB 1300',\n     'description': 'Review of Credit Conditions: Report from Agricultural Lenders',\n     'bill_ids': [],\n     'url': 'https://docs.house.gov/Committee/Calendar/ByEvent.aspx?EventID=110309',\n     'meeting_type': 'Hearing'},\n    {'chamber': 'House',\n     'committee': 'Committee on Agriculture',\n     'committee_code': 'HSAG',\n     'api_uri': 'https://api.propublica.org/congress/v1/116/house/committees/HSAG.json',\n     'date': '2019-12-11',\n     'time': '10:00:00',\n     'location': 'LHOB 1300',\n     'description': 'Member Day',\n     'bill_ids': [],\n     'url': 'https://docs.house.gov/Committee/Calendar/ByEvent.aspx?EventID=110308',\n     'meeting_type': 'Hearing'},\n    {'chamber': 'House',\n     'committee': 'Committee on Agriculture',\n     'committee_code': 'HSAG',\n     'api_uri': 'https://api.propublica.org/congress/v1/116/house/committees/HSAG.json',\n     'date': '2019-12-10',\n     'time': '10:00:00',\n     'location': 'LHOB 1300',\n     'description': 'The Implementation of Farm Bill International Food Assistance and Development Programs',\n     'bill_ids': [],\n     'url': 'https://docs.house.gov/Committee/Calendar/ByEvent.aspx?EventID=110307',\n     'meeting_type': 'Hearing'},\n    {'chamber': 'House',\n     'committee': 'Committee on Agriculture',\n     'committee_code': 'HSAG',\n     'api_uri': 'https://api.propublica.org/congress/v1/116/house/committees/HSAG.json',\n     'date': '2019-11-19',\n     'time': '14:00:00',\n     'location': 'LHOB 1300',\n     'description': '&quot;Review of the Office of the Assistant Secretary for Civil Rights&quot;',\n     'bill_ids': [],\n     'url': 'https://docs.house.gov/Committee/Calendar/ByEvent.aspx?EventID=110222',\n     'meeting_type': 'Hearing'}]}]}"
     },
     "execution_count": 201,
     "metadata": {},
     "output_type": "execute_result"
    }
   ],
   "source": [
    "\"\"\"get hearings for each committee\"\"\"\n",
    "congress = 116\n",
    "chamber = 'house'\n",
    "committee_id = 'HSAG'\n",
    "url = f'https://api.propublica.org/congress/v1/{congress}/{chamber}/committees/{committee_id}/hearings.json'\n",
    "response = requests.get(url, headers=headers)\n",
    "hearings = response.json()['results'][0]['hearings']\n",
    "\n",
    "hearing_congress = congress\n",
    "hearing_chamber = chamber\n",
    "hearing_committee_id = committee_id\n",
    "hearing_date = hearings['date']\n",
    "hearing_description = hearings['description']\n",
    "\n",
    "\n",
    "\n"
   ],
   "metadata": {
    "collapsed": false,
    "ExecuteTime": {
     "end_time": "2023-11-29T06:17:39.776848Z",
     "start_time": "2023-11-29T06:17:39.312027Z"
    }
   },
   "id": "61cdc5a810245065"
  },
  {
   "cell_type": "code",
   "execution_count": 208,
   "outputs": [],
   "source": [
    "hearings_dfs = []\n",
    "for index, row in committee_assignments_of_interest.head(5).iterrows():\n",
    "    hearing_congress_list = []\n",
    "    hearing_chamber_list = []\n",
    "    hearing_committee_id_list = []\n",
    "    hearing_date_list = []\n",
    "    hearing_description_list = []\n",
    "    \n",
    "    offset_value = 0\n",
    "    congress = row['congress']\n",
    "    chamber = row['chamber']\n",
    "    committee_id = row['committee_id']\n",
    "    url = f'https://api.propublica.org/congress/v1/{congress}/{chamber}/committees/{committee_id}/hearings.json'\n",
    "    response = requests.get(url, headers=headers)\n",
    "    response.raise_for_status()\n",
    "    results_check = response.json()\n",
    "\n",
    "    if 'results' in response.json().keys():\n",
    "        results = response.json()['results']\n",
    "        bill_number = results[0]['num_results']\n",
    "        times = bill_number // 20 + 1\n",
    "        while times >=0:\n",
    "            url = f'https://api.propublica.org/congress/v1/{congress}/{chamber}/committees/{committee_id}/hearings.json?offset={offset_value}'\n",
    "            response = requests.get(url, headers=headers)\n",
    "            hearings = response.json()['results'][0]['hearings']\n",
    "            \n",
    "            for hearing in hearings:\n",
    "                hearing_congress_list.append(congress)\n",
    "                hearing_chamber_list.append(chamber)\n",
    "                hearing_committee_id_list.append(committee_id)\n",
    "                hearing_date_list.append(hearing['date'])\n",
    "                hearing_description_list.append(hearing['description'])\n",
    "            offset_value+= 20\n",
    "            times -= 1\n",
    "        hearings_df = pd.DataFrame({'hearing_congress': hearing_congress_list,\n",
    "                                     'hearing_chamber': hearing_chamber_list,\n",
    "                                     'hearing_committee_id': hearing_committee_id_list,\n",
    "                                     'hearing_date': hearing_date_list,\n",
    "                                     'hearing_description': hearing_description_list})\n",
    "        hearings_dfs.append(hearings_df)\n",
    "        \n",
    "    else:\n",
    "        pass\n",
    "    \n",
    "hearings_df = pd.concat(hearings_dfs)\n",
    "\n",
    "   "
   ],
   "metadata": {
    "collapsed": false,
    "ExecuteTime": {
     "end_time": "2023-11-29T06:32:06.286044Z",
     "start_time": "2023-11-29T06:32:00.929809Z"
    }
   },
   "id": "459379ef6ae23f46"
  },
  {
   "cell_type": "code",
   "execution_count": 209,
   "outputs": [
    {
     "data": {
      "text/plain": "    hearing_congress hearing_chamber hearing_committee_id hearing_date  \\\n0                116           house                 HSHA   2019-02-14   \n1                116           house                 HSHA   2019-02-07   \n0                116           house                 HSHA   2019-02-14   \n1                116           house                 HSHA   2019-02-07   \n0                116           house                 HSHA   2019-02-14   \n..               ...             ...                  ...          ...   \n42               116           house                 HSAG   2019-04-30   \n43               116           house                 HSAG   2019-04-03   \n44               116           house                 HSAG   2019-02-27   \n45               116           house                 HSAG   2019-02-27   \n46               116           house                 HSAG   2019-02-07   \n\n                                  hearing_description  \n0              For the People: Our American Democracy  \n1                              Organizational Meeting  \n0              For the People: Our American Democracy  \n1                              Organizational Meeting  \n0              For the People: Our American Democracy  \n..                                                ...  \n42  &quot;Reviewing the State of the Dairy Economy...  \n43  Examining the Proposed ABAWD Rule and its Impa...  \n44  To receive testimony from Secretary Sonny Perd...  \n45  the Budget Views and Estimates Letter of the C...  \n46  organizational matters of the Committee on Agr...  \n\n[100 rows x 5 columns]",
      "text/html": "<div>\n<style scoped>\n    .dataframe tbody tr th:only-of-type {\n        vertical-align: middle;\n    }\n\n    .dataframe tbody tr th {\n        vertical-align: top;\n    }\n\n    .dataframe thead th {\n        text-align: right;\n    }\n</style>\n<table border=\"1\" class=\"dataframe\">\n  <thead>\n    <tr style=\"text-align: right;\">\n      <th></th>\n      <th>hearing_congress</th>\n      <th>hearing_chamber</th>\n      <th>hearing_committee_id</th>\n      <th>hearing_date</th>\n      <th>hearing_description</th>\n    </tr>\n  </thead>\n  <tbody>\n    <tr>\n      <th>0</th>\n      <td>116</td>\n      <td>house</td>\n      <td>HSHA</td>\n      <td>2019-02-14</td>\n      <td>For the People: Our American Democracy</td>\n    </tr>\n    <tr>\n      <th>1</th>\n      <td>116</td>\n      <td>house</td>\n      <td>HSHA</td>\n      <td>2019-02-07</td>\n      <td>Organizational Meeting</td>\n    </tr>\n    <tr>\n      <th>0</th>\n      <td>116</td>\n      <td>house</td>\n      <td>HSHA</td>\n      <td>2019-02-14</td>\n      <td>For the People: Our American Democracy</td>\n    </tr>\n    <tr>\n      <th>1</th>\n      <td>116</td>\n      <td>house</td>\n      <td>HSHA</td>\n      <td>2019-02-07</td>\n      <td>Organizational Meeting</td>\n    </tr>\n    <tr>\n      <th>0</th>\n      <td>116</td>\n      <td>house</td>\n      <td>HSHA</td>\n      <td>2019-02-14</td>\n      <td>For the People: Our American Democracy</td>\n    </tr>\n    <tr>\n      <th>...</th>\n      <td>...</td>\n      <td>...</td>\n      <td>...</td>\n      <td>...</td>\n      <td>...</td>\n    </tr>\n    <tr>\n      <th>42</th>\n      <td>116</td>\n      <td>house</td>\n      <td>HSAG</td>\n      <td>2019-04-30</td>\n      <td>&amp;quot;Reviewing the State of the Dairy Economy...</td>\n    </tr>\n    <tr>\n      <th>43</th>\n      <td>116</td>\n      <td>house</td>\n      <td>HSAG</td>\n      <td>2019-04-03</td>\n      <td>Examining the Proposed ABAWD Rule and its Impa...</td>\n    </tr>\n    <tr>\n      <th>44</th>\n      <td>116</td>\n      <td>house</td>\n      <td>HSAG</td>\n      <td>2019-02-27</td>\n      <td>To receive testimony from Secretary Sonny Perd...</td>\n    </tr>\n    <tr>\n      <th>45</th>\n      <td>116</td>\n      <td>house</td>\n      <td>HSAG</td>\n      <td>2019-02-27</td>\n      <td>the Budget Views and Estimates Letter of the C...</td>\n    </tr>\n    <tr>\n      <th>46</th>\n      <td>116</td>\n      <td>house</td>\n      <td>HSAG</td>\n      <td>2019-02-07</td>\n      <td>organizational matters of the Committee on Agr...</td>\n    </tr>\n  </tbody>\n</table>\n<p>100 rows × 5 columns</p>\n</div>"
     },
     "execution_count": 209,
     "metadata": {},
     "output_type": "execute_result"
    }
   ],
   "source": [
    "hearings_df"
   ],
   "metadata": {
    "collapsed": false,
    "ExecuteTime": {
     "end_time": "2023-11-29T06:32:06.304158Z",
     "start_time": "2023-11-29T06:32:06.296946Z"
    }
   },
   "id": "cf9ba9fa288d323f"
  },
  {
   "cell_type": "code",
   "execution_count": null,
   "outputs": [],
   "source": [],
   "metadata": {
    "collapsed": false
   },
   "id": "c0227dfd6d5b6260"
  }
 ],
 "metadata": {
  "kernelspec": {
   "display_name": "Python 3",
   "language": "python",
   "name": "python3"
  },
  "language_info": {
   "codemirror_mode": {
    "name": "ipython",
    "version": 2
   },
   "file_extension": ".py",
   "mimetype": "text/x-python",
   "name": "python",
   "nbconvert_exporter": "python",
   "pygments_lexer": "ipython2",
   "version": "2.7.6"
  }
 },
 "nbformat": 4,
 "nbformat_minor": 5
}
