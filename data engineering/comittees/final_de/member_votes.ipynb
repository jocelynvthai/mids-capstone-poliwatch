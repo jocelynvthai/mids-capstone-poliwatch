{
 "cells": [
  {
   "cell_type": "code",
   "execution_count": 89,
   "id": "initial_id",
   "metadata": {
    "collapsed": true,
    "ExecuteTime": {
     "end_time": "2023-11-30T08:15:27.967631Z",
     "start_time": "2023-11-30T08:15:27.966980Z"
    }
   },
   "outputs": [],
   "source": [
    "import pandas as pd\n",
    "import nameparser\n",
    "import json\n",
    "import requests\n",
    "import numpy as np\n",
    "\n",
    "pro_publica_api_key = \"PguHImFJakafbsBpZ2ed21A1HIgvXKiM7tg0BqI0 \"\n",
    "headers = {'X-API-Key': pro_publica_api_key}"
   ]
  },
  {
   "cell_type": "code",
   "execution_count": 90,
   "outputs": [],
   "source": [
    "trans = pd.read_csv('../prod_data/transactions.csv')\n",
    "\n",
    "trans['id'] = trans['id'].astype('string')"
   ],
   "metadata": {
    "collapsed": false,
    "ExecuteTime": {
     "end_time": "2023-11-30T08:15:28.750562Z",
     "start_time": "2023-11-30T08:15:28.554287Z"
    }
   },
   "id": "8d2d898e479138fa"
  },
  {
   "cell_type": "code",
   "execution_count": 91,
   "outputs": [
    {
     "data": {
      "text/plain": "216"
     },
     "execution_count": 91,
     "metadata": {},
     "output_type": "execute_result"
    }
   ],
   "source": [
    "members_ids = trans['id'].unique()\n",
    "\n",
    "len(members_ids)"
   ],
   "metadata": {
    "collapsed": false,
    "ExecuteTime": {
     "end_time": "2023-11-30T08:15:30.146643Z",
     "start_time": "2023-11-30T08:15:30.141489Z"
    }
   },
   "id": "23f261ece1ed0e33"
  },
  {
   "cell_type": "code",
   "execution_count": 64,
   "outputs": [],
   "source": [
    "votes_current = pd.read_csv('../prod_data/votes.csv')\n",
    "\n",
    "votes_current['member_id'] = votes_current['member_id'].astype('string')\n",
    "\n"
   ],
   "metadata": {
    "collapsed": false,
    "ExecuteTime": {
     "end_time": "2023-11-30T00:35:32.757782Z",
     "start_time": "2023-11-30T00:35:32.680321Z"
    }
   },
   "id": "93858e5289e98c00"
  },
  {
   "cell_type": "code",
   "execution_count": 82,
   "outputs": [
    {
     "data": {
      "text/plain": "133"
     },
     "execution_count": 82,
     "metadata": {},
     "output_type": "execute_result"
    }
   ],
   "source": [
    "tracked_members = votes_current['member_id'].astype('string').unique()\n",
    "\n",
    "difference = [item for item in members_ids if item not in tracked_members]\n",
    "\n",
    "len(difference)\n",
    "\n"
   ],
   "metadata": {
    "collapsed": false,
    "ExecuteTime": {
     "end_time": "2023-11-30T01:36:24.512466Z",
     "start_time": "2023-11-30T01:36:24.492610Z"
    }
   },
   "id": "8b99f4f218b78bec"
  },
  {
   "cell_type": "code",
   "execution_count": 81,
   "outputs": [
    {
     "name": "stdout",
     "output_type": "stream",
     "text": [
      "Saving 5 rows\n",
      "Saving 10 rows\n",
      "Saving 15 rows\n",
      "Saving 20 rows\n",
      "Saving 25 rows\n",
      "Saving 30 rows\n",
      "Saving 35 rows\n",
      "Saving 40 rows\n",
      "Saving 45 rows\n",
      "Saving 50 rows\n",
      "Saving 55 rows\n",
      "Saving 60 rows\n",
      "Saving 65 rows\n",
      "Saving 70 rows\n",
      "Saving 75 rows\n",
      "Saving 80 rows\n",
      "Saving 85 rows\n",
      "Saving 90 rows\n",
      "Saving 95 rows\n",
      "Saving 100 rows\n",
      "Saving 105 rows\n",
      "Saving 110 rows\n",
      "Saving 115 rows\n",
      "Saving 120 rows\n",
      "Saving 125 rows\n",
      "Saving 130 rows\n"
     ]
    },
    {
     "data": {
      "text/plain": "     chamber congress session  \\\n0      House      116       2   \n1      House      116       2   \n2      House      116       2   \n3      House      116       2   \n4      House      116       2   \n...      ...      ...     ...   \n1815   House      115       1   \n1816   House      115       1   \n1817   House      115       1   \n1818   House      115       1   \n1819   House      115       1   \n\n                                            description        date position  \\\n0     William M. (Mac) Thornberry National Defense A...  2020-12-28      Yes   \n1                                              CASH Act  2020-12-28      Yes   \n2         United States-Mexico Economic Partnership Act  2020-12-21      Yes   \n3         United States-Mexico Economic Partnership Act  2020-12-21      Yes   \n4     Providing for consideration of the Senate amen...  2020-12-21      Yes   \n...                                                 ...         ...      ...   \n1815                Supporting America’s Innovators Act  2017-04-06      Yes   \n1816                      Self-Insurance Protection Act  2017-04-05      Yes   \n1817                                                     2017-04-05      Yes   \n1818  Providing for consideration of H.R. 1219, Supp...  2017-04-05      Yes   \n1819  Providing for consideration of H.R. 1219, Supp...  2017-04-05      Yes   \n\n           bill_id member_id  \n0       hr6395-116   C001123  \n1       hr9051-116   C001123  \n2        hr133-116   C001123  \n3        hr133-116   C001123  \n4     hres1271-116   C001123  \n...            ...       ...  \n1815    hr1219-115   W000812  \n1816    hr1304-115   W000812  \n1817    motion-115   W000812  \n1818   hres242-115   W000812  \n1819   hres242-115   W000812  \n\n[1820 rows x 8 columns]",
      "text/html": "<div>\n<style scoped>\n    .dataframe tbody tr th:only-of-type {\n        vertical-align: middle;\n    }\n\n    .dataframe tbody tr th {\n        vertical-align: top;\n    }\n\n    .dataframe thead th {\n        text-align: right;\n    }\n</style>\n<table border=\"1\" class=\"dataframe\">\n  <thead>\n    <tr style=\"text-align: right;\">\n      <th></th>\n      <th>chamber</th>\n      <th>congress</th>\n      <th>session</th>\n      <th>description</th>\n      <th>date</th>\n      <th>position</th>\n      <th>bill_id</th>\n      <th>member_id</th>\n    </tr>\n  </thead>\n  <tbody>\n    <tr>\n      <th>0</th>\n      <td>House</td>\n      <td>116</td>\n      <td>2</td>\n      <td>William M. (Mac) Thornberry National Defense A...</td>\n      <td>2020-12-28</td>\n      <td>Yes</td>\n      <td>hr6395-116</td>\n      <td>C001123</td>\n    </tr>\n    <tr>\n      <th>1</th>\n      <td>House</td>\n      <td>116</td>\n      <td>2</td>\n      <td>CASH Act</td>\n      <td>2020-12-28</td>\n      <td>Yes</td>\n      <td>hr9051-116</td>\n      <td>C001123</td>\n    </tr>\n    <tr>\n      <th>2</th>\n      <td>House</td>\n      <td>116</td>\n      <td>2</td>\n      <td>United States-Mexico Economic Partnership Act</td>\n      <td>2020-12-21</td>\n      <td>Yes</td>\n      <td>hr133-116</td>\n      <td>C001123</td>\n    </tr>\n    <tr>\n      <th>3</th>\n      <td>House</td>\n      <td>116</td>\n      <td>2</td>\n      <td>United States-Mexico Economic Partnership Act</td>\n      <td>2020-12-21</td>\n      <td>Yes</td>\n      <td>hr133-116</td>\n      <td>C001123</td>\n    </tr>\n    <tr>\n      <th>4</th>\n      <td>House</td>\n      <td>116</td>\n      <td>2</td>\n      <td>Providing for consideration of the Senate amen...</td>\n      <td>2020-12-21</td>\n      <td>Yes</td>\n      <td>hres1271-116</td>\n      <td>C001123</td>\n    </tr>\n    <tr>\n      <th>...</th>\n      <td>...</td>\n      <td>...</td>\n      <td>...</td>\n      <td>...</td>\n      <td>...</td>\n      <td>...</td>\n      <td>...</td>\n      <td>...</td>\n    </tr>\n    <tr>\n      <th>1815</th>\n      <td>House</td>\n      <td>115</td>\n      <td>1</td>\n      <td>Supporting America’s Innovators Act</td>\n      <td>2017-04-06</td>\n      <td>Yes</td>\n      <td>hr1219-115</td>\n      <td>W000812</td>\n    </tr>\n    <tr>\n      <th>1816</th>\n      <td>House</td>\n      <td>115</td>\n      <td>1</td>\n      <td>Self-Insurance Protection Act</td>\n      <td>2017-04-05</td>\n      <td>Yes</td>\n      <td>hr1304-115</td>\n      <td>W000812</td>\n    </tr>\n    <tr>\n      <th>1817</th>\n      <td>House</td>\n      <td>115</td>\n      <td>1</td>\n      <td></td>\n      <td>2017-04-05</td>\n      <td>Yes</td>\n      <td>motion-115</td>\n      <td>W000812</td>\n    </tr>\n    <tr>\n      <th>1818</th>\n      <td>House</td>\n      <td>115</td>\n      <td>1</td>\n      <td>Providing for consideration of H.R. 1219, Supp...</td>\n      <td>2017-04-05</td>\n      <td>Yes</td>\n      <td>hres242-115</td>\n      <td>W000812</td>\n    </tr>\n    <tr>\n      <th>1819</th>\n      <td>House</td>\n      <td>115</td>\n      <td>1</td>\n      <td>Providing for consideration of H.R. 1219, Supp...</td>\n      <td>2017-04-05</td>\n      <td>Yes</td>\n      <td>hres242-115</td>\n      <td>W000812</td>\n    </tr>\n  </tbody>\n</table>\n<p>1820 rows × 8 columns</p>\n</div>"
     },
     "execution_count": 81,
     "metadata": {},
     "output_type": "execute_result"
    }
   ],
   "source": [
    "vote_chamber_list = []\n",
    "vote_congress_list = []\n",
    "vote_session_list = []\n",
    "vote_description_list = []\n",
    "vote_date_list = []\n",
    "vote_position_list = []\n",
    "vote_bill_list = []\n",
    "vote_member_id_list = []\n",
    "\n",
    "iteration_count = 0\n",
    "save_interval = 5\n",
    "offset = 0\n",
    "\n",
    "\n",
    "for member_id in difference[1:]:\n",
    "    iteration_count +=1\n",
    "\n",
    "    url = f'https://api.propublica.org/congress/v1/members/{member_id}/votes.json?offset={offset}'\n",
    "    response = requests.get(url, headers=headers)\n",
    "    \n",
    "    if 'results' in response.json().keys():\n",
    "        if int(response.json()['results'][0]['num_results']) >0:\n",
    "            total = int(response.json()['results'][0]['num_results'])\n",
    "            count = 20\n",
    "            pages = int(np.ceil(total/count))\n",
    "            \n",
    "            for i in range(1, pages+1):\n",
    "                url = f'https://api.propublica.org/congress/v1/members/{member_id}/votes.json?offset={offset}'\n",
    "                response = requests.get(url, headers=headers)\n",
    "                offset += 20\n",
    "                votes = response.json()['results'][0]['votes']\n",
    "                for vote in votes:\n",
    "                    vote_chamber_list.append(vote['chamber'])\n",
    "                    vote_congress_list.append(vote['congress'])\n",
    "                    vote_session_list.append(vote['session'])\n",
    "                    vote_description_list.append(vote['description'])\n",
    "                    vote_date_list.append(vote['date'])\n",
    "                    vote_position_list.append(vote['position'])\n",
    "                    if 'bill_id' in vote['bill'].keys():\n",
    "                        vote_bill_list.append(vote['bill']['bill_id'])\n",
    "                    else:\n",
    "                        vote_bill_list.append('na')\n",
    "                    vote_member_id_list.append(member_id)\n",
    "    \n",
    "            offset += 20\n",
    "            \n",
    "    \n",
    "        else:\n",
    "            pass\n",
    "    else:\n",
    "        pass\n",
    "    \n",
    "    if iteration_count % save_interval == 0:\n",
    "        print(f\"Saving {iteration_count} rows\")\n",
    "        df_temp = pd.DataFrame({'chamber': vote_chamber_list,\n",
    "                              'congress': vote_congress_list,\n",
    "                              'session': vote_session_list,\n",
    "                              'description': vote_description_list,\n",
    "                              'date': vote_date_list,\n",
    "                              'position': vote_position_list,\n",
    "                              'bill_id': vote_bill_list,\n",
    "                              'member_id': vote_member_id_list})\n",
    "        df_temp.to_csv('member_votes.csv', index=False)\n",
    "\n",
    "votes = pd.DataFrame({'chamber': vote_chamber_list,\n",
    "                          'congress': vote_congress_list,\n",
    "                          'session': vote_session_list,\n",
    "                          'description': vote_description_list,\n",
    "                          'date': vote_date_list,\n",
    "                          'position': vote_position_list,\n",
    "                          'bill_id': vote_bill_list,\n",
    "                          'member_id': vote_member_id_list})\n",
    "\n",
    "votes"
   ],
   "metadata": {
    "collapsed": false,
    "ExecuteTime": {
     "end_time": "2023-11-30T01:32:13.604732Z",
     "start_time": "2023-11-30T01:29:36.142141Z"
    }
   },
   "id": "3dd523224d6cbd6f"
  },
  {
   "cell_type": "code",
   "execution_count": 88,
   "outputs": [],
   "source": [
    "votes1 = pd.read_csv('../prod_data/votes.csv')\n",
    "votes1\n",
    "\n",
    "votes_final = pd.concat([votes, votes1])\n",
    "\n",
    "votes_final.to_csv('../prod_data/votes.csv', index=False)"
   ],
   "metadata": {
    "collapsed": false,
    "ExecuteTime": {
     "end_time": "2023-11-30T01:38:47.400486Z",
     "start_time": "2023-11-30T01:38:47.248556Z"
    }
   },
   "id": "4670445935059919"
  },
  {
   "cell_type": "code",
   "execution_count": null,
   "outputs": [],
   "source": [],
   "metadata": {
    "collapsed": false
   },
   "id": "d7f65add9771d239"
  },
  {
   "cell_type": "code",
   "execution_count": 95,
   "outputs": [
    {
     "data": {
      "text/plain": "array(['L000590', 'L000579', 'B001274', 'W000804', 'D000617', 'G000584',\n       'S001199', 'B000574', 'C001108', 'F000462', 'L000559', 'G000583',\n       'M001157', 'M001180', 'P000197', 'C001068', 'C001078', 'D000399',\n       'M001185', 'S000185', 'J000020', 'L000576', 'C001114', 'M001188',\n       'A000372', 'B001299', 'D000628', 'U000031', 'L000564', 'V000108',\n       'H001065', 'E000296', 'R000607', 'P000616', 'W000800', 'J000294',\n       'C001123', 'C001062', 'L000397', 'B001286', 'M001199', 'Y000062',\n       'S001180', 'G000590', 'R000609', 'B001292', 'H001082', 'S001190',\n       'G000588', 'H001074', 'R000597', 'G000563', 'H001038', 'D000598',\n       'G000061', 'F000450', 'C001101', 'P000523', 'T000479', 'K000392',\n       'C001069', 'S001207', 'P000593', 'M001198', 'G000551', 'S001216',\n       'C001049', 'A000378', 'S001214', 'F000459', 'G000579', 'J000295',\n       'W000797', 'C001066', 'C001120', 'G000591', 'L000566', 'O000171',\n       'R000582', 'R000603', 'K000378', 'S001206', 'T000480', 'M001158',\n       'M001163', 'M001204', 'P000608', 'R000616', 'T000483', 'S001189',\n       'G000578', 'C001080', 'K000379', 'B001284', 'G000577', 'R000395',\n       'B001257', 'S001156', 'S001150', 'M001203', 'S001201', 'M001205',\n       'M001206', 'M001156', 'P000034', 'P000096', 'K000376', 'F000461',\n       'L000557', 'C000266', 'B001309', 'N000189', 'M001184', 'H001088',\n       'A000367', 'M001200', 'B001248', 'K000375', 'S000250', 'M001135',\n       'S001205', 'N000192', 'K000389', 'M001186', 'M001213', 'C001053',\n       'J000305', 'C001055', 'P000048', 'G000596', 'F000472', 'R000606',\n       'S000929', 'F000246', 'S000168', 'G000597', 'W000823', 'F000469',\n       'R000305', 'R000612', 'E000298', 'M001196', 'C001104', 'B001297',\n       'H001086', 'T000482', 'D000629', 'A000055', 'G000559', 'S001209',\n       'G000581', 'B001275', 'B000668', 'L000591', 'B000740', 'B001316',\n       'M000317', 'K000398', 'W000812', 'J000309', 'M001217', 'M001220',\n       'M001222', 'J000308', 'T000488'], dtype=object)"
     },
     "execution_count": 95,
     "metadata": {},
     "output_type": "execute_result"
    }
   ],
   "source": [
    "travel = pd.read_csv('../prod_data/private_travel.csv')\n",
    "\n",
    "travel['member_id'].unique()"
   ],
   "metadata": {
    "collapsed": false,
    "ExecuteTime": {
     "end_time": "2023-11-30T08:17:03.868861Z",
     "start_time": "2023-11-30T08:17:03.844281Z"
    }
   },
   "id": "b637611f0c4701bb"
  },
  {
   "cell_type": "code",
   "execution_count": 98,
   "outputs": [],
   "source": [
    "new_ids = pd.read_csv('../prod_data/new_ids.csv')\n",
    "\n",
    "new_ids_list = new_ids['id'].unique()"
   ],
   "metadata": {
    "collapsed": false,
    "ExecuteTime": {
     "end_time": "2023-11-30T08:17:40.651532Z",
     "start_time": "2023-11-30T08:17:40.634870Z"
    }
   },
   "id": "75dd1a458955b44a"
  },
  {
   "cell_type": "code",
   "execution_count": 99,
   "outputs": [
    {
     "data": {
      "text/plain": "    member_id  congress departure_date        destination  \\\n0     M000934       111     2010-12-11   Tel Aviv, Israel   \n1     M000934       111     2010-03-28       Havana, Cuba   \n2     M000934       111     2009-03-12      Cambridge, MD   \n3     M000934       111     2009-03-12      Cambridge, MD   \n4     M000934       111     2009-03-12      Cambridge, MD   \n..        ...       ...            ...                ...   \n166   M001198       115     2017-08-06  Jerusalem, Israel   \n167   M001198       115     2017-08-06   Tel Aviv, Israel   \n168   M001198       115     2017-08-06   Tiberias, Israel   \n169   M001198       115     2017-03-02       Havana, Cuba   \n170   M001198       115     2017-03-02          Miami, FL   \n\n                                         sponsor document_id  \\\n0    American Israel Education Foundation (AIEF)   500005058   \n1               Center for Democracy in Americas   500004111   \n2                        Congressional Institute   500003412   \n3                        Congressional Institute   500003433   \n4                    The Congressional Institute   500002589   \n..                                           ...         ...   \n166         American Israel Education Foundation   500018024   \n167         American Israel Education Foundation   500018024   \n168         American Israel Education Foundation   500018024   \n169              Center for Democracy in America   500017020   \n170              Center for Democracy in America   500017020   \n\n                                          document_url  \n0    https://disclosures-clerk.house.gov/gtimages/S...  \n1    https://disclosures-clerk.house.gov/gtimages/S...  \n2    https://disclosures-clerk.house.gov/gtimages/S...  \n3    https://disclosures-clerk.house.gov/gtimages/S...  \n4    https://disclosures-clerk.house.gov/gtimages/S...  \n..                                                 ...  \n166  https://disclosures-clerk.house.gov/gtimages/M...  \n167  https://disclosures-clerk.house.gov/gtimages/M...  \n168  https://disclosures-clerk.house.gov/gtimages/M...  \n169  https://disclosures-clerk.house.gov/gtimages/M...  \n170  https://disclosures-clerk.house.gov/gtimages/M...  \n\n[171 rows x 7 columns]",
      "text/html": "<div>\n<style scoped>\n    .dataframe tbody tr th:only-of-type {\n        vertical-align: middle;\n    }\n\n    .dataframe tbody tr th {\n        vertical-align: top;\n    }\n\n    .dataframe thead th {\n        text-align: right;\n    }\n</style>\n<table border=\"1\" class=\"dataframe\">\n  <thead>\n    <tr style=\"text-align: right;\">\n      <th></th>\n      <th>member_id</th>\n      <th>congress</th>\n      <th>departure_date</th>\n      <th>destination</th>\n      <th>sponsor</th>\n      <th>document_id</th>\n      <th>document_url</th>\n    </tr>\n  </thead>\n  <tbody>\n    <tr>\n      <th>0</th>\n      <td>M000934</td>\n      <td>111</td>\n      <td>2010-12-11</td>\n      <td>Tel Aviv, Israel</td>\n      <td>American Israel Education Foundation (AIEF)</td>\n      <td>500005058</td>\n      <td>https://disclosures-clerk.house.gov/gtimages/S...</td>\n    </tr>\n    <tr>\n      <th>1</th>\n      <td>M000934</td>\n      <td>111</td>\n      <td>2010-03-28</td>\n      <td>Havana, Cuba</td>\n      <td>Center for Democracy in Americas</td>\n      <td>500004111</td>\n      <td>https://disclosures-clerk.house.gov/gtimages/S...</td>\n    </tr>\n    <tr>\n      <th>2</th>\n      <td>M000934</td>\n      <td>111</td>\n      <td>2009-03-12</td>\n      <td>Cambridge, MD</td>\n      <td>Congressional Institute</td>\n      <td>500003412</td>\n      <td>https://disclosures-clerk.house.gov/gtimages/S...</td>\n    </tr>\n    <tr>\n      <th>3</th>\n      <td>M000934</td>\n      <td>111</td>\n      <td>2009-03-12</td>\n      <td>Cambridge, MD</td>\n      <td>Congressional Institute</td>\n      <td>500003433</td>\n      <td>https://disclosures-clerk.house.gov/gtimages/S...</td>\n    </tr>\n    <tr>\n      <th>4</th>\n      <td>M000934</td>\n      <td>111</td>\n      <td>2009-03-12</td>\n      <td>Cambridge, MD</td>\n      <td>The Congressional Institute</td>\n      <td>500002589</td>\n      <td>https://disclosures-clerk.house.gov/gtimages/S...</td>\n    </tr>\n    <tr>\n      <th>...</th>\n      <td>...</td>\n      <td>...</td>\n      <td>...</td>\n      <td>...</td>\n      <td>...</td>\n      <td>...</td>\n      <td>...</td>\n    </tr>\n    <tr>\n      <th>166</th>\n      <td>M001198</td>\n      <td>115</td>\n      <td>2017-08-06</td>\n      <td>Jerusalem, Israel</td>\n      <td>American Israel Education Foundation</td>\n      <td>500018024</td>\n      <td>https://disclosures-clerk.house.gov/gtimages/M...</td>\n    </tr>\n    <tr>\n      <th>167</th>\n      <td>M001198</td>\n      <td>115</td>\n      <td>2017-08-06</td>\n      <td>Tel Aviv, Israel</td>\n      <td>American Israel Education Foundation</td>\n      <td>500018024</td>\n      <td>https://disclosures-clerk.house.gov/gtimages/M...</td>\n    </tr>\n    <tr>\n      <th>168</th>\n      <td>M001198</td>\n      <td>115</td>\n      <td>2017-08-06</td>\n      <td>Tiberias, Israel</td>\n      <td>American Israel Education Foundation</td>\n      <td>500018024</td>\n      <td>https://disclosures-clerk.house.gov/gtimages/M...</td>\n    </tr>\n    <tr>\n      <th>169</th>\n      <td>M001198</td>\n      <td>115</td>\n      <td>2017-03-02</td>\n      <td>Havana, Cuba</td>\n      <td>Center for Democracy in America</td>\n      <td>500017020</td>\n      <td>https://disclosures-clerk.house.gov/gtimages/M...</td>\n    </tr>\n    <tr>\n      <th>170</th>\n      <td>M001198</td>\n      <td>115</td>\n      <td>2017-03-02</td>\n      <td>Miami, FL</td>\n      <td>Center for Democracy in America</td>\n      <td>500017020</td>\n      <td>https://disclosures-clerk.house.gov/gtimages/M...</td>\n    </tr>\n  </tbody>\n</table>\n<p>171 rows × 7 columns</p>\n</div>"
     },
     "execution_count": 99,
     "metadata": {},
     "output_type": "execute_result"
    }
   ],
   "source": [
    "\"\"\"Private Travel\"\"\"\n",
    "member_id_list = []\n",
    "congress_list = []\n",
    "departure_date_list = []\n",
    "destination_list = []\n",
    "sponsor_list = []\n",
    "document_id_list = []\n",
    "document_url_list = []\n",
    "\n",
    "\n",
    "for member in new_ids_list:\n",
    "    url = f'https://api.propublica.org/congress/v1/members/{member}/private-trips.json'\n",
    "    response = requests.get(url, headers=headers)\n",
    "    if 'results' in response.json().keys():\n",
    "        results = response.json()['results']\n",
    "        \n",
    "        for result in results:\n",
    "            member_id_list.append(member)\n",
    "            congress_list.append(result['congress'])\n",
    "            departure_date_list.append(result['departure_date'])\n",
    "            destination_list.append(result['destination'])\n",
    "            sponsor_list.append(result['sponsor'])\n",
    "            document_id_list.append(result['document_id'])\n",
    "            document_url_list.append(result['pdf_url'])\n",
    "    \n",
    "private_travel = pd.DataFrame({'member_id': member_id_list,\n",
    "                               'congress': congress_list,\n",
    "                               'departure_date': departure_date_list,\n",
    "                               'destination': destination_list,\n",
    "                               'sponsor': sponsor_list,\n",
    "                               'document_id': document_id_list,\n",
    "                               'document_url': document_url_list})\n",
    "private_travel"
   ],
   "metadata": {
    "collapsed": false,
    "ExecuteTime": {
     "end_time": "2023-11-30T08:18:13.907727Z",
     "start_time": "2023-11-30T08:17:49.389947Z"
    }
   },
   "id": "dae77b6770d9bef9"
  },
  {
   "cell_type": "code",
   "execution_count": null,
   "outputs": [],
   "source": [],
   "metadata": {
    "collapsed": false
   },
   "id": "264a21fc5afe8ad5"
  },
  {
   "cell_type": "code",
   "execution_count": 47,
   "outputs": [],
   "source": [
    "private_travel.to_csv('../prod_data/private_travel.csv', index=False)"
   ],
   "metadata": {
    "collapsed": false,
    "ExecuteTime": {
     "end_time": "2023-11-29T21:05:12.446118Z",
     "start_time": "2023-11-29T21:05:12.418402Z"
    }
   },
   "id": "a3d22aacb4445b66"
  },
  {
   "cell_type": "code",
   "execution_count": 100,
   "outputs": [],
   "source": [
    "travel = pd.read_csv('../prod_data/private_travel.csv')\n",
    "\n",
    "final_travel = pd.concat([travel, private_travel])\n",
    "\n",
    "final_travel.to_csv('../prod_data/private_travel.csv', index=False)"
   ],
   "metadata": {
    "collapsed": false,
    "ExecuteTime": {
     "end_time": "2023-11-30T08:18:49.344618Z",
     "start_time": "2023-11-30T08:18:49.290768Z"
    }
   },
   "id": "30f6c630140a8a3a"
  },
  {
   "cell_type": "code",
   "execution_count": null,
   "outputs": [],
   "source": [],
   "metadata": {
    "collapsed": false
   },
   "id": "804ffe276bfa9928"
  }
 ],
 "metadata": {
  "kernelspec": {
   "display_name": "Python 3",
   "language": "python",
   "name": "python3"
  },
  "language_info": {
   "codemirror_mode": {
    "name": "ipython",
    "version": 2
   },
   "file_extension": ".py",
   "mimetype": "text/x-python",
   "name": "python",
   "nbconvert_exporter": "python",
   "pygments_lexer": "ipython2",
   "version": "2.7.6"
  }
 },
 "nbformat": 4,
 "nbformat_minor": 5
}
