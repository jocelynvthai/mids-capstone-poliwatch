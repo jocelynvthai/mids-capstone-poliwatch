{
 "cells": [
  {
   "cell_type": "code",
   "execution_count": 42,
   "id": "initial_id",
   "metadata": {
    "collapsed": true,
    "ExecuteTime": {
     "end_time": "2023-11-30T21:45:22.871143Z",
     "start_time": "2023-11-30T21:45:22.855412Z"
    }
   },
   "outputs": [],
   "source": [
    "import pandas as pd\n",
    "import nameparser\n",
    "import json\n",
    "import requests\n",
    "import numpy as np\n",
    "\n",
    "pro_publica_api_key = \"PguHImFJakafbsBpZ2ed21A1HIgvXKiM7tg0BqI0 \"\n",
    "headers = {'X-API-Key': pro_publica_api_key}"
   ]
  },
  {
   "cell_type": "code",
   "execution_count": 54,
   "outputs": [
    {
     "data": {
      "text/plain": "      bill_slug member_id  bill_congress\n20        s1194   C000174            118\n21      sres143   C000174            118\n22         s654   C000174            118\n23       sres33   C000174            118\n24          s51   C000174            118\n...         ...       ...            ...\n18635    hr1715   M001222            118\n18636    hres76   M001222            118\n18641    hr2597   J000308            118\n18650    hr2810   T000488            118\n18651     hr306   T000488            118\n\n[14799 rows x 3 columns]",
      "text/html": "<div>\n<style scoped>\n    .dataframe tbody tr th:only-of-type {\n        vertical-align: middle;\n    }\n\n    .dataframe tbody tr th {\n        vertical-align: top;\n    }\n\n    .dataframe thead th {\n        text-align: right;\n    }\n</style>\n<table border=\"1\" class=\"dataframe\">\n  <thead>\n    <tr style=\"text-align: right;\">\n      <th></th>\n      <th>bill_slug</th>\n      <th>member_id</th>\n      <th>bill_congress</th>\n    </tr>\n  </thead>\n  <tbody>\n    <tr>\n      <th>20</th>\n      <td>s1194</td>\n      <td>C000174</td>\n      <td>118</td>\n    </tr>\n    <tr>\n      <th>21</th>\n      <td>sres143</td>\n      <td>C000174</td>\n      <td>118</td>\n    </tr>\n    <tr>\n      <th>22</th>\n      <td>s654</td>\n      <td>C000174</td>\n      <td>118</td>\n    </tr>\n    <tr>\n      <th>23</th>\n      <td>sres33</td>\n      <td>C000174</td>\n      <td>118</td>\n    </tr>\n    <tr>\n      <th>24</th>\n      <td>s51</td>\n      <td>C000174</td>\n      <td>118</td>\n    </tr>\n    <tr>\n      <th>...</th>\n      <td>...</td>\n      <td>...</td>\n      <td>...</td>\n    </tr>\n    <tr>\n      <th>18635</th>\n      <td>hr1715</td>\n      <td>M001222</td>\n      <td>118</td>\n    </tr>\n    <tr>\n      <th>18636</th>\n      <td>hres76</td>\n      <td>M001222</td>\n      <td>118</td>\n    </tr>\n    <tr>\n      <th>18641</th>\n      <td>hr2597</td>\n      <td>J000308</td>\n      <td>118</td>\n    </tr>\n    <tr>\n      <th>18650</th>\n      <td>hr2810</td>\n      <td>T000488</td>\n      <td>118</td>\n    </tr>\n    <tr>\n      <th>18651</th>\n      <td>hr306</td>\n      <td>T000488</td>\n      <td>118</td>\n    </tr>\n  </tbody>\n</table>\n<p>14799 rows × 3 columns</p>\n</div>"
     },
     "execution_count": 54,
     "metadata": {},
     "output_type": "execute_result"
    }
   ],
   "source": [
    "bills = pd.read_csv('../prod_data/member_bills.csv')\n",
    "bills['bill_intro_date'] = pd.to_datetime(bills['bill_intro_date'])\n",
    "bills = bills[(bills['bill_intro_date'] > '2019-01-01') & (bills['bill_intro_date'] < '2023-05-03')]\n",
    "\n",
    "bills_id = bills[['bill_slug','member_id', 'bill_congress']]\n",
    "\n",
    "bills_id"
   ],
   "metadata": {
    "collapsed": false,
    "ExecuteTime": {
     "end_time": "2023-11-30T21:48:52.587682Z",
     "start_time": "2023-11-30T21:48:52.407364Z"
    }
   },
   "id": "8068e0688bba243f"
  },
  {
   "cell_type": "code",
   "execution_count": 56,
   "outputs": [
    {
     "data": {
      "text/plain": "     related_bill_id                                 related_bill_title  \\\n0         hr6056-118  To direct the Secretary of Defense to submit t...   \n1         hr5997-118  To require the Secretary of Energy to further ...   \n2         hr5720-118  To assist trafficking survivors who lack gover...   \n3         hr5645-118  To establish a matched savings program for low...   \n4         hr5598-118  To amend the SUPPORT for Patients and Communit...   \n...              ...                                                ...   \n4897      hr3155-118  To amend title 18, United States Code, to proh...   \n4898      hr4073-118  To amend the Harmonized Tariff Schedule of the...   \n4899      hres76-118  Removing a certain Member from a certain stand...   \n4900      hr2597-118  To authorize members of reserve components of ...   \n4901      hr4661-118  To require the Director of the Office of Entre...   \n\n     related_bill_introduction_date bill_slug  bill_congress member_id  \n0                        2023-10-25    hr6056            118   L000590  \n1                        2023-10-19    hr5997            118   L000590  \n2                        2023-09-26    hr5720            118   L000590  \n3                        2023-09-21    hr5645            118   L000590  \n4                        2023-09-20    hr5598            118   L000590  \n...                             ...       ...            ...       ...  \n4897                     2023-05-09    hr3155            118   M001217  \n4898                     2023-06-13    hr4073            118   M001220  \n4899                     2023-01-31    hres76            118   M001222  \n4900                     2023-04-13    hr2597            118   J000308  \n4901                     2023-07-14    hr4661            118   T000488  \n\n[4902 rows x 6 columns]",
      "text/html": "<div>\n<style scoped>\n    .dataframe tbody tr th:only-of-type {\n        vertical-align: middle;\n    }\n\n    .dataframe tbody tr th {\n        vertical-align: top;\n    }\n\n    .dataframe thead th {\n        text-align: right;\n    }\n</style>\n<table border=\"1\" class=\"dataframe\">\n  <thead>\n    <tr style=\"text-align: right;\">\n      <th></th>\n      <th>related_bill_id</th>\n      <th>related_bill_title</th>\n      <th>related_bill_introduction_date</th>\n      <th>bill_slug</th>\n      <th>bill_congress</th>\n      <th>member_id</th>\n    </tr>\n  </thead>\n  <tbody>\n    <tr>\n      <th>0</th>\n      <td>hr6056-118</td>\n      <td>To direct the Secretary of Defense to submit t...</td>\n      <td>2023-10-25</td>\n      <td>hr6056</td>\n      <td>118</td>\n      <td>L000590</td>\n    </tr>\n    <tr>\n      <th>1</th>\n      <td>hr5997-118</td>\n      <td>To require the Secretary of Energy to further ...</td>\n      <td>2023-10-19</td>\n      <td>hr5997</td>\n      <td>118</td>\n      <td>L000590</td>\n    </tr>\n    <tr>\n      <th>2</th>\n      <td>hr5720-118</td>\n      <td>To assist trafficking survivors who lack gover...</td>\n      <td>2023-09-26</td>\n      <td>hr5720</td>\n      <td>118</td>\n      <td>L000590</td>\n    </tr>\n    <tr>\n      <th>3</th>\n      <td>hr5645-118</td>\n      <td>To establish a matched savings program for low...</td>\n      <td>2023-09-21</td>\n      <td>hr5645</td>\n      <td>118</td>\n      <td>L000590</td>\n    </tr>\n    <tr>\n      <th>4</th>\n      <td>hr5598-118</td>\n      <td>To amend the SUPPORT for Patients and Communit...</td>\n      <td>2023-09-20</td>\n      <td>hr5598</td>\n      <td>118</td>\n      <td>L000590</td>\n    </tr>\n    <tr>\n      <th>...</th>\n      <td>...</td>\n      <td>...</td>\n      <td>...</td>\n      <td>...</td>\n      <td>...</td>\n      <td>...</td>\n    </tr>\n    <tr>\n      <th>4897</th>\n      <td>hr3155-118</td>\n      <td>To amend title 18, United States Code, to proh...</td>\n      <td>2023-05-09</td>\n      <td>hr3155</td>\n      <td>118</td>\n      <td>M001217</td>\n    </tr>\n    <tr>\n      <th>4898</th>\n      <td>hr4073-118</td>\n      <td>To amend the Harmonized Tariff Schedule of the...</td>\n      <td>2023-06-13</td>\n      <td>hr4073</td>\n      <td>118</td>\n      <td>M001220</td>\n    </tr>\n    <tr>\n      <th>4899</th>\n      <td>hres76-118</td>\n      <td>Removing a certain Member from a certain stand...</td>\n      <td>2023-01-31</td>\n      <td>hres76</td>\n      <td>118</td>\n      <td>M001222</td>\n    </tr>\n    <tr>\n      <th>4900</th>\n      <td>hr2597-118</td>\n      <td>To authorize members of reserve components of ...</td>\n      <td>2023-04-13</td>\n      <td>hr2597</td>\n      <td>118</td>\n      <td>J000308</td>\n    </tr>\n    <tr>\n      <th>4901</th>\n      <td>hr4661-118</td>\n      <td>To require the Director of the Office of Entre...</td>\n      <td>2023-07-14</td>\n      <td>hr4661</td>\n      <td>118</td>\n      <td>T000488</td>\n    </tr>\n  </tbody>\n</table>\n<p>4902 rows × 6 columns</p>\n</div>"
     },
     "execution_count": 56,
     "metadata": {},
     "output_type": "execute_result"
    }
   ],
   "source": [
    "related_bills_old = pd.read_csv('../prod_data/related_bills.csv')\n",
    "related_bills_old\n"
   ],
   "metadata": {
    "collapsed": false,
    "ExecuteTime": {
     "end_time": "2023-11-30T21:49:16.111820Z",
     "start_time": "2023-11-30T21:49:16.059210Z"
    }
   },
   "id": "48cbf5396665cc43"
  },
  {
   "cell_type": "code",
   "execution_count": 57,
   "outputs": [
    {
     "data": {
      "text/plain": "     related_bill_id                                 related_bill_title  \\\n0            s51-118  A bill to provide for the admission of the Sta...   \n1          s5106-117  A bill to amend title XVIII of the Social Secu...   \n2          s5011-117  A bill to amend title XIX of the Social Securi...   \n3      sconres46-117  A concurrent resolution commemorating the 50th...   \n4          s4194-117  A bill to amend the Fish and Wildlife Act of 1...   \n...              ...                                                ...   \n4656        s147-116  A bill to amend title 31, United States Code, ...   \n4657        s148-116  A bill to require a full audit of the Board of...   \n4658        s158-116  A bill to prohibit Federal funding of Planned ...   \n4659        s159-116  A bill to implement equal protection under the...   \n4660         s92-116  A bill to amend chapter 8 of title 5, United S...   \n\n     related_bill_introduction_date  bill_slug  bill_congress  \n0                        2023-01-24        s51            118  \n1                        2022-11-16      s5106            117  \n2                        2022-09-29      s5011            117  \n3                        2022-09-29  sconres46            117  \n4                        2022-05-12      s4194            117  \n...                             ...        ...            ...  \n4656                     2019-01-16       s147            116  \n4657                     2019-01-16       s148            116  \n4658                     2019-01-16       s158            116  \n4659                     2019-01-16       s159            116  \n4660                     2019-01-10        s92            116  \n\n[4661 rows x 5 columns]",
      "text/html": "<div>\n<style scoped>\n    .dataframe tbody tr th:only-of-type {\n        vertical-align: middle;\n    }\n\n    .dataframe tbody tr th {\n        vertical-align: top;\n    }\n\n    .dataframe thead th {\n        text-align: right;\n    }\n</style>\n<table border=\"1\" class=\"dataframe\">\n  <thead>\n    <tr style=\"text-align: right;\">\n      <th></th>\n      <th>related_bill_id</th>\n      <th>related_bill_title</th>\n      <th>related_bill_introduction_date</th>\n      <th>bill_slug</th>\n      <th>bill_congress</th>\n    </tr>\n  </thead>\n  <tbody>\n    <tr>\n      <th>0</th>\n      <td>s51-118</td>\n      <td>A bill to provide for the admission of the Sta...</td>\n      <td>2023-01-24</td>\n      <td>s51</td>\n      <td>118</td>\n    </tr>\n    <tr>\n      <th>1</th>\n      <td>s5106-117</td>\n      <td>A bill to amend title XVIII of the Social Secu...</td>\n      <td>2022-11-16</td>\n      <td>s5106</td>\n      <td>117</td>\n    </tr>\n    <tr>\n      <th>2</th>\n      <td>s5011-117</td>\n      <td>A bill to amend title XIX of the Social Securi...</td>\n      <td>2022-09-29</td>\n      <td>s5011</td>\n      <td>117</td>\n    </tr>\n    <tr>\n      <th>3</th>\n      <td>sconres46-117</td>\n      <td>A concurrent resolution commemorating the 50th...</td>\n      <td>2022-09-29</td>\n      <td>sconres46</td>\n      <td>117</td>\n    </tr>\n    <tr>\n      <th>4</th>\n      <td>s4194-117</td>\n      <td>A bill to amend the Fish and Wildlife Act of 1...</td>\n      <td>2022-05-12</td>\n      <td>s4194</td>\n      <td>117</td>\n    </tr>\n    <tr>\n      <th>...</th>\n      <td>...</td>\n      <td>...</td>\n      <td>...</td>\n      <td>...</td>\n      <td>...</td>\n    </tr>\n    <tr>\n      <th>4656</th>\n      <td>s147-116</td>\n      <td>A bill to amend title 31, United States Code, ...</td>\n      <td>2019-01-16</td>\n      <td>s147</td>\n      <td>116</td>\n    </tr>\n    <tr>\n      <th>4657</th>\n      <td>s148-116</td>\n      <td>A bill to require a full audit of the Board of...</td>\n      <td>2019-01-16</td>\n      <td>s148</td>\n      <td>116</td>\n    </tr>\n    <tr>\n      <th>4658</th>\n      <td>s158-116</td>\n      <td>A bill to prohibit Federal funding of Planned ...</td>\n      <td>2019-01-16</td>\n      <td>s158</td>\n      <td>116</td>\n    </tr>\n    <tr>\n      <th>4659</th>\n      <td>s159-116</td>\n      <td>A bill to implement equal protection under the...</td>\n      <td>2019-01-16</td>\n      <td>s159</td>\n      <td>116</td>\n    </tr>\n    <tr>\n      <th>4660</th>\n      <td>s92-116</td>\n      <td>A bill to amend chapter 8 of title 5, United S...</td>\n      <td>2019-01-10</td>\n      <td>s92</td>\n      <td>116</td>\n    </tr>\n  </tbody>\n</table>\n<p>4661 rows × 5 columns</p>\n</div>"
     },
     "execution_count": 57,
     "metadata": {},
     "output_type": "execute_result"
    }
   ],
   "source": [
    "related_bills_cache = pd.read_csv('related_bills.csv')\n",
    "\n",
    "related_bills_cache"
   ],
   "metadata": {
    "collapsed": false,
    "ExecuteTime": {
     "end_time": "2023-11-30T21:49:16.869849Z",
     "start_time": "2023-11-30T21:49:16.812274Z"
    }
   },
   "id": "7e3d441ad8e069c0"
  },
  {
   "cell_type": "code",
   "execution_count": 59,
   "outputs": [],
   "source": [
    "related_bills_cache= related_bills_cache.merge(bills_id, how='left', on=['bill_slug', 'bill_congress'])"
   ],
   "metadata": {
    "collapsed": false,
    "ExecuteTime": {
     "end_time": "2023-11-30T21:49:39.073998Z",
     "start_time": "2023-11-30T21:49:39.054088Z"
    }
   },
   "id": "24a135b92704f7f6"
  },
  {
   "cell_type": "code",
   "execution_count": 61,
   "outputs": [],
   "source": [
    "related_bills_final = pd.concat([related_bills_old, related_bills_cache])\n",
    "\n",
    "related_bills_final.to_csv('../prod_data/related_bills.csv', index=False)"
   ],
   "metadata": {
    "collapsed": false,
    "ExecuteTime": {
     "end_time": "2023-11-30T21:49:58.473769Z",
     "start_time": "2023-11-30T21:49:58.404621Z"
    }
   },
   "id": "6cb772eda5555c29"
  },
  {
   "cell_type": "code",
   "execution_count": 39,
   "outputs": [
    {
     "data": {
      "text/plain": "       bill_congress      bill_id  \\\n20               118    s1194-118   \n21               118  sres143-118   \n22               118     s654-118   \n23               118   sres33-118   \n24               118      s51-118   \n...              ...          ...   \n18598            116   hr4076-116   \n18634            118  hres352-118   \n18635            118   hr1715-118   \n18650            118   hr2810-118   \n18651            118    hr306-118   \n\n                                              bill_title bill_intro_date  \\\n20     A bill to require the Administrator of the Env...      2023-04-19   \n21     A resolution expressing support for the design...      2023-03-30   \n22     A bill to amend the Water Infrastructure Impro...      2023-03-06   \n23     An original resolution authorizing expenditure...      2023-02-07   \n24     A bill to provide for the admission of the Sta...      2023-01-24   \n...                                                  ...             ...   \n18598  To require the Securities and Exchange Commiss...      2019-07-25   \n18634  Expressing the sense of the House of Represent...      2023-05-02   \n18635  To direct the Department of Energy and the Nat...      2023-03-22   \n18650  To designate the Federal building located at 9...      2023-04-24   \n18651  To amend title 11 of the United States Code to...      2023-01-11   \n\n      member_id                                       bill_summary  \\\n20      C000174                                                NaN   \n21      C000174                                                NaN   \n22      C000174                                                NaN   \n23      C000174                                                NaN   \n24      C000174                                                NaN   \n...         ...                                                ...   \n18598   W000812  Modernizing Disclosures for Investors Act This...   \n18634   M001222                                                NaN   \n18635   M001222                                                NaN   \n18650   T000488                                                NaN   \n18651   T000488                                                NaN   \n\n                                                bill_url bill_slug  \n20     https://www.congress.gov/bill/118th-congress/s...     s1194  \n21     https://www.congress.gov/bill/118th-congress/s...   sres143  \n22     https://www.congress.gov/bill/118th-congress/s...      s654  \n23     https://www.congress.gov/bill/118th-congress/s...    sres33  \n24     https://www.congress.gov/bill/118th-congress/s...       s51  \n...                                                  ...       ...  \n18598  https://www.congress.gov/bill/116th-congress/h...    hr4076  \n18634  https://www.congress.gov/bill/118th-congress/h...   hres352  \n18635  https://www.congress.gov/bill/118th-congress/h...    hr1715  \n18650  https://www.congress.gov/bill/118th-congress/h...    hr2810  \n18651  https://www.congress.gov/bill/118th-congress/h...     hr306  \n\n[9860 rows x 8 columns]",
      "text/html": "<div>\n<style scoped>\n    .dataframe tbody tr th:only-of-type {\n        vertical-align: middle;\n    }\n\n    .dataframe tbody tr th {\n        vertical-align: top;\n    }\n\n    .dataframe thead th {\n        text-align: right;\n    }\n</style>\n<table border=\"1\" class=\"dataframe\">\n  <thead>\n    <tr style=\"text-align: right;\">\n      <th></th>\n      <th>bill_congress</th>\n      <th>bill_id</th>\n      <th>bill_title</th>\n      <th>bill_intro_date</th>\n      <th>member_id</th>\n      <th>bill_summary</th>\n      <th>bill_url</th>\n      <th>bill_slug</th>\n    </tr>\n  </thead>\n  <tbody>\n    <tr>\n      <th>20</th>\n      <td>118</td>\n      <td>s1194-118</td>\n      <td>A bill to require the Administrator of the Env...</td>\n      <td>2023-04-19</td>\n      <td>C000174</td>\n      <td>NaN</td>\n      <td>https://www.congress.gov/bill/118th-congress/s...</td>\n      <td>s1194</td>\n    </tr>\n    <tr>\n      <th>21</th>\n      <td>118</td>\n      <td>sres143-118</td>\n      <td>A resolution expressing support for the design...</td>\n      <td>2023-03-30</td>\n      <td>C000174</td>\n      <td>NaN</td>\n      <td>https://www.congress.gov/bill/118th-congress/s...</td>\n      <td>sres143</td>\n    </tr>\n    <tr>\n      <th>22</th>\n      <td>118</td>\n      <td>s654-118</td>\n      <td>A bill to amend the Water Infrastructure Impro...</td>\n      <td>2023-03-06</td>\n      <td>C000174</td>\n      <td>NaN</td>\n      <td>https://www.congress.gov/bill/118th-congress/s...</td>\n      <td>s654</td>\n    </tr>\n    <tr>\n      <th>23</th>\n      <td>118</td>\n      <td>sres33-118</td>\n      <td>An original resolution authorizing expenditure...</td>\n      <td>2023-02-07</td>\n      <td>C000174</td>\n      <td>NaN</td>\n      <td>https://www.congress.gov/bill/118th-congress/s...</td>\n      <td>sres33</td>\n    </tr>\n    <tr>\n      <th>24</th>\n      <td>118</td>\n      <td>s51-118</td>\n      <td>A bill to provide for the admission of the Sta...</td>\n      <td>2023-01-24</td>\n      <td>C000174</td>\n      <td>NaN</td>\n      <td>https://www.congress.gov/bill/118th-congress/s...</td>\n      <td>s51</td>\n    </tr>\n    <tr>\n      <th>...</th>\n      <td>...</td>\n      <td>...</td>\n      <td>...</td>\n      <td>...</td>\n      <td>...</td>\n      <td>...</td>\n      <td>...</td>\n      <td>...</td>\n    </tr>\n    <tr>\n      <th>18598</th>\n      <td>116</td>\n      <td>hr4076-116</td>\n      <td>To require the Securities and Exchange Commiss...</td>\n      <td>2019-07-25</td>\n      <td>W000812</td>\n      <td>Modernizing Disclosures for Investors Act This...</td>\n      <td>https://www.congress.gov/bill/116th-congress/h...</td>\n      <td>hr4076</td>\n    </tr>\n    <tr>\n      <th>18634</th>\n      <td>118</td>\n      <td>hres352-118</td>\n      <td>Expressing the sense of the House of Represent...</td>\n      <td>2023-05-02</td>\n      <td>M001222</td>\n      <td>NaN</td>\n      <td>https://www.congress.gov/bill/118th-congress/h...</td>\n      <td>hres352</td>\n    </tr>\n    <tr>\n      <th>18635</th>\n      <td>118</td>\n      <td>hr1715-118</td>\n      <td>To direct the Department of Energy and the Nat...</td>\n      <td>2023-03-22</td>\n      <td>M001222</td>\n      <td>NaN</td>\n      <td>https://www.congress.gov/bill/118th-congress/h...</td>\n      <td>hr1715</td>\n    </tr>\n    <tr>\n      <th>18650</th>\n      <td>118</td>\n      <td>hr2810-118</td>\n      <td>To designate the Federal building located at 9...</td>\n      <td>2023-04-24</td>\n      <td>T000488</td>\n      <td>NaN</td>\n      <td>https://www.congress.gov/bill/118th-congress/h...</td>\n      <td>hr2810</td>\n    </tr>\n    <tr>\n      <th>18651</th>\n      <td>118</td>\n      <td>hr306-118</td>\n      <td>To amend title 11 of the United States Code to...</td>\n      <td>2023-01-11</td>\n      <td>T000488</td>\n      <td>NaN</td>\n      <td>https://www.congress.gov/bill/118th-congress/h...</td>\n      <td>hr306</td>\n    </tr>\n  </tbody>\n</table>\n<p>9860 rows × 8 columns</p>\n</div>"
     },
     "execution_count": 39,
     "metadata": {},
     "output_type": "execute_result"
    }
   ],
   "source": [
    "bills_covered = related_bills_old['bill_slug'].unique()\n",
    "\n",
    "bills_of_interest = bills[~bills['bill_slug'].isin(bills_covered)]\n",
    "\n",
    "bills_of_interest"
   ],
   "metadata": {
    "collapsed": false,
    "ExecuteTime": {
     "end_time": "2023-11-30T20:04:29.425189Z",
     "start_time": "2023-11-30T20:04:29.373657Z"
    }
   },
   "id": "4d898d19cac1e940"
  },
  {
   "cell_type": "code",
   "execution_count": 40,
   "outputs": [
    {
     "name": "stdout",
     "output_type": "stream",
     "text": [
      "Saved 30 records\n",
      "Saved 60 records\n",
      "Saved 90 records\n",
      "Saved 120 records\n",
      "Saved 150 records\n",
      "Saved 180 records\n",
      "Saved 210 records\n",
      "Saved 240 records\n",
      "Saved 270 records\n",
      "Saved 300 records\n",
      "Saved 330 records\n",
      "Saved 360 records\n",
      "Saved 390 records\n",
      "Saved 420 records\n",
      "Saved 450 records\n",
      "Saved 480 records\n",
      "Saved 510 records\n",
      "Saved 540 records\n",
      "Saved 570 records\n",
      "Saved 600 records\n",
      "Saved 630 records\n",
      "Saved 660 records\n",
      "Saved 690 records\n",
      "Saved 720 records\n",
      "Saved 750 records\n",
      "Saved 780 records\n",
      "Saved 810 records\n",
      "Saved 840 records\n",
      "Saved 870 records\n",
      "Saved 900 records\n",
      "Saved 930 records\n",
      "Saved 960 records\n",
      "Saved 990 records\n",
      "Saved 1020 records\n",
      "Saved 1050 records\n",
      "Saved 1080 records\n",
      "Saved 1110 records\n",
      "Saved 1140 records\n",
      "Saved 1170 records\n",
      "Saved 1200 records\n",
      "Saved 1230 records\n",
      "Saved 1260 records\n",
      "Saved 1290 records\n",
      "Saved 1320 records\n",
      "Saved 1350 records\n",
      "Saved 1380 records\n",
      "Saved 1410 records\n",
      "Saved 1440 records\n",
      "Saved 1470 records\n",
      "Saved 1500 records\n",
      "Saved 1530 records\n",
      "Saved 1560 records\n",
      "Saved 1590 records\n",
      "Saved 1620 records\n",
      "Saved 1650 records\n",
      "Saved 1680 records\n",
      "Saved 1710 records\n",
      "Saved 1740 records\n",
      "Saved 1770 records\n",
      "Saved 1800 records\n",
      "Saved 1830 records\n",
      "Saved 1860 records\n",
      "Saved 1890 records\n",
      "Saved 1920 records\n",
      "Saved 1950 records\n",
      "Saved 1980 records\n",
      "Saved 2010 records\n",
      "Saved 2040 records\n",
      "Saved 2070 records\n",
      "Saved 2100 records\n",
      "Saved 2130 records\n",
      "Saved 2160 records\n",
      "Saved 2190 records\n",
      "Saved 2220 records\n",
      "Saved 2250 records\n",
      "Saved 2280 records\n",
      "Saved 2310 records\n",
      "Saved 2340 records\n",
      "Saved 2370 records\n",
      "Saved 2400 records\n",
      "Saved 2430 records\n",
      "Saved 2460 records\n",
      "Saved 2490 records\n",
      "Saved 2520 records\n",
      "Saved 2550 records\n",
      "Saved 2580 records\n",
      "Saved 2610 records\n",
      "Saved 2640 records\n",
      "Saved 2670 records\n",
      "Saved 2700 records\n",
      "Saved 2730 records\n",
      "Saved 2760 records\n",
      "Saved 2790 records\n",
      "Saved 2820 records\n",
      "Saved 2850 records\n",
      "Saved 2880 records\n",
      "Saved 2910 records\n",
      "Saved 2940 records\n",
      "Saved 2970 records\n",
      "Saved 3000 records\n",
      "Saved 3030 records\n",
      "Saved 3060 records\n",
      "Saved 3090 records\n",
      "Saved 3120 records\n",
      "Saved 3150 records\n",
      "Saved 3180 records\n",
      "Saved 3210 records\n",
      "Saved 3240 records\n",
      "Saved 3270 records\n",
      "Saved 3300 records\n",
      "Saved 3330 records\n",
      "Saved 3360 records\n",
      "Saved 3390 records\n",
      "Saved 3420 records\n",
      "Saved 3450 records\n",
      "Saved 3480 records\n",
      "Saved 3510 records\n",
      "Saved 3540 records\n",
      "Saved 3570 records\n",
      "Saved 3600 records\n",
      "Saved 3630 records\n",
      "Saved 3660 records\n",
      "Saved 3690 records\n",
      "Saved 3720 records\n",
      "Saved 3750 records\n",
      "Saved 3780 records\n",
      "Saved 3810 records\n",
      "Saved 3840 records\n",
      "Saved 3870 records\n",
      "Saved 3900 records\n",
      "Saved 3930 records\n",
      "Saved 3960 records\n",
      "Saved 3990 records\n",
      "Saved 4020 records\n",
      "Saved 4050 records\n",
      "Saved 4080 records\n",
      "Saved 4110 records\n",
      "Saved 4140 records\n",
      "Saved 4170 records\n",
      "Saved 4200 records\n",
      "Saved 4230 records\n",
      "Saved 4260 records\n",
      "Saved 4290 records\n",
      "Saved 4320 records\n",
      "Saved 4350 records\n",
      "Saved 4380 records\n",
      "Saved 4410 records\n",
      "Saved 4440 records\n",
      "Saved 4470 records\n",
      "Saved 4500 records\n",
      "Saved 4530 records\n",
      "Saved 4560 records\n",
      "Saved 4590 records\n",
      "Saved 4620 records\n",
      "Saved 4650 records\n",
      "Saved 4680 records\n",
      "Saved 4710 records\n",
      "Saved 4740 records\n",
      "Saved 4770 records\n",
      "Saved 4800 records\n",
      "Saved 4830 records\n",
      "Saved 4860 records\n",
      "Saved 4890 records\n",
      "Saved 4920 records\n",
      "Saved 4950 records\n",
      "Saved 4980 records\n",
      "Saved 5010 records\n",
      "Saved 5040 records\n",
      "Saved 5070 records\n",
      "Saved 5100 records\n",
      "Saved 5130 records\n",
      "Saved 5160 records\n",
      "Saved 5190 records\n",
      "Saved 5220 records\n",
      "Saved 5250 records\n",
      "Saved 5280 records\n",
      "Saved 5310 records\n",
      "Saved 5340 records\n",
      "Saved 5370 records\n",
      "Saved 5400 records\n",
      "Saved 5430 records\n",
      "Saved 5460 records\n",
      "Saved 5490 records\n",
      "Saved 5520 records\n",
      "Saved 5550 records\n",
      "Saved 5580 records\n",
      "Saved 5610 records\n",
      "Saved 5640 records\n",
      "Saved 5670 records\n",
      "Saved 5700 records\n",
      "Saved 5730 records\n",
      "Saved 5760 records\n",
      "Saved 5790 records\n",
      "Saved 5820 records\n",
      "Saved 5850 records\n",
      "Saved 5880 records\n",
      "Saved 5910 records\n",
      "Saved 5940 records\n",
      "Saved 5970 records\n",
      "Saved 6000 records\n",
      "Saved 6030 records\n",
      "Saved 6060 records\n",
      "Saved 6090 records\n",
      "Saved 6120 records\n",
      "Saved 6150 records\n",
      "Saved 6180 records\n",
      "Saved 6210 records\n",
      "Saved 6240 records\n",
      "Saved 6270 records\n",
      "Saved 6300 records\n",
      "Saved 6330 records\n",
      "Saved 6360 records\n",
      "Saved 6390 records\n",
      "Saved 6420 records\n",
      "Saved 6450 records\n",
      "Saved 6480 records\n",
      "Saved 6510 records\n",
      "Saved 6540 records\n",
      "Saved 6570 records\n",
      "Saved 6600 records\n",
      "Saved 6630 records\n",
      "Saved 6660 records\n",
      "Saved 6690 records\n",
      "Saved 6720 records\n",
      "Saved 6750 records\n",
      "Saved 6780 records\n",
      "Saved 6810 records\n",
      "Saved 6840 records\n",
      "Saved 6870 records\n",
      "Saved 6900 records\n",
      "Saved 6930 records\n",
      "Saved 6960 records\n",
      "Saved 6990 records\n",
      "Saved 7020 records\n",
      "Saved 7050 records\n"
     ]
    },
    {
     "ename": "KeyboardInterrupt",
     "evalue": "",
     "output_type": "error",
     "traceback": [
      "\u001B[0;31m---------------------------------------------------------------------------\u001B[0m",
      "\u001B[0;31mKeyboardInterrupt\u001B[0m                         Traceback (most recent call last)",
      "\u001B[0;32m/var/folders/x8/h5h7bn_54gncqkrgpt4wmclc0000gn/T/ipykernel_32090/1724369929.py\u001B[0m in \u001B[0;36m<cell line: 8>\u001B[0;34m()\u001B[0m\n\u001B[1;32m     13\u001B[0m \u001B[0;34m\u001B[0m\u001B[0m\n\u001B[1;32m     14\u001B[0m     \u001B[0murl\u001B[0m \u001B[0;34m=\u001B[0m \u001B[0;34mf\"https://api.propublica.org/congress/v1/{congress}/bills/{bill_id}/related.json\"\u001B[0m\u001B[0;34m\u001B[0m\u001B[0;34m\u001B[0m\u001B[0m\n\u001B[0;32m---> 15\u001B[0;31m     \u001B[0mresponse\u001B[0m \u001B[0;34m=\u001B[0m \u001B[0mrequests\u001B[0m\u001B[0;34m.\u001B[0m\u001B[0mget\u001B[0m\u001B[0;34m(\u001B[0m\u001B[0murl\u001B[0m\u001B[0;34m,\u001B[0m \u001B[0mheaders\u001B[0m\u001B[0;34m=\u001B[0m\u001B[0mheaders\u001B[0m\u001B[0;34m)\u001B[0m\u001B[0;34m\u001B[0m\u001B[0;34m\u001B[0m\u001B[0m\n\u001B[0m\u001B[1;32m     16\u001B[0m     \u001B[0;32mif\u001B[0m \u001B[0;34m'results'\u001B[0m \u001B[0;32min\u001B[0m \u001B[0mresponse\u001B[0m\u001B[0;34m.\u001B[0m\u001B[0mjson\u001B[0m\u001B[0;34m(\u001B[0m\u001B[0;34m)\u001B[0m\u001B[0;34m:\u001B[0m\u001B[0;34m\u001B[0m\u001B[0;34m\u001B[0m\u001B[0m\n\u001B[1;32m     17\u001B[0m         \u001B[0;32mif\u001B[0m \u001B[0mresponse\u001B[0m\u001B[0;34m.\u001B[0m\u001B[0mjson\u001B[0m\u001B[0;34m(\u001B[0m\u001B[0;34m)\u001B[0m\u001B[0;34m[\u001B[0m\u001B[0;34m'num_results'\u001B[0m\u001B[0;34m]\u001B[0m \u001B[0;34m>\u001B[0m\u001B[0;36m0\u001B[0m\u001B[0;34m:\u001B[0m\u001B[0;34m\u001B[0m\u001B[0;34m\u001B[0m\u001B[0m\n",
      "\u001B[0;32m~/opt/anaconda3/lib/python3.8/site-packages/requests/api.py\u001B[0m in \u001B[0;36mget\u001B[0;34m(url, params, **kwargs)\u001B[0m\n\u001B[1;32m     71\u001B[0m     \"\"\"\n\u001B[1;32m     72\u001B[0m \u001B[0;34m\u001B[0m\u001B[0m\n\u001B[0;32m---> 73\u001B[0;31m     \u001B[0;32mreturn\u001B[0m \u001B[0mrequest\u001B[0m\u001B[0;34m(\u001B[0m\u001B[0;34m\"get\"\u001B[0m\u001B[0;34m,\u001B[0m \u001B[0murl\u001B[0m\u001B[0;34m,\u001B[0m \u001B[0mparams\u001B[0m\u001B[0;34m=\u001B[0m\u001B[0mparams\u001B[0m\u001B[0;34m,\u001B[0m \u001B[0;34m**\u001B[0m\u001B[0mkwargs\u001B[0m\u001B[0;34m)\u001B[0m\u001B[0;34m\u001B[0m\u001B[0;34m\u001B[0m\u001B[0m\n\u001B[0m\u001B[1;32m     74\u001B[0m \u001B[0;34m\u001B[0m\u001B[0m\n\u001B[1;32m     75\u001B[0m \u001B[0;34m\u001B[0m\u001B[0m\n",
      "\u001B[0;32m~/opt/anaconda3/lib/python3.8/site-packages/requests/api.py\u001B[0m in \u001B[0;36mrequest\u001B[0;34m(method, url, **kwargs)\u001B[0m\n\u001B[1;32m     57\u001B[0m     \u001B[0;31m# cases, and look like a memory leak in others.\u001B[0m\u001B[0;34m\u001B[0m\u001B[0;34m\u001B[0m\u001B[0;34m\u001B[0m\u001B[0m\n\u001B[1;32m     58\u001B[0m     \u001B[0;32mwith\u001B[0m \u001B[0msessions\u001B[0m\u001B[0;34m.\u001B[0m\u001B[0mSession\u001B[0m\u001B[0;34m(\u001B[0m\u001B[0;34m)\u001B[0m \u001B[0;32mas\u001B[0m \u001B[0msession\u001B[0m\u001B[0;34m:\u001B[0m\u001B[0;34m\u001B[0m\u001B[0;34m\u001B[0m\u001B[0m\n\u001B[0;32m---> 59\u001B[0;31m         \u001B[0;32mreturn\u001B[0m \u001B[0msession\u001B[0m\u001B[0;34m.\u001B[0m\u001B[0mrequest\u001B[0m\u001B[0;34m(\u001B[0m\u001B[0mmethod\u001B[0m\u001B[0;34m=\u001B[0m\u001B[0mmethod\u001B[0m\u001B[0;34m,\u001B[0m \u001B[0murl\u001B[0m\u001B[0;34m=\u001B[0m\u001B[0murl\u001B[0m\u001B[0;34m,\u001B[0m \u001B[0;34m**\u001B[0m\u001B[0mkwargs\u001B[0m\u001B[0;34m)\u001B[0m\u001B[0;34m\u001B[0m\u001B[0;34m\u001B[0m\u001B[0m\n\u001B[0m\u001B[1;32m     60\u001B[0m \u001B[0;34m\u001B[0m\u001B[0m\n\u001B[1;32m     61\u001B[0m \u001B[0;34m\u001B[0m\u001B[0m\n",
      "\u001B[0;32m~/opt/anaconda3/lib/python3.8/site-packages/requests/sessions.py\u001B[0m in \u001B[0;36mrequest\u001B[0;34m(self, method, url, params, data, headers, cookies, files, auth, timeout, allow_redirects, proxies, hooks, stream, verify, cert, json)\u001B[0m\n\u001B[1;32m    585\u001B[0m         }\n\u001B[1;32m    586\u001B[0m         \u001B[0msend_kwargs\u001B[0m\u001B[0;34m.\u001B[0m\u001B[0mupdate\u001B[0m\u001B[0;34m(\u001B[0m\u001B[0msettings\u001B[0m\u001B[0;34m)\u001B[0m\u001B[0;34m\u001B[0m\u001B[0;34m\u001B[0m\u001B[0m\n\u001B[0;32m--> 587\u001B[0;31m         \u001B[0mresp\u001B[0m \u001B[0;34m=\u001B[0m \u001B[0mself\u001B[0m\u001B[0;34m.\u001B[0m\u001B[0msend\u001B[0m\u001B[0;34m(\u001B[0m\u001B[0mprep\u001B[0m\u001B[0;34m,\u001B[0m \u001B[0;34m**\u001B[0m\u001B[0msend_kwargs\u001B[0m\u001B[0;34m)\u001B[0m\u001B[0;34m\u001B[0m\u001B[0;34m\u001B[0m\u001B[0m\n\u001B[0m\u001B[1;32m    588\u001B[0m \u001B[0;34m\u001B[0m\u001B[0m\n\u001B[1;32m    589\u001B[0m         \u001B[0;32mreturn\u001B[0m \u001B[0mresp\u001B[0m\u001B[0;34m\u001B[0m\u001B[0;34m\u001B[0m\u001B[0m\n",
      "\u001B[0;32m~/opt/anaconda3/lib/python3.8/site-packages/requests/sessions.py\u001B[0m in \u001B[0;36msend\u001B[0;34m(self, request, **kwargs)\u001B[0m\n\u001B[1;32m    699\u001B[0m \u001B[0;34m\u001B[0m\u001B[0m\n\u001B[1;32m    700\u001B[0m         \u001B[0;31m# Send the request\u001B[0m\u001B[0;34m\u001B[0m\u001B[0;34m\u001B[0m\u001B[0;34m\u001B[0m\u001B[0m\n\u001B[0;32m--> 701\u001B[0;31m         \u001B[0mr\u001B[0m \u001B[0;34m=\u001B[0m \u001B[0madapter\u001B[0m\u001B[0;34m.\u001B[0m\u001B[0msend\u001B[0m\u001B[0;34m(\u001B[0m\u001B[0mrequest\u001B[0m\u001B[0;34m,\u001B[0m \u001B[0;34m**\u001B[0m\u001B[0mkwargs\u001B[0m\u001B[0;34m)\u001B[0m\u001B[0;34m\u001B[0m\u001B[0;34m\u001B[0m\u001B[0m\n\u001B[0m\u001B[1;32m    702\u001B[0m \u001B[0;34m\u001B[0m\u001B[0m\n\u001B[1;32m    703\u001B[0m         \u001B[0;31m# Total elapsed time of the request (approximately)\u001B[0m\u001B[0;34m\u001B[0m\u001B[0;34m\u001B[0m\u001B[0;34m\u001B[0m\u001B[0m\n",
      "\u001B[0;32m~/opt/anaconda3/lib/python3.8/site-packages/requests/adapters.py\u001B[0m in \u001B[0;36msend\u001B[0;34m(self, request, stream, timeout, verify, cert, proxies)\u001B[0m\n\u001B[1;32m    487\u001B[0m         \u001B[0;32mtry\u001B[0m\u001B[0;34m:\u001B[0m\u001B[0;34m\u001B[0m\u001B[0;34m\u001B[0m\u001B[0m\n\u001B[1;32m    488\u001B[0m             \u001B[0;32mif\u001B[0m \u001B[0;32mnot\u001B[0m \u001B[0mchunked\u001B[0m\u001B[0;34m:\u001B[0m\u001B[0;34m\u001B[0m\u001B[0;34m\u001B[0m\u001B[0m\n\u001B[0;32m--> 489\u001B[0;31m                 resp = conn.urlopen(\n\u001B[0m\u001B[1;32m    490\u001B[0m                     \u001B[0mmethod\u001B[0m\u001B[0;34m=\u001B[0m\u001B[0mrequest\u001B[0m\u001B[0;34m.\u001B[0m\u001B[0mmethod\u001B[0m\u001B[0;34m,\u001B[0m\u001B[0;34m\u001B[0m\u001B[0;34m\u001B[0m\u001B[0m\n\u001B[1;32m    491\u001B[0m                     \u001B[0murl\u001B[0m\u001B[0;34m=\u001B[0m\u001B[0murl\u001B[0m\u001B[0;34m,\u001B[0m\u001B[0;34m\u001B[0m\u001B[0;34m\u001B[0m\u001B[0m\n",
      "\u001B[0;32m~/opt/anaconda3/lib/python3.8/site-packages/urllib3/connectionpool.py\u001B[0m in \u001B[0;36murlopen\u001B[0;34m(self, method, url, body, headers, retries, redirect, assert_same_host, timeout, pool_timeout, release_conn, chunked, body_pos, **response_kw)\u001B[0m\n\u001B[1;32m    701\u001B[0m \u001B[0;34m\u001B[0m\u001B[0m\n\u001B[1;32m    702\u001B[0m             \u001B[0;31m# Make the request on the httplib connection object.\u001B[0m\u001B[0;34m\u001B[0m\u001B[0;34m\u001B[0m\u001B[0;34m\u001B[0m\u001B[0m\n\u001B[0;32m--> 703\u001B[0;31m             httplib_response = self._make_request(\n\u001B[0m\u001B[1;32m    704\u001B[0m                 \u001B[0mconn\u001B[0m\u001B[0;34m,\u001B[0m\u001B[0;34m\u001B[0m\u001B[0;34m\u001B[0m\u001B[0m\n\u001B[1;32m    705\u001B[0m                 \u001B[0mmethod\u001B[0m\u001B[0;34m,\u001B[0m\u001B[0;34m\u001B[0m\u001B[0;34m\u001B[0m\u001B[0m\n",
      "\u001B[0;32m~/opt/anaconda3/lib/python3.8/site-packages/urllib3/connectionpool.py\u001B[0m in \u001B[0;36m_make_request\u001B[0;34m(self, conn, method, url, timeout, chunked, **httplib_request_kw)\u001B[0m\n\u001B[1;32m    447\u001B[0m                     \u001B[0;31m# Python 3 (including for exceptions like SystemExit).\u001B[0m\u001B[0;34m\u001B[0m\u001B[0;34m\u001B[0m\u001B[0;34m\u001B[0m\u001B[0m\n\u001B[1;32m    448\u001B[0m                     \u001B[0;31m# Otherwise it looks like a bug in the code.\u001B[0m\u001B[0;34m\u001B[0m\u001B[0;34m\u001B[0m\u001B[0;34m\u001B[0m\u001B[0m\n\u001B[0;32m--> 449\u001B[0;31m                     \u001B[0msix\u001B[0m\u001B[0;34m.\u001B[0m\u001B[0mraise_from\u001B[0m\u001B[0;34m(\u001B[0m\u001B[0me\u001B[0m\u001B[0;34m,\u001B[0m \u001B[0;32mNone\u001B[0m\u001B[0;34m)\u001B[0m\u001B[0;34m\u001B[0m\u001B[0;34m\u001B[0m\u001B[0m\n\u001B[0m\u001B[1;32m    450\u001B[0m         \u001B[0;32mexcept\u001B[0m \u001B[0;34m(\u001B[0m\u001B[0mSocketTimeout\u001B[0m\u001B[0;34m,\u001B[0m \u001B[0mBaseSSLError\u001B[0m\u001B[0;34m,\u001B[0m \u001B[0mSocketError\u001B[0m\u001B[0;34m)\u001B[0m \u001B[0;32mas\u001B[0m \u001B[0me\u001B[0m\u001B[0;34m:\u001B[0m\u001B[0;34m\u001B[0m\u001B[0;34m\u001B[0m\u001B[0m\n\u001B[1;32m    451\u001B[0m             \u001B[0mself\u001B[0m\u001B[0;34m.\u001B[0m\u001B[0m_raise_timeout\u001B[0m\u001B[0;34m(\u001B[0m\u001B[0merr\u001B[0m\u001B[0;34m=\u001B[0m\u001B[0me\u001B[0m\u001B[0;34m,\u001B[0m \u001B[0murl\u001B[0m\u001B[0;34m=\u001B[0m\u001B[0murl\u001B[0m\u001B[0;34m,\u001B[0m \u001B[0mtimeout_value\u001B[0m\u001B[0;34m=\u001B[0m\u001B[0mread_timeout\u001B[0m\u001B[0;34m)\u001B[0m\u001B[0;34m\u001B[0m\u001B[0;34m\u001B[0m\u001B[0m\n",
      "\u001B[0;32m~/opt/anaconda3/lib/python3.8/site-packages/urllib3/packages/six.py\u001B[0m in \u001B[0;36mraise_from\u001B[0;34m(value, from_value)\u001B[0m\n",
      "\u001B[0;32m~/opt/anaconda3/lib/python3.8/site-packages/urllib3/connectionpool.py\u001B[0m in \u001B[0;36m_make_request\u001B[0;34m(self, conn, method, url, timeout, chunked, **httplib_request_kw)\u001B[0m\n\u001B[1;32m    442\u001B[0m                 \u001B[0;31m# Python 3\u001B[0m\u001B[0;34m\u001B[0m\u001B[0;34m\u001B[0m\u001B[0;34m\u001B[0m\u001B[0m\n\u001B[1;32m    443\u001B[0m                 \u001B[0;32mtry\u001B[0m\u001B[0;34m:\u001B[0m\u001B[0;34m\u001B[0m\u001B[0;34m\u001B[0m\u001B[0m\n\u001B[0;32m--> 444\u001B[0;31m                     \u001B[0mhttplib_response\u001B[0m \u001B[0;34m=\u001B[0m \u001B[0mconn\u001B[0m\u001B[0;34m.\u001B[0m\u001B[0mgetresponse\u001B[0m\u001B[0;34m(\u001B[0m\u001B[0;34m)\u001B[0m\u001B[0;34m\u001B[0m\u001B[0;34m\u001B[0m\u001B[0m\n\u001B[0m\u001B[1;32m    445\u001B[0m                 \u001B[0;32mexcept\u001B[0m \u001B[0mBaseException\u001B[0m \u001B[0;32mas\u001B[0m \u001B[0me\u001B[0m\u001B[0;34m:\u001B[0m\u001B[0;34m\u001B[0m\u001B[0;34m\u001B[0m\u001B[0m\n\u001B[1;32m    446\u001B[0m                     \u001B[0;31m# Remove the TypeError from the exception chain in\u001B[0m\u001B[0;34m\u001B[0m\u001B[0;34m\u001B[0m\u001B[0;34m\u001B[0m\u001B[0m\n",
      "\u001B[0;32m~/opt/anaconda3/lib/python3.8/http/client.py\u001B[0m in \u001B[0;36mgetresponse\u001B[0;34m(self)\u001B[0m\n\u001B[1;32m   1345\u001B[0m         \u001B[0;32mtry\u001B[0m\u001B[0;34m:\u001B[0m\u001B[0;34m\u001B[0m\u001B[0;34m\u001B[0m\u001B[0m\n\u001B[1;32m   1346\u001B[0m             \u001B[0;32mtry\u001B[0m\u001B[0;34m:\u001B[0m\u001B[0;34m\u001B[0m\u001B[0;34m\u001B[0m\u001B[0m\n\u001B[0;32m-> 1347\u001B[0;31m                 \u001B[0mresponse\u001B[0m\u001B[0;34m.\u001B[0m\u001B[0mbegin\u001B[0m\u001B[0;34m(\u001B[0m\u001B[0;34m)\u001B[0m\u001B[0;34m\u001B[0m\u001B[0;34m\u001B[0m\u001B[0m\n\u001B[0m\u001B[1;32m   1348\u001B[0m             \u001B[0;32mexcept\u001B[0m \u001B[0mConnectionError\u001B[0m\u001B[0;34m:\u001B[0m\u001B[0;34m\u001B[0m\u001B[0;34m\u001B[0m\u001B[0m\n\u001B[1;32m   1349\u001B[0m                 \u001B[0mself\u001B[0m\u001B[0;34m.\u001B[0m\u001B[0mclose\u001B[0m\u001B[0;34m(\u001B[0m\u001B[0;34m)\u001B[0m\u001B[0;34m\u001B[0m\u001B[0;34m\u001B[0m\u001B[0m\n",
      "\u001B[0;32m~/opt/anaconda3/lib/python3.8/http/client.py\u001B[0m in \u001B[0;36mbegin\u001B[0;34m(self)\u001B[0m\n\u001B[1;32m    305\u001B[0m         \u001B[0;31m# read until we get a non-100 response\u001B[0m\u001B[0;34m\u001B[0m\u001B[0;34m\u001B[0m\u001B[0;34m\u001B[0m\u001B[0m\n\u001B[1;32m    306\u001B[0m         \u001B[0;32mwhile\u001B[0m \u001B[0;32mTrue\u001B[0m\u001B[0;34m:\u001B[0m\u001B[0;34m\u001B[0m\u001B[0;34m\u001B[0m\u001B[0m\n\u001B[0;32m--> 307\u001B[0;31m             \u001B[0mversion\u001B[0m\u001B[0;34m,\u001B[0m \u001B[0mstatus\u001B[0m\u001B[0;34m,\u001B[0m \u001B[0mreason\u001B[0m \u001B[0;34m=\u001B[0m \u001B[0mself\u001B[0m\u001B[0;34m.\u001B[0m\u001B[0m_read_status\u001B[0m\u001B[0;34m(\u001B[0m\u001B[0;34m)\u001B[0m\u001B[0;34m\u001B[0m\u001B[0;34m\u001B[0m\u001B[0m\n\u001B[0m\u001B[1;32m    308\u001B[0m             \u001B[0;32mif\u001B[0m \u001B[0mstatus\u001B[0m \u001B[0;34m!=\u001B[0m \u001B[0mCONTINUE\u001B[0m\u001B[0;34m:\u001B[0m\u001B[0;34m\u001B[0m\u001B[0;34m\u001B[0m\u001B[0m\n\u001B[1;32m    309\u001B[0m                 \u001B[0;32mbreak\u001B[0m\u001B[0;34m\u001B[0m\u001B[0;34m\u001B[0m\u001B[0m\n",
      "\u001B[0;32m~/opt/anaconda3/lib/python3.8/http/client.py\u001B[0m in \u001B[0;36m_read_status\u001B[0;34m(self)\u001B[0m\n\u001B[1;32m    266\u001B[0m \u001B[0;34m\u001B[0m\u001B[0m\n\u001B[1;32m    267\u001B[0m     \u001B[0;32mdef\u001B[0m \u001B[0m_read_status\u001B[0m\u001B[0;34m(\u001B[0m\u001B[0mself\u001B[0m\u001B[0;34m)\u001B[0m\u001B[0;34m:\u001B[0m\u001B[0;34m\u001B[0m\u001B[0;34m\u001B[0m\u001B[0m\n\u001B[0;32m--> 268\u001B[0;31m         \u001B[0mline\u001B[0m \u001B[0;34m=\u001B[0m \u001B[0mstr\u001B[0m\u001B[0;34m(\u001B[0m\u001B[0mself\u001B[0m\u001B[0;34m.\u001B[0m\u001B[0mfp\u001B[0m\u001B[0;34m.\u001B[0m\u001B[0mreadline\u001B[0m\u001B[0;34m(\u001B[0m\u001B[0m_MAXLINE\u001B[0m \u001B[0;34m+\u001B[0m \u001B[0;36m1\u001B[0m\u001B[0;34m)\u001B[0m\u001B[0;34m,\u001B[0m \u001B[0;34m\"iso-8859-1\"\u001B[0m\u001B[0;34m)\u001B[0m\u001B[0;34m\u001B[0m\u001B[0;34m\u001B[0m\u001B[0m\n\u001B[0m\u001B[1;32m    269\u001B[0m         \u001B[0;32mif\u001B[0m \u001B[0mlen\u001B[0m\u001B[0;34m(\u001B[0m\u001B[0mline\u001B[0m\u001B[0;34m)\u001B[0m \u001B[0;34m>\u001B[0m \u001B[0m_MAXLINE\u001B[0m\u001B[0;34m:\u001B[0m\u001B[0;34m\u001B[0m\u001B[0;34m\u001B[0m\u001B[0m\n\u001B[1;32m    270\u001B[0m             \u001B[0;32mraise\u001B[0m \u001B[0mLineTooLong\u001B[0m\u001B[0;34m(\u001B[0m\u001B[0;34m\"status line\"\u001B[0m\u001B[0;34m)\u001B[0m\u001B[0;34m\u001B[0m\u001B[0;34m\u001B[0m\u001B[0m\n",
      "\u001B[0;32m~/opt/anaconda3/lib/python3.8/socket.py\u001B[0m in \u001B[0;36mreadinto\u001B[0;34m(self, b)\u001B[0m\n\u001B[1;32m    667\u001B[0m         \u001B[0;32mwhile\u001B[0m \u001B[0;32mTrue\u001B[0m\u001B[0;34m:\u001B[0m\u001B[0;34m\u001B[0m\u001B[0;34m\u001B[0m\u001B[0m\n\u001B[1;32m    668\u001B[0m             \u001B[0;32mtry\u001B[0m\u001B[0;34m:\u001B[0m\u001B[0;34m\u001B[0m\u001B[0;34m\u001B[0m\u001B[0m\n\u001B[0;32m--> 669\u001B[0;31m                 \u001B[0;32mreturn\u001B[0m \u001B[0mself\u001B[0m\u001B[0;34m.\u001B[0m\u001B[0m_sock\u001B[0m\u001B[0;34m.\u001B[0m\u001B[0mrecv_into\u001B[0m\u001B[0;34m(\u001B[0m\u001B[0mb\u001B[0m\u001B[0;34m)\u001B[0m\u001B[0;34m\u001B[0m\u001B[0;34m\u001B[0m\u001B[0m\n\u001B[0m\u001B[1;32m    670\u001B[0m             \u001B[0;32mexcept\u001B[0m \u001B[0mtimeout\u001B[0m\u001B[0;34m:\u001B[0m\u001B[0;34m\u001B[0m\u001B[0;34m\u001B[0m\u001B[0m\n\u001B[1;32m    671\u001B[0m                 \u001B[0mself\u001B[0m\u001B[0;34m.\u001B[0m\u001B[0m_timeout_occurred\u001B[0m \u001B[0;34m=\u001B[0m \u001B[0;32mTrue\u001B[0m\u001B[0;34m\u001B[0m\u001B[0;34m\u001B[0m\u001B[0m\n",
      "\u001B[0;32m~/opt/anaconda3/lib/python3.8/ssl.py\u001B[0m in \u001B[0;36mrecv_into\u001B[0;34m(self, buffer, nbytes, flags)\u001B[0m\n\u001B[1;32m   1239\u001B[0m                   \u001B[0;34m\"non-zero flags not allowed in calls to recv_into() on %s\"\u001B[0m \u001B[0;34m%\u001B[0m\u001B[0;34m\u001B[0m\u001B[0;34m\u001B[0m\u001B[0m\n\u001B[1;32m   1240\u001B[0m                   self.__class__)\n\u001B[0;32m-> 1241\u001B[0;31m             \u001B[0;32mreturn\u001B[0m \u001B[0mself\u001B[0m\u001B[0;34m.\u001B[0m\u001B[0mread\u001B[0m\u001B[0;34m(\u001B[0m\u001B[0mnbytes\u001B[0m\u001B[0;34m,\u001B[0m \u001B[0mbuffer\u001B[0m\u001B[0;34m)\u001B[0m\u001B[0;34m\u001B[0m\u001B[0;34m\u001B[0m\u001B[0m\n\u001B[0m\u001B[1;32m   1242\u001B[0m         \u001B[0;32melse\u001B[0m\u001B[0;34m:\u001B[0m\u001B[0;34m\u001B[0m\u001B[0;34m\u001B[0m\u001B[0m\n\u001B[1;32m   1243\u001B[0m             \u001B[0;32mreturn\u001B[0m \u001B[0msuper\u001B[0m\u001B[0;34m(\u001B[0m\u001B[0;34m)\u001B[0m\u001B[0;34m.\u001B[0m\u001B[0mrecv_into\u001B[0m\u001B[0;34m(\u001B[0m\u001B[0mbuffer\u001B[0m\u001B[0;34m,\u001B[0m \u001B[0mnbytes\u001B[0m\u001B[0;34m,\u001B[0m \u001B[0mflags\u001B[0m\u001B[0;34m)\u001B[0m\u001B[0;34m\u001B[0m\u001B[0;34m\u001B[0m\u001B[0m\n",
      "\u001B[0;32m~/opt/anaconda3/lib/python3.8/ssl.py\u001B[0m in \u001B[0;36mread\u001B[0;34m(self, len, buffer)\u001B[0m\n\u001B[1;32m   1097\u001B[0m         \u001B[0;32mtry\u001B[0m\u001B[0;34m:\u001B[0m\u001B[0;34m\u001B[0m\u001B[0;34m\u001B[0m\u001B[0m\n\u001B[1;32m   1098\u001B[0m             \u001B[0;32mif\u001B[0m \u001B[0mbuffer\u001B[0m \u001B[0;32mis\u001B[0m \u001B[0;32mnot\u001B[0m \u001B[0;32mNone\u001B[0m\u001B[0;34m:\u001B[0m\u001B[0;34m\u001B[0m\u001B[0;34m\u001B[0m\u001B[0m\n\u001B[0;32m-> 1099\u001B[0;31m                 \u001B[0;32mreturn\u001B[0m \u001B[0mself\u001B[0m\u001B[0;34m.\u001B[0m\u001B[0m_sslobj\u001B[0m\u001B[0;34m.\u001B[0m\u001B[0mread\u001B[0m\u001B[0;34m(\u001B[0m\u001B[0mlen\u001B[0m\u001B[0;34m,\u001B[0m \u001B[0mbuffer\u001B[0m\u001B[0;34m)\u001B[0m\u001B[0;34m\u001B[0m\u001B[0;34m\u001B[0m\u001B[0m\n\u001B[0m\u001B[1;32m   1100\u001B[0m             \u001B[0;32melse\u001B[0m\u001B[0;34m:\u001B[0m\u001B[0;34m\u001B[0m\u001B[0;34m\u001B[0m\u001B[0m\n\u001B[1;32m   1101\u001B[0m                 \u001B[0;32mreturn\u001B[0m \u001B[0mself\u001B[0m\u001B[0;34m.\u001B[0m\u001B[0m_sslobj\u001B[0m\u001B[0;34m.\u001B[0m\u001B[0mread\u001B[0m\u001B[0;34m(\u001B[0m\u001B[0mlen\u001B[0m\u001B[0;34m)\u001B[0m\u001B[0;34m\u001B[0m\u001B[0;34m\u001B[0m\u001B[0m\n",
      "\u001B[0;31mKeyboardInterrupt\u001B[0m: "
     ]
    }
   ],
   "source": [
    "bill_slug_list = []\n",
    "bill_congress_list = []\n",
    "related_bill_id_list = []\n",
    "related_bill_title_list = []\n",
    "related_bill_introduction_date_list = []\n",
    "iteration_count = 0\n",
    "save_interval = 30\n",
    "for index, row in bills_of_interest.iterrows():\n",
    "    iteration_count +=1\n",
    "    congress = row['bill_congress']\n",
    "    bill_id = row['bill_slug']\n",
    "    \n",
    "\n",
    "    url = f\"https://api.propublica.org/congress/v1/{congress}/bills/{bill_id}/related.json\"\n",
    "    response = requests.get(url, headers=headers)\n",
    "    if 'results' in response.json():\n",
    "        if response.json()['num_results'] >0:\n",
    "            results = response.json()['results']\n",
    "            for result in results:\n",
    "                bill_slug_list.append(bill_id)\n",
    "                bill_congress_list.append(congress)\n",
    "                related_bill_id_list.append(result['bill_id'])\n",
    "                related_bill_title_list.append(result['title'])\n",
    "                related_bill_introduction_date_list.append(result['introduced_date'])\n",
    "        else:\n",
    "            pass\n",
    "        \n",
    "    else:\n",
    "        pass\n",
    "    \n",
    "    if iteration_count % save_interval == 0:\n",
    "        temp_df =pd.DataFrame({'related_bill_id':related_bill_id_list,\n",
    "                               'related_bill_title':related_bill_title_list,\n",
    "                               'related_bill_introduction_date':related_bill_introduction_date_list,\n",
    "                               'bill_slug':bill_slug_list,\n",
    "                               'bill_congress':bill_congress_list})\n",
    "\n",
    "        temp_df.to_csv('related_bills.csv', index=False)\n",
    "        print(f\"Saved {iteration_count} records\")\n",
    "\n"
   ],
   "metadata": {
    "collapsed": false,
    "ExecuteTime": {
     "end_time": "2023-11-30T21:44:38.794129Z",
     "start_time": "2023-11-30T20:04:39.056684Z"
    }
   },
   "id": "9ab865af244685ee"
  },
  {
   "cell_type": "code",
   "execution_count": 41,
   "outputs": [
    {
     "data": {
      "text/plain": "     related_bill_id                                 related_bill_title  \\\n0            s51-118  A bill to provide for the admission of the Sta...   \n1          s5106-117  A bill to amend title XVIII of the Social Secu...   \n2          s5011-117  A bill to amend title XIX of the Social Securi...   \n3      sconres46-117  A concurrent resolution commemorating the 50th...   \n4          s4194-117  A bill to amend the Fish and Wildlife Act of 1...   \n...              ...                                                ...   \n4656        s147-116  A bill to amend title 31, United States Code, ...   \n4657        s148-116  A bill to require a full audit of the Board of...   \n4658        s158-116  A bill to prohibit Federal funding of Planned ...   \n4659        s159-116  A bill to implement equal protection under the...   \n4660         s92-116  A bill to amend chapter 8 of title 5, United S...   \n\n     related_bill_introduction_date  bill_slug  bill_congress  \n0                        2023-01-24        s51            118  \n1                        2022-11-16      s5106            117  \n2                        2022-09-29      s5011            117  \n3                        2022-09-29  sconres46            117  \n4                        2022-05-12      s4194            117  \n...                             ...        ...            ...  \n4656                     2019-01-16       s147            116  \n4657                     2019-01-16       s148            116  \n4658                     2019-01-16       s158            116  \n4659                     2019-01-16       s159            116  \n4660                     2019-01-10        s92            116  \n\n[4661 rows x 5 columns]",
      "text/html": "<div>\n<style scoped>\n    .dataframe tbody tr th:only-of-type {\n        vertical-align: middle;\n    }\n\n    .dataframe tbody tr th {\n        vertical-align: top;\n    }\n\n    .dataframe thead th {\n        text-align: right;\n    }\n</style>\n<table border=\"1\" class=\"dataframe\">\n  <thead>\n    <tr style=\"text-align: right;\">\n      <th></th>\n      <th>related_bill_id</th>\n      <th>related_bill_title</th>\n      <th>related_bill_introduction_date</th>\n      <th>bill_slug</th>\n      <th>bill_congress</th>\n    </tr>\n  </thead>\n  <tbody>\n    <tr>\n      <th>0</th>\n      <td>s51-118</td>\n      <td>A bill to provide for the admission of the Sta...</td>\n      <td>2023-01-24</td>\n      <td>s51</td>\n      <td>118</td>\n    </tr>\n    <tr>\n      <th>1</th>\n      <td>s5106-117</td>\n      <td>A bill to amend title XVIII of the Social Secu...</td>\n      <td>2022-11-16</td>\n      <td>s5106</td>\n      <td>117</td>\n    </tr>\n    <tr>\n      <th>2</th>\n      <td>s5011-117</td>\n      <td>A bill to amend title XIX of the Social Securi...</td>\n      <td>2022-09-29</td>\n      <td>s5011</td>\n      <td>117</td>\n    </tr>\n    <tr>\n      <th>3</th>\n      <td>sconres46-117</td>\n      <td>A concurrent resolution commemorating the 50th...</td>\n      <td>2022-09-29</td>\n      <td>sconres46</td>\n      <td>117</td>\n    </tr>\n    <tr>\n      <th>4</th>\n      <td>s4194-117</td>\n      <td>A bill to amend the Fish and Wildlife Act of 1...</td>\n      <td>2022-05-12</td>\n      <td>s4194</td>\n      <td>117</td>\n    </tr>\n    <tr>\n      <th>...</th>\n      <td>...</td>\n      <td>...</td>\n      <td>...</td>\n      <td>...</td>\n      <td>...</td>\n    </tr>\n    <tr>\n      <th>4656</th>\n      <td>s147-116</td>\n      <td>A bill to amend title 31, United States Code, ...</td>\n      <td>2019-01-16</td>\n      <td>s147</td>\n      <td>116</td>\n    </tr>\n    <tr>\n      <th>4657</th>\n      <td>s148-116</td>\n      <td>A bill to require a full audit of the Board of...</td>\n      <td>2019-01-16</td>\n      <td>s148</td>\n      <td>116</td>\n    </tr>\n    <tr>\n      <th>4658</th>\n      <td>s158-116</td>\n      <td>A bill to prohibit Federal funding of Planned ...</td>\n      <td>2019-01-16</td>\n      <td>s158</td>\n      <td>116</td>\n    </tr>\n    <tr>\n      <th>4659</th>\n      <td>s159-116</td>\n      <td>A bill to implement equal protection under the...</td>\n      <td>2019-01-16</td>\n      <td>s159</td>\n      <td>116</td>\n    </tr>\n    <tr>\n      <th>4660</th>\n      <td>s92-116</td>\n      <td>A bill to amend chapter 8 of title 5, United S...</td>\n      <td>2019-01-10</td>\n      <td>s92</td>\n      <td>116</td>\n    </tr>\n  </tbody>\n</table>\n<p>4661 rows × 5 columns</p>\n</div>"
     },
     "execution_count": 41,
     "metadata": {},
     "output_type": "execute_result"
    }
   ],
   "source": [
    "related_bills = pd.read_csv('related_bills.csv')\n",
    "related_bills"
   ],
   "metadata": {
    "collapsed": false,
    "ExecuteTime": {
     "end_time": "2023-11-30T21:45:06.467900Z",
     "start_time": "2023-11-30T21:45:06.419120Z"
    }
   },
   "id": "cb921ea198fa1df0"
  },
  {
   "cell_type": "code",
   "execution_count": 25,
   "outputs": [],
   "source": [
    "\n",
    "related_bills.to_csv('../prod_data/related_bills.csv', index=False)\n"
   ],
   "metadata": {
    "collapsed": false,
    "ExecuteTime": {
     "end_time": "2023-11-29T23:37:58.320022Z",
     "start_time": "2023-11-29T23:37:58.277176Z"
    }
   },
   "id": "1d57bc5ecfbee2dd"
  },
  {
   "cell_type": "code",
   "execution_count": 26,
   "outputs": [
    {
     "data": {
      "text/plain": "     related_bill_id                                 related_bill_title  \\\n0         hr6056-118  To direct the Secretary of Defense to submit t...   \n1         hr5997-118  To require the Secretary of Energy to further ...   \n2         hr5720-118  To assist trafficking survivors who lack gover...   \n3         hr5645-118  To establish a matched savings program for low...   \n4         hr5598-118  To amend the SUPPORT for Patients and Communit...   \n...              ...                                                ...   \n4897      hr3155-118  To amend title 18, United States Code, to proh...   \n4898      hr4073-118  To amend the Harmonized Tariff Schedule of the...   \n4899      hres76-118  Removing a certain Member from a certain stand...   \n4900      hr2597-118  To authorize members of reserve components of ...   \n4901      hr4661-118  To require the Director of the Office of Entre...   \n\n     related_bill_introduction_date bill_slug  bill_congress  \n0                        2023-10-25    hr6056            118  \n1                        2023-10-19    hr5997            118  \n2                        2023-09-26    hr5720            118  \n3                        2023-09-21    hr5645            118  \n4                        2023-09-20    hr5598            118  \n...                             ...       ...            ...  \n4897                     2023-05-09    hr3155            118  \n4898                     2023-06-13    hr4073            118  \n4899                     2023-01-31    hres76            118  \n4900                     2023-04-13    hr2597            118  \n4901                     2023-07-14    hr4661            118  \n\n[4902 rows x 5 columns]",
      "text/html": "<div>\n<style scoped>\n    .dataframe tbody tr th:only-of-type {\n        vertical-align: middle;\n    }\n\n    .dataframe tbody tr th {\n        vertical-align: top;\n    }\n\n    .dataframe thead th {\n        text-align: right;\n    }\n</style>\n<table border=\"1\" class=\"dataframe\">\n  <thead>\n    <tr style=\"text-align: right;\">\n      <th></th>\n      <th>related_bill_id</th>\n      <th>related_bill_title</th>\n      <th>related_bill_introduction_date</th>\n      <th>bill_slug</th>\n      <th>bill_congress</th>\n    </tr>\n  </thead>\n  <tbody>\n    <tr>\n      <th>0</th>\n      <td>hr6056-118</td>\n      <td>To direct the Secretary of Defense to submit t...</td>\n      <td>2023-10-25</td>\n      <td>hr6056</td>\n      <td>118</td>\n    </tr>\n    <tr>\n      <th>1</th>\n      <td>hr5997-118</td>\n      <td>To require the Secretary of Energy to further ...</td>\n      <td>2023-10-19</td>\n      <td>hr5997</td>\n      <td>118</td>\n    </tr>\n    <tr>\n      <th>2</th>\n      <td>hr5720-118</td>\n      <td>To assist trafficking survivors who lack gover...</td>\n      <td>2023-09-26</td>\n      <td>hr5720</td>\n      <td>118</td>\n    </tr>\n    <tr>\n      <th>3</th>\n      <td>hr5645-118</td>\n      <td>To establish a matched savings program for low...</td>\n      <td>2023-09-21</td>\n      <td>hr5645</td>\n      <td>118</td>\n    </tr>\n    <tr>\n      <th>4</th>\n      <td>hr5598-118</td>\n      <td>To amend the SUPPORT for Patients and Communit...</td>\n      <td>2023-09-20</td>\n      <td>hr5598</td>\n      <td>118</td>\n    </tr>\n    <tr>\n      <th>...</th>\n      <td>...</td>\n      <td>...</td>\n      <td>...</td>\n      <td>...</td>\n      <td>...</td>\n    </tr>\n    <tr>\n      <th>4897</th>\n      <td>hr3155-118</td>\n      <td>To amend title 18, United States Code, to proh...</td>\n      <td>2023-05-09</td>\n      <td>hr3155</td>\n      <td>118</td>\n    </tr>\n    <tr>\n      <th>4898</th>\n      <td>hr4073-118</td>\n      <td>To amend the Harmonized Tariff Schedule of the...</td>\n      <td>2023-06-13</td>\n      <td>hr4073</td>\n      <td>118</td>\n    </tr>\n    <tr>\n      <th>4899</th>\n      <td>hres76-118</td>\n      <td>Removing a certain Member from a certain stand...</td>\n      <td>2023-01-31</td>\n      <td>hres76</td>\n      <td>118</td>\n    </tr>\n    <tr>\n      <th>4900</th>\n      <td>hr2597-118</td>\n      <td>To authorize members of reserve components of ...</td>\n      <td>2023-04-13</td>\n      <td>hr2597</td>\n      <td>118</td>\n    </tr>\n    <tr>\n      <th>4901</th>\n      <td>hr4661-118</td>\n      <td>To require the Director of the Office of Entre...</td>\n      <td>2023-07-14</td>\n      <td>hr4661</td>\n      <td>118</td>\n    </tr>\n  </tbody>\n</table>\n<p>4902 rows × 5 columns</p>\n</div>"
     },
     "execution_count": 26,
     "metadata": {},
     "output_type": "execute_result"
    }
   ],
   "source": [
    "related_bills"
   ],
   "metadata": {
    "collapsed": false,
    "ExecuteTime": {
     "end_time": "2023-11-29T23:39:04.779060Z",
     "start_time": "2023-11-29T23:39:04.761668Z"
    }
   },
   "id": "23ca3af10a8b5439"
  },
  {
   "cell_type": "code",
   "execution_count": null,
   "outputs": [],
   "source": [],
   "metadata": {
    "collapsed": false
   },
   "id": "8c84eab22b89548c"
  }
 ],
 "metadata": {
  "kernelspec": {
   "display_name": "Python 3",
   "language": "python",
   "name": "python3"
  },
  "language_info": {
   "codemirror_mode": {
    "name": "ipython",
    "version": 2
   },
   "file_extension": ".py",
   "mimetype": "text/x-python",
   "name": "python",
   "nbconvert_exporter": "python",
   "pygments_lexer": "ipython2",
   "version": "2.7.6"
  }
 },
 "nbformat": 4,
 "nbformat_minor": 5
}
