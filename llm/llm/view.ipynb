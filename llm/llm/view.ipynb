{
 "cells": [
  {
   "cell_type": "code",
   "execution_count": 1,
   "id": "initial_id",
   "metadata": {
    "collapsed": true,
    "ExecuteTime": {
     "end_time": "2023-11-29T23:29:21.425291Z",
     "start_time": "2023-11-29T23:29:20.220300Z"
    }
   },
   "outputs": [
    {
     "name": "stderr",
     "output_type": "stream",
     "text": [
      "/Users/mats_dodd/opt/anaconda3/lib/python3.8/site-packages/pandas/core/computation/expressions.py:20: UserWarning: Pandas requires version '2.7.3' or newer of 'numexpr' (version '2.7.1' currently installed).\n",
      "  from pandas.core.computation.check import NUMEXPR_INSTALLED\n"
     ]
    }
   ],
   "source": [
    "import pandas as pd"
   ]
  },
  {
   "cell_type": "code",
   "execution_count": 2,
   "outputs": [
    {
     "data": {
      "text/plain": "      Unnamed: 0                                              index\n0              0                              Microsoft Corporation\n1              1                    Energy Transfer LP Common Units\n2              2                                        BLF FedFund\n3              3                                   NetApp Inc Stock\n4              4                                          Tesla Inc\n...          ...                                                ...\n2948        2948  AllianzGI Artificial Intelligence & Technology...\n2949        2949                                          Crane Co.\n2950        2950                          Clogate Palmolive Company\n2951        2951  Net Zero PLC - IX investments LLC merged with ...\n2952        2952                             Carlisle Companies Inc\n\n[2953 rows x 2 columns]",
      "text/html": "<div>\n<style scoped>\n    .dataframe tbody tr th:only-of-type {\n        vertical-align: middle;\n    }\n\n    .dataframe tbody tr th {\n        vertical-align: top;\n    }\n\n    .dataframe thead th {\n        text-align: right;\n    }\n</style>\n<table border=\"1\" class=\"dataframe\">\n  <thead>\n    <tr style=\"text-align: right;\">\n      <th></th>\n      <th>Unnamed: 0</th>\n      <th>index</th>\n    </tr>\n  </thead>\n  <tbody>\n    <tr>\n      <th>0</th>\n      <td>0</td>\n      <td>Microsoft Corporation</td>\n    </tr>\n    <tr>\n      <th>1</th>\n      <td>1</td>\n      <td>Energy Transfer LP Common Units</td>\n    </tr>\n    <tr>\n      <th>2</th>\n      <td>2</td>\n      <td>BLF FedFund</td>\n    </tr>\n    <tr>\n      <th>3</th>\n      <td>3</td>\n      <td>NetApp Inc Stock</td>\n    </tr>\n    <tr>\n      <th>4</th>\n      <td>4</td>\n      <td>Tesla Inc</td>\n    </tr>\n    <tr>\n      <th>...</th>\n      <td>...</td>\n      <td>...</td>\n    </tr>\n    <tr>\n      <th>2948</th>\n      <td>2948</td>\n      <td>AllianzGI Artificial Intelligence &amp; Technology...</td>\n    </tr>\n    <tr>\n      <th>2949</th>\n      <td>2949</td>\n      <td>Crane Co.</td>\n    </tr>\n    <tr>\n      <th>2950</th>\n      <td>2950</td>\n      <td>Clogate Palmolive Company</td>\n    </tr>\n    <tr>\n      <th>2951</th>\n      <td>2951</td>\n      <td>Net Zero PLC - IX investments LLC merged with ...</td>\n    </tr>\n    <tr>\n      <th>2952</th>\n      <td>2952</td>\n      <td>Carlisle Companies Inc</td>\n    </tr>\n  </tbody>\n</table>\n<p>2953 rows × 2 columns</p>\n</div>"
     },
     "execution_count": 2,
     "metadata": {},
     "output_type": "execute_result"
    }
   ],
   "source": [
    "asset_descriptions = pd.read_csv('asset_descriptions.csv')\n",
    "\n",
    "asset_descriptions"
   ],
   "metadata": {
    "collapsed": false,
    "ExecuteTime": {
     "end_time": "2023-11-29T23:29:45.449700Z",
     "start_time": "2023-11-29T23:29:45.422009Z"
    }
   },
   "id": "8bd75be89009b345"
  },
  {
   "cell_type": "code",
   "execution_count": null,
   "outputs": [],
   "source": [],
   "metadata": {
    "collapsed": false
   },
   "id": "63f3fd8ab2eb296b"
  }
 ],
 "metadata": {
  "kernelspec": {
   "display_name": "Python 3",
   "language": "python",
   "name": "python3"
  },
  "language_info": {
   "codemirror_mode": {
    "name": "ipython",
    "version": 2
   },
   "file_extension": ".py",
   "mimetype": "text/x-python",
   "name": "python",
   "nbconvert_exporter": "python",
   "pygments_lexer": "ipython2",
   "version": "2.7.6"
  }
 },
 "nbformat": 4,
 "nbformat_minor": 5
}
