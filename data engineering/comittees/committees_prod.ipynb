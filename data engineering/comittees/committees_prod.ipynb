{
 "cells": [
  {
   "cell_type": "code",
   "execution_count": 101,
   "id": "initial_id",
   "metadata": {
    "collapsed": true,
    "ExecuteTime": {
     "end_time": "2023-11-28T21:10:19.904269Z",
     "start_time": "2023-11-28T21:10:19.891222Z"
    }
   },
   "outputs": [],
   "source": [
    "import pandas as pd\n",
    "import nameparser\n",
    "import json\n",
    "import requests\n",
    "import numpy as np"
   ]
  },
  {
   "cell_type": "code",
   "execution_count": 102,
   "outputs": [],
   "source": [
    "pro_publica_api_key = \"PguHImFJakafbsBpZ2ed21A1HIgvXKiM7tg0BqI0 \"\n",
    "headers = {'X-API-Key': pro_publica_api_key}"
   ],
   "metadata": {
    "collapsed": false,
    "ExecuteTime": {
     "end_time": "2023-11-28T21:10:20.152389Z",
     "start_time": "2023-11-28T21:10:20.145422Z"
    }
   },
   "id": "c92e36f9fc890886"
  },
  {
   "cell_type": "code",
   "execution_count": 103,
   "outputs": [
    {
     "data": {
      "text/plain": "      disclosure_date transaction_date  owner ticker  \\\n0          2021-10-04       2021-09-27  joint     BP   \n1          2021-10-04       2021-09-13  joint    XOM   \n2          2021-10-04       2021-09-10  joint   ILPT   \n3          2021-10-04       2021-09-28  joint     PM   \n4          2021-10-04       2021-09-17   self    BLK   \n...               ...              ...    ...    ...   \n24136      2012-08-17              NaT    NaN    NaN   \n24137      2012-08-16              NaT    NaN    NaN   \n24138      2012-08-15              NaT    NaN    NaN   \n24139      2012-08-02              NaT    NaN    NaN   \n24140      2012-07-25              NaT    NaN    NaN   \n\n                                       asset_description          type  \\\n0                                                 BP plc      purchase   \n1                                Exxon Mobil Corporation      purchase   \n2      Industrial Logistics Properties Trust - Common...      purchase   \n3                       Phillip Morris International Inc      purchase   \n4                                          BlackRock Inc  sale_partial   \n...                                                  ...           ...   \n24136  This filing was disclosed via scanned PDF. Use...           NaN   \n24137  This filing was disclosed via scanned PDF. Use...           NaN   \n24138  This filing was disclosed via scanned PDF. Use...           NaN   \n24139  This filing was disclosed via scanned PDF. Use...           NaN   \n24140  This filing was disclosed via scanned PDF. Use...           NaN   \n\n                  amount              member district state  ...  \\\n0       $1,001 - $15,000       virginia foxx     NC05    NC  ...   \n1       $1,001 - $15,000       virginia foxx     NC05    NC  ...   \n2      $15,001 - $50,000       virginia foxx     NC05    NC  ...   \n3      $15,001 - $50,000       virginia foxx     NC05    NC  ...   \n4       $1,001 - $15,000   alan s. lowenthal     CA47    CA  ...   \n...                  ...                 ...      ...   ...  ...   \n24136            Unknown  sheldon whitehouse      NaN   NaN  ...   \n24137            Unknown         pat roberts      NaN   NaN  ...   \n24138            Unknown         rob portman      NaN   NaN  ...   \n24139            Unknown    thomas r. carper      NaN   NaN  ...   \n24140            Unknown   benjamin l cardin      NaN   NaN  ...   \n\n                      sector       party            asset_type comment  \\\n0                     Energy  Republican                   NaN     NaN   \n1                     Energy  Republican                   NaN     NaN   \n2                Real Estate  Republican                   NaN     NaN   \n3      Consumer Non-Durables  Republican                   NaN     NaN   \n4                    Finance    Democrat                   NaN     NaN   \n...                      ...         ...                   ...     ...   \n24136                    NaN         NaN  PDF Disclosed Filing     NaN   \n24137                    NaN         NaN  PDF Disclosed Filing     NaN   \n24138                    NaN         NaN  PDF Disclosed Filing     NaN   \n24139                    NaN         NaN  PDF Disclosed Filing     NaN   \n24140                    NaN         NaN  PDF Disclosed Filing     NaN   \n\n          member_type amount_formatted         parsed_name first_name  \\\n0      representative           1000.0       virginia foxx   virginia   \n1      representative           1000.0       virginia foxx   virginia   \n2      representative          15000.0       virginia foxx   virginia   \n3      representative          15000.0       virginia foxx   virginia   \n4      representative           1000.0   alan s. lowenthal       alan   \n...               ...              ...                 ...        ...   \n24136         senator              NaN  sheldon whitehouse    sheldon   \n24137         senator              NaN         pat roberts        pat   \n24138         senator              NaN         rob portman        rob   \n24139         senator              NaN    thomas r. carper     thomas   \n24140         senator              NaN   benjamin l cardin   benjamin   \n\n        last_name         string_name  \n0            foxx       virginia foxx  \n1            foxx       virginia foxx  \n2            foxx       virginia foxx  \n3            foxx       virginia foxx  \n4       lowenthal      alan lowenthal  \n...           ...                 ...  \n24136  whitehouse  sheldon whitehouse  \n24137     roberts         pat roberts  \n24138     portman         rob portman  \n24139      carper       thomas carper  \n24140      cardin     benjamin cardin  \n\n[24141 rows x 23 columns]",
      "text/html": "<div>\n<style scoped>\n    .dataframe tbody tr th:only-of-type {\n        vertical-align: middle;\n    }\n\n    .dataframe tbody tr th {\n        vertical-align: top;\n    }\n\n    .dataframe thead th {\n        text-align: right;\n    }\n</style>\n<table border=\"1\" class=\"dataframe\">\n  <thead>\n    <tr style=\"text-align: right;\">\n      <th></th>\n      <th>disclosure_date</th>\n      <th>transaction_date</th>\n      <th>owner</th>\n      <th>ticker</th>\n      <th>asset_description</th>\n      <th>type</th>\n      <th>amount</th>\n      <th>member</th>\n      <th>district</th>\n      <th>state</th>\n      <th>...</th>\n      <th>sector</th>\n      <th>party</th>\n      <th>asset_type</th>\n      <th>comment</th>\n      <th>member_type</th>\n      <th>amount_formatted</th>\n      <th>parsed_name</th>\n      <th>first_name</th>\n      <th>last_name</th>\n      <th>string_name</th>\n    </tr>\n  </thead>\n  <tbody>\n    <tr>\n      <th>0</th>\n      <td>2021-10-04</td>\n      <td>2021-09-27</td>\n      <td>joint</td>\n      <td>BP</td>\n      <td>BP plc</td>\n      <td>purchase</td>\n      <td>$1,001 - $15,000</td>\n      <td>virginia foxx</td>\n      <td>NC05</td>\n      <td>NC</td>\n      <td>...</td>\n      <td>Energy</td>\n      <td>Republican</td>\n      <td>NaN</td>\n      <td>NaN</td>\n      <td>representative</td>\n      <td>1000.0</td>\n      <td>virginia foxx</td>\n      <td>virginia</td>\n      <td>foxx</td>\n      <td>virginia foxx</td>\n    </tr>\n    <tr>\n      <th>1</th>\n      <td>2021-10-04</td>\n      <td>2021-09-13</td>\n      <td>joint</td>\n      <td>XOM</td>\n      <td>Exxon Mobil Corporation</td>\n      <td>purchase</td>\n      <td>$1,001 - $15,000</td>\n      <td>virginia foxx</td>\n      <td>NC05</td>\n      <td>NC</td>\n      <td>...</td>\n      <td>Energy</td>\n      <td>Republican</td>\n      <td>NaN</td>\n      <td>NaN</td>\n      <td>representative</td>\n      <td>1000.0</td>\n      <td>virginia foxx</td>\n      <td>virginia</td>\n      <td>foxx</td>\n      <td>virginia foxx</td>\n    </tr>\n    <tr>\n      <th>2</th>\n      <td>2021-10-04</td>\n      <td>2021-09-10</td>\n      <td>joint</td>\n      <td>ILPT</td>\n      <td>Industrial Logistics Properties Trust - Common...</td>\n      <td>purchase</td>\n      <td>$15,001 - $50,000</td>\n      <td>virginia foxx</td>\n      <td>NC05</td>\n      <td>NC</td>\n      <td>...</td>\n      <td>Real Estate</td>\n      <td>Republican</td>\n      <td>NaN</td>\n      <td>NaN</td>\n      <td>representative</td>\n      <td>15000.0</td>\n      <td>virginia foxx</td>\n      <td>virginia</td>\n      <td>foxx</td>\n      <td>virginia foxx</td>\n    </tr>\n    <tr>\n      <th>3</th>\n      <td>2021-10-04</td>\n      <td>2021-09-28</td>\n      <td>joint</td>\n      <td>PM</td>\n      <td>Phillip Morris International Inc</td>\n      <td>purchase</td>\n      <td>$15,001 - $50,000</td>\n      <td>virginia foxx</td>\n      <td>NC05</td>\n      <td>NC</td>\n      <td>...</td>\n      <td>Consumer Non-Durables</td>\n      <td>Republican</td>\n      <td>NaN</td>\n      <td>NaN</td>\n      <td>representative</td>\n      <td>15000.0</td>\n      <td>virginia foxx</td>\n      <td>virginia</td>\n      <td>foxx</td>\n      <td>virginia foxx</td>\n    </tr>\n    <tr>\n      <th>4</th>\n      <td>2021-10-04</td>\n      <td>2021-09-17</td>\n      <td>self</td>\n      <td>BLK</td>\n      <td>BlackRock Inc</td>\n      <td>sale_partial</td>\n      <td>$1,001 - $15,000</td>\n      <td>alan s. lowenthal</td>\n      <td>CA47</td>\n      <td>CA</td>\n      <td>...</td>\n      <td>Finance</td>\n      <td>Democrat</td>\n      <td>NaN</td>\n      <td>NaN</td>\n      <td>representative</td>\n      <td>1000.0</td>\n      <td>alan s. lowenthal</td>\n      <td>alan</td>\n      <td>lowenthal</td>\n      <td>alan lowenthal</td>\n    </tr>\n    <tr>\n      <th>...</th>\n      <td>...</td>\n      <td>...</td>\n      <td>...</td>\n      <td>...</td>\n      <td>...</td>\n      <td>...</td>\n      <td>...</td>\n      <td>...</td>\n      <td>...</td>\n      <td>...</td>\n      <td>...</td>\n      <td>...</td>\n      <td>...</td>\n      <td>...</td>\n      <td>...</td>\n      <td>...</td>\n      <td>...</td>\n      <td>...</td>\n      <td>...</td>\n      <td>...</td>\n      <td>...</td>\n    </tr>\n    <tr>\n      <th>24136</th>\n      <td>2012-08-17</td>\n      <td>NaT</td>\n      <td>NaN</td>\n      <td>NaN</td>\n      <td>This filing was disclosed via scanned PDF. Use...</td>\n      <td>NaN</td>\n      <td>Unknown</td>\n      <td>sheldon whitehouse</td>\n      <td>NaN</td>\n      <td>NaN</td>\n      <td>...</td>\n      <td>NaN</td>\n      <td>NaN</td>\n      <td>PDF Disclosed Filing</td>\n      <td>NaN</td>\n      <td>senator</td>\n      <td>NaN</td>\n      <td>sheldon whitehouse</td>\n      <td>sheldon</td>\n      <td>whitehouse</td>\n      <td>sheldon whitehouse</td>\n    </tr>\n    <tr>\n      <th>24137</th>\n      <td>2012-08-16</td>\n      <td>NaT</td>\n      <td>NaN</td>\n      <td>NaN</td>\n      <td>This filing was disclosed via scanned PDF. Use...</td>\n      <td>NaN</td>\n      <td>Unknown</td>\n      <td>pat roberts</td>\n      <td>NaN</td>\n      <td>NaN</td>\n      <td>...</td>\n      <td>NaN</td>\n      <td>NaN</td>\n      <td>PDF Disclosed Filing</td>\n      <td>NaN</td>\n      <td>senator</td>\n      <td>NaN</td>\n      <td>pat roberts</td>\n      <td>pat</td>\n      <td>roberts</td>\n      <td>pat roberts</td>\n    </tr>\n    <tr>\n      <th>24138</th>\n      <td>2012-08-15</td>\n      <td>NaT</td>\n      <td>NaN</td>\n      <td>NaN</td>\n      <td>This filing was disclosed via scanned PDF. Use...</td>\n      <td>NaN</td>\n      <td>Unknown</td>\n      <td>rob portman</td>\n      <td>NaN</td>\n      <td>NaN</td>\n      <td>...</td>\n      <td>NaN</td>\n      <td>NaN</td>\n      <td>PDF Disclosed Filing</td>\n      <td>NaN</td>\n      <td>senator</td>\n      <td>NaN</td>\n      <td>rob portman</td>\n      <td>rob</td>\n      <td>portman</td>\n      <td>rob portman</td>\n    </tr>\n    <tr>\n      <th>24139</th>\n      <td>2012-08-02</td>\n      <td>NaT</td>\n      <td>NaN</td>\n      <td>NaN</td>\n      <td>This filing was disclosed via scanned PDF. Use...</td>\n      <td>NaN</td>\n      <td>Unknown</td>\n      <td>thomas r. carper</td>\n      <td>NaN</td>\n      <td>NaN</td>\n      <td>...</td>\n      <td>NaN</td>\n      <td>NaN</td>\n      <td>PDF Disclosed Filing</td>\n      <td>NaN</td>\n      <td>senator</td>\n      <td>NaN</td>\n      <td>thomas r. carper</td>\n      <td>thomas</td>\n      <td>carper</td>\n      <td>thomas carper</td>\n    </tr>\n    <tr>\n      <th>24140</th>\n      <td>2012-07-25</td>\n      <td>NaT</td>\n      <td>NaN</td>\n      <td>NaN</td>\n      <td>This filing was disclosed via scanned PDF. Use...</td>\n      <td>NaN</td>\n      <td>Unknown</td>\n      <td>benjamin l cardin</td>\n      <td>NaN</td>\n      <td>NaN</td>\n      <td>...</td>\n      <td>NaN</td>\n      <td>NaN</td>\n      <td>PDF Disclosed Filing</td>\n      <td>NaN</td>\n      <td>senator</td>\n      <td>NaN</td>\n      <td>benjamin l cardin</td>\n      <td>benjamin</td>\n      <td>cardin</td>\n      <td>benjamin cardin</td>\n    </tr>\n  </tbody>\n</table>\n<p>24141 rows × 23 columns</p>\n</div>"
     },
     "execution_count": 103,
     "metadata": {},
     "output_type": "execute_result"
    }
   ],
   "source": [
    "trans = pd.read_csv('../data/transactions_20231018.csv')\n",
    "trans['disclosure_date'] = pd.to_datetime(trans['disclosure_date'], errors='coerce')\n",
    "trans['transaction_date'] = pd.to_datetime(trans['transaction_date'],errors='coerce')\n",
    "trans['member'] = trans['member'].str.lower()\n",
    "trans['parsed_name'] = trans['member'].apply(lambda x: nameparser.HumanName(x))\n",
    "trans['first_name'] = trans['parsed_name'].apply(lambda x: x.first)\n",
    "trans['last_name'] = trans['parsed_name'].apply(lambda x: x.last)\n",
    "trans['string_name'] = trans['first_name'] + ' ' + trans['last_name']\n",
    "\n",
    "trans"
   ],
   "metadata": {
    "collapsed": false,
    "ExecuteTime": {
     "end_time": "2023-11-28T21:10:21.266248Z",
     "start_time": "2023-11-28T21:10:20.398991Z"
    }
   },
   "id": "6adbe15bf47d0ec2"
  },
  {
   "cell_type": "code",
   "execution_count": 104,
   "outputs": [],
   "source": [
    "indices_steube = np.where(trans['string_name'].str.contains('steube'))[0]\n",
    "for idx in indices_steube:\n",
    "    trans.at[idx, 'first_name'] = 'greg'\n",
    "\n",
    "indices_bill = np.where(trans['string_name'].str.contains('william keating'))[0]\n",
    "for idx in indices_bill:\n",
    "    trans.at[idx, 'first_name'] = 'bill'\n",
    "\n",
    "indices_jackson = np.where(trans['string_name'].str.contains('jeff jackson'))[0]\n",
    "for idx in indices_jackson:\n",
    "    trans.at[idx, 'first_name'] = 'jeffrey'\n",
    "\n",
    "indices_flei = np.where(trans['string_name'].str.contains('charles fleischman'))[0]\n",
    "for idx in indices_flei:\n",
    "    trans.at[idx, 'first_name'] = 'chuck'\n",
    "\n",
    "indices = np.where(trans['string_name'].str.contains('david joyce'))[0]\n",
    "for idx in indices:\n",
    "    trans.at[idx, 'first_name'] = 'dave'\n",
    "\n",
    "indices = np.where(trans['string_name'].str.contains('patrick fallon'))[0]\n",
    "for idx in indices:\n",
    "    trans.at[idx, 'first_name'] = 'pat'\n",
    "\n",
    "indices = np.where(trans['string_name'].str.contains('david cawthorn'))[0]\n",
    "for idx in indices:\n",
    "    trans.at[idx, 'first_name'] = 'madison'\n",
    "\n",
    "indices = np.where(trans['string_name'].str.contains('james langevin'))[0]\n",
    "for idx in indices:\n",
    "    trans.at[idx, 'first_name'] = 'jim'\n",
    "\n",
    "indices = np.where(trans['string_name'].str.contains('richard allen'))[0]\n",
    "for idx in indices:\n",
    "    trans.at[idx, 'first_name'] = 'rick'\n",
    "\n",
    "indices = np.where(trans['string_name'].str.contains('bradley schneider'))[0]\n",
    "for idx in indices:\n",
    "    trans.at[idx, 'first_name'] = 'brad'\n",
    "\n",
    "indices = np.where(trans['string_name'].str.contains('aston mceachin'))[0]\n",
    "for idx in indices:\n",
    "    trans.at[idx, 'first_name'] = 'a.'\n",
    "\n",
    "indices = np.where(trans['string_name'].str.contains('david roe'))[0]\n",
    "for idx in indices:\n",
    "    trans.at[idx, 'first_name'] = 'phil'\n",
    "\n",
    "indices = np.where(trans['string_name'].str.contains('lacy clay'))[0]\n",
    "for idx in indices:\n",
    "    trans.at[idx, 'first_name'] = 'william'\n",
    "\n",
    "indices = np.where(trans['string_name'].str.contains('steve chabot'))[0]\n",
    "for idx in indices:\n",
    "    trans.at[idx, 'first_name'] = 'steven'\n",
    "\n",
    "indices = np.where(trans['string_name'].str.contains('joseph morelle'))[0]\n",
    "for idx in indices:\n",
    "    trans.at[idx, 'first_name'] = 'joe'\n",
    "\n",
    "indices = np.where(trans['string_name'].str.contains('linda sanchez'))[0]\n",
    "for idx in indices:\n",
    "    trans.at[idx, 'last_name'] = 'sánchez'\n",
    "trans['string_name'] = trans['first_name'] + ' ' + trans['last_name']\n",
    "\n",
    "indices = np.where(trans['string_name'].str.contains('bradley schneider'))[0]\n",
    "for idx in indices:\n",
    "    trans.at[idx, 'first_name'] = 'brad'"
   ],
   "metadata": {
    "collapsed": false,
    "ExecuteTime": {
     "end_time": "2023-11-28T21:10:21.421215Z",
     "start_time": "2023-11-28T21:10:21.274033Z"
    }
   },
   "id": "ad9e8e18fbe8f64a"
  },
  {
   "cell_type": "code",
   "execution_count": 105,
   "outputs": [],
   "source": [
    "trans_117 = trans[(trans['transaction_date'] < '2023-01-03') & (trans['transaction_date']  >= '2021-01-03')]\n",
    "trans_116 = trans[(trans['transaction_date'] < '2021-01-03')]\n",
    "trans_118 = trans[(trans['transaction_date'] > '2023-01-03')]"
   ],
   "metadata": {
    "collapsed": false,
    "ExecuteTime": {
     "end_time": "2023-11-28T21:10:21.492349Z",
     "start_time": "2023-11-28T21:10:21.475463Z"
    }
   },
   "id": "e5986dc60e089f78"
  },
  {
   "cell_type": "code",
   "execution_count": 106,
   "outputs": [
    {
     "name": "stdout",
     "output_type": "stream",
     "text": [
      "116 member count {118}\n",
      "117 member count {126}\n",
      "118 member count {51}\n"
     ]
    }
   ],
   "source": [
    "first = {len(trans_116['string_name'].unique())}\n",
    "second = {len(trans_117['string_name'].unique())}\n",
    "three = {len(trans_118['string_name'].unique())}\n",
    "\n",
    "print(f'116 member count {first}' )\n",
    "print(f'117 member count {second}' )\n",
    "print(f'118 member count {three}' )"
   ],
   "metadata": {
    "collapsed": false,
    "ExecuteTime": {
     "end_time": "2023-11-28T21:10:21.952057Z",
     "start_time": "2023-11-28T21:10:21.932964Z"
    }
   },
   "id": "a6723746156b3a6a"
  },
  {
   "cell_type": "code",
   "execution_count": 95,
   "outputs": [],
   "source": [
    "\"\"\"JOIN 116th congresses data\"\"\"\n",
    "\n",
    "senate_url = f\"https://api.propublica.org/congress/v1/116/senate/members.json\"\n",
    "house_url = f\"https://api.propublica.org/congress/v1/116/house/members.json\"\n",
    "\n",
    "senate_116 = requests.get(senate_url, headers=headers)\n",
    "house_116 = requests.get(house_url, headers=headers)\n",
    "senate_116_members = senate_116.json()['results'][0]['members']\n",
    "house_116_members = house_116.json()['results'][0]['members']\n",
    "senate_116_members = pd.DataFrame(senate_116_members)\n",
    "house_116_members = pd.DataFrame(house_116_members)\n",
    "senate_116_members = senate_116_members[['short_title', 'first_name', 'middle_name', 'last_name','party','id']]\n",
    "house_116_members = house_116_members[['short_title', 'first_name', 'middle_name', 'last_name','party','id']]\n",
    "\n",
    "members_116 = pd.concat([senate_116_members, house_116_members])\n",
    "members_116['display_name'] = members_116['short_title'] + ' ' + members_116['first_name']  + ' ' + members_116['last_name']\n",
    "members_116['member'] = members_116['first_name'] + ' ' + members_116['last_name']\n",
    "members_116['member'] = members_116['member'].str.lower()\n",
    "members_116['parsed_name'] = members_116['member'].apply(lambda x: nameparser.HumanName(x))\n",
    "members_116['first_name'] = members_116['parsed_name'].apply(lambda x: x.first)\n",
    "members_116['last_name'] = members_116['parsed_name'].apply(lambda x: x.last)\n",
    "members_116['string_name'] = members_116['first_name'] + ' ' + members_116['last_name']\n",
    "\n",
    "trans_names_116 = trans_116['string_name'].unique()\n",
    "\n",
    "members_116 = members_116[members_116['string_name'].isin(trans_names_116)]\n",
    "\n",
    "trans_116 = trans_116.merge(members_116, how='left', on='string_name')[['display_name',\n",
    "                                                                        'string_name',\n",
    "                                                                        'transaction_date',\n",
    "                                                                        'disclosure_date',\n",
    "                                                                        'ticker',\n",
    "                                                                        'asset_description',\n",
    "                                                                        'type',\n",
    "                                                                        'amount',\n",
    "                                                                        'industry',\n",
    "                                                                        'sector',\n",
    "                                                                        'state',\n",
    "                                                                        'party_x',\n",
    "                                                                        'amount_formatted',\n",
    "                                                                        'id'\n",
    "                                                                        ]]\n",
    "\n",
    "member_id_list = members_116['id'].unique()\n",
    "committee_df = []\n",
    "subcommittee_df = []\n",
    "\n",
    "for member_id in member_id_list:\n",
    "    member_url = f\"https://api.propublica.org/congress/v1/members/{member_id}.json\"\n",
    "    r = requests.get(member_url, headers=headers)\n",
    "\n",
    "    member_committies_name = []\n",
    "    member_committies_code = []\n",
    "\n",
    "    member_subcommitties_name = []\n",
    "    member_subcommitties_code = []\n",
    "    member_subcommittee_parent_id = []\n",
    "\n",
    "    member_roles = r.json()['results'][0]['roles']\n",
    "    for role in member_roles:\n",
    "        if role['congress'] == '116':\n",
    "            for committee in role['committees']:\n",
    "                member_committies_name.append(committee['name'])\n",
    "                member_committies_code.append(committee['code'])\n",
    "\n",
    "            for subcommittee in role['subcommittees']:\n",
    "                member_subcommitties_name.append(subcommittee['name'])\n",
    "                member_subcommitties_code.append(subcommittee['code'])\n",
    "                member_subcommittee_parent_id.append(subcommittee['parent_committee_id'])\n",
    "\n",
    "        member_committies=pd.DataFrame({'name': member_committies_name,\n",
    "                                        'code': member_committies_code})\n",
    "\n",
    "        member_subcommitties = pd.DataFrame({'name': member_subcommitties_name,\n",
    "                                             'code': member_subcommitties_code,\n",
    "                                             'parent_committee_id': member_subcommittee_parent_id})\n",
    "\n",
    "        member_committies['member_id'] = member_id\n",
    "        member_subcommitties['member_id'] = member_id\n",
    "        committee_df.append(member_committies)\n",
    "        subcommittee_df.append(member_subcommitties)\n",
    "\n",
    "\n",
    "committee_df = pd.concat(committee_df)\n",
    "subcommittee_df = pd.concat(subcommittee_df)\n",
    "committee_df = committee_df[['member_id' ,'code']]\n",
    "committee_df_116 = pd.get_dummies(committee_df, columns=['code'], prefix='', prefix_sep='').groupby(['member_id']).sum().reset_index()\n",
    "subcommittee_df = subcommittee_df[['code', 'member_id']]\n",
    "subcommittee_df_116 = pd.get_dummies(subcommittee_df, columns=['code'], prefix='', prefix_sep='').groupby(['member_id']).sum().reset_index()\n",
    "\n",
    "\n",
    "columns_to_drop = ['short_title', 'first_name', 'middle_name', 'last_name','party', 'parsed_name', 'member', 'display_name', 'parsed_name', 'string_name', 'member_id_x']\n",
    "assignments_116 = members_116.merge(committee_df_116, left_on='id', right_on='member_id', how = 'left').merge(subcommittee_df_116, left_on='id', right_on='member_id', how = 'left').drop(columns=columns_to_drop)\n",
    "\n",
    "final_116 = trans_116.merge(assignments_116, how='left', on='id').drop('member_id_y', axis=1)"
   ],
   "metadata": {
    "collapsed": false,
    "ExecuteTime": {
     "end_time": "2023-11-28T21:04:30.324428Z",
     "start_time": "2023-11-28T21:02:58.384753Z"
    }
   },
   "id": "e811da713b6b2136"
  },
  {
   "cell_type": "code",
   "execution_count": 96,
   "outputs": [
    {
     "data": {
      "text/plain": "            display_name    string_name transaction_date disclosure_date  \\\n0         Rep. Susie Lee      susie lee       2020-02-24      2020-04-28   \n1         Rep. Susie Lee      susie lee       2020-03-06      2020-04-28   \n2         Rep. Susie Lee      susie lee       2020-03-23      2020-04-28   \n3         Rep. Susie Lee      susie lee       2020-02-04      2020-04-28   \n4         Rep. Susie Lee      susie lee       2020-03-18      2020-04-28   \n...                  ...            ...              ...             ...   \n7435  Rep. Ed Perlmutter  ed perlmutter       2020-04-09      2020-06-10   \n7436  Rep. Ed Perlmutter  ed perlmutter       2020-04-09      2020-06-10   \n7437     Rep. Van Taylor     van taylor       2020-03-13      2020-06-10   \n7438     Rep. Van Taylor     van taylor       2020-03-13      2020-06-10   \n7439     Rep. Van Taylor     van taylor       2020-03-13      2020-06-10   \n\n     ticker                        asset_description          type  \\\n0       BHC             Bausch Health Companies Inc.      purchase   \n1       BAH  Booz Allen Hamilton Holding Corporation     sale_full   \n2       BYD                  Boyd Gaming Corporation     sale_full   \n3      CTLT                           Catalent, Inc.      purchase   \n4      CBRE      CBRE Group Inc Common Stock Class A  sale_partial   \n...     ...                                      ...           ...   \n7435    SWK             Stanley Black & Decker, Inc.  sale_partial   \n7436    USB                             U.S. Bancorp  sale_partial   \n7437    BMY             Bristol-Myers Squibb Company     sale_full   \n7438    LLY                    Eli Lilly and Company     sale_full   \n7439    DIS                      Walt Disney Company     sale_full   \n\n                     amount                                    industry  \\\n0          $1,001 - $15,000           Pharmaceuticals and Biotechnology   \n1          $1,001 - $15,000                       Professional Services   \n2          $1,001 - $15,000                        Movies/Entertainment   \n3          $1,001 - $15,000  Biotechnology: Pharmaceutical Preparations   \n4          $1,001 - $15,000                                 Real Estate   \n...                     ...                                         ...   \n7435       $1,001 - $15,000                     Diversified Manufacture   \n7436       $1,001 - $15,000                                 Major Banks   \n7437    $100,001 - $250,000                       Major Pharmaceuticals   \n7438  $500,001 - $1,000,000                       Major Pharmaceuticals   \n7439    $250,001 - $500,000       Services-Misc. Amusement & Recreation   \n\n                      sector  ... HSVR08 HSVR09  HSVR10 HSVR11  HSWM01  \\\n0                Health Care  ...    0.0    0.0     1.0    1.0     0.0   \n1          Consumer Services  ...    0.0    0.0     1.0    1.0     0.0   \n2     Consumer Discretionary  ...    0.0    0.0     1.0    1.0     0.0   \n3                Health Care  ...    0.0    0.0     1.0    1.0     0.0   \n4                    Finance  ...    0.0    0.0     1.0    1.0     0.0   \n...                      ...  ...    ...    ...     ...    ...     ...   \n7435  Consumer Discretionary  ...    0.0    0.0     0.0    0.0     0.0   \n7436                 Finance  ...    0.0    0.0     0.0    0.0     0.0   \n7437             Health Care  ...    0.0    0.0     0.0    0.0     0.0   \n7438             Health Care  ...    0.0    0.0     0.0    0.0     0.0   \n7439       Consumer Services  ...    0.0    0.0     0.0    0.0     0.0   \n\n      HSWM02  HSWM03  HSWM04  HSWM05  HSWM06  \n0        0.0     0.0     0.0     0.0     0.0  \n1        0.0     0.0     0.0     0.0     0.0  \n2        0.0     0.0     0.0     0.0     0.0  \n3        0.0     0.0     0.0     0.0     0.0  \n4        0.0     0.0     0.0     0.0     0.0  \n...      ...     ...     ...     ...     ...  \n7435     0.0     0.0     0.0     0.0     0.0  \n7436     0.0     0.0     0.0     0.0     0.0  \n7437     0.0     0.0     0.0     0.0     0.0  \n7438     0.0     0.0     0.0     0.0     0.0  \n7439     0.0     0.0     0.0     0.0     0.0  \n\n[7440 rows x 134 columns]",
      "text/html": "<div>\n<style scoped>\n    .dataframe tbody tr th:only-of-type {\n        vertical-align: middle;\n    }\n\n    .dataframe tbody tr th {\n        vertical-align: top;\n    }\n\n    .dataframe thead th {\n        text-align: right;\n    }\n</style>\n<table border=\"1\" class=\"dataframe\">\n  <thead>\n    <tr style=\"text-align: right;\">\n      <th></th>\n      <th>display_name</th>\n      <th>string_name</th>\n      <th>transaction_date</th>\n      <th>disclosure_date</th>\n      <th>ticker</th>\n      <th>asset_description</th>\n      <th>type</th>\n      <th>amount</th>\n      <th>industry</th>\n      <th>sector</th>\n      <th>...</th>\n      <th>HSVR08</th>\n      <th>HSVR09</th>\n      <th>HSVR10</th>\n      <th>HSVR11</th>\n      <th>HSWM01</th>\n      <th>HSWM02</th>\n      <th>HSWM03</th>\n      <th>HSWM04</th>\n      <th>HSWM05</th>\n      <th>HSWM06</th>\n    </tr>\n  </thead>\n  <tbody>\n    <tr>\n      <th>0</th>\n      <td>Rep. Susie Lee</td>\n      <td>susie lee</td>\n      <td>2020-02-24</td>\n      <td>2020-04-28</td>\n      <td>BHC</td>\n      <td>Bausch Health Companies Inc.</td>\n      <td>purchase</td>\n      <td>$1,001 - $15,000</td>\n      <td>Pharmaceuticals and Biotechnology</td>\n      <td>Health Care</td>\n      <td>...</td>\n      <td>0.0</td>\n      <td>0.0</td>\n      <td>1.0</td>\n      <td>1.0</td>\n      <td>0.0</td>\n      <td>0.0</td>\n      <td>0.0</td>\n      <td>0.0</td>\n      <td>0.0</td>\n      <td>0.0</td>\n    </tr>\n    <tr>\n      <th>1</th>\n      <td>Rep. Susie Lee</td>\n      <td>susie lee</td>\n      <td>2020-03-06</td>\n      <td>2020-04-28</td>\n      <td>BAH</td>\n      <td>Booz Allen Hamilton Holding Corporation</td>\n      <td>sale_full</td>\n      <td>$1,001 - $15,000</td>\n      <td>Professional Services</td>\n      <td>Consumer Services</td>\n      <td>...</td>\n      <td>0.0</td>\n      <td>0.0</td>\n      <td>1.0</td>\n      <td>1.0</td>\n      <td>0.0</td>\n      <td>0.0</td>\n      <td>0.0</td>\n      <td>0.0</td>\n      <td>0.0</td>\n      <td>0.0</td>\n    </tr>\n    <tr>\n      <th>2</th>\n      <td>Rep. Susie Lee</td>\n      <td>susie lee</td>\n      <td>2020-03-23</td>\n      <td>2020-04-28</td>\n      <td>BYD</td>\n      <td>Boyd Gaming Corporation</td>\n      <td>sale_full</td>\n      <td>$1,001 - $15,000</td>\n      <td>Movies/Entertainment</td>\n      <td>Consumer Discretionary</td>\n      <td>...</td>\n      <td>0.0</td>\n      <td>0.0</td>\n      <td>1.0</td>\n      <td>1.0</td>\n      <td>0.0</td>\n      <td>0.0</td>\n      <td>0.0</td>\n      <td>0.0</td>\n      <td>0.0</td>\n      <td>0.0</td>\n    </tr>\n    <tr>\n      <th>3</th>\n      <td>Rep. Susie Lee</td>\n      <td>susie lee</td>\n      <td>2020-02-04</td>\n      <td>2020-04-28</td>\n      <td>CTLT</td>\n      <td>Catalent, Inc.</td>\n      <td>purchase</td>\n      <td>$1,001 - $15,000</td>\n      <td>Biotechnology: Pharmaceutical Preparations</td>\n      <td>Health Care</td>\n      <td>...</td>\n      <td>0.0</td>\n      <td>0.0</td>\n      <td>1.0</td>\n      <td>1.0</td>\n      <td>0.0</td>\n      <td>0.0</td>\n      <td>0.0</td>\n      <td>0.0</td>\n      <td>0.0</td>\n      <td>0.0</td>\n    </tr>\n    <tr>\n      <th>4</th>\n      <td>Rep. Susie Lee</td>\n      <td>susie lee</td>\n      <td>2020-03-18</td>\n      <td>2020-04-28</td>\n      <td>CBRE</td>\n      <td>CBRE Group Inc Common Stock Class A</td>\n      <td>sale_partial</td>\n      <td>$1,001 - $15,000</td>\n      <td>Real Estate</td>\n      <td>Finance</td>\n      <td>...</td>\n      <td>0.0</td>\n      <td>0.0</td>\n      <td>1.0</td>\n      <td>1.0</td>\n      <td>0.0</td>\n      <td>0.0</td>\n      <td>0.0</td>\n      <td>0.0</td>\n      <td>0.0</td>\n      <td>0.0</td>\n    </tr>\n    <tr>\n      <th>...</th>\n      <td>...</td>\n      <td>...</td>\n      <td>...</td>\n      <td>...</td>\n      <td>...</td>\n      <td>...</td>\n      <td>...</td>\n      <td>...</td>\n      <td>...</td>\n      <td>...</td>\n      <td>...</td>\n      <td>...</td>\n      <td>...</td>\n      <td>...</td>\n      <td>...</td>\n      <td>...</td>\n      <td>...</td>\n      <td>...</td>\n      <td>...</td>\n      <td>...</td>\n      <td>...</td>\n    </tr>\n    <tr>\n      <th>7435</th>\n      <td>Rep. Ed Perlmutter</td>\n      <td>ed perlmutter</td>\n      <td>2020-04-09</td>\n      <td>2020-06-10</td>\n      <td>SWK</td>\n      <td>Stanley Black &amp; Decker, Inc.</td>\n      <td>sale_partial</td>\n      <td>$1,001 - $15,000</td>\n      <td>Diversified Manufacture</td>\n      <td>Consumer Discretionary</td>\n      <td>...</td>\n      <td>0.0</td>\n      <td>0.0</td>\n      <td>0.0</td>\n      <td>0.0</td>\n      <td>0.0</td>\n      <td>0.0</td>\n      <td>0.0</td>\n      <td>0.0</td>\n      <td>0.0</td>\n      <td>0.0</td>\n    </tr>\n    <tr>\n      <th>7436</th>\n      <td>Rep. Ed Perlmutter</td>\n      <td>ed perlmutter</td>\n      <td>2020-04-09</td>\n      <td>2020-06-10</td>\n      <td>USB</td>\n      <td>U.S. Bancorp</td>\n      <td>sale_partial</td>\n      <td>$1,001 - $15,000</td>\n      <td>Major Banks</td>\n      <td>Finance</td>\n      <td>...</td>\n      <td>0.0</td>\n      <td>0.0</td>\n      <td>0.0</td>\n      <td>0.0</td>\n      <td>0.0</td>\n      <td>0.0</td>\n      <td>0.0</td>\n      <td>0.0</td>\n      <td>0.0</td>\n      <td>0.0</td>\n    </tr>\n    <tr>\n      <th>7437</th>\n      <td>Rep. Van Taylor</td>\n      <td>van taylor</td>\n      <td>2020-03-13</td>\n      <td>2020-06-10</td>\n      <td>BMY</td>\n      <td>Bristol-Myers Squibb Company</td>\n      <td>sale_full</td>\n      <td>$100,001 - $250,000</td>\n      <td>Major Pharmaceuticals</td>\n      <td>Health Care</td>\n      <td>...</td>\n      <td>0.0</td>\n      <td>0.0</td>\n      <td>0.0</td>\n      <td>0.0</td>\n      <td>0.0</td>\n      <td>0.0</td>\n      <td>0.0</td>\n      <td>0.0</td>\n      <td>0.0</td>\n      <td>0.0</td>\n    </tr>\n    <tr>\n      <th>7438</th>\n      <td>Rep. Van Taylor</td>\n      <td>van taylor</td>\n      <td>2020-03-13</td>\n      <td>2020-06-10</td>\n      <td>LLY</td>\n      <td>Eli Lilly and Company</td>\n      <td>sale_full</td>\n      <td>$500,001 - $1,000,000</td>\n      <td>Major Pharmaceuticals</td>\n      <td>Health Care</td>\n      <td>...</td>\n      <td>0.0</td>\n      <td>0.0</td>\n      <td>0.0</td>\n      <td>0.0</td>\n      <td>0.0</td>\n      <td>0.0</td>\n      <td>0.0</td>\n      <td>0.0</td>\n      <td>0.0</td>\n      <td>0.0</td>\n    </tr>\n    <tr>\n      <th>7439</th>\n      <td>Rep. Van Taylor</td>\n      <td>van taylor</td>\n      <td>2020-03-13</td>\n      <td>2020-06-10</td>\n      <td>DIS</td>\n      <td>Walt Disney Company</td>\n      <td>sale_full</td>\n      <td>$250,001 - $500,000</td>\n      <td>Services-Misc. Amusement &amp; Recreation</td>\n      <td>Consumer Services</td>\n      <td>...</td>\n      <td>0.0</td>\n      <td>0.0</td>\n      <td>0.0</td>\n      <td>0.0</td>\n      <td>0.0</td>\n      <td>0.0</td>\n      <td>0.0</td>\n      <td>0.0</td>\n      <td>0.0</td>\n      <td>0.0</td>\n    </tr>\n  </tbody>\n</table>\n<p>7440 rows × 134 columns</p>\n</div>"
     },
     "execution_count": 96,
     "metadata": {},
     "output_type": "execute_result"
    }
   ],
   "source": [
    "final_116"
   ],
   "metadata": {
    "collapsed": false,
    "ExecuteTime": {
     "end_time": "2023-11-28T21:04:30.366111Z",
     "start_time": "2023-11-28T21:04:30.325183Z"
    }
   },
   "id": "c11e64f906453687"
  },
  {
   "cell_type": "code",
   "execution_count": 97,
   "outputs": [
    {
     "data": {
      "text/plain": "((113, 24), (109, 98))"
     },
     "execution_count": 97,
     "metadata": {},
     "output_type": "execute_result"
    }
   ],
   "source": [
    "committee_df_116.shape, subcommittee_df_116.shape"
   ],
   "metadata": {
    "collapsed": false,
    "ExecuteTime": {
     "end_time": "2023-11-28T21:04:30.389186Z",
     "start_time": "2023-11-28T21:04:30.343706Z"
    }
   },
   "id": "5b5b9323c93172db"
  },
  {
   "cell_type": "code",
   "execution_count": 107,
   "outputs": [
    {
     "data": {
      "text/plain": "    short_title first_name middle_name last_name party       id  \\\n1          Rep.     robert          B.  aderholt     R  A000055   \n3          Rep.       rick        None     allen     R  A000372   \n9          Rep.    cynthia        None      axne     D  A000378   \n14         Rep.        jim        None     banks     R  B001299   \n19         Rep.      cliff        None     bentz     R  B000668   \n..          ...        ...         ...       ...   ...      ...   \n433        Rep.    michael        None     waltz     R  W000823   \n434        Rep.     debbie        None   schultz     D  W000797   \n439        Rep.      peter        None     welch     D  W000800   \n448        Rep.     robert          J.   wittman     R  W000804   \n452        Rep.       john        None   yarmuth     D  Y000062   \n\n                      display_name                    member  \\\n1             Rep. Robert Aderholt           robert aderholt   \n3                  Rep. Rick Allen                rick allen   \n9                Rep. Cynthia Axne              cynthia axne   \n14                  Rep. Jim Banks                 jim banks   \n19                Rep. Cliff Bentz               cliff bentz   \n..                             ...                       ...   \n433             Rep. Michael Waltz             michael waltz   \n434  Rep. Debbie Wasserman Schultz  debbie wasserman schultz   \n439               Rep. Peter Welch               peter welch   \n448            Rep. Robert Wittman            robert wittman   \n452              Rep. John Yarmuth              john yarmuth   \n\n                  parsed_name      string_name  \n1             robert aderholt  robert aderholt  \n3                  rick allen       rick allen  \n9                cynthia axne     cynthia axne  \n14                  jim banks        jim banks  \n19                cliff bentz      cliff bentz  \n..                        ...              ...  \n433             michael waltz    michael waltz  \n434  debbie wasserman schultz   debbie schultz  \n439               peter welch      peter welch  \n448            robert wittman   robert wittman  \n452              john yarmuth     john yarmuth  \n\n[119 rows x 10 columns]",
      "text/html": "<div>\n<style scoped>\n    .dataframe tbody tr th:only-of-type {\n        vertical-align: middle;\n    }\n\n    .dataframe tbody tr th {\n        vertical-align: top;\n    }\n\n    .dataframe thead th {\n        text-align: right;\n    }\n</style>\n<table border=\"1\" class=\"dataframe\">\n  <thead>\n    <tr style=\"text-align: right;\">\n      <th></th>\n      <th>short_title</th>\n      <th>first_name</th>\n      <th>middle_name</th>\n      <th>last_name</th>\n      <th>party</th>\n      <th>id</th>\n      <th>display_name</th>\n      <th>member</th>\n      <th>parsed_name</th>\n      <th>string_name</th>\n    </tr>\n  </thead>\n  <tbody>\n    <tr>\n      <th>1</th>\n      <td>Rep.</td>\n      <td>robert</td>\n      <td>B.</td>\n      <td>aderholt</td>\n      <td>R</td>\n      <td>A000055</td>\n      <td>Rep. Robert Aderholt</td>\n      <td>robert aderholt</td>\n      <td>robert aderholt</td>\n      <td>robert aderholt</td>\n    </tr>\n    <tr>\n      <th>3</th>\n      <td>Rep.</td>\n      <td>rick</td>\n      <td>None</td>\n      <td>allen</td>\n      <td>R</td>\n      <td>A000372</td>\n      <td>Rep. Rick Allen</td>\n      <td>rick allen</td>\n      <td>rick allen</td>\n      <td>rick allen</td>\n    </tr>\n    <tr>\n      <th>9</th>\n      <td>Rep.</td>\n      <td>cynthia</td>\n      <td>None</td>\n      <td>axne</td>\n      <td>D</td>\n      <td>A000378</td>\n      <td>Rep. Cynthia Axne</td>\n      <td>cynthia axne</td>\n      <td>cynthia axne</td>\n      <td>cynthia axne</td>\n    </tr>\n    <tr>\n      <th>14</th>\n      <td>Rep.</td>\n      <td>jim</td>\n      <td>None</td>\n      <td>banks</td>\n      <td>R</td>\n      <td>B001299</td>\n      <td>Rep. Jim Banks</td>\n      <td>jim banks</td>\n      <td>jim banks</td>\n      <td>jim banks</td>\n    </tr>\n    <tr>\n      <th>19</th>\n      <td>Rep.</td>\n      <td>cliff</td>\n      <td>None</td>\n      <td>bentz</td>\n      <td>R</td>\n      <td>B000668</td>\n      <td>Rep. Cliff Bentz</td>\n      <td>cliff bentz</td>\n      <td>cliff bentz</td>\n      <td>cliff bentz</td>\n    </tr>\n    <tr>\n      <th>...</th>\n      <td>...</td>\n      <td>...</td>\n      <td>...</td>\n      <td>...</td>\n      <td>...</td>\n      <td>...</td>\n      <td>...</td>\n      <td>...</td>\n      <td>...</td>\n      <td>...</td>\n    </tr>\n    <tr>\n      <th>433</th>\n      <td>Rep.</td>\n      <td>michael</td>\n      <td>None</td>\n      <td>waltz</td>\n      <td>R</td>\n      <td>W000823</td>\n      <td>Rep. Michael Waltz</td>\n      <td>michael waltz</td>\n      <td>michael waltz</td>\n      <td>michael waltz</td>\n    </tr>\n    <tr>\n      <th>434</th>\n      <td>Rep.</td>\n      <td>debbie</td>\n      <td>None</td>\n      <td>schultz</td>\n      <td>D</td>\n      <td>W000797</td>\n      <td>Rep. Debbie Wasserman Schultz</td>\n      <td>debbie wasserman schultz</td>\n      <td>debbie wasserman schultz</td>\n      <td>debbie schultz</td>\n    </tr>\n    <tr>\n      <th>439</th>\n      <td>Rep.</td>\n      <td>peter</td>\n      <td>None</td>\n      <td>welch</td>\n      <td>D</td>\n      <td>W000800</td>\n      <td>Rep. Peter Welch</td>\n      <td>peter welch</td>\n      <td>peter welch</td>\n      <td>peter welch</td>\n    </tr>\n    <tr>\n      <th>448</th>\n      <td>Rep.</td>\n      <td>robert</td>\n      <td>J.</td>\n      <td>wittman</td>\n      <td>R</td>\n      <td>W000804</td>\n      <td>Rep. Robert Wittman</td>\n      <td>robert wittman</td>\n      <td>robert wittman</td>\n      <td>robert wittman</td>\n    </tr>\n    <tr>\n      <th>452</th>\n      <td>Rep.</td>\n      <td>john</td>\n      <td>None</td>\n      <td>yarmuth</td>\n      <td>D</td>\n      <td>Y000062</td>\n      <td>Rep. John Yarmuth</td>\n      <td>john yarmuth</td>\n      <td>john yarmuth</td>\n      <td>john yarmuth</td>\n    </tr>\n  </tbody>\n</table>\n<p>119 rows × 10 columns</p>\n</div>"
     },
     "execution_count": 107,
     "metadata": {},
     "output_type": "execute_result"
    }
   ],
   "source": [
    "\"\"\"JOIN 117th congresses data\"\"\"\n",
    "\n",
    "senate_url = f\"https://api.propublica.org/congress/v1/117/senate/members.json\"\n",
    "house_url = f\"https://api.propublica.org/congress/v1/117/house/members.json\"\n",
    "\n",
    "senate_117 = requests.get(senate_url, headers=headers)\n",
    "house_117 = requests.get(house_url, headers=headers)\n",
    "senate_117_members = senate_117.json()['results'][0]['members']\n",
    "house_117_members = house_117.json()['results'][0]['members']\n",
    "senate_117_members = pd.DataFrame(senate_117_members)\n",
    "house_117_members = pd.DataFrame(house_117_members)\n",
    "senate_117_members = senate_117_members[['short_title', 'first_name', 'middle_name', 'last_name','party','id']]\n",
    "house_117_members = house_117_members[['short_title', 'first_name', 'middle_name', 'last_name','party','id']]\n",
    "\n",
    "members_117 = pd.concat([senate_117_members, house_117_members])\n",
    "members_117['display_name'] = members_117['short_title'] + ' ' + members_117['first_name']  + ' ' + members_117['last_name']\n",
    "members_117['member'] = members_117['first_name'] + ' ' + members_117['last_name']\n",
    "members_117['member'] = members_117['member'].str.lower()\n",
    "members_117['parsed_name'] = members_117['member'].apply(lambda x: nameparser.HumanName(x))\n",
    "members_117['first_name'] = members_117['parsed_name'].apply(lambda x: x.first)\n",
    "members_117['last_name'] = members_117['parsed_name'].apply(lambda x: x.last)\n",
    "members_117['string_name'] = members_117['first_name'] + ' ' + members_117['last_name']\n",
    "\n",
    "trans_names_117 = trans_117['string_name'].unique()\n",
    "\n",
    "members_117 = members_117[members_117['string_name'].isin(trans_names_117)]\n",
    "\n",
    "trans_117 = trans_117.merge(members_117, how='left', on='string_name')[['display_name',\n",
    "                                                                        'string_name',\n",
    "                                                                        'transaction_date',\n",
    "                                                                        'disclosure_date',\n",
    "                                                                        'ticker',\n",
    "                                                                        'asset_description',\n",
    "                                                                        'type',\n",
    "                                                                        'amount',\n",
    "                                                                        'industry',\n",
    "                                                                        'sector',\n",
    "                                                                        'state',\n",
    "                                                                        'party_x',\n",
    "                                                                        'amount_formatted',\n",
    "                                                                        'id'\n",
    "                                                                        ]]\n",
    "\n",
    "\n",
    "\n",
    "\n",
    "members_117"
   ],
   "metadata": {
    "collapsed": false,
    "ExecuteTime": {
     "end_time": "2023-11-28T21:10:40.436913Z",
     "start_time": "2023-11-28T21:10:38.984141Z"
    }
   },
   "id": "c7f93ef38f04f74c"
  },
  {
   "cell_type": "code",
   "execution_count": 170,
   "outputs": [],
   "source": [
    "member_id_list_117 = members_117['id'].unique()\n",
    "committee_df = []\n",
    "subcommittee_df = []\n",
    "for member_id in member_id_list_117:\n",
    "    url = f\"https://api.propublica.org/congress/v1/members/{member_id}.json\"\n",
    "    r = requests.get(url, headers=headers)\n",
    "    roles = r.json()['results'][0]['roles']\n",
    "    member_committies_name = []\n",
    "    member_committies_code = []\n",
    "\n",
    "    member_subcommitties_name = []\n",
    "    member_subcommitties_code = []\n",
    "    member_subcommittee_parent_id = []\n",
    "    for role in roles:\n",
    "        if role['congress'] == '117':\n",
    "            for committee in role['committees']:\n",
    "                member_committies_name.append(committee['name'])\n",
    "                member_committies_code.append(committee['code'])\n",
    "\n",
    "            for subcommittee in role['subcommittees']:\n",
    "                member_subcommitties_name.append(subcommittee['name'])\n",
    "                member_subcommitties_code.append(subcommittee['code'])\n",
    "                member_subcommittee_parent_id.append(subcommittee['parent_committee_id'])\n",
    "\n",
    "    member_committies=pd.DataFrame({'name': member_committies_name,\n",
    "                                        'code': member_committies_code})\n",
    "\n",
    "    member_subcommitties = pd.DataFrame({'name': member_subcommitties_name,\n",
    "                                             'code': member_subcommitties_code,\n",
    "                                             'parent_committee_id': member_subcommittee_parent_id})\n",
    "\n",
    "    member_committies['member_id'] = member_id\n",
    "    member_subcommitties['member_id'] = member_id\n",
    "    committee_df.append(member_committies)\n",
    "    subcommittee_df.append(member_subcommitties)\n",
    "\n",
    "committee_df = pd.concat(committee_df)\n",
    "subcommittee_df = pd.concat(subcommittee_df)\n",
    "\n",
    "committee_df = committee_df[['member_id' ,'code']]\n",
    "committee_df_117 = pd.get_dummies(committee_df, columns=['code'], prefix='', prefix_sep='').groupby(['member_id']).sum().reset_index()\n",
    "subcommittee_df = subcommittee_df[['code', 'member_id']]\n",
    "subcommittee_df_117 = pd.get_dummies(subcommittee_df, columns=['code'], prefix='', prefix_sep='').groupby(['member_id']).sum().reset_index()\n",
    "\n",
    "\n",
    "columns_to_drop = ['short_title', 'first_name', 'middle_name', 'last_name','party', 'parsed_name', 'member', 'display_name', 'parsed_name', 'string_name', 'member_id_x']\n",
    "assignments_117 = members_116.merge(committee_df_116, left_on='id', right_on='member_id', how = 'left').merge(subcommittee_df_117, left_on='id', right_on='member_id', how = 'left').drop(columns=columns_to_drop)\n",
    "\n",
    "final_117 = trans_117.merge(assignments_117, how='left', on='id').drop('member_id_y', axis=1)\n",
    "    \n"
   ],
   "metadata": {
    "collapsed": false,
    "ExecuteTime": {
     "end_time": "2023-11-28T22:00:01.170488Z",
     "start_time": "2023-11-28T21:59:20.970006Z"
    }
   },
   "id": "f820bcf83309e05"
  },
  {
   "cell_type": "code",
   "execution_count": 171,
   "outputs": [
    {
     "data": {
      "text/plain": "              display_name      string_name transaction_date disclosure_date  \\\n0       Rep. Virginia Foxx    virginia foxx       2021-09-27      2021-10-04   \n1       Rep. Virginia Foxx    virginia foxx       2021-09-13      2021-10-04   \n2       Rep. Virginia Foxx    virginia foxx       2021-09-10      2021-10-04   \n3       Rep. Virginia Foxx    virginia foxx       2021-09-28      2021-10-04   \n4      Rep. Alan Lowenthal   alan lowenthal       2021-09-17      2021-10-04   \n...                    ...              ...              ...             ...   \n7652  Rep. John Rutherford  john rutherford       2022-02-17      2022-03-16   \n7653  Rep. John Rutherford  john rutherford       2022-02-17      2022-03-16   \n7654  Rep. John Rutherford  john rutherford       2022-02-17      2022-03-16   \n7655  Rep. John Rutherford  john rutherford       2022-02-17      2022-03-16   \n7656  Rep. John Rutherford  john rutherford       2022-02-17      2022-03-16   \n\n     ticker                                  asset_description          type  \\\n0        BP                                             BP plc      purchase   \n1       XOM                            Exxon Mobil Corporation      purchase   \n2      ILPT  Industrial Logistics Properties Trust - Common...      purchase   \n3        PM                   Phillip Morris International Inc      purchase   \n4       BLK                                      BlackRock Inc  sale_partial   \n...     ...                                                ...           ...   \n7652     TM                               Toyota Motor Company  sale_partial   \n7653    USB                                         US Bancorp     sale_full   \n7654    UGI                                    UGI Corporation      purchase   \n7655   VALE  VALE S.A. ADR Shares each representing one com...  sale_partial   \n7656  XYIGY       Xinyi Glass Holdings Limited Unsponsored ADR      purchase   \n\n                 amount                            industry  \\\n0      $1,001 - $15,000            Integrated oil Companies   \n1      $1,001 - $15,000            Integrated oil Companies   \n2     $15,001 - $50,000       Real Estate Investment Trusts   \n3     $15,001 - $50,000               Farming/Seeds/Milling   \n4      $1,001 - $15,000  Investment Bankers/Brokers/Service   \n...                 ...                                 ...   \n7652   $1,001 - $15,000                  Auto Manufacturing   \n7653   $1,001 - $15,000                         Major Banks   \n7654   $1,001 - $15,000            Natural Gas Distribution   \n7655   $1,001 - $15,000                        Metal Mining   \n7656   $1,001 - $15,000                                 NaN   \n\n                     sector  ... HSII HSJU  HSMH HSPW  HSRU  HSSM  HSSO  HSSY  \\\n0                    Energy  ...  0.0  0.0   0.0  0.0   0.0   0.0   0.0   0.0   \n1                    Energy  ...  0.0  0.0   0.0  0.0   0.0   0.0   0.0   0.0   \n2               Real Estate  ...  0.0  0.0   0.0  0.0   0.0   0.0   0.0   0.0   \n3     Consumer Non-Durables  ...  0.0  0.0   0.0  0.0   0.0   0.0   0.0   0.0   \n4                   Finance  ...  4.0  0.0   0.0  4.0   0.0   0.0   0.0   0.0   \n...                     ...  ...  ...  ...   ...  ...   ...   ...   ...   ...   \n7652          Capital Goods  ...  0.0  0.0   0.0  0.0   0.0   0.0   0.0   0.0   \n7653                Finance  ...  0.0  0.0   0.0  0.0   0.0   0.0   0.0   0.0   \n7654              Utilities  ...  0.0  0.0   0.0  0.0   0.0   0.0   0.0   0.0   \n7655        Basic Materials  ...  0.0  0.0   0.0  0.0   0.0   0.0   0.0   0.0   \n7656                    NaN  ...  0.0  0.0   0.0  0.0   0.0   0.0   0.0   0.0   \n\n      HSVR  HSWM  \n0      0.0   0.0  \n1      0.0   0.0  \n2      0.0   0.0  \n3      0.0   0.0  \n4      0.0   0.0  \n...    ...   ...  \n7652   0.0   0.0  \n7653   0.0   0.0  \n7654   0.0   0.0  \n7655   0.0   0.0  \n7656   0.0   0.0  \n\n[7657 rows x 37 columns]",
      "text/html": "<div>\n<style scoped>\n    .dataframe tbody tr th:only-of-type {\n        vertical-align: middle;\n    }\n\n    .dataframe tbody tr th {\n        vertical-align: top;\n    }\n\n    .dataframe thead th {\n        text-align: right;\n    }\n</style>\n<table border=\"1\" class=\"dataframe\">\n  <thead>\n    <tr style=\"text-align: right;\">\n      <th></th>\n      <th>display_name</th>\n      <th>string_name</th>\n      <th>transaction_date</th>\n      <th>disclosure_date</th>\n      <th>ticker</th>\n      <th>asset_description</th>\n      <th>type</th>\n      <th>amount</th>\n      <th>industry</th>\n      <th>sector</th>\n      <th>...</th>\n      <th>HSII</th>\n      <th>HSJU</th>\n      <th>HSMH</th>\n      <th>HSPW</th>\n      <th>HSRU</th>\n      <th>HSSM</th>\n      <th>HSSO</th>\n      <th>HSSY</th>\n      <th>HSVR</th>\n      <th>HSWM</th>\n    </tr>\n  </thead>\n  <tbody>\n    <tr>\n      <th>0</th>\n      <td>Rep. Virginia Foxx</td>\n      <td>virginia foxx</td>\n      <td>2021-09-27</td>\n      <td>2021-10-04</td>\n      <td>BP</td>\n      <td>BP plc</td>\n      <td>purchase</td>\n      <td>$1,001 - $15,000</td>\n      <td>Integrated oil Companies</td>\n      <td>Energy</td>\n      <td>...</td>\n      <td>0.0</td>\n      <td>0.0</td>\n      <td>0.0</td>\n      <td>0.0</td>\n      <td>0.0</td>\n      <td>0.0</td>\n      <td>0.0</td>\n      <td>0.0</td>\n      <td>0.0</td>\n      <td>0.0</td>\n    </tr>\n    <tr>\n      <th>1</th>\n      <td>Rep. Virginia Foxx</td>\n      <td>virginia foxx</td>\n      <td>2021-09-13</td>\n      <td>2021-10-04</td>\n      <td>XOM</td>\n      <td>Exxon Mobil Corporation</td>\n      <td>purchase</td>\n      <td>$1,001 - $15,000</td>\n      <td>Integrated oil Companies</td>\n      <td>Energy</td>\n      <td>...</td>\n      <td>0.0</td>\n      <td>0.0</td>\n      <td>0.0</td>\n      <td>0.0</td>\n      <td>0.0</td>\n      <td>0.0</td>\n      <td>0.0</td>\n      <td>0.0</td>\n      <td>0.0</td>\n      <td>0.0</td>\n    </tr>\n    <tr>\n      <th>2</th>\n      <td>Rep. Virginia Foxx</td>\n      <td>virginia foxx</td>\n      <td>2021-09-10</td>\n      <td>2021-10-04</td>\n      <td>ILPT</td>\n      <td>Industrial Logistics Properties Trust - Common...</td>\n      <td>purchase</td>\n      <td>$15,001 - $50,000</td>\n      <td>Real Estate Investment Trusts</td>\n      <td>Real Estate</td>\n      <td>...</td>\n      <td>0.0</td>\n      <td>0.0</td>\n      <td>0.0</td>\n      <td>0.0</td>\n      <td>0.0</td>\n      <td>0.0</td>\n      <td>0.0</td>\n      <td>0.0</td>\n      <td>0.0</td>\n      <td>0.0</td>\n    </tr>\n    <tr>\n      <th>3</th>\n      <td>Rep. Virginia Foxx</td>\n      <td>virginia foxx</td>\n      <td>2021-09-28</td>\n      <td>2021-10-04</td>\n      <td>PM</td>\n      <td>Phillip Morris International Inc</td>\n      <td>purchase</td>\n      <td>$15,001 - $50,000</td>\n      <td>Farming/Seeds/Milling</td>\n      <td>Consumer Non-Durables</td>\n      <td>...</td>\n      <td>0.0</td>\n      <td>0.0</td>\n      <td>0.0</td>\n      <td>0.0</td>\n      <td>0.0</td>\n      <td>0.0</td>\n      <td>0.0</td>\n      <td>0.0</td>\n      <td>0.0</td>\n      <td>0.0</td>\n    </tr>\n    <tr>\n      <th>4</th>\n      <td>Rep. Alan Lowenthal</td>\n      <td>alan lowenthal</td>\n      <td>2021-09-17</td>\n      <td>2021-10-04</td>\n      <td>BLK</td>\n      <td>BlackRock Inc</td>\n      <td>sale_partial</td>\n      <td>$1,001 - $15,000</td>\n      <td>Investment Bankers/Brokers/Service</td>\n      <td>Finance</td>\n      <td>...</td>\n      <td>4.0</td>\n      <td>0.0</td>\n      <td>0.0</td>\n      <td>4.0</td>\n      <td>0.0</td>\n      <td>0.0</td>\n      <td>0.0</td>\n      <td>0.0</td>\n      <td>0.0</td>\n      <td>0.0</td>\n    </tr>\n    <tr>\n      <th>...</th>\n      <td>...</td>\n      <td>...</td>\n      <td>...</td>\n      <td>...</td>\n      <td>...</td>\n      <td>...</td>\n      <td>...</td>\n      <td>...</td>\n      <td>...</td>\n      <td>...</td>\n      <td>...</td>\n      <td>...</td>\n      <td>...</td>\n      <td>...</td>\n      <td>...</td>\n      <td>...</td>\n      <td>...</td>\n      <td>...</td>\n      <td>...</td>\n      <td>...</td>\n      <td>...</td>\n    </tr>\n    <tr>\n      <th>7652</th>\n      <td>Rep. John Rutherford</td>\n      <td>john rutherford</td>\n      <td>2022-02-17</td>\n      <td>2022-03-16</td>\n      <td>TM</td>\n      <td>Toyota Motor Company</td>\n      <td>sale_partial</td>\n      <td>$1,001 - $15,000</td>\n      <td>Auto Manufacturing</td>\n      <td>Capital Goods</td>\n      <td>...</td>\n      <td>0.0</td>\n      <td>0.0</td>\n      <td>0.0</td>\n      <td>0.0</td>\n      <td>0.0</td>\n      <td>0.0</td>\n      <td>0.0</td>\n      <td>0.0</td>\n      <td>0.0</td>\n      <td>0.0</td>\n    </tr>\n    <tr>\n      <th>7653</th>\n      <td>Rep. John Rutherford</td>\n      <td>john rutherford</td>\n      <td>2022-02-17</td>\n      <td>2022-03-16</td>\n      <td>USB</td>\n      <td>US Bancorp</td>\n      <td>sale_full</td>\n      <td>$1,001 - $15,000</td>\n      <td>Major Banks</td>\n      <td>Finance</td>\n      <td>...</td>\n      <td>0.0</td>\n      <td>0.0</td>\n      <td>0.0</td>\n      <td>0.0</td>\n      <td>0.0</td>\n      <td>0.0</td>\n      <td>0.0</td>\n      <td>0.0</td>\n      <td>0.0</td>\n      <td>0.0</td>\n    </tr>\n    <tr>\n      <th>7654</th>\n      <td>Rep. John Rutherford</td>\n      <td>john rutherford</td>\n      <td>2022-02-17</td>\n      <td>2022-03-16</td>\n      <td>UGI</td>\n      <td>UGI Corporation</td>\n      <td>purchase</td>\n      <td>$1,001 - $15,000</td>\n      <td>Natural Gas Distribution</td>\n      <td>Utilities</td>\n      <td>...</td>\n      <td>0.0</td>\n      <td>0.0</td>\n      <td>0.0</td>\n      <td>0.0</td>\n      <td>0.0</td>\n      <td>0.0</td>\n      <td>0.0</td>\n      <td>0.0</td>\n      <td>0.0</td>\n      <td>0.0</td>\n    </tr>\n    <tr>\n      <th>7655</th>\n      <td>Rep. John Rutherford</td>\n      <td>john rutherford</td>\n      <td>2022-02-17</td>\n      <td>2022-03-16</td>\n      <td>VALE</td>\n      <td>VALE S.A. ADR Shares each representing one com...</td>\n      <td>sale_partial</td>\n      <td>$1,001 - $15,000</td>\n      <td>Metal Mining</td>\n      <td>Basic Materials</td>\n      <td>...</td>\n      <td>0.0</td>\n      <td>0.0</td>\n      <td>0.0</td>\n      <td>0.0</td>\n      <td>0.0</td>\n      <td>0.0</td>\n      <td>0.0</td>\n      <td>0.0</td>\n      <td>0.0</td>\n      <td>0.0</td>\n    </tr>\n    <tr>\n      <th>7656</th>\n      <td>Rep. John Rutherford</td>\n      <td>john rutherford</td>\n      <td>2022-02-17</td>\n      <td>2022-03-16</td>\n      <td>XYIGY</td>\n      <td>Xinyi Glass Holdings Limited Unsponsored ADR</td>\n      <td>purchase</td>\n      <td>$1,001 - $15,000</td>\n      <td>NaN</td>\n      <td>NaN</td>\n      <td>...</td>\n      <td>0.0</td>\n      <td>0.0</td>\n      <td>0.0</td>\n      <td>0.0</td>\n      <td>0.0</td>\n      <td>0.0</td>\n      <td>0.0</td>\n      <td>0.0</td>\n      <td>0.0</td>\n      <td>0.0</td>\n    </tr>\n  </tbody>\n</table>\n<p>7657 rows × 37 columns</p>\n</div>"
     },
     "execution_count": 171,
     "metadata": {},
     "output_type": "execute_result"
    }
   ],
   "source": [
    "final_117"
   ],
   "metadata": {
    "collapsed": false,
    "ExecuteTime": {
     "end_time": "2023-11-28T22:00:01.195339Z",
     "start_time": "2023-11-28T22:00:01.176413Z"
    }
   },
   "id": "c57442f21585a411"
  },
  {
   "cell_type": "code",
   "execution_count": 172,
   "outputs": [
    {
     "data": {
      "text/plain": "((118, 24), (0, 1))"
     },
     "execution_count": 172,
     "metadata": {},
     "output_type": "execute_result"
    }
   ],
   "source": [
    "committee_df_117.shape, subcommittee_df_117.shape"
   ],
   "metadata": {
    "collapsed": false,
    "ExecuteTime": {
     "end_time": "2023-11-28T22:00:01.210333Z",
     "start_time": "2023-11-28T22:00:01.196093Z"
    }
   },
   "id": "32baef09d73ca6c0"
  },
  {
   "cell_type": "code",
   "execution_count": 173,
   "outputs": [],
   "source": [
    "\"\"\"JOIN 116th congresses data\"\"\"\n",
    "\n",
    "senate_url = f\"https://api.propublica.org/congress/v1/118/senate/members.json\"\n",
    "house_url = f\"https://api.propublica.org/congress/v1/118/house/members.json\"\n",
    "\n",
    "senate_118 = requests.get(senate_url, headers=headers)\n",
    "house_118 = requests.get(house_url, headers=headers)\n",
    "senate_118_members = senate_118.json()['results'][0]['members']\n",
    "house_118_members = house_118.json()['results'][0]['members']\n",
    "senate_118_members = pd.DataFrame(senate_118_members)\n",
    "house_118_members = pd.DataFrame(house_118_members)\n",
    "senate_118_members = senate_118_members[['short_title', 'first_name', 'middle_name', 'last_name','party','id']]\n",
    "house_118_members = house_118_members[['short_title', 'first_name', 'middle_name', 'last_name','party','id']]\n",
    "\n",
    "members_118 = pd.concat([senate_118_members, house_118_members])\n",
    "members_118['display_name'] = members_118['short_title'] + ' ' + members_118['first_name']  + ' ' + members_118['last_name']\n",
    "members_118['member'] = members_118['first_name'] + ' ' + members_118['last_name']\n",
    "members_118['member'] = members_118['member'].str.lower()\n",
    "members_118['parsed_name'] = members_118['member'].apply(lambda x: nameparser.HumanName(x))\n",
    "members_118['first_name'] = members_118['parsed_name'].apply(lambda x: x.first)\n",
    "members_118['last_name'] = members_118['parsed_name'].apply(lambda x: x.last)\n",
    "members_118['string_name'] = members_118['first_name'] + ' ' + members_118['last_name']\n",
    "\n",
    "trans_names_118 = trans_118['string_name'].unique()\n",
    "\n",
    "members_118 = members_118[members_118['string_name'].isin(trans_names_118)]\n",
    "\n",
    "trans_118 = trans_118.merge(members_118, how='left', on='string_name')[['display_name',\n",
    "                                                                        'string_name',\n",
    "                                                                        'transaction_date',\n",
    "                                                                        'disclosure_date',\n",
    "                                                                        'ticker',\n",
    "                                                                        'asset_description',\n",
    "                                                                        'type',\n",
    "                                                                        'amount',\n",
    "                                                                        'industry',\n",
    "                                                                        'sector',\n",
    "                                                                        'state',\n",
    "                                                                        'party_x',\n",
    "                                                                        'amount_formatted',\n",
    "                                                                        'id'\n",
    "                                                                        ]]\n",
    "\n",
    "member_id_list = members_118['id'].unique()\n",
    "committee_df = []\n",
    "subcommittee_df = []\n",
    "\n",
    "for member_id in member_id_list:\n",
    "    member_url = f\"https://api.propublica.org/congress/v1/members/{member_id}.json\"\n",
    "    r = requests.get(member_url, headers=headers)\n",
    "\n",
    "    member_committies_name = []\n",
    "    member_committies_code = []\n",
    "\n",
    "    member_subcommitties_name = []\n",
    "    member_subcommitties_code = []\n",
    "    member_subcommittee_parent_id = []\n",
    "\n",
    "    member_roles = r.json()['results'][0]['roles']\n",
    "    for role in member_roles:\n",
    "        if role['congress'] == '118':\n",
    "            for committee in role['committees']:\n",
    "                member_committies_name.append(committee['name'])\n",
    "                member_committies_code.append(committee['code'])\n",
    "\n",
    "            for subcommittee in role['subcommittees']:\n",
    "                member_subcommitties_name.append(subcommittee['name'])\n",
    "                member_subcommitties_code.append(subcommittee['code'])\n",
    "                member_subcommittee_parent_id.append(subcommittee['parent_committee_id'])\n",
    "\n",
    "        member_committies=pd.DataFrame({'name': member_committies_name,\n",
    "                                        'code': member_committies_code})\n",
    "\n",
    "        member_subcommitties = pd.DataFrame({'name': member_subcommitties_name,\n",
    "                                             'code': member_subcommitties_code,\n",
    "                                             'parent_committee_id': member_subcommittee_parent_id})\n",
    "\n",
    "        member_committies['member_id'] = member_id\n",
    "        member_subcommitties['member_id'] = member_id\n",
    "        committee_df.append(member_committies)\n",
    "        subcommittee_df.append(member_subcommitties)\n",
    "\n",
    "\n",
    "committee_df = pd.concat(committee_df)\n",
    "subcommittee_df = pd.concat(subcommittee_df)\n",
    "committee_df = committee_df[['member_id' ,'code']]\n",
    "committee_df_118 = pd.get_dummies(committee_df, columns=['code'], prefix='', prefix_sep='').groupby(['member_id']).sum().reset_index()\n",
    "subcommittee_df = subcommittee_df[['code', 'member_id']]\n",
    "subcommittee_df_118 = pd.get_dummies(subcommittee_df, columns=['code'], prefix='', prefix_sep='').groupby(['member_id']).sum().reset_index()\n",
    "\n",
    "\n",
    "columns_to_drop = ['short_title', 'first_name', 'middle_name', 'last_name','party', 'parsed_name', 'member', 'display_name', 'parsed_name', 'string_name', 'member_id_x']\n",
    "assignments_118 = members_118.merge(committee_df_118, left_on='id', right_on='member_id', how = 'left').merge(subcommittee_df_118, left_on='id', right_on='member_id', how = 'left').drop(columns=columns_to_drop)\n",
    "\n",
    "final_118 = trans_118.merge(assignments_118, how='left', on='id').drop('member_id_y', axis=1)"
   ],
   "metadata": {
    "collapsed": false,
    "ExecuteTime": {
     "end_time": "2023-11-28T22:03:53.901938Z",
     "start_time": "2023-11-28T22:03:21.752485Z"
    }
   },
   "id": "50f03069e084de54"
  },
  {
   "cell_type": "code",
   "execution_count": 174,
   "outputs": [
    {
     "data": {
      "text/plain": "             display_name      string_name transaction_date disclosure_date  \\\n0       Rep. Dan Crenshaw     dan crenshaw       2023-03-20      2023-04-20   \n1    Rep. Josh Gottheimer  josh gottheimer       2023-03-06      2023-04-20   \n2    Rep. Josh Gottheimer  josh gottheimer       2023-03-24      2023-04-20   \n3    Rep. Josh Gottheimer  josh gottheimer       2023-03-06      2023-04-20   \n4    Rep. Josh Gottheimer  josh gottheimer       2023-03-06      2023-04-20   \n..                    ...              ...              ...             ...   \n588     Rep. Lois Frankel     lois frankel       2023-04-05      2023-04-28   \n589     Rep. Lois Frankel     lois frankel       2023-03-16      2023-04-28   \n590  Rep. Earl Blumenauer  earl blumenauer       2023-02-15      2023-03-09   \n591     Rep. Dwight Evans     dwight evans       2023-02-28      2023-03-09   \n592     Rep. Dwight Evans     dwight evans       2023-02-28      2023-03-09   \n\n    ticker                     asset_description          type  \\\n0      SPY                          SPDR S7P 500      purchase   \n1     ABBV                            AbbVie Inc      purchase   \n2     ABBV                            AbbVie Inc  sale_partial   \n3     ALGN                  Align Technology Inc      purchase   \n4     GOOG  Alphabet Inc - Class C Capital Stock  sale_partial   \n..     ...                                   ...           ...   \n588     CI                       The Cigna Group      purchase   \n589   ULTA                       Ulta Beauty inc  sale_partial   \n590    NWN     Northwest Natural Holding Company      purchase   \n591    CSX                       CSX Corporation     sale_full   \n592    CRM                        Salesforce Inc     sale_full   \n\n               amount                                         industry  \\\n0    $1,001 - $15,000                                              NaN   \n1    $1,001 - $15,000                            Major Pharmaceuticals   \n2    $1,001 - $15,000                            Major Pharmaceuticals   \n3    $1,001 - $15,000                           Industrial Specialties   \n4    $1,001 - $15,000  Computer Software: Programming, Data Processing   \n..                ...                                              ...   \n588  $1,001 - $15,000                             Medical Specialities   \n589  $1,001 - $15,000                                              NaN   \n590  $1,001 - $15,000                             Oil/Gas Transmission   \n591  $1,001 - $15,000                                        Railroads   \n592  $1,001 - $15,000          Computer Software: Prepackaged Software   \n\n               sector  ... HSSY20 HSSY21  HSVR09 HSVR10  HSWM01  HSWM02  \\\n0                 NaN  ...    0.0    0.0     0.0    0.0     0.0     0.0   \n1         Health Care  ...    0.0    0.0     0.0    0.0     0.0     0.0   \n2         Health Care  ...    0.0    0.0     0.0    0.0     0.0     0.0   \n3         Health Care  ...    0.0    0.0     0.0    0.0     0.0     0.0   \n4          Technology  ...    0.0    0.0     0.0    0.0     0.0     0.0   \n..                ...  ...    ...    ...     ...    ...     ...     ...   \n588       Health Care  ...    0.0    0.0     0.0    0.0     0.0     0.0   \n589               NaN  ...    0.0    0.0     0.0    0.0     0.0     0.0   \n590  Public Utilities  ...    0.0    0.0     0.0    0.0     0.0    15.0   \n591    Transportation  ...    0.0    0.0     0.0    0.0     0.0     5.0   \n592        Technology  ...    0.0    0.0     0.0    0.0     0.0     5.0   \n\n     HSWM03  HSWM04  HSWM05  HSWM06  \n0       0.0     0.0     0.0     0.0  \n1       0.0     0.0     0.0     0.0  \n2       0.0     0.0     0.0     0.0  \n3       0.0     0.0     0.0     0.0  \n4       0.0     0.0     0.0     0.0  \n..      ...     ...     ...     ...  \n588     0.0     0.0     0.0     0.0  \n589     0.0     0.0     0.0     0.0  \n590     0.0    15.0     0.0     0.0  \n591     5.0     0.0     0.0     0.0  \n592     5.0     0.0     0.0     0.0  \n\n[593 rows x 120 columns]",
      "text/html": "<div>\n<style scoped>\n    .dataframe tbody tr th:only-of-type {\n        vertical-align: middle;\n    }\n\n    .dataframe tbody tr th {\n        vertical-align: top;\n    }\n\n    .dataframe thead th {\n        text-align: right;\n    }\n</style>\n<table border=\"1\" class=\"dataframe\">\n  <thead>\n    <tr style=\"text-align: right;\">\n      <th></th>\n      <th>display_name</th>\n      <th>string_name</th>\n      <th>transaction_date</th>\n      <th>disclosure_date</th>\n      <th>ticker</th>\n      <th>asset_description</th>\n      <th>type</th>\n      <th>amount</th>\n      <th>industry</th>\n      <th>sector</th>\n      <th>...</th>\n      <th>HSSY20</th>\n      <th>HSSY21</th>\n      <th>HSVR09</th>\n      <th>HSVR10</th>\n      <th>HSWM01</th>\n      <th>HSWM02</th>\n      <th>HSWM03</th>\n      <th>HSWM04</th>\n      <th>HSWM05</th>\n      <th>HSWM06</th>\n    </tr>\n  </thead>\n  <tbody>\n    <tr>\n      <th>0</th>\n      <td>Rep. Dan Crenshaw</td>\n      <td>dan crenshaw</td>\n      <td>2023-03-20</td>\n      <td>2023-04-20</td>\n      <td>SPY</td>\n      <td>SPDR S7P 500</td>\n      <td>purchase</td>\n      <td>$1,001 - $15,000</td>\n      <td>NaN</td>\n      <td>NaN</td>\n      <td>...</td>\n      <td>0.0</td>\n      <td>0.0</td>\n      <td>0.0</td>\n      <td>0.0</td>\n      <td>0.0</td>\n      <td>0.0</td>\n      <td>0.0</td>\n      <td>0.0</td>\n      <td>0.0</td>\n      <td>0.0</td>\n    </tr>\n    <tr>\n      <th>1</th>\n      <td>Rep. Josh Gottheimer</td>\n      <td>josh gottheimer</td>\n      <td>2023-03-06</td>\n      <td>2023-04-20</td>\n      <td>ABBV</td>\n      <td>AbbVie Inc</td>\n      <td>purchase</td>\n      <td>$1,001 - $15,000</td>\n      <td>Major Pharmaceuticals</td>\n      <td>Health Care</td>\n      <td>...</td>\n      <td>0.0</td>\n      <td>0.0</td>\n      <td>0.0</td>\n      <td>0.0</td>\n      <td>0.0</td>\n      <td>0.0</td>\n      <td>0.0</td>\n      <td>0.0</td>\n      <td>0.0</td>\n      <td>0.0</td>\n    </tr>\n    <tr>\n      <th>2</th>\n      <td>Rep. Josh Gottheimer</td>\n      <td>josh gottheimer</td>\n      <td>2023-03-24</td>\n      <td>2023-04-20</td>\n      <td>ABBV</td>\n      <td>AbbVie Inc</td>\n      <td>sale_partial</td>\n      <td>$1,001 - $15,000</td>\n      <td>Major Pharmaceuticals</td>\n      <td>Health Care</td>\n      <td>...</td>\n      <td>0.0</td>\n      <td>0.0</td>\n      <td>0.0</td>\n      <td>0.0</td>\n      <td>0.0</td>\n      <td>0.0</td>\n      <td>0.0</td>\n      <td>0.0</td>\n      <td>0.0</td>\n      <td>0.0</td>\n    </tr>\n    <tr>\n      <th>3</th>\n      <td>Rep. Josh Gottheimer</td>\n      <td>josh gottheimer</td>\n      <td>2023-03-06</td>\n      <td>2023-04-20</td>\n      <td>ALGN</td>\n      <td>Align Technology Inc</td>\n      <td>purchase</td>\n      <td>$1,001 - $15,000</td>\n      <td>Industrial Specialties</td>\n      <td>Health Care</td>\n      <td>...</td>\n      <td>0.0</td>\n      <td>0.0</td>\n      <td>0.0</td>\n      <td>0.0</td>\n      <td>0.0</td>\n      <td>0.0</td>\n      <td>0.0</td>\n      <td>0.0</td>\n      <td>0.0</td>\n      <td>0.0</td>\n    </tr>\n    <tr>\n      <th>4</th>\n      <td>Rep. Josh Gottheimer</td>\n      <td>josh gottheimer</td>\n      <td>2023-03-06</td>\n      <td>2023-04-20</td>\n      <td>GOOG</td>\n      <td>Alphabet Inc - Class C Capital Stock</td>\n      <td>sale_partial</td>\n      <td>$1,001 - $15,000</td>\n      <td>Computer Software: Programming, Data Processing</td>\n      <td>Technology</td>\n      <td>...</td>\n      <td>0.0</td>\n      <td>0.0</td>\n      <td>0.0</td>\n      <td>0.0</td>\n      <td>0.0</td>\n      <td>0.0</td>\n      <td>0.0</td>\n      <td>0.0</td>\n      <td>0.0</td>\n      <td>0.0</td>\n    </tr>\n    <tr>\n      <th>...</th>\n      <td>...</td>\n      <td>...</td>\n      <td>...</td>\n      <td>...</td>\n      <td>...</td>\n      <td>...</td>\n      <td>...</td>\n      <td>...</td>\n      <td>...</td>\n      <td>...</td>\n      <td>...</td>\n      <td>...</td>\n      <td>...</td>\n      <td>...</td>\n      <td>...</td>\n      <td>...</td>\n      <td>...</td>\n      <td>...</td>\n      <td>...</td>\n      <td>...</td>\n      <td>...</td>\n    </tr>\n    <tr>\n      <th>588</th>\n      <td>Rep. Lois Frankel</td>\n      <td>lois frankel</td>\n      <td>2023-04-05</td>\n      <td>2023-04-28</td>\n      <td>CI</td>\n      <td>The Cigna Group</td>\n      <td>purchase</td>\n      <td>$1,001 - $15,000</td>\n      <td>Medical Specialities</td>\n      <td>Health Care</td>\n      <td>...</td>\n      <td>0.0</td>\n      <td>0.0</td>\n      <td>0.0</td>\n      <td>0.0</td>\n      <td>0.0</td>\n      <td>0.0</td>\n      <td>0.0</td>\n      <td>0.0</td>\n      <td>0.0</td>\n      <td>0.0</td>\n    </tr>\n    <tr>\n      <th>589</th>\n      <td>Rep. Lois Frankel</td>\n      <td>lois frankel</td>\n      <td>2023-03-16</td>\n      <td>2023-04-28</td>\n      <td>ULTA</td>\n      <td>Ulta Beauty inc</td>\n      <td>sale_partial</td>\n      <td>$1,001 - $15,000</td>\n      <td>NaN</td>\n      <td>NaN</td>\n      <td>...</td>\n      <td>0.0</td>\n      <td>0.0</td>\n      <td>0.0</td>\n      <td>0.0</td>\n      <td>0.0</td>\n      <td>0.0</td>\n      <td>0.0</td>\n      <td>0.0</td>\n      <td>0.0</td>\n      <td>0.0</td>\n    </tr>\n    <tr>\n      <th>590</th>\n      <td>Rep. Earl Blumenauer</td>\n      <td>earl blumenauer</td>\n      <td>2023-02-15</td>\n      <td>2023-03-09</td>\n      <td>NWN</td>\n      <td>Northwest Natural Holding Company</td>\n      <td>purchase</td>\n      <td>$1,001 - $15,000</td>\n      <td>Oil/Gas Transmission</td>\n      <td>Public Utilities</td>\n      <td>...</td>\n      <td>0.0</td>\n      <td>0.0</td>\n      <td>0.0</td>\n      <td>0.0</td>\n      <td>0.0</td>\n      <td>15.0</td>\n      <td>0.0</td>\n      <td>15.0</td>\n      <td>0.0</td>\n      <td>0.0</td>\n    </tr>\n    <tr>\n      <th>591</th>\n      <td>Rep. Dwight Evans</td>\n      <td>dwight evans</td>\n      <td>2023-02-28</td>\n      <td>2023-03-09</td>\n      <td>CSX</td>\n      <td>CSX Corporation</td>\n      <td>sale_full</td>\n      <td>$1,001 - $15,000</td>\n      <td>Railroads</td>\n      <td>Transportation</td>\n      <td>...</td>\n      <td>0.0</td>\n      <td>0.0</td>\n      <td>0.0</td>\n      <td>0.0</td>\n      <td>0.0</td>\n      <td>5.0</td>\n      <td>5.0</td>\n      <td>0.0</td>\n      <td>0.0</td>\n      <td>0.0</td>\n    </tr>\n    <tr>\n      <th>592</th>\n      <td>Rep. Dwight Evans</td>\n      <td>dwight evans</td>\n      <td>2023-02-28</td>\n      <td>2023-03-09</td>\n      <td>CRM</td>\n      <td>Salesforce Inc</td>\n      <td>sale_full</td>\n      <td>$1,001 - $15,000</td>\n      <td>Computer Software: Prepackaged Software</td>\n      <td>Technology</td>\n      <td>...</td>\n      <td>0.0</td>\n      <td>0.0</td>\n      <td>0.0</td>\n      <td>0.0</td>\n      <td>0.0</td>\n      <td>5.0</td>\n      <td>5.0</td>\n      <td>0.0</td>\n      <td>0.0</td>\n      <td>0.0</td>\n    </tr>\n  </tbody>\n</table>\n<p>593 rows × 120 columns</p>\n</div>"
     },
     "execution_count": 174,
     "metadata": {},
     "output_type": "execute_result"
    }
   ],
   "source": [
    "final_118"
   ],
   "metadata": {
    "collapsed": false,
    "ExecuteTime": {
     "end_time": "2023-11-28T22:11:19.695201Z",
     "start_time": "2023-11-28T22:11:19.660203Z"
    }
   },
   "id": "478cb8d38558d885"
  },
  {
   "cell_type": "code",
   "execution_count": 175,
   "outputs": [
    {
     "data": {
      "text/plain": "((47, 26), (47, 82))"
     },
     "execution_count": 175,
     "metadata": {},
     "output_type": "execute_result"
    }
   ],
   "source": [
    "committee_df_118.shape, subcommittee_df_118.shape"
   ],
   "metadata": {
    "collapsed": false,
    "ExecuteTime": {
     "end_time": "2023-11-28T22:11:43.248670Z",
     "start_time": "2023-11-28T22:11:43.223721Z"
    }
   },
   "id": "a8b77e8f0fdff6c5"
  },
  {
   "cell_type": "code",
   "execution_count": 176,
   "outputs": [
    {
     "data": {
      "text/plain": "48"
     },
     "execution_count": 176,
     "metadata": {},
     "output_type": "execute_result"
    }
   ],
   "source": [
    "len(members_118)"
   ],
   "metadata": {
    "collapsed": false,
    "ExecuteTime": {
     "end_time": "2023-11-28T22:12:12.389270Z",
     "start_time": "2023-11-28T22:12:12.362556Z"
    }
   },
   "id": "4a48240e2988af4e"
  },
  {
   "cell_type": "code",
   "execution_count": 178,
   "outputs": [
    {
     "data": {
      "text/plain": "((7440, 134), (7657, 37), (593, 120))"
     },
     "execution_count": 178,
     "metadata": {},
     "output_type": "execute_result"
    }
   ],
   "source": [
    "final_116.shape, final_117.shape, final_118.shape"
   ],
   "metadata": {
    "collapsed": false,
    "ExecuteTime": {
     "end_time": "2023-11-28T22:13:05.653608Z",
     "start_time": "2023-11-28T22:13:05.639920Z"
    }
   },
   "id": "6ff726b6e0214ba6"
  },
  {
   "cell_type": "code",
   "execution_count": 179,
   "outputs": [
    {
     "data": {
      "text/plain": "               display_name      string_name transaction_date disclosure_date  \\\n0            Rep. Susie Lee        susie lee       2020-02-24      2020-04-28   \n1            Rep. Susie Lee        susie lee       2020-03-06      2020-04-28   \n2            Rep. Susie Lee        susie lee       2020-03-23      2020-04-28   \n3            Rep. Susie Lee        susie lee       2020-02-04      2020-04-28   \n4            Rep. Susie Lee        susie lee       2020-03-18      2020-04-28   \n...                     ...              ...              ...             ...   \n15685     Rep. Lois Frankel     lois frankel       2023-04-05      2023-04-28   \n15686     Rep. Lois Frankel     lois frankel       2023-03-16      2023-04-28   \n15687  Rep. Earl Blumenauer  earl blumenauer       2023-02-15      2023-03-09   \n15688     Rep. Dwight Evans     dwight evans       2023-02-28      2023-03-09   \n15689     Rep. Dwight Evans     dwight evans       2023-02-28      2023-03-09   \n\n      ticker                        asset_description          type  \\\n0        BHC             Bausch Health Companies Inc.      purchase   \n1        BAH  Booz Allen Hamilton Holding Corporation     sale_full   \n2        BYD                  Boyd Gaming Corporation     sale_full   \n3       CTLT                           Catalent, Inc.      purchase   \n4       CBRE      CBRE Group Inc Common Stock Class A  sale_partial   \n...      ...                                      ...           ...   \n15685     CI                          The Cigna Group      purchase   \n15686   ULTA                          Ulta Beauty inc  sale_partial   \n15687    NWN        Northwest Natural Holding Company      purchase   \n15688    CSX                          CSX Corporation     sale_full   \n15689    CRM                           Salesforce Inc     sale_full   \n\n                 amount                                    industry  \\\n0      $1,001 - $15,000           Pharmaceuticals and Biotechnology   \n1      $1,001 - $15,000                       Professional Services   \n2      $1,001 - $15,000                        Movies/Entertainment   \n3      $1,001 - $15,000  Biotechnology: Pharmaceutical Preparations   \n4      $1,001 - $15,000                                 Real Estate   \n...                 ...                                         ...   \n15685  $1,001 - $15,000                        Medical Specialities   \n15686  $1,001 - $15,000                                         NaN   \n15687  $1,001 - $15,000                        Oil/Gas Transmission   \n15688  $1,001 - $15,000                                   Railroads   \n15689  $1,001 - $15,000     Computer Software: Prepackaged Software   \n\n                       sector  ... HSFA06 HSGO12  HSGO27 HSIG01  HSIG02  \\\n0                 Health Care  ...    NaN    NaN     NaN    NaN     NaN   \n1           Consumer Services  ...    NaN    NaN     NaN    NaN     NaN   \n2      Consumer Discretionary  ...    NaN    NaN     NaN    NaN     NaN   \n3                 Health Care  ...    NaN    NaN     NaN    NaN     NaN   \n4                     Finance  ...    NaN    NaN     NaN    NaN     NaN   \n...                       ...  ...    ...    ...     ...    ...     ...   \n15685             Health Care  ...    0.0    0.0     0.0    0.0     0.0   \n15686                     NaN  ...    0.0    0.0     0.0    0.0     0.0   \n15687        Public Utilities  ...    0.0    0.0     0.0    0.0     0.0   \n15688          Transportation  ...    0.0    0.0     0.0    0.0     0.0   \n15689              Technology  ...    0.0    0.0     0.0    0.0     0.0   \n\n       HSIG04  HSRU02  HSRU04  HSSM21  HSSM22  \n0         NaN     NaN     NaN     NaN     NaN  \n1         NaN     NaN     NaN     NaN     NaN  \n2         NaN     NaN     NaN     NaN     NaN  \n3         NaN     NaN     NaN     NaN     NaN  \n4         NaN     NaN     NaN     NaN     NaN  \n...       ...     ...     ...     ...     ...  \n15685     0.0     0.0     0.0     0.0     0.0  \n15686     0.0     0.0     0.0     0.0     0.0  \n15687     0.0     0.0     0.0     0.0     0.0  \n15688     0.0     0.0     0.0     0.0     0.0  \n15689     0.0     0.0     0.0     0.0     0.0  \n\n[15690 rows x 152 columns]",
      "text/html": "<div>\n<style scoped>\n    .dataframe tbody tr th:only-of-type {\n        vertical-align: middle;\n    }\n\n    .dataframe tbody tr th {\n        vertical-align: top;\n    }\n\n    .dataframe thead th {\n        text-align: right;\n    }\n</style>\n<table border=\"1\" class=\"dataframe\">\n  <thead>\n    <tr style=\"text-align: right;\">\n      <th></th>\n      <th>display_name</th>\n      <th>string_name</th>\n      <th>transaction_date</th>\n      <th>disclosure_date</th>\n      <th>ticker</th>\n      <th>asset_description</th>\n      <th>type</th>\n      <th>amount</th>\n      <th>industry</th>\n      <th>sector</th>\n      <th>...</th>\n      <th>HSFA06</th>\n      <th>HSGO12</th>\n      <th>HSGO27</th>\n      <th>HSIG01</th>\n      <th>HSIG02</th>\n      <th>HSIG04</th>\n      <th>HSRU02</th>\n      <th>HSRU04</th>\n      <th>HSSM21</th>\n      <th>HSSM22</th>\n    </tr>\n  </thead>\n  <tbody>\n    <tr>\n      <th>0</th>\n      <td>Rep. Susie Lee</td>\n      <td>susie lee</td>\n      <td>2020-02-24</td>\n      <td>2020-04-28</td>\n      <td>BHC</td>\n      <td>Bausch Health Companies Inc.</td>\n      <td>purchase</td>\n      <td>$1,001 - $15,000</td>\n      <td>Pharmaceuticals and Biotechnology</td>\n      <td>Health Care</td>\n      <td>...</td>\n      <td>NaN</td>\n      <td>NaN</td>\n      <td>NaN</td>\n      <td>NaN</td>\n      <td>NaN</td>\n      <td>NaN</td>\n      <td>NaN</td>\n      <td>NaN</td>\n      <td>NaN</td>\n      <td>NaN</td>\n    </tr>\n    <tr>\n      <th>1</th>\n      <td>Rep. Susie Lee</td>\n      <td>susie lee</td>\n      <td>2020-03-06</td>\n      <td>2020-04-28</td>\n      <td>BAH</td>\n      <td>Booz Allen Hamilton Holding Corporation</td>\n      <td>sale_full</td>\n      <td>$1,001 - $15,000</td>\n      <td>Professional Services</td>\n      <td>Consumer Services</td>\n      <td>...</td>\n      <td>NaN</td>\n      <td>NaN</td>\n      <td>NaN</td>\n      <td>NaN</td>\n      <td>NaN</td>\n      <td>NaN</td>\n      <td>NaN</td>\n      <td>NaN</td>\n      <td>NaN</td>\n      <td>NaN</td>\n    </tr>\n    <tr>\n      <th>2</th>\n      <td>Rep. Susie Lee</td>\n      <td>susie lee</td>\n      <td>2020-03-23</td>\n      <td>2020-04-28</td>\n      <td>BYD</td>\n      <td>Boyd Gaming Corporation</td>\n      <td>sale_full</td>\n      <td>$1,001 - $15,000</td>\n      <td>Movies/Entertainment</td>\n      <td>Consumer Discretionary</td>\n      <td>...</td>\n      <td>NaN</td>\n      <td>NaN</td>\n      <td>NaN</td>\n      <td>NaN</td>\n      <td>NaN</td>\n      <td>NaN</td>\n      <td>NaN</td>\n      <td>NaN</td>\n      <td>NaN</td>\n      <td>NaN</td>\n    </tr>\n    <tr>\n      <th>3</th>\n      <td>Rep. Susie Lee</td>\n      <td>susie lee</td>\n      <td>2020-02-04</td>\n      <td>2020-04-28</td>\n      <td>CTLT</td>\n      <td>Catalent, Inc.</td>\n      <td>purchase</td>\n      <td>$1,001 - $15,000</td>\n      <td>Biotechnology: Pharmaceutical Preparations</td>\n      <td>Health Care</td>\n      <td>...</td>\n      <td>NaN</td>\n      <td>NaN</td>\n      <td>NaN</td>\n      <td>NaN</td>\n      <td>NaN</td>\n      <td>NaN</td>\n      <td>NaN</td>\n      <td>NaN</td>\n      <td>NaN</td>\n      <td>NaN</td>\n    </tr>\n    <tr>\n      <th>4</th>\n      <td>Rep. Susie Lee</td>\n      <td>susie lee</td>\n      <td>2020-03-18</td>\n      <td>2020-04-28</td>\n      <td>CBRE</td>\n      <td>CBRE Group Inc Common Stock Class A</td>\n      <td>sale_partial</td>\n      <td>$1,001 - $15,000</td>\n      <td>Real Estate</td>\n      <td>Finance</td>\n      <td>...</td>\n      <td>NaN</td>\n      <td>NaN</td>\n      <td>NaN</td>\n      <td>NaN</td>\n      <td>NaN</td>\n      <td>NaN</td>\n      <td>NaN</td>\n      <td>NaN</td>\n      <td>NaN</td>\n      <td>NaN</td>\n    </tr>\n    <tr>\n      <th>...</th>\n      <td>...</td>\n      <td>...</td>\n      <td>...</td>\n      <td>...</td>\n      <td>...</td>\n      <td>...</td>\n      <td>...</td>\n      <td>...</td>\n      <td>...</td>\n      <td>...</td>\n      <td>...</td>\n      <td>...</td>\n      <td>...</td>\n      <td>...</td>\n      <td>...</td>\n      <td>...</td>\n      <td>...</td>\n      <td>...</td>\n      <td>...</td>\n      <td>...</td>\n      <td>...</td>\n    </tr>\n    <tr>\n      <th>15685</th>\n      <td>Rep. Lois Frankel</td>\n      <td>lois frankel</td>\n      <td>2023-04-05</td>\n      <td>2023-04-28</td>\n      <td>CI</td>\n      <td>The Cigna Group</td>\n      <td>purchase</td>\n      <td>$1,001 - $15,000</td>\n      <td>Medical Specialities</td>\n      <td>Health Care</td>\n      <td>...</td>\n      <td>0.0</td>\n      <td>0.0</td>\n      <td>0.0</td>\n      <td>0.0</td>\n      <td>0.0</td>\n      <td>0.0</td>\n      <td>0.0</td>\n      <td>0.0</td>\n      <td>0.0</td>\n      <td>0.0</td>\n    </tr>\n    <tr>\n      <th>15686</th>\n      <td>Rep. Lois Frankel</td>\n      <td>lois frankel</td>\n      <td>2023-03-16</td>\n      <td>2023-04-28</td>\n      <td>ULTA</td>\n      <td>Ulta Beauty inc</td>\n      <td>sale_partial</td>\n      <td>$1,001 - $15,000</td>\n      <td>NaN</td>\n      <td>NaN</td>\n      <td>...</td>\n      <td>0.0</td>\n      <td>0.0</td>\n      <td>0.0</td>\n      <td>0.0</td>\n      <td>0.0</td>\n      <td>0.0</td>\n      <td>0.0</td>\n      <td>0.0</td>\n      <td>0.0</td>\n      <td>0.0</td>\n    </tr>\n    <tr>\n      <th>15687</th>\n      <td>Rep. Earl Blumenauer</td>\n      <td>earl blumenauer</td>\n      <td>2023-02-15</td>\n      <td>2023-03-09</td>\n      <td>NWN</td>\n      <td>Northwest Natural Holding Company</td>\n      <td>purchase</td>\n      <td>$1,001 - $15,000</td>\n      <td>Oil/Gas Transmission</td>\n      <td>Public Utilities</td>\n      <td>...</td>\n      <td>0.0</td>\n      <td>0.0</td>\n      <td>0.0</td>\n      <td>0.0</td>\n      <td>0.0</td>\n      <td>0.0</td>\n      <td>0.0</td>\n      <td>0.0</td>\n      <td>0.0</td>\n      <td>0.0</td>\n    </tr>\n    <tr>\n      <th>15688</th>\n      <td>Rep. Dwight Evans</td>\n      <td>dwight evans</td>\n      <td>2023-02-28</td>\n      <td>2023-03-09</td>\n      <td>CSX</td>\n      <td>CSX Corporation</td>\n      <td>sale_full</td>\n      <td>$1,001 - $15,000</td>\n      <td>Railroads</td>\n      <td>Transportation</td>\n      <td>...</td>\n      <td>0.0</td>\n      <td>0.0</td>\n      <td>0.0</td>\n      <td>0.0</td>\n      <td>0.0</td>\n      <td>0.0</td>\n      <td>0.0</td>\n      <td>0.0</td>\n      <td>0.0</td>\n      <td>0.0</td>\n    </tr>\n    <tr>\n      <th>15689</th>\n      <td>Rep. Dwight Evans</td>\n      <td>dwight evans</td>\n      <td>2023-02-28</td>\n      <td>2023-03-09</td>\n      <td>CRM</td>\n      <td>Salesforce Inc</td>\n      <td>sale_full</td>\n      <td>$1,001 - $15,000</td>\n      <td>Computer Software: Prepackaged Software</td>\n      <td>Technology</td>\n      <td>...</td>\n      <td>0.0</td>\n      <td>0.0</td>\n      <td>0.0</td>\n      <td>0.0</td>\n      <td>0.0</td>\n      <td>0.0</td>\n      <td>0.0</td>\n      <td>0.0</td>\n      <td>0.0</td>\n      <td>0.0</td>\n    </tr>\n  </tbody>\n</table>\n<p>15690 rows × 152 columns</p>\n</div>"
     },
     "execution_count": 179,
     "metadata": {},
     "output_type": "execute_result"
    }
   ],
   "source": [
    "stacked_df = pd.concat([final_116, final_117, final_118], axis=0, ignore_index=True, sort=False)\n",
    "stacked_df                       "
   ],
   "metadata": {
    "collapsed": false,
    "ExecuteTime": {
     "end_time": "2023-11-28T22:13:34.231009Z",
     "start_time": "2023-11-28T22:13:34.190283Z"
    }
   },
   "id": "2083c22cc970a7c2"
  },
  {
   "cell_type": "code",
   "execution_count": 180,
   "outputs": [
    {
     "data": {
      "text/plain": "      disclosure_date transaction_date  owner ticker  \\\n68         2020-04-28       2020-02-24  joint    BHC   \n69         2020-04-28       2020-03-06  joint    BAH   \n70         2020-04-28       2020-03-23  joint    BYD   \n71         2020-04-28       2020-02-04  joint   CTLT   \n72         2020-04-28       2020-03-18  joint   CBRE   \n...               ...              ...    ...    ...   \n15690      2020-06-10       2020-04-09     --    SWK   \n15691      2020-06-10       2020-04-09     --    USB   \n15692      2020-06-10       2020-03-13    NaN    BMY   \n15693      2020-06-10       2020-03-13    NaN    LLY   \n15694      2020-06-10       2020-03-13    NaN    DIS   \n\n                             asset_description          type  \\\n68                Bausch Health Companies Inc.      purchase   \n69     Booz Allen Hamilton Holding Corporation     sale_full   \n70                     Boyd Gaming Corporation     sale_full   \n71                              Catalent, Inc.      purchase   \n72         CBRE Group Inc Common Stock Class A  sale_partial   \n...                                        ...           ...   \n15690             Stanley Black & Decker, Inc.  sale_partial   \n15691                             U.S. Bancorp  sale_partial   \n15692             Bristol-Myers Squibb Company     sale_full   \n15693                    Eli Lilly and Company     sale_full   \n15694                      Walt Disney Company     sale_full   \n\n                      amount         member district state  ...  \\\n68          $1,001 - $15,000      susie lee     NV03    NV  ...   \n69          $1,001 - $15,000      susie lee     NV03    NV  ...   \n70          $1,001 - $15,000      susie lee     NV03    NV  ...   \n71          $1,001 - $15,000      susie lee     NV03    NV  ...   \n72          $1,001 - $15,000      susie lee     NV03    NV  ...   \n...                      ...            ...      ...   ...  ...   \n15690       $1,001 - $15,000  ed perlmutter     CO07    CO  ...   \n15691       $1,001 - $15,000  ed perlmutter     CO07    CO  ...   \n15692    $100,001 - $250,000     van taylor     TX03    TX  ...   \n15693  $500,001 - $1,000,000     van taylor     TX03    TX  ...   \n15694    $250,001 - $500,000     van taylor     TX03    TX  ...   \n\n                       sector       party asset_type comment     member_type  \\\n68                Health Care    Democrat        NaN     NaN  representative   \n69          Consumer Services    Democrat        NaN     NaN  representative   \n70     Consumer Discretionary    Democrat        NaN     NaN  representative   \n71                Health Care    Democrat        NaN     NaN  representative   \n72                    Finance    Democrat        NaN     NaN  representative   \n...                       ...         ...        ...     ...             ...   \n15690  Consumer Discretionary    Democrat        NaN     NaN  representative   \n15691                 Finance    Democrat        NaN     NaN  representative   \n15692             Health Care  Republican        NaN     NaN  representative   \n15693             Health Care  Republican        NaN     NaN  representative   \n15694       Consumer Services  Republican        NaN     NaN  representative   \n\n      amount_formatted    parsed_name first_name   last_name    string_name  \n68              1000.0      susie lee      susie         lee      susie lee  \n69              1000.0      susie lee      susie         lee      susie lee  \n70              1000.0      susie lee      susie         lee      susie lee  \n71              1000.0      susie lee      susie         lee      susie lee  \n72              1000.0      susie lee      susie         lee      susie lee  \n...                ...            ...        ...         ...            ...  \n15690           1000.0  ed perlmutter         ed  perlmutter  ed perlmutter  \n15691           1000.0  ed perlmutter         ed  perlmutter  ed perlmutter  \n15692         100000.0     van taylor        van      taylor     van taylor  \n15693         500000.0     van taylor        van      taylor     van taylor  \n15694         250000.0     van taylor        van      taylor     van taylor  \n\n[7431 rows x 23 columns]",
      "text/html": "<div>\n<style scoped>\n    .dataframe tbody tr th:only-of-type {\n        vertical-align: middle;\n    }\n\n    .dataframe tbody tr th {\n        vertical-align: top;\n    }\n\n    .dataframe thead th {\n        text-align: right;\n    }\n</style>\n<table border=\"1\" class=\"dataframe\">\n  <thead>\n    <tr style=\"text-align: right;\">\n      <th></th>\n      <th>disclosure_date</th>\n      <th>transaction_date</th>\n      <th>owner</th>\n      <th>ticker</th>\n      <th>asset_description</th>\n      <th>type</th>\n      <th>amount</th>\n      <th>member</th>\n      <th>district</th>\n      <th>state</th>\n      <th>...</th>\n      <th>sector</th>\n      <th>party</th>\n      <th>asset_type</th>\n      <th>comment</th>\n      <th>member_type</th>\n      <th>amount_formatted</th>\n      <th>parsed_name</th>\n      <th>first_name</th>\n      <th>last_name</th>\n      <th>string_name</th>\n    </tr>\n  </thead>\n  <tbody>\n    <tr>\n      <th>68</th>\n      <td>2020-04-28</td>\n      <td>2020-02-24</td>\n      <td>joint</td>\n      <td>BHC</td>\n      <td>Bausch Health Companies Inc.</td>\n      <td>purchase</td>\n      <td>$1,001 - $15,000</td>\n      <td>susie lee</td>\n      <td>NV03</td>\n      <td>NV</td>\n      <td>...</td>\n      <td>Health Care</td>\n      <td>Democrat</td>\n      <td>NaN</td>\n      <td>NaN</td>\n      <td>representative</td>\n      <td>1000.0</td>\n      <td>susie lee</td>\n      <td>susie</td>\n      <td>lee</td>\n      <td>susie lee</td>\n    </tr>\n    <tr>\n      <th>69</th>\n      <td>2020-04-28</td>\n      <td>2020-03-06</td>\n      <td>joint</td>\n      <td>BAH</td>\n      <td>Booz Allen Hamilton Holding Corporation</td>\n      <td>sale_full</td>\n      <td>$1,001 - $15,000</td>\n      <td>susie lee</td>\n      <td>NV03</td>\n      <td>NV</td>\n      <td>...</td>\n      <td>Consumer Services</td>\n      <td>Democrat</td>\n      <td>NaN</td>\n      <td>NaN</td>\n      <td>representative</td>\n      <td>1000.0</td>\n      <td>susie lee</td>\n      <td>susie</td>\n      <td>lee</td>\n      <td>susie lee</td>\n    </tr>\n    <tr>\n      <th>70</th>\n      <td>2020-04-28</td>\n      <td>2020-03-23</td>\n      <td>joint</td>\n      <td>BYD</td>\n      <td>Boyd Gaming Corporation</td>\n      <td>sale_full</td>\n      <td>$1,001 - $15,000</td>\n      <td>susie lee</td>\n      <td>NV03</td>\n      <td>NV</td>\n      <td>...</td>\n      <td>Consumer Discretionary</td>\n      <td>Democrat</td>\n      <td>NaN</td>\n      <td>NaN</td>\n      <td>representative</td>\n      <td>1000.0</td>\n      <td>susie lee</td>\n      <td>susie</td>\n      <td>lee</td>\n      <td>susie lee</td>\n    </tr>\n    <tr>\n      <th>71</th>\n      <td>2020-04-28</td>\n      <td>2020-02-04</td>\n      <td>joint</td>\n      <td>CTLT</td>\n      <td>Catalent, Inc.</td>\n      <td>purchase</td>\n      <td>$1,001 - $15,000</td>\n      <td>susie lee</td>\n      <td>NV03</td>\n      <td>NV</td>\n      <td>...</td>\n      <td>Health Care</td>\n      <td>Democrat</td>\n      <td>NaN</td>\n      <td>NaN</td>\n      <td>representative</td>\n      <td>1000.0</td>\n      <td>susie lee</td>\n      <td>susie</td>\n      <td>lee</td>\n      <td>susie lee</td>\n    </tr>\n    <tr>\n      <th>72</th>\n      <td>2020-04-28</td>\n      <td>2020-03-18</td>\n      <td>joint</td>\n      <td>CBRE</td>\n      <td>CBRE Group Inc Common Stock Class A</td>\n      <td>sale_partial</td>\n      <td>$1,001 - $15,000</td>\n      <td>susie lee</td>\n      <td>NV03</td>\n      <td>NV</td>\n      <td>...</td>\n      <td>Finance</td>\n      <td>Democrat</td>\n      <td>NaN</td>\n      <td>NaN</td>\n      <td>representative</td>\n      <td>1000.0</td>\n      <td>susie lee</td>\n      <td>susie</td>\n      <td>lee</td>\n      <td>susie lee</td>\n    </tr>\n    <tr>\n      <th>...</th>\n      <td>...</td>\n      <td>...</td>\n      <td>...</td>\n      <td>...</td>\n      <td>...</td>\n      <td>...</td>\n      <td>...</td>\n      <td>...</td>\n      <td>...</td>\n      <td>...</td>\n      <td>...</td>\n      <td>...</td>\n      <td>...</td>\n      <td>...</td>\n      <td>...</td>\n      <td>...</td>\n      <td>...</td>\n      <td>...</td>\n      <td>...</td>\n      <td>...</td>\n      <td>...</td>\n    </tr>\n    <tr>\n      <th>15690</th>\n      <td>2020-06-10</td>\n      <td>2020-04-09</td>\n      <td>--</td>\n      <td>SWK</td>\n      <td>Stanley Black &amp; Decker, Inc.</td>\n      <td>sale_partial</td>\n      <td>$1,001 - $15,000</td>\n      <td>ed perlmutter</td>\n      <td>CO07</td>\n      <td>CO</td>\n      <td>...</td>\n      <td>Consumer Discretionary</td>\n      <td>Democrat</td>\n      <td>NaN</td>\n      <td>NaN</td>\n      <td>representative</td>\n      <td>1000.0</td>\n      <td>ed perlmutter</td>\n      <td>ed</td>\n      <td>perlmutter</td>\n      <td>ed perlmutter</td>\n    </tr>\n    <tr>\n      <th>15691</th>\n      <td>2020-06-10</td>\n      <td>2020-04-09</td>\n      <td>--</td>\n      <td>USB</td>\n      <td>U.S. Bancorp</td>\n      <td>sale_partial</td>\n      <td>$1,001 - $15,000</td>\n      <td>ed perlmutter</td>\n      <td>CO07</td>\n      <td>CO</td>\n      <td>...</td>\n      <td>Finance</td>\n      <td>Democrat</td>\n      <td>NaN</td>\n      <td>NaN</td>\n      <td>representative</td>\n      <td>1000.0</td>\n      <td>ed perlmutter</td>\n      <td>ed</td>\n      <td>perlmutter</td>\n      <td>ed perlmutter</td>\n    </tr>\n    <tr>\n      <th>15692</th>\n      <td>2020-06-10</td>\n      <td>2020-03-13</td>\n      <td>NaN</td>\n      <td>BMY</td>\n      <td>Bristol-Myers Squibb Company</td>\n      <td>sale_full</td>\n      <td>$100,001 - $250,000</td>\n      <td>van taylor</td>\n      <td>TX03</td>\n      <td>TX</td>\n      <td>...</td>\n      <td>Health Care</td>\n      <td>Republican</td>\n      <td>NaN</td>\n      <td>NaN</td>\n      <td>representative</td>\n      <td>100000.0</td>\n      <td>van taylor</td>\n      <td>van</td>\n      <td>taylor</td>\n      <td>van taylor</td>\n    </tr>\n    <tr>\n      <th>15693</th>\n      <td>2020-06-10</td>\n      <td>2020-03-13</td>\n      <td>NaN</td>\n      <td>LLY</td>\n      <td>Eli Lilly and Company</td>\n      <td>sale_full</td>\n      <td>$500,001 - $1,000,000</td>\n      <td>van taylor</td>\n      <td>TX03</td>\n      <td>TX</td>\n      <td>...</td>\n      <td>Health Care</td>\n      <td>Republican</td>\n      <td>NaN</td>\n      <td>NaN</td>\n      <td>representative</td>\n      <td>500000.0</td>\n      <td>van taylor</td>\n      <td>van</td>\n      <td>taylor</td>\n      <td>van taylor</td>\n    </tr>\n    <tr>\n      <th>15694</th>\n      <td>2020-06-10</td>\n      <td>2020-03-13</td>\n      <td>NaN</td>\n      <td>DIS</td>\n      <td>Walt Disney Company</td>\n      <td>sale_full</td>\n      <td>$250,001 - $500,000</td>\n      <td>van taylor</td>\n      <td>TX03</td>\n      <td>TX</td>\n      <td>...</td>\n      <td>Consumer Services</td>\n      <td>Republican</td>\n      <td>NaN</td>\n      <td>NaN</td>\n      <td>representative</td>\n      <td>250000.0</td>\n      <td>van taylor</td>\n      <td>van</td>\n      <td>taylor</td>\n      <td>van taylor</td>\n    </tr>\n  </tbody>\n</table>\n<p>7431 rows × 23 columns</p>\n</div>"
     },
     "execution_count": 180,
     "metadata": {},
     "output_type": "execute_result"
    }
   ],
   "source": [
    "trans_116['congress'] = 116"
   ],
   "metadata": {
    "collapsed": false,
    "ExecuteTime": {
     "end_time": "2023-11-28T22:15:42.395228Z",
     "start_time": "2023-11-28T22:15:42.358438Z"
    }
   },
   "id": "eff107547a0bbb97"
  },
  {
   "cell_type": "code",
   "execution_count": null,
   "outputs": [],
   "source": [],
   "metadata": {
    "collapsed": false
   },
   "id": "c076444f52f5786d"
  }
 ],
 "metadata": {
  "kernelspec": {
   "display_name": "Python 3",
   "language": "python",
   "name": "python3"
  },
  "language_info": {
   "codemirror_mode": {
    "name": "ipython",
    "version": 2
   },
   "file_extension": ".py",
   "mimetype": "text/x-python",
   "name": "python",
   "nbconvert_exporter": "python",
   "pygments_lexer": "ipython2",
   "version": "2.7.6"
  }
 },
 "nbformat": 4,
 "nbformat_minor": 5
}
