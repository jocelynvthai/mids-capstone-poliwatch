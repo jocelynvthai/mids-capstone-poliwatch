{
 "cells": [
  {
   "cell_type": "code",
   "execution_count": 20,
   "id": "initial_id",
   "metadata": {
    "collapsed": true,
    "ExecuteTime": {
     "end_time": "2023-11-30T07:47:08.547305Z",
     "start_time": "2023-11-30T07:47:08.537329Z"
    }
   },
   "outputs": [],
   "source": [
    "import pandas as pd\n",
    "import nameparser\n",
    "import json\n",
    "import requests\n",
    "import numpy as np\n",
    "\n",
    "pro_publica_api_key = \"PguHImFJakafbsBpZ2ed21A1HIgvXKiM7tg0BqI0 \"\n",
    "headers = {'X-API-Key': pro_publica_api_key}"
   ]
  },
  {
   "cell_type": "code",
   "execution_count": 39,
   "outputs": [
    {
     "name": "stdout",
     "output_type": "stream",
     "text": [
      "52\n"
     ]
    },
    {
     "data": {
      "text/plain": "      congress chamber committee_id\n0          116   house         HSAG\n1          116   house         HSSY\n2          116  senate         SSAF\n11         116  senate         SSAP\n31         116  senate         SSAS\n...        ...     ...          ...\n1487       118   house         HSIG\n1494       118   house         HSZS\n1503       118   house         HSVC\n1507       118   house         HSFD\n1526       118   joint         JSEC\n\n[148 rows x 3 columns]",
      "text/html": "<div>\n<style scoped>\n    .dataframe tbody tr th:only-of-type {\n        vertical-align: middle;\n    }\n\n    .dataframe tbody tr th {\n        vertical-align: top;\n    }\n\n    .dataframe thead th {\n        text-align: right;\n    }\n</style>\n<table border=\"1\" class=\"dataframe\">\n  <thead>\n    <tr style=\"text-align: right;\">\n      <th></th>\n      <th>congress</th>\n      <th>chamber</th>\n      <th>committee_id</th>\n    </tr>\n  </thead>\n  <tbody>\n    <tr>\n      <th>0</th>\n      <td>116</td>\n      <td>house</td>\n      <td>HSAG</td>\n    </tr>\n    <tr>\n      <th>1</th>\n      <td>116</td>\n      <td>house</td>\n      <td>HSSY</td>\n    </tr>\n    <tr>\n      <th>2</th>\n      <td>116</td>\n      <td>senate</td>\n      <td>SSAF</td>\n    </tr>\n    <tr>\n      <th>11</th>\n      <td>116</td>\n      <td>senate</td>\n      <td>SSAP</td>\n    </tr>\n    <tr>\n      <th>31</th>\n      <td>116</td>\n      <td>senate</td>\n      <td>SSAS</td>\n    </tr>\n    <tr>\n      <th>...</th>\n      <td>...</td>\n      <td>...</td>\n      <td>...</td>\n    </tr>\n    <tr>\n      <th>1487</th>\n      <td>118</td>\n      <td>house</td>\n      <td>HSIG</td>\n    </tr>\n    <tr>\n      <th>1494</th>\n      <td>118</td>\n      <td>house</td>\n      <td>HSZS</td>\n    </tr>\n    <tr>\n      <th>1503</th>\n      <td>118</td>\n      <td>house</td>\n      <td>HSVC</td>\n    </tr>\n    <tr>\n      <th>1507</th>\n      <td>118</td>\n      <td>house</td>\n      <td>HSFD</td>\n    </tr>\n    <tr>\n      <th>1526</th>\n      <td>118</td>\n      <td>joint</td>\n      <td>JSEC</td>\n    </tr>\n  </tbody>\n</table>\n<p>148 rows × 3 columns</p>\n</div>"
     },
     "execution_count": 39,
     "metadata": {},
     "output_type": "execute_result"
    }
   ],
   "source": [
    "committee_assignments = pd.read_csv(\"../prod_data/committee_assignments_of_interest.csv\")\n",
    "\n",
    "\n",
    "unique_rows_last = committee_assignments.drop_duplicates(subset=['congress', 'chamber', 'committee_id'])[['congress', 'chamber', 'committee_id']]\n",
    "print(len(committee_assignments['committee_id'].unique()))\n",
    "unique_rows_last\n"
   ],
   "metadata": {
    "collapsed": false,
    "ExecuteTime": {
     "end_time": "2023-11-30T07:54:24.368139Z",
     "start_time": "2023-11-30T07:54:24.340951Z"
    }
   },
   "id": "ec8d1c491e51d263"
  },
  {
   "cell_type": "code",
   "execution_count": 45,
   "outputs": [
    {
     "data": {
      "text/plain": "      congress chamber committee_id\n0          116   house         HSHA\n2          116   house         HSAG\n49         116   house         HSAP\n109        116   house         HSAS\n169        116   house         HSED\n229        116   house         HSIF\n289        116   house         HSBA\n295        116   house         HSFA\n299        116   house         HSHM\n302        116   house         HSII\n309        116   house         HSGO\n316        116   house         HSRU\n324        116   house         HSSY\n325        116   house         HSSM\n327        116   house         HSBU\n358        116   house         HSJU\n367        116   house         HSPW\n370        116   house         HSVR\n372        116   house         HSIG\n374        117   house         HSHA\n402        117   house         HSAG\n462        117   house         HSAP\n522        117   house         HSAS\n582        117   house         HSED\n642        117   house         HSIF\n702        117   house         HSBA\n739        117   house         HSFA\n777        117   house         HSHM\n809        117   house         HSII\n849        117   house         HSGO\n908        117   house         HSRU\n948        117   house         HSSY\n980        117   house         HSSM\n982        117   house         HSBU\n999        117   house         HSJU\n1036       117   house         HSPW\n1038       117  senate         SSAF\n1082       117  senate         SSEG\n1142       117  senate         SSHR\n1202       117  senate         SSSB\n1232       118  senate         SSHR\n1234       118  senate         SSGA\n1236       118  senate         SSBU\n1237       118  senate         SSJU",
      "text/html": "<div>\n<style scoped>\n    .dataframe tbody tr th:only-of-type {\n        vertical-align: middle;\n    }\n\n    .dataframe tbody tr th {\n        vertical-align: top;\n    }\n\n    .dataframe thead th {\n        text-align: right;\n    }\n</style>\n<table border=\"1\" class=\"dataframe\">\n  <thead>\n    <tr style=\"text-align: right;\">\n      <th></th>\n      <th>congress</th>\n      <th>chamber</th>\n      <th>committee_id</th>\n    </tr>\n  </thead>\n  <tbody>\n    <tr>\n      <th>0</th>\n      <td>116</td>\n      <td>house</td>\n      <td>HSHA</td>\n    </tr>\n    <tr>\n      <th>2</th>\n      <td>116</td>\n      <td>house</td>\n      <td>HSAG</td>\n    </tr>\n    <tr>\n      <th>49</th>\n      <td>116</td>\n      <td>house</td>\n      <td>HSAP</td>\n    </tr>\n    <tr>\n      <th>109</th>\n      <td>116</td>\n      <td>house</td>\n      <td>HSAS</td>\n    </tr>\n    <tr>\n      <th>169</th>\n      <td>116</td>\n      <td>house</td>\n      <td>HSED</td>\n    </tr>\n    <tr>\n      <th>229</th>\n      <td>116</td>\n      <td>house</td>\n      <td>HSIF</td>\n    </tr>\n    <tr>\n      <th>289</th>\n      <td>116</td>\n      <td>house</td>\n      <td>HSBA</td>\n    </tr>\n    <tr>\n      <th>295</th>\n      <td>116</td>\n      <td>house</td>\n      <td>HSFA</td>\n    </tr>\n    <tr>\n      <th>299</th>\n      <td>116</td>\n      <td>house</td>\n      <td>HSHM</td>\n    </tr>\n    <tr>\n      <th>302</th>\n      <td>116</td>\n      <td>house</td>\n      <td>HSII</td>\n    </tr>\n    <tr>\n      <th>309</th>\n      <td>116</td>\n      <td>house</td>\n      <td>HSGO</td>\n    </tr>\n    <tr>\n      <th>316</th>\n      <td>116</td>\n      <td>house</td>\n      <td>HSRU</td>\n    </tr>\n    <tr>\n      <th>324</th>\n      <td>116</td>\n      <td>house</td>\n      <td>HSSY</td>\n    </tr>\n    <tr>\n      <th>325</th>\n      <td>116</td>\n      <td>house</td>\n      <td>HSSM</td>\n    </tr>\n    <tr>\n      <th>327</th>\n      <td>116</td>\n      <td>house</td>\n      <td>HSBU</td>\n    </tr>\n    <tr>\n      <th>358</th>\n      <td>116</td>\n      <td>house</td>\n      <td>HSJU</td>\n    </tr>\n    <tr>\n      <th>367</th>\n      <td>116</td>\n      <td>house</td>\n      <td>HSPW</td>\n    </tr>\n    <tr>\n      <th>370</th>\n      <td>116</td>\n      <td>house</td>\n      <td>HSVR</td>\n    </tr>\n    <tr>\n      <th>372</th>\n      <td>116</td>\n      <td>house</td>\n      <td>HSIG</td>\n    </tr>\n    <tr>\n      <th>374</th>\n      <td>117</td>\n      <td>house</td>\n      <td>HSHA</td>\n    </tr>\n    <tr>\n      <th>402</th>\n      <td>117</td>\n      <td>house</td>\n      <td>HSAG</td>\n    </tr>\n    <tr>\n      <th>462</th>\n      <td>117</td>\n      <td>house</td>\n      <td>HSAP</td>\n    </tr>\n    <tr>\n      <th>522</th>\n      <td>117</td>\n      <td>house</td>\n      <td>HSAS</td>\n    </tr>\n    <tr>\n      <th>582</th>\n      <td>117</td>\n      <td>house</td>\n      <td>HSED</td>\n    </tr>\n    <tr>\n      <th>642</th>\n      <td>117</td>\n      <td>house</td>\n      <td>HSIF</td>\n    </tr>\n    <tr>\n      <th>702</th>\n      <td>117</td>\n      <td>house</td>\n      <td>HSBA</td>\n    </tr>\n    <tr>\n      <th>739</th>\n      <td>117</td>\n      <td>house</td>\n      <td>HSFA</td>\n    </tr>\n    <tr>\n      <th>777</th>\n      <td>117</td>\n      <td>house</td>\n      <td>HSHM</td>\n    </tr>\n    <tr>\n      <th>809</th>\n      <td>117</td>\n      <td>house</td>\n      <td>HSII</td>\n    </tr>\n    <tr>\n      <th>849</th>\n      <td>117</td>\n      <td>house</td>\n      <td>HSGO</td>\n    </tr>\n    <tr>\n      <th>908</th>\n      <td>117</td>\n      <td>house</td>\n      <td>HSRU</td>\n    </tr>\n    <tr>\n      <th>948</th>\n      <td>117</td>\n      <td>house</td>\n      <td>HSSY</td>\n    </tr>\n    <tr>\n      <th>980</th>\n      <td>117</td>\n      <td>house</td>\n      <td>HSSM</td>\n    </tr>\n    <tr>\n      <th>982</th>\n      <td>117</td>\n      <td>house</td>\n      <td>HSBU</td>\n    </tr>\n    <tr>\n      <th>999</th>\n      <td>117</td>\n      <td>house</td>\n      <td>HSJU</td>\n    </tr>\n    <tr>\n      <th>1036</th>\n      <td>117</td>\n      <td>house</td>\n      <td>HSPW</td>\n    </tr>\n    <tr>\n      <th>1038</th>\n      <td>117</td>\n      <td>senate</td>\n      <td>SSAF</td>\n    </tr>\n    <tr>\n      <th>1082</th>\n      <td>117</td>\n      <td>senate</td>\n      <td>SSEG</td>\n    </tr>\n    <tr>\n      <th>1142</th>\n      <td>117</td>\n      <td>senate</td>\n      <td>SSHR</td>\n    </tr>\n    <tr>\n      <th>1202</th>\n      <td>117</td>\n      <td>senate</td>\n      <td>SSSB</td>\n    </tr>\n    <tr>\n      <th>1232</th>\n      <td>118</td>\n      <td>senate</td>\n      <td>SSHR</td>\n    </tr>\n    <tr>\n      <th>1234</th>\n      <td>118</td>\n      <td>senate</td>\n      <td>SSGA</td>\n    </tr>\n    <tr>\n      <th>1236</th>\n      <td>118</td>\n      <td>senate</td>\n      <td>SSBU</td>\n    </tr>\n    <tr>\n      <th>1237</th>\n      <td>118</td>\n      <td>senate</td>\n      <td>SSJU</td>\n    </tr>\n  </tbody>\n</table>\n</div>"
     },
     "execution_count": 45,
     "metadata": {},
     "output_type": "execute_result"
    }
   ],
   "source": [
    "old_hearings = pd.read_csv(\"../prod_data/hearings.csv\")[['hearing_congress', 'hearing_chamber', 'hearing_committee_id']]\n",
    "\n",
    "unique_rows_last_old = old_hearings.drop_duplicates(subset=['hearing_congress', 'hearing_chamber', 'hearing_committee_id'])[['hearing_congress', 'hearing_chamber', 'hearing_committee_id']]\n",
    "\n",
    "unique_rows_last_old.rename(columns={'hearing_congress': 'congress', 'hearing_chamber': 'chamber', 'hearing_committee_id': 'committee_id'}, inplace=True)\n",
    "\n",
    "unique_rows_last_old"
   ],
   "metadata": {
    "collapsed": false,
    "ExecuteTime": {
     "end_time": "2023-11-30T07:56:35.174908Z",
     "start_time": "2023-11-30T07:56:35.147065Z"
    }
   },
   "id": "7ea71b666707212a"
  },
  {
   "cell_type": "code",
   "execution_count": 44,
   "outputs": [
    {
     "data": {
      "text/plain": "     congress chamber committee_id\n2         116  senate         SSAF\n3         116  senate         SSAP\n4         116  senate         SSAS\n5         116  senate         SSBK\n6         116  senate         SSCM\n..        ...     ...          ...\n143       118   house         HSIG\n144       118   house         HSZS\n145       118   house         HSVC\n146       118   house         HSFD\n147       118   joint         JSEC\n\n[104 rows x 3 columns]",
      "text/html": "<div>\n<style scoped>\n    .dataframe tbody tr th:only-of-type {\n        vertical-align: middle;\n    }\n\n    .dataframe tbody tr th {\n        vertical-align: top;\n    }\n\n    .dataframe thead th {\n        text-align: right;\n    }\n</style>\n<table border=\"1\" class=\"dataframe\">\n  <thead>\n    <tr style=\"text-align: right;\">\n      <th></th>\n      <th>congress</th>\n      <th>chamber</th>\n      <th>committee_id</th>\n    </tr>\n  </thead>\n  <tbody>\n    <tr>\n      <th>2</th>\n      <td>116</td>\n      <td>senate</td>\n      <td>SSAF</td>\n    </tr>\n    <tr>\n      <th>3</th>\n      <td>116</td>\n      <td>senate</td>\n      <td>SSAP</td>\n    </tr>\n    <tr>\n      <th>4</th>\n      <td>116</td>\n      <td>senate</td>\n      <td>SSAS</td>\n    </tr>\n    <tr>\n      <th>5</th>\n      <td>116</td>\n      <td>senate</td>\n      <td>SSBK</td>\n    </tr>\n    <tr>\n      <th>6</th>\n      <td>116</td>\n      <td>senate</td>\n      <td>SSCM</td>\n    </tr>\n    <tr>\n      <th>...</th>\n      <td>...</td>\n      <td>...</td>\n      <td>...</td>\n    </tr>\n    <tr>\n      <th>143</th>\n      <td>118</td>\n      <td>house</td>\n      <td>HSIG</td>\n    </tr>\n    <tr>\n      <th>144</th>\n      <td>118</td>\n      <td>house</td>\n      <td>HSZS</td>\n    </tr>\n    <tr>\n      <th>145</th>\n      <td>118</td>\n      <td>house</td>\n      <td>HSVC</td>\n    </tr>\n    <tr>\n      <th>146</th>\n      <td>118</td>\n      <td>house</td>\n      <td>HSFD</td>\n    </tr>\n    <tr>\n      <th>147</th>\n      <td>118</td>\n      <td>joint</td>\n      <td>JSEC</td>\n    </tr>\n  </tbody>\n</table>\n<p>104 rows × 3 columns</p>\n</div>"
     },
     "execution_count": 44,
     "metadata": {},
     "output_type": "execute_result"
    }
   ],
   "source": [
    "merged_df = unique_rows_last.merge(unique_rows_last_old, on=['congress', 'chamber', 'committee_id'], how='outer', indicator=True)\n",
    "\n",
    "# Filter out rows that are found in both DataFrames\n",
    "unique_to_df1 = merged_df[merged_df['_merge'] == 'left_only'].drop(columns=['_merge'])\n",
    "\n",
    "unique_to_df1"
   ],
   "metadata": {
    "collapsed": false,
    "ExecuteTime": {
     "end_time": "2023-11-30T07:56:23.118270Z",
     "start_time": "2023-11-30T07:56:23.081764Z"
    }
   },
   "id": "52387fb077697e44"
  },
  {
   "cell_type": "code",
   "execution_count": 29,
   "outputs": [
    {
     "data": {
      "text/plain": "26"
     },
     "execution_count": 29,
     "metadata": {},
     "output_type": "execute_result"
    }
   ],
   "source": [
    "len(old_hearings['hearing_committee_id'].unique())"
   ],
   "metadata": {
    "collapsed": false,
    "ExecuteTime": {
     "end_time": "2023-11-30T07:49:52.141450Z",
     "start_time": "2023-11-30T07:49:52.127965Z"
    }
   },
   "id": "cd1e7c0051dc032e"
  },
  {
   "cell_type": "code",
   "execution_count": 27,
   "outputs": [
    {
     "data": {
      "text/plain": "      congress chamber committee_id\n0          116   house         HSAG\n1          116   house         HSSY\n2          116  senate         SSAF\n11         116  senate         SSAP\n31         116  senate         SSAS\n...        ...     ...          ...\n1487       118   house         HSIG\n1494       118   house         HSZS\n1503       118   house         HSVC\n1507       118   house         HSFD\n1526       118   joint         JSEC\n\n[148 rows x 3 columns]",
      "text/html": "<div>\n<style scoped>\n    .dataframe tbody tr th:only-of-type {\n        vertical-align: middle;\n    }\n\n    .dataframe tbody tr th {\n        vertical-align: top;\n    }\n\n    .dataframe thead th {\n        text-align: right;\n    }\n</style>\n<table border=\"1\" class=\"dataframe\">\n  <thead>\n    <tr style=\"text-align: right;\">\n      <th></th>\n      <th>congress</th>\n      <th>chamber</th>\n      <th>committee_id</th>\n    </tr>\n  </thead>\n  <tbody>\n    <tr>\n      <th>0</th>\n      <td>116</td>\n      <td>house</td>\n      <td>HSAG</td>\n    </tr>\n    <tr>\n      <th>1</th>\n      <td>116</td>\n      <td>house</td>\n      <td>HSSY</td>\n    </tr>\n    <tr>\n      <th>2</th>\n      <td>116</td>\n      <td>senate</td>\n      <td>SSAF</td>\n    </tr>\n    <tr>\n      <th>11</th>\n      <td>116</td>\n      <td>senate</td>\n      <td>SSAP</td>\n    </tr>\n    <tr>\n      <th>31</th>\n      <td>116</td>\n      <td>senate</td>\n      <td>SSAS</td>\n    </tr>\n    <tr>\n      <th>...</th>\n      <td>...</td>\n      <td>...</td>\n      <td>...</td>\n    </tr>\n    <tr>\n      <th>1487</th>\n      <td>118</td>\n      <td>house</td>\n      <td>HSIG</td>\n    </tr>\n    <tr>\n      <th>1494</th>\n      <td>118</td>\n      <td>house</td>\n      <td>HSZS</td>\n    </tr>\n    <tr>\n      <th>1503</th>\n      <td>118</td>\n      <td>house</td>\n      <td>HSVC</td>\n    </tr>\n    <tr>\n      <th>1507</th>\n      <td>118</td>\n      <td>house</td>\n      <td>HSFD</td>\n    </tr>\n    <tr>\n      <th>1526</th>\n      <td>118</td>\n      <td>joint</td>\n      <td>JSEC</td>\n    </tr>\n  </tbody>\n</table>\n<p>148 rows × 3 columns</p>\n</div>"
     },
     "execution_count": 27,
     "metadata": {},
     "output_type": "execute_result"
    }
   ],
   "source": [
    "\n"
   ],
   "metadata": {
    "collapsed": false,
    "ExecuteTime": {
     "end_time": "2023-11-30T07:48:44.411062Z",
     "start_time": "2023-11-30T07:48:44.401232Z"
    }
   },
   "id": "bebd3f106d4e3f3f"
  },
  {
   "cell_type": "code",
   "execution_count": 46,
   "outputs": [
    {
     "data": {
      "text/plain": "    hearing_congress hearing_chamber hearing_committee_id hearing_date  \\\n0              116.0          senate                 SSAF   2020-12-02   \n1              116.0          senate                 SSAF   2020-06-24   \n2              116.0          senate                 SSAF   2020-03-12   \n3              116.0          senate                 SSAF   2019-11-07   \n4              116.0          senate                 SSAF   2019-10-17   \n..               ...             ...                  ...          ...   \n1              118.0          senate                 SSFR   2023-04-26   \n2              118.0          senate                 SSFR   2023-04-26   \n0              118.0          senate                 SSSB   2023-04-26   \n0              118.0          senate                 SSVA   2023-04-26   \n0              118.0           joint                 JCSE   2023-04-27   \n\n                                  hearing_description  \n0   Hearings to examine agricultural research and ...  \n1   Business meeting to consider original legislat...  \n2   Hearings to examine agriculture innovation and...  \n3   Hearings to examine implementation of the 2018...  \n4   Hearings to examine implementing the 2018 Farm...  \n..                                                ...  \n1         Hearings to examine U.S. policy on Tunisia.  \n2   Hearings to examine the President&#39;s propos...  \n0   An oversight hearing to examine the SBA&#39;s ...  \n0      Hearings to examine pending calendar business.  \n0   Hearings to examine church, state, and Russia&...  \n\n[1724 rows x 5 columns]",
      "text/html": "<div>\n<style scoped>\n    .dataframe tbody tr th:only-of-type {\n        vertical-align: middle;\n    }\n\n    .dataframe tbody tr th {\n        vertical-align: top;\n    }\n\n    .dataframe thead th {\n        text-align: right;\n    }\n</style>\n<table border=\"1\" class=\"dataframe\">\n  <thead>\n    <tr style=\"text-align: right;\">\n      <th></th>\n      <th>hearing_congress</th>\n      <th>hearing_chamber</th>\n      <th>hearing_committee_id</th>\n      <th>hearing_date</th>\n      <th>hearing_description</th>\n    </tr>\n  </thead>\n  <tbody>\n    <tr>\n      <th>0</th>\n      <td>116.0</td>\n      <td>senate</td>\n      <td>SSAF</td>\n      <td>2020-12-02</td>\n      <td>Hearings to examine agricultural research and ...</td>\n    </tr>\n    <tr>\n      <th>1</th>\n      <td>116.0</td>\n      <td>senate</td>\n      <td>SSAF</td>\n      <td>2020-06-24</td>\n      <td>Business meeting to consider original legislat...</td>\n    </tr>\n    <tr>\n      <th>2</th>\n      <td>116.0</td>\n      <td>senate</td>\n      <td>SSAF</td>\n      <td>2020-03-12</td>\n      <td>Hearings to examine agriculture innovation and...</td>\n    </tr>\n    <tr>\n      <th>3</th>\n      <td>116.0</td>\n      <td>senate</td>\n      <td>SSAF</td>\n      <td>2019-11-07</td>\n      <td>Hearings to examine implementation of the 2018...</td>\n    </tr>\n    <tr>\n      <th>4</th>\n      <td>116.0</td>\n      <td>senate</td>\n      <td>SSAF</td>\n      <td>2019-10-17</td>\n      <td>Hearings to examine implementing the 2018 Farm...</td>\n    </tr>\n    <tr>\n      <th>...</th>\n      <td>...</td>\n      <td>...</td>\n      <td>...</td>\n      <td>...</td>\n      <td>...</td>\n    </tr>\n    <tr>\n      <th>1</th>\n      <td>118.0</td>\n      <td>senate</td>\n      <td>SSFR</td>\n      <td>2023-04-26</td>\n      <td>Hearings to examine U.S. policy on Tunisia.</td>\n    </tr>\n    <tr>\n      <th>2</th>\n      <td>118.0</td>\n      <td>senate</td>\n      <td>SSFR</td>\n      <td>2023-04-26</td>\n      <td>Hearings to examine the President&amp;#39;s propos...</td>\n    </tr>\n    <tr>\n      <th>0</th>\n      <td>118.0</td>\n      <td>senate</td>\n      <td>SSSB</td>\n      <td>2023-04-26</td>\n      <td>An oversight hearing to examine the SBA&amp;#39;s ...</td>\n    </tr>\n    <tr>\n      <th>0</th>\n      <td>118.0</td>\n      <td>senate</td>\n      <td>SSVA</td>\n      <td>2023-04-26</td>\n      <td>Hearings to examine pending calendar business.</td>\n    </tr>\n    <tr>\n      <th>0</th>\n      <td>118.0</td>\n      <td>joint</td>\n      <td>JCSE</td>\n      <td>2023-04-27</td>\n      <td>Hearings to examine church, state, and Russia&amp;...</td>\n    </tr>\n  </tbody>\n</table>\n<p>1724 rows × 5 columns</p>\n</div>"
     },
     "execution_count": 46,
     "metadata": {},
     "output_type": "execute_result"
    }
   ],
   "source": [
    "hearings_dfs = []\n",
    "for index, row in unique_to_df1.iterrows():\n",
    "    hearing_congress_list = []\n",
    "    hearing_chamber_list = []\n",
    "    hearing_committee_id_list = []\n",
    "    hearing_date_list = []\n",
    "    hearing_description_list = []\n",
    "\n",
    "    offset_value = 0\n",
    "    congress = row['congress']\n",
    "    chamber = row['chamber']\n",
    "    committee_id = row['committee_id']\n",
    "    url = f'https://api.propublica.org/congress/v1/{congress}/{chamber}/committees/{committee_id}/hearings.json'\n",
    "    response = requests.get(url, headers=headers)\n",
    "    response.raise_for_status()\n",
    "    results_check = response.json()\n",
    "\n",
    "    if 'results' in response.json().keys():\n",
    "        results = response.json()['results']\n",
    "        bill_number = results[0]['num_results']\n",
    "        times = bill_number // 20 + 1\n",
    "        while times >=0:\n",
    "            url = f'https://api.propublica.org/congress/v1/{congress}/{chamber}/committees/{committee_id}/hearings.json?offset={offset_value}'\n",
    "            response = requests.get(url, headers=headers)\n",
    "            hearings = response.json()['results'][0]['hearings']\n",
    "\n",
    "            for hearing in hearings:\n",
    "                hearing_congress_list.append(congress)\n",
    "                hearing_chamber_list.append(chamber)\n",
    "                hearing_committee_id_list.append(committee_id)\n",
    "                hearing_date_list.append(hearing['date'])\n",
    "                hearing_description_list.append(hearing['description'])\n",
    "            offset_value+= 20\n",
    "            times -= 1\n",
    "    else:\n",
    "        pass\n",
    "    hearings_df = pd.DataFrame({'hearing_congress': hearing_congress_list,\n",
    "                                    'hearing_chamber': hearing_chamber_list,\n",
    "                                    'hearing_committee_id': hearing_committee_id_list,\n",
    "                                    'hearing_date': hearing_date_list,\n",
    "                                    'hearing_description': hearing_description_list})\n",
    "    hearings_dfs.append(hearings_df)\n",
    "\n",
    "    \n",
    "\n",
    "hearings_df = pd.concat(hearings_dfs)\n",
    "\n",
    "hearings_df"
   ],
   "metadata": {
    "collapsed": false,
    "ExecuteTime": {
     "end_time": "2023-11-30T08:03:39.633608Z",
     "start_time": "2023-11-30T07:57:26.750802Z"
    }
   },
   "id": "f716eac2b439a96"
  },
  {
   "cell_type": "code",
   "execution_count": 51,
   "outputs": [],
   "source": [
    "old_hearings = pd.read_csv(\"../prod_data/hearings.csv\")\n",
    "old_hearings\n",
    "\n",
    "final_hearings_df = pd.concat([old_hearings, hearings_df])\n",
    "\n",
    "final_hearings_df.to_csv('../prod_data/committee_hearings.csv', index=False)"
   ],
   "metadata": {
    "collapsed": false,
    "ExecuteTime": {
     "end_time": "2023-11-30T08:11:47.313246Z",
     "start_time": "2023-11-30T08:11:47.267818Z"
    }
   },
   "id": "81de0cfaa5be5fc4"
  },
  {
   "cell_type": "code",
   "execution_count": 16,
   "outputs": [],
   "source": [
    "hearings_df['hearing_congress'] = hearings_df['hearing_congress'].astype(int)\n",
    "\n",
    "hearings_df.to_csv('../prod_data/committee_hearings.csv', index=False)"
   ],
   "metadata": {
    "collapsed": false,
    "ExecuteTime": {
     "end_time": "2023-11-29T06:53:39.053658Z",
     "start_time": "2023-11-29T06:53:39.036481Z"
    }
   },
   "id": "d36cece84e0bfedd"
  },
  {
   "cell_type": "code",
   "execution_count": null,
   "outputs": [],
   "source": [],
   "metadata": {
    "collapsed": false
   },
   "id": "a1cb6410332b5582"
  }
 ],
 "metadata": {
  "kernelspec": {
   "display_name": "Python 3",
   "language": "python",
   "name": "python3"
  },
  "language_info": {
   "codemirror_mode": {
    "name": "ipython",
    "version": 2
   },
   "file_extension": ".py",
   "mimetype": "text/x-python",
   "name": "python",
   "nbconvert_exporter": "python",
   "pygments_lexer": "ipython2",
   "version": "2.7.6"
  }
 },
 "nbformat": 4,
 "nbformat_minor": 5
}
