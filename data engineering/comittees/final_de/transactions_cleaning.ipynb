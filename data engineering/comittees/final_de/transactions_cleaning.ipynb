{
 "cells": [
  {
   "cell_type": "code",
   "execution_count": 124,
   "id": "initial_id",
   "metadata": {
    "collapsed": true,
    "ExecuteTime": {
     "end_time": "2023-11-30T02:23:11.778391Z",
     "start_time": "2023-11-30T02:23:11.756360Z"
    }
   },
   "outputs": [],
   "source": [
    "import pandas as pd\n",
    "import nameparser\n",
    "import json\n",
    "import requests\n",
    "import numpy as np\n",
    "import uuid"
   ]
  },
  {
   "cell_type": "code",
   "execution_count": 125,
   "outputs": [],
   "source": [
    "pro_publica_api_key = \"PguHImFJakafbsBpZ2ed21A1HIgvXKiM7tg0BqI0 \"\n",
    "headers = {'X-API-Key': pro_publica_api_key}"
   ],
   "metadata": {
    "collapsed": false,
    "ExecuteTime": {
     "end_time": "2023-11-30T02:23:12.061907Z",
     "start_time": "2023-11-30T02:23:12.047240Z"
    }
   },
   "id": "80e894aab7e3ffc9"
  },
  {
   "cell_type": "code",
   "execution_count": 126,
   "outputs": [],
   "source": [
    "trans = pd.read_csv('../../data/transactions_20231018.csv')\n",
    "trans['disclosure_date'] = pd.to_datetime(trans['disclosure_date'], errors='coerce')\n",
    "trans['transaction_date'] = pd.to_datetime(trans['transaction_date'],errors='coerce')\n",
    "trans['member'] = trans['member'].str.lower()\n",
    "trans['parsed_name'] = trans['member'].apply(lambda x: nameparser.HumanName(x))\n",
    "trans['first_name'] = trans['parsed_name'].apply(lambda x: x.first)\n",
    "trans['last_name'] = trans['parsed_name'].apply(lambda x: x.last)\n",
    "trans['string_name'] = trans['first_name'] + ' ' + trans['last_name']\n",
    "trans['uuid'] = trans.apply(lambda _: uuid.uuid4(), axis=1)\n",
    " "
   ],
   "metadata": {
    "collapsed": false,
    "ExecuteTime": {
     "end_time": "2023-11-30T02:23:13.136025Z",
     "start_time": "2023-11-30T02:23:12.348651Z"
    }
   },
   "id": "abcc588c90b1856f"
  },
  {
   "cell_type": "code",
   "execution_count": 127,
   "outputs": [
    {
     "data": {
      "text/plain": "      disclosure_date transaction_date  owner ticker  \\\n17254      2020-11-04              NaT    NaN    NaN   \n17622      2020-05-08              NaT  Joint    DOW   \n17623      2020-05-08              NaT  Joint    EEM   \n17624      2020-05-08              NaT  Joint    IDV   \n17625      2020-05-08              NaT  Joint     DD   \n...               ...              ...    ...    ...   \n23026      2015-06-04              NaT  Joint  DISCA   \n23027      2015-06-04              NaT  Joint  DISCA   \n23028      2015-06-04              NaT  Joint    TAP   \n23029      2015-06-04              NaT  Joint   AXLL   \n23030      2015-06-04              NaT  Joint  DISCA   \n\n                                       asset_description         type  \\\n17254  This filing was disclosed via scanned PDF. Use...          NaN   \n17622                                           Dow Inc.  Sale (Full)   \n17623  iShares MSCI Emerging Markets ETF <div class=\"...  Sale (Full)   \n17624  iShares International Select Dividend ETF <div...  Sale (Full)   \n17625                            DuPont de Nemours, Inc.  Sale (Full)   \n...                                                  ...          ...   \n23026            Discovery Communications, Inc. (NASDAQ)     Purchase   \n23027            Discovery Communications, Inc. (NASDAQ)     Purchase   \n23028                Molson Coors Brewing Company (NYSE)  Sale (Full)   \n23029                          Axiall Corporation (NYSE)     Purchase   \n23030            Discovery Communications, Inc. (NASDAQ)     Purchase   \n\n                   amount        member district state  ...       party  \\\n17254             Unknown  david perdue      NaN   NaN  ...         NaN   \n17622    $1,001 - $15,000  david perdue      NaN    GA  ...  Republican   \n17623    $1,001 - $15,000  david perdue      NaN    GA  ...  Republican   \n17624    $1,001 - $15,000  david perdue      NaN    GA  ...  Republican   \n17625  $50,001 - $100,000  david perdue      NaN    GA  ...  Republican   \n...                   ...           ...      ...   ...  ...         ...   \n23026    $1,001 - $15,000  david perdue      NaN    GA  ...  Republican   \n23027    $1,001 - $15,000  david perdue      NaN    GA  ...  Republican   \n23028    $1,001 - $15,000  david perdue      NaN    GA  ...  Republican   \n23029    $1,001 - $15,000  david perdue      NaN    GA  ...  Republican   \n23030    $1,001 - $15,000  david perdue      NaN    GA  ...  Republican   \n\n                 asset_type  \\\n17254  PDF Disclosed Filing   \n17622                 Stock   \n17623      Other Securities   \n17624      Other Securities   \n17625                 Stock   \n...                     ...   \n23026                 Stock   \n23027                 Stock   \n23028                 Stock   \n23029                 Stock   \n23030                 Stock   \n\n                                                 comment member_type  \\\n17254                                                NaN     senator   \n17622  Full sale from Wells Fargo Acct. This full sal...     senator   \n17623  Not required to be disclosed but disclosing an...     senator   \n17624  Not required to be disclosed but disclosing an...     senator   \n17625                                                 --     senator   \n...                                                  ...         ...   \n23026                                                 --     senator   \n23027                                                 --     senator   \n23028                                                 --     senator   \n23029                                                 --     senator   \n23030                                                 --     senator   \n\n      amount_formatted   parsed_name first_name last_name   string_name  \\\n17254              NaN  david perdue      david    perdue  david perdue   \n17622           1000.0  david perdue      david    perdue  david perdue   \n17623           1000.0  david perdue      david    perdue  david perdue   \n17624           1000.0  david perdue      david    perdue  david perdue   \n17625          50000.0  david perdue      david    perdue  david perdue   \n...                ...           ...        ...       ...           ...   \n23026           1000.0  david perdue      david    perdue  david perdue   \n23027           1000.0  david perdue      david    perdue  david perdue   \n23028           1000.0  david perdue      david    perdue  david perdue   \n23029           1000.0  david perdue      david    perdue  david perdue   \n23030           1000.0  david perdue      david    perdue  david perdue   \n\n                                       uuid  \n17254  87f11399-48f7-4df2-9aa7-ec6a95b01815  \n17622  f48d1bf9-3a42-4818-b5c4-7b94281b918d  \n17623  944ac592-8914-4d5f-97f7-2cea6baaae5f  \n17624  9b2774c7-6d67-4577-b9da-19bd81b8de26  \n17625  d0f00e0d-371f-47d2-afd8-000c5d96aeb6  \n...                                     ...  \n23026  d68b8735-6058-4084-a288-a2924196225f  \n23027  06040b65-ad33-446a-8e2e-b26c87944bdc  \n23028  d42d6f43-6e2f-4aac-b26f-50e62aa98b28  \n23029  15ea941b-d9f7-4dd4-88ea-be26872ef0ac  \n23030  f1eaa3fd-2c69-4355-8a90-1234d631c279  \n\n[2286 rows x 24 columns]",
      "text/html": "<div>\n<style scoped>\n    .dataframe tbody tr th:only-of-type {\n        vertical-align: middle;\n    }\n\n    .dataframe tbody tr th {\n        vertical-align: top;\n    }\n\n    .dataframe thead th {\n        text-align: right;\n    }\n</style>\n<table border=\"1\" class=\"dataframe\">\n  <thead>\n    <tr style=\"text-align: right;\">\n      <th></th>\n      <th>disclosure_date</th>\n      <th>transaction_date</th>\n      <th>owner</th>\n      <th>ticker</th>\n      <th>asset_description</th>\n      <th>type</th>\n      <th>amount</th>\n      <th>member</th>\n      <th>district</th>\n      <th>state</th>\n      <th>...</th>\n      <th>party</th>\n      <th>asset_type</th>\n      <th>comment</th>\n      <th>member_type</th>\n      <th>amount_formatted</th>\n      <th>parsed_name</th>\n      <th>first_name</th>\n      <th>last_name</th>\n      <th>string_name</th>\n      <th>uuid</th>\n    </tr>\n  </thead>\n  <tbody>\n    <tr>\n      <th>17254</th>\n      <td>2020-11-04</td>\n      <td>NaT</td>\n      <td>NaN</td>\n      <td>NaN</td>\n      <td>This filing was disclosed via scanned PDF. Use...</td>\n      <td>NaN</td>\n      <td>Unknown</td>\n      <td>david perdue</td>\n      <td>NaN</td>\n      <td>NaN</td>\n      <td>...</td>\n      <td>NaN</td>\n      <td>PDF Disclosed Filing</td>\n      <td>NaN</td>\n      <td>senator</td>\n      <td>NaN</td>\n      <td>david perdue</td>\n      <td>david</td>\n      <td>perdue</td>\n      <td>david perdue</td>\n      <td>87f11399-48f7-4df2-9aa7-ec6a95b01815</td>\n    </tr>\n    <tr>\n      <th>17622</th>\n      <td>2020-05-08</td>\n      <td>NaT</td>\n      <td>Joint</td>\n      <td>DOW</td>\n      <td>Dow Inc.</td>\n      <td>Sale (Full)</td>\n      <td>$1,001 - $15,000</td>\n      <td>david perdue</td>\n      <td>NaN</td>\n      <td>GA</td>\n      <td>...</td>\n      <td>Republican</td>\n      <td>Stock</td>\n      <td>Full sale from Wells Fargo Acct. This full sal...</td>\n      <td>senator</td>\n      <td>1000.0</td>\n      <td>david perdue</td>\n      <td>david</td>\n      <td>perdue</td>\n      <td>david perdue</td>\n      <td>f48d1bf9-3a42-4818-b5c4-7b94281b918d</td>\n    </tr>\n    <tr>\n      <th>17623</th>\n      <td>2020-05-08</td>\n      <td>NaT</td>\n      <td>Joint</td>\n      <td>EEM</td>\n      <td>iShares MSCI Emerging Markets ETF &lt;div class=\"...</td>\n      <td>Sale (Full)</td>\n      <td>$1,001 - $15,000</td>\n      <td>david perdue</td>\n      <td>NaN</td>\n      <td>GA</td>\n      <td>...</td>\n      <td>Republican</td>\n      <td>Other Securities</td>\n      <td>Not required to be disclosed but disclosing an...</td>\n      <td>senator</td>\n      <td>1000.0</td>\n      <td>david perdue</td>\n      <td>david</td>\n      <td>perdue</td>\n      <td>david perdue</td>\n      <td>944ac592-8914-4d5f-97f7-2cea6baaae5f</td>\n    </tr>\n    <tr>\n      <th>17624</th>\n      <td>2020-05-08</td>\n      <td>NaT</td>\n      <td>Joint</td>\n      <td>IDV</td>\n      <td>iShares International Select Dividend ETF &lt;div...</td>\n      <td>Sale (Full)</td>\n      <td>$1,001 - $15,000</td>\n      <td>david perdue</td>\n      <td>NaN</td>\n      <td>GA</td>\n      <td>...</td>\n      <td>Republican</td>\n      <td>Other Securities</td>\n      <td>Not required to be disclosed but disclosing an...</td>\n      <td>senator</td>\n      <td>1000.0</td>\n      <td>david perdue</td>\n      <td>david</td>\n      <td>perdue</td>\n      <td>david perdue</td>\n      <td>9b2774c7-6d67-4577-b9da-19bd81b8de26</td>\n    </tr>\n    <tr>\n      <th>17625</th>\n      <td>2020-05-08</td>\n      <td>NaT</td>\n      <td>Joint</td>\n      <td>DD</td>\n      <td>DuPont de Nemours, Inc.</td>\n      <td>Sale (Full)</td>\n      <td>$50,001 - $100,000</td>\n      <td>david perdue</td>\n      <td>NaN</td>\n      <td>GA</td>\n      <td>...</td>\n      <td>Republican</td>\n      <td>Stock</td>\n      <td>--</td>\n      <td>senator</td>\n      <td>50000.0</td>\n      <td>david perdue</td>\n      <td>david</td>\n      <td>perdue</td>\n      <td>david perdue</td>\n      <td>d0f00e0d-371f-47d2-afd8-000c5d96aeb6</td>\n    </tr>\n    <tr>\n      <th>...</th>\n      <td>...</td>\n      <td>...</td>\n      <td>...</td>\n      <td>...</td>\n      <td>...</td>\n      <td>...</td>\n      <td>...</td>\n      <td>...</td>\n      <td>...</td>\n      <td>...</td>\n      <td>...</td>\n      <td>...</td>\n      <td>...</td>\n      <td>...</td>\n      <td>...</td>\n      <td>...</td>\n      <td>...</td>\n      <td>...</td>\n      <td>...</td>\n      <td>...</td>\n      <td>...</td>\n    </tr>\n    <tr>\n      <th>23026</th>\n      <td>2015-06-04</td>\n      <td>NaT</td>\n      <td>Joint</td>\n      <td>DISCA</td>\n      <td>Discovery Communications, Inc. (NASDAQ)</td>\n      <td>Purchase</td>\n      <td>$1,001 - $15,000</td>\n      <td>david perdue</td>\n      <td>NaN</td>\n      <td>GA</td>\n      <td>...</td>\n      <td>Republican</td>\n      <td>Stock</td>\n      <td>--</td>\n      <td>senator</td>\n      <td>1000.0</td>\n      <td>david perdue</td>\n      <td>david</td>\n      <td>perdue</td>\n      <td>david perdue</td>\n      <td>d68b8735-6058-4084-a288-a2924196225f</td>\n    </tr>\n    <tr>\n      <th>23027</th>\n      <td>2015-06-04</td>\n      <td>NaT</td>\n      <td>Joint</td>\n      <td>DISCA</td>\n      <td>Discovery Communications, Inc. (NASDAQ)</td>\n      <td>Purchase</td>\n      <td>$1,001 - $15,000</td>\n      <td>david perdue</td>\n      <td>NaN</td>\n      <td>GA</td>\n      <td>...</td>\n      <td>Republican</td>\n      <td>Stock</td>\n      <td>--</td>\n      <td>senator</td>\n      <td>1000.0</td>\n      <td>david perdue</td>\n      <td>david</td>\n      <td>perdue</td>\n      <td>david perdue</td>\n      <td>06040b65-ad33-446a-8e2e-b26c87944bdc</td>\n    </tr>\n    <tr>\n      <th>23028</th>\n      <td>2015-06-04</td>\n      <td>NaT</td>\n      <td>Joint</td>\n      <td>TAP</td>\n      <td>Molson Coors Brewing Company (NYSE)</td>\n      <td>Sale (Full)</td>\n      <td>$1,001 - $15,000</td>\n      <td>david perdue</td>\n      <td>NaN</td>\n      <td>GA</td>\n      <td>...</td>\n      <td>Republican</td>\n      <td>Stock</td>\n      <td>--</td>\n      <td>senator</td>\n      <td>1000.0</td>\n      <td>david perdue</td>\n      <td>david</td>\n      <td>perdue</td>\n      <td>david perdue</td>\n      <td>d42d6f43-6e2f-4aac-b26f-50e62aa98b28</td>\n    </tr>\n    <tr>\n      <th>23029</th>\n      <td>2015-06-04</td>\n      <td>NaT</td>\n      <td>Joint</td>\n      <td>AXLL</td>\n      <td>Axiall Corporation (NYSE)</td>\n      <td>Purchase</td>\n      <td>$1,001 - $15,000</td>\n      <td>david perdue</td>\n      <td>NaN</td>\n      <td>GA</td>\n      <td>...</td>\n      <td>Republican</td>\n      <td>Stock</td>\n      <td>--</td>\n      <td>senator</td>\n      <td>1000.0</td>\n      <td>david perdue</td>\n      <td>david</td>\n      <td>perdue</td>\n      <td>david perdue</td>\n      <td>15ea941b-d9f7-4dd4-88ea-be26872ef0ac</td>\n    </tr>\n    <tr>\n      <th>23030</th>\n      <td>2015-06-04</td>\n      <td>NaT</td>\n      <td>Joint</td>\n      <td>DISCA</td>\n      <td>Discovery Communications, Inc. (NASDAQ)</td>\n      <td>Purchase</td>\n      <td>$1,001 - $15,000</td>\n      <td>david perdue</td>\n      <td>NaN</td>\n      <td>GA</td>\n      <td>...</td>\n      <td>Republican</td>\n      <td>Stock</td>\n      <td>--</td>\n      <td>senator</td>\n      <td>1000.0</td>\n      <td>david perdue</td>\n      <td>david</td>\n      <td>perdue</td>\n      <td>david perdue</td>\n      <td>f1eaa3fd-2c69-4355-8a90-1234d631c279</td>\n    </tr>\n  </tbody>\n</table>\n<p>2286 rows × 24 columns</p>\n</div>"
     },
     "execution_count": 127,
     "metadata": {},
     "output_type": "execute_result"
    }
   ],
   "source": [
    "trans[trans['string_name'].str.contains('david perdue')]"
   ],
   "metadata": {
    "collapsed": false,
    "ExecuteTime": {
     "end_time": "2023-11-30T02:23:13.169471Z",
     "start_time": "2023-11-30T02:23:13.138405Z"
    }
   },
   "id": "dbac518166853edd"
  },
  {
   "cell_type": "code",
   "execution_count": 128,
   "outputs": [
    {
     "data": {
      "text/plain": "      disclosure_date transaction_date   owner ticker  \\\n17421      2020-08-21              NaT  Spouse    ICE   \n17614      2020-05-22              NaT  Spouse    ICE   \n17615      2020-05-22              NaT  Spouse    ICE   \n17616      2020-05-22              NaT    Self    ICE   \n17935      2020-05-01              NaT  Spouse    PRU   \n...               ...              ...     ...    ...   \n18493      2020-02-07              NaT  Spouse  CMCSA   \n18494      2020-02-07              NaT  Spouse   REZI   \n18495      2020-02-07              NaT  Spouse   REZI   \n18496      2020-02-07              NaT  Spouse    DFS   \n18497      2020-02-07              NaT  Spouse   REZI   \n\n                     asset_description            type  \\\n17421  Intercontinental Exchange, Inc.  Sale (Partial)   \n17614  Intercontinental Exchange, Inc.        Purchase   \n17615  Intercontinental Exchange, Inc.  Sale (Partial)   \n17616  Intercontinental Exchange, Inc.  Sale (Partial)   \n17935       Prudential Financial, Inc.  Sale (Partial)   \n...                                ...             ...   \n18493              Comcast Corporation  Sale (Partial)   \n18494       Resideo Technologies, Inc.  Sale (Partial)   \n18495       Resideo Technologies, Inc.  Sale (Partial)   \n18496      Discover Financial Services        Purchase   \n18497       Resideo Technologies, Inc.  Sale (Partial)   \n\n                         amount          member district state  ...  \\\n17421  $5,000,001 - $25,000,000  kelly loeffler      NaN    GA  ...   \n17614   $1,000,001 - $5,000,000  kelly loeffler      NaN    GA  ...   \n17615  $5,000,001 - $25,000,000  kelly loeffler      NaN    GA  ...   \n17616   $1,000,001 - $5,000,000  kelly loeffler      NaN    GA  ...   \n17935       $100,001 - $250,000  kelly loeffler      NaN    GA  ...   \n...                         ...             ...      ...   ...  ...   \n18493         $15,001 - $50,000  kelly loeffler      NaN    GA  ...   \n18494         $15,001 - $50,000  kelly loeffler      NaN    GA  ...   \n18495       $100,001 - $250,000  kelly loeffler      NaN    GA  ...   \n18496       $250,001 - $500,000  kelly loeffler      NaN    GA  ...   \n18497        $50,001 - $100,000  kelly loeffler      NaN    GA  ...   \n\n            party asset_type  \\\n17421  Republican      Stock   \n17614  Republican      Stock   \n17615  Republican      Stock   \n17616  Republican      Stock   \n17935  Republican      Stock   \n...           ...        ...   \n18493  Republican      Stock   \n18494  Republican      Stock   \n18495  Republican      Stock   \n18496  Republican      Stock   \n18497  Republican      Stock   \n\n                                                 comment member_type  \\\n17421  Equity pursuant to the company he founded with...     senator   \n17614  Equity pursuant to the company he founded with...     senator   \n17615  Equity pursuant to the company he founded with...     senator   \n17616  Equity compensation by former employer with pr...     senator   \n17935                                                 --     senator   \n...                                                  ...         ...   \n18493                                                 --     senator   \n18494                                                 --     senator   \n18495                                                 --     senator   \n18496                                                 --     senator   \n18497                                                 --     senator   \n\n      amount_formatted     parsed_name first_name last_name     string_name  \\\n17421        5000000.0  kelly loeffler      kelly  loeffler  kelly loeffler   \n17614        1000000.0  kelly loeffler      kelly  loeffler  kelly loeffler   \n17615        5000000.0  kelly loeffler      kelly  loeffler  kelly loeffler   \n17616        1000000.0  kelly loeffler      kelly  loeffler  kelly loeffler   \n17935         100000.0  kelly loeffler      kelly  loeffler  kelly loeffler   \n...                ...             ...        ...       ...             ...   \n18493          15000.0  kelly loeffler      kelly  loeffler  kelly loeffler   \n18494          15000.0  kelly loeffler      kelly  loeffler  kelly loeffler   \n18495         100000.0  kelly loeffler      kelly  loeffler  kelly loeffler   \n18496         250000.0  kelly loeffler      kelly  loeffler  kelly loeffler   \n18497          50000.0  kelly loeffler      kelly  loeffler  kelly loeffler   \n\n                                       uuid  \n17421  6f0717a4-ee83-4416-9eef-41a14aaf3cba  \n17614  10363b87-7054-47ab-8b26-cf1ba0985690  \n17615  20285a4d-8052-45df-a9e5-f142589093a9  \n17616  4311cee0-b87c-48d9-892e-8101201a5ce2  \n17935  85c24303-7a76-4b34-97cf-09430be006b8  \n...                                     ...  \n18493  ac5fbeb7-83f9-441b-b475-cdda4edda566  \n18494  073f5406-ea31-4b3a-8d60-a937b9b39ba7  \n18495  70fc9d7f-125d-4828-9f41-c7a725d5e7f8  \n18496  bc1d6fd8-e0c8-43ca-a638-81613d50df84  \n18497  bae180bc-1296-4c0d-bea1-c1d677b0fcb7  \n\n[274 rows x 24 columns]",
      "text/html": "<div>\n<style scoped>\n    .dataframe tbody tr th:only-of-type {\n        vertical-align: middle;\n    }\n\n    .dataframe tbody tr th {\n        vertical-align: top;\n    }\n\n    .dataframe thead th {\n        text-align: right;\n    }\n</style>\n<table border=\"1\" class=\"dataframe\">\n  <thead>\n    <tr style=\"text-align: right;\">\n      <th></th>\n      <th>disclosure_date</th>\n      <th>transaction_date</th>\n      <th>owner</th>\n      <th>ticker</th>\n      <th>asset_description</th>\n      <th>type</th>\n      <th>amount</th>\n      <th>member</th>\n      <th>district</th>\n      <th>state</th>\n      <th>...</th>\n      <th>party</th>\n      <th>asset_type</th>\n      <th>comment</th>\n      <th>member_type</th>\n      <th>amount_formatted</th>\n      <th>parsed_name</th>\n      <th>first_name</th>\n      <th>last_name</th>\n      <th>string_name</th>\n      <th>uuid</th>\n    </tr>\n  </thead>\n  <tbody>\n    <tr>\n      <th>17421</th>\n      <td>2020-08-21</td>\n      <td>NaT</td>\n      <td>Spouse</td>\n      <td>ICE</td>\n      <td>Intercontinental Exchange, Inc.</td>\n      <td>Sale (Partial)</td>\n      <td>$5,000,001 - $25,000,000</td>\n      <td>kelly loeffler</td>\n      <td>NaN</td>\n      <td>GA</td>\n      <td>...</td>\n      <td>Republican</td>\n      <td>Stock</td>\n      <td>Equity pursuant to the company he founded with...</td>\n      <td>senator</td>\n      <td>5000000.0</td>\n      <td>kelly loeffler</td>\n      <td>kelly</td>\n      <td>loeffler</td>\n      <td>kelly loeffler</td>\n      <td>6f0717a4-ee83-4416-9eef-41a14aaf3cba</td>\n    </tr>\n    <tr>\n      <th>17614</th>\n      <td>2020-05-22</td>\n      <td>NaT</td>\n      <td>Spouse</td>\n      <td>ICE</td>\n      <td>Intercontinental Exchange, Inc.</td>\n      <td>Purchase</td>\n      <td>$1,000,001 - $5,000,000</td>\n      <td>kelly loeffler</td>\n      <td>NaN</td>\n      <td>GA</td>\n      <td>...</td>\n      <td>Republican</td>\n      <td>Stock</td>\n      <td>Equity pursuant to the company he founded with...</td>\n      <td>senator</td>\n      <td>1000000.0</td>\n      <td>kelly loeffler</td>\n      <td>kelly</td>\n      <td>loeffler</td>\n      <td>kelly loeffler</td>\n      <td>10363b87-7054-47ab-8b26-cf1ba0985690</td>\n    </tr>\n    <tr>\n      <th>17615</th>\n      <td>2020-05-22</td>\n      <td>NaT</td>\n      <td>Spouse</td>\n      <td>ICE</td>\n      <td>Intercontinental Exchange, Inc.</td>\n      <td>Sale (Partial)</td>\n      <td>$5,000,001 - $25,000,000</td>\n      <td>kelly loeffler</td>\n      <td>NaN</td>\n      <td>GA</td>\n      <td>...</td>\n      <td>Republican</td>\n      <td>Stock</td>\n      <td>Equity pursuant to the company he founded with...</td>\n      <td>senator</td>\n      <td>5000000.0</td>\n      <td>kelly loeffler</td>\n      <td>kelly</td>\n      <td>loeffler</td>\n      <td>kelly loeffler</td>\n      <td>20285a4d-8052-45df-a9e5-f142589093a9</td>\n    </tr>\n    <tr>\n      <th>17616</th>\n      <td>2020-05-22</td>\n      <td>NaT</td>\n      <td>Self</td>\n      <td>ICE</td>\n      <td>Intercontinental Exchange, Inc.</td>\n      <td>Sale (Partial)</td>\n      <td>$1,000,001 - $5,000,000</td>\n      <td>kelly loeffler</td>\n      <td>NaN</td>\n      <td>GA</td>\n      <td>...</td>\n      <td>Republican</td>\n      <td>Stock</td>\n      <td>Equity compensation by former employer with pr...</td>\n      <td>senator</td>\n      <td>1000000.0</td>\n      <td>kelly loeffler</td>\n      <td>kelly</td>\n      <td>loeffler</td>\n      <td>kelly loeffler</td>\n      <td>4311cee0-b87c-48d9-892e-8101201a5ce2</td>\n    </tr>\n    <tr>\n      <th>17935</th>\n      <td>2020-05-01</td>\n      <td>NaT</td>\n      <td>Spouse</td>\n      <td>PRU</td>\n      <td>Prudential Financial, Inc.</td>\n      <td>Sale (Partial)</td>\n      <td>$100,001 - $250,000</td>\n      <td>kelly loeffler</td>\n      <td>NaN</td>\n      <td>GA</td>\n      <td>...</td>\n      <td>Republican</td>\n      <td>Stock</td>\n      <td>--</td>\n      <td>senator</td>\n      <td>100000.0</td>\n      <td>kelly loeffler</td>\n      <td>kelly</td>\n      <td>loeffler</td>\n      <td>kelly loeffler</td>\n      <td>85c24303-7a76-4b34-97cf-09430be006b8</td>\n    </tr>\n    <tr>\n      <th>...</th>\n      <td>...</td>\n      <td>...</td>\n      <td>...</td>\n      <td>...</td>\n      <td>...</td>\n      <td>...</td>\n      <td>...</td>\n      <td>...</td>\n      <td>...</td>\n      <td>...</td>\n      <td>...</td>\n      <td>...</td>\n      <td>...</td>\n      <td>...</td>\n      <td>...</td>\n      <td>...</td>\n      <td>...</td>\n      <td>...</td>\n      <td>...</td>\n      <td>...</td>\n      <td>...</td>\n    </tr>\n    <tr>\n      <th>18493</th>\n      <td>2020-02-07</td>\n      <td>NaT</td>\n      <td>Spouse</td>\n      <td>CMCSA</td>\n      <td>Comcast Corporation</td>\n      <td>Sale (Partial)</td>\n      <td>$15,001 - $50,000</td>\n      <td>kelly loeffler</td>\n      <td>NaN</td>\n      <td>GA</td>\n      <td>...</td>\n      <td>Republican</td>\n      <td>Stock</td>\n      <td>--</td>\n      <td>senator</td>\n      <td>15000.0</td>\n      <td>kelly loeffler</td>\n      <td>kelly</td>\n      <td>loeffler</td>\n      <td>kelly loeffler</td>\n      <td>ac5fbeb7-83f9-441b-b475-cdda4edda566</td>\n    </tr>\n    <tr>\n      <th>18494</th>\n      <td>2020-02-07</td>\n      <td>NaT</td>\n      <td>Spouse</td>\n      <td>REZI</td>\n      <td>Resideo Technologies, Inc.</td>\n      <td>Sale (Partial)</td>\n      <td>$15,001 - $50,000</td>\n      <td>kelly loeffler</td>\n      <td>NaN</td>\n      <td>GA</td>\n      <td>...</td>\n      <td>Republican</td>\n      <td>Stock</td>\n      <td>--</td>\n      <td>senator</td>\n      <td>15000.0</td>\n      <td>kelly loeffler</td>\n      <td>kelly</td>\n      <td>loeffler</td>\n      <td>kelly loeffler</td>\n      <td>073f5406-ea31-4b3a-8d60-a937b9b39ba7</td>\n    </tr>\n    <tr>\n      <th>18495</th>\n      <td>2020-02-07</td>\n      <td>NaT</td>\n      <td>Spouse</td>\n      <td>REZI</td>\n      <td>Resideo Technologies, Inc.</td>\n      <td>Sale (Partial)</td>\n      <td>$100,001 - $250,000</td>\n      <td>kelly loeffler</td>\n      <td>NaN</td>\n      <td>GA</td>\n      <td>...</td>\n      <td>Republican</td>\n      <td>Stock</td>\n      <td>--</td>\n      <td>senator</td>\n      <td>100000.0</td>\n      <td>kelly loeffler</td>\n      <td>kelly</td>\n      <td>loeffler</td>\n      <td>kelly loeffler</td>\n      <td>70fc9d7f-125d-4828-9f41-c7a725d5e7f8</td>\n    </tr>\n    <tr>\n      <th>18496</th>\n      <td>2020-02-07</td>\n      <td>NaT</td>\n      <td>Spouse</td>\n      <td>DFS</td>\n      <td>Discover Financial Services</td>\n      <td>Purchase</td>\n      <td>$250,001 - $500,000</td>\n      <td>kelly loeffler</td>\n      <td>NaN</td>\n      <td>GA</td>\n      <td>...</td>\n      <td>Republican</td>\n      <td>Stock</td>\n      <td>--</td>\n      <td>senator</td>\n      <td>250000.0</td>\n      <td>kelly loeffler</td>\n      <td>kelly</td>\n      <td>loeffler</td>\n      <td>kelly loeffler</td>\n      <td>bc1d6fd8-e0c8-43ca-a638-81613d50df84</td>\n    </tr>\n    <tr>\n      <th>18497</th>\n      <td>2020-02-07</td>\n      <td>NaT</td>\n      <td>Spouse</td>\n      <td>REZI</td>\n      <td>Resideo Technologies, Inc.</td>\n      <td>Sale (Partial)</td>\n      <td>$50,001 - $100,000</td>\n      <td>kelly loeffler</td>\n      <td>NaN</td>\n      <td>GA</td>\n      <td>...</td>\n      <td>Republican</td>\n      <td>Stock</td>\n      <td>--</td>\n      <td>senator</td>\n      <td>50000.0</td>\n      <td>kelly loeffler</td>\n      <td>kelly</td>\n      <td>loeffler</td>\n      <td>kelly loeffler</td>\n      <td>bae180bc-1296-4c0d-bea1-c1d677b0fcb7</td>\n    </tr>\n  </tbody>\n</table>\n<p>274 rows × 24 columns</p>\n</div>"
     },
     "execution_count": 128,
     "metadata": {},
     "output_type": "execute_result"
    }
   ],
   "source": [
    "trans[trans['string_name'].str.contains('loef')]"
   ],
   "metadata": {
    "collapsed": false,
    "ExecuteTime": {
     "end_time": "2023-11-30T02:23:13.666658Z",
     "start_time": "2023-11-30T02:23:13.621636Z"
    }
   },
   "id": "b1f36929297a6de2"
  },
  {
   "cell_type": "code",
   "execution_count": 129,
   "outputs": [
    {
     "data": {
      "text/plain": "      disclosure_date transaction_date owner ticker  \\\n16997      2021-05-17              NaT   NaN    NaN   \n18468      2020-02-27              NaT   NaN    NaN   \n18469      2020-02-26              NaT   NaN    NaN   \n18642      2019-12-04              NaT   NaN    NaN   \n18661      2019-11-19              NaT   NaN    NaN   \n...               ...              ...   ...    ...   \n24055      2013-02-26              NaT   NaN    NaN   \n24069      2013-02-06              NaT   NaN    NaN   \n24079      2013-01-14              NaT   NaN    NaN   \n24112      2012-10-19              NaT   NaN    NaN   \n24127      2012-09-11              NaT   NaN    NaN   \n\n                                       asset_description type   amount  \\\n16997  This filing was disclosed via scanned PDF. Use...  NaN  Unknown   \n18468  This filing was disclosed via scanned PDF. Use...  NaN  Unknown   \n18469  This filing was disclosed via scanned PDF. Use...  NaN  Unknown   \n18642  This filing was disclosed via scanned PDF. Use...  NaN  Unknown   \n18661  This filing was disclosed via scanned PDF. Use...  NaN  Unknown   \n...                                                  ...  ...      ...   \n24055  This filing was disclosed via scanned PDF. Use...  NaN  Unknown   \n24069  This filing was disclosed via scanned PDF. Use...  NaN  Unknown   \n24079  This filing was disclosed via scanned PDF. Use...  NaN  Unknown   \n24112  This filing was disclosed via scanned PDF. Use...  NaN  Unknown   \n24127  This filing was disclosed via scanned PDF. Use...  NaN  Unknown   \n\n             member district state  ... party            asset_type comment  \\\n16997  richard burr      NaN   NaN  ...   NaN  PDF Disclosed Filing     NaN   \n18468  richard burr      NaN   NaN  ...   NaN  PDF Disclosed Filing     NaN   \n18469  richard burr      NaN   NaN  ...   NaN  PDF Disclosed Filing     NaN   \n18642  richard burr      NaN   NaN  ...   NaN  PDF Disclosed Filing     NaN   \n18661  richard burr      NaN   NaN  ...   NaN  PDF Disclosed Filing     NaN   \n...             ...      ...   ...  ...   ...                   ...     ...   \n24055  richard burr      NaN   NaN  ...   NaN  PDF Disclosed Filing     NaN   \n24069  richard burr      NaN   NaN  ...   NaN  PDF Disclosed Filing     NaN   \n24079  richard burr      NaN   NaN  ...   NaN  PDF Disclosed Filing     NaN   \n24112  richard burr      NaN   NaN  ...   NaN  PDF Disclosed Filing     NaN   \n24127  richard burr      NaN   NaN  ...   NaN  PDF Disclosed Filing     NaN   \n\n      member_type amount_formatted   parsed_name first_name last_name  \\\n16997     senator              NaN  richard burr    richard      burr   \n18468     senator              NaN  richard burr    richard      burr   \n18469     senator              NaN  richard burr    richard      burr   \n18642     senator              NaN  richard burr    richard      burr   \n18661     senator              NaN  richard burr    richard      burr   \n...           ...              ...           ...        ...       ...   \n24055     senator              NaN  richard burr    richard      burr   \n24069     senator              NaN  richard burr    richard      burr   \n24079     senator              NaN  richard burr    richard      burr   \n24112     senator              NaN  richard burr    richard      burr   \n24127     senator              NaN  richard burr    richard      burr   \n\n        string_name                                  uuid  \n16997  richard burr  0aa34a18-55ee-4d01-b317-150bc12bb6d1  \n18468  richard burr  da937914-d59b-4fc9-8017-a926c2563b72  \n18469  richard burr  88fccfda-b67a-4065-b32e-5164e51cb833  \n18642  richard burr  d673a05c-fc90-451f-9e20-3b0747448abb  \n18661  richard burr  2049077e-9e27-4b0f-a8c7-75692601784d  \n...             ...                                   ...  \n24055  richard burr  19834d80-7d7a-4712-8cdb-808de958213e  \n24069  richard burr  6be47b3f-c03c-4fe6-9fc2-01cea7f394a5  \n24079  richard burr  eeaf7ff3-5210-4283-9cbe-5579417d5656  \n24112  richard burr  38ed74cd-af4d-4f21-9664-9146052c5e85  \n24127  richard burr  ac635eb7-e3b3-4776-88a4-fd09374483ba  \n\n[97 rows x 24 columns]",
      "text/html": "<div>\n<style scoped>\n    .dataframe tbody tr th:only-of-type {\n        vertical-align: middle;\n    }\n\n    .dataframe tbody tr th {\n        vertical-align: top;\n    }\n\n    .dataframe thead th {\n        text-align: right;\n    }\n</style>\n<table border=\"1\" class=\"dataframe\">\n  <thead>\n    <tr style=\"text-align: right;\">\n      <th></th>\n      <th>disclosure_date</th>\n      <th>transaction_date</th>\n      <th>owner</th>\n      <th>ticker</th>\n      <th>asset_description</th>\n      <th>type</th>\n      <th>amount</th>\n      <th>member</th>\n      <th>district</th>\n      <th>state</th>\n      <th>...</th>\n      <th>party</th>\n      <th>asset_type</th>\n      <th>comment</th>\n      <th>member_type</th>\n      <th>amount_formatted</th>\n      <th>parsed_name</th>\n      <th>first_name</th>\n      <th>last_name</th>\n      <th>string_name</th>\n      <th>uuid</th>\n    </tr>\n  </thead>\n  <tbody>\n    <tr>\n      <th>16997</th>\n      <td>2021-05-17</td>\n      <td>NaT</td>\n      <td>NaN</td>\n      <td>NaN</td>\n      <td>This filing was disclosed via scanned PDF. Use...</td>\n      <td>NaN</td>\n      <td>Unknown</td>\n      <td>richard burr</td>\n      <td>NaN</td>\n      <td>NaN</td>\n      <td>...</td>\n      <td>NaN</td>\n      <td>PDF Disclosed Filing</td>\n      <td>NaN</td>\n      <td>senator</td>\n      <td>NaN</td>\n      <td>richard burr</td>\n      <td>richard</td>\n      <td>burr</td>\n      <td>richard burr</td>\n      <td>0aa34a18-55ee-4d01-b317-150bc12bb6d1</td>\n    </tr>\n    <tr>\n      <th>18468</th>\n      <td>2020-02-27</td>\n      <td>NaT</td>\n      <td>NaN</td>\n      <td>NaN</td>\n      <td>This filing was disclosed via scanned PDF. Use...</td>\n      <td>NaN</td>\n      <td>Unknown</td>\n      <td>richard burr</td>\n      <td>NaN</td>\n      <td>NaN</td>\n      <td>...</td>\n      <td>NaN</td>\n      <td>PDF Disclosed Filing</td>\n      <td>NaN</td>\n      <td>senator</td>\n      <td>NaN</td>\n      <td>richard burr</td>\n      <td>richard</td>\n      <td>burr</td>\n      <td>richard burr</td>\n      <td>da937914-d59b-4fc9-8017-a926c2563b72</td>\n    </tr>\n    <tr>\n      <th>18469</th>\n      <td>2020-02-26</td>\n      <td>NaT</td>\n      <td>NaN</td>\n      <td>NaN</td>\n      <td>This filing was disclosed via scanned PDF. Use...</td>\n      <td>NaN</td>\n      <td>Unknown</td>\n      <td>richard burr</td>\n      <td>NaN</td>\n      <td>NaN</td>\n      <td>...</td>\n      <td>NaN</td>\n      <td>PDF Disclosed Filing</td>\n      <td>NaN</td>\n      <td>senator</td>\n      <td>NaN</td>\n      <td>richard burr</td>\n      <td>richard</td>\n      <td>burr</td>\n      <td>richard burr</td>\n      <td>88fccfda-b67a-4065-b32e-5164e51cb833</td>\n    </tr>\n    <tr>\n      <th>18642</th>\n      <td>2019-12-04</td>\n      <td>NaT</td>\n      <td>NaN</td>\n      <td>NaN</td>\n      <td>This filing was disclosed via scanned PDF. Use...</td>\n      <td>NaN</td>\n      <td>Unknown</td>\n      <td>richard burr</td>\n      <td>NaN</td>\n      <td>NaN</td>\n      <td>...</td>\n      <td>NaN</td>\n      <td>PDF Disclosed Filing</td>\n      <td>NaN</td>\n      <td>senator</td>\n      <td>NaN</td>\n      <td>richard burr</td>\n      <td>richard</td>\n      <td>burr</td>\n      <td>richard burr</td>\n      <td>d673a05c-fc90-451f-9e20-3b0747448abb</td>\n    </tr>\n    <tr>\n      <th>18661</th>\n      <td>2019-11-19</td>\n      <td>NaT</td>\n      <td>NaN</td>\n      <td>NaN</td>\n      <td>This filing was disclosed via scanned PDF. Use...</td>\n      <td>NaN</td>\n      <td>Unknown</td>\n      <td>richard burr</td>\n      <td>NaN</td>\n      <td>NaN</td>\n      <td>...</td>\n      <td>NaN</td>\n      <td>PDF Disclosed Filing</td>\n      <td>NaN</td>\n      <td>senator</td>\n      <td>NaN</td>\n      <td>richard burr</td>\n      <td>richard</td>\n      <td>burr</td>\n      <td>richard burr</td>\n      <td>2049077e-9e27-4b0f-a8c7-75692601784d</td>\n    </tr>\n    <tr>\n      <th>...</th>\n      <td>...</td>\n      <td>...</td>\n      <td>...</td>\n      <td>...</td>\n      <td>...</td>\n      <td>...</td>\n      <td>...</td>\n      <td>...</td>\n      <td>...</td>\n      <td>...</td>\n      <td>...</td>\n      <td>...</td>\n      <td>...</td>\n      <td>...</td>\n      <td>...</td>\n      <td>...</td>\n      <td>...</td>\n      <td>...</td>\n      <td>...</td>\n      <td>...</td>\n      <td>...</td>\n    </tr>\n    <tr>\n      <th>24055</th>\n      <td>2013-02-26</td>\n      <td>NaT</td>\n      <td>NaN</td>\n      <td>NaN</td>\n      <td>This filing was disclosed via scanned PDF. Use...</td>\n      <td>NaN</td>\n      <td>Unknown</td>\n      <td>richard burr</td>\n      <td>NaN</td>\n      <td>NaN</td>\n      <td>...</td>\n      <td>NaN</td>\n      <td>PDF Disclosed Filing</td>\n      <td>NaN</td>\n      <td>senator</td>\n      <td>NaN</td>\n      <td>richard burr</td>\n      <td>richard</td>\n      <td>burr</td>\n      <td>richard burr</td>\n      <td>19834d80-7d7a-4712-8cdb-808de958213e</td>\n    </tr>\n    <tr>\n      <th>24069</th>\n      <td>2013-02-06</td>\n      <td>NaT</td>\n      <td>NaN</td>\n      <td>NaN</td>\n      <td>This filing was disclosed via scanned PDF. Use...</td>\n      <td>NaN</td>\n      <td>Unknown</td>\n      <td>richard burr</td>\n      <td>NaN</td>\n      <td>NaN</td>\n      <td>...</td>\n      <td>NaN</td>\n      <td>PDF Disclosed Filing</td>\n      <td>NaN</td>\n      <td>senator</td>\n      <td>NaN</td>\n      <td>richard burr</td>\n      <td>richard</td>\n      <td>burr</td>\n      <td>richard burr</td>\n      <td>6be47b3f-c03c-4fe6-9fc2-01cea7f394a5</td>\n    </tr>\n    <tr>\n      <th>24079</th>\n      <td>2013-01-14</td>\n      <td>NaT</td>\n      <td>NaN</td>\n      <td>NaN</td>\n      <td>This filing was disclosed via scanned PDF. Use...</td>\n      <td>NaN</td>\n      <td>Unknown</td>\n      <td>richard burr</td>\n      <td>NaN</td>\n      <td>NaN</td>\n      <td>...</td>\n      <td>NaN</td>\n      <td>PDF Disclosed Filing</td>\n      <td>NaN</td>\n      <td>senator</td>\n      <td>NaN</td>\n      <td>richard burr</td>\n      <td>richard</td>\n      <td>burr</td>\n      <td>richard burr</td>\n      <td>eeaf7ff3-5210-4283-9cbe-5579417d5656</td>\n    </tr>\n    <tr>\n      <th>24112</th>\n      <td>2012-10-19</td>\n      <td>NaT</td>\n      <td>NaN</td>\n      <td>NaN</td>\n      <td>This filing was disclosed via scanned PDF. Use...</td>\n      <td>NaN</td>\n      <td>Unknown</td>\n      <td>richard burr</td>\n      <td>NaN</td>\n      <td>NaN</td>\n      <td>...</td>\n      <td>NaN</td>\n      <td>PDF Disclosed Filing</td>\n      <td>NaN</td>\n      <td>senator</td>\n      <td>NaN</td>\n      <td>richard burr</td>\n      <td>richard</td>\n      <td>burr</td>\n      <td>richard burr</td>\n      <td>38ed74cd-af4d-4f21-9664-9146052c5e85</td>\n    </tr>\n    <tr>\n      <th>24127</th>\n      <td>2012-09-11</td>\n      <td>NaT</td>\n      <td>NaN</td>\n      <td>NaN</td>\n      <td>This filing was disclosed via scanned PDF. Use...</td>\n      <td>NaN</td>\n      <td>Unknown</td>\n      <td>richard burr</td>\n      <td>NaN</td>\n      <td>NaN</td>\n      <td>...</td>\n      <td>NaN</td>\n      <td>PDF Disclosed Filing</td>\n      <td>NaN</td>\n      <td>senator</td>\n      <td>NaN</td>\n      <td>richard burr</td>\n      <td>richard</td>\n      <td>burr</td>\n      <td>richard burr</td>\n      <td>ac635eb7-e3b3-4776-88a4-fd09374483ba</td>\n    </tr>\n  </tbody>\n</table>\n<p>97 rows × 24 columns</p>\n</div>"
     },
     "execution_count": 129,
     "metadata": {},
     "output_type": "execute_result"
    }
   ],
   "source": [
    "trans[trans['string_name'].str.contains('burr')]"
   ],
   "metadata": {
    "collapsed": false,
    "ExecuteTime": {
     "end_time": "2023-11-30T02:23:14.399603Z",
     "start_time": "2023-11-30T02:23:14.356771Z"
    }
   },
   "id": "bbaf0503d8af8eee"
  },
  {
   "cell_type": "code",
   "execution_count": 130,
   "outputs": [],
   "source": [
    "trans_117 = trans[(trans['transaction_date'] < '2023-01-03') & (trans['transaction_date']  >= '2021-01-03')]\n",
    "trans_116 = trans[(trans['transaction_date'] < '2021-01-03')]\n",
    "trans_118 = trans[(trans['transaction_date'] > '2023-01-03')]"
   ],
   "metadata": {
    "collapsed": false,
    "ExecuteTime": {
     "end_time": "2023-11-30T02:23:15.834197Z",
     "start_time": "2023-11-30T02:23:15.797380Z"
    }
   },
   "id": "9f4edbedc28c46d2"
  },
  {
   "cell_type": "code",
   "execution_count": 133,
   "outputs": [
    {
     "data": {
      "text/plain": "Empty DataFrame\nColumns: [disclosure_date, transaction_date, owner, ticker, asset_description, type, amount, member, district, state, ptr_link, cap_gains_over_200_usd, industry, sector, party, asset_type, comment, member_type, amount_formatted, parsed_name, first_name, last_name, string_name, uuid]\nIndex: []\n\n[0 rows x 24 columns]",
      "text/html": "<div>\n<style scoped>\n    .dataframe tbody tr th:only-of-type {\n        vertical-align: middle;\n    }\n\n    .dataframe tbody tr th {\n        vertical-align: top;\n    }\n\n    .dataframe thead th {\n        text-align: right;\n    }\n</style>\n<table border=\"1\" class=\"dataframe\">\n  <thead>\n    <tr style=\"text-align: right;\">\n      <th></th>\n      <th>disclosure_date</th>\n      <th>transaction_date</th>\n      <th>owner</th>\n      <th>ticker</th>\n      <th>asset_description</th>\n      <th>type</th>\n      <th>amount</th>\n      <th>member</th>\n      <th>district</th>\n      <th>state</th>\n      <th>...</th>\n      <th>party</th>\n      <th>asset_type</th>\n      <th>comment</th>\n      <th>member_type</th>\n      <th>amount_formatted</th>\n      <th>parsed_name</th>\n      <th>first_name</th>\n      <th>last_name</th>\n      <th>string_name</th>\n      <th>uuid</th>\n    </tr>\n  </thead>\n  <tbody>\n  </tbody>\n</table>\n<p>0 rows × 24 columns</p>\n</div>"
     },
     "execution_count": 133,
     "metadata": {},
     "output_type": "execute_result"
    }
   ],
   "source": [
    "trans_118[trans_118['string_name'].str.contains('david perdue')]"
   ],
   "metadata": {
    "collapsed": false,
    "ExecuteTime": {
     "end_time": "2023-11-30T02:23:39.967567Z",
     "start_time": "2023-11-30T02:23:39.955108Z"
    }
   },
   "id": "f43d8b12e51cbe51"
  },
  {
   "cell_type": "code",
   "execution_count": 91,
   "outputs": [],
   "source": [
    "indices_steube = np.where(trans['string_name'].str.contains('steube'))[0]\n",
    "for idx in indices_steube:\n",
    "    trans.at[idx, 'first_name'] = 'greg'\n",
    "\n",
    "indices_bill = np.where(trans['string_name'].str.contains('william keating'))[0]\n",
    "for idx in indices_bill:\n",
    "    trans.at[idx, 'first_name'] = 'bill'\n",
    "\n",
    "indices_jackson = np.where(trans['string_name'].str.contains('jeff jackson'))[0]\n",
    "for idx in indices_jackson:\n",
    "    trans.at[idx, 'first_name'] = 'jeffrey'\n",
    "\n",
    "indices_flei = np.where(trans['string_name'].str.contains('charles fleischman'))[0]\n",
    "for idx in indices_flei:\n",
    "    trans.at[idx, 'first_name'] = 'chuck'\n",
    "\n",
    "indices = np.where(trans['string_name'].str.contains('david joyce'))[0]\n",
    "for idx in indices:\n",
    "    trans.at[idx, 'first_name'] = 'dave'\n",
    "\n",
    "indices = np.where(trans['string_name'].str.contains('patrick fallon'))[0]\n",
    "for idx in indices:\n",
    "    trans.at[idx, 'first_name'] = 'pat'\n",
    "\n",
    "indices = np.where(trans['string_name'].str.contains('david cawthorn'))[0]\n",
    "for idx in indices:\n",
    "    trans.at[idx, 'first_name'] = 'madison'\n",
    "\n",
    "indices = np.where(trans['string_name'].str.contains('james langevin'))[0]\n",
    "for idx in indices:\n",
    "    trans.at[idx, 'first_name'] = 'jim'\n",
    "\n",
    "indices = np.where(trans['string_name'].str.contains('richard allen'))[0]\n",
    "for idx in indices:\n",
    "    trans.at[idx, 'first_name'] = 'rick'\n",
    "\n",
    "indices = np.where(trans['string_name'].str.contains('bradley schneider'))[0]\n",
    "for idx in indices:\n",
    "    trans.at[idx, 'first_name'] = 'brad'\n",
    "\n",
    "indices = np.where(trans['string_name'].str.contains('aston mceachin'))[0]\n",
    "for idx in indices:\n",
    "    trans.at[idx, 'first_name'] = 'a.'\n",
    "\n",
    "indices = np.where(trans['string_name'].str.contains('david roe'))[0]\n",
    "for idx in indices:\n",
    "    trans.at[idx, 'first_name'] = 'phil'\n",
    "\n",
    "indices = np.where(trans['string_name'].str.contains('lacy clay'))[0]\n",
    "for idx in indices:\n",
    "    trans.at[idx, 'first_name'] = 'william'\n",
    "\n",
    "indices = np.where(trans['string_name'].str.contains('steve chabot'))[0]\n",
    "for idx in indices:\n",
    "    trans.at[idx, 'first_name'] = 'steven'\n",
    "\n",
    "indices = np.where(trans['string_name'].str.contains('joseph morelle'))[0]\n",
    "for idx in indices:\n",
    "    trans.at[idx, 'first_name'] = 'joe'\n",
    "\n",
    "indices = np.where(trans['string_name'].str.contains('linda sanchez'))[0]\n",
    "for idx in indices:\n",
    "    trans.at[idx, 'last_name'] = 'sánchez'\n",
    "trans['string_name'] = trans['first_name'] + ' ' + trans['last_name']\n",
    "\n",
    "indices = np.where(trans['string_name'].str.contains('bradley schneider'))[0]\n",
    "for idx in indices:\n",
    "    trans.at[idx, 'first_name'] = 'brad'"
   ],
   "metadata": {
    "collapsed": false,
    "ExecuteTime": {
     "end_time": "2023-11-28T22:36:14.485956Z",
     "start_time": "2023-11-28T22:36:14.328734Z"
    }
   },
   "id": "8acfb952b37cf87d"
  },
  {
   "cell_type": "code",
   "execution_count": 114,
   "outputs": [],
   "source": [
    "trans_117 = trans[(trans['transaction_date'] < '2023-01-03') & (trans['transaction_date']  >= '2021-01-03')]\n",
    "trans_116 = trans[(trans['transaction_date'] < '2021-01-03')]\n",
    "trans_118 = trans[(trans['transaction_date'] > '2023-01-03')]"
   ],
   "metadata": {
    "collapsed": false,
    "ExecuteTime": {
     "end_time": "2023-11-30T02:19:51.624076Z",
     "start_time": "2023-11-30T02:19:51.582540Z"
    }
   },
   "id": "9aae1f9c1ec666de"
  },
  {
   "cell_type": "code",
   "execution_count": 123,
   "outputs": [
    {
     "data": {
      "text/plain": "Empty DataFrame\nColumns: [disclosure_date, transaction_date, owner, ticker, asset_description, type, amount, member, district, state, ptr_link, cap_gains_over_200_usd, industry, sector, party, asset_type, comment, member_type, amount_formatted, parsed_name, first_name, last_name, string_name, uuid]\nIndex: []\n\n[0 rows x 24 columns]",
      "text/html": "<div>\n<style scoped>\n    .dataframe tbody tr th:only-of-type {\n        vertical-align: middle;\n    }\n\n    .dataframe tbody tr th {\n        vertical-align: top;\n    }\n\n    .dataframe thead th {\n        text-align: right;\n    }\n</style>\n<table border=\"1\" class=\"dataframe\">\n  <thead>\n    <tr style=\"text-align: right;\">\n      <th></th>\n      <th>disclosure_date</th>\n      <th>transaction_date</th>\n      <th>owner</th>\n      <th>ticker</th>\n      <th>asset_description</th>\n      <th>type</th>\n      <th>amount</th>\n      <th>member</th>\n      <th>district</th>\n      <th>state</th>\n      <th>...</th>\n      <th>party</th>\n      <th>asset_type</th>\n      <th>comment</th>\n      <th>member_type</th>\n      <th>amount_formatted</th>\n      <th>parsed_name</th>\n      <th>first_name</th>\n      <th>last_name</th>\n      <th>string_name</th>\n      <th>uuid</th>\n    </tr>\n  </thead>\n  <tbody>\n  </tbody>\n</table>\n<p>0 rows × 24 columns</p>\n</div>"
     },
     "execution_count": 123,
     "metadata": {},
     "output_type": "execute_result"
    }
   ],
   "source": [
    "trans_116[trans_116['string_name'].str.contains('david perdue')]"
   ],
   "metadata": {
    "collapsed": false,
    "ExecuteTime": {
     "end_time": "2023-11-30T02:22:39.994543Z",
     "start_time": "2023-11-30T02:22:39.989123Z"
    }
   },
   "id": "87813994d06cdc46"
  },
  {
   "cell_type": "code",
   "execution_count": 115,
   "outputs": [
    {
     "name": "stdout",
     "output_type": "stream",
     "text": [
      "116 member count {118}\n",
      "117 member count {126}\n",
      "118 member count {51}\n"
     ]
    }
   ],
   "source": [
    "first = {len(trans_116['string_name'].unique())}\n",
    "second = {len(trans_117['string_name'].unique())}\n",
    "three = {len(trans_118['string_name'].unique())}\n",
    "\n",
    "print(f'116 member count {first}' )\n",
    "print(f'117 member count {second}' )\n",
    "print(f'118 member count {three}' )"
   ],
   "metadata": {
    "collapsed": false,
    "ExecuteTime": {
     "end_time": "2023-11-30T02:20:03.060027Z",
     "start_time": "2023-11-30T02:20:03.046786Z"
    }
   },
   "id": "5bac1c5a68a68d7e"
  },
  {
   "cell_type": "code",
   "execution_count": 94,
   "outputs": [],
   "source": [
    "\"\"\"JOIN 116th congresses data\"\"\"\n",
    "\n",
    "senate_url = f\"https://api.propublica.org/congress/v1/116/senate/members.json\"\n",
    "house_url = f\"https://api.propublica.org/congress/v1/116/house/members.json\"\n",
    "\n",
    "senate_116 = requests.get(senate_url, headers=headers)\n",
    "house_116 = requests.get(house_url, headers=headers)\n",
    "senate_116_members = senate_116.json()['results'][0]['members']\n",
    "house_116_members = house_116.json()['results'][0]['members']\n",
    "senate_116_members = pd.DataFrame(senate_116_members)\n",
    "house_116_members = pd.DataFrame(house_116_members)\n",
    "senate_116_members = senate_116_members[['short_title', 'first_name', 'middle_name', 'last_name','party','id']]\n",
    "house_116_members = house_116_members[['short_title', 'first_name', 'middle_name', 'last_name','party','id']]\n",
    "\n",
    "members_116 = pd.concat([senate_116_members, house_116_members])\n",
    "members_116['display_name'] = members_116['short_title'] + ' ' + members_116['first_name']  + ' ' + members_116['last_name']\n",
    "members_116['member'] = members_116['first_name'] + ' ' + members_116['last_name']\n",
    "members_116['member'] = members_116['member'].str.lower()\n",
    "members_116['parsed_name'] = members_116['member'].apply(lambda x: nameparser.HumanName(x))\n",
    "members_116['first_name'] = members_116['parsed_name'].apply(lambda x: x.first)\n",
    "members_116['last_name'] = members_116['parsed_name'].apply(lambda x: x.last)\n",
    "members_116['string_name'] = members_116['first_name'] + ' ' + members_116['last_name']\n",
    "\n",
    "trans_names_116 = trans_116['string_name'].unique()\n",
    "\n",
    "members_116 = members_116[members_116['string_name'].isin(trans_names_116)]\n",
    "\n",
    "trans_116 = trans_116.merge(members_116, how='left', on='string_name')[['display_name',\n",
    "                                                                        \n",
    "                                                                        'transaction_date',\n",
    "                                                                        'disclosure_date',\n",
    "                                                                        'ticker',\n",
    "                                                                        'asset_description',\n",
    "                                                                        'type',\n",
    "                                                                        'amount',\n",
    "                                                                        'industry',\n",
    "                                                                        'sector',\n",
    "                                                                        'state',\n",
    "                                                                        \n",
    "                                                                        'amount_formatted',\n",
    "                                                                        'id',\n",
    "                                                                        'uuid'\n",
    "                                                                        ]]\n",
    "\n",
    "\"\"\"JOIN 117th congresses data\"\"\"\n",
    "\n",
    "senate_url = f\"https://api.propublica.org/congress/v1/117/senate/members.json\"\n",
    "house_url = f\"https://api.propublica.org/congress/v1/117/house/members.json\"\n",
    "\n",
    "senate_117 = requests.get(senate_url, headers=headers)\n",
    "house_117 = requests.get(house_url, headers=headers)\n",
    "senate_117_members = senate_117.json()['results'][0]['members']\n",
    "house_117_members = house_117.json()['results'][0]['members']\n",
    "senate_117_members = pd.DataFrame(senate_117_members)\n",
    "house_117_members = pd.DataFrame(house_117_members)\n",
    "senate_117_members = senate_117_members[['short_title', 'first_name', 'middle_name', 'last_name','party','id']]\n",
    "house_117_members = house_117_members[['short_title', 'first_name', 'middle_name', 'last_name','party','id']]\n",
    "\n",
    "members_117 = pd.concat([senate_117_members, house_117_members])\n",
    "members_117['display_name'] = members_117['short_title'] + ' ' + members_117['first_name']  + ' ' + members_117['last_name']\n",
    "members_117['member'] = members_117['first_name'] + ' ' + members_117['last_name']\n",
    "members_117['member'] = members_117['member'].str.lower()\n",
    "members_117['parsed_name'] = members_117['member'].apply(lambda x: nameparser.HumanName(x))\n",
    "members_117['first_name'] = members_117['parsed_name'].apply(lambda x: x.first)\n",
    "members_117['last_name'] = members_117['parsed_name'].apply(lambda x: x.last)\n",
    "members_117['string_name'] = members_117['first_name'] + ' ' + members_117['last_name']\n",
    "\n",
    "trans_names_117 = trans_117['string_name'].unique()\n",
    "\n",
    "members_117 = members_117[members_117['string_name'].isin(trans_names_117)]\n",
    "\n",
    "trans_117 = trans_117.merge(members_117, how='left', on='string_name')[['display_name',\n",
    "                                                                        \n",
    "                                                                        'transaction_date',\n",
    "                                                                        'disclosure_date',\n",
    "                                                                        'ticker',\n",
    "                                                                        'asset_description',\n",
    "                                                                        'type',\n",
    "                                                                        'amount',\n",
    "                                                                        'industry',\n",
    "                                                                        'sector',\n",
    "                                                                        'state',\n",
    "                                                                        \n",
    "                                                                        'amount_formatted',\n",
    "                                                                        'id',\n",
    "                                                                        'uuid'\n",
    "                                                                        ]]\n",
    "\n",
    "\"\"\"JOIN 116th congresses data\"\"\"\n",
    "\n",
    "senate_url = f\"https://api.propublica.org/congress/v1/118/senate/members.json\"\n",
    "house_url = f\"https://api.propublica.org/congress/v1/118/house/members.json\"\n",
    "\n",
    "senate_118 = requests.get(senate_url, headers=headers)\n",
    "house_118 = requests.get(house_url, headers=headers)\n",
    "senate_118_members = senate_118.json()['results'][0]['members']\n",
    "house_118_members = house_118.json()['results'][0]['members']\n",
    "senate_118_members = pd.DataFrame(senate_118_members)\n",
    "house_118_members = pd.DataFrame(house_118_members)\n",
    "senate_118_members = senate_118_members[['short_title', 'first_name', 'middle_name', 'last_name','party','id']]\n",
    "house_118_members = house_118_members[['short_title', 'first_name', 'middle_name', 'last_name','party','id']]\n",
    "\n",
    "members_118 = pd.concat([senate_118_members, house_118_members])\n",
    "members_118['display_name'] = members_118['short_title'] + ' ' + members_118['first_name']  + ' ' + members_118['last_name']\n",
    "members_118['member'] = members_118['first_name'] + ' ' + members_118['last_name']\n",
    "members_118['member'] = members_118['member'].str.lower()\n",
    "members_118['parsed_name'] = members_118['member'].apply(lambda x: nameparser.HumanName(x))\n",
    "members_118['first_name'] = members_118['parsed_name'].apply(lambda x: x.first)\n",
    "members_118['last_name'] = members_118['parsed_name'].apply(lambda x: x.last)\n",
    "members_118['string_name'] = members_118['first_name'] + ' ' + members_118['last_name']\n",
    "\n",
    "trans_names_118 = trans_118['string_name'].unique()\n",
    "\n",
    "members_118 = members_118[members_118['string_name'].isin(trans_names_118)]\n",
    "\n",
    "trans_118 = trans_118.merge(members_118, how='left', on='string_name')[['display_name',\n",
    "                                                                        'transaction_date',\n",
    "                                                                        'disclosure_date',\n",
    "                                                                        'ticker',\n",
    "                                                                        'asset_description',\n",
    "                                                                        'type',\n",
    "                                                                        'amount',\n",
    "                                                                        'industry',\n",
    "                                                                        'sector',\n",
    "                                                                        'state'\n",
    "                                                                        ,\n",
    "                                                                        'amount_formatted',\n",
    "                                                                        'id',\n",
    "                                                                        'uuid'\n",
    "                                                                        ]]"
   ],
   "metadata": {
    "collapsed": false,
    "ExecuteTime": {
     "end_time": "2023-11-28T22:36:18.552260Z",
     "start_time": "2023-11-28T22:36:14.512730Z"
    }
   },
   "id": "8c54c80c3f60ea8d"
  },
  {
   "cell_type": "code",
   "execution_count": 95,
   "outputs": [],
   "source": [
    "trans_116['congress'] = 116\n",
    "trans_117['congress'] = 117\n",
    "trans_118['congress'] = 118"
   ],
   "metadata": {
    "collapsed": false,
    "ExecuteTime": {
     "end_time": "2023-11-28T22:36:18.561584Z",
     "start_time": "2023-11-28T22:36:18.555096Z"
    }
   },
   "id": "5e49e55ef47f8fd4"
  },
  {
   "cell_type": "code",
   "execution_count": 96,
   "outputs": [
    {
     "data": {
      "text/plain": "((7434, 14), (7657, 14), (593, 14), (24141, 24))"
     },
     "execution_count": 96,
     "metadata": {},
     "output_type": "execute_result"
    }
   ],
   "source": [
    "trans_116.shape, trans_117.shape, trans_118.shape, trans.shape"
   ],
   "metadata": {
    "collapsed": false,
    "ExecuteTime": {
     "end_time": "2023-11-28T22:36:18.563219Z",
     "start_time": "2023-11-28T22:36:18.557817Z"
    }
   },
   "id": "b0c3e9e2a94e8ebf"
  },
  {
   "cell_type": "code",
   "execution_count": 97,
   "outputs": [],
   "source": [
    "transactions = pd.concat([trans_116, trans_117, trans_118], axis=0, ignore_index=True, sort=False)\n",
    "\n",
    "transactions.to_csv('../prod_data/transactions.csv', index=False)"
   ],
   "metadata": {
    "collapsed": false,
    "ExecuteTime": {
     "end_time": "2023-11-28T22:36:18.673670Z",
     "start_time": "2023-11-28T22:36:18.564814Z"
    }
   },
   "id": "fe46d4dd776f3138"
  },
  {
   "cell_type": "code",
   "execution_count": 98,
   "outputs": [
    {
     "data": {
      "text/plain": "               display_name transaction_date disclosure_date ticker  \\\n0            Rep. Susie Lee       2020-02-24      2020-04-28    BHC   \n1            Rep. Susie Lee       2020-03-06      2020-04-28    BAH   \n2            Rep. Susie Lee       2020-03-23      2020-04-28    BYD   \n3            Rep. Susie Lee       2020-02-04      2020-04-28   CTLT   \n4            Rep. Susie Lee       2020-03-18      2020-04-28   CBRE   \n...                     ...              ...             ...    ...   \n15679     Rep. Lois Frankel       2023-04-05      2023-04-28     CI   \n15680     Rep. Lois Frankel       2023-03-16      2023-04-28   ULTA   \n15681  Rep. Earl Blumenauer       2023-02-15      2023-03-09    NWN   \n15682     Rep. Dwight Evans       2023-02-28      2023-03-09    CSX   \n15683     Rep. Dwight Evans       2023-02-28      2023-03-09    CRM   \n\n                             asset_description          type  \\\n0                 Bausch Health Companies Inc.      purchase   \n1      Booz Allen Hamilton Holding Corporation     sale_full   \n2                      Boyd Gaming Corporation     sale_full   \n3                               Catalent, Inc.      purchase   \n4          CBRE Group Inc Common Stock Class A  sale_partial   \n...                                        ...           ...   \n15679                          The Cigna Group      purchase   \n15680                          Ulta Beauty inc  sale_partial   \n15681        Northwest Natural Holding Company      purchase   \n15682                          CSX Corporation     sale_full   \n15683                           Salesforce Inc     sale_full   \n\n                 amount                                    industry  \\\n0      $1,001 - $15,000           Pharmaceuticals and Biotechnology   \n1      $1,001 - $15,000                       Professional Services   \n2      $1,001 - $15,000                        Movies/Entertainment   \n3      $1,001 - $15,000  Biotechnology: Pharmaceutical Preparations   \n4      $1,001 - $15,000                                 Real Estate   \n...                 ...                                         ...   \n15679  $1,001 - $15,000                        Medical Specialities   \n15680  $1,001 - $15,000                                         NaN   \n15681  $1,001 - $15,000                        Oil/Gas Transmission   \n15682  $1,001 - $15,000                                   Railroads   \n15683  $1,001 - $15,000     Computer Software: Prepackaged Software   \n\n                       sector state  amount_formatted       id  \\\n0                 Health Care    NV            1000.0  L000590   \n1           Consumer Services    NV            1000.0  L000590   \n2      Consumer Discretionary    NV            1000.0  L000590   \n3                 Health Care    NV            1000.0  L000590   \n4                     Finance    NV            1000.0  L000590   \n...                       ...   ...               ...      ...   \n15679             Health Care    FL            1000.0  F000462   \n15680                     NaN    FL            1000.0  F000462   \n15681        Public Utilities    OR            1000.0  B000574   \n15682          Transportation    PA            1000.0  E000296   \n15683              Technology    PA            1000.0  E000296   \n\n                                       uuid  congress  \n0      c93c0686-d598-4e50-ba67-e0c072899a73       116  \n1      889add3c-406a-4b97-a5a9-0f22231d8508       116  \n2      9dfba177-b4f8-4929-ad72-aa664bb61174       116  \n3      952859c0-4a02-4546-806a-4bcffd04901b       116  \n4      f4237d73-c436-4085-a173-c9ea2615f97c       116  \n...                                     ...       ...  \n15679  d5f98acb-e826-4635-8734-93a3b4d9094e       118  \n15680  4fc25e3a-1ac9-4ee6-8131-45ec0b1caaef       118  \n15681  ac4a5607-a8e1-4133-abf7-9f87af7147ba       118  \n15682  0e8d63b6-6b4f-4f66-b24e-2bbc4140e614       118  \n15683  94c35c33-3f0a-48b1-bb48-7bbc6c51c3e3       118  \n\n[15684 rows x 14 columns]",
      "text/html": "<div>\n<style scoped>\n    .dataframe tbody tr th:only-of-type {\n        vertical-align: middle;\n    }\n\n    .dataframe tbody tr th {\n        vertical-align: top;\n    }\n\n    .dataframe thead th {\n        text-align: right;\n    }\n</style>\n<table border=\"1\" class=\"dataframe\">\n  <thead>\n    <tr style=\"text-align: right;\">\n      <th></th>\n      <th>display_name</th>\n      <th>transaction_date</th>\n      <th>disclosure_date</th>\n      <th>ticker</th>\n      <th>asset_description</th>\n      <th>type</th>\n      <th>amount</th>\n      <th>industry</th>\n      <th>sector</th>\n      <th>state</th>\n      <th>amount_formatted</th>\n      <th>id</th>\n      <th>uuid</th>\n      <th>congress</th>\n    </tr>\n  </thead>\n  <tbody>\n    <tr>\n      <th>0</th>\n      <td>Rep. Susie Lee</td>\n      <td>2020-02-24</td>\n      <td>2020-04-28</td>\n      <td>BHC</td>\n      <td>Bausch Health Companies Inc.</td>\n      <td>purchase</td>\n      <td>$1,001 - $15,000</td>\n      <td>Pharmaceuticals and Biotechnology</td>\n      <td>Health Care</td>\n      <td>NV</td>\n      <td>1000.0</td>\n      <td>L000590</td>\n      <td>c93c0686-d598-4e50-ba67-e0c072899a73</td>\n      <td>116</td>\n    </tr>\n    <tr>\n      <th>1</th>\n      <td>Rep. Susie Lee</td>\n      <td>2020-03-06</td>\n      <td>2020-04-28</td>\n      <td>BAH</td>\n      <td>Booz Allen Hamilton Holding Corporation</td>\n      <td>sale_full</td>\n      <td>$1,001 - $15,000</td>\n      <td>Professional Services</td>\n      <td>Consumer Services</td>\n      <td>NV</td>\n      <td>1000.0</td>\n      <td>L000590</td>\n      <td>889add3c-406a-4b97-a5a9-0f22231d8508</td>\n      <td>116</td>\n    </tr>\n    <tr>\n      <th>2</th>\n      <td>Rep. Susie Lee</td>\n      <td>2020-03-23</td>\n      <td>2020-04-28</td>\n      <td>BYD</td>\n      <td>Boyd Gaming Corporation</td>\n      <td>sale_full</td>\n      <td>$1,001 - $15,000</td>\n      <td>Movies/Entertainment</td>\n      <td>Consumer Discretionary</td>\n      <td>NV</td>\n      <td>1000.0</td>\n      <td>L000590</td>\n      <td>9dfba177-b4f8-4929-ad72-aa664bb61174</td>\n      <td>116</td>\n    </tr>\n    <tr>\n      <th>3</th>\n      <td>Rep. Susie Lee</td>\n      <td>2020-02-04</td>\n      <td>2020-04-28</td>\n      <td>CTLT</td>\n      <td>Catalent, Inc.</td>\n      <td>purchase</td>\n      <td>$1,001 - $15,000</td>\n      <td>Biotechnology: Pharmaceutical Preparations</td>\n      <td>Health Care</td>\n      <td>NV</td>\n      <td>1000.0</td>\n      <td>L000590</td>\n      <td>952859c0-4a02-4546-806a-4bcffd04901b</td>\n      <td>116</td>\n    </tr>\n    <tr>\n      <th>4</th>\n      <td>Rep. Susie Lee</td>\n      <td>2020-03-18</td>\n      <td>2020-04-28</td>\n      <td>CBRE</td>\n      <td>CBRE Group Inc Common Stock Class A</td>\n      <td>sale_partial</td>\n      <td>$1,001 - $15,000</td>\n      <td>Real Estate</td>\n      <td>Finance</td>\n      <td>NV</td>\n      <td>1000.0</td>\n      <td>L000590</td>\n      <td>f4237d73-c436-4085-a173-c9ea2615f97c</td>\n      <td>116</td>\n    </tr>\n    <tr>\n      <th>...</th>\n      <td>...</td>\n      <td>...</td>\n      <td>...</td>\n      <td>...</td>\n      <td>...</td>\n      <td>...</td>\n      <td>...</td>\n      <td>...</td>\n      <td>...</td>\n      <td>...</td>\n      <td>...</td>\n      <td>...</td>\n      <td>...</td>\n      <td>...</td>\n    </tr>\n    <tr>\n      <th>15679</th>\n      <td>Rep. Lois Frankel</td>\n      <td>2023-04-05</td>\n      <td>2023-04-28</td>\n      <td>CI</td>\n      <td>The Cigna Group</td>\n      <td>purchase</td>\n      <td>$1,001 - $15,000</td>\n      <td>Medical Specialities</td>\n      <td>Health Care</td>\n      <td>FL</td>\n      <td>1000.0</td>\n      <td>F000462</td>\n      <td>d5f98acb-e826-4635-8734-93a3b4d9094e</td>\n      <td>118</td>\n    </tr>\n    <tr>\n      <th>15680</th>\n      <td>Rep. Lois Frankel</td>\n      <td>2023-03-16</td>\n      <td>2023-04-28</td>\n      <td>ULTA</td>\n      <td>Ulta Beauty inc</td>\n      <td>sale_partial</td>\n      <td>$1,001 - $15,000</td>\n      <td>NaN</td>\n      <td>NaN</td>\n      <td>FL</td>\n      <td>1000.0</td>\n      <td>F000462</td>\n      <td>4fc25e3a-1ac9-4ee6-8131-45ec0b1caaef</td>\n      <td>118</td>\n    </tr>\n    <tr>\n      <th>15681</th>\n      <td>Rep. Earl Blumenauer</td>\n      <td>2023-02-15</td>\n      <td>2023-03-09</td>\n      <td>NWN</td>\n      <td>Northwest Natural Holding Company</td>\n      <td>purchase</td>\n      <td>$1,001 - $15,000</td>\n      <td>Oil/Gas Transmission</td>\n      <td>Public Utilities</td>\n      <td>OR</td>\n      <td>1000.0</td>\n      <td>B000574</td>\n      <td>ac4a5607-a8e1-4133-abf7-9f87af7147ba</td>\n      <td>118</td>\n    </tr>\n    <tr>\n      <th>15682</th>\n      <td>Rep. Dwight Evans</td>\n      <td>2023-02-28</td>\n      <td>2023-03-09</td>\n      <td>CSX</td>\n      <td>CSX Corporation</td>\n      <td>sale_full</td>\n      <td>$1,001 - $15,000</td>\n      <td>Railroads</td>\n      <td>Transportation</td>\n      <td>PA</td>\n      <td>1000.0</td>\n      <td>E000296</td>\n      <td>0e8d63b6-6b4f-4f66-b24e-2bbc4140e614</td>\n      <td>118</td>\n    </tr>\n    <tr>\n      <th>15683</th>\n      <td>Rep. Dwight Evans</td>\n      <td>2023-02-28</td>\n      <td>2023-03-09</td>\n      <td>CRM</td>\n      <td>Salesforce Inc</td>\n      <td>sale_full</td>\n      <td>$1,001 - $15,000</td>\n      <td>Computer Software: Prepackaged Software</td>\n      <td>Technology</td>\n      <td>PA</td>\n      <td>1000.0</td>\n      <td>E000296</td>\n      <td>94c35c33-3f0a-48b1-bb48-7bbc6c51c3e3</td>\n      <td>118</td>\n    </tr>\n  </tbody>\n</table>\n<p>15684 rows × 14 columns</p>\n</div>"
     },
     "execution_count": 98,
     "metadata": {},
     "output_type": "execute_result"
    }
   ],
   "source": [
    "transactions"
   ],
   "metadata": {
    "collapsed": false,
    "ExecuteTime": {
     "end_time": "2023-11-28T22:36:18.684497Z",
     "start_time": "2023-11-28T22:36:18.681181Z"
    }
   },
   "id": "2b902471f7ea8153"
  },
  {
   "cell_type": "code",
   "execution_count": 101,
   "outputs": [
    {
     "data": {
      "text/plain": "[('BHC', '2020-04-28'),\n ('BAH', '2020-04-28'),\n ('BYD', '2020-04-28'),\n ('CTLT', '2020-04-28'),\n ('CBRE', '2020-04-28'),\n ('CNC', '2020-04-28'),\n ('DG', '2020-04-28'),\n ('DPZ', '2020-04-28'),\n ('DNKN', '2020-04-28'),\n ('ENV', '2020-04-28'),\n ('ENV', '2020-04-28'),\n ('AQUA', '2020-04-28'),\n ('LKQ', '2020-04-28'),\n ('MAS', '2020-04-28'),\n ('NXST', '2020-04-28'),\n ('OKE', '2020-04-28'),\n ('OKE', '2020-04-28'),\n ('PANW', '2020-04-28'),\n ('RP', '2020-04-28'),\n ('QSR', '2020-04-28'),\n ('QSR', '2020-04-28'),\n ('SCI', '2020-04-28'),\n ('COO', '2020-04-28'),\n ('UNVR', '2020-04-28'),\n ('USFD', '2020-04-28'),\n ('MTN', '2020-04-28'),\n ('VLO', '2020-04-28'),\n ('WAB', '2020-04-28'),\n ('WH', '2020-04-28'),\n ('WH', '2020-04-28'),\n ('XPO', '2020-04-28'),\n ('BRK.B', '2020-04-28'),\n ('BSX', '2020-04-28'),\n ('SPCE', '2020-04-28'),\n ('LEE', '2021-01-26'),\n ('VTRS', '2021-01-26'),\n ('COST', '2021-01-26'),\n ('CCI', '2021-01-26'),\n ('CVS', '2021-01-26'),\n ('DUK', '2021-01-26'),\n ('HD', '2021-01-26'),\n ('KMB', '2021-01-26'),\n ('RGLD', '2021-01-26'),\n ('V', '2021-01-26'),\n ('MSFT', '2020-11-09'),\n ('MSFT', '2020-11-09'),\n ('AMED', '2020-11-09'),\n ('ANSS', '2020-11-09'),\n ('TECH', '2020-11-09'),\n ('CHE', '2020-11-09'),\n ('CGNX', '2020-11-09'),\n ('CSGP', '2020-11-09'),\n ('DORM', '2020-11-09'),\n ('FAST', '2020-11-09'),\n ('LOPE', '2020-11-09'),\n ('GWRE', '2020-11-09'),\n ('JKHY', '2020-11-09'),\n ('LII', '2020-11-09'),\n ('NEOG', '2020-11-09'),\n ('PAYC', '2020-11-09'),\n ('PCTY', '2020-11-09'),\n ('PEGA', '2020-11-09'),\n ('PRLB', '2020-11-09'),\n ('RBA', '2020-11-09'),\n ('ROL', '2020-11-09'),\n ('TDOC', '2020-11-09'),\n ('VRSK', '2020-11-09'),\n ('AAPL', '2020-11-09'),\n ('AAPL', '2020-11-09'),\n ('NWN', '2020-08-24'),\n ('SYPR', '2020-08-24'),\n ('WLK', '2020-08-24'),\n ('DOX', '2020-08-24'),\n ('DOX', '2020-08-24'),\n ('BURL', '2020-08-24'),\n ('CB', '2020-08-24'),\n ('CIEN', '2020-08-24'),\n ('D', '2020-08-24'),\n ('FE', '2020-08-24'),\n ('FE', '2020-08-24'),\n ('HAE', '2020-08-24'),\n ('HSIC', '2020-08-24'),\n ('LOW', '2020-08-24'),\n ('STOR', '2020-08-24'),\n ('SYY', '2020-08-24'),\n ('WSO', '2020-08-24'),\n ('ZBRA', '2020-08-24'),\n ('MO', '2021-01-07'),\n ('BRK.B', '2021-01-07'),\n ('BRKS', '2021-01-07'),\n ('CSTL', '2021-01-07'),\n ('CHL', '2021-01-07'),\n ('CCMP', '2021-01-07'),\n ('CTSH', '2021-01-07'),\n ('DASTY', '2021-01-07'),\n ('DE', '2021-01-07'),\n ('DXCM', '2021-01-07'),\n ('FXM', '2021-01-07'),\n ('HD', '2021-01-07'),\n ('ICUI', '2021-01-07'),\n ('IFNNY', '2021-01-07'),\n ('MEDP', '2021-01-07'),\n ('MS', '2021-01-07'),\n ('PHR', '2021-01-07'),\n ('REGN', '2021-01-07'),\n ('CRM', '2021-01-07'),\n ('SITE', '2021-01-07'),\n ('UPS', '2021-01-07'),\n ('VCYT', '2021-01-07'),\n ('VTRS', '2021-01-07'),\n ('GPN', '2021-01-07'),\n ('FTNT', '2021-01-07'),\n ('FTNT', '2021-01-07'),\n ('BSX', '2021-01-07'),\n ('FTNT', '2021-01-07'),\n ('MU', '2021-01-07'),\n ('CMCSA', '2021-01-07'),\n ('CMCSA', '2021-01-07'),\n ('MU', '2021-01-07'),\n ('AIT', '2021-01-07'),\n ('MU', '2021-01-07'),\n ('PLXS', '2021-01-07'),\n ('NVT', '2021-01-07'),\n ('FCFS', '2021-01-07'),\n ('HON', '2021-01-07'),\n ('WWD', '2021-01-07'),\n ('ACN', '2021-01-07'),\n ('BKNG', '2021-01-07'),\n ('EXPD', '2021-01-07'),\n ('AVY', '2021-01-07'),\n ('ZTS', '2021-01-07'),\n ('EPAM', '2021-01-07'),\n ('ADBE', '2021-01-07'),\n ('BDX', '2021-01-07'),\n ('BDX', '2021-01-07'),\n ('ADBE', '2021-01-07'),\n ('GPN', '2021-01-07'),\n ('FTNT', '2021-01-07'),\n ('FTNT', '2021-01-07'),\n ('BSX', '2021-01-07'),\n ('FTNT', '2021-01-07'),\n ('MCRN', '2021-01-07'),\n ('CMCSA', '2021-01-07'),\n ('CMCSA', '2021-01-07'),\n ('MCRN', '2021-01-07'),\n ('AIT', '2021-01-07'),\n ('MCRN', '2021-01-07'),\n ('PLXS', '2021-01-07'),\n ('NVT', '2021-01-07'),\n ('FCFS', '2021-01-07'),\n ('HON', '2021-01-07'),\n ('WWD', '2021-01-07'),\n ('ACN', '2021-01-07'),\n ('BKNG', '2021-01-07'),\n ('AVY', '2021-01-07'),\n ('ZTS', '2021-01-07'),\n ('EPAM', '2021-01-07'),\n ('ADBE', '2021-01-07'),\n ('BDX', '2021-01-07'),\n ('BDX', '2021-01-07'),\n ('ADBE', '2021-01-07'),\n ('MUR', '2021-01-07'),\n ('CW', '2021-01-07'),\n ('MRK', '2021-01-07'),\n ('CW', '2021-01-07'),\n ('NFG', '2021-01-07'),\n ('CW', '2021-01-07'),\n ('NFG', '2021-01-07'),\n ('CW', '2021-01-07'),\n ('NFG', '2021-01-07'),\n ('CW', '2021-01-07'),\n ('MUR', '2021-01-07'),\n ('NFG', '2021-01-07'),\n ('NFG', '2021-01-07'),\n ('NFG', '2021-01-07'),\n ('BKR', '2021-01-07'),\n ('CVS', '2021-01-07'),\n ('KR', '2021-01-07'),\n ('MUR', '2021-01-07'),\n ('CW', '2021-01-07'),\n ('MRK', '2021-01-07'),\n ('CW', '2021-01-07'),\n ('NFG', '2021-01-07'),\n ('CW', '2021-01-07'),\n ('NFG', '2021-01-07'),\n ('CW', '2021-01-07'),\n ('MUR', '2021-01-07'),\n ('NFG', '2021-01-07'),\n ('NFG', '2021-01-07'),\n ('NFG', '2021-01-07'),\n ('BKR', '2021-01-07'),\n ('CVS', '2021-01-07'),\n ('KR', '2021-01-07'),\n ('ACI', '2020-09-03'),\n ('CCL', '2020-09-03'),\n ('CBRE', '2020-09-03'),\n ('CCXX', '2020-09-03'),\n ('DELL', '2020-09-03'),\n ('GGT', '2020-09-03'),\n ('MAR', '2020-09-03'),\n ('NMIH', '2020-09-03'),\n ('NLOK', '2020-09-03'),\n ('RSG', '2020-09-03'),\n ('SABR', '2020-09-03'),\n ('SABR', '2020-09-03'),\n ('TOL', '2020-09-03'),\n ('TOL', '2020-09-03'),\n ('ABT', '2020-09-03'),\n ('ATVI', '2020-09-03'),\n ('ATVI', '2020-09-03'),\n ('ANTM', '2020-09-03'),\n ('AAPL', '2020-09-03'),\n ('BDX', '2020-09-03'),\n ('BDX', '2020-09-03'),\n ('KMX', '2020-09-03'),\n ('ECL', '2020-09-03'),\n ('ECL', '2020-09-03'),\n ('EL', '2020-09-03'),\n ('HD', '2020-09-03'),\n ('INTU', '2020-09-03'),\n ('MA', '2020-09-03'),\n ('MSFT', '2020-09-03'),\n ('NFLX', '2020-09-03'),\n ('QCOM', '2020-09-03'),\n ('QCOM', '2020-09-03'),\n ('RTX', '2020-09-03'),\n ('RTX', '2020-09-03'),\n ('RPM', '2020-09-03'),\n ('RPM', '2020-09-03'),\n ('RPM', '2020-09-03'),\n ('SYY', '2020-09-03'),\n ('WM', '2020-09-03'),\n ('FB', '2020-09-03'),\n ('BRK.B', '2020-06-18'),\n ('CVX', '2020-06-18'),\n ('KO', '2020-06-18'),\n ('FHN', '2020-06-18'),\n ('PEAK', '2020-06-18'),\n ('SLB', '2020-06-18'),\n ('DIS', '2020-06-18'),\n ('PG', '2020-06-18'),\n ('DIS', '2020-06-18'),\n ('KO', '2020-08-05'),\n ('APPL', '2021-04-02'),\n ('BLK', '2021-04-02'),\n ('DEO', '2021-04-02'),\n ('FAST', '2021-04-02'),\n ('MSFT', '2021-04-02'),\n ('NSRGY', '2021-04-02'),\n ('RHHBY', '2021-04-02'),\n ('TSM', '2021-04-02'),\n ('BKI', '2020-01-18'),\n ('BKI', '2020-01-18'),\n ('BKI', '2020-01-18'),\n ('CDK', '2021-09-08'),\n ('CL', '2021-09-08'),\n ('ENS', '2020-03-09'),\n ('NVEE', '2020-03-09'),\n ('OSW', '2020-03-09'),\n ('OSW', '2020-03-09'),\n ('SGIOY', '2020-03-09'),\n ('VSAT', '2020-03-09'),\n ('VSAT', '2020-03-09'),\n ('WW', '2020-03-09'),\n ('ABBV', '2020-03-09'),\n ('ASMB', '2021-02-10'),\n ('RETA', '2021-02-10'),\n ('SRNE', '2021-02-10'),\n ('LUMN', '2021-02-10'),\n ('KMI', '2021-02-10'),\n ('OHI', '2021-02-10'),\n ('OHI', '2021-02-10'),\n ('SO', '2021-02-10'),\n ('SO', '2021-02-10'),\n ('SO', '2021-02-10'),\n ('SO', '2021-02-10'),\n ('SO', '2021-02-10'),\n ('ABT', '2020-04-09'),\n ('ATVI', '2020-04-09'),\n ('ADBE', '2020-04-09'),\n ('GOOGL', '2020-04-09'),\n ('AMZN', '2020-04-09'),\n ('AMZN', '2020-04-09'),\n ('AMZN', '2020-04-09'),\n ('AMZN', '2020-04-09'),\n ('AMZN', '2020-04-09'),\n ('AXP', '2020-04-09'),\n ('ANTM', '2020-04-09'),\n ('AAPL', '2020-04-09'),\n ('AMAT', '2020-04-09'),\n ('TEAM', '2020-04-09'),\n ('BAC', '2020-04-09'),\n ('BDX', '2020-04-09'),\n ('BRK.A', '2020-04-09'),\n ('BRK.A', '2020-04-09'),\n ('BRK.B', '2020-04-09'),\n ('BLK', '2020-04-09'),\n ('BSX', '2020-04-09'),\n ('CVX', '2020-04-09'),\n ('CMG', '2020-04-09'),\n ('CME', '2020-04-09'),\n ('CMCSA', '2020-04-09'),\n ('COST', '2020-04-09'),\n ('DHR', '2020-04-09'),\n ('DE', '2020-04-09'),\n ('DIN', '2020-04-09'),\n ('DOMO', '2020-04-09'),\n ('DOMO', '2020-04-09'),\n ('DOMO', '2020-04-09'),\n ('FB', '2020-04-09'),\n ('HASI', '2020-04-09'),\n ('HD', '2020-04-09'),\n ('HON', '2020-04-09'),\n ('INTC', '2020-04-09'),\n ('ICE', '2020-04-09'),\n ('ISRG', '2020-04-09'),\n ('JPM', '2020-04-09'),\n ('LRCX', '2020-04-09'),\n ('LVS', '2020-04-09'),\n ('LMT', '2020-04-09'),\n ('MA', '2020-04-09'),\n ('MRK', '2020-04-09'),\n ('MSFT', '2020-04-09'),\n ('MSFT', '2020-04-09'),\n ('MNST', '2020-04-09'),\n ('NKE', '2020-04-09'),\n ('NVDA', '2020-04-09'),\n ('PEP', '2020-04-09'),\n ('PG', '2020-04-09'),\n ('PGR', '2020-04-09'),\n ('SPGI', '2020-04-09'),\n ('CRM', '2020-04-09'),\n ('SNAP', '2020-04-09'),\n ('SBUX', '2020-04-09'),\n ('SYY', '2020-04-09'),\n ('TXN', '2020-04-09'),\n ('TMO', '2020-04-09'),\n ('UNP', '2020-04-09'),\n ('UNH', '2020-04-09'),\n ('V', '2020-04-09'),\n ('DIS', '2020-04-09'),\n ('WM', '2020-04-09'),\n ('ZTS', '2020-04-09'),\n ('ZM', '2020-04-09'),\n ('KO', '2020-04-09'),\n ('HD', '2020-04-09'),\n ('IBM', '2020-04-09'),\n ('PPG', '2020-04-09'),\n ('LHX', '2020-08-11'),\n ('FB', '2020-09-17'),\n ('PSQ', '2020-09-17'),\n ('KTOS', '2020-09-17'),\n ('KTOS', '2020-09-17'),\n ('KTOS', '2020-09-17'),\n ('PSQ', '2020-09-17'),\n ('KTOS', '2020-09-17'),\n ('KTOS', '2020-09-17'),\n ('KTOS', '2020-09-17'),\n ('PSQ', '2020-09-17'),\n ('D', '2021-01-13'),\n ('KR', '2021-01-13'),\n ('MSFT', '2021-01-13'),\n ('VIAC', '2021-01-13'),\n ('DIS', '2021-01-13'),\n ('ADTN', '2020-01-20'),\n ('ARCC', '2020-01-20'),\n ('CDNS', '2020-01-20'),\n ('CVS', '2020-01-20'),\n ('DTEGY', '2020-01-20'),\n ('GE', '2020-01-20'),\n ('SANM', '2020-01-20'),\n ('WFC', '2020-01-20'),\n ('BXS', '2020-01-20'),\n ('BXS', '2020-01-20'),\n ('BXS', '2020-01-20'),\n ('BXS', '2020-01-20'),\n ('CTBI', '2020-03-25'),\n ('WLK', '2020-03-25'),\n ('AAPL', '2020-03-25'),\n ('BAC', '2020-03-25'),\n ('RBCAA', '2020-03-25'),\n ('AAPL', '2020-03-25'),\n ('GOOGL', '2020-10-16'),\n ('AMZN', '2020-10-16'),\n ('TEAM', '2020-10-16'),\n ('HASI', '2020-10-16'),\n ('MSFT', '2020-10-16'),\n ('HD', '2020-10-16'),\n ('IBM', '2020-10-16'),\n ('PPG', '2020-10-16'),\n ('AAPL', '2020-10-16'),\n ('D', '2020-07-26'),\n ('NTAP', '2020-11-10'),\n ('NTAP', '2020-11-10'),\n ('NTAP', '2020-11-10'),\n ('NTAP', '2020-11-10'),\n ('NTAP', '2020-11-10'),\n ('NTAP', '2020-11-10'),\n ('CMCSA', '2020-11-10'),\n ('FIS', '2020-11-04'),\n ('MDT', '2020-11-04'),\n ('FIS', '2020-11-04'),\n ('MDT', '2020-11-04'),\n ('FIS', '2020-11-04'),\n ('MDT', '2020-11-04'),\n ('NWN', '2020-12-07'),\n ('SAP', '2020-12-07'),\n ('PG', '2020-12-07'),\n ('BMY', '2020-10-02'),\n ('BMY', '2020-10-02'),\n ('CVX', '2020-10-02'),\n ('IBM', '2020-10-02'),\n ('COLD', '2020-03-31'),\n ('ECL', '2020-03-31'),\n ('NEE', '2020-03-31'),\n ('NEE', '2020-03-31'),\n ('COLD', '2020-03-31'),\n ('ECL', '2020-03-31'),\n ('NEE', '2020-03-31'),\n ('NEE', '2020-03-31'),\n ('COLD', '2020-03-31'),\n ('ECL', '2020-03-31'),\n ('HII', '2021-02-09'),\n ('OKE', '2021-02-09'),\n ('NGLS', '2021-02-09'),\n ('GD', '2020-11-25'),\n ('LHX', '2020-11-25'),\n ('REYN', '2020-11-25'),\n ('RTX', '2020-11-25'),\n ('SU', '2020-11-25'),\n ('BKNG', '2020-04-10'),\n ('CMCSA', '2020-04-10'),\n ('ETN', '2020-04-10'),\n ('EMR', '2020-04-10'),\n ('EMR', '2020-04-10'),\n ('IR', '2020-04-10'),\n ('PHG', '2020-04-10'),\n ('NTRS', '2020-04-10'),\n ('PPG', '2020-04-10'),\n ('UNH', '2020-04-10'),\n ('FTDR', '2020-04-10'),\n ('GIS', '2020-04-10'),\n ('MDT', '2020-04-10'),\n ('MDT', '2020-04-10'),\n ('PYPL', '2020-04-10'),\n ('NWN', '2020-06-15'),\n ('ALLY', '2020-06-15'),\n ('AMP', '2020-06-15'),\n ('AMP', '2020-06-15'),\n ('ARMK', '2020-06-15'),\n ('ARMK', '2020-06-15'),\n ('AZO', '2020-06-15'),\n ('AVTR', '2020-06-15'),\n ('BLL', '2020-06-15'),\n ('BLL', '2020-06-15'),\n ('BIO', '2020-06-15'),\n ('BIO', '2020-06-15'),\n ('BFAM', '2020-06-15'),\n ('CTLT', '2020-06-15'),\n ('CTLT', '2020-06-15'),\n ('CBRE', '2020-06-15'),\n ('CDK', '2020-06-15'),\n ('CNC', '2020-06-15'),\n ('CNC', '2020-06-15'),\n ('SCHW', '2020-06-15'),\n ('SCHW', '2020-06-15'),\n ('CHDN', '2020-06-15'),\n ('CHDN', '2020-06-15'),\n ('CAG', '2020-06-15'),\n ('CCI', '2020-06-15'),\n ('DELL', '2020-06-15'),\n ('DLR', '2020-06-15'),\n ('DG', '2020-06-15'),\n ('DLTR', '2020-06-15'),\n ('DLTR', '2020-06-15'),\n ('DPZ', '2020-06-15'),\n ('DOV', '2020-06-15'),\n ('DOV', '2020-06-15'),\n ('DRE', '2020-06-15'),\n ('DRE', '2020-06-15'),\n ('ECL', '2020-06-15'),\n ('EHC', '2020-06-15'),\n ('ENR', '2020-06-15'),\n ('ENTG', '2020-06-15'),\n ('EFX', '2020-06-15'),\n ('EQIX', '2020-06-15'),\n ('WTRG', '2020-06-15'),\n ('FEYE', '2020-06-15'),\n ('FEYE', '2020-06-15'),\n ('FLT', '2020-06-15'),\n ('FND', '2020-06-15'),\n ('FMC', '2020-06-15'),\n ('GLIBA', '2020-06-15'),\n ('GLIBA', '2020-06-15'),\n ('GDDY', '2020-06-15'),\n ('GPK', '2020-06-15'),\n ('GO', '2020-06-15'),\n ('HCA', '2020-06-15'),\n ('HCA', '2020-06-15'),\n ('HDS', '2020-06-15'),\n ('HXL', '2020-06-15'),\n ('IQV', '2020-06-15'),\n ('KEYS', '2020-06-15'),\n ('KR', '2020-06-15'),\n ('LH', '2020-06-15'),\n ('LW', '2020-06-15'),\n ('LW', '2020-06-15'),\n ('LBDAV', '2020-06-15'),\n ('LSXMK', '2020-06-15'),\n ('LSXMK', '2020-06-15'),\n ('LKQ', '2020-06-15'),\n ('MAS', '2020-06-15'),\n ('NXST', '2020-06-15'),\n ('NLOK', '2020-06-15'),\n ('NLOK', '2020-06-15'),\n ('OKE', '2020-06-15'),\n ('OKE', '2020-06-15'),\n ('PFGC', '2020-06-15'),\n ('PFGC', '2020-06-15'),\n ('PFGC', '2020-06-15'),\n ('PFGC', '2020-06-15'),\n ('PLNT', '2020-06-15'),\n ('PLNT', '2020-06-15'),\n ('PLNT', '2020-06-15'),\n ('PII', '2020-06-15'),\n ('PHM', '2020-06-15'),\n ('PHM', '2020-06-15'),\n ('REYN', '2020-06-15'),\n ('RHI', '2020-06-15'),\n ('ROP', '2020-06-15'),\n ('SAIC', '2020-06-15'),\n ('SAIC', '2020-06-15'),\n ('SMG', '2020-06-15'),\n ('SCI', '2020-06-15'),\n ('SERV', '2020-06-15'),\n ('SHW', '2020-06-15'),\n ('SIRI', '2020-06-15'),\n ('SIRI', '2020-06-15'),\n ('SSNC', '2020-06-15'),\n ('SSNC', '2020-06-15'),\n ('SBUX', '2020-06-15'),\n ('SYY', '2020-06-15'),\n ('SYY', '2020-06-15'),\n ('TFX', '2020-06-15'),\n ('TFX', '2020-06-15'),\n ('TJX', '2020-06-15'),\n ('TRU', '2020-06-15'),\n ('TWTR', '2020-06-15'),\n ('TWTR', '2020-06-15'),\n ('ULTA', '2020-06-15'),\n ('USFD', '2020-06-15'),\n ('VLO', '2020-06-15'),\n ('VLO', '2020-06-15'),\n ('WM', '2020-06-15'),\n ('WDC', '2020-06-15'),\n ('WDC', '2020-06-15'),\n ('WDC', '2020-06-15'),\n ('WRK', '2020-06-15'),\n ('WDAY', '2020-06-15'),\n ('ZBRA', '2020-06-15'),\n ('ZBH', '2020-06-15'),\n ('MMM', '2020-06-15'),\n ('ADS', '2020-06-15'),\n ('AAL', '2020-06-15'),\n ('AIG', '2020-06-15'),\n ('T', '2020-06-15'),\n ('BLL', '2020-06-15'),\n ('CAT', '2020-06-15'),\n ('CNP', '2020-06-15'),\n ('CMA', '2020-06-15'),\n ('DE', '2020-06-15'),\n ('DTE', '2020-06-15'),\n ('DXC', '2020-06-15'),\n ('EMR', '2020-06-15'),\n ('EXPD', '2020-06-15'),\n ('FB', '2020-06-15'),\n ('FLS', '2020-06-15'),\n ('BEN', '2020-06-15'),\n ('HIG', '2020-06-15'),\n ('IVZ', '2020-06-15'),\n ('L', '2020-06-15'),\n ('LYB', '2020-06-15'),\n ('TAP', '2020-06-15'),\n ('NEM', '2020-06-15'),\n ('NI', '2020-06-15'),\n ('PYPL', '2020-06-15'),\n ('PM', '2020-06-15'),\n ('PGR', '2020-06-15'),\n ('PGR', '2020-06-15'),\n ('PGR', '2020-06-15'),\n ('PGR', '2020-06-15'),\n ('PSA', '2020-06-15'),\n ('REGN', '2020-06-15'),\n ('SNE', '2020-06-15'),\n ('TFC', '2020-06-15'),\n ('USB', '2020-06-15'),\n ('UL', '2020-06-15'),\n ('UNH', '2020-06-15'),\n ('UNH', '2020-06-15'),\n ('UNH', '2020-06-15'),\n ('UNH', '2020-06-15'),\n ('UNH', '2020-06-15'),\n ('VIAC', '2020-06-15'),\n ('VMC', '2020-06-15'),\n ('WFC', '2020-06-15'),\n ('WFC', '2020-06-15'),\n ('WTFC', '2020-06-15'),\n ('ECL', '2020-08-08'),\n ('OLED', '2020-08-08'),\n ('ECL', '2020-08-08'),\n ('OLED', '2020-08-08'),\n ('REGL', '2020-12-26'),\n ('MSFT', '2020-01-15'),\n ('AAWW', '2020-01-15'),\n ('ALXN', '2020-03-10'),\n ('ALXN', '2020-03-10'),\n ('ALXN', '2020-03-10'),\n ('ADS', '2020-03-10'),\n ('AMAT', '2020-03-10'),\n ('ATRC', '2020-03-10'),\n ('BIIB', '2020-03-10'),\n ('BA', '2020-03-10'),\n ('CHRW', '2020-03-10'),\n ('KMX', '2020-03-10'),\n ('CTLT', '2020-03-10'),\n ('CTL', '2020-03-10'),\n ('CHDN', '2020-03-10'),\n ('CSGP', '2020-03-10'),\n ('CYRX', '2020-03-10'),\n ('DLTR', '2020-03-10'),\n ('DD', '2020-03-10'),\n ('DXC', '2020-03-10'),\n ('FDX', '2020-03-10'),\n ('F', '2020-03-10'),\n ('GIS', '2020-03-10'),\n ('GILD', '2020-03-10'),\n ('GMED', '2020-03-10'),\n ('HMN', '2020-03-10'),\n ('HMN', '2020-03-10'),\n ('IART', '2020-03-10'),\n ('SJM', '2020-03-10'),\n ('LB', '2020-03-10'),\n ('LHCG', '2020-03-10'),\n ('MAC', '2020-03-10'),\n ('M', '2020-03-10'),\n ('MOS', '2020-03-10'),\n ('NKE', '2020-03-10'),\n ('NUE', '2020-03-10'),\n ('OLLI', '2020-03-10'),\n ('PPBI', '2020-03-10'),\n ('PCTY', '2020-03-10'),\n ('PCTY', '2020-03-10'),\n ('PYPL', '2020-03-10'),\n ('PHR', '2020-03-10'),\n ('PLNT', '2020-03-10'),\n ('POL', '2020-03-10'),\n ('PFPT', '2020-03-10'),\n ('RPD', '2020-03-10'),\n ('ROLL', '2020-03-10'),\n ('CRM', '2020-03-10'),\n ('NOW', '2020-03-10'),\n ('SPG', '2020-03-10'),\n ('SITE', '2020-03-10'),\n ('SKY', '2020-03-10'),\n ('KHC', '2020-03-10'),\n ('TWTR', '2020-03-10'),\n ('UBSI', '2020-03-10'),\n ('UPS', '2020-03-10'),\n ('VIAC', '2020-03-10'),\n ('WBA', '2020-03-10'),\n ('DIS', '2020-03-10'),\n ('WFC', '2020-03-10'),\n ('WMGI', '2020-03-10'),\n ('CSQ', '2020-03-10'),\n ('FDL', '2020-03-10'),\n ('FDL', '2020-03-10'),\n ('FDL', '2020-03-10'),\n ('FDL', '2020-03-10'),\n ('GSLC', '2020-03-10'),\n ('GSLC', '2020-03-10'),\n ('GSLC', '2020-03-10'),\n ('QQQ', '2020-03-10'),\n ('USMC', '2020-03-10'),\n ('DIA', '2020-03-10'),\n ('SPY', '2020-03-10'),\n ('SDY', '2020-03-10'),\n ('VDC', '2020-03-10'),\n ('VIG', '2020-03-10'),\n ('VPU', '2020-03-10'),\n ('VPU', '2020-03-10'),\n ('VPU', '2020-03-10'),\n ('VPU', '2020-03-10'),\n ('AON', '2020-03-10'),\n ('PLD', '2020-03-10'),\n ('TMUS', '2020-03-10'),\n ('GOOG', '2020-03-10'),\n ('CSCO', '2020-03-10'),\n ('SH', '2020-03-10'),\n ('SH', '2020-03-10'),\n ('BA', '2020-03-10'),\n ('CSCO', '2020-03-10'),\n ('SH', '2020-03-10'),\n ('RUN', '2020-03-10'),\n ('RUN', '2020-03-10'),\n ('RUN', '2020-03-10'),\n ('TMUS', '2020-03-10'),\n ('SPCE', '2020-03-10'),\n ('SPCE', '2020-03-10'),\n ('SPCE', '2020-03-10'),\n ('VSLR', '2020-03-10'),\n ('CTRCF', '2020-03-10'),\n ('CHD', '2020-03-10'),\n ('FTDR', '2020-03-10'),\n ('QGEN', '2020-03-10'),\n ('SH', '2020-02-16'),\n ('SH', '2020-02-16'),\n ('AMZN', '2021-08-03'),\n ('LHX', '2021-08-03'),\n ('MA', '2021-08-03'),\n ('DEACU', '2020-02-02'),\n ('DEACU', '2020-02-02'),\n ('BA', '2020-02-02'),\n ('PG', '2020-03-04'),\n ('BGFV', '2020-03-04'),\n ('PSNL', '2020-03-04'),\n ('SDC', '2020-03-04'),\n ('UBER', '2020-03-04'),\n ('CXW', '2020-07-07'),\n ('STAY', '2020-07-07'),\n ('STAY', '2020-07-07'),\n ('ZBRA', '2020-07-07'),\n ('CMCSA', '2020-07-07'),\n ('HON', '2020-07-07'),\n ('HON', '2020-07-07'),\n ('PHG', '2020-07-07'),\n ('PGR', '2020-07-07'),\n ('DGX', '2020-07-07'),\n ('SNE', '2020-07-07'),\n ('MSI', '2020-07-07'),\n ('PNC', '2020-07-07'),\n ('DEACU', '2020-05-02'),\n ('DEACU', '2020-05-02'),\n ('DEACU', '2020-05-02'),\n ('SH', '2020-05-02'),\n ('BX', '2020-05-02'),\n ('ECL', '2020-05-02'),\n ('ECL', '2020-05-02'),\n ('SH', '2020-05-02'),\n ('BX', '2020-05-02'),\n ('DEACU', '2020-05-02'),\n ('DEACU', '2020-05-02'),\n ('DEACU', '2020-05-02'),\n ('SH', '2020-05-02'),\n ('BX', '2020-05-02'),\n ('MMM', '2020-05-02'),\n ('MO', '2020-05-02'),\n ('BAC', '2020-05-02'),\n ('BRK.B', '2020-05-02'),\n ('BA', '2020-05-02'),\n ('CGC', '2020-05-02'),\n ('CSCO', '2020-05-02'),\n ('C', '2020-05-02'),\n ('COP', '2020-05-02'),\n ('COST', '2020-05-02'),\n ('CCI', '2020-05-02'),\n ('XOM', '2020-05-02'),\n ('HON', '2020-05-02'),\n ('LHCG', '2020-05-02'),\n ('TMO', '2020-05-02'),\n ('USB', '2020-05-02'),\n ('BA', '2020-06-01'),\n ('CIM', '2020-06-01'),\n ('FEI', '2020-06-01'),\n ('PSX', '2020-06-01'),\n ('UAL', '2020-06-01'),\n ('DORM', '2020-10-28'),\n ('YNDX', '2020-10-28'),\n ('RUN', '2020-10-28'),\n ('JPM', '2020-10-28'),\n ('TJX', '2020-10-28'),\n ('OLED', '2020-10-28'),\n ('OLED', '2020-10-28'),\n ('OLED', '2020-10-28'),\n ('OLED', '2020-10-28'),\n ('JPM', '2020-10-28'),\n ('TJX', '2020-10-28'),\n ('OLED', '2020-10-28'),\n ('OLED', '2020-10-28'),\n ('OLED', '2020-10-28'),\n ('OLED', '2020-10-28'),\n ('AON', '2020-10-28'),\n ('CME', '2020-10-28'),\n ('OWSMX', '2020-10-28'),\n ('LLY', '2020-10-28'),\n ('AIG', '2020-10-28'),\n ('BXS', '2020-07-18'),\n ('RF$A', '2020-07-18'),\n ('AROC', '2020-07-18'),\n ('BKEP', '2020-07-18'),\n ('CEQP', '2020-07-18'),\n ('CEQP', '2020-07-18'),\n ('DCP', '2020-07-18'),\n ('DCP', '2020-07-18'),\n ('DCP', '2020-07-18'),\n ('DCP', '2020-07-18'),\n ('ENBL', '2020-07-18'),\n ('ENBL', '2020-07-18'),\n ('ENBL', '2020-07-18'),\n ('ET', '2020-07-18'),\n ('ET', '2020-07-18'),\n ('ET', '2020-07-18'),\n ('ET', '2020-07-18'),\n ('ENLC', '2020-07-18'),\n ('ENLC', '2020-07-18'),\n ('GLOP', '2020-07-18'),\n ('GEL', '2020-07-18'),\n ('GEL', '2020-07-18'),\n ('GEL', '2020-07-18'),\n ('GLP', '2020-07-18'),\n ('GMLP', '2020-07-18'),\n ('MMLP', '2020-07-18'),\n ('MMLP', '2020-07-18'),\n ('MPLX', '2020-07-18'),\n ('NGL', '2020-07-18'),\n ('NGL', '2020-07-18'),\n ('NGL', '2020-07-18'),\n ('NBLX', '2020-07-18'),\n ('NBLX', '2020-07-18'),\n ('NBLX', '2020-07-18'),\n ('SPH', '2020-07-18'),\n ('SPH', '2020-07-18'),\n ('SPH', '2020-07-18'),\n ('SMLP', '2020-07-18'),\n ('SMLP', '2020-07-18'),\n ('USAC', '2020-07-18'),\n ('USAC', '2020-07-18'),\n ('USAC', '2020-07-18'),\n ('WES', '2020-07-18'),\n ('WES', '2020-07-18'),\n ('WES', '2020-07-18'),\n ('FIVE', '2020-08-03'),\n ('IAC', '2020-08-03'),\n ('IFF', '2020-08-03'),\n ('TSM', '2020-08-03'),\n ('RUN', '2020-08-03'),\n ('RUN', '2020-08-03'),\n ('RUN', '2020-08-03'),\n ('RUN', '2020-08-03'),\n ('RUN', '2020-08-03'),\n ('RUN', '2020-08-03'),\n ('RUN', '2020-08-03'),\n ('RUN', '2020-08-03'),\n ('TMUSR', '2020-08-03'),\n ('UBER', '2020-08-03'),\n ('OLED', '2020-08-03'),\n ('BIPC', '2020-08-03'),\n ('BIPC', '2020-08-03'),\n ('NEE', '2020-08-03'),\n ('UBER', '2020-08-03'),\n ('ZTS', '2020-08-03'),\n ('RUN', '2020-08-03'),\n ('RUN', '2020-08-03'),\n ('RUN', '2020-08-03'),\n ('RUN', '2020-08-03'),\n ('RUN', '2020-08-03'),\n ('RUN', '2020-08-03'),\n ('RUN', '2020-08-03'),\n ('RUN', '2020-08-03'),\n ('TMUSR', '2020-08-03'),\n ('UBER', '2020-08-03'),\n ('OLED', '2020-08-03'),\n ('AEP', '2021-02-02'),\n ('CODYY', '2021-02-02'),\n ('DPSGY', '2021-02-02'),\n ('SVNLY', '2021-02-02'),\n ('TSN', '2021-02-02'),\n ('SBUX', '2020-08-17'),\n ('BABA', '2020-08-17'),\n ('BABA', '2020-08-17'),\n ('ANET', '2020-09-11'),\n ('BSX', '2020-09-11'),\n ('CMG', '2020-09-11'),\n ('DHR', '2020-09-11'),\n ('DXC', '2020-09-11'),\n ('FB', '2020-09-11'),\n ('HWM', '2020-09-11'),\n ('TAP', '2020-09-11'),\n ('NTAP', '2020-09-11'),\n ('PYPL', '2020-09-11'),\n ('TDG', '2020-09-11'),\n ('UAA', '2020-09-11'),\n ('UA', '2020-09-11'),\n ('WBA', '2020-09-11'),\n ('WDC', '2020-09-11'),\n ('ACN', '2020-05-09'),\n ('GOOG', '2020-05-09'),\n ('AMZN', '2020-05-09'),\n ('AAPL', '2020-05-09'),\n ('BRK.B', '2020-05-09'),\n ('TDDXX', '2020-05-09'),\n ('TDDXX', '2020-05-09'),\n ('TDDXX', '2020-05-09'),\n ('TDDXX', '2020-05-09'),\n ('TDDXX', '2020-05-09'),\n ('C', '2020-05-09'),\n ('CGNX', '2020-05-09'),\n ('COST', '2020-05-09'),\n ('DAIUF', '2020-05-09'),\n ('DAL', '2020-05-09'),\n ('DAL', '2020-05-09'),\n ('ECL', '2020-05-09'),\n ('EDIT', '2020-05-09'),\n ('EL', '2020-05-09'),\n ('FANUF', '2020-05-09'),\n ('GS', '2020-05-09'),\n ('GH', '2020-05-09'),\n ('ILMN', '2020-05-09'),\n ('ISRG', '2020-05-09'),\n ('LDNXF', '2020-05-09'),\n ('LVMHF', '2020-05-09'),\n ('MSFT', '2020-05-09'),\n ('MSFT', '2020-05-09'),\n ('MSCI', '2020-05-09'),\n ('NDAQ', '2020-05-09'),\n ('NSRGY', '2020-05-09'),\n ('NEE', '2020-05-09'),\n ('NKE', '2020-05-09'),\n ('PEP', '2020-05-09'),\n ('RHHBY', '2020-05-09'),\n ('ROP', '2020-05-09'),\n ('SPLK', '2020-05-09'),\n ('SQ', '2020-05-09'),\n ('TGT', '2020-05-09'),\n ('TDOC', '2020-05-09'),\n ('TRNO', '2020-05-09'),\n ('TJX', '2020-05-09'),\n ('UNH', '2020-05-09'),\n ('VZ', '2020-05-09'),\n ('DIS', '2020-05-09'),\n ('BXS', '2021-01-15'),\n ('BXS', '2021-01-15'),\n ('BXS', '2021-01-15'),\n ('WFC$V', '2021-01-15'),\n ('XOM', '2021-01-15'),\n ('HD', '2021-01-15'),\n ('MSFT', '2021-01-15'),\n ('WMB', '2021-01-15'),\n ('DOX', '2020-05-28'),\n ('BLUE', '2020-05-28'),\n ('BR', '2020-05-28'),\n ('DEO', '2020-05-28'),\n ('ETR', '2020-05-28'),\n ('FRC', '2020-05-28'),\n ('FISV', '2020-05-28'),\n ('FLIR', '2020-05-28'),\n ('MMC', '2020-05-28'),\n ('OLLI', '2020-05-28'),\n ('PM', '2020-05-28'),\n ('ZBH', '2020-05-28'),\n ('DKNG', '2020-05-28'),\n ('DKNG', '2020-05-28'),\n ('DKNG', '2020-05-28'),\n ('DKNG', '2020-05-28'),\n ('BLK', '2020-05-28'),\n ('DKNG', '2020-05-28'),\n ('DKNG', '2020-05-28'),\n ('DKNG', '2020-05-28'),\n ('DKNG', '2020-05-28'),\n ('RBCAA', '2020-12-18'),\n ('RAD', '2020-12-18'),\n ('WORK', '2020-12-18'),\n ('TRUP', '2020-12-18'),\n ('TRUP', '2020-12-18'),\n ('TRUP', '2020-12-18'),\n ('TRUP', '2020-12-18'),\n ('BATRA', '2020-09-24'),\n ('FWONK', '2020-09-24'),\n ('KTOS', '2020-09-24'),\n ('KTOS', '2020-09-24'),\n ('KTOS', '2020-09-24'),\n ('KTOS', '2020-09-24'),\n ('KTOS', '2020-09-24'),\n ('AM', '2020-10-09'),\n ('ET', '2020-10-09'),\n ('MPLX', '2020-10-09'),\n ('SHLX', '2020-10-09'),\n ('SRLP', '2020-10-09'),\n ('USAC', '2020-10-09'),\n ('WES', '2020-10-09'),\n ('EPD', '2020-10-09'),\n ('MMM', '2020-10-09'),\n ('ABT', '2020-10-09'),\n ('ACN', '2020-10-09'),\n ('AMD', '2020-10-09'),\n ('AKAM', '2020-10-09'),\n ('GOOGL', '2020-10-09'),\n ('GOOG', '2020-10-09'),\n ('AMZN', '2020-10-09'),\n ('AAPL', '2020-10-09'),\n ('T', '2020-10-09'),\n ...]"
     },
     "execution_count": 101,
     "metadata": {},
     "output_type": "execute_result"
    }
   ],
   "source": [
    "list(zip(transactions['ticker'], transactions['disclosure_date'].astype(str)))"
   ],
   "metadata": {
    "collapsed": false,
    "ExecuteTime": {
     "end_time": "2023-11-28T22:38:57.681497Z",
     "start_time": "2023-11-28T22:38:57.642458Z"
    }
   },
   "id": "4659c1a40e045bb"
  },
  {
   "cell_type": "code",
   "execution_count": null,
   "outputs": [],
   "source": [],
   "metadata": {
    "collapsed": false
   },
   "id": "22758feb07b9cccb"
  }
 ],
 "metadata": {
  "kernelspec": {
   "display_name": "Python 3",
   "language": "python",
   "name": "python3"
  },
  "language_info": {
   "codemirror_mode": {
    "name": "ipython",
    "version": 2
   },
   "file_extension": ".py",
   "mimetype": "text/x-python",
   "name": "python",
   "nbconvert_exporter": "python",
   "pygments_lexer": "ipython2",
   "version": "2.7.6"
  }
 },
 "nbformat": 4,
 "nbformat_minor": 5
}
