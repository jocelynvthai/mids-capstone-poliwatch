{
 "cells": [
  {
   "cell_type": "code",
   "execution_count": 47,
   "outputs": [],
   "source": [
    "import PyPDF2\n",
    "import re\n",
    "\n",
    "\n"
   ],
   "metadata": {
    "collapsed": false,
    "ExecuteTime": {
     "end_time": "2023-09-28T02:05:01.950045Z",
     "start_time": "2023-09-28T02:05:01.944452Z"
    }
   },
   "id": "afd90f94cc52ef86"
  },
  {
   "cell_type": "code",
   "execution_count": 48,
   "outputs": [
    {
     "data": {
      "text/plain": "'9/16/23, 4:37 PMU.S. Senate: Committee Assignments of the 118th Congress\\nPage 1 of 58https://www.senate.gov/general/committee_assignments/assignments.htm\\xa0Baldwin, Tammy (D-WI)Committee on AppropriationsSubcommittee on Agriculture, Rural Development, Foodand Drug Administration, and Related AgenciesSubcommittee on DefenseSubcommittee on Energy and Water DevelopmentSubcommittee on Homeland SecuritySubcommittee on Labor, Health and Human Services, andEducation, and Related Agencies (Chairman)Subcommittee on Military Construction, Veterans A!airs,and Related AgenciesCommittee on Commerce, Science, and TransportationSubcommittee on Communications, Media, andBroadbandSubcommittee on Consumer Protection, Product Safety,and Data SecuritySubcommittee on Oceans, Fisheries, Climate Change, andManufacturing (Chairman)Subcommittee on Surface Transportation, Maritime,Freight, and PortsCommittee on Health, Education, Labor, and PensionsSubcommittee on Employment and Workplace SafetySubcommittee on Primary Health and Retirement Security\\xa0Barrasso, John (R-WY)Committee on Energy and Natural Resources (Ranking)Subcommittee on EnergyCommittee Assignments of the 118th CongressBelow are all current senators and the committees on which they serve.\\xa0Please Make a SelectionBack to top\\nBack to top\\n'"
     },
     "execution_count": 48,
     "metadata": {},
     "output_type": "execute_result"
    }
   ],
   "source": [
    "# Open the PDF file\n",
    "with open(\"../data/unprocessed files/118.pdf\", \"rb\") as pdf_file:\n",
    "    # Initialize PDF reader\n",
    "    pdf_reader = PyPDF2.PdfReader(pdf_file)\n",
    "\n",
    "    page = pdf_reader.pages[0]\n",
    "    extracted_text = page.extract_text()\n",
    "\n",
    "extracted_text"
   ],
   "metadata": {
    "collapsed": false,
    "ExecuteTime": {
     "end_time": "2023-09-28T02:05:02.950816Z",
     "start_time": "2023-09-28T02:05:02.919323Z"
    }
   },
   "id": "d9fc94591008ecbd"
  },
  {
   "cell_type": "code",
   "execution_count": 53,
   "outputs": [],
   "source": [
    "committee_pattern = re.compile(r'Committee on [A-Za-z, ]+')\n",
    "subcommittee_pattern = re.compile(r'Subcommittee on [A-Za-z, ]+')\n",
    "\n",
    "committee_matches = committee_pattern.findall(extracted_text)"
   ],
   "metadata": {
    "collapsed": false,
    "ExecuteTime": {
     "end_time": "2023-09-28T02:15:06.372933Z",
     "start_time": "2023-09-28T02:15:06.370527Z"
    }
   },
   "id": "be30f87e7081bd3f"
  },
  {
   "cell_type": "code",
   "execution_count": 54,
   "outputs": [
    {
     "data": {
      "text/plain": "['Committee on AppropriationsSubcommittee on Agriculture, Rural Development, Foodand Drug Administration, and Related AgenciesSubcommittee on DefenseSubcommittee on Energy and Water DevelopmentSubcommittee on Homeland SecuritySubcommittee on Labor, Health and Human Services, andEducation, and Related Agencies ',\n 'Committee on Commerce, Science, and TransportationSubcommittee on Communications, Media, andBroadbandSubcommittee on Consumer Protection, Product Safety,and Data SecuritySubcommittee on Oceans, Fisheries, Climate Change, andManufacturing ',\n 'Committee on Health, Education, Labor, and PensionsSubcommittee on Employment and Workplace SafetySubcommittee on Primary Health and Retirement Security',\n 'Committee on Energy and Natural Resources ']"
     },
     "execution_count": 54,
     "metadata": {},
     "output_type": "execute_result"
    }
   ],
   "source": [
    "committee_matches"
   ],
   "metadata": {
    "collapsed": false,
    "ExecuteTime": {
     "end_time": "2023-09-28T02:15:10.168418Z",
     "start_time": "2023-09-28T02:15:10.157952Z"
    }
   },
   "id": "c4a8f49daf078658"
  },
  {
   "cell_type": "code",
   "execution_count": null,
   "outputs": [],
   "source": [],
   "metadata": {
    "collapsed": false
   },
   "id": "5efbbc759caf82bc"
  }
 ],
 "metadata": {
  "kernelspec": {
   "display_name": "Python 3",
   "language": "python",
   "name": "python3"
  },
  "language_info": {
   "codemirror_mode": {
    "name": "ipython",
    "version": 2
   },
   "file_extension": ".py",
   "mimetype": "text/x-python",
   "name": "python",
   "nbconvert_exporter": "python",
   "pygments_lexer": "ipython2",
   "version": "2.7.6"
  }
 },
 "nbformat": 4,
 "nbformat_minor": 5
}
