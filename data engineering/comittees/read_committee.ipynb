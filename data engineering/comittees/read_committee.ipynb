{
 "cells": [
  {
   "cell_type": "code",
   "execution_count": 3,
   "id": "initial_id",
   "metadata": {
    "collapsed": true,
    "ExecuteTime": {
     "end_time": "2023-10-23T23:43:07.127358Z",
     "start_time": "2023-10-23T23:43:05.437587Z"
    }
   },
   "outputs": [],
   "source": [
    "import pandas as pd\n",
    "import nameparser\n",
    "import json\n",
    "import requests\n",
    "\n",
    "\n",
    "pro_publica_api_key = \"zkptMlkDXn3oi2IJq8g3EYU5JE9VCGaVNGP3ud5H\"\n",
    "senate_url = f\"https://api.propublica.org/congress/v1/117/senate/members.json\"\n",
    "house_url = f\"https://api.propublica.org/congress/v1/117/house/members.json\"\n",
    "headers = {'X-API-Key': pro_publica_api_key}\n",
    "senate_117 = requests.get(senate_url, headers=headers)\n",
    "house_117 = requests.get(house_url, headers=headers)\n",
    "senate_117_members = senate_117.json()['results'][0]['members']\n",
    "house_117_members = house_117.json()['results'][0]['members']\n",
    "senate_117_members = pd.DataFrame(senate_117_members)\n",
    "house_117_members = pd.DataFrame(house_117_members)\n",
    "senate_117_members = senate_117_members[['short_title', 'first_name', 'middle_name', 'last_name','party','id']]\n",
    "house_117_members = house_117_members[['short_title', 'first_name', 'middle_name', 'last_name','party','id']]\n",
    "\"\"\"hot fixes for different spelling\"\"\"\n",
    "members_117= pd.concat([senate_117_members, house_117_members])\n",
    "members_117['member'] = members_117['first_name'] + ' ' + members_117['last_name']\n",
    "members_117['member'] = members_117['member'].str.lower()\n",
    "members_117['parsed_name'] = members_117['member'].apply(lambda x: nameparser.HumanName(x))\n",
    "members_117['first_name'] = members_117['parsed_name'].apply(lambda x: x.first)\n",
    "members_117['last_name'] = members_117['parsed_name'].apply(lambda x: x.last)\n",
    "members_117['string_name'] = members_117['first_name'] + ' ' + members_117['last_name']\n",
    "\n"
   ]
  },
  {
   "cell_type": "code",
   "execution_count": 4,
   "outputs": [],
   "source": [
    "senate_116 = requests.get(senate_url, headers=headers)\n",
    "house_116 = requests.get(house_url, headers=headers)\n",
    "senate_116_members = senate_116.json()['results'][0]['members']\n",
    "house_116_members = house_116.json()['results'][0]['members']\n",
    "senate_116_members = pd.DataFrame(senate_116_members)\n",
    "house_116_members = pd.DataFrame(house_116_members)\n",
    "senate_116_members = senate_116_members[['short_title', 'first_name', 'middle_name', 'last_name','party','id']]\n",
    "house_116_members = house_116_members[['short_title', 'first_name', 'middle_name', 'last_name','party','id']]\n",
    "\"\"\"hot fixes for different spelling\"\"\"\n",
    "members_116 = pd.concat([senate_116_members, house_116_members])\n",
    "members_116['member'] = members_116['first_name'] + ' ' + members_116['last_name']\n",
    "members_116['member'] = members_116['member'].str.lower()\n",
    "members_116['parsed_name'] = members_116['member'].apply(lambda x: nameparser.HumanName(x))\n",
    "members_116['first_name'] = members_116['parsed_name'].apply(lambda x: x.first)\n",
    "members_116['last_name'] = members_116['parsed_name'].apply(lambda x: x.last)\n",
    "members_116['string_name'] = members_116['first_name'] + ' ' + members_116['last_name']\n",
    "member_names_116 = members_116['string_name'].unique()"
   ],
   "metadata": {
    "collapsed": false,
    "ExecuteTime": {
     "end_time": "2023-10-23T23:43:20.284488Z",
     "start_time": "2023-10-23T23:43:18.958939Z"
    }
   },
   "id": "7ca66ad6e6288e8"
  },
  {
   "cell_type": "code",
   "execution_count": 5,
   "outputs": [],
   "source": [
    "\n",
    "\n",
    "member_id_list = members_117['id'].unique()\n",
    "committee_df = []\n",
    "subcommittee_df = []\n",
    "\n",
    "for member_id in member_id_list:\n",
    "    member_url = f\"https://api.propublica.org/congress/v1/members/{member_id}.json\"\n",
    "    r = requests.get(member_url, headers=headers)\n",
    "\n",
    "    member_committies_name = []\n",
    "    member_committies_code = []\n",
    "    member_committies_begin_date = []\n",
    "    member_committies_end_date = []\n",
    "\n",
    "    member_subcommitties_name = []\n",
    "    member_subcommitties_code = []\n",
    "    member_subcommitties_begin_date = []\n",
    "    member_subcommitties_end_date = []\n",
    "    member_subcommittee_parent_id = []\n",
    "    member_roles = r.json()['results'][0]['roles']\n",
    "    for role in member_roles:\n",
    "        if role['congress'] == '117':\n",
    "            for committee in role['committees']:\n",
    "                member_committies_name.append(committee['name'])\n",
    "                member_committies_code.append(committee['code'])\n",
    "                member_committies_begin_date.append(committee['begin_date'])\n",
    "                member_committies_end_date.append(committee['end_date'])\n",
    "\n",
    "            for subcommittee in role['subcommittees']:\n",
    "                member_subcommitties_name.append(subcommittee['name'])\n",
    "                member_subcommitties_code.append(subcommittee['code'])\n",
    "                member_subcommitties_begin_date.append(subcommittee['begin_date'])\n",
    "                member_subcommitties_end_date.append(subcommittee['end_date'])\n",
    "                member_subcommittee_parent_id.append(subcommittee['parent_committee_id'])\n",
    "\n",
    "    member_committies=pd.DataFrame({'name': member_committies_name,\n",
    "                                    'code': member_committies_code,\n",
    "                                    'begin_date': member_committies_begin_date,\n",
    "                                    'end_date': member_committies_end_date})\n",
    "\n",
    "    member_subcommitties = pd.DataFrame({'name': member_subcommitties_name,\n",
    "                                         'code': member_subcommitties_code,\n",
    "                                         'begin_date': member_subcommitties_begin_date,\n",
    "                                         'end_date': member_subcommitties_end_date,\n",
    "                                         'parent_committee_id': member_subcommittee_parent_id})\n",
    "    member_committies['member_id'] = member_id\n",
    "    member_subcommitties['member_id'] = member_id\n",
    "    committee_df.append(member_committies)\n",
    "    subcommittee_df.append(member_subcommitties)\n",
    "\n",
    "committee_df = pd.concat(committee_df)\n",
    "subcommittee_df = pd.concat(subcommittee_df)\n",
    "\n",
    "committee_df.to_csv('committee_assignments_117.csv',index=False)\n",
    "subcommittee_df.to_csv('subcommittee_assignments_117.csv',index=False)"
   ],
   "metadata": {
    "collapsed": false,
    "ExecuteTime": {
     "end_time": "2023-10-23T23:49:15.285865Z",
     "start_time": "2023-10-23T23:44:17.432382Z"
    }
   },
   "id": "d66d099a4b8ebef8"
  },
  {
   "cell_type": "markdown",
   "source": [],
   "metadata": {
    "collapsed": false
   },
   "id": "be62e6934e63eb4b"
  },
  {
   "cell_type": "code",
   "execution_count": 6,
   "outputs": [],
   "source": [
    "member_id_list = members_116['id'].unique()\n",
    "committee_df = []\n",
    "subcommittee_df = []\n",
    "\n",
    "for member_id in member_id_list:\n",
    "    member_url = f\"https://api.propublica.org/congress/v1/members/{member_id}.json\"\n",
    "    r = requests.get(member_url, headers=headers)\n",
    "\n",
    "    member_committies_name = []\n",
    "    member_committies_code = []\n",
    "    member_committies_begin_date = []\n",
    "    member_committies_end_date = []\n",
    "\n",
    "    member_subcommitties_name = []\n",
    "    member_subcommitties_code = []\n",
    "    member_subcommitties_begin_date = []\n",
    "    member_subcommitties_end_date = []\n",
    "    member_subcommittee_parent_id = []\n",
    "    member_roles = r.json()['results'][0]['roles']\n",
    "    for role in member_roles:\n",
    "        if role['congress'] == '116':\n",
    "            for committee in role['committees']:\n",
    "                member_committies_name.append(committee['name'])\n",
    "                member_committies_code.append(committee['code'])\n",
    "                member_committies_begin_date.append(committee['begin_date'])\n",
    "                member_committies_end_date.append(committee['end_date'])\n",
    "\n",
    "            for subcommittee in role['subcommittees']:\n",
    "                member_subcommitties_name.append(subcommittee['name'])\n",
    "                member_subcommitties_code.append(subcommittee['code'])\n",
    "                member_subcommitties_begin_date.append(subcommittee['begin_date'])\n",
    "                member_subcommitties_end_date.append(subcommittee['end_date'])\n",
    "                member_subcommittee_parent_id.append(subcommittee['parent_committee_id'])\n",
    "\n",
    "    member_committies=pd.DataFrame({'name': member_committies_name,\n",
    "                                    'code': member_committies_code,\n",
    "                                    'begin_date': member_committies_begin_date,\n",
    "                                    'end_date': member_committies_end_date})\n",
    "\n",
    "    member_subcommitties = pd.DataFrame({'name': member_subcommitties_name,\n",
    "                                         'code': member_subcommitties_code,\n",
    "                                         'begin_date': member_subcommitties_begin_date,\n",
    "                                         'end_date': member_subcommitties_end_date,\n",
    "                                         'parent_committee_id': member_subcommittee_parent_id})\n",
    "    member_committies['member_id'] = member_id\n",
    "    member_subcommitties['member_id'] = member_id\n",
    "    committee_df.append(member_committies)\n",
    "    subcommittee_df.append(member_subcommitties)\n",
    "\n",
    "committee_df = pd.concat(committee_df)\n",
    "subcommittee_df = pd.concat(subcommittee_df)\n",
    "\n",
    "committee_df.to_csv('committee_assignments_116.csv',index=False)\n",
    "subcommittee_df.to_csv('subcommittee_assignments_116.csv',index=False)"
   ],
   "metadata": {
    "collapsed": false,
    "ExecuteTime": {
     "end_time": "2023-10-24T00:01:22.814902Z",
     "start_time": "2023-10-23T23:52:35.694784Z"
    }
   },
   "id": "58c25f2eb4a2df95"
  },
  {
   "cell_type": "code",
   "execution_count": null,
   "outputs": [],
   "source": [],
   "metadata": {
    "collapsed": false
   },
   "id": "1471cb54e493efb4"
  }
 ],
 "metadata": {
  "kernelspec": {
   "display_name": "Python 3",
   "language": "python",
   "name": "python3"
  },
  "language_info": {
   "codemirror_mode": {
    "name": "ipython",
    "version": 2
   },
   "file_extension": ".py",
   "mimetype": "text/x-python",
   "name": "python",
   "nbconvert_exporter": "python",
   "pygments_lexer": "ipython2",
   "version": "2.7.6"
  }
 },
 "nbformat": 4,
 "nbformat_minor": 5
}
