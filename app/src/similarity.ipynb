{
 "cells": [
  {
   "cell_type": "code",
   "execution_count": 122,
   "id": "initial_id",
   "metadata": {
    "collapsed": true,
    "ExecuteTime": {
     "end_time": "2023-12-09T09:05:09.613403Z",
     "start_time": "2023-12-09T09:05:09.608203Z"
    }
   },
   "outputs": [],
   "source": [
    "import pandas as pd\n",
    "import ast\n",
    "import re\n",
    "import warnings\n",
    "warnings.filterwarnings('ignore')\n",
    "import numpy as np\n",
    "from sklearn.metrics.pairwise import cosine_similarity"
   ]
  },
  {
   "cell_type": "markdown",
   "source": [],
   "metadata": {
    "collapsed": false
   },
   "id": "a6e21b6e3dd9a014"
  },
  {
   "cell_type": "code",
   "execution_count": 123,
   "outputs": [],
   "source": [
    "def clean_array_string(array_string):\n",
    "    # Replace newlines and multiple spaces with a single space\n",
    "    cleaned_string = re.sub(r'\\s+', ' ', array_string)\n",
    "    # Add a comma after each number except the last one\n",
    "    cleaned_string_with_commas = re.sub(r'([-\\d.e]+)(?=\\s)', r'\\1,', cleaned_string)\n",
    "    return cleaned_string_with_commas\n"
   ],
   "metadata": {
    "collapsed": false,
    "ExecuteTime": {
     "end_time": "2023-12-09T09:05:10.131884Z",
     "start_time": "2023-12-09T09:05:10.128454Z"
    }
   },
   "id": "c4ce179e6721645b"
  },
  {
   "cell_type": "code",
   "execution_count": 124,
   "outputs": [],
   "source": [
    "\n",
    "politician_selection = 'Sen. David Perdue'\n"
   ],
   "metadata": {
    "collapsed": false,
    "ExecuteTime": {
     "end_time": "2023-12-09T09:05:10.393736Z",
     "start_time": "2023-12-09T09:05:10.389374Z"
    }
   },
   "id": "9865ccc7eda619c5"
  },
  {
   "cell_type": "code",
   "execution_count": 125,
   "outputs": [
    {
     "data": {
      "text/plain": "       Unnamed: 0       display_name   string_name combined_transaction_date  \\\n7589         7589  Sen. David Perdue  david perdue                2020-11-04   \n7957         7957  Sen. David Perdue  david perdue                2020-04-16   \n7958         7958  Sen. David Perdue  david perdue                2020-04-16   \n7959         7959  Sen. David Perdue  david perdue                2020-04-16   \n7960         7960  Sen. David Perdue  david perdue                2020-04-14   \n...           ...                ...           ...                       ...   \n13361       13361  Sen. David Perdue  david perdue                2015-05-13   \n13362       13362  Sen. David Perdue  david perdue                2015-05-14   \n13363       13363  Sen. David Perdue  david perdue                2015-05-14   \n13364       13364  Sen. David Perdue  david perdue                2015-05-15   \n13365       13365  Sen. David Perdue  david perdue                2015-05-29   \n\n      disclosure_date ticker  \\\n7589       11/04/2020    NaN   \n7957       05/08/2020    DOW   \n7958       05/08/2020    EEM   \n7959       05/08/2020    IDV   \n7960       05/08/2020     DD   \n...               ...    ...   \n13361      06/04/2015  DISCA   \n13362      06/04/2015  DISCA   \n13363      06/04/2015    TAP   \n13364      06/04/2015   AXLL   \n13365      06/04/2015  DISCA   \n\n                                       asset_description         type  \\\n7589   This filing was disclosed via scanned PDF. Use...          NaN   \n7957                                            Dow Inc.  Sale (Full)   \n7958   iShares MSCI Emerging Markets ETF <div class=\"...  Sale (Full)   \n7959   iShares International Select Dividend ETF <div...  Sale (Full)   \n7960                             DuPont de Nemours, Inc.  Sale (Full)   \n...                                                  ...          ...   \n13361            Discovery Communications, Inc. (NASDAQ)     Purchase   \n13362            Discovery Communications, Inc. (NASDAQ)     Purchase   \n13363                Molson Coors Brewing Company (NYSE)  Sale (Full)   \n13364                          Axiall Corporation (NYSE)     Purchase   \n13365            Discovery Communications, Inc. (NASDAQ)     Purchase   \n\n                   amount                             industry  ...  \\\n7589              Unknown                                  NaN  ...   \n7957     $1,001 - $15,000                                  NaN  ...   \n7958     $1,001 - $15,000                                  NaN  ...   \n7959     $1,001 - $15,000                                  NaN  ...   \n7960   $50,001 - $100,000                                  NaN  ...   \n...                   ...                                  ...  ...   \n13361    $1,001 - $15,000                  Television Services  ...   \n13362    $1,001 - $15,000                  Television Services  ...   \n13363    $1,001 - $15,000  Beverages (Production/Distribution)  ...   \n13364    $1,001 - $15,000                                  NaN  ...   \n13365    $1,001 - $15,000                  Television Services  ...   \n\n                                                ptr_link amount_formatted  \\\n7589   https://efdsearch.senate.gov/search/view/ptr/a...              NaN   \n7957   https://efdsearch.senate.gov/search/view/ptr/b...           1000.0   \n7958   https://efdsearch.senate.gov/search/view/ptr/b...           1000.0   \n7959   https://efdsearch.senate.gov/search/view/ptr/b...           1000.0   \n7960   https://efdsearch.senate.gov/search/view/ptr/b...          50000.0   \n...                                                  ...              ...   \n13361  https://efdsearch.senate.gov/search/view/ptr/1...           1000.0   \n13362  https://efdsearch.senate.gov/search/view/ptr/1...           1000.0   \n13363  https://efdsearch.senate.gov/search/view/ptr/1...           1000.0   \n13364  https://efdsearch.senate.gov/search/view/ptr/1...           1000.0   \n13365  https://efdsearch.senate.gov/search/view/ptr/1...           1000.0   \n\n      member_id                                  uuid congress  \\\n7589    P000612  d55dc2ee-29d4-4f37-b6ec-e7bbc25c51b1      116   \n7957    P000612  56f4ac7e-0f49-4a93-886b-92ac1aa63185      116   \n7958    P000612  c115a643-44de-4f5f-b405-ae08a38c8eeb      116   \n7959    P000612  c6721264-2710-44a8-8e4e-02b311b8c04b      116   \n7960    P000612  e98153dc-4ead-4720-9ae8-e706c285c644      116   \n...         ...                                   ...      ...   \n13361   P000612  4359e9f1-bd19-4815-b083-cac1e01bdd7c      116   \n13362   P000612  7b1372e4-7157-4a48-a93e-9120c1343718      116   \n13363   P000612  ec28f9af-2e47-4611-b9fa-6be2635390ba      116   \n13364   P000612  88bfbbf4-fd08-46f5-8724-13796be1bb7e      116   \n13365   P000612  dd547e6b-1d21-45a6-a843-79bbe7452545      116   \n\n                                    industry_description  \\\n7589                     Not applicable or not available   \n7957                     Not applicable or not available   \n7958                     Not applicable or not available   \n7959                     Not applicable or not available   \n7960                     Not applicable or not available   \n...                                                  ...   \n13361  Companies providing television services and re...   \n13362  Companies providing television services and re...   \n13363  Companies engaged in the production and distri...   \n13364                    Not applicable or not available   \n13365  Companies providing television services and re...   \n\n                                      sector_description  \\\n7589                                                 NaN   \n7957                                                 NaN   \n7958                                                 NaN   \n7959                                                 NaN   \n7960                                                 NaN   \n...                                                  ...   \n13361  The Consumer Services sector includes business...   \n13362  The Consumer Services sector includes business...   \n13363  The Consumer Non-Durables sector encompasses c...   \n13364                                                NaN   \n13365  The Consumer Services sector includes business...   \n\n                                           string_object  \\\n7589   this filing was disclosed via scanned pdf. use...   \n7957   dow inc. [SEP] dow [SEP] not applicable or not...   \n7958   ishares msci emerging markets etf <div class=\"...   \n7959   ishares international select dividend etf <div...   \n7960   dupont de nemours, inc. [SEP] dd [SEP] not app...   \n...                                                  ...   \n13361  discovery communications, inc. (nasdaq) [SEP] ...   \n13362  discovery communications, inc. (nasdaq) [SEP] ...   \n13363  molson coors brewing company (nyse) [SEP] tap ...   \n13364  axiall corporation (nyse) [SEP] axll [SEP] not...   \n13365  discovery communications, inc. (nasdaq) [SEP] ...   \n\n                                               embedding transaction_date  \n7589   [-1.42796878e-02 -1.07458733e-01  2.85561293e-...       2020-11-04  \n7957   [-3.78000401e-02  3.04723065e-02 -6.46337271e-...       2020-04-16  \n7958   [ 3.49410325e-02 -8.48345682e-02  3.20679456e-...       2020-04-16  \n7959   [ 1.38572395e-01 -7.44563788e-02  2.55563825e-...       2020-04-16  \n7960   [-5.74763166e-03  3.64099331e-02 -9.31705609e-...       2020-04-14  \n...                                                  ...              ...  \n13361  [ 1.74970970e-01  3.68919939e-01  4.37433366e-...       2015-05-13  \n13362  [ 1.74970970e-01  3.68919939e-01  4.37433366e-...       2015-05-14  \n13363  [-2.90675219e-02  3.76925081e-01 -3.04134432e-...       2015-05-14  \n13364  [-1.34592324e-01 -7.65495002e-02 -5.60823688e-...       2015-05-15  \n13365  [ 1.74970970e-01  3.68919939e-01  4.37433366e-...       2015-05-29  \n\n[2286 rows x 22 columns]",
      "text/html": "<div>\n<style scoped>\n    .dataframe tbody tr th:only-of-type {\n        vertical-align: middle;\n    }\n\n    .dataframe tbody tr th {\n        vertical-align: top;\n    }\n\n    .dataframe thead th {\n        text-align: right;\n    }\n</style>\n<table border=\"1\" class=\"dataframe\">\n  <thead>\n    <tr style=\"text-align: right;\">\n      <th></th>\n      <th>Unnamed: 0</th>\n      <th>display_name</th>\n      <th>string_name</th>\n      <th>combined_transaction_date</th>\n      <th>disclosure_date</th>\n      <th>ticker</th>\n      <th>asset_description</th>\n      <th>type</th>\n      <th>amount</th>\n      <th>industry</th>\n      <th>...</th>\n      <th>ptr_link</th>\n      <th>amount_formatted</th>\n      <th>member_id</th>\n      <th>uuid</th>\n      <th>congress</th>\n      <th>industry_description</th>\n      <th>sector_description</th>\n      <th>string_object</th>\n      <th>embedding</th>\n      <th>transaction_date</th>\n    </tr>\n  </thead>\n  <tbody>\n    <tr>\n      <th>7589</th>\n      <td>7589</td>\n      <td>Sen. David Perdue</td>\n      <td>david perdue</td>\n      <td>2020-11-04</td>\n      <td>11/04/2020</td>\n      <td>NaN</td>\n      <td>This filing was disclosed via scanned PDF. Use...</td>\n      <td>NaN</td>\n      <td>Unknown</td>\n      <td>NaN</td>\n      <td>...</td>\n      <td>https://efdsearch.senate.gov/search/view/ptr/a...</td>\n      <td>NaN</td>\n      <td>P000612</td>\n      <td>d55dc2ee-29d4-4f37-b6ec-e7bbc25c51b1</td>\n      <td>116</td>\n      <td>Not applicable or not available</td>\n      <td>NaN</td>\n      <td>this filing was disclosed via scanned pdf. use...</td>\n      <td>[-1.42796878e-02 -1.07458733e-01  2.85561293e-...</td>\n      <td>2020-11-04</td>\n    </tr>\n    <tr>\n      <th>7957</th>\n      <td>7957</td>\n      <td>Sen. David Perdue</td>\n      <td>david perdue</td>\n      <td>2020-04-16</td>\n      <td>05/08/2020</td>\n      <td>DOW</td>\n      <td>Dow Inc.</td>\n      <td>Sale (Full)</td>\n      <td>$1,001 - $15,000</td>\n      <td>NaN</td>\n      <td>...</td>\n      <td>https://efdsearch.senate.gov/search/view/ptr/b...</td>\n      <td>1000.0</td>\n      <td>P000612</td>\n      <td>56f4ac7e-0f49-4a93-886b-92ac1aa63185</td>\n      <td>116</td>\n      <td>Not applicable or not available</td>\n      <td>NaN</td>\n      <td>dow inc. [SEP] dow [SEP] not applicable or not...</td>\n      <td>[-3.78000401e-02  3.04723065e-02 -6.46337271e-...</td>\n      <td>2020-04-16</td>\n    </tr>\n    <tr>\n      <th>7958</th>\n      <td>7958</td>\n      <td>Sen. David Perdue</td>\n      <td>david perdue</td>\n      <td>2020-04-16</td>\n      <td>05/08/2020</td>\n      <td>EEM</td>\n      <td>iShares MSCI Emerging Markets ETF &lt;div class=\"...</td>\n      <td>Sale (Full)</td>\n      <td>$1,001 - $15,000</td>\n      <td>NaN</td>\n      <td>...</td>\n      <td>https://efdsearch.senate.gov/search/view/ptr/b...</td>\n      <td>1000.0</td>\n      <td>P000612</td>\n      <td>c115a643-44de-4f5f-b405-ae08a38c8eeb</td>\n      <td>116</td>\n      <td>Not applicable or not available</td>\n      <td>NaN</td>\n      <td>ishares msci emerging markets etf &lt;div class=\"...</td>\n      <td>[ 3.49410325e-02 -8.48345682e-02  3.20679456e-...</td>\n      <td>2020-04-16</td>\n    </tr>\n    <tr>\n      <th>7959</th>\n      <td>7959</td>\n      <td>Sen. David Perdue</td>\n      <td>david perdue</td>\n      <td>2020-04-16</td>\n      <td>05/08/2020</td>\n      <td>IDV</td>\n      <td>iShares International Select Dividend ETF &lt;div...</td>\n      <td>Sale (Full)</td>\n      <td>$1,001 - $15,000</td>\n      <td>NaN</td>\n      <td>...</td>\n      <td>https://efdsearch.senate.gov/search/view/ptr/b...</td>\n      <td>1000.0</td>\n      <td>P000612</td>\n      <td>c6721264-2710-44a8-8e4e-02b311b8c04b</td>\n      <td>116</td>\n      <td>Not applicable or not available</td>\n      <td>NaN</td>\n      <td>ishares international select dividend etf &lt;div...</td>\n      <td>[ 1.38572395e-01 -7.44563788e-02  2.55563825e-...</td>\n      <td>2020-04-16</td>\n    </tr>\n    <tr>\n      <th>7960</th>\n      <td>7960</td>\n      <td>Sen. David Perdue</td>\n      <td>david perdue</td>\n      <td>2020-04-14</td>\n      <td>05/08/2020</td>\n      <td>DD</td>\n      <td>DuPont de Nemours, Inc.</td>\n      <td>Sale (Full)</td>\n      <td>$50,001 - $100,000</td>\n      <td>NaN</td>\n      <td>...</td>\n      <td>https://efdsearch.senate.gov/search/view/ptr/b...</td>\n      <td>50000.0</td>\n      <td>P000612</td>\n      <td>e98153dc-4ead-4720-9ae8-e706c285c644</td>\n      <td>116</td>\n      <td>Not applicable or not available</td>\n      <td>NaN</td>\n      <td>dupont de nemours, inc. [SEP] dd [SEP] not app...</td>\n      <td>[-5.74763166e-03  3.64099331e-02 -9.31705609e-...</td>\n      <td>2020-04-14</td>\n    </tr>\n    <tr>\n      <th>...</th>\n      <td>...</td>\n      <td>...</td>\n      <td>...</td>\n      <td>...</td>\n      <td>...</td>\n      <td>...</td>\n      <td>...</td>\n      <td>...</td>\n      <td>...</td>\n      <td>...</td>\n      <td>...</td>\n      <td>...</td>\n      <td>...</td>\n      <td>...</td>\n      <td>...</td>\n      <td>...</td>\n      <td>...</td>\n      <td>...</td>\n      <td>...</td>\n      <td>...</td>\n      <td>...</td>\n    </tr>\n    <tr>\n      <th>13361</th>\n      <td>13361</td>\n      <td>Sen. David Perdue</td>\n      <td>david perdue</td>\n      <td>2015-05-13</td>\n      <td>06/04/2015</td>\n      <td>DISCA</td>\n      <td>Discovery Communications, Inc. (NASDAQ)</td>\n      <td>Purchase</td>\n      <td>$1,001 - $15,000</td>\n      <td>Television Services</td>\n      <td>...</td>\n      <td>https://efdsearch.senate.gov/search/view/ptr/1...</td>\n      <td>1000.0</td>\n      <td>P000612</td>\n      <td>4359e9f1-bd19-4815-b083-cac1e01bdd7c</td>\n      <td>116</td>\n      <td>Companies providing television services and re...</td>\n      <td>The Consumer Services sector includes business...</td>\n      <td>discovery communications, inc. (nasdaq) [SEP] ...</td>\n      <td>[ 1.74970970e-01  3.68919939e-01  4.37433366e-...</td>\n      <td>2015-05-13</td>\n    </tr>\n    <tr>\n      <th>13362</th>\n      <td>13362</td>\n      <td>Sen. David Perdue</td>\n      <td>david perdue</td>\n      <td>2015-05-14</td>\n      <td>06/04/2015</td>\n      <td>DISCA</td>\n      <td>Discovery Communications, Inc. (NASDAQ)</td>\n      <td>Purchase</td>\n      <td>$1,001 - $15,000</td>\n      <td>Television Services</td>\n      <td>...</td>\n      <td>https://efdsearch.senate.gov/search/view/ptr/1...</td>\n      <td>1000.0</td>\n      <td>P000612</td>\n      <td>7b1372e4-7157-4a48-a93e-9120c1343718</td>\n      <td>116</td>\n      <td>Companies providing television services and re...</td>\n      <td>The Consumer Services sector includes business...</td>\n      <td>discovery communications, inc. (nasdaq) [SEP] ...</td>\n      <td>[ 1.74970970e-01  3.68919939e-01  4.37433366e-...</td>\n      <td>2015-05-14</td>\n    </tr>\n    <tr>\n      <th>13363</th>\n      <td>13363</td>\n      <td>Sen. David Perdue</td>\n      <td>david perdue</td>\n      <td>2015-05-14</td>\n      <td>06/04/2015</td>\n      <td>TAP</td>\n      <td>Molson Coors Brewing Company (NYSE)</td>\n      <td>Sale (Full)</td>\n      <td>$1,001 - $15,000</td>\n      <td>Beverages (Production/Distribution)</td>\n      <td>...</td>\n      <td>https://efdsearch.senate.gov/search/view/ptr/1...</td>\n      <td>1000.0</td>\n      <td>P000612</td>\n      <td>ec28f9af-2e47-4611-b9fa-6be2635390ba</td>\n      <td>116</td>\n      <td>Companies engaged in the production and distri...</td>\n      <td>The Consumer Non-Durables sector encompasses c...</td>\n      <td>molson coors brewing company (nyse) [SEP] tap ...</td>\n      <td>[-2.90675219e-02  3.76925081e-01 -3.04134432e-...</td>\n      <td>2015-05-14</td>\n    </tr>\n    <tr>\n      <th>13364</th>\n      <td>13364</td>\n      <td>Sen. David Perdue</td>\n      <td>david perdue</td>\n      <td>2015-05-15</td>\n      <td>06/04/2015</td>\n      <td>AXLL</td>\n      <td>Axiall Corporation (NYSE)</td>\n      <td>Purchase</td>\n      <td>$1,001 - $15,000</td>\n      <td>NaN</td>\n      <td>...</td>\n      <td>https://efdsearch.senate.gov/search/view/ptr/1...</td>\n      <td>1000.0</td>\n      <td>P000612</td>\n      <td>88bfbbf4-fd08-46f5-8724-13796be1bb7e</td>\n      <td>116</td>\n      <td>Not applicable or not available</td>\n      <td>NaN</td>\n      <td>axiall corporation (nyse) [SEP] axll [SEP] not...</td>\n      <td>[-1.34592324e-01 -7.65495002e-02 -5.60823688e-...</td>\n      <td>2015-05-15</td>\n    </tr>\n    <tr>\n      <th>13365</th>\n      <td>13365</td>\n      <td>Sen. David Perdue</td>\n      <td>david perdue</td>\n      <td>2015-05-29</td>\n      <td>06/04/2015</td>\n      <td>DISCA</td>\n      <td>Discovery Communications, Inc. (NASDAQ)</td>\n      <td>Purchase</td>\n      <td>$1,001 - $15,000</td>\n      <td>Television Services</td>\n      <td>...</td>\n      <td>https://efdsearch.senate.gov/search/view/ptr/1...</td>\n      <td>1000.0</td>\n      <td>P000612</td>\n      <td>dd547e6b-1d21-45a6-a843-79bbe7452545</td>\n      <td>116</td>\n      <td>Companies providing television services and re...</td>\n      <td>The Consumer Services sector includes business...</td>\n      <td>discovery communications, inc. (nasdaq) [SEP] ...</td>\n      <td>[ 1.74970970e-01  3.68919939e-01  4.37433366e-...</td>\n      <td>2015-05-29</td>\n    </tr>\n  </tbody>\n</table>\n<p>2286 rows × 22 columns</p>\n</div>"
     },
     "execution_count": 125,
     "metadata": {},
     "output_type": "execute_result"
    }
   ],
   "source": [
    "transactions = pd.read_csv('final_data/transactions_final.csv')\n",
    "committee_assignments = pd.read_csv('final_data/committee_assignments_final.csv')\n",
    "subcommittee_assignments = pd.read_csv('final_data/subcommittee_assignments_final.csv')\n",
    "transactions['transaction_date'] = pd.to_datetime(transactions['combined_transaction_date'])\n",
    "transactions[transactions['display_name'] == politician_selection]"
   ],
   "metadata": {
    "collapsed": false,
    "ExecuteTime": {
     "end_time": "2023-12-09T09:05:13.729151Z",
     "start_time": "2023-12-09T09:05:10.679814Z"
    }
   },
   "id": "cd916bc43ff61274"
  },
  {
   "cell_type": "code",
   "execution_count": 126,
   "outputs": [
    {
     "data": {
      "text/plain": "768"
     },
     "execution_count": 126,
     "metadata": {},
     "output_type": "execute_result"
    }
   ],
   "source": [
    "transaction_of_interest = 'b3d55c8a-8136-46b9-b9c8-72cbbd550b82'\n",
    "transaction_date = '2020-02-27'\n",
    "transaction_embedding = transactions[transactions['uuid'] == transaction_of_interest]['embedding'].values[0]\n",
    "transaction_embedding = ast.literal_eval(clean_array_string(transaction_embedding))\n",
    "len(transaction_embedding)"
   ],
   "metadata": {
    "collapsed": false,
    "ExecuteTime": {
     "end_time": "2023-12-09T09:05:13.741355Z",
     "start_time": "2023-12-09T09:05:13.737049Z"
    }
   },
   "id": "3b3030718d39582"
  },
  {
   "cell_type": "code",
   "execution_count": 127,
   "outputs": [],
   "source": [
    "politician_id = transactions[transactions['display_name'] == politician_selection]['member_id'].values[0]\n",
    "politician_congress = transactions[transactions['display_name'] == politician_selection]['congress'].values[0]"
   ],
   "metadata": {
    "collapsed": false,
    "ExecuteTime": {
     "end_time": "2023-12-09T09:05:13.749183Z",
     "start_time": "2023-12-09T09:05:13.743304Z"
    }
   },
   "id": "63bf312080fdfc0d"
  },
  {
   "cell_type": "code",
   "execution_count": 128,
   "outputs": [],
   "source": [
    "\"\"\"filter committee and subcommittee assignments by politician and congress\"\"\"\n",
    "\n",
    "politician_committees = committee_assignments[(committee_assignments['member_id'] == politician_id) & (committee_assignments['congress'] == politician_congress)]\n",
    "politician_committees['clean_embeddings'] = politician_committees['embedding'].apply(lambda x: ast.literal_eval(clean_array_string(x)))\n",
    "\n",
    "politician_subcommittees = subcommittee_assignments[(subcommittee_assignments['member_id'] == politician_id) & (subcommittee_assignments['congress'] == politician_congress)]\n",
    "politician_subcommittees['clean_embeddings'] = politician_subcommittees['embedding'].apply(lambda x: ast.literal_eval(clean_array_string(x)))"
   ],
   "metadata": {
    "collapsed": false,
    "ExecuteTime": {
     "end_time": "2023-12-09T09:05:13.804134Z",
     "start_time": "2023-12-09T09:05:13.768035Z"
    }
   },
   "id": "ba6ecf847ae6e472"
  },
  {
   "cell_type": "code",
   "execution_count": 129,
   "outputs": [
    {
     "data": {
      "text/plain": "     Unnamed: 0.1  Unnamed: 0 member_id   member_name member_begin_date  \\\n7               7           7   P000612  David Perdue        2019-01-09   \n42             42          42   P000612  David Perdue        2019-01-09   \n55             55          55   P000612  David Perdue        2019-01-09   \n188           188         188   P000612  David Perdue        2019-01-09   \n238           238         238   P000612  David Perdue               NaN   \n\n     congress chamber committee_id  \\\n7         116  senate         SSAF   \n42        116  senate         SSAS   \n55        116  senate         SSBK   \n188       116  senate         SSBU   \n238       116  senate         SCNC   \n\n                                        committee_name  \\\n7    Committee on Agriculture, Nutrition, and Forestry   \n42                         Committee on Armed Services   \n55    Committee on Banking, Housing, and Urban Affairs   \n188                            Committee on the Budget   \n238  United States Caucus on International Narcotic...   \n\n                                 committee_description  \\\n7    The Committee on Agriculture, Nutrition, and F...   \n42   The House Committee on Armed Services and its ...   \n55   The Committee on Banking, Housing, and Urban A...   \n188  The Committee on the Budget is a standing comm...   \n238  The United States Caucus on International Narc...   \n\n                                         string_object  \\\n7    david perdue[SEP] committee on agriculture, nu...   \n42   david perdue[SEP] committee on armed services[...   \n55   david perdue[SEP] committee on banking, housin...   \n188  david perdue[SEP] committee on the budget[SEP]...   \n238  david perdue[SEP] united states caucus on inte...   \n\n                                     uuid  \\\n7    b3547b8a-ab95-46a3-a07d-b9537de11bd3   \n42   4e0b8595-2e8f-4e8b-87e2-a593745627e6   \n55   e4c39681-07de-4962-84f3-30dae1b5c84f   \n188  dbdd9f84-6c0f-4c8b-8596-6a64f0087c0e   \n238  c9625c11-c4d8-46e7-b43e-8cac026b80a4   \n\n                                             embedding  \\\n7    [-2.38100842e-01  2.23639682e-01 -1.72280565e-...   \n42   [-2.59135038e-01  6.47039339e-02 -2.49970615e-...   \n55   [-2.11296827e-01  1.85890391e-01  3.66631523e-...   \n188  [-3.90885115e-01  9.82047096e-02 -1.15585916e-...   \n238  [-3.59756529e-01 -9.09578335e-03 -1.59447998e-...   \n\n                                      clean_embeddings  similarity  \n7    [-0.238100842, 0.223639682, -0.172280565, -0.0...    0.636740  \n42   [-0.259135038, 0.0647039339, -0.249970615, -0....    0.656170  \n55   [-0.211296827, 0.185890391, 0.0366631523, -0.0...    0.678430  \n188  [-0.390885115, 0.0982047096, -0.115585916, 0.0...    0.630425  \n238  [-0.359756529, -0.00909578335, -0.159447998, -...    0.652716  ",
      "text/html": "<div>\n<style scoped>\n    .dataframe tbody tr th:only-of-type {\n        vertical-align: middle;\n    }\n\n    .dataframe tbody tr th {\n        vertical-align: top;\n    }\n\n    .dataframe thead th {\n        text-align: right;\n    }\n</style>\n<table border=\"1\" class=\"dataframe\">\n  <thead>\n    <tr style=\"text-align: right;\">\n      <th></th>\n      <th>Unnamed: 0.1</th>\n      <th>Unnamed: 0</th>\n      <th>member_id</th>\n      <th>member_name</th>\n      <th>member_begin_date</th>\n      <th>congress</th>\n      <th>chamber</th>\n      <th>committee_id</th>\n      <th>committee_name</th>\n      <th>committee_description</th>\n      <th>string_object</th>\n      <th>uuid</th>\n      <th>embedding</th>\n      <th>clean_embeddings</th>\n      <th>similarity</th>\n    </tr>\n  </thead>\n  <tbody>\n    <tr>\n      <th>7</th>\n      <td>7</td>\n      <td>7</td>\n      <td>P000612</td>\n      <td>David Perdue</td>\n      <td>2019-01-09</td>\n      <td>116</td>\n      <td>senate</td>\n      <td>SSAF</td>\n      <td>Committee on Agriculture, Nutrition, and Forestry</td>\n      <td>The Committee on Agriculture, Nutrition, and F...</td>\n      <td>david perdue[SEP] committee on agriculture, nu...</td>\n      <td>b3547b8a-ab95-46a3-a07d-b9537de11bd3</td>\n      <td>[-2.38100842e-01  2.23639682e-01 -1.72280565e-...</td>\n      <td>[-0.238100842, 0.223639682, -0.172280565, -0.0...</td>\n      <td>0.636740</td>\n    </tr>\n    <tr>\n      <th>42</th>\n      <td>42</td>\n      <td>42</td>\n      <td>P000612</td>\n      <td>David Perdue</td>\n      <td>2019-01-09</td>\n      <td>116</td>\n      <td>senate</td>\n      <td>SSAS</td>\n      <td>Committee on Armed Services</td>\n      <td>The House Committee on Armed Services and its ...</td>\n      <td>david perdue[SEP] committee on armed services[...</td>\n      <td>4e0b8595-2e8f-4e8b-87e2-a593745627e6</td>\n      <td>[-2.59135038e-01  6.47039339e-02 -2.49970615e-...</td>\n      <td>[-0.259135038, 0.0647039339, -0.249970615, -0....</td>\n      <td>0.656170</td>\n    </tr>\n    <tr>\n      <th>55</th>\n      <td>55</td>\n      <td>55</td>\n      <td>P000612</td>\n      <td>David Perdue</td>\n      <td>2019-01-09</td>\n      <td>116</td>\n      <td>senate</td>\n      <td>SSBK</td>\n      <td>Committee on Banking, Housing, and Urban Affairs</td>\n      <td>The Committee on Banking, Housing, and Urban A...</td>\n      <td>david perdue[SEP] committee on banking, housin...</td>\n      <td>e4c39681-07de-4962-84f3-30dae1b5c84f</td>\n      <td>[-2.11296827e-01  1.85890391e-01  3.66631523e-...</td>\n      <td>[-0.211296827, 0.185890391, 0.0366631523, -0.0...</td>\n      <td>0.678430</td>\n    </tr>\n    <tr>\n      <th>188</th>\n      <td>188</td>\n      <td>188</td>\n      <td>P000612</td>\n      <td>David Perdue</td>\n      <td>2019-01-09</td>\n      <td>116</td>\n      <td>senate</td>\n      <td>SSBU</td>\n      <td>Committee on the Budget</td>\n      <td>The Committee on the Budget is a standing comm...</td>\n      <td>david perdue[SEP] committee on the budget[SEP]...</td>\n      <td>dbdd9f84-6c0f-4c8b-8596-6a64f0087c0e</td>\n      <td>[-3.90885115e-01  9.82047096e-02 -1.15585916e-...</td>\n      <td>[-0.390885115, 0.0982047096, -0.115585916, 0.0...</td>\n      <td>0.630425</td>\n    </tr>\n    <tr>\n      <th>238</th>\n      <td>238</td>\n      <td>238</td>\n      <td>P000612</td>\n      <td>David Perdue</td>\n      <td>NaN</td>\n      <td>116</td>\n      <td>senate</td>\n      <td>SCNC</td>\n      <td>United States Caucus on International Narcotic...</td>\n      <td>The United States Caucus on International Narc...</td>\n      <td>david perdue[SEP] united states caucus on inte...</td>\n      <td>c9625c11-c4d8-46e7-b43e-8cac026b80a4</td>\n      <td>[-3.59756529e-01 -9.09578335e-03 -1.59447998e-...</td>\n      <td>[-0.359756529, -0.00909578335, -0.159447998, -...</td>\n      <td>0.652716</td>\n    </tr>\n  </tbody>\n</table>\n</div>"
     },
     "execution_count": 129,
     "metadata": {},
     "output_type": "execute_result"
    }
   ],
   "source": [
    "\n",
    "\"\"\"Get cosine similarity for each committee\"\"\"\n",
    "committee_hearings_emb_matrix = np.vstack(politician_committees['clean_embeddings'].values)\n",
    "transaction_emb_matrix = np.array(transaction_embedding).reshape(1,-1)\n",
    "politician_committees['similarity'] = cosine_similarity(committee_hearings_emb_matrix,transaction_emb_matrix)\n",
    "politician_committees"
   ],
   "metadata": {
    "collapsed": false,
    "ExecuteTime": {
     "end_time": "2023-12-09T09:05:13.820554Z",
     "start_time": "2023-12-09T09:05:13.800630Z"
    }
   },
   "id": "d976e1b26687e408"
  },
  {
   "cell_type": "code",
   "execution_count": 130,
   "outputs": [
    {
     "data": {
      "text/plain": "     Unnamed: 0.1  Unnamed: 0 member_id   member_name member_begin_date  \\\n9               9           9   P000612  David Perdue               NaN   \n13             13          13   P000612  David Perdue               NaN   \n23             23          23   P000612  David Perdue               NaN   \n173           173         173   P000612  David Perdue               NaN   \n197           197         197   P000612  David Perdue               NaN   \n204           204         204   P000612  David Perdue               NaN   \n216           216         216   P000612  David Perdue        2019-01-18   \n221           221         221   P000612  David Perdue        2019-01-18   \n229           229         229   P000612  David Perdue        2019-01-18   \n\n     congress chamber committee_id subcommittee_id  \\\n9         116  senate         SSAF          SSAF13   \n13        116  senate         SSAF          SSAF14   \n23        116  senate         SSAF          SSAF17   \n173       116  senate         SSAS          SSAS13   \n197       116  senate         SSAS          SSAS15   \n204       116  senate         SSAS          SSAS21   \n216       116  senate         SSBK          SSBK04   \n221       116  senate         SSBK          SSBK09   \n229       116  senate         SSBK          SSBK12   \n\n                                     subcommittee_name parent_committee_id  \\\n9              Commodities, Risk Management, and Trade                SSAF   \n13   Conservation, Climate, Forestry, and Natural R...                SSAF   \n23   Livestock, Dairy, Poultry, Local Food Systems,...                SSAF   \n173                                           Seapower                SSAS   \n197                   Readiness and Management Support                SSAS   \n204                                      Cybersecurity                SSAS   \n216              Securities, Insurance, and Investment                SSBK   \n221  Housing, Transportation, and Community Develop...                SSBK   \n229                                    Economic Policy                SSBK   \n\n                              subcommittee_description  \\\n9    The Commodities, Risk Management, and Trade su...   \n13   The Conservation, Climate, Forestry, and Natur...   \n23   The Livestock, Dairy, Poultry, Local Food Syst...   \n173  The Seapower subcommittee is a part of the Hou...   \n197  The Readiness and Management Support subcommit...   \n204  The Cybersecurity subcommittee is a subcommitt...   \n216  The Securities, Insurance, and Investment Subc...   \n221  The Housing, Transportation, and Community Dev...   \n229  The Economic Policy Subcommittee is a subcommi...   \n\n                                         string_object  \\\n9    David Perdue [SEP]  nan [SEP] The Commodities,...   \n13   David Perdue [SEP]  nan [SEP] The Conservation...   \n23   David Perdue [SEP]  nan [SEP] The Livestock, D...   \n173  David Perdue [SEP]  nan [SEP] The Seapower sub...   \n197  David Perdue [SEP]  nan [SEP] The Readiness an...   \n204  David Perdue [SEP]  nan [SEP] The Cybersecurit...   \n216  David Perdue [SEP]  2019-01-18 [SEP] The Secur...   \n221  David Perdue [SEP]  2019-01-18 [SEP] The Housi...   \n229  David Perdue [SEP]  2019-01-18 [SEP] The Econo...   \n\n                                     uuid  \\\n9    03bc8ddd-43ae-4fce-a7e1-004f9aee5598   \n13   0fe6ffab-b88a-4cc9-aeea-cacded8a45b8   \n23   957b0270-aca2-43fe-b9f1-8f54906958e4   \n173  b6a0b704-9913-495f-9f1d-c0877a9e96af   \n197  41728ba4-6b3b-4223-a250-74647c3b7d9d   \n204  a879ef71-2d13-4a9b-ab1f-a2348b6f7c6c   \n216  4f98cd92-bc17-4fb2-b589-2f58f1c67a79   \n221  edb52215-5194-499d-a5e1-bd854590e743   \n229  5a362ee9-f852-4932-b3f2-1ed0275b283c   \n\n                                             embedding  \\\n9    [-2.15670258e-01 -3.81724648e-02 -5.88180199e-...   \n13   [-3.01194936e-01  1.93707943e-01 -4.04974073e-...   \n23   [-1.13164999e-01  1.39037564e-01 -9.61981155e-...   \n173  [-2.64365107e-01 -1.04906186e-01 -1.80850551e-...   \n197  [-3.82136732e-01  6.76125064e-02 -6.36343062e-...   \n204  [-3.97993237e-01 -3.82100185e-03  1.09654153e-...   \n216  [-2.65492767e-01  4.69140336e-02  5.67980781e-...   \n221  [-3.82826954e-01  6.46189004e-02  6.33963719e-...   \n229  [-3.67562920e-01  4.93770652e-02  9.60456058e-...   \n\n                                      clean_embeddings  similarity  \n9    [-0.215670258, -0.0381724648, -0.0588180199, 0...    0.707618  \n13   [-0.301194936, 0.193707943, -0.0404974073, 0.0...    0.642790  \n23   [-0.113164999, 0.139037564, -0.00961981155, -0...    0.704416  \n173  [-0.264365107, -0.104906186, -0.180850551, -0....    0.642809  \n197  [-0.382136732, 0.0676125064, -0.0636343062, -0...    0.665026  \n204  [-0.397993237, -0.00382100185, 0.0109654153, 0...    0.651212  \n216  [-0.265492767, 0.0469140336, 0.0567980781, -0....    0.696066  \n221  [-0.382826954, 0.0646189004, 0.0633963719, -0....    0.644160  \n229  [-0.36756292, 0.0493770652, 0.0960456058, -0.0...    0.680091  ",
      "text/html": "<div>\n<style scoped>\n    .dataframe tbody tr th:only-of-type {\n        vertical-align: middle;\n    }\n\n    .dataframe tbody tr th {\n        vertical-align: top;\n    }\n\n    .dataframe thead th {\n        text-align: right;\n    }\n</style>\n<table border=\"1\" class=\"dataframe\">\n  <thead>\n    <tr style=\"text-align: right;\">\n      <th></th>\n      <th>Unnamed: 0.1</th>\n      <th>Unnamed: 0</th>\n      <th>member_id</th>\n      <th>member_name</th>\n      <th>member_begin_date</th>\n      <th>congress</th>\n      <th>chamber</th>\n      <th>committee_id</th>\n      <th>subcommittee_id</th>\n      <th>subcommittee_name</th>\n      <th>parent_committee_id</th>\n      <th>subcommittee_description</th>\n      <th>string_object</th>\n      <th>uuid</th>\n      <th>embedding</th>\n      <th>clean_embeddings</th>\n      <th>similarity</th>\n    </tr>\n  </thead>\n  <tbody>\n    <tr>\n      <th>9</th>\n      <td>9</td>\n      <td>9</td>\n      <td>P000612</td>\n      <td>David Perdue</td>\n      <td>NaN</td>\n      <td>116</td>\n      <td>senate</td>\n      <td>SSAF</td>\n      <td>SSAF13</td>\n      <td>Commodities, Risk Management, and Trade</td>\n      <td>SSAF</td>\n      <td>The Commodities, Risk Management, and Trade su...</td>\n      <td>David Perdue [SEP]  nan [SEP] The Commodities,...</td>\n      <td>03bc8ddd-43ae-4fce-a7e1-004f9aee5598</td>\n      <td>[-2.15670258e-01 -3.81724648e-02 -5.88180199e-...</td>\n      <td>[-0.215670258, -0.0381724648, -0.0588180199, 0...</td>\n      <td>0.707618</td>\n    </tr>\n    <tr>\n      <th>13</th>\n      <td>13</td>\n      <td>13</td>\n      <td>P000612</td>\n      <td>David Perdue</td>\n      <td>NaN</td>\n      <td>116</td>\n      <td>senate</td>\n      <td>SSAF</td>\n      <td>SSAF14</td>\n      <td>Conservation, Climate, Forestry, and Natural R...</td>\n      <td>SSAF</td>\n      <td>The Conservation, Climate, Forestry, and Natur...</td>\n      <td>David Perdue [SEP]  nan [SEP] The Conservation...</td>\n      <td>0fe6ffab-b88a-4cc9-aeea-cacded8a45b8</td>\n      <td>[-3.01194936e-01  1.93707943e-01 -4.04974073e-...</td>\n      <td>[-0.301194936, 0.193707943, -0.0404974073, 0.0...</td>\n      <td>0.642790</td>\n    </tr>\n    <tr>\n      <th>23</th>\n      <td>23</td>\n      <td>23</td>\n      <td>P000612</td>\n      <td>David Perdue</td>\n      <td>NaN</td>\n      <td>116</td>\n      <td>senate</td>\n      <td>SSAF</td>\n      <td>SSAF17</td>\n      <td>Livestock, Dairy, Poultry, Local Food Systems,...</td>\n      <td>SSAF</td>\n      <td>The Livestock, Dairy, Poultry, Local Food Syst...</td>\n      <td>David Perdue [SEP]  nan [SEP] The Livestock, D...</td>\n      <td>957b0270-aca2-43fe-b9f1-8f54906958e4</td>\n      <td>[-1.13164999e-01  1.39037564e-01 -9.61981155e-...</td>\n      <td>[-0.113164999, 0.139037564, -0.00961981155, -0...</td>\n      <td>0.704416</td>\n    </tr>\n    <tr>\n      <th>173</th>\n      <td>173</td>\n      <td>173</td>\n      <td>P000612</td>\n      <td>David Perdue</td>\n      <td>NaN</td>\n      <td>116</td>\n      <td>senate</td>\n      <td>SSAS</td>\n      <td>SSAS13</td>\n      <td>Seapower</td>\n      <td>SSAS</td>\n      <td>The Seapower subcommittee is a part of the Hou...</td>\n      <td>David Perdue [SEP]  nan [SEP] The Seapower sub...</td>\n      <td>b6a0b704-9913-495f-9f1d-c0877a9e96af</td>\n      <td>[-2.64365107e-01 -1.04906186e-01 -1.80850551e-...</td>\n      <td>[-0.264365107, -0.104906186, -0.180850551, -0....</td>\n      <td>0.642809</td>\n    </tr>\n    <tr>\n      <th>197</th>\n      <td>197</td>\n      <td>197</td>\n      <td>P000612</td>\n      <td>David Perdue</td>\n      <td>NaN</td>\n      <td>116</td>\n      <td>senate</td>\n      <td>SSAS</td>\n      <td>SSAS15</td>\n      <td>Readiness and Management Support</td>\n      <td>SSAS</td>\n      <td>The Readiness and Management Support subcommit...</td>\n      <td>David Perdue [SEP]  nan [SEP] The Readiness an...</td>\n      <td>41728ba4-6b3b-4223-a250-74647c3b7d9d</td>\n      <td>[-3.82136732e-01  6.76125064e-02 -6.36343062e-...</td>\n      <td>[-0.382136732, 0.0676125064, -0.0636343062, -0...</td>\n      <td>0.665026</td>\n    </tr>\n    <tr>\n      <th>204</th>\n      <td>204</td>\n      <td>204</td>\n      <td>P000612</td>\n      <td>David Perdue</td>\n      <td>NaN</td>\n      <td>116</td>\n      <td>senate</td>\n      <td>SSAS</td>\n      <td>SSAS21</td>\n      <td>Cybersecurity</td>\n      <td>SSAS</td>\n      <td>The Cybersecurity subcommittee is a subcommitt...</td>\n      <td>David Perdue [SEP]  nan [SEP] The Cybersecurit...</td>\n      <td>a879ef71-2d13-4a9b-ab1f-a2348b6f7c6c</td>\n      <td>[-3.97993237e-01 -3.82100185e-03  1.09654153e-...</td>\n      <td>[-0.397993237, -0.00382100185, 0.0109654153, 0...</td>\n      <td>0.651212</td>\n    </tr>\n    <tr>\n      <th>216</th>\n      <td>216</td>\n      <td>216</td>\n      <td>P000612</td>\n      <td>David Perdue</td>\n      <td>2019-01-18</td>\n      <td>116</td>\n      <td>senate</td>\n      <td>SSBK</td>\n      <td>SSBK04</td>\n      <td>Securities, Insurance, and Investment</td>\n      <td>SSBK</td>\n      <td>The Securities, Insurance, and Investment Subc...</td>\n      <td>David Perdue [SEP]  2019-01-18 [SEP] The Secur...</td>\n      <td>4f98cd92-bc17-4fb2-b589-2f58f1c67a79</td>\n      <td>[-2.65492767e-01  4.69140336e-02  5.67980781e-...</td>\n      <td>[-0.265492767, 0.0469140336, 0.0567980781, -0....</td>\n      <td>0.696066</td>\n    </tr>\n    <tr>\n      <th>221</th>\n      <td>221</td>\n      <td>221</td>\n      <td>P000612</td>\n      <td>David Perdue</td>\n      <td>2019-01-18</td>\n      <td>116</td>\n      <td>senate</td>\n      <td>SSBK</td>\n      <td>SSBK09</td>\n      <td>Housing, Transportation, and Community Develop...</td>\n      <td>SSBK</td>\n      <td>The Housing, Transportation, and Community Dev...</td>\n      <td>David Perdue [SEP]  2019-01-18 [SEP] The Housi...</td>\n      <td>edb52215-5194-499d-a5e1-bd854590e743</td>\n      <td>[-3.82826954e-01  6.46189004e-02  6.33963719e-...</td>\n      <td>[-0.382826954, 0.0646189004, 0.0633963719, -0....</td>\n      <td>0.644160</td>\n    </tr>\n    <tr>\n      <th>229</th>\n      <td>229</td>\n      <td>229</td>\n      <td>P000612</td>\n      <td>David Perdue</td>\n      <td>2019-01-18</td>\n      <td>116</td>\n      <td>senate</td>\n      <td>SSBK</td>\n      <td>SSBK12</td>\n      <td>Economic Policy</td>\n      <td>SSBK</td>\n      <td>The Economic Policy Subcommittee is a subcommi...</td>\n      <td>David Perdue [SEP]  2019-01-18 [SEP] The Econo...</td>\n      <td>5a362ee9-f852-4932-b3f2-1ed0275b283c</td>\n      <td>[-3.67562920e-01  4.93770652e-02  9.60456058e-...</td>\n      <td>[-0.36756292, 0.0493770652, 0.0960456058, -0.0...</td>\n      <td>0.680091</td>\n    </tr>\n  </tbody>\n</table>\n</div>"
     },
     "execution_count": 130,
     "metadata": {},
     "output_type": "execute_result"
    }
   ],
   "source": [
    "\"\"\"Get cosine similarity for each subcommittee\"\"\"\n",
    "subcommittee_hearings_emb_matrix = np.vstack(politician_subcommittees['clean_embeddings'].values)\n",
    "transaction_emb_matrix = np.array(transaction_embedding).reshape(1,-1)\n",
    "politician_subcommittees['similarity'] = cosine_similarity(subcommittee_hearings_emb_matrix,transaction_emb_matrix)\n",
    "politician_subcommittees"
   ],
   "metadata": {
    "collapsed": false,
    "ExecuteTime": {
     "end_time": "2023-12-09T09:05:13.864318Z",
     "start_time": "2023-12-09T09:05:13.819933Z"
    }
   },
   "id": "4a122749df6f284c"
  },
  {
   "cell_type": "code",
   "execution_count": 131,
   "outputs": [],
   "source": [
    "bills = pd.read_csv('final_data/bills_final.csv')\n",
    "filtered_bills = bills[bills['member_id'] == politician_id]\n",
    "\n",
    "\"\"\"Get cosine similarity for each bill\"\"\"\n",
    "bill_emb_matrix = np.vstack(filtered_bills['embedding'].apply(lambda x: ast.literal_eval(clean_array_string(x))).values)\n",
    "transaction_emb_matrix = np.array(transaction_embedding).reshape(1,-1)\n",
    "filtered_bills['similarity'] = cosine_similarity(bill_emb_matrix,transaction_emb_matrix)\n"
   ],
   "metadata": {
    "collapsed": false,
    "ExecuteTime": {
     "end_time": "2023-12-09T09:05:16.342232Z",
     "start_time": "2023-12-09T09:05:13.838612Z"
    }
   },
   "id": "f778715d3b7a7544"
  },
  {
   "cell_type": "code",
   "execution_count": 138,
   "outputs": [
    {
     "data": {
      "text/plain": "      Unnamed: 0.1  Unnamed: 0  hearing_congress hearing_chamber  \\\n1239          1239        1239             116.0          senate   \n1240          1240        1240             116.0          senate   \n1241          1241        1241             116.0          senate   \n1242          1242        1242             116.0          senate   \n1243          1243        1243             116.0          senate   \n...            ...         ...               ...             ...   \n1916          1916        1916             116.0          senate   \n1917          1917        1917             116.0          senate   \n1918          1918        1918             116.0          senate   \n2101          2101        2101             116.0          senate   \n2102          2102        2102             116.0          senate   \n\n     hearing_committee_id hearing_date  \\\n1239                 SSAF   2020-12-02   \n1240                 SSAF   2020-06-24   \n1241                 SSAF   2020-03-12   \n1242                 SSAF   2019-11-07   \n1243                 SSAF   2019-10-17   \n...                   ...          ...   \n1916                 SSBU   2019-03-13   \n1917                 SSBU   2019-02-27   \n1918                 SSBU   2019-01-29   \n2101                 SCNC   2019-10-23   \n2102                 SCNC   2019-06-11   \n\n                                    hearing_description  \\\n1239  Hearings to examine agricultural research and ...   \n1240  Business meeting to consider original legislat...   \n1241  Hearings to examine agriculture innovation and...   \n1242  Hearings to examine implementation of the 2018...   \n1243  Hearings to examine implementing the 2018 Farm...   \n...                                                 ...   \n1916  Hearings to examine the President&#39;s propos...   \n1917  Hearings to examine the Budget Control Act, fo...   \n1918  Hearings to examine the Congressional Budget O...   \n2101  Hearings to examine marijuana and America&#39;...   \n2102  Hearings to examine the global narcotics epide...   \n\n                                          string_object  \\\n1239  116.0 [SEP] senate [SEP] hearings to examine a...   \n1240  116.0 [SEP] senate [SEP] business meeting to c...   \n1241  116.0 [SEP] senate [SEP] hearings to examine a...   \n1242  116.0 [SEP] senate [SEP] hearings to examine i...   \n1243  116.0 [SEP] senate [SEP] hearings to examine i...   \n...                                                 ...   \n1916  116.0 [SEP] senate [SEP] hearings to examine t...   \n1917  116.0 [SEP] senate [SEP] hearings to examine t...   \n1918  116.0 [SEP] senate [SEP] hearings to examine t...   \n2101  116.0 [SEP] senate [SEP] hearings to examine m...   \n2102  116.0 [SEP] senate [SEP] hearings to examine t...   \n\n                                      uuid  \\\n1239  54a43c57-324c-4111-8ed5-7ef5f40a4d1b   \n1240  7171f21a-ac13-465f-8c89-867028cc4f75   \n1241  82bbd4e6-cb42-4dcb-bab1-8570ce973b34   \n1242  4e5611f5-90ad-493f-954e-fb21a6a8fc19   \n1243  d3acfa28-42c5-4ddf-9650-d5ddc317db86   \n...                                    ...   \n1916  b8e90c21-7219-47e5-9ce7-e8b58e08e70a   \n1917  f0eb4565-ee22-4fec-8501-8f7fa85fb51b   \n1918  67a0fcb0-e2f3-4e88-98a3-c5b0e2a3ba6d   \n2101  7c5ac7dc-dcc0-4ed2-8033-a25bb6baa5c1   \n2102  56704a72-6c3a-48f9-ae21-09e435229437   \n\n                                              embedding  similarity  \n1239  [-5.48893735e-02 -3.98558259e-01 -2.78647423e-...    0.584375  \n1240  [ 2.96993684e-02 -1.83329836e-01  3.93226594e-...    0.653401  \n1241  [-6.20919950e-02 -4.59316432e-01 -1.95373014e-...    0.583406  \n1242  [-3.64600383e-02 -4.97940034e-01 -2.03136593e-...    0.606229  \n1243  [-9.29759964e-02 -6.25922203e-01 -2.09133878e-...    0.531772  \n...                                                 ...         ...  \n1916  [-2.62802899e-01 -3.69865924e-01  3.49259190e-...    0.572939  \n1917  [-9.51932818e-02 -4.92828667e-01 -2.49492362e-...    0.585390  \n1918  [-3.04276794e-01 -3.01852316e-01  8.20049644e-...    0.592752  \n2101  [ 6.34304732e-02 -2.92708993e-01 -6.58062622e-...    0.631462  \n2102  [-1.19948618e-01 -3.95789444e-01 -1.95499614e-...    0.633660  \n\n[163 rows x 11 columns]",
      "text/html": "<div>\n<style scoped>\n    .dataframe tbody tr th:only-of-type {\n        vertical-align: middle;\n    }\n\n    .dataframe tbody tr th {\n        vertical-align: top;\n    }\n\n    .dataframe thead th {\n        text-align: right;\n    }\n</style>\n<table border=\"1\" class=\"dataframe\">\n  <thead>\n    <tr style=\"text-align: right;\">\n      <th></th>\n      <th>Unnamed: 0.1</th>\n      <th>Unnamed: 0</th>\n      <th>hearing_congress</th>\n      <th>hearing_chamber</th>\n      <th>hearing_committee_id</th>\n      <th>hearing_date</th>\n      <th>hearing_description</th>\n      <th>string_object</th>\n      <th>uuid</th>\n      <th>embedding</th>\n      <th>similarity</th>\n    </tr>\n  </thead>\n  <tbody>\n    <tr>\n      <th>1239</th>\n      <td>1239</td>\n      <td>1239</td>\n      <td>116.0</td>\n      <td>senate</td>\n      <td>SSAF</td>\n      <td>2020-12-02</td>\n      <td>Hearings to examine agricultural research and ...</td>\n      <td>116.0 [SEP] senate [SEP] hearings to examine a...</td>\n      <td>54a43c57-324c-4111-8ed5-7ef5f40a4d1b</td>\n      <td>[-5.48893735e-02 -3.98558259e-01 -2.78647423e-...</td>\n      <td>0.584375</td>\n    </tr>\n    <tr>\n      <th>1240</th>\n      <td>1240</td>\n      <td>1240</td>\n      <td>116.0</td>\n      <td>senate</td>\n      <td>SSAF</td>\n      <td>2020-06-24</td>\n      <td>Business meeting to consider original legislat...</td>\n      <td>116.0 [SEP] senate [SEP] business meeting to c...</td>\n      <td>7171f21a-ac13-465f-8c89-867028cc4f75</td>\n      <td>[ 2.96993684e-02 -1.83329836e-01  3.93226594e-...</td>\n      <td>0.653401</td>\n    </tr>\n    <tr>\n      <th>1241</th>\n      <td>1241</td>\n      <td>1241</td>\n      <td>116.0</td>\n      <td>senate</td>\n      <td>SSAF</td>\n      <td>2020-03-12</td>\n      <td>Hearings to examine agriculture innovation and...</td>\n      <td>116.0 [SEP] senate [SEP] hearings to examine a...</td>\n      <td>82bbd4e6-cb42-4dcb-bab1-8570ce973b34</td>\n      <td>[-6.20919950e-02 -4.59316432e-01 -1.95373014e-...</td>\n      <td>0.583406</td>\n    </tr>\n    <tr>\n      <th>1242</th>\n      <td>1242</td>\n      <td>1242</td>\n      <td>116.0</td>\n      <td>senate</td>\n      <td>SSAF</td>\n      <td>2019-11-07</td>\n      <td>Hearings to examine implementation of the 2018...</td>\n      <td>116.0 [SEP] senate [SEP] hearings to examine i...</td>\n      <td>4e5611f5-90ad-493f-954e-fb21a6a8fc19</td>\n      <td>[-3.64600383e-02 -4.97940034e-01 -2.03136593e-...</td>\n      <td>0.606229</td>\n    </tr>\n    <tr>\n      <th>1243</th>\n      <td>1243</td>\n      <td>1243</td>\n      <td>116.0</td>\n      <td>senate</td>\n      <td>SSAF</td>\n      <td>2019-10-17</td>\n      <td>Hearings to examine implementing the 2018 Farm...</td>\n      <td>116.0 [SEP] senate [SEP] hearings to examine i...</td>\n      <td>d3acfa28-42c5-4ddf-9650-d5ddc317db86</td>\n      <td>[-9.29759964e-02 -6.25922203e-01 -2.09133878e-...</td>\n      <td>0.531772</td>\n    </tr>\n    <tr>\n      <th>...</th>\n      <td>...</td>\n      <td>...</td>\n      <td>...</td>\n      <td>...</td>\n      <td>...</td>\n      <td>...</td>\n      <td>...</td>\n      <td>...</td>\n      <td>...</td>\n      <td>...</td>\n      <td>...</td>\n    </tr>\n    <tr>\n      <th>1916</th>\n      <td>1916</td>\n      <td>1916</td>\n      <td>116.0</td>\n      <td>senate</td>\n      <td>SSBU</td>\n      <td>2019-03-13</td>\n      <td>Hearings to examine the President&amp;#39;s propos...</td>\n      <td>116.0 [SEP] senate [SEP] hearings to examine t...</td>\n      <td>b8e90c21-7219-47e5-9ce7-e8b58e08e70a</td>\n      <td>[-2.62802899e-01 -3.69865924e-01  3.49259190e-...</td>\n      <td>0.572939</td>\n    </tr>\n    <tr>\n      <th>1917</th>\n      <td>1917</td>\n      <td>1917</td>\n      <td>116.0</td>\n      <td>senate</td>\n      <td>SSBU</td>\n      <td>2019-02-27</td>\n      <td>Hearings to examine the Budget Control Act, fo...</td>\n      <td>116.0 [SEP] senate [SEP] hearings to examine t...</td>\n      <td>f0eb4565-ee22-4fec-8501-8f7fa85fb51b</td>\n      <td>[-9.51932818e-02 -4.92828667e-01 -2.49492362e-...</td>\n      <td>0.585390</td>\n    </tr>\n    <tr>\n      <th>1918</th>\n      <td>1918</td>\n      <td>1918</td>\n      <td>116.0</td>\n      <td>senate</td>\n      <td>SSBU</td>\n      <td>2019-01-29</td>\n      <td>Hearings to examine the Congressional Budget O...</td>\n      <td>116.0 [SEP] senate [SEP] hearings to examine t...</td>\n      <td>67a0fcb0-e2f3-4e88-98a3-c5b0e2a3ba6d</td>\n      <td>[-3.04276794e-01 -3.01852316e-01  8.20049644e-...</td>\n      <td>0.592752</td>\n    </tr>\n    <tr>\n      <th>2101</th>\n      <td>2101</td>\n      <td>2101</td>\n      <td>116.0</td>\n      <td>senate</td>\n      <td>SCNC</td>\n      <td>2019-10-23</td>\n      <td>Hearings to examine marijuana and America&amp;#39;...</td>\n      <td>116.0 [SEP] senate [SEP] hearings to examine m...</td>\n      <td>7c5ac7dc-dcc0-4ed2-8033-a25bb6baa5c1</td>\n      <td>[ 6.34304732e-02 -2.92708993e-01 -6.58062622e-...</td>\n      <td>0.631462</td>\n    </tr>\n    <tr>\n      <th>2102</th>\n      <td>2102</td>\n      <td>2102</td>\n      <td>116.0</td>\n      <td>senate</td>\n      <td>SCNC</td>\n      <td>2019-06-11</td>\n      <td>Hearings to examine the global narcotics epide...</td>\n      <td>116.0 [SEP] senate [SEP] hearings to examine t...</td>\n      <td>56704a72-6c3a-48f9-ae21-09e435229437</td>\n      <td>[-1.19948618e-01 -3.95789444e-01 -1.95499614e-...</td>\n      <td>0.633660</td>\n    </tr>\n  </tbody>\n</table>\n<p>163 rows × 11 columns</p>\n</div>"
     },
     "execution_count": 138,
     "metadata": {},
     "output_type": "execute_result"
    }
   ],
   "source": [
    "politician_committee_assignments = politician_committees['committee_id'].values\n",
    "committee_hearings = pd.read_csv('final_data/committee_hearings_final.csv')\n",
    "filtered_hearings = committee_hearings[(committee_hearings['hearing_committee_id'].isin(politician_committee_assignments))& (committee_hearings['hearing_congress'] == politician_congress)]\n",
    "\n",
    "\"\"\"Get cosine similarity for each hearing\"\"\"\n",
    "hearing_emb_matrix = np.vstack(filtered_hearings['embedding'].apply(lambda x: ast.literal_eval(clean_array_string(x))).values)\n",
    "transaction_emb_matrix = np.array(transaction_embedding).reshape(1,-1)\n",
    "\n",
    "filtered_hearings['similarity'] = cosine_similarity(hearing_emb_matrix,transaction_emb_matrix)\n",
    "filtered_hearings"
   ],
   "metadata": {
    "collapsed": false,
    "ExecuteTime": {
     "end_time": "2023-12-09T09:07:34.004109Z",
     "start_time": "2023-12-09T09:07:33.071605Z"
    }
   },
   "id": "d8c19e5c73fef564"
  },
  {
   "cell_type": "code",
   "execution_count": 140,
   "outputs": [
    {
     "ename": "ValueError",
     "evalue": "need at least one array to concatenate",
     "output_type": "error",
     "traceback": [
      "\u001B[0;31m---------------------------------------------------------------------------\u001B[0m",
      "\u001B[0;31mValueError\u001B[0m                                Traceback (most recent call last)",
      "\u001B[0;32m/var/folders/x8/h5h7bn_54gncqkrgpt4wmclc0000gn/T/ipykernel_29253/492475508.py\u001B[0m in \u001B[0;36m<cell line: 5>\u001B[0;34m()\u001B[0m\n\u001B[1;32m      3\u001B[0m \u001B[0;34m\u001B[0m\u001B[0m\n\u001B[1;32m      4\u001B[0m \u001B[0;34m\"\"\"Get cosine similarity for each travel\"\"\"\u001B[0m\u001B[0;34m\u001B[0m\u001B[0;34m\u001B[0m\u001B[0m\n\u001B[0;32m----> 5\u001B[0;31m \u001B[0mtravel_emb_matrix\u001B[0m \u001B[0;34m=\u001B[0m \u001B[0mnp\u001B[0m\u001B[0;34m.\u001B[0m\u001B[0mvstack\u001B[0m\u001B[0;34m(\u001B[0m\u001B[0mfiltered_travel\u001B[0m\u001B[0;34m[\u001B[0m\u001B[0;34m'embedding'\u001B[0m\u001B[0;34m]\u001B[0m\u001B[0;34m.\u001B[0m\u001B[0mapply\u001B[0m\u001B[0;34m(\u001B[0m\u001B[0;32mlambda\u001B[0m \u001B[0mx\u001B[0m\u001B[0;34m:\u001B[0m \u001B[0mast\u001B[0m\u001B[0;34m.\u001B[0m\u001B[0mliteral_eval\u001B[0m\u001B[0;34m(\u001B[0m\u001B[0mclean_array_string\u001B[0m\u001B[0;34m(\u001B[0m\u001B[0mx\u001B[0m\u001B[0;34m)\u001B[0m\u001B[0;34m)\u001B[0m\u001B[0;34m)\u001B[0m\u001B[0;34m.\u001B[0m\u001B[0mvalues\u001B[0m\u001B[0;34m)\u001B[0m\u001B[0;34m\u001B[0m\u001B[0;34m\u001B[0m\u001B[0m\n\u001B[0m\u001B[1;32m      6\u001B[0m \u001B[0mtransaction_emb_matrix\u001B[0m \u001B[0;34m=\u001B[0m \u001B[0mnp\u001B[0m\u001B[0;34m.\u001B[0m\u001B[0marray\u001B[0m\u001B[0;34m(\u001B[0m\u001B[0mtransaction_embedding\u001B[0m\u001B[0;34m)\u001B[0m\u001B[0;34m.\u001B[0m\u001B[0mreshape\u001B[0m\u001B[0;34m(\u001B[0m\u001B[0;36m1\u001B[0m\u001B[0;34m,\u001B[0m\u001B[0;34m-\u001B[0m\u001B[0;36m1\u001B[0m\u001B[0;34m)\u001B[0m\u001B[0;34m\u001B[0m\u001B[0;34m\u001B[0m\u001B[0m\n\u001B[1;32m      7\u001B[0m \u001B[0;34m\u001B[0m\u001B[0m\n",
      "\u001B[0;32m~/opt/anaconda3/lib/python3.8/site-packages/numpy/core/overrides.py\u001B[0m in \u001B[0;36mvstack\u001B[0;34m(*args, **kwargs)\u001B[0m\n",
      "\u001B[0;32m~/opt/anaconda3/lib/python3.8/site-packages/numpy/core/shape_base.py\u001B[0m in \u001B[0;36mvstack\u001B[0;34m(tup)\u001B[0m\n\u001B[1;32m    280\u001B[0m     \u001B[0;32mif\u001B[0m \u001B[0;32mnot\u001B[0m \u001B[0misinstance\u001B[0m\u001B[0;34m(\u001B[0m\u001B[0marrs\u001B[0m\u001B[0;34m,\u001B[0m \u001B[0mlist\u001B[0m\u001B[0;34m)\u001B[0m\u001B[0;34m:\u001B[0m\u001B[0;34m\u001B[0m\u001B[0;34m\u001B[0m\u001B[0m\n\u001B[1;32m    281\u001B[0m         \u001B[0marrs\u001B[0m \u001B[0;34m=\u001B[0m \u001B[0;34m[\u001B[0m\u001B[0marrs\u001B[0m\u001B[0;34m]\u001B[0m\u001B[0;34m\u001B[0m\u001B[0;34m\u001B[0m\u001B[0m\n\u001B[0;32m--> 282\u001B[0;31m     \u001B[0;32mreturn\u001B[0m \u001B[0m_nx\u001B[0m\u001B[0;34m.\u001B[0m\u001B[0mconcatenate\u001B[0m\u001B[0;34m(\u001B[0m\u001B[0marrs\u001B[0m\u001B[0;34m,\u001B[0m \u001B[0;36m0\u001B[0m\u001B[0;34m)\u001B[0m\u001B[0;34m\u001B[0m\u001B[0;34m\u001B[0m\u001B[0m\n\u001B[0m\u001B[1;32m    283\u001B[0m \u001B[0;34m\u001B[0m\u001B[0m\n\u001B[1;32m    284\u001B[0m \u001B[0;34m\u001B[0m\u001B[0m\n",
      "\u001B[0;32m~/opt/anaconda3/lib/python3.8/site-packages/numpy/core/overrides.py\u001B[0m in \u001B[0;36mconcatenate\u001B[0;34m(*args, **kwargs)\u001B[0m\n",
      "\u001B[0;31mValueError\u001B[0m: need at least one array to concatenate"
     ]
    }
   ],
   "source": [
    "travel = pd.read_csv('final_data/travel_final.csv')\n",
    "filtered_travel = travel[(travel['member_id'] == politician_id) & (travel['congress'] == politician_congress)]\n",
    "\n",
    "\"\"\"Get cosine similarity for each travel\"\"\"\n",
    "travel_emb_matrix = np.vstack(filtered_travel['embedding'].apply(lambda x: ast.literal_eval(clean_array_string(x))).values)\n",
    "transaction_emb_matrix = np.array(transaction_embedding).reshape(1,-1)\n",
    "\n",
    "filtered_travel['similarity'] = cosine_similarity(travel_emb_matrix,transaction_emb_matrix)\n",
    "\n",
    "filtered_travel"
   ],
   "metadata": {
    "collapsed": false,
    "ExecuteTime": {
     "end_time": "2023-12-09T09:08:53.459130Z",
     "start_time": "2023-12-09T09:08:53.102300Z"
    }
   },
   "id": "a3ecd7dc449e1293"
  },
  {
   "cell_type": "code",
   "execution_count": 141,
   "outputs": [
    {
     "data": {
      "text/plain": "      Unnamed: 0.1  Unnamed: 0 related_bill_id  \\\n6153          6153        6153     sres726-116   \n6154          6154        6154       s4024-116   \n6155          6155        6155       s3599-116   \n6156          6156        6156       s3098-116   \n6157          6157        6157       s2025-116   \n6158          6158        6158       s1898-116   \n6159          6159        6159       s1807-116   \n6160          6160        6160       s1677-116   \n6161          6161        6161     sres182-116   \n6162          6162        6162       s1078-116   \n6163          6163        6163      sres78-116   \n6164          6164        6164        s572-116   \n6165          6165        6165        s122-116   \n\n                                     related_bill_title  \\\n6153  A resolution honoring Rosalynn Smith Carter's ...   \n6154  A bill to establish in the Cybersecurity and I...   \n6155  A bill to enhance our Nation's nurse and physi...   \n6156  A bill to redesignate the Jimmy Carter Nationa...   \n6157  A bill to amend the Motor Carrier Safety Impro...   \n6158  A bill to amend title 5, United States Code, t...   \n6159             A bill to improve the funding process.   \n6160  A bill to amend the Internal Revenue Code of 1...   \n6161  A resolution recognizing the duty of the Senat...   \n6162  A bill to amend title 44, United States Code, ...   \n6163  A resolution recognizing the national debt as ...   \n6164  A bill to provide for additional supplemental ...   \n6165  A bill to amend title 18, United States Code, ...   \n\n     related_bill_introduction_date bill_slug  bill_congress member_id  \\\n6153                     2020-09-29   sres726            116   P000612   \n6154                     2020-06-22     s4024            116   P000612   \n6155                     2020-05-05     s3599            116   P000612   \n6156                     2019-12-18     s3098            116   P000612   \n6157                     2019-06-27     s2025            116   P000612   \n6158                     2019-06-19     s1898            116   P000612   \n6159                     2019-06-12     s1807            116   P000612   \n6160                     2019-05-23     s1677            116   P000612   \n6161                     2019-05-01   sres182            116   P000612   \n6162                     2019-04-09     s1078            116   P000612   \n6163                     2019-02-26    sres78            116   P000612   \n6164                     2019-02-26      s572            116   P000612   \n6165                     2019-01-15      s122            116   P000612   \n\n                                          string_object  \\\n6153  a resolution honoring rosalynn smith carter's ...   \n6154  a bill to establish in the cybersecurity and i...   \n6155  a bill to enhance our nation's nurse and physi...   \n6156  a bill to redesignate the jimmy carter nationa...   \n6157  a bill to amend the motor carrier safety impro...   \n6158  a bill to amend title 5, united states code, t...   \n6159  a bill to improve the funding process. [SEP] 1...   \n6160  a bill to amend the internal revenue code of 1...   \n6161  a resolution recognizing the duty of the senat...   \n6162  a bill to amend title 44, united states code, ...   \n6163  a resolution recognizing the national debt as ...   \n6164  a bill to provide for additional supplemental ...   \n6165  a bill to amend title 18, united states code, ...   \n\n                                      uuid  \\\n6153  3583cbe4-afaf-4e74-b9b5-3917a64095d8   \n6154  3e534dec-0331-427c-a927-3493df9b771d   \n6155  6a74f573-9339-485b-b027-a7e7e055da8f   \n6156  b9a68da0-21da-4929-92fb-5d8862adb20c   \n6157  cce699f7-9c2c-43b7-a977-d5350bbfdab1   \n6158  73754595-8a0d-4af6-b173-c4c6e7cc69a8   \n6159  418ce59c-e4eb-4f52-835f-f2ed6f802b84   \n6160  5945f805-9efd-492d-a5d8-6859fdb0f314   \n6161  2cf1041b-8e04-4521-b88e-9306712a1527   \n6162  5e7cf625-37ae-49a5-8e39-585de5aeecc1   \n6163  68af1e6f-20a3-4c31-a28f-8511a0fd81ba   \n6164  5d131893-c3af-4981-a8a2-7ea0227173f8   \n6165  19265c86-c712-47a7-951d-2bf91edc9620   \n\n                                              embedding  similarity  \n6153  [-3.04253250e-01 -3.56172532e-01 -3.58239026e-...    0.579690  \n6154  [-2.57931411e-01 -3.38810474e-01 -1.02268927e-...    0.671624  \n6155  [-1.43147171e-01 -3.37306321e-01  6.43994659e-...    0.669626  \n6156  [-2.35384271e-01 -3.36135954e-01  3.92684946e-...    0.615192  \n6157  [ 2.98766624e-02 -3.33784074e-01 -2.89239317e-...    0.660259  \n6158  [ 1.75114930e-01 -1.67265609e-01 -3.68312299e-...    0.643079  \n6159  [-3.03273082e-01 -6.66067004e-01 -1.34174585e-...    0.451968  \n6160  [-2.16982737e-02 -3.11814666e-01 -1.83130756e-...    0.634503  \n6161  [-1.31731465e-01 -2.14626268e-01 -1.72572583e-...    0.611991  \n6162  [ 9.08652693e-02 -1.43209770e-01 -3.03162873e-...    0.629096  \n6163  [-3.69824022e-01 -3.65066677e-01 -1.34936675e-...    0.547588  \n6164  [-2.10601717e-01 -6.67489231e-01 -2.51622111e-...    0.537225  \n6165  [ 5.23767136e-02 -1.89280227e-01 -2.90746510e-...    0.642048  ",
      "text/html": "<div>\n<style scoped>\n    .dataframe tbody tr th:only-of-type {\n        vertical-align: middle;\n    }\n\n    .dataframe tbody tr th {\n        vertical-align: top;\n    }\n\n    .dataframe thead th {\n        text-align: right;\n    }\n</style>\n<table border=\"1\" class=\"dataframe\">\n  <thead>\n    <tr style=\"text-align: right;\">\n      <th></th>\n      <th>Unnamed: 0.1</th>\n      <th>Unnamed: 0</th>\n      <th>related_bill_id</th>\n      <th>related_bill_title</th>\n      <th>related_bill_introduction_date</th>\n      <th>bill_slug</th>\n      <th>bill_congress</th>\n      <th>member_id</th>\n      <th>string_object</th>\n      <th>uuid</th>\n      <th>embedding</th>\n      <th>similarity</th>\n    </tr>\n  </thead>\n  <tbody>\n    <tr>\n      <th>6153</th>\n      <td>6153</td>\n      <td>6153</td>\n      <td>sres726-116</td>\n      <td>A resolution honoring Rosalynn Smith Carter's ...</td>\n      <td>2020-09-29</td>\n      <td>sres726</td>\n      <td>116</td>\n      <td>P000612</td>\n      <td>a resolution honoring rosalynn smith carter's ...</td>\n      <td>3583cbe4-afaf-4e74-b9b5-3917a64095d8</td>\n      <td>[-3.04253250e-01 -3.56172532e-01 -3.58239026e-...</td>\n      <td>0.579690</td>\n    </tr>\n    <tr>\n      <th>6154</th>\n      <td>6154</td>\n      <td>6154</td>\n      <td>s4024-116</td>\n      <td>A bill to establish in the Cybersecurity and I...</td>\n      <td>2020-06-22</td>\n      <td>s4024</td>\n      <td>116</td>\n      <td>P000612</td>\n      <td>a bill to establish in the cybersecurity and i...</td>\n      <td>3e534dec-0331-427c-a927-3493df9b771d</td>\n      <td>[-2.57931411e-01 -3.38810474e-01 -1.02268927e-...</td>\n      <td>0.671624</td>\n    </tr>\n    <tr>\n      <th>6155</th>\n      <td>6155</td>\n      <td>6155</td>\n      <td>s3599-116</td>\n      <td>A bill to enhance our Nation's nurse and physi...</td>\n      <td>2020-05-05</td>\n      <td>s3599</td>\n      <td>116</td>\n      <td>P000612</td>\n      <td>a bill to enhance our nation's nurse and physi...</td>\n      <td>6a74f573-9339-485b-b027-a7e7e055da8f</td>\n      <td>[-1.43147171e-01 -3.37306321e-01  6.43994659e-...</td>\n      <td>0.669626</td>\n    </tr>\n    <tr>\n      <th>6156</th>\n      <td>6156</td>\n      <td>6156</td>\n      <td>s3098-116</td>\n      <td>A bill to redesignate the Jimmy Carter Nationa...</td>\n      <td>2019-12-18</td>\n      <td>s3098</td>\n      <td>116</td>\n      <td>P000612</td>\n      <td>a bill to redesignate the jimmy carter nationa...</td>\n      <td>b9a68da0-21da-4929-92fb-5d8862adb20c</td>\n      <td>[-2.35384271e-01 -3.36135954e-01  3.92684946e-...</td>\n      <td>0.615192</td>\n    </tr>\n    <tr>\n      <th>6157</th>\n      <td>6157</td>\n      <td>6157</td>\n      <td>s2025-116</td>\n      <td>A bill to amend the Motor Carrier Safety Impro...</td>\n      <td>2019-06-27</td>\n      <td>s2025</td>\n      <td>116</td>\n      <td>P000612</td>\n      <td>a bill to amend the motor carrier safety impro...</td>\n      <td>cce699f7-9c2c-43b7-a977-d5350bbfdab1</td>\n      <td>[ 2.98766624e-02 -3.33784074e-01 -2.89239317e-...</td>\n      <td>0.660259</td>\n    </tr>\n    <tr>\n      <th>6158</th>\n      <td>6158</td>\n      <td>6158</td>\n      <td>s1898-116</td>\n      <td>A bill to amend title 5, United States Code, t...</td>\n      <td>2019-06-19</td>\n      <td>s1898</td>\n      <td>116</td>\n      <td>P000612</td>\n      <td>a bill to amend title 5, united states code, t...</td>\n      <td>73754595-8a0d-4af6-b173-c4c6e7cc69a8</td>\n      <td>[ 1.75114930e-01 -1.67265609e-01 -3.68312299e-...</td>\n      <td>0.643079</td>\n    </tr>\n    <tr>\n      <th>6159</th>\n      <td>6159</td>\n      <td>6159</td>\n      <td>s1807-116</td>\n      <td>A bill to improve the funding process.</td>\n      <td>2019-06-12</td>\n      <td>s1807</td>\n      <td>116</td>\n      <td>P000612</td>\n      <td>a bill to improve the funding process. [SEP] 1...</td>\n      <td>418ce59c-e4eb-4f52-835f-f2ed6f802b84</td>\n      <td>[-3.03273082e-01 -6.66067004e-01 -1.34174585e-...</td>\n      <td>0.451968</td>\n    </tr>\n    <tr>\n      <th>6160</th>\n      <td>6160</td>\n      <td>6160</td>\n      <td>s1677-116</td>\n      <td>A bill to amend the Internal Revenue Code of 1...</td>\n      <td>2019-05-23</td>\n      <td>s1677</td>\n      <td>116</td>\n      <td>P000612</td>\n      <td>a bill to amend the internal revenue code of 1...</td>\n      <td>5945f805-9efd-492d-a5d8-6859fdb0f314</td>\n      <td>[-2.16982737e-02 -3.11814666e-01 -1.83130756e-...</td>\n      <td>0.634503</td>\n    </tr>\n    <tr>\n      <th>6161</th>\n      <td>6161</td>\n      <td>6161</td>\n      <td>sres182-116</td>\n      <td>A resolution recognizing the duty of the Senat...</td>\n      <td>2019-05-01</td>\n      <td>sres182</td>\n      <td>116</td>\n      <td>P000612</td>\n      <td>a resolution recognizing the duty of the senat...</td>\n      <td>2cf1041b-8e04-4521-b88e-9306712a1527</td>\n      <td>[-1.31731465e-01 -2.14626268e-01 -1.72572583e-...</td>\n      <td>0.611991</td>\n    </tr>\n    <tr>\n      <th>6162</th>\n      <td>6162</td>\n      <td>6162</td>\n      <td>s1078-116</td>\n      <td>A bill to amend title 44, United States Code, ...</td>\n      <td>2019-04-09</td>\n      <td>s1078</td>\n      <td>116</td>\n      <td>P000612</td>\n      <td>a bill to amend title 44, united states code, ...</td>\n      <td>5e7cf625-37ae-49a5-8e39-585de5aeecc1</td>\n      <td>[ 9.08652693e-02 -1.43209770e-01 -3.03162873e-...</td>\n      <td>0.629096</td>\n    </tr>\n    <tr>\n      <th>6163</th>\n      <td>6163</td>\n      <td>6163</td>\n      <td>sres78-116</td>\n      <td>A resolution recognizing the national debt as ...</td>\n      <td>2019-02-26</td>\n      <td>sres78</td>\n      <td>116</td>\n      <td>P000612</td>\n      <td>a resolution recognizing the national debt as ...</td>\n      <td>68af1e6f-20a3-4c31-a28f-8511a0fd81ba</td>\n      <td>[-3.69824022e-01 -3.65066677e-01 -1.34936675e-...</td>\n      <td>0.547588</td>\n    </tr>\n    <tr>\n      <th>6164</th>\n      <td>6164</td>\n      <td>6164</td>\n      <td>s572-116</td>\n      <td>A bill to provide for additional supplemental ...</td>\n      <td>2019-02-26</td>\n      <td>s572</td>\n      <td>116</td>\n      <td>P000612</td>\n      <td>a bill to provide for additional supplemental ...</td>\n      <td>5d131893-c3af-4981-a8a2-7ea0227173f8</td>\n      <td>[-2.10601717e-01 -6.67489231e-01 -2.51622111e-...</td>\n      <td>0.537225</td>\n    </tr>\n    <tr>\n      <th>6165</th>\n      <td>6165</td>\n      <td>6165</td>\n      <td>s122-116</td>\n      <td>A bill to amend title 18, United States Code, ...</td>\n      <td>2019-01-15</td>\n      <td>s122</td>\n      <td>116</td>\n      <td>P000612</td>\n      <td>a bill to amend title 18, united states code, ...</td>\n      <td>19265c86-c712-47a7-951d-2bf91edc9620</td>\n      <td>[ 5.23767136e-02 -1.89280227e-01 -2.90746510e-...</td>\n      <td>0.642048</td>\n    </tr>\n  </tbody>\n</table>\n</div>"
     },
     "execution_count": 141,
     "metadata": {},
     "output_type": "execute_result"
    }
   ],
   "source": [
    "related_bills = pd.read_csv('final_data/related_bills_final.csv')\n",
    "filtered_related_bills = related_bills[(related_bills['member_id'] == politician_id) & (related_bills['bill_congress'] == politician_congress)]\n",
    "\n",
    "\"\"\"Get cosine similarity for each related bill\"\"\"\n",
    "related_bill_emb_matrix = np.vstack(filtered_related_bills['embedding'].apply(lambda x: ast.literal_eval(clean_array_string(x))).values)\n",
    "transaction_emb_matrix = np.array(transaction_embedding).reshape(1,-1)\n",
    "\n",
    "filtered_related_bills['similarity'] = cosine_similarity(related_bill_emb_matrix,transaction_emb_matrix)\n",
    "\n",
    "filtered_related_bills"
   ],
   "metadata": {
    "collapsed": false,
    "ExecuteTime": {
     "end_time": "2023-12-09T09:09:41.167765Z",
     "start_time": "2023-12-09T09:09:39.934668Z"
    }
   },
   "id": "4c8788e08a07bc4b"
  },
  {
   "cell_type": "code",
   "execution_count": 142,
   "outputs": [
    {
     "data": {
      "text/plain": "       Unnamed: 0.1  Unnamed: 0  \\\n56493         56493       56493   \n56494         56494       56494   \n56495         56495       56495   \n56496         56496       56496   \n56497         56497       56497   \n...             ...         ...   \n56888         56888       56888   \n56889         56889       56889   \n56890         56890       56890   \n56891         56891       56891   \n56892         56892       56892   \n\n                                                     url        date  \\\n56493  https://www.perdue.senate.gov/news/press-relea...  2020-11-17   \n56494  https://www.perdue.senate.gov/news/press-relea...  2020-11-12   \n56495  https://www.perdue.senate.gov/news/press-relea...  2020-11-11   \n56496  https://www.perdue.senate.gov/news/press-relea...  2020-11-10   \n56497  https://www.perdue.senate.gov/news/press-relea...  2020-11-10   \n...                                                  ...         ...   \n56888  https://www.perdue.senate.gov/news/press-relea...  2020-10-08   \n56889  https://www.perdue.senate.gov/news/press-relea...  2020-10-06   \n56890  https://www.perdue.senate.gov/news/press-relea...  2020-09-30   \n56891  https://www.perdue.senate.gov/news/press-relea...  2020-09-30   \n56892  https://www.perdue.senate.gov/news/press-relea...  2020-09-30   \n\n                                                   title           type  \\\n56493  Senator David Perdue On Third Annual Departmen...  Press Release   \n56494  Senators Perdue, Loeffler Introduce SAFE Votes...  Press Release   \n56495     Senator David Perdue Honors Georgia’s Veterans  Press Release   \n56496  Senator David Perdue Takes Action To Ensure Fa...  Press Release   \n56497  Senator David Perdue On Protecting Senate Majo...  Press Release   \n...                                                  ...            ...   \n56888   Senator David Perdue Fights For Georgia Veterans  Press Release   \n56889  Roswell-Based Foster Care Support Foundation R...  Press Release   \n56890  Senator David Perdue Votes To Protect American...  Press Release   \n56891     Senator David Perdue On Funding The Government  Press Release   \n56892  Senator David Perdue Urges Improvements To Sys...  Press Release   \n\n      member_id  congress                                      string_object  \\\n56493   P000612       116  senator david perdue on third annual departmen...   \n56494   P000612       116  senators perdue, loeffler introduce safe votes...   \n56495   P000612       116  senator david perdue honors georgia’s veterans...   \n56496   P000612       116  senator david perdue takes action to ensure fa...   \n56497   P000612       116  senator david perdue on protecting senate majo...   \n...         ...       ...                                                ...   \n56888   P000612       116  senator david perdue fights for georgia vetera...   \n56889   P000612       116  roswell-based foster care support foundation r...   \n56890   P000612       116  senator david perdue votes to protect american...   \n56891   P000612       116  senator david perdue on funding the government...   \n56892   P000612       116  senator david perdue urges improvements to sys...   \n\n                                       uuid  \\\n56493  15e26673-9f1a-463f-94b8-461ce5d4730d   \n56494  c492ff4e-6f80-4c55-be3c-bc8d9e8ba149   \n56495  39e75973-5e2c-493d-bb24-013dc138ed02   \n56496  8587e695-debc-4ec0-9348-f67704901dc4   \n56497  aaab436d-dfd9-43de-805e-688eb7581e00   \n...                                     ...   \n56888  cffebc16-5082-4367-a233-9ed7f64db1eb   \n56889  2014325b-a4f7-4b6b-be5a-a5505416dfe3   \n56890  d5169518-3b64-4c90-b6a7-4c4ab232140a   \n56891  fe2b993f-361b-48c5-b5a0-800fd4de49de   \n56892  0ebdbaab-715c-453b-8037-c13d4eaaa7c8   \n\n                                               embedding  similarity  \n56493  [-1.50185436e-01 -2.51212567e-01 -1.61012620e-...    0.599659  \n56494  [ 1.94357052e-01 -2.36676365e-01 -2.21671283e-...    0.571226  \n56495  [-9.07850713e-02 -1.77687004e-01 -1.26303732e-...    0.555928  \n56496  [-1.04975194e-01 -3.53616506e-01 -3.18290442e-...    0.592220  \n56497  [ 1.66590884e-02 -4.16283160e-01 -2.47606277e-...    0.535806  \n...                                                  ...         ...  \n56888  [ 1.27461571e-02 -3.80418897e-01 -8.70815367e-...    0.529003  \n56889  [-1.02277443e-01 -2.93947279e-01  1.15610227e-...    0.627817  \n56890  [-4.72655334e-03 -2.69629270e-01 -2.60442555e-...    0.584382  \n56891  [ 4.49101031e-02 -2.38537133e-01 -2.87175536e-...    0.550474  \n56892  [-1.19263127e-01 -3.15221369e-01 -1.00283235e-...    0.617187  \n\n[400 rows x 12 columns]",
      "text/html": "<div>\n<style scoped>\n    .dataframe tbody tr th:only-of-type {\n        vertical-align: middle;\n    }\n\n    .dataframe tbody tr th {\n        vertical-align: top;\n    }\n\n    .dataframe thead th {\n        text-align: right;\n    }\n</style>\n<table border=\"1\" class=\"dataframe\">\n  <thead>\n    <tr style=\"text-align: right;\">\n      <th></th>\n      <th>Unnamed: 0.1</th>\n      <th>Unnamed: 0</th>\n      <th>url</th>\n      <th>date</th>\n      <th>title</th>\n      <th>type</th>\n      <th>member_id</th>\n      <th>congress</th>\n      <th>string_object</th>\n      <th>uuid</th>\n      <th>embedding</th>\n      <th>similarity</th>\n    </tr>\n  </thead>\n  <tbody>\n    <tr>\n      <th>56493</th>\n      <td>56493</td>\n      <td>56493</td>\n      <td>https://www.perdue.senate.gov/news/press-relea...</td>\n      <td>2020-11-17</td>\n      <td>Senator David Perdue On Third Annual Departmen...</td>\n      <td>Press Release</td>\n      <td>P000612</td>\n      <td>116</td>\n      <td>senator david perdue on third annual departmen...</td>\n      <td>15e26673-9f1a-463f-94b8-461ce5d4730d</td>\n      <td>[-1.50185436e-01 -2.51212567e-01 -1.61012620e-...</td>\n      <td>0.599659</td>\n    </tr>\n    <tr>\n      <th>56494</th>\n      <td>56494</td>\n      <td>56494</td>\n      <td>https://www.perdue.senate.gov/news/press-relea...</td>\n      <td>2020-11-12</td>\n      <td>Senators Perdue, Loeffler Introduce SAFE Votes...</td>\n      <td>Press Release</td>\n      <td>P000612</td>\n      <td>116</td>\n      <td>senators perdue, loeffler introduce safe votes...</td>\n      <td>c492ff4e-6f80-4c55-be3c-bc8d9e8ba149</td>\n      <td>[ 1.94357052e-01 -2.36676365e-01 -2.21671283e-...</td>\n      <td>0.571226</td>\n    </tr>\n    <tr>\n      <th>56495</th>\n      <td>56495</td>\n      <td>56495</td>\n      <td>https://www.perdue.senate.gov/news/press-relea...</td>\n      <td>2020-11-11</td>\n      <td>Senator David Perdue Honors Georgia’s Veterans</td>\n      <td>Press Release</td>\n      <td>P000612</td>\n      <td>116</td>\n      <td>senator david perdue honors georgia’s veterans...</td>\n      <td>39e75973-5e2c-493d-bb24-013dc138ed02</td>\n      <td>[-9.07850713e-02 -1.77687004e-01 -1.26303732e-...</td>\n      <td>0.555928</td>\n    </tr>\n    <tr>\n      <th>56496</th>\n      <td>56496</td>\n      <td>56496</td>\n      <td>https://www.perdue.senate.gov/news/press-relea...</td>\n      <td>2020-11-10</td>\n      <td>Senator David Perdue Takes Action To Ensure Fa...</td>\n      <td>Press Release</td>\n      <td>P000612</td>\n      <td>116</td>\n      <td>senator david perdue takes action to ensure fa...</td>\n      <td>8587e695-debc-4ec0-9348-f67704901dc4</td>\n      <td>[-1.04975194e-01 -3.53616506e-01 -3.18290442e-...</td>\n      <td>0.592220</td>\n    </tr>\n    <tr>\n      <th>56497</th>\n      <td>56497</td>\n      <td>56497</td>\n      <td>https://www.perdue.senate.gov/news/press-relea...</td>\n      <td>2020-11-10</td>\n      <td>Senator David Perdue On Protecting Senate Majo...</td>\n      <td>Press Release</td>\n      <td>P000612</td>\n      <td>116</td>\n      <td>senator david perdue on protecting senate majo...</td>\n      <td>aaab436d-dfd9-43de-805e-688eb7581e00</td>\n      <td>[ 1.66590884e-02 -4.16283160e-01 -2.47606277e-...</td>\n      <td>0.535806</td>\n    </tr>\n    <tr>\n      <th>...</th>\n      <td>...</td>\n      <td>...</td>\n      <td>...</td>\n      <td>...</td>\n      <td>...</td>\n      <td>...</td>\n      <td>...</td>\n      <td>...</td>\n      <td>...</td>\n      <td>...</td>\n      <td>...</td>\n      <td>...</td>\n    </tr>\n    <tr>\n      <th>56888</th>\n      <td>56888</td>\n      <td>56888</td>\n      <td>https://www.perdue.senate.gov/news/press-relea...</td>\n      <td>2020-10-08</td>\n      <td>Senator David Perdue Fights For Georgia Veterans</td>\n      <td>Press Release</td>\n      <td>P000612</td>\n      <td>116</td>\n      <td>senator david perdue fights for georgia vetera...</td>\n      <td>cffebc16-5082-4367-a233-9ed7f64db1eb</td>\n      <td>[ 1.27461571e-02 -3.80418897e-01 -8.70815367e-...</td>\n      <td>0.529003</td>\n    </tr>\n    <tr>\n      <th>56889</th>\n      <td>56889</td>\n      <td>56889</td>\n      <td>https://www.perdue.senate.gov/news/press-relea...</td>\n      <td>2020-10-06</td>\n      <td>Roswell-Based Foster Care Support Foundation R...</td>\n      <td>Press Release</td>\n      <td>P000612</td>\n      <td>116</td>\n      <td>roswell-based foster care support foundation r...</td>\n      <td>2014325b-a4f7-4b6b-be5a-a5505416dfe3</td>\n      <td>[-1.02277443e-01 -2.93947279e-01  1.15610227e-...</td>\n      <td>0.627817</td>\n    </tr>\n    <tr>\n      <th>56890</th>\n      <td>56890</td>\n      <td>56890</td>\n      <td>https://www.perdue.senate.gov/news/press-relea...</td>\n      <td>2020-09-30</td>\n      <td>Senator David Perdue Votes To Protect American...</td>\n      <td>Press Release</td>\n      <td>P000612</td>\n      <td>116</td>\n      <td>senator david perdue votes to protect american...</td>\n      <td>d5169518-3b64-4c90-b6a7-4c4ab232140a</td>\n      <td>[-4.72655334e-03 -2.69629270e-01 -2.60442555e-...</td>\n      <td>0.584382</td>\n    </tr>\n    <tr>\n      <th>56891</th>\n      <td>56891</td>\n      <td>56891</td>\n      <td>https://www.perdue.senate.gov/news/press-relea...</td>\n      <td>2020-09-30</td>\n      <td>Senator David Perdue On Funding The Government</td>\n      <td>Press Release</td>\n      <td>P000612</td>\n      <td>116</td>\n      <td>senator david perdue on funding the government...</td>\n      <td>fe2b993f-361b-48c5-b5a0-800fd4de49de</td>\n      <td>[ 4.49101031e-02 -2.38537133e-01 -2.87175536e-...</td>\n      <td>0.550474</td>\n    </tr>\n    <tr>\n      <th>56892</th>\n      <td>56892</td>\n      <td>56892</td>\n      <td>https://www.perdue.senate.gov/news/press-relea...</td>\n      <td>2020-09-30</td>\n      <td>Senator David Perdue Urges Improvements To Sys...</td>\n      <td>Press Release</td>\n      <td>P000612</td>\n      <td>116</td>\n      <td>senator david perdue urges improvements to sys...</td>\n      <td>0ebdbaab-715c-453b-8037-c13d4eaaa7c8</td>\n      <td>[-1.19263127e-01 -3.15221369e-01 -1.00283235e-...</td>\n      <td>0.617187</td>\n    </tr>\n  </tbody>\n</table>\n<p>400 rows × 12 columns</p>\n</div>"
     },
     "execution_count": 142,
     "metadata": {},
     "output_type": "execute_result"
    }
   ],
   "source": [
    "member_statements = pd.read_csv('final_data/member_statements_final.csv')\n",
    "\n",
    "filtered_statements = member_statements[(member_statements['member_id'] == politician_id) & (member_statements['congress'] == politician_congress)]\n",
    "\n",
    "\n",
    "\"\"\"Get cosine similarity for each statement\"\"\"\n",
    "statement_emb_matrix = np.vstack(filtered_statements['embedding'].apply(lambda x: ast.literal_eval(clean_array_string(x))).values)\n",
    "\n",
    "transaction_emb_matrix = np.array(transaction_embedding).reshape(1,-1)\n",
    "\n",
    "filtered_statements['similarity'] = cosine_similarity(statement_emb_matrix,transaction_emb_matrix)\n",
    "\n",
    "filtered_statements"
   ],
   "metadata": {
    "collapsed": false,
    "ExecuteTime": {
     "end_time": "2023-12-09T09:10:23.693710Z",
     "start_time": "2023-12-09T09:10:15.901116Z"
    }
   },
   "id": "2aff34bb56729db7"
  },
  {
   "cell_type": "code",
   "execution_count": null,
   "outputs": [],
   "source": [],
   "metadata": {
    "collapsed": false
   },
   "id": "ea290a5c4ac41394"
  }
 ],
 "metadata": {
  "kernelspec": {
   "display_name": "Python 3",
   "language": "python",
   "name": "python3"
  },
  "language_info": {
   "codemirror_mode": {
    "name": "ipython",
    "version": 2
   },
   "file_extension": ".py",
   "mimetype": "text/x-python",
   "name": "python",
   "nbconvert_exporter": "python",
   "pygments_lexer": "ipython2",
   "version": "2.7.6"
  }
 },
 "nbformat": 4,
 "nbformat_minor": 5
}
