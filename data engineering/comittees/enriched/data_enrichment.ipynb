{
 "cells": [
  {
   "cell_type": "code",
   "execution_count": 36,
   "id": "initial_id",
   "metadata": {
    "collapsed": true,
    "ExecuteTime": {
     "end_time": "2023-11-30T20:36:06.678467Z",
     "start_time": "2023-11-30T20:36:06.665141Z"
    }
   },
   "outputs": [],
   "source": [
    "import pandas as pd\n",
    "import requests\n",
    "from openai import OpenAI\n"
   ]
  },
  {
   "cell_type": "code",
   "execution_count": 37,
   "outputs": [],
   "source": [
    "committees = pd.read_csv('../prod_data/committees.csv')\n",
    "committees_unique = committees[['committee_name']].drop_duplicates()"
   ],
   "metadata": {
    "collapsed": false,
    "ExecuteTime": {
     "end_time": "2023-11-30T20:36:07.002225Z",
     "start_time": "2023-11-30T20:36:06.990505Z"
    }
   },
   "id": "561ac5c69a3ae70c"
  },
  {
   "cell_type": "code",
   "execution_count": 49,
   "outputs": [
    {
     "data": {
      "text/plain": "                                     subcommittee_name\n0                                            Elections\n2                                            Oversight\n3                                        Modernization\n4     Nutrition, Foreign Agriculture, and Horticulture\n5    General Farm Commodities, Risk Management, and...\n..                                                 ...\n205                                   the Constitution\n206  Federal Courts, Oversight, Agency Action, and ...\n207                              Intellectual Property\n208                   Privacy, Technology, and the Law\n209                           Human Rights and the Law\n\n[187 rows x 1 columns]",
      "text/html": "<div>\n<style scoped>\n    .dataframe tbody tr th:only-of-type {\n        vertical-align: middle;\n    }\n\n    .dataframe tbody tr th {\n        vertical-align: top;\n    }\n\n    .dataframe thead th {\n        text-align: right;\n    }\n</style>\n<table border=\"1\" class=\"dataframe\">\n  <thead>\n    <tr style=\"text-align: right;\">\n      <th></th>\n      <th>subcommittee_name</th>\n    </tr>\n  </thead>\n  <tbody>\n    <tr>\n      <th>0</th>\n      <td>Elections</td>\n    </tr>\n    <tr>\n      <th>2</th>\n      <td>Oversight</td>\n    </tr>\n    <tr>\n      <th>3</th>\n      <td>Modernization</td>\n    </tr>\n    <tr>\n      <th>4</th>\n      <td>Nutrition, Foreign Agriculture, and Horticulture</td>\n    </tr>\n    <tr>\n      <th>5</th>\n      <td>General Farm Commodities, Risk Management, and...</td>\n    </tr>\n    <tr>\n      <th>...</th>\n      <td>...</td>\n    </tr>\n    <tr>\n      <th>205</th>\n      <td>the Constitution</td>\n    </tr>\n    <tr>\n      <th>206</th>\n      <td>Federal Courts, Oversight, Agency Action, and ...</td>\n    </tr>\n    <tr>\n      <th>207</th>\n      <td>Intellectual Property</td>\n    </tr>\n    <tr>\n      <th>208</th>\n      <td>Privacy, Technology, and the Law</td>\n    </tr>\n    <tr>\n      <th>209</th>\n      <td>Human Rights and the Law</td>\n    </tr>\n  </tbody>\n</table>\n<p>187 rows × 1 columns</p>\n</div>"
     },
     "execution_count": 49,
     "metadata": {},
     "output_type": "execute_result"
    }
   ],
   "source": [
    "subcommittees = pd.read_csv('../prod_data/subcommittees.csv')\n",
    "\n",
    "\n",
    "\n",
    "subcommittees_unique = subcommittees[['subcommittee_name']].drop_duplicates()\n",
    "\n",
    "subcommittees_unique"
   ],
   "metadata": {
    "collapsed": false,
    "ExecuteTime": {
     "end_time": "2023-11-30T21:00:57.303545Z",
     "start_time": "2023-11-30T21:00:57.285362Z"
    }
   },
   "id": "d7c2a290549a1f2e"
  },
  {
   "cell_type": "code",
   "execution_count": 39,
   "outputs": [
    {
     "data": {
      "text/plain": "                                        committee_name  \\\n0                          Committee on Administration   \n1                             Committee on Agriculture   \n2                          Committee on Appropriations   \n3                          Committee on Armed Services   \n4             Committee on Education and the Workforce   \n5                     Committee on Energy and Commerce   \n6                                  Committee on Ethics   \n7                      Committee on Financial Services   \n8                         Committee on Foreign Affairs   \n9                       Committee on Homeland Security   \n10                      Committee on Natural Resources   \n11           Committee on Oversight and Accountability   \n12                                  Committee on Rules   \n13         Committee on Science, Space, and Technology   \n14                         Committee on Small Business   \n15                             Committee on the Budget   \n16                          Committee on the Judiciary   \n17      Committee on Transportation and Infrastructure   \n18                      Committee on Veterans' Affairs   \n19                         Committee on Ways and Means   \n20          Permanent Select Committee on Intelligence   \n21              Select Committee on the Climate Crisis   \n22   Select Committee on the Modernization of Congress   \n23   Committee on Agriculture, Nutrition, and Forestry   \n26    Committee on Banking, Housing, and Urban Affairs   \n27   Committee on Commerce, Science, and Transporta...   \n28           Committee on Energy and Natural Resources   \n29           Committee on Environment and Public Works   \n30                                Committee on Finance   \n31                      Committee on Foreign Relations   \n32   Committee on Health, Education, Labor, and Pen...   \n33   Committee on Homeland Security and Governmenta...   \n34                         Committee on Indian Affairs   \n35               Committee on Rules and Administration   \n36    Committee on Small Business and Entrepreneurship   \n40                          Select Committee on Ethics   \n41                    Select Committee on Intelligence   \n42                          Special Committee on Aging   \n43   United States Caucus on International Narcotic...   \n44    Commission on Security and Cooperation in Europe   \n45                         Joint Committee on Printing   \n46                         Joint Committee on Taxation   \n47                      Joint Committee on the Library   \n48                            Joint Economic Committee   \n119  Select Committee on the Strategic Competition ...   \n120    Select Subcommittee on the Coronavirus Pandemic   \n121  Select Subcommittee on the Weaponization of th...   \n\n                                 committee_description  \n0    The Committee on Administration is a standing ...  \n1    The Committee on Agriculture is a standing com...  \n2    The Committee on Appropriations is a powerful ...  \n3    The House Committee on Armed Services and its ...  \n4    The Committee on Education and the Workforce i...  \n5    The Committee on Energy and Commerce is a key ...  \n6    The Committee on Ethics is a standing committe...  \n7    The Committee on Financial Services is a stand...  \n8    The Committee on Foreign Affairs in the United...  \n9    The Committee on Homeland Security is a standi...  \n10   The Committee on Natural Resources is one of t...  \n11   The Committee on Oversight and Accountability ...  \n12   The Committee on Rules is one of the oldest an...  \n13   The Committee on Science, Space, and Technolog...  \n14   The Committee on Small Business is a standing ...  \n15   The Committee on the Budget is a standing comm...  \n16   The Committee on the Judiciary is one of the s...  \n17   The Committee on Transportation and Infrastruc...  \n18   The Committee on Veterans' Affairs is a standi...  \n19   The Committee on Ways and Means is one of the ...  \n20   The Permanent Select Committee on Intelligence...  \n21   The Select Committee on the Climate Crisis is ...  \n22   The Select Committee on the Modernization of C...  \n23   The Committee on Agriculture, Nutrition, and F...  \n26   The Committee on Banking, Housing, and Urban A...  \n27   The Committee on Commerce, Science, and Transp...  \n28   The Committee on Energy and Natural Resources ...  \n29   The Committee on Environment and Public Works ...  \n30   The Committee on Finance is a standing committ...  \n31   The Committee on Foreign Relations is a standi...  \n32   The Committee on Health, Education, Labor, and...  \n33   The Committee on Homeland Security and Governm...  \n34   The Committee on Indian Affairs is a standing ...  \n35   The Committee on Rules and Administration is r...  \n36   The Committee on Small Business and Entreprene...  \n40   The Select Committee on Ethics is a bipartisan...  \n41   The Select Committee on Intelligence is a comm...  \n42   The Special Committee on Aging is a standing c...  \n43   The United States Caucus on International Narc...  \n44   The Commission on Security and Cooperation in ...  \n45   The Joint Committee on Printing is a bipartisa...  \n46   The Joint Committee on Taxation is a nonpartis...  \n47   The Joint Committee on the Library is a commit...  \n48   The Joint Economic Committee (JEC) is a commit...  \n119  The Select Committee on the Strategic Competit...  \n120  The Select Subcommittee on the Coronavirus Pan...  \n121  The Select Subcommittee on the Weaponization o...  ",
      "text/html": "<div>\n<style scoped>\n    .dataframe tbody tr th:only-of-type {\n        vertical-align: middle;\n    }\n\n    .dataframe tbody tr th {\n        vertical-align: top;\n    }\n\n    .dataframe thead th {\n        text-align: right;\n    }\n</style>\n<table border=\"1\" class=\"dataframe\">\n  <thead>\n    <tr style=\"text-align: right;\">\n      <th></th>\n      <th>committee_name</th>\n      <th>committee_description</th>\n    </tr>\n  </thead>\n  <tbody>\n    <tr>\n      <th>0</th>\n      <td>Committee on Administration</td>\n      <td>The Committee on Administration is a standing ...</td>\n    </tr>\n    <tr>\n      <th>1</th>\n      <td>Committee on Agriculture</td>\n      <td>The Committee on Agriculture is a standing com...</td>\n    </tr>\n    <tr>\n      <th>2</th>\n      <td>Committee on Appropriations</td>\n      <td>The Committee on Appropriations is a powerful ...</td>\n    </tr>\n    <tr>\n      <th>3</th>\n      <td>Committee on Armed Services</td>\n      <td>The House Committee on Armed Services and its ...</td>\n    </tr>\n    <tr>\n      <th>4</th>\n      <td>Committee on Education and the Workforce</td>\n      <td>The Committee on Education and the Workforce i...</td>\n    </tr>\n    <tr>\n      <th>5</th>\n      <td>Committee on Energy and Commerce</td>\n      <td>The Committee on Energy and Commerce is a key ...</td>\n    </tr>\n    <tr>\n      <th>6</th>\n      <td>Committee on Ethics</td>\n      <td>The Committee on Ethics is a standing committe...</td>\n    </tr>\n    <tr>\n      <th>7</th>\n      <td>Committee on Financial Services</td>\n      <td>The Committee on Financial Services is a stand...</td>\n    </tr>\n    <tr>\n      <th>8</th>\n      <td>Committee on Foreign Affairs</td>\n      <td>The Committee on Foreign Affairs in the United...</td>\n    </tr>\n    <tr>\n      <th>9</th>\n      <td>Committee on Homeland Security</td>\n      <td>The Committee on Homeland Security is a standi...</td>\n    </tr>\n    <tr>\n      <th>10</th>\n      <td>Committee on Natural Resources</td>\n      <td>The Committee on Natural Resources is one of t...</td>\n    </tr>\n    <tr>\n      <th>11</th>\n      <td>Committee on Oversight and Accountability</td>\n      <td>The Committee on Oversight and Accountability ...</td>\n    </tr>\n    <tr>\n      <th>12</th>\n      <td>Committee on Rules</td>\n      <td>The Committee on Rules is one of the oldest an...</td>\n    </tr>\n    <tr>\n      <th>13</th>\n      <td>Committee on Science, Space, and Technology</td>\n      <td>The Committee on Science, Space, and Technolog...</td>\n    </tr>\n    <tr>\n      <th>14</th>\n      <td>Committee on Small Business</td>\n      <td>The Committee on Small Business is a standing ...</td>\n    </tr>\n    <tr>\n      <th>15</th>\n      <td>Committee on the Budget</td>\n      <td>The Committee on the Budget is a standing comm...</td>\n    </tr>\n    <tr>\n      <th>16</th>\n      <td>Committee on the Judiciary</td>\n      <td>The Committee on the Judiciary is one of the s...</td>\n    </tr>\n    <tr>\n      <th>17</th>\n      <td>Committee on Transportation and Infrastructure</td>\n      <td>The Committee on Transportation and Infrastruc...</td>\n    </tr>\n    <tr>\n      <th>18</th>\n      <td>Committee on Veterans' Affairs</td>\n      <td>The Committee on Veterans' Affairs is a standi...</td>\n    </tr>\n    <tr>\n      <th>19</th>\n      <td>Committee on Ways and Means</td>\n      <td>The Committee on Ways and Means is one of the ...</td>\n    </tr>\n    <tr>\n      <th>20</th>\n      <td>Permanent Select Committee on Intelligence</td>\n      <td>The Permanent Select Committee on Intelligence...</td>\n    </tr>\n    <tr>\n      <th>21</th>\n      <td>Select Committee on the Climate Crisis</td>\n      <td>The Select Committee on the Climate Crisis is ...</td>\n    </tr>\n    <tr>\n      <th>22</th>\n      <td>Select Committee on the Modernization of Congress</td>\n      <td>The Select Committee on the Modernization of C...</td>\n    </tr>\n    <tr>\n      <th>23</th>\n      <td>Committee on Agriculture, Nutrition, and Forestry</td>\n      <td>The Committee on Agriculture, Nutrition, and F...</td>\n    </tr>\n    <tr>\n      <th>26</th>\n      <td>Committee on Banking, Housing, and Urban Affairs</td>\n      <td>The Committee on Banking, Housing, and Urban A...</td>\n    </tr>\n    <tr>\n      <th>27</th>\n      <td>Committee on Commerce, Science, and Transporta...</td>\n      <td>The Committee on Commerce, Science, and Transp...</td>\n    </tr>\n    <tr>\n      <th>28</th>\n      <td>Committee on Energy and Natural Resources</td>\n      <td>The Committee on Energy and Natural Resources ...</td>\n    </tr>\n    <tr>\n      <th>29</th>\n      <td>Committee on Environment and Public Works</td>\n      <td>The Committee on Environment and Public Works ...</td>\n    </tr>\n    <tr>\n      <th>30</th>\n      <td>Committee on Finance</td>\n      <td>The Committee on Finance is a standing committ...</td>\n    </tr>\n    <tr>\n      <th>31</th>\n      <td>Committee on Foreign Relations</td>\n      <td>The Committee on Foreign Relations is a standi...</td>\n    </tr>\n    <tr>\n      <th>32</th>\n      <td>Committee on Health, Education, Labor, and Pen...</td>\n      <td>The Committee on Health, Education, Labor, and...</td>\n    </tr>\n    <tr>\n      <th>33</th>\n      <td>Committee on Homeland Security and Governmenta...</td>\n      <td>The Committee on Homeland Security and Governm...</td>\n    </tr>\n    <tr>\n      <th>34</th>\n      <td>Committee on Indian Affairs</td>\n      <td>The Committee on Indian Affairs is a standing ...</td>\n    </tr>\n    <tr>\n      <th>35</th>\n      <td>Committee on Rules and Administration</td>\n      <td>The Committee on Rules and Administration is r...</td>\n    </tr>\n    <tr>\n      <th>36</th>\n      <td>Committee on Small Business and Entrepreneurship</td>\n      <td>The Committee on Small Business and Entreprene...</td>\n    </tr>\n    <tr>\n      <th>40</th>\n      <td>Select Committee on Ethics</td>\n      <td>The Select Committee on Ethics is a bipartisan...</td>\n    </tr>\n    <tr>\n      <th>41</th>\n      <td>Select Committee on Intelligence</td>\n      <td>The Select Committee on Intelligence is a comm...</td>\n    </tr>\n    <tr>\n      <th>42</th>\n      <td>Special Committee on Aging</td>\n      <td>The Special Committee on Aging is a standing c...</td>\n    </tr>\n    <tr>\n      <th>43</th>\n      <td>United States Caucus on International Narcotic...</td>\n      <td>The United States Caucus on International Narc...</td>\n    </tr>\n    <tr>\n      <th>44</th>\n      <td>Commission on Security and Cooperation in Europe</td>\n      <td>The Commission on Security and Cooperation in ...</td>\n    </tr>\n    <tr>\n      <th>45</th>\n      <td>Joint Committee on Printing</td>\n      <td>The Joint Committee on Printing is a bipartisa...</td>\n    </tr>\n    <tr>\n      <th>46</th>\n      <td>Joint Committee on Taxation</td>\n      <td>The Joint Committee on Taxation is a nonpartis...</td>\n    </tr>\n    <tr>\n      <th>47</th>\n      <td>Joint Committee on the Library</td>\n      <td>The Joint Committee on the Library is a commit...</td>\n    </tr>\n    <tr>\n      <th>48</th>\n      <td>Joint Economic Committee</td>\n      <td>The Joint Economic Committee (JEC) is a commit...</td>\n    </tr>\n    <tr>\n      <th>119</th>\n      <td>Select Committee on the Strategic Competition ...</td>\n      <td>The Select Committee on the Strategic Competit...</td>\n    </tr>\n    <tr>\n      <th>120</th>\n      <td>Select Subcommittee on the Coronavirus Pandemic</td>\n      <td>The Select Subcommittee on the Coronavirus Pan...</td>\n    </tr>\n    <tr>\n      <th>121</th>\n      <td>Select Subcommittee on the Weaponization of th...</td>\n      <td>The Select Subcommittee on the Weaponization o...</td>\n    </tr>\n  </tbody>\n</table>\n</div>"
     },
     "execution_count": 39,
     "metadata": {},
     "output_type": "execute_result"
    }
   ],
   "source": [
    "def call_openai_api(committee_name):\n",
    "    try:\n",
    "        completion = client.chat.completions.create(\n",
    "            messages=[\n",
    "                {\"role\": \"system\",\n",
    "                 \"content\": \"You are a political expert advising on political structures in the USA.\"},\n",
    "                {\n",
    "                    \"role\": \"user\",\n",
    "                    \"content\": f\"Provide a  description of the role of the {committee_name} committee in the United States Congress in 5 sentances.\",\n",
    "                }\n",
    "            ],\n",
    "            model=\"gpt-3.5-turbo\"\n",
    "        )\n",
    "        \n",
    "        return completion.choices[0].message.content\n",
    "    except Exception as e:\n",
    "        print(f\"Error in OpenAI API call: {e}\")\n",
    "        return None\n",
    "\n",
    "# Process each row in the DataFrame\n",
    "committees_unique['committee_description'] = committees_unique['committee_name'].apply(call_openai_api)\n",
    "\n",
    "committees_unique"
   ],
   "metadata": {
    "collapsed": false,
    "ExecuteTime": {
     "end_time": "2023-11-30T20:44:36.679163Z",
     "start_time": "2023-11-30T20:36:08.464482Z"
    }
   },
   "id": "bb0ab7aea2465dd3"
  },
  {
   "cell_type": "code",
   "execution_count": 43,
   "outputs": [],
   "source": [
    "committees.merge(committees_unique, on='committee_name', how='left').to_csv('committees_enriched.csv', index=False)"
   ],
   "metadata": {
    "collapsed": false,
    "ExecuteTime": {
     "end_time": "2023-11-30T20:59:37.956113Z",
     "start_time": "2023-11-30T20:59:37.937669Z"
    }
   },
   "id": "8d64f731d3e810c9"
  },
  {
   "cell_type": "code",
   "execution_count": 54,
   "outputs": [
    {
     "name": "stdout",
     "output_type": "stream",
     "text": [
      "Elections\n",
      "Oversight\n",
      "Modernization\n",
      "Nutrition, Foreign Agriculture, and Horticulture\n",
      "General Farm Commodities, Risk Management, and Credit\n",
      "Forestry\n",
      "Commodity Markets, Digital Assets, and Rural Development\n",
      "Livestock, Dairy, and Poultry\n",
      "Conservation, Research, and Biotechnology\n",
      "Agriculture, Rural Development, Food and Drug Administration, and Related Agencies\n",
      "Commerce, Justice, Science, and Related Agencies\n",
      "Defense\n",
      "Energy and Water Development, and Related Agencies\n",
      "Financial Services and General Government\n",
      "Homeland Security\n",
      "Interior, Environment, and Related Agencies\n",
      "Labor, Health and Human Services, Education, and Related Agencies\n",
      "Legislative Branch\n",
      "Military Construction, Veterans Affairs, and Related Agencies\n",
      "State, Foreign Operations, and Related Programs\n",
      "Transportation, Housing and Urban Development, and Related Agencies\n",
      "Tactical Air and Land Forces\n",
      "Military Personnel\n",
      "Readiness\n",
      "Seapower and Projection Forces\n",
      "Strategic Forces\n",
      "Intelligence and Special Operations\n",
      "Cyber, Information Technologies, and Innovation\n",
      "Early Childhood, Elementary, and Secondary Education\n",
      "Health, Employment, Labor, and Pensions\n",
      "Higher Education and Workforce Development\n",
      "Workforce Protections\n",
      "Civil Rights and Human Services\n",
      "Innovation, Data, and Commerce\n",
      "Communications and Technology\n",
      "Energy, Climate, and Grid Security\n",
      "Health\n",
      "Oversight and Investigations\n",
      "Environment, Manufacturing, and Critical Materials\n",
      "Capital Markets\n",
      "Consumer Protection and Financial Institutions\n",
      "Housing and Insurance\n",
      "Financial Institutions and Monetary Policy\n",
      "National Security, Illicit Finance, and International Financial Institutions\n",
      "Diversity and Inclusion\n",
      "Digital Assets, Financial Technology and Inclusion\n",
      "Africa\n",
      "Indo-Pacific\n",
      "Europe\n",
      "Oversight and Accountability\n",
      "Middle East, North Africa, and Central Asia\n",
      "Western Hemisphere\n",
      "Global Health, Global Human Rights, and International Organizations\n",
      "Border Security and Enforcement\n",
      "Emergency Management and Technology\n",
      "Cybersecurity and Infrastructure Protection\n",
      "Counterterrorism, Law Enforcement, and Intelligence\n",
      "Oversight, Investigations, and Accountability\n",
      "Transportation and Maritime Security\n",
      "Energy and Mineral Resources\n",
      "Fisheries, Wildlife, Oceans and Insular Affairs\n",
      "Federal Lands\n",
      "Water, Wildlife and Fisheries\n",
      "Indian and Insular Affairs\n",
      "Information Technology\n",
      "Government Operations and the Federal Workforce\n",
      "National Security, the Border, and Foreign Affairs\n",
      "Environment\n",
      "Health Care and Financial Services\n",
      "Intergovernmental Affairs\n",
      "Civil Rights and Civil Liberties\n",
      "Economic Growth, Energy Policy, and Regulatory Affairs\n",
      "Cybersecurity, Information Technology, and Government Innovation\n",
      "Legislative and Budget Process\n",
      "Rules and Organization of the House\n",
      "Expedited Procedures\n",
      "Energy\n",
      "Investigations and Oversight\n",
      "Space and Aeronautics\n",
      "Research and Technology\n",
      "Contracting and Infrastructure\n",
      "Oversight, Investigations, and Regulations\n",
      "Rural Development, Energy, and Supply Chains\n",
      "Underserved, Agricultural, and Rural Business Development\n",
      "Economic Growth, Tax, and Capital Access\n",
      "Innovation, Entrepreneurship, and Workforce Development\n",
      "The Constitution and Limited Government\n",
      "Courts, Intellectual Property, and the Internet\n",
      "Crime and Federal Government Surveillance\n",
      "Immigration Integrity, Security, and Enforcement\n",
      "The Administrative State, Regulatory Reform, and Antitrust\n",
      "Responsiveness and Accountability to Oversight\n",
      "Aviation\n",
      "Coast Guard and Maritime Transportation\n",
      "Economic Development, Public Buildings, and Emergency Management\n",
      "Highways and Transit\n",
      "Railroads, Pipelines, and Hazardous Materials\n",
      "Water Resources and Environment\n",
      "Disability Assistance and Memorial Affairs\n",
      "Economic Opportunity\n",
      "Technology Modernization\n",
      "Work and Welfare\n",
      "Tax\n",
      "Social Security\n",
      "Trade\n",
      "National Intelligence Enterprise\n",
      "Counterterrorism, Counterintelligence, and Counterproliferation\n",
      "Intelligence Modernization and Readiness\n",
      "Defense Intelligence and Overhead Architecture\n",
      "Emerging Threats\n",
      "National Security Agency and Cyber\n",
      "Central Intelligence Agency\n",
      "Strategic Technologies and Advanced Research\n",
      "Commodities, Risk Management, and Trade\n",
      "Conservation, Climate, Forestry, and Natural Resources\n",
      "Rural Development and Energy\n",
      "Livestock, Dairy, Poultry, Local Food Systems, and Food Safety and Security\n",
      "Food and Nutrition, Specialty Crops, Organics, and Research\n",
      "Labor, Health and Human Services, and Education, and Related Agencies\n",
      "Energy and Water Development\n",
      "Emerging Threats and Capabilities\n",
      "Personnel\n",
      "Seapower\n",
      "Airland\n",
      "Readiness and Management Support\n",
      "Cybersecurity\n",
      "Securities, Insurance, and Investment\n",
      "Housing, Transportation, and Community Development\n",
      "Economic Policy\n",
      "National Security and International Trade and Finance\n",
      "Financial Institutions and Consumer Protection\n",
      "Communications, Technology, Innovation, and the Internet\n",
      "Tourism, Competitiveness, and Innovation\n",
      "Transportation and Safety\n",
      "Security\n",
      "Manufacturing, Trade, and Consumer Protection\n",
      "Aviation and Space\n",
      "Science, Oceans, Fisheries, and Weather\n",
      "Tourism, Trade, and Export Promotion\n",
      "Communications, Media, and Broadband\n",
      "Aviation Safety, Operations, and Innovation\n",
      "Consumer Protection, Product Safety, and Data Security\n",
      "Surface Transportation, Maritime, Freight, and Ports\n",
      "Space and Science\n",
      "Oceans, Fisheries, Climate Change, and Manufacturing\n",
      "Public Lands, Forests, and Mining\n",
      "National Parks\n",
      "Water and Power\n",
      "Fisheries, Water, and Wildlife\n",
      "Chemical Safety, Waste Management, Environmental Justice, and Regulatory Oversight\n",
      "Clean Air, Climate, and Nuclear Safety\n",
      "Green Jobs and the New Economy\n",
      "Transportation and Infrastructure\n",
      "International Trade, Customs, and Global Competitiveness\n",
      "Energy, Natural Resources, and Infrastructure\n",
      "Fiscal Responsibility and Economic Growth\n",
      "Health Care\n",
      "Social Security, Pensions, and Family Policy\n",
      "Taxation and IRS Oversight\n",
      "International Development and Foreign Assistance, Economic Affairs, International Environmental Protection, and Peace Corps\n",
      "International Operations and Organizations, Human Rights, Democracy, and Global Women's Issues\n",
      "Africa and Global Health Policy\n",
      "Europe and Regional Security Cooperation\n",
      "East Asia, the Pacific, and International Cybersecurity Policy\n",
      "Near East, South Asia, Central Asia, and Counterterrorism\n",
      "Western Hemisphere, Transnational Crime, Civilian Security, Democracy, Human Rights, and Global Women's Issues\n",
      "State Department and USAID Management, International Operations, and Bilateral International Development\n",
      "Multilateral International Development, Multilateral Institutions, and International Economic, Energy, and Environmental Policy\n",
      "Children and Families\n",
      "Employment and Workplace Safety\n",
      "Primary Health and Retirement Security\n",
      "Permanent Subcommittee on Investigations\n",
      "Financial and Contracting Oversight\n",
      "Emergency Management, Intergovernmental Relations, and the District of Columbia\n",
      "the Efficiency and Effectiveness of Federal Programs and the Federal Workforce\n",
      "Regulatory Affairs and Federal Management\n",
      "Federal Spending Oversight and Emergency Management\n",
      "Emerging Threats and Spending Oversight\n",
      "Government Operations and Border Management\n",
      "Competition Policy, Antitrust, and Consumer Rights\n",
      "Immigration, Citizenship, and Border Safety\n",
      "Criminal Justice and Counterterrorism\n",
      "the Constitution\n",
      "Federal Courts, Oversight, Agency Action, and Federal Rights\n",
      "Intellectual Property\n",
      "Privacy, Technology, and the Law\n",
      "Human Rights and the Law\n"
     ]
    },
    {
     "data": {
      "text/plain": "                                     subcommittee_name  \\\n0                                            Elections   \n2                                            Oversight   \n3                                        Modernization   \n4     Nutrition, Foreign Agriculture, and Horticulture   \n5    General Farm Commodities, Risk Management, and...   \n..                                                 ...   \n205                                   the Constitution   \n206  Federal Courts, Oversight, Agency Action, and ...   \n207                              Intellectual Property   \n208                   Privacy, Technology, and the Law   \n209                           Human Rights and the Law   \n\n                              subcommittee_description  \n0    The Elections subcommittee in the United State...  \n2    The Oversight subcommittee, also known as the ...  \n3    The Modernization subcommittee is a specialize...  \n4    The Nutrition, Foreign Agriculture, and Hortic...  \n5    The General Farm Commodities, Risk Management,...  \n..                                                 ...  \n205  The Constitution subcommittee in the United St...  \n206  The Federal Courts, Oversight, Agency Action, ...  \n207  The Intellectual Property subcommittee is a le...  \n208  The Privacy, Technology, and the Law subcommit...  \n209  The Human Rights and the Law subcommittee in t...  \n\n[187 rows x 2 columns]",
      "text/html": "<div>\n<style scoped>\n    .dataframe tbody tr th:only-of-type {\n        vertical-align: middle;\n    }\n\n    .dataframe tbody tr th {\n        vertical-align: top;\n    }\n\n    .dataframe thead th {\n        text-align: right;\n    }\n</style>\n<table border=\"1\" class=\"dataframe\">\n  <thead>\n    <tr style=\"text-align: right;\">\n      <th></th>\n      <th>subcommittee_name</th>\n      <th>subcommittee_description</th>\n    </tr>\n  </thead>\n  <tbody>\n    <tr>\n      <th>0</th>\n      <td>Elections</td>\n      <td>The Elections subcommittee in the United State...</td>\n    </tr>\n    <tr>\n      <th>2</th>\n      <td>Oversight</td>\n      <td>The Oversight subcommittee, also known as the ...</td>\n    </tr>\n    <tr>\n      <th>3</th>\n      <td>Modernization</td>\n      <td>The Modernization subcommittee is a specialize...</td>\n    </tr>\n    <tr>\n      <th>4</th>\n      <td>Nutrition, Foreign Agriculture, and Horticulture</td>\n      <td>The Nutrition, Foreign Agriculture, and Hortic...</td>\n    </tr>\n    <tr>\n      <th>5</th>\n      <td>General Farm Commodities, Risk Management, and...</td>\n      <td>The General Farm Commodities, Risk Management,...</td>\n    </tr>\n    <tr>\n      <th>...</th>\n      <td>...</td>\n      <td>...</td>\n    </tr>\n    <tr>\n      <th>205</th>\n      <td>the Constitution</td>\n      <td>The Constitution subcommittee in the United St...</td>\n    </tr>\n    <tr>\n      <th>206</th>\n      <td>Federal Courts, Oversight, Agency Action, and ...</td>\n      <td>The Federal Courts, Oversight, Agency Action, ...</td>\n    </tr>\n    <tr>\n      <th>207</th>\n      <td>Intellectual Property</td>\n      <td>The Intellectual Property subcommittee is a le...</td>\n    </tr>\n    <tr>\n      <th>208</th>\n      <td>Privacy, Technology, and the Law</td>\n      <td>The Privacy, Technology, and the Law subcommit...</td>\n    </tr>\n    <tr>\n      <th>209</th>\n      <td>Human Rights and the Law</td>\n      <td>The Human Rights and the Law subcommittee in t...</td>\n    </tr>\n  </tbody>\n</table>\n<p>187 rows × 2 columns</p>\n</div>"
     },
     "execution_count": 54,
     "metadata": {},
     "output_type": "execute_result"
    }
   ],
   "source": [
    "client = \n",
    "\n",
    "def call_openai_api(committee_name):\n",
    "    try:\n",
    "        completion = client.chat.completions.create(\n",
    "            messages=[\n",
    "                {\"role\": \"system\",\n",
    "                 \"content\": \"You are a political expert advising on political structures in the USA.\"},\n",
    "                {\n",
    "                    \"role\": \"user\",\n",
    "                    \"content\": f\"Provide a  description of the role of the {committee_name} subcommittee in the United States Congress in 5 sentances.\",\n",
    "                }\n",
    "            ],\n",
    "            model=\"gpt-3.5-turbo\"\n",
    "        )\n",
    "        print(committee_name)\n",
    "        return completion.choices[0].message.content\n",
    "       \n",
    "    except Exception as e:\n",
    "        print(f\"Error in OpenAI API call: {e}\")\n",
    "        return None\n",
    "\n",
    "# Process each row in the DataFrame\n",
    "subcommittees_unique['subcommittee_description'] = subcommittees_unique['subcommittee_name'].apply(call_openai_api)\n",
    "\n",
    "subcommittees_unique"
   ],
   "metadata": {
    "collapsed": false,
    "ExecuteTime": {
     "end_time": "2023-11-30T22:09:06.287427Z",
     "start_time": "2023-11-30T21:33:33.371667Z"
    }
   },
   "id": "982a1a6d719c63a3"
  },
  {
   "cell_type": "code",
   "execution_count": 55,
   "outputs": [
    {
     "data": {
      "text/plain": "                                     subcommittee_name  \\\n0                                            Elections   \n2                                            Oversight   \n3                                        Modernization   \n4     Nutrition, Foreign Agriculture, and Horticulture   \n5    General Farm Commodities, Risk Management, and...   \n..                                                 ...   \n205                                   the Constitution   \n206  Federal Courts, Oversight, Agency Action, and ...   \n207                              Intellectual Property   \n208                   Privacy, Technology, and the Law   \n209                           Human Rights and the Law   \n\n                              subcommittee_description  \n0    The Elections subcommittee in the United State...  \n2    The Oversight subcommittee, also known as the ...  \n3    The Modernization subcommittee is a specialize...  \n4    The Nutrition, Foreign Agriculture, and Hortic...  \n5    The General Farm Commodities, Risk Management,...  \n..                                                 ...  \n205  The Constitution subcommittee in the United St...  \n206  The Federal Courts, Oversight, Agency Action, ...  \n207  The Intellectual Property subcommittee is a le...  \n208  The Privacy, Technology, and the Law subcommit...  \n209  The Human Rights and the Law subcommittee in t...  \n\n[187 rows x 2 columns]",
      "text/html": "<div>\n<style scoped>\n    .dataframe tbody tr th:only-of-type {\n        vertical-align: middle;\n    }\n\n    .dataframe tbody tr th {\n        vertical-align: top;\n    }\n\n    .dataframe thead th {\n        text-align: right;\n    }\n</style>\n<table border=\"1\" class=\"dataframe\">\n  <thead>\n    <tr style=\"text-align: right;\">\n      <th></th>\n      <th>subcommittee_name</th>\n      <th>subcommittee_description</th>\n    </tr>\n  </thead>\n  <tbody>\n    <tr>\n      <th>0</th>\n      <td>Elections</td>\n      <td>The Elections subcommittee in the United State...</td>\n    </tr>\n    <tr>\n      <th>2</th>\n      <td>Oversight</td>\n      <td>The Oversight subcommittee, also known as the ...</td>\n    </tr>\n    <tr>\n      <th>3</th>\n      <td>Modernization</td>\n      <td>The Modernization subcommittee is a specialize...</td>\n    </tr>\n    <tr>\n      <th>4</th>\n      <td>Nutrition, Foreign Agriculture, and Horticulture</td>\n      <td>The Nutrition, Foreign Agriculture, and Hortic...</td>\n    </tr>\n    <tr>\n      <th>5</th>\n      <td>General Farm Commodities, Risk Management, and...</td>\n      <td>The General Farm Commodities, Risk Management,...</td>\n    </tr>\n    <tr>\n      <th>...</th>\n      <td>...</td>\n      <td>...</td>\n    </tr>\n    <tr>\n      <th>205</th>\n      <td>the Constitution</td>\n      <td>The Constitution subcommittee in the United St...</td>\n    </tr>\n    <tr>\n      <th>206</th>\n      <td>Federal Courts, Oversight, Agency Action, and ...</td>\n      <td>The Federal Courts, Oversight, Agency Action, ...</td>\n    </tr>\n    <tr>\n      <th>207</th>\n      <td>Intellectual Property</td>\n      <td>The Intellectual Property subcommittee is a le...</td>\n    </tr>\n    <tr>\n      <th>208</th>\n      <td>Privacy, Technology, and the Law</td>\n      <td>The Privacy, Technology, and the Law subcommit...</td>\n    </tr>\n    <tr>\n      <th>209</th>\n      <td>Human Rights and the Law</td>\n      <td>The Human Rights and the Law subcommittee in t...</td>\n    </tr>\n  </tbody>\n</table>\n<p>187 rows × 2 columns</p>\n</div>"
     },
     "execution_count": 55,
     "metadata": {},
     "output_type": "execute_result"
    }
   ],
   "source": [
    "subcommittees_unique"
   ],
   "metadata": {
    "collapsed": false,
    "ExecuteTime": {
     "end_time": "2023-11-30T22:10:15.204389Z",
     "start_time": "2023-11-30T22:10:15.189139Z"
    }
   },
   "id": "e184070fb68eb48d"
  },
  {
   "cell_type": "code",
   "execution_count": 56,
   "outputs": [
    {
     "data": {
      "text/plain": "                                     subcommittee_name  \\\n0                                            Elections   \n2                                            Oversight   \n3                                        Modernization   \n4     Nutrition, Foreign Agriculture, and Horticulture   \n5    General Farm Commodities, Risk Management, and...   \n..                                                 ...   \n205                                   the Constitution   \n206  Federal Courts, Oversight, Agency Action, and ...   \n207                              Intellectual Property   \n208                   Privacy, Technology, and the Law   \n209                           Human Rights and the Law   \n\n                              subcommittee_description  \n0    The Elections subcommittee in the United State...  \n2    The Oversight subcommittee, also known as the ...  \n3    The Modernization subcommittee is a specialize...  \n4    The Nutrition, Foreign Agriculture, and Hortic...  \n5    The General Farm Commodities, Risk Management,...  \n..                                                 ...  \n205  The Constitution subcommittee in the United St...  \n206  The Federal Courts, Oversight, Agency Action, ...  \n207  The Intellectual Property subcommittee is a le...  \n208  The Privacy, Technology, and the Law subcommit...  \n209  The Human Rights and the Law subcommittee in t...  \n\n[187 rows x 2 columns]",
      "text/html": "<div>\n<style scoped>\n    .dataframe tbody tr th:only-of-type {\n        vertical-align: middle;\n    }\n\n    .dataframe tbody tr th {\n        vertical-align: top;\n    }\n\n    .dataframe thead th {\n        text-align: right;\n    }\n</style>\n<table border=\"1\" class=\"dataframe\">\n  <thead>\n    <tr style=\"text-align: right;\">\n      <th></th>\n      <th>subcommittee_name</th>\n      <th>subcommittee_description</th>\n    </tr>\n  </thead>\n  <tbody>\n    <tr>\n      <th>0</th>\n      <td>Elections</td>\n      <td>The Elections subcommittee in the United State...</td>\n    </tr>\n    <tr>\n      <th>2</th>\n      <td>Oversight</td>\n      <td>The Oversight subcommittee, also known as the ...</td>\n    </tr>\n    <tr>\n      <th>3</th>\n      <td>Modernization</td>\n      <td>The Modernization subcommittee is a specialize...</td>\n    </tr>\n    <tr>\n      <th>4</th>\n      <td>Nutrition, Foreign Agriculture, and Horticulture</td>\n      <td>The Nutrition, Foreign Agriculture, and Hortic...</td>\n    </tr>\n    <tr>\n      <th>5</th>\n      <td>General Farm Commodities, Risk Management, and...</td>\n      <td>The General Farm Commodities, Risk Management,...</td>\n    </tr>\n    <tr>\n      <th>...</th>\n      <td>...</td>\n      <td>...</td>\n    </tr>\n    <tr>\n      <th>205</th>\n      <td>the Constitution</td>\n      <td>The Constitution subcommittee in the United St...</td>\n    </tr>\n    <tr>\n      <th>206</th>\n      <td>Federal Courts, Oversight, Agency Action, and ...</td>\n      <td>The Federal Courts, Oversight, Agency Action, ...</td>\n    </tr>\n    <tr>\n      <th>207</th>\n      <td>Intellectual Property</td>\n      <td>The Intellectual Property subcommittee is a le...</td>\n    </tr>\n    <tr>\n      <th>208</th>\n      <td>Privacy, Technology, and the Law</td>\n      <td>The Privacy, Technology, and the Law subcommit...</td>\n    </tr>\n    <tr>\n      <th>209</th>\n      <td>Human Rights and the Law</td>\n      <td>The Human Rights and the Law subcommittee in t...</td>\n    </tr>\n  </tbody>\n</table>\n<p>187 rows × 2 columns</p>\n</div>"
     },
     "execution_count": 56,
     "metadata": {},
     "output_type": "execute_result"
    }
   ],
   "source": [
    "subcommittees_unique"
   ],
   "metadata": {
    "collapsed": false,
    "ExecuteTime": {
     "end_time": "2023-11-30T22:10:22.410870Z",
     "start_time": "2023-11-30T22:10:22.373576Z"
    }
   },
   "id": "c579f349f60c8b3f"
  },
  {
   "cell_type": "code",
   "execution_count": 58,
   "outputs": [],
   "source": [
    "subcommittees.merge(subcommittees_unique, on='subcommittee_name', how='left').to_csv('subcommittees_enriched.csv', index=False)"
   ],
   "metadata": {
    "collapsed": false,
    "ExecuteTime": {
     "end_time": "2023-11-30T22:10:38.585073Z",
     "start_time": "2023-11-30T22:10:38.534972Z"
    }
   },
   "id": "a6c3634551c10ba5"
  },
  {
   "cell_type": "code",
   "execution_count": 61,
   "outputs": [
    {
     "data": {
      "text/plain": "             display_name    string_name combined_transaction_date  \\\n0          Rep. Susie Lee      susie lee                2020-02-24   \n1          Rep. Susie Lee      susie lee                2020-03-06   \n2          Rep. Susie Lee      susie lee                2020-03-23   \n3          Rep. Susie Lee      susie lee                2020-02-04   \n4          Rep. Susie Lee      susie lee                2020-03-18   \n...                   ...            ...                       ...   \n24121  Sen. Thomas Carper  thomas carper                2023-01-11   \n24122  Sen. Thomas Carper  thomas carper                2023-01-11   \n24123  Sen. Thomas Carper  thomas carper                2023-01-11   \n24124     Sen. Rick Scott     rick scott                2023-01-19   \n24125  Sen. Thomas Carper  thomas carper                2023-01-05   \n\n      disclosure_date ticker  \\\n0          04/28/2020    BHC   \n1          04/28/2020    BAH   \n2          04/28/2020    BYD   \n3          04/28/2020   CTLT   \n4          04/28/2020   CBRE   \n...               ...    ...   \n24121      02/02/2023   FLNG   \n24122      02/02/2023   EQNR   \n24123      02/02/2023    MCD   \n24124      01/19/2023    NaN   \n24125      01/05/2023    NaN   \n\n                                       asset_description          type  \\\n0                           Bausch Health Companies Inc.      purchase   \n1                Booz Allen Hamilton Holding Corporation     sale_full   \n2                                Boyd Gaming Corporation     sale_full   \n3                                         Catalent, Inc.      purchase   \n4                    CBRE Group Inc Common Stock Class A  sale_partial   \n...                                                  ...           ...   \n24121                      FLEX LNG Ltd. Ordinary Shares      Purchase   \n24122                                        Equinor ASA      Purchase   \n24123                McDonald's Corporation Common Stock   Sale (Full)   \n24124  This filing was disclosed via scanned PDF. Use...           NaN   \n24125  This filing was disclosed via scanned PDF. Use...           NaN   \n\n                 amount                                    industry  \\\n0      $1,001 - $15,000           Pharmaceuticals and Biotechnology   \n1      $1,001 - $15,000                       Professional Services   \n2      $1,001 - $15,000                        Movies/Entertainment   \n3      $1,001 - $15,000  Biotechnology: Pharmaceutical Preparations   \n4      $1,001 - $15,000                                 Real Estate   \n...                 ...                                         ...   \n24121  $1,001 - $15,000                                         NaN   \n24122  $1,001 - $15,000                    Integrated oil Companies   \n24123  $1,001 - $15,000                                 Restaurants   \n24124           Unknown                                         NaN   \n24125           Unknown                                         NaN   \n\n                       sector state  \\\n0                 Health Care    NV   \n1           Consumer Services    NV   \n2      Consumer Discretionary    NV   \n3                 Health Care    NV   \n4                     Finance    NV   \n...                       ...   ...   \n24121                     NaN    DE   \n24122                  Energy    DE   \n24123       Consumer Services    DE   \n24124                     NaN   NaN   \n24125                     NaN   NaN   \n\n                                                ptr_link  amount_formatted  \\\n0      https://disclosures-clerk.house.gov/public_dis...            1000.0   \n1      https://disclosures-clerk.house.gov/public_dis...            1000.0   \n2      https://disclosures-clerk.house.gov/public_dis...            1000.0   \n3      https://disclosures-clerk.house.gov/public_dis...            1000.0   \n4      https://disclosures-clerk.house.gov/public_dis...            1000.0   \n...                                                  ...               ...   \n24121  https://efdsearch.senate.gov/search/view/ptr/d...            1000.0   \n24122  https://efdsearch.senate.gov/search/view/ptr/d...            1000.0   \n24123  https://efdsearch.senate.gov/search/view/ptr/d...            1000.0   \n24124  https://efdsearch.senate.gov/search/view/ptr/6...               NaN   \n24125  https://efdsearch.senate.gov/search/view/ptr/3...               NaN   \n\n            id                                  uuid  congress  \n0      L000590  c1c5c603-f2ea-4c99-a9e4-5c158229c0e7       116  \n1      L000590  b76332f3-3410-4ed0-82e6-ab19f484a330       116  \n2      L000590  37707207-7c2e-4ff3-9404-ceaeb052b1df       116  \n3      L000590  1eaa4073-8742-4411-8df5-e27ce597a3e6       116  \n4      L000590  60f1a149-4c5e-4f06-9ec6-d4c3189e99af       116  \n...        ...                                   ...       ...  \n24121  C000174  8a87e854-6314-478f-addf-5ff12fb72859       118  \n24122  C000174  cb62098f-922a-4b1e-bb6f-9725e1742b65       118  \n24123  C000174  3037eb9c-70c2-4b79-99f3-7024bed1b246       118  \n24124  S001217  09100fe3-0102-4f22-8d2b-e65128ac6372       118  \n24125  C000174  d63df06b-072a-4bea-b666-35084ed6206a       118  \n\n[24126 rows x 16 columns]",
      "text/html": "<div>\n<style scoped>\n    .dataframe tbody tr th:only-of-type {\n        vertical-align: middle;\n    }\n\n    .dataframe tbody tr th {\n        vertical-align: top;\n    }\n\n    .dataframe thead th {\n        text-align: right;\n    }\n</style>\n<table border=\"1\" class=\"dataframe\">\n  <thead>\n    <tr style=\"text-align: right;\">\n      <th></th>\n      <th>display_name</th>\n      <th>string_name</th>\n      <th>combined_transaction_date</th>\n      <th>disclosure_date</th>\n      <th>ticker</th>\n      <th>asset_description</th>\n      <th>type</th>\n      <th>amount</th>\n      <th>industry</th>\n      <th>sector</th>\n      <th>state</th>\n      <th>ptr_link</th>\n      <th>amount_formatted</th>\n      <th>id</th>\n      <th>uuid</th>\n      <th>congress</th>\n    </tr>\n  </thead>\n  <tbody>\n    <tr>\n      <th>0</th>\n      <td>Rep. Susie Lee</td>\n      <td>susie lee</td>\n      <td>2020-02-24</td>\n      <td>04/28/2020</td>\n      <td>BHC</td>\n      <td>Bausch Health Companies Inc.</td>\n      <td>purchase</td>\n      <td>$1,001 - $15,000</td>\n      <td>Pharmaceuticals and Biotechnology</td>\n      <td>Health Care</td>\n      <td>NV</td>\n      <td>https://disclosures-clerk.house.gov/public_dis...</td>\n      <td>1000.0</td>\n      <td>L000590</td>\n      <td>c1c5c603-f2ea-4c99-a9e4-5c158229c0e7</td>\n      <td>116</td>\n    </tr>\n    <tr>\n      <th>1</th>\n      <td>Rep. Susie Lee</td>\n      <td>susie lee</td>\n      <td>2020-03-06</td>\n      <td>04/28/2020</td>\n      <td>BAH</td>\n      <td>Booz Allen Hamilton Holding Corporation</td>\n      <td>sale_full</td>\n      <td>$1,001 - $15,000</td>\n      <td>Professional Services</td>\n      <td>Consumer Services</td>\n      <td>NV</td>\n      <td>https://disclosures-clerk.house.gov/public_dis...</td>\n      <td>1000.0</td>\n      <td>L000590</td>\n      <td>b76332f3-3410-4ed0-82e6-ab19f484a330</td>\n      <td>116</td>\n    </tr>\n    <tr>\n      <th>2</th>\n      <td>Rep. Susie Lee</td>\n      <td>susie lee</td>\n      <td>2020-03-23</td>\n      <td>04/28/2020</td>\n      <td>BYD</td>\n      <td>Boyd Gaming Corporation</td>\n      <td>sale_full</td>\n      <td>$1,001 - $15,000</td>\n      <td>Movies/Entertainment</td>\n      <td>Consumer Discretionary</td>\n      <td>NV</td>\n      <td>https://disclosures-clerk.house.gov/public_dis...</td>\n      <td>1000.0</td>\n      <td>L000590</td>\n      <td>37707207-7c2e-4ff3-9404-ceaeb052b1df</td>\n      <td>116</td>\n    </tr>\n    <tr>\n      <th>3</th>\n      <td>Rep. Susie Lee</td>\n      <td>susie lee</td>\n      <td>2020-02-04</td>\n      <td>04/28/2020</td>\n      <td>CTLT</td>\n      <td>Catalent, Inc.</td>\n      <td>purchase</td>\n      <td>$1,001 - $15,000</td>\n      <td>Biotechnology: Pharmaceutical Preparations</td>\n      <td>Health Care</td>\n      <td>NV</td>\n      <td>https://disclosures-clerk.house.gov/public_dis...</td>\n      <td>1000.0</td>\n      <td>L000590</td>\n      <td>1eaa4073-8742-4411-8df5-e27ce597a3e6</td>\n      <td>116</td>\n    </tr>\n    <tr>\n      <th>4</th>\n      <td>Rep. Susie Lee</td>\n      <td>susie lee</td>\n      <td>2020-03-18</td>\n      <td>04/28/2020</td>\n      <td>CBRE</td>\n      <td>CBRE Group Inc Common Stock Class A</td>\n      <td>sale_partial</td>\n      <td>$1,001 - $15,000</td>\n      <td>Real Estate</td>\n      <td>Finance</td>\n      <td>NV</td>\n      <td>https://disclosures-clerk.house.gov/public_dis...</td>\n      <td>1000.0</td>\n      <td>L000590</td>\n      <td>60f1a149-4c5e-4f06-9ec6-d4c3189e99af</td>\n      <td>116</td>\n    </tr>\n    <tr>\n      <th>...</th>\n      <td>...</td>\n      <td>...</td>\n      <td>...</td>\n      <td>...</td>\n      <td>...</td>\n      <td>...</td>\n      <td>...</td>\n      <td>...</td>\n      <td>...</td>\n      <td>...</td>\n      <td>...</td>\n      <td>...</td>\n      <td>...</td>\n      <td>...</td>\n      <td>...</td>\n      <td>...</td>\n    </tr>\n    <tr>\n      <th>24121</th>\n      <td>Sen. Thomas Carper</td>\n      <td>thomas carper</td>\n      <td>2023-01-11</td>\n      <td>02/02/2023</td>\n      <td>FLNG</td>\n      <td>FLEX LNG Ltd. Ordinary Shares</td>\n      <td>Purchase</td>\n      <td>$1,001 - $15,000</td>\n      <td>NaN</td>\n      <td>NaN</td>\n      <td>DE</td>\n      <td>https://efdsearch.senate.gov/search/view/ptr/d...</td>\n      <td>1000.0</td>\n      <td>C000174</td>\n      <td>8a87e854-6314-478f-addf-5ff12fb72859</td>\n      <td>118</td>\n    </tr>\n    <tr>\n      <th>24122</th>\n      <td>Sen. Thomas Carper</td>\n      <td>thomas carper</td>\n      <td>2023-01-11</td>\n      <td>02/02/2023</td>\n      <td>EQNR</td>\n      <td>Equinor ASA</td>\n      <td>Purchase</td>\n      <td>$1,001 - $15,000</td>\n      <td>Integrated oil Companies</td>\n      <td>Energy</td>\n      <td>DE</td>\n      <td>https://efdsearch.senate.gov/search/view/ptr/d...</td>\n      <td>1000.0</td>\n      <td>C000174</td>\n      <td>cb62098f-922a-4b1e-bb6f-9725e1742b65</td>\n      <td>118</td>\n    </tr>\n    <tr>\n      <th>24123</th>\n      <td>Sen. Thomas Carper</td>\n      <td>thomas carper</td>\n      <td>2023-01-11</td>\n      <td>02/02/2023</td>\n      <td>MCD</td>\n      <td>McDonald's Corporation Common Stock</td>\n      <td>Sale (Full)</td>\n      <td>$1,001 - $15,000</td>\n      <td>Restaurants</td>\n      <td>Consumer Services</td>\n      <td>DE</td>\n      <td>https://efdsearch.senate.gov/search/view/ptr/d...</td>\n      <td>1000.0</td>\n      <td>C000174</td>\n      <td>3037eb9c-70c2-4b79-99f3-7024bed1b246</td>\n      <td>118</td>\n    </tr>\n    <tr>\n      <th>24124</th>\n      <td>Sen. Rick Scott</td>\n      <td>rick scott</td>\n      <td>2023-01-19</td>\n      <td>01/19/2023</td>\n      <td>NaN</td>\n      <td>This filing was disclosed via scanned PDF. Use...</td>\n      <td>NaN</td>\n      <td>Unknown</td>\n      <td>NaN</td>\n      <td>NaN</td>\n      <td>NaN</td>\n      <td>https://efdsearch.senate.gov/search/view/ptr/6...</td>\n      <td>NaN</td>\n      <td>S001217</td>\n      <td>09100fe3-0102-4f22-8d2b-e65128ac6372</td>\n      <td>118</td>\n    </tr>\n    <tr>\n      <th>24125</th>\n      <td>Sen. Thomas Carper</td>\n      <td>thomas carper</td>\n      <td>2023-01-05</td>\n      <td>01/05/2023</td>\n      <td>NaN</td>\n      <td>This filing was disclosed via scanned PDF. Use...</td>\n      <td>NaN</td>\n      <td>Unknown</td>\n      <td>NaN</td>\n      <td>NaN</td>\n      <td>NaN</td>\n      <td>https://efdsearch.senate.gov/search/view/ptr/3...</td>\n      <td>NaN</td>\n      <td>C000174</td>\n      <td>d63df06b-072a-4bea-b666-35084ed6206a</td>\n      <td>118</td>\n    </tr>\n  </tbody>\n</table>\n<p>24126 rows × 16 columns</p>\n</div>"
     },
     "execution_count": 61,
     "metadata": {},
     "output_type": "execute_result"
    }
   ],
   "source": [
    "trans = pd.read_csv('../prod_data/transactions.csv')\n",
    "\n",
    "trans"
   ],
   "metadata": {
    "collapsed": false,
    "ExecuteTime": {
     "end_time": "2023-11-30T22:22:39.209606Z",
     "start_time": "2023-11-30T22:22:39.104780Z"
    }
   },
   "id": "db711b6d21757095"
  },
  {
   "cell_type": "code",
   "execution_count": 107,
   "outputs": [
    {
     "data": {
      "text/plain": "                                      industry  \\\n0      Computer Software: Prepackaged Software   \n1                     Natural Gas Distribution   \n2                                  Major Banks   \n3              Industrial Machinery/Components   \n4                               Semiconductors   \n..                                         ...   \n130                             Steel/Iron Ore   \n131           Recreational Games/Products/Toys   \n132  Retail-Drug Stores and Proprietary Stores   \n133                                      Banks   \n134                               Metal Mining   \n\n                                           description  \n0    Software development and distribution for gene...  \n1    Distribution of natural gas for various purposes.  \n2    Large-scale banking institutions with signific...  \n3    Manufacturers of industrial machinery and rela...  \n4    Companies involved in the design and productio...  \n..                                                 ...  \n130  Companies engaged in the production and distri...  \n131  Manufacturers of recreational games, products,...  \n132  Retailers specializing in drug and proprietary...  \n133  Financial institutions specializing in banking...  \n134  Companies involved in metal mining and related...  \n\n[135 rows x 2 columns]",
      "text/html": "<div>\n<style scoped>\n    .dataframe tbody tr th:only-of-type {\n        vertical-align: middle;\n    }\n\n    .dataframe tbody tr th {\n        vertical-align: top;\n    }\n\n    .dataframe thead th {\n        text-align: right;\n    }\n</style>\n<table border=\"1\" class=\"dataframe\">\n  <thead>\n    <tr style=\"text-align: right;\">\n      <th></th>\n      <th>industry</th>\n      <th>description</th>\n    </tr>\n  </thead>\n  <tbody>\n    <tr>\n      <th>0</th>\n      <td>Computer Software: Prepackaged Software</td>\n      <td>Software development and distribution for gene...</td>\n    </tr>\n    <tr>\n      <th>1</th>\n      <td>Natural Gas Distribution</td>\n      <td>Distribution of natural gas for various purposes.</td>\n    </tr>\n    <tr>\n      <th>2</th>\n      <td>Major Banks</td>\n      <td>Large-scale banking institutions with signific...</td>\n    </tr>\n    <tr>\n      <th>3</th>\n      <td>Industrial Machinery/Components</td>\n      <td>Manufacturers of industrial machinery and rela...</td>\n    </tr>\n    <tr>\n      <th>4</th>\n      <td>Semiconductors</td>\n      <td>Companies involved in the design and productio...</td>\n    </tr>\n    <tr>\n      <th>...</th>\n      <td>...</td>\n      <td>...</td>\n    </tr>\n    <tr>\n      <th>130</th>\n      <td>Steel/Iron Ore</td>\n      <td>Companies engaged in the production and distri...</td>\n    </tr>\n    <tr>\n      <th>131</th>\n      <td>Recreational Games/Products/Toys</td>\n      <td>Manufacturers of recreational games, products,...</td>\n    </tr>\n    <tr>\n      <th>132</th>\n      <td>Retail-Drug Stores and Proprietary Stores</td>\n      <td>Retailers specializing in drug and proprietary...</td>\n    </tr>\n    <tr>\n      <th>133</th>\n      <td>Banks</td>\n      <td>Financial institutions specializing in banking...</td>\n    </tr>\n    <tr>\n      <th>134</th>\n      <td>Metal Mining</td>\n      <td>Companies involved in metal mining and related...</td>\n    </tr>\n  </tbody>\n</table>\n<p>135 rows × 2 columns</p>\n</div>"
     },
     "execution_count": 107,
     "metadata": {},
     "output_type": "execute_result"
    }
   ],
   "source": [
    "sectors = trans['sector'].unique()\n",
    "industries = trans['industry'].unique()\n",
    "industry_enriched = pd.read_csv('industry_enriched.csv')\n",
    "industry_enriched.rename(columns={'Industry': 'industry', 'Description ': 'description'}, inplace=True)\n",
    "\n",
    "industry_enriched"
   ],
   "metadata": {
    "collapsed": false,
    "ExecuteTime": {
     "end_time": "2023-11-30T23:21:59.863527Z",
     "start_time": "2023-11-30T23:21:59.851394Z"
    }
   },
   "id": "a258975bac18bf33"
  },
  {
   "cell_type": "code",
   "execution_count": 110,
   "outputs": [
    {
     "data": {
      "text/plain": "                                     industry  \\\n0                                         nan   \n1                    Ordnance And Accessories   \n2                              Motor Vehicles   \n3                    Assisted Living Services   \n4  Medicinal Chemicals and Botanical Products   \n5                          Building Materials   \n6                                       Books   \n7                           Finance Companies   \n8                              Tools/Hardware   \n9                   Security Systems Services   \n\n                                         description  \n0                    Not applicable or not available  \n1  Manufacturing and supply of military equipment...  \n2  Production and sale of automobiles and motorcy...  \n3  Provision of residential care and personal ass...  \n4  Manufacture of pharmaceutical substances and n...  \n5  Production and distribution of materials used ...  \n6  Publishing, distribution, and retail of printe...  \n7  Financial services such as loans, credit facil...  \n8  Manufacture and sale of hand tools, power tool...  \n9  Provision of security systems, surveillance, a...  ",
      "text/html": "<div>\n<style scoped>\n    .dataframe tbody tr th:only-of-type {\n        vertical-align: middle;\n    }\n\n    .dataframe tbody tr th {\n        vertical-align: top;\n    }\n\n    .dataframe thead th {\n        text-align: right;\n    }\n</style>\n<table border=\"1\" class=\"dataframe\">\n  <thead>\n    <tr style=\"text-align: right;\">\n      <th></th>\n      <th>industry</th>\n      <th>description</th>\n    </tr>\n  </thead>\n  <tbody>\n    <tr>\n      <th>0</th>\n      <td>nan</td>\n      <td>Not applicable or not available</td>\n    </tr>\n    <tr>\n      <th>1</th>\n      <td>Ordnance And Accessories</td>\n      <td>Manufacturing and supply of military equipment...</td>\n    </tr>\n    <tr>\n      <th>2</th>\n      <td>Motor Vehicles</td>\n      <td>Production and sale of automobiles and motorcy...</td>\n    </tr>\n    <tr>\n      <th>3</th>\n      <td>Assisted Living Services</td>\n      <td>Provision of residential care and personal ass...</td>\n    </tr>\n    <tr>\n      <th>4</th>\n      <td>Medicinal Chemicals and Botanical Products</td>\n      <td>Manufacture of pharmaceutical substances and n...</td>\n    </tr>\n    <tr>\n      <th>5</th>\n      <td>Building Materials</td>\n      <td>Production and distribution of materials used ...</td>\n    </tr>\n    <tr>\n      <th>6</th>\n      <td>Books</td>\n      <td>Publishing, distribution, and retail of printe...</td>\n    </tr>\n    <tr>\n      <th>7</th>\n      <td>Finance Companies</td>\n      <td>Financial services such as loans, credit facil...</td>\n    </tr>\n    <tr>\n      <th>8</th>\n      <td>Tools/Hardware</td>\n      <td>Manufacture and sale of hand tools, power tool...</td>\n    </tr>\n    <tr>\n      <th>9</th>\n      <td>Security Systems Services</td>\n      <td>Provision of security systems, surveillance, a...</td>\n    </tr>\n  </tbody>\n</table>\n</div>"
     },
     "execution_count": 110,
     "metadata": {},
     "output_type": "execute_result"
    }
   ],
   "source": [
    "jsonindustries = [\n",
    "    {\"industry\": \"nan\", \"description\": \"Not applicable or not available\"},\n",
    "    {\"industry\": \"Ordnance And Accessories\", \"description\": \"Manufacturing and supply of military equipment and accessories\"},\n",
    "    {\"industry\": \"Motor Vehicles\", \"description\": \"Production and sale of automobiles and motorcycles\"},\n",
    "    {\"industry\": \"Assisted Living Services\", \"description\": \"Provision of residential care and personal assistance for the elderly or disabled\"},\n",
    "    {\"industry\": \"Medicinal Chemicals and Botanical Products\", \"description\": \"Manufacture of pharmaceutical substances and natural medicinal products\"},\n",
    "    {\"industry\": \"Building Materials\", \"description\": \"Production and distribution of materials used in construction\"},\n",
    "    {\"industry\": \"Books\", \"description\": \"Publishing, distribution, and retail of printed books and ebooks\"},\n",
    "    {\"industry\": \"Finance Companies\", \"description\": \"Financial services such as loans, credit facilities, and investment products\"},\n",
    "    {\"industry\": \"Tools/Hardware\", \"description\": \"Manufacture and sale of hand tools, power tools, and hardware supplies\"},\n",
    "    {\"industry\": \"Security Systems Services\", \"description\": \"Provision of security systems, surveillance, and monitoring services\"}\n",
    "]\n",
    "\n",
    "# Creating a DataFrame\n",
    "industry_df = pd.DataFrame(jsonindustries)\n",
    "industry_df"
   ],
   "metadata": {
    "collapsed": false,
    "ExecuteTime": {
     "end_time": "2023-11-30T23:23:21.614443Z",
     "start_time": "2023-11-30T23:23:21.602387Z"
    }
   },
   "id": "65d1ce06979a2980"
  },
  {
   "cell_type": "code",
   "execution_count": 113,
   "outputs": [
    {
     "data": {
      "text/plain": "                                    industry  \\\n0    Computer Software: Prepackaged Software   \n1                   Natural Gas Distribution   \n2                                Major Banks   \n3            Industrial Machinery/Components   \n4                             Semiconductors   \n..                                       ...   \n140                       Building Materials   \n141                                    Books   \n142                        Finance Companies   \n143                           Tools/Hardware   \n144                Security Systems Services   \n\n                                  industry_description  \n0    Software development and distribution for gene...  \n1    Distribution of natural gas for various purposes.  \n2    Large-scale banking institutions with signific...  \n3    Manufacturers of industrial machinery and rela...  \n4    Companies involved in the design and productio...  \n..                                                 ...  \n140  Production and distribution of materials used ...  \n141  Publishing, distribution, and retail of printe...  \n142  Financial services such as loans, credit facil...  \n143  Manufacture and sale of hand tools, power tool...  \n144  Provision of security systems, surveillance, a...  \n\n[145 rows x 2 columns]",
      "text/html": "<div>\n<style scoped>\n    .dataframe tbody tr th:only-of-type {\n        vertical-align: middle;\n    }\n\n    .dataframe tbody tr th {\n        vertical-align: top;\n    }\n\n    .dataframe thead th {\n        text-align: right;\n    }\n</style>\n<table border=\"1\" class=\"dataframe\">\n  <thead>\n    <tr style=\"text-align: right;\">\n      <th></th>\n      <th>industry</th>\n      <th>industry_description</th>\n    </tr>\n  </thead>\n  <tbody>\n    <tr>\n      <th>0</th>\n      <td>Computer Software: Prepackaged Software</td>\n      <td>Software development and distribution for gene...</td>\n    </tr>\n    <tr>\n      <th>1</th>\n      <td>Natural Gas Distribution</td>\n      <td>Distribution of natural gas for various purposes.</td>\n    </tr>\n    <tr>\n      <th>2</th>\n      <td>Major Banks</td>\n      <td>Large-scale banking institutions with signific...</td>\n    </tr>\n    <tr>\n      <th>3</th>\n      <td>Industrial Machinery/Components</td>\n      <td>Manufacturers of industrial machinery and rela...</td>\n    </tr>\n    <tr>\n      <th>4</th>\n      <td>Semiconductors</td>\n      <td>Companies involved in the design and productio...</td>\n    </tr>\n    <tr>\n      <th>...</th>\n      <td>...</td>\n      <td>...</td>\n    </tr>\n    <tr>\n      <th>140</th>\n      <td>Building Materials</td>\n      <td>Production and distribution of materials used ...</td>\n    </tr>\n    <tr>\n      <th>141</th>\n      <td>Books</td>\n      <td>Publishing, distribution, and retail of printe...</td>\n    </tr>\n    <tr>\n      <th>142</th>\n      <td>Finance Companies</td>\n      <td>Financial services such as loans, credit facil...</td>\n    </tr>\n    <tr>\n      <th>143</th>\n      <td>Tools/Hardware</td>\n      <td>Manufacture and sale of hand tools, power tool...</td>\n    </tr>\n    <tr>\n      <th>144</th>\n      <td>Security Systems Services</td>\n      <td>Provision of security systems, surveillance, a...</td>\n    </tr>\n  </tbody>\n</table>\n<p>145 rows × 2 columns</p>\n</div>"
     },
     "execution_count": 113,
     "metadata": {},
     "output_type": "execute_result"
    }
   ],
   "source": [
    "industry_descriptions = pd.concat([industry_enriched, industry_df], ignore_index=True)\n",
    "\n",
    "industry_descriptions.rename(columns={'description': 'industry_description'}, inplace=True)\n",
    "\n",
    "industry_descriptions"
   ],
   "metadata": {
    "collapsed": false,
    "ExecuteTime": {
     "end_time": "2023-11-30T23:23:57.976551Z",
     "start_time": "2023-11-30T23:23:57.968994Z"
    }
   },
   "id": "e2c74f49e2ef5b39"
  },
  {
   "cell_type": "code",
   "execution_count": 114,
   "outputs": [
    {
     "data": {
      "text/plain": "                    sector                                 sector_description\n0              Health Care  The Health Care sector consists of companies i...\n1        Consumer Services  The Consumer Services sector includes business...\n2   Consumer Discretionary  The Consumer Discretionary sector comprises co...\n3                  Finance  The Finance sector includes companies involved...\n4    Consumer Non-Durables  The Consumer Non-Durables sector encompasses c...\n5               Technology  The Technology sector comprises companies invo...\n6              Industrials  The Industrials sector includes companies enga...\n7         Public Utilities  The Public Utilities sector comprises companie...\n8                   Energy  The Energy sector includes companies engaged i...\n9            Capital Goods  The Capital Goods sector consists of companies...\n10             Real Estate  The Real Estate sector includes businesses inv...\n11       Consumer Durables  The Consumer Durables sector encompasses compa...\n12           Miscellaneous  The Miscellaneous sector comprises companies i...\n13        Basic Industries  The Basic Industries sector includes companies...\n14               Utilities  The Utilities sector comprises companies invol...\n15          Transportation  The Transportation sector includes companies e...\n16        Consumer Staples  The Consumer Staples sector consists of compan...\n17      Telecommunications  The Telecommunications sector includes compani...\n18         Basic Materials  The Basic Materials sector comprises companies...",
      "text/html": "<div>\n<style scoped>\n    .dataframe tbody tr th:only-of-type {\n        vertical-align: middle;\n    }\n\n    .dataframe tbody tr th {\n        vertical-align: top;\n    }\n\n    .dataframe thead th {\n        text-align: right;\n    }\n</style>\n<table border=\"1\" class=\"dataframe\">\n  <thead>\n    <tr style=\"text-align: right;\">\n      <th></th>\n      <th>sector</th>\n      <th>sector_description</th>\n    </tr>\n  </thead>\n  <tbody>\n    <tr>\n      <th>0</th>\n      <td>Health Care</td>\n      <td>The Health Care sector consists of companies i...</td>\n    </tr>\n    <tr>\n      <th>1</th>\n      <td>Consumer Services</td>\n      <td>The Consumer Services sector includes business...</td>\n    </tr>\n    <tr>\n      <th>2</th>\n      <td>Consumer Discretionary</td>\n      <td>The Consumer Discretionary sector comprises co...</td>\n    </tr>\n    <tr>\n      <th>3</th>\n      <td>Finance</td>\n      <td>The Finance sector includes companies involved...</td>\n    </tr>\n    <tr>\n      <th>4</th>\n      <td>Consumer Non-Durables</td>\n      <td>The Consumer Non-Durables sector encompasses c...</td>\n    </tr>\n    <tr>\n      <th>5</th>\n      <td>Technology</td>\n      <td>The Technology sector comprises companies invo...</td>\n    </tr>\n    <tr>\n      <th>6</th>\n      <td>Industrials</td>\n      <td>The Industrials sector includes companies enga...</td>\n    </tr>\n    <tr>\n      <th>7</th>\n      <td>Public Utilities</td>\n      <td>The Public Utilities sector comprises companie...</td>\n    </tr>\n    <tr>\n      <th>8</th>\n      <td>Energy</td>\n      <td>The Energy sector includes companies engaged i...</td>\n    </tr>\n    <tr>\n      <th>9</th>\n      <td>Capital Goods</td>\n      <td>The Capital Goods sector consists of companies...</td>\n    </tr>\n    <tr>\n      <th>10</th>\n      <td>Real Estate</td>\n      <td>The Real Estate sector includes businesses inv...</td>\n    </tr>\n    <tr>\n      <th>11</th>\n      <td>Consumer Durables</td>\n      <td>The Consumer Durables sector encompasses compa...</td>\n    </tr>\n    <tr>\n      <th>12</th>\n      <td>Miscellaneous</td>\n      <td>The Miscellaneous sector comprises companies i...</td>\n    </tr>\n    <tr>\n      <th>13</th>\n      <td>Basic Industries</td>\n      <td>The Basic Industries sector includes companies...</td>\n    </tr>\n    <tr>\n      <th>14</th>\n      <td>Utilities</td>\n      <td>The Utilities sector comprises companies invol...</td>\n    </tr>\n    <tr>\n      <th>15</th>\n      <td>Transportation</td>\n      <td>The Transportation sector includes companies e...</td>\n    </tr>\n    <tr>\n      <th>16</th>\n      <td>Consumer Staples</td>\n      <td>The Consumer Staples sector consists of compan...</td>\n    </tr>\n    <tr>\n      <th>17</th>\n      <td>Telecommunications</td>\n      <td>The Telecommunications sector includes compani...</td>\n    </tr>\n    <tr>\n      <th>18</th>\n      <td>Basic Materials</td>\n      <td>The Basic Materials sector comprises companies...</td>\n    </tr>\n  </tbody>\n</table>\n</div>"
     },
     "execution_count": 114,
     "metadata": {},
     "output_type": "execute_result"
    }
   ],
   "source": [
    "sector_descriptions = {\n",
    "    'Health Care': 'The Health Care sector consists of companies involved in providing medical services, manufacturing medical equipment and supplies, and developing pharmaceuticals and biotechnology products.',\n",
    "    'Consumer Services': 'The Consumer Services sector includes businesses involved in providing personal and recreational services, such as media and entertainment companies, hotels, restaurants, and retail services.',\n",
    "    'Consumer Discretionary': 'The Consumer Discretionary sector comprises companies engaged in manufacturing and selling non-essential consumer products, including automobiles, apparel, and household goods.',\n",
    "    'Finance': 'The Finance sector includes companies involved in providing financial services, such as commercial banks, investment firms, insurance companies, and real estate investment trusts (REITs).',\n",
    "    'Consumer Non-Durables': 'The Consumer Non-Durables sector encompasses companies involved in manufacturing and distributing fast-moving consumer goods, including food, beverages, toiletries, and household products.',\n",
    "    'Technology': 'The Technology sector comprises companies involved in manufacturing and distributing technology products, providing software and IT services, and developing new technological innovations.',\n",
    "    'Industrials': 'The Industrials sector includes companies engaged in manufacturing industrial products, providing commercial services, and constructing and selling infrastructure and equipments.',\n",
    "    'Public Utilities': 'The Public Utilities sector comprises companies involved in providing essential services, such as electricity, water, and natural gas, to the public.',\n",
    "    'Energy': 'The Energy sector includes companies engaged in exploration, production, refining, and distribution of oil, natural gas, and other energy sources.',\n",
    "    'Capital Goods': 'The Capital Goods sector consists of companies involved in manufacturing and distributing industrial equipment, machinery, and construction materials.',\n",
    "    'Real Estate': 'The Real Estate sector includes businesses involved in the development, management, and sale of real estate properties, including residential, commercial, and industrial.',\n",
    "    'Consumer Durables': 'The Consumer Durables sector encompasses companies involved in manufacturing durable consumer goods, such as appliances, furniture, and automobiles.',\n",
    "    'Miscellaneous': 'The Miscellaneous sector comprises companies involved in various industries that do not fit into the other predefined sectors.',\n",
    "    'Basic Industries': 'The Basic Industries sector includes companies engaged in the extraction, production, and distribution of raw materials, such as metals, chemicals, and forestry products.',\n",
    "    'Utilities': 'The Utilities sector comprises companies involved in providing essential services, such as electricity, water, and natural gas, to both residential and commercial customers.',\n",
    "    'Transportation': 'The Transportation sector includes companies engaged in the transportation of goods and passengers through various modes, such as airlines, railways, shipping, and logistics.',\n",
    "    'Consumer Staples': 'The Consumer Staples sector consists of companies involved in manufacturing and distributing essential consumer products, such as food, beverages, tobacco, and household items.',\n",
    "    'Telecommunications': 'The Telecommunications sector includes companies involved in providing communication services, such as landline and mobile phone services, internet access, and cable television.',\n",
    "    'Basic Materials': 'The Basic Materials sector comprises companies engaged in the extraction, processing, and distribution of basic raw materials, such as metals, chemicals, and construction materials.'\n",
    "}\n",
    "\n",
    "# Removing all newline characters from the dictionary values\n",
    "cleaned_sector_descriptions = {key: value.replace('\\n', ' ') for key, value in sector_descriptions.items()}\n",
    "\n",
    "sector_descriptions = pd.DataFrame(list(cleaned_sector_descriptions.items()), columns=['sector', 'sector_description'])\n",
    "\n",
    "sector_descriptions"
   ],
   "metadata": {
    "collapsed": false,
    "ExecuteTime": {
     "end_time": "2023-11-30T23:26:40.413049Z",
     "start_time": "2023-11-30T23:26:40.310568Z"
    }
   },
   "id": "4ea0b938cd42399f"
  },
  {
   "cell_type": "code",
   "execution_count": 115,
   "outputs": [],
   "source": [
    "sector_descriptions.to_csv('sector_descriptions.csv', index=False)"
   ],
   "metadata": {
    "collapsed": false,
    "ExecuteTime": {
     "end_time": "2023-11-30T23:27:03.732702Z",
     "start_time": "2023-11-30T23:27:03.694812Z"
    }
   },
   "id": "6f7635de1f2df217"
  },
  {
   "cell_type": "code",
   "execution_count": 117,
   "outputs": [],
   "source": [
    "industry_descriptions.to_csv('industry_descriptions.csv', index=False)"
   ],
   "metadata": {
    "collapsed": false,
    "ExecuteTime": {
     "end_time": "2023-11-30T23:27:20.529588Z",
     "start_time": "2023-11-30T23:27:20.516706Z"
    }
   },
   "id": "f2e0d3016bb99790"
  },
  {
   "cell_type": "code",
   "execution_count": null,
   "outputs": [],
   "source": [],
   "metadata": {
    "collapsed": false
   },
   "id": "cfa419b9b8a61e98"
  }
 ],
 "metadata": {
  "kernelspec": {
   "display_name": "Python 3",
   "language": "python",
   "name": "python3"
  },
  "language_info": {
   "codemirror_mode": {
    "name": "ipython",
    "version": 2
   },
   "file_extension": ".py",
   "mimetype": "text/x-python",
   "name": "python",
   "nbconvert_exporter": "python",
   "pygments_lexer": "ipython2",
   "version": "2.7.6"
  }
 },
 "nbformat": 4,
 "nbformat_minor": 5
}
