{
 "cells": [
  {
   "cell_type": "code",
   "execution_count": 27,
   "metadata": {
    "ExecuteTime": {
     "end_time": "2023-11-30T21:52:47.843809Z",
     "start_time": "2023-11-30T21:52:47.832504Z"
    }
   },
   "outputs": [],
   "source": [
    "import pandas as pd\n",
    "import requests\n",
    "from openai import OpenAI"
   ]
  },
  {
   "cell_type": "code",
   "execution_count": 28,
   "metadata": {
    "ExecuteTime": {
     "end_time": "2023-11-30T21:52:48.191601Z",
     "start_time": "2023-11-30T21:52:48.182672Z"
    }
   },
   "outputs": [
    {
     "data": {
      "text/plain": "array(['Committee on Administration', 'Committee on Agriculture',\n       'Committee on Appropriations', 'Committee on Armed Services',\n       'Committee on Education and the Workforce',\n       'Committee on Energy and Commerce', 'Committee on Ethics',\n       'Committee on Financial Services', 'Committee on Foreign Affairs',\n       'Committee on Homeland Security', 'Committee on Natural Resources',\n       'Committee on Oversight and Accountability', 'Committee on Rules',\n       'Committee on Science, Space, and Technology',\n       'Committee on Small Business', 'Committee on the Budget',\n       'Committee on the Judiciary',\n       'Committee on Transportation and Infrastructure',\n       \"Committee on Veterans' Affairs\", 'Committee on Ways and Means',\n       'Permanent Select Committee on Intelligence',\n       'Select Committee on the Climate Crisis',\n       'Select Committee on the Modernization of Congress',\n       'Committee on Agriculture, Nutrition, and Forestry',\n       'Committee on Banking, Housing, and Urban Affairs',\n       'Committee on Commerce, Science, and Transportation',\n       'Committee on Energy and Natural Resources',\n       'Committee on Environment and Public Works',\n       'Committee on Finance', 'Committee on Foreign Relations',\n       'Committee on Health, Education, Labor, and Pensions',\n       'Committee on Homeland Security and Governmental Affairs',\n       'Committee on Indian Affairs',\n       'Committee on Rules and Administration',\n       'Committee on Small Business and Entrepreneurship',\n       'Select Committee on Ethics', 'Select Committee on Intelligence',\n       'Special Committee on Aging',\n       'United States Caucus on International Narcotics Control',\n       'Commission on Security and Cooperation in Europe',\n       'Joint Committee on Printing', 'Joint Committee on Taxation',\n       'Joint Committee on the Library', 'Joint Economic Committee',\n       'Select Committee on the Strategic Competition Between the United States and the Chinese Communist Party',\n       'Select Subcommittee on the Coronavirus Pandemic',\n       'Select Subcommittee on the Weaponization of the Federal Government'],\n      dtype=object)"
     },
     "execution_count": 28,
     "metadata": {},
     "output_type": "execute_result"
    }
   ],
   "source": [
    "committees = pd.read_csv('prod_data/committees.csv')\n",
    "committees['committee_name'].unique()"
   ]
  },
  {
   "cell_type": "code",
   "execution_count": 29,
   "outputs": [
    {
     "data": {
      "text/plain": "array(['Elections', 'Oversight', 'Modernization',\n       'Nutrition, Foreign Agriculture, and Horticulture',\n       'General Farm Commodities, Risk Management, and Credit',\n       'Forestry',\n       'Commodity Markets, Digital Assets, and Rural Development',\n       'Livestock, Dairy, and Poultry',\n       'Conservation, Research, and Biotechnology',\n       'Agriculture, Rural Development, Food and Drug Administration, and Related Agencies',\n       'Commerce, Justice, Science, and Related Agencies', 'Defense',\n       'Energy and Water Development, and Related Agencies',\n       'Financial Services and General Government', 'Homeland Security',\n       'Interior, Environment, and Related Agencies',\n       'Labor, Health and Human Services, Education, and Related Agencies',\n       'Legislative Branch',\n       'Military Construction, Veterans Affairs, and Related Agencies',\n       'State, Foreign Operations, and Related Programs',\n       'Transportation, Housing and Urban Development, and Related Agencies',\n       'Tactical Air and Land Forces', 'Military Personnel', 'Readiness',\n       'Seapower and Projection Forces', 'Strategic Forces',\n       'Intelligence and Special Operations',\n       'Cyber, Information Technologies, and Innovation',\n       'Early Childhood, Elementary, and Secondary Education',\n       'Health, Employment, Labor, and Pensions',\n       'Higher Education and Workforce Development',\n       'Workforce Protections', 'Civil Rights and Human Services',\n       'Innovation, Data, and Commerce', 'Communications and Technology',\n       'Energy, Climate, and Grid Security', 'Health',\n       'Oversight and Investigations',\n       'Environment, Manufacturing, and Critical Materials',\n       'Capital Markets',\n       'Consumer Protection and Financial Institutions',\n       'Housing and Insurance',\n       'Financial Institutions and Monetary Policy',\n       'National Security, Illicit Finance, and International Financial Institutions',\n       'Diversity and Inclusion',\n       'Digital Assets, Financial Technology and Inclusion', 'Africa',\n       'Indo-Pacific', 'Europe', 'Oversight and Accountability',\n       'Middle East, North Africa, and Central Asia',\n       'Western Hemisphere',\n       'Global Health, Global Human Rights, and International Organizations',\n       'Border Security and Enforcement',\n       'Emergency Management and Technology',\n       'Cybersecurity and Infrastructure Protection',\n       'Counterterrorism, Law Enforcement, and Intelligence',\n       'Oversight, Investigations, and Accountability',\n       'Transportation and Maritime Security',\n       'Energy and Mineral Resources',\n       'Fisheries, Wildlife, Oceans and Insular Affairs', 'Federal Lands',\n       'Water, Wildlife and Fisheries', 'Indian and Insular Affairs',\n       'Information Technology',\n       'Government Operations and the Federal Workforce',\n       'National Security, the Border, and Foreign Affairs',\n       'Environment', 'Health Care and Financial Services',\n       'Intergovernmental Affairs', 'Civil Rights and Civil Liberties',\n       'Economic Growth, Energy Policy, and Regulatory Affairs',\n       'Cybersecurity, Information Technology, and Government Innovation',\n       'Legislative and Budget Process',\n       'Rules and Organization of the House', 'Expedited Procedures',\n       'Energy', 'Investigations and Oversight', 'Space and Aeronautics',\n       'Research and Technology', 'Contracting and Infrastructure',\n       'Oversight, Investigations, and Regulations',\n       'Rural Development, Energy, and Supply Chains',\n       'Underserved, Agricultural, and Rural Business Development',\n       'Economic Growth, Tax, and Capital Access',\n       'Innovation, Entrepreneurship, and Workforce Development',\n       'The Constitution and Limited Government',\n       'Courts, Intellectual Property, and the Internet',\n       'Crime and Federal Government Surveillance',\n       'Immigration Integrity, Security, and Enforcement',\n       'The Administrative State, Regulatory Reform, and Antitrust',\n       'Responsiveness and Accountability to Oversight', 'Aviation',\n       'Coast Guard and Maritime Transportation',\n       'Economic Development, Public Buildings, and Emergency Management',\n       'Highways and Transit',\n       'Railroads, Pipelines, and Hazardous Materials',\n       'Water Resources and Environment',\n       'Disability Assistance and Memorial Affairs',\n       'Economic Opportunity', 'Technology Modernization',\n       'Work and Welfare', 'Tax', 'Social Security', 'Trade',\n       'National Intelligence Enterprise',\n       'Counterterrorism, Counterintelligence, and Counterproliferation',\n       'Intelligence Modernization and Readiness',\n       'Defense Intelligence and Overhead Architecture',\n       'Emerging Threats', 'National Security Agency and Cyber',\n       'Central Intelligence Agency',\n       'Strategic Technologies and Advanced Research',\n       'Commodities, Risk Management, and Trade',\n       'Conservation, Climate, Forestry, and Natural Resources',\n       'Rural Development and Energy',\n       'Livestock, Dairy, Poultry, Local Food Systems, and Food Safety and Security',\n       'Food and Nutrition, Specialty Crops, Organics, and Research',\n       'Labor, Health and Human Services, and Education, and Related Agencies',\n       'Energy and Water Development',\n       'Emerging Threats and Capabilities', 'Personnel', 'Seapower',\n       'Airland', 'Readiness and Management Support', 'Cybersecurity',\n       'Securities, Insurance, and Investment',\n       'Housing, Transportation, and Community Development',\n       'Economic Policy',\n       'National Security and International Trade and Finance',\n       'Financial Institutions and Consumer Protection',\n       'Communications, Technology, Innovation, and the Internet',\n       'Tourism, Competitiveness, and Innovation',\n       'Transportation and Safety', 'Security',\n       'Manufacturing, Trade, and Consumer Protection',\n       'Aviation and Space', 'Science, Oceans, Fisheries, and Weather',\n       'Tourism, Trade, and Export Promotion',\n       'Communications, Media, and Broadband',\n       'Aviation Safety, Operations, and Innovation',\n       'Consumer Protection, Product Safety, and Data Security',\n       'Surface Transportation, Maritime, Freight, and Ports',\n       'Space and Science',\n       'Oceans, Fisheries, Climate Change, and Manufacturing',\n       'Public Lands, Forests, and Mining', 'National Parks',\n       'Water and Power', 'Fisheries, Water, and Wildlife',\n       'Chemical Safety, Waste Management, Environmental Justice, and Regulatory Oversight',\n       'Clean Air, Climate, and Nuclear Safety',\n       'Green Jobs and the New Economy',\n       'Transportation and Infrastructure',\n       'International Trade, Customs, and Global Competitiveness',\n       'Energy, Natural Resources, and Infrastructure',\n       'Fiscal Responsibility and Economic Growth', 'Health Care',\n       'Social Security, Pensions, and Family Policy',\n       'Taxation and IRS Oversight',\n       'International Development and Foreign Assistance, Economic Affairs, International Environmental Protection, and Peace Corps',\n       \"International Operations and Organizations, Human Rights, Democracy, and Global Women's Issues\",\n       'Africa and Global Health Policy',\n       'Europe and Regional Security Cooperation',\n       'East Asia, the Pacific, and International Cybersecurity Policy',\n       'Near East, South Asia, Central Asia, and Counterterrorism',\n       \"Western Hemisphere, Transnational Crime, Civilian Security, Democracy, Human Rights, and Global Women's Issues\",\n       'State Department and USAID Management, International Operations, and Bilateral International Development',\n       'Multilateral International Development, Multilateral Institutions, and International Economic, Energy, and Environmental Policy',\n       'Children and Families', 'Employment and Workplace Safety',\n       'Primary Health and Retirement Security',\n       'Permanent Subcommittee on Investigations',\n       'Financial and Contracting Oversight',\n       'Emergency Management, Intergovernmental Relations, and the District of Columbia',\n       'the Efficiency and Effectiveness of Federal Programs and the Federal Workforce',\n       'Regulatory Affairs and Federal Management',\n       'Federal Spending Oversight and Emergency Management',\n       'Emerging Threats and Spending Oversight',\n       'Government Operations and Border Management',\n       'Competition Policy, Antitrust, and Consumer Rights',\n       'Immigration, Citizenship, and Border Safety',\n       'Criminal Justice and Counterterrorism', 'the Constitution',\n       'Federal Courts, Oversight, Agency Action, and Federal Rights',\n       'Intellectual Property', 'Privacy, Technology, and the Law',\n       'Human Rights and the Law'], dtype=object)"
     },
     "execution_count": 29,
     "metadata": {},
     "output_type": "execute_result"
    }
   ],
   "source": [
    "subcommittees = pd.read_csv('prod_data/subcommittees.csv')\n",
    "subcommittees['subcommittee_name'].unique()"
   ],
   "metadata": {
    "collapsed": false,
    "ExecuteTime": {
     "end_time": "2023-11-30T21:52:49.171702Z",
     "start_time": "2023-11-30T21:52:49.157843Z"
    }
   }
  },
  {
   "cell_type": "code",
   "execution_count": 23,
   "outputs": [
    {
     "data": {
      "text/plain": "ChatCompletion(id='chatcmpl-8QhdIJMvRwu8LQumMy3zGYmDGytvK', choices=[Choice(finish_reason='stop', index=0, message=ChatCompletionMessage(content='Congress is the bicameral legislative branch of the United States government, consisting of the House of Representatives and the Senate, responsible for making laws and representing the interests of the American people.', role='assistant', function_call=None, tool_calls=None))], created=1701374944, model='gpt-3.5-turbo-0613', object='chat.completion', system_fingerprint=None, usage=CompletionUsage(completion_tokens=37, prompt_tokens=30, total_tokens=67))"
     },
     "execution_count": 23,
     "metadata": {},
     "output_type": "execute_result"
    }
   ],
   "source": [
    "prompt = \"Describe congress in one sentance\"\n",
    "\n",
    "completion = client.chat.completions.create(\n",
    "  messages=[\n",
    "    {\"role\": \"system\", \n",
    "     \"content\": \"You are a political expert advising on political structures in the USA.\"},\n",
    "    {\n",
    "      \"role\": \"user\",\n",
    "      \"content\": prompt,\n",
    "    }\n",
    "  ],\n",
    "  model=\"gpt-3.5-turbo\",\n",
    ")\n",
    "\n",
    "completion"
   ],
   "metadata": {
    "collapsed": false,
    "ExecuteTime": {
     "end_time": "2023-11-30T20:09:06.603615Z",
     "start_time": "2023-11-30T20:09:04.040465Z"
    }
   }
  },
  {
   "cell_type": "code",
   "execution_count": 25,
   "outputs": [
    {
     "name": "stdout",
     "output_type": "stream",
     "text": [
      "Congress is the bicameral legislative branch of the United States government, consisting of the House of Representatives and the Senate, responsible for making laws and representing the interests of the American people.\n"
     ]
    }
   ],
   "source": [
    "print(completion.choices[0].message.content)"
   ],
   "metadata": {
    "collapsed": false,
    "ExecuteTime": {
     "end_time": "2023-11-30T20:10:31.513736Z",
     "start_time": "2023-11-30T20:10:31.510220Z"
    }
   }
  },
  {
   "cell_type": "code",
   "execution_count": null,
   "outputs": [],
   "source": [],
   "metadata": {
    "collapsed": false
   }
  }
 ],
 "metadata": {
  "kernelspec": {
   "name": "python3",
   "language": "python",
   "display_name": "Python 3 (ipykernel)"
  },
  "language_info": {
   "codemirror_mode": {
    "name": "ipython",
    "version": 3
   },
   "file_extension": ".py",
   "mimetype": "text/x-python",
   "name": "python",
   "nbconvert_exporter": "python",
   "pygments_lexer": "ipython3",
   "version": "3.9.13"
  },
  "orig_nbformat": 4
 },
 "nbformat": 4,
 "nbformat_minor": 2
}
